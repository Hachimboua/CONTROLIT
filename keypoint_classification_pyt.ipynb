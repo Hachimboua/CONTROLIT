{
 "cells": [
  {
   "cell_type": "code",
   "execution_count": 61,
   "id": "9cdc8b86-cdef-4e61-b2e8-3cd389e40f19",
   "metadata": {},
   "outputs": [],
   "source": [
    "import numpy as np\n",
    "import torch\n",
    "from torch.utils.data import DataLoader, TensorDataset, random_split\n",
    "import torch.nn as nn\n",
    "import torch.nn.functional as F\n",
    "import pytorch_lightning as pl\n",
    "from sklearn.model_selection import train_test_split"
   ]
  },
  {
   "cell_type": "code",
   "execution_count": 62,
   "id": "ed5c8588-7f6e-4988-af7d-a2e960db5954",
   "metadata": {},
   "outputs": [
    {
     "name": "stderr",
     "output_type": "stream",
     "text": [
      "Seed set to 42\n"
     ]
    },
    {
     "data": {
      "text/plain": [
       "42"
      ]
     },
     "execution_count": 62,
     "metadata": {},
     "output_type": "execute_result"
    }
   ],
   "source": [
    "# Configuration\n",
    "RANDOM_SEED = 42\n",
    "pl.seed_everything(RANDOM_SEED)"
   ]
  },
  {
   "cell_type": "code",
   "execution_count": 63,
   "id": "175f1668-fc0b-404f-a86f-5c96cf5c7c9f",
   "metadata": {},
   "outputs": [],
   "source": [
    "dataset_path = 'model/keypoint_classifier/keypoint.csv'\n",
    "model_save_path = 'model/keypoint_classifier/keypoint_classifier.ckpt'\n",
    "NUM_CLASSES = 5"
   ]
  },
  {
   "cell_type": "code",
   "execution_count": 64,
   "id": "72aa669f-f09c-4596-ac82-e83845e6333d",
   "metadata": {},
   "outputs": [],
   "source": [
    "# Load dataset\n",
    "X = np.loadtxt(dataset_path, delimiter=',', dtype='float32', usecols=list(range(1, 21 * 2 + 1)))\n",
    "y = np.loadtxt(dataset_path, delimiter=',', dtype='int32', usecols=(0))"
   ]
  },
  {
   "cell_type": "code",
   "execution_count": 65,
   "id": "7f866a39-9f70-4539-b82d-45eb049dbf9b",
   "metadata": {},
   "outputs": [],
   "source": [
    "# Train/test split\n",
    "X_train, X_test, y_train, y_test = train_test_split(X, y, train_size=0.75, random_state=RANDOM_SEED)"
   ]
  },
  {
   "cell_type": "code",
   "execution_count": 66,
   "id": "8bf656f9-de93-403f-bf9c-8aee000edd52",
   "metadata": {},
   "outputs": [],
   "source": [
    "# Convert to torch tensors\n",
    "X_train_tensor = torch.tensor(X_train, dtype=torch.float32)\n",
    "y_train_tensor = torch.tensor(y_train, dtype=torch.long)\n",
    "X_test_tensor = torch.tensor(X_test, dtype=torch.float32)\n",
    "y_test_tensor = torch.tensor(y_test, dtype=torch.long)\n",
    "\n",
    "train_dataset = TensorDataset(X_train_tensor, y_train_tensor)\n",
    "test_dataset = TensorDataset(X_test_tensor, y_test_tensor)\n",
    "\n",
    "train_loader = DataLoader(train_dataset, batch_size=128, shuffle=True)\n",
    "val_loader = DataLoader(test_dataset, batch_size=128)"
   ]
  },
  {
   "cell_type": "code",
   "execution_count": 67,
   "id": "ba417296-8c19-48e7-91e3-e0b4d3dc3999",
   "metadata": {},
   "outputs": [],
   "source": [
    "from torchmetrics.classification import Accuracy\n"
   ]
  },
  {
   "cell_type": "code",
   "execution_count": 68,
   "id": "ee2a1133-7efd-48ef-9332-33c84a8ffb55",
   "metadata": {},
   "outputs": [],
   "source": [
    "# Lightning module\n",
    "class KeypointClassifier(pl.LightningModule):\n",
    "    def __init__(self):\n",
    "        super().__init__()\n",
    "        self.model = nn.Sequential(\n",
    "            nn.Dropout(0.2),\n",
    "            nn.Linear(21 * 2, 20),\n",
    "            nn.ReLU(),\n",
    "            nn.Dropout(0.4),\n",
    "            nn.Linear(20, 10),\n",
    "            nn.ReLU(),\n",
    "            nn.Linear(10, NUM_CLASSES)\n",
    "        )\n",
    "        self.accuracy = Accuracy(task='multiclass', num_classes=NUM_CLASSES)\n",
    "\n",
    "    def forward(self, x):\n",
    "        return self.model(x)\n",
    "\n",
    "    def training_step(self, batch, batch_idx):\n",
    "        x, y = batch\n",
    "        logits = self(x)\n",
    "        loss = F.cross_entropy(logits, y)\n",
    "        acc = self.accuracy(logits, y)\n",
    "        self.log('train_loss', loss)\n",
    "        self.log('train_acc', acc, prog_bar=True)\n",
    "        return loss\n",
    "\n",
    "    def validation_step(self, batch, batch_idx):\n",
    "        x, y = batch\n",
    "        logits = self(x)\n",
    "        loss = F.cross_entropy(logits, y)\n",
    "        acc = self.accuracy(logits, y)\n",
    "        self.log('val_loss', loss)\n",
    "        self.log('val_acc', acc, prog_bar=True)\n",
    "\n",
    "    def configure_optimizers(self):\n",
    "        return torch.optim.Adam(self.parameters(), lr=1e-3)"
   ]
  },
  {
   "cell_type": "code",
   "execution_count": 69,
   "id": "b0c3b529-32ea-4be3-b201-64c1ef6ae530",
   "metadata": {},
   "outputs": [],
   "source": [
    "# Initialize model\n",
    "model = KeypointClassifier()"
   ]
  },
  {
   "cell_type": "code",
   "execution_count": 70,
   "id": "da6a63a2-36ef-4236-81af-b4449c0d234b",
   "metadata": {},
   "outputs": [],
   "source": [
    "# Callbacks\n",
    "early_stop_callback = pl.callbacks.EarlyStopping(monitor=\"val_loss\", patience=20, verbose=True)\n",
    "checkpoint_callback = pl.callbacks.ModelCheckpoint(\n",
    "    dirpath='model/keypoint_classifier/',\n",
    "    filename='keypoint_classifier',\n",
    "    save_top_k=1,\n",
    "    monitor='val_loss',\n",
    "    mode='min'\n",
    ")"
   ]
  },
  {
   "cell_type": "code",
   "execution_count": 71,
   "id": "47df2f96-fc5c-4ba5-93af-d7c64622df45",
   "metadata": {},
   "outputs": [
    {
     "name": "stderr",
     "output_type": "stream",
     "text": [
      "GPU available: False, used: False\n",
      "TPU available: False, using: 0 TPU cores\n",
      "HPU available: False, using: 0 HPUs\n"
     ]
    }
   ],
   "source": [
    "# Trainer\n",
    "trainer = pl.Trainer(\n",
    "    max_epochs=1000,\n",
    "    callbacks=[early_stop_callback, checkpoint_callback],\n",
    "    deterministic=True\n",
    ")"
   ]
  },
  {
   "cell_type": "code",
   "execution_count": 72,
   "id": "3254479f-6a7e-4dde-89f3-60d95fb4dff4",
   "metadata": {},
   "outputs": [
    {
     "name": "stderr",
     "output_type": "stream",
     "text": [
      "C:\\Users\\houci\\AppData\\Local\\Programs\\Python\\Python38\\lib\\site-packages\\pytorch_lightning\\callbacks\\model_checkpoint.py:654: Checkpoint directory C:\\Users\\houci\\Documents\\ENSAM\\3eme annee\\S6\\Computer Vision\\CONTROLIT\\model\\keypoint_classifier exists and is not empty.\n",
      "\n",
      "  | Name     | Type               | Params | Mode \n",
      "--------------------------------------------------------\n",
      "0 | model    | Sequential         | 1.1 K  | train\n",
      "1 | accuracy | MulticlassAccuracy | 0      | train\n",
      "--------------------------------------------------------\n",
      "1.1 K     Trainable params\n",
      "0         Non-trainable params\n",
      "1.1 K     Total params\n",
      "0.004     Total estimated model params size (MB)\n",
      "9         Modules in train mode\n",
      "0         Modules in eval mode\n"
     ]
    },
    {
     "name": "stdout",
     "output_type": "stream",
     "text": [
      "                                                                                                                       "
     ]
    },
    {
     "name": "stderr",
     "output_type": "stream",
     "text": [
      "C:\\Users\\houci\\AppData\\Local\\Programs\\Python\\Python38\\lib\\site-packages\\pytorch_lightning\\trainer\\connectors\\data_connector.py:424: The 'val_dataloader' does not have many workers which may be a bottleneck. Consider increasing the value of the `num_workers` argument` to `num_workers=3` in the `DataLoader` to improve performance.\n",
      "C:\\Users\\houci\\AppData\\Local\\Programs\\Python\\Python38\\lib\\site-packages\\pytorch_lightning\\trainer\\connectors\\data_connector.py:424: The 'train_dataloader' does not have many workers which may be a bottleneck. Consider increasing the value of the `num_workers` argument` to `num_workers=3` in the `DataLoader` to improve performance.\n",
      "C:\\Users\\houci\\AppData\\Local\\Programs\\Python\\Python38\\lib\\site-packages\\pytorch_lightning\\loops\\fit_loop.py:298: The number of training batches (22) is smaller than the logging interval Trainer(log_every_n_steps=50). Set a lower value for log_every_n_steps if you want to see logs for the training epoch.\n"
     ]
    },
    {
     "name": "stdout",
     "output_type": "stream",
     "text": [
      "Epoch 0: 100%|██████████████████████████████████████████████| 22/22 [00:00<00:00, 68.69it/s, v_num=13, train_acc=0.133]\n",
      "Validation: |                                                                                    | 0/? [00:00<?, ?it/s]\u001b[A\n",
      "Validation:   0%|                                                                                | 0/8 [00:00<?, ?it/s]\u001b[A\n",
      "Validation DataLoader 0:   0%|                                                                   | 0/8 [00:00<?, ?it/s]\u001b[A\n",
      "Validation DataLoader 0:  12%|███████▍                                                   | 1/8 [00:00<00:00, 65.42it/s]\u001b[A\n",
      "Validation DataLoader 0:  25%|██████████████▊                                            | 2/8 [00:00<00:00, 74.98it/s]\u001b[A\n",
      "Validation DataLoader 0:  38%|██████████████████████▏                                    | 3/8 [00:00<00:00, 74.94it/s]\u001b[A\n",
      "Validation DataLoader 0:  50%|█████████████████████████████▌                             | 4/8 [00:00<00:00, 75.75it/s]\u001b[A\n",
      "Validation DataLoader 0:  62%|████████████████████████████████████▉                      | 5/8 [00:00<00:00, 76.40it/s]\u001b[A\n",
      "Validation DataLoader 0:  75%|████████████████████████████████████████████▎              | 6/8 [00:00<00:00, 74.72it/s]\u001b[A\n",
      "Validation DataLoader 0:  88%|███████████████████████████████████████████████████▋       | 7/8 [00:00<00:00, 75.28it/s]\u001b[A\n",
      "Validation DataLoader 0: 100%|███████████████████████████████████████████████████████████| 8/8 [00:00<00:00, 78.46it/s]\u001b[A\n",
      "Epoch 0: 100%|███████████████████████████████| 22/22 [00:00<00:00, 47.28it/s, v_num=13, train_acc=0.133, val_acc=0.272]\u001b[A"
     ]
    },
    {
     "name": "stderr",
     "output_type": "stream",
     "text": [
      "Metric val_loss improved. New best score: 1.630\n"
     ]
    },
    {
     "name": "stdout",
     "output_type": "stream",
     "text": [
      "Epoch 1: 100%|███████████████████████████████| 22/22 [00:00<00:00, 53.26it/s, v_num=13, train_acc=0.267, val_acc=0.272]\n",
      "Validation: |                                                                                    | 0/? [00:00<?, ?it/s]\u001b[A\n",
      "Validation:   0%|                                                                                | 0/8 [00:00<?, ?it/s]\u001b[A\n",
      "Validation DataLoader 0:   0%|                                                                   | 0/8 [00:00<?, ?it/s]\u001b[A\n",
      "Validation DataLoader 0:  12%|███████▍                                                   | 1/8 [00:00<00:00, 55.70it/s]\u001b[A\n",
      "Validation DataLoader 0:  25%|██████████████▊                                            | 2/8 [00:00<00:00, 64.69it/s]\u001b[A\n",
      "Validation DataLoader 0:  38%|██████████████████████▏                                    | 3/8 [00:00<00:00, 68.36it/s]\u001b[A\n",
      "Validation DataLoader 0:  50%|█████████████████████████████▌                             | 4/8 [00:00<00:00, 72.89it/s]\u001b[A\n",
      "Validation DataLoader 0:  62%|████████████████████████████████████▉                      | 5/8 [00:00<00:00, 73.72it/s]\u001b[A\n",
      "Validation DataLoader 0:  75%|████████████████████████████████████████████▎              | 6/8 [00:00<00:00, 76.34it/s]\u001b[A\n",
      "Validation DataLoader 0:  88%|███████████████████████████████████████████████████▋       | 7/8 [00:00<00:00, 76.80it/s]\u001b[A\n",
      "Validation DataLoader 0: 100%|███████████████████████████████████████████████████████████| 8/8 [00:00<00:00, 78.28it/s]\u001b[A\n",
      "Epoch 1: 100%|███████████████████████████████| 22/22 [00:00<00:00, 39.45it/s, v_num=13, train_acc=0.267, val_acc=0.376]\u001b[A"
     ]
    },
    {
     "name": "stderr",
     "output_type": "stream",
     "text": [
      "Metric val_loss improved by 0.178 >= min_delta = 0.0. New best score: 1.452\n"
     ]
    },
    {
     "name": "stdout",
     "output_type": "stream",
     "text": [
      "Epoch 2: 100%|███████████████████████████████| 22/22 [00:00<00:00, 71.19it/s, v_num=13, train_acc=0.400, val_acc=0.376]\n",
      "Validation: |                                                                                    | 0/? [00:00<?, ?it/s]\u001b[A\n",
      "Validation:   0%|                                                                                | 0/8 [00:00<?, ?it/s]\u001b[A\n",
      "Validation DataLoader 0:   0%|                                                                   | 0/8 [00:00<?, ?it/s]\u001b[A\n",
      "Validation DataLoader 0:  12%|███████▍                                                   | 1/8 [00:00<00:00, 63.60it/s]\u001b[A\n",
      "Validation DataLoader 0:  25%|██████████████▊                                            | 2/8 [00:00<00:00, 77.82it/s]\u001b[A\n",
      "Validation DataLoader 0:  38%|██████████████████████▏                                    | 3/8 [00:00<00:00, 80.29it/s]\u001b[A\n",
      "Validation DataLoader 0:  50%|█████████████████████████████▌                             | 4/8 [00:00<00:00, 78.42it/s]\u001b[A\n",
      "Validation DataLoader 0:  62%|████████████████████████████████████▉                      | 5/8 [00:00<00:00, 83.36it/s]\u001b[A\n",
      "Validation DataLoader 0:  75%|████████████████████████████████████████████▎              | 6/8 [00:00<00:00, 82.43it/s]\u001b[A\n",
      "Validation DataLoader 0:  88%|███████████████████████████████████████████████████▋       | 7/8 [00:00<00:00, 81.96it/s]\u001b[A\n",
      "Validation DataLoader 0: 100%|███████████████████████████████████████████████████████████| 8/8 [00:00<00:00, 81.32it/s]\u001b[A\n",
      "Epoch 2: 100%|███████████████████████████████| 22/22 [00:00<00:00, 48.59it/s, v_num=13, train_acc=0.400, val_acc=0.408]\u001b[A"
     ]
    },
    {
     "name": "stderr",
     "output_type": "stream",
     "text": [
      "Metric val_loss improved by 0.201 >= min_delta = 0.0. New best score: 1.251\n"
     ]
    },
    {
     "name": "stdout",
     "output_type": "stream",
     "text": [
      "Epoch 3: 100%|███████████████████████████████| 22/22 [00:00<00:00, 72.81it/s, v_num=13, train_acc=0.533, val_acc=0.408]\n",
      "Validation: |                                                                                    | 0/? [00:00<?, ?it/s]\u001b[A\n",
      "Validation:   0%|                                                                                | 0/8 [00:00<?, ?it/s]\u001b[A\n",
      "Validation DataLoader 0:   0%|                                                                   | 0/8 [00:00<?, ?it/s]\u001b[A\n",
      "Validation DataLoader 0:  12%|███████▍                                                   | 1/8 [00:00<00:00, 73.84it/s]\u001b[A\n",
      "Validation DataLoader 0:  25%|██████████████▊                                            | 2/8 [00:00<00:00, 67.47it/s]\u001b[A\n",
      "Validation DataLoader 0:  38%|██████████████████████▏                                    | 3/8 [00:00<00:00, 72.44it/s]\u001b[A\n",
      "Validation DataLoader 0:  50%|█████████████████████████████▌                             | 4/8 [00:00<00:00, 74.15it/s]\u001b[A\n",
      "Validation DataLoader 0:  62%|████████████████████████████████████▉                      | 5/8 [00:00<00:00, 75.86it/s]\u001b[A\n",
      "Validation DataLoader 0:  75%|████████████████████████████████████████████▎              | 6/8 [00:00<00:00, 77.30it/s]\u001b[A\n",
      "Validation DataLoader 0:  88%|███████████████████████████████████████████████████▋       | 7/8 [00:00<00:00, 80.17it/s]\u001b[A\n",
      "Validation DataLoader 0: 100%|███████████████████████████████████████████████████████████| 8/8 [00:00<00:00, 82.24it/s]\u001b[A\n",
      "Epoch 3: 100%|███████████████████████████████| 22/22 [00:00<00:00, 51.02it/s, v_num=13, train_acc=0.533, val_acc=0.690]\u001b[A"
     ]
    },
    {
     "name": "stderr",
     "output_type": "stream",
     "text": [
      "Metric val_loss improved by 0.140 >= min_delta = 0.0. New best score: 1.110\n"
     ]
    },
    {
     "name": "stdout",
     "output_type": "stream",
     "text": [
      "Epoch 4: 100%|███████████████████████████████| 22/22 [00:00<00:00, 70.53it/s, v_num=13, train_acc=0.533, val_acc=0.690]\n",
      "Validation: |                                                                                    | 0/? [00:00<?, ?it/s]\u001b[A\n",
      "Validation:   0%|                                                                                | 0/8 [00:00<?, ?it/s]\u001b[A\n",
      "Validation DataLoader 0:   0%|                                                                   | 0/8 [00:00<?, ?it/s]\u001b[A\n",
      "Validation DataLoader 0:  12%|███████▍                                                   | 1/8 [00:00<00:00, 63.22it/s]\u001b[A\n",
      "Validation DataLoader 0:  25%|██████████████▊                                            | 2/8 [00:00<00:00, 77.27it/s]\u001b[A\n",
      "Validation DataLoader 0:  38%|██████████████████████▏                                    | 3/8 [00:00<00:00, 79.96it/s]\u001b[A\n",
      "Validation DataLoader 0:  50%|█████████████████████████████▌                             | 4/8 [00:00<00:00, 81.33it/s]\u001b[A\n",
      "Validation DataLoader 0:  62%|████████████████████████████████████▉                      | 5/8 [00:00<00:00, 80.46it/s]\u001b[A\n",
      "Validation DataLoader 0:  75%|████████████████████████████████████████████▎              | 6/8 [00:00<00:00, 80.96it/s]\u001b[A\n",
      "Validation DataLoader 0:  88%|███████████████████████████████████████████████████▋       | 7/8 [00:00<00:00, 80.39it/s]\u001b[A\n",
      "Validation DataLoader 0: 100%|███████████████████████████████████████████████████████████| 8/8 [00:00<00:00, 83.28it/s]\u001b[A\n",
      "Epoch 4: 100%|███████████████████████████████| 22/22 [00:00<00:00, 50.03it/s, v_num=13, train_acc=0.533, val_acc=0.705]\u001b[A"
     ]
    },
    {
     "name": "stderr",
     "output_type": "stream",
     "text": [
      "Metric val_loss improved by 0.084 >= min_delta = 0.0. New best score: 1.026\n"
     ]
    },
    {
     "name": "stdout",
     "output_type": "stream",
     "text": [
      "Epoch 5: 100%|███████████████████████████████| 22/22 [00:00<00:00, 71.10it/s, v_num=13, train_acc=0.533, val_acc=0.705]\n",
      "Validation: |                                                                                    | 0/? [00:00<?, ?it/s]\u001b[A\n",
      "Validation:   0%|                                                                                | 0/8 [00:00<?, ?it/s]\u001b[A\n",
      "Validation DataLoader 0:   0%|                                                                   | 0/8 [00:00<?, ?it/s]\u001b[A\n",
      "Validation DataLoader 0:  12%|███████▍                                                   | 1/8 [00:00<00:00, 61.38it/s]\u001b[A\n",
      "Validation DataLoader 0:  25%|██████████████▊                                            | 2/8 [00:00<00:00, 68.49it/s]\u001b[A\n",
      "Validation DataLoader 0:  38%|██████████████████████▏                                    | 3/8 [00:00<00:00, 74.67it/s]\u001b[A\n",
      "Validation DataLoader 0:  50%|█████████████████████████████▌                             | 4/8 [00:00<00:00, 75.56it/s]\u001b[A\n",
      "Validation DataLoader 0:  62%|████████████████████████████████████▉                      | 5/8 [00:00<00:00, 76.55it/s]\u001b[A\n",
      "Validation DataLoader 0:  75%|████████████████████████████████████████████▎              | 6/8 [00:00<00:00, 76.17it/s]\u001b[A\n",
      "Validation DataLoader 0:  88%|███████████████████████████████████████████████████▋       | 7/8 [00:00<00:00, 77.14it/s]\u001b[A\n",
      "Validation DataLoader 0: 100%|███████████████████████████████████████████████████████████| 8/8 [00:00<00:00, 80.24it/s]\u001b[A\n",
      "Epoch 5: 100%|███████████████████████████████| 22/22 [00:00<00:00, 49.73it/s, v_num=13, train_acc=0.533, val_acc=0.716]\u001b[A"
     ]
    },
    {
     "name": "stderr",
     "output_type": "stream",
     "text": [
      "Metric val_loss improved by 0.064 >= min_delta = 0.0. New best score: 0.963\n"
     ]
    },
    {
     "name": "stdout",
     "output_type": "stream",
     "text": [
      "Epoch 6: 100%|███████████████████████████████| 22/22 [00:00<00:00, 67.62it/s, v_num=13, train_acc=0.667, val_acc=0.716]\n",
      "Validation: |                                                                                    | 0/? [00:00<?, ?it/s]\u001b[A\n",
      "Validation:   0%|                                                                                | 0/8 [00:00<?, ?it/s]\u001b[A\n",
      "Validation DataLoader 0:   0%|                                                                   | 0/8 [00:00<?, ?it/s]\u001b[A\n",
      "Validation DataLoader 0:  12%|███████▍                                                   | 1/8 [00:00<00:00, 60.29it/s]\u001b[A\n",
      "Validation DataLoader 0:  25%|██████████████▊                                            | 2/8 [00:00<00:00, 67.67it/s]\u001b[A\n",
      "Validation DataLoader 0:  38%|██████████████████████▏                                    | 3/8 [00:00<00:00, 72.34it/s]\u001b[A\n",
      "Validation DataLoader 0:  50%|█████████████████████████████▌                             | 4/8 [00:00<00:00, 75.61it/s]\u001b[A\n",
      "Validation DataLoader 0:  62%|████████████████████████████████████▉                      | 5/8 [00:00<00:00, 75.10it/s]\u001b[A\n",
      "Validation DataLoader 0:  75%|████████████████████████████████████████████▎              | 6/8 [00:00<00:00, 76.38it/s]\u001b[A\n",
      "Validation DataLoader 0:  88%|███████████████████████████████████████████████████▋       | 7/8 [00:00<00:00, 78.45it/s]\u001b[A\n",
      "Validation DataLoader 0: 100%|███████████████████████████████████████████████████████████| 8/8 [00:00<00:00, 80.60it/s]\u001b[A\n",
      "Epoch 6: 100%|███████████████████████████████| 22/22 [00:00<00:00, 47.56it/s, v_num=13, train_acc=0.667, val_acc=0.727]\u001b[A"
     ]
    },
    {
     "name": "stderr",
     "output_type": "stream",
     "text": [
      "Metric val_loss improved by 0.055 >= min_delta = 0.0. New best score: 0.907\n"
     ]
    },
    {
     "name": "stdout",
     "output_type": "stream",
     "text": [
      "Epoch 7: 100%|███████████████████████████████| 22/22 [00:00<00:00, 70.43it/s, v_num=13, train_acc=0.800, val_acc=0.727]\n",
      "Validation: |                                                                                    | 0/? [00:00<?, ?it/s]\u001b[A\n",
      "Validation:   0%|                                                                                | 0/8 [00:00<?, ?it/s]\u001b[A\n",
      "Validation DataLoader 0:   0%|                                                                   | 0/8 [00:00<?, ?it/s]\u001b[A\n",
      "Validation DataLoader 0:  12%|███████▍                                                   | 1/8 [00:00<00:00, 65.10it/s]\u001b[A\n",
      "Validation DataLoader 0:  25%|██████████████▊                                            | 2/8 [00:00<00:00, 73.35it/s]\u001b[A\n",
      "Validation DataLoader 0:  38%|██████████████████████▏                                    | 3/8 [00:00<00:00, 75.15it/s]\u001b[A\n",
      "Validation DataLoader 0:  50%|█████████████████████████████▌                             | 4/8 [00:00<00:00, 76.09it/s]\u001b[A\n",
      "Validation DataLoader 0:  62%|████████████████████████████████████▉                      | 5/8 [00:00<00:00, 77.67it/s]\u001b[A\n",
      "Validation DataLoader 0:  75%|████████████████████████████████████████████▎              | 6/8 [00:00<00:00, 77.42it/s]\u001b[A\n",
      "Validation DataLoader 0:  88%|███████████████████████████████████████████████████▋       | 7/8 [00:00<00:00, 76.98it/s]\u001b[A\n",
      "Validation DataLoader 0: 100%|███████████████████████████████████████████████████████████| 8/8 [00:00<00:00, 80.07it/s]\u001b[A\n",
      "Epoch 7: 100%|███████████████████████████████| 22/22 [00:00<00:00, 49.02it/s, v_num=13, train_acc=0.800, val_acc=0.731]\u001b[A"
     ]
    },
    {
     "name": "stderr",
     "output_type": "stream",
     "text": [
      "Metric val_loss improved by 0.053 >= min_delta = 0.0. New best score: 0.854\n"
     ]
    },
    {
     "name": "stdout",
     "output_type": "stream",
     "text": [
      "Epoch 8: 100%|███████████████████████████████| 22/22 [00:00<00:00, 69.96it/s, v_num=13, train_acc=0.867, val_acc=0.731]\n",
      "Validation: |                                                                                    | 0/? [00:00<?, ?it/s]\u001b[A\n",
      "Validation:   0%|                                                                                | 0/8 [00:00<?, ?it/s]\u001b[A\n",
      "Validation DataLoader 0:   0%|                                                                   | 0/8 [00:00<?, ?it/s]\u001b[A\n",
      "Validation DataLoader 0:  12%|███████▍                                                   | 1/8 [00:00<00:00, 62.98it/s]\u001b[A\n",
      "Validation DataLoader 0:  25%|██████████████▊                                            | 2/8 [00:00<00:00, 69.54it/s]\u001b[A\n",
      "Validation DataLoader 0:  38%|██████████████████████▏                                    | 3/8 [00:00<00:00, 73.66it/s]\u001b[A\n",
      "Validation DataLoader 0:  50%|█████████████████████████████▌                             | 4/8 [00:00<00:00, 77.08it/s]\u001b[A\n",
      "Validation DataLoader 0:  62%|████████████████████████████████████▉                      | 5/8 [00:00<00:00, 78.29it/s]\u001b[A\n",
      "Validation DataLoader 0:  75%|████████████████████████████████████████████▎              | 6/8 [00:00<00:00, 77.57it/s]\u001b[A\n",
      "Validation DataLoader 0:  88%|███████████████████████████████████████████████████▋       | 7/8 [00:00<00:00, 78.58it/s]\u001b[A\n",
      "Validation DataLoader 0: 100%|███████████████████████████████████████████████████████████| 8/8 [00:00<00:00, 80.98it/s]\u001b[A\n",
      "Epoch 8: 100%|███████████████████████████████| 22/22 [00:00<00:00, 48.71it/s, v_num=13, train_acc=0.867, val_acc=0.740]\u001b[A"
     ]
    },
    {
     "name": "stderr",
     "output_type": "stream",
     "text": [
      "Metric val_loss improved by 0.051 >= min_delta = 0.0. New best score: 0.803\n"
     ]
    },
    {
     "name": "stdout",
     "output_type": "stream",
     "text": [
      "Epoch 9: 100%|███████████████████████████████| 22/22 [00:00<00:00, 67.60it/s, v_num=13, train_acc=0.600, val_acc=0.740]\n",
      "Validation: |                                                                                    | 0/? [00:00<?, ?it/s]\u001b[A\n",
      "Validation:   0%|                                                                                | 0/8 [00:00<?, ?it/s]\u001b[A\n",
      "Validation DataLoader 0:   0%|                                                                   | 0/8 [00:00<?, ?it/s]\u001b[A\n",
      "Validation DataLoader 0:  12%|███████▍                                                   | 1/8 [00:00<00:00, 60.89it/s]\u001b[A\n",
      "Validation DataLoader 0:  25%|██████████████▊                                            | 2/8 [00:00<00:00, 66.88it/s]\u001b[A\n",
      "Validation DataLoader 0:  38%|██████████████████████▏                                    | 3/8 [00:00<00:00, 75.07it/s]\u001b[A\n",
      "Validation DataLoader 0:  50%|█████████████████████████████▌                             | 4/8 [00:00<00:00, 80.10it/s]\u001b[A\n",
      "Validation DataLoader 0:  62%|████████████████████████████████████▉                      | 5/8 [00:00<00:00, 81.54it/s]\u001b[A\n",
      "Validation DataLoader 0:  75%|████████████████████████████████████████████▎              | 6/8 [00:00<00:00, 83.86it/s]\u001b[A\n",
      "Validation DataLoader 0:  88%|███████████████████████████████████████████████████▋       | 7/8 [00:00<00:00, 83.82it/s]\u001b[A\n",
      "Validation DataLoader 0: 100%|███████████████████████████████████████████████████████████| 8/8 [00:00<00:00, 85.68it/s]\u001b[A\n",
      "Epoch 9: 100%|███████████████████████████████| 22/22 [00:00<00:00, 48.69it/s, v_num=13, train_acc=0.600, val_acc=0.760]\u001b[A"
     ]
    },
    {
     "name": "stderr",
     "output_type": "stream",
     "text": [
      "Metric val_loss improved by 0.052 >= min_delta = 0.0. New best score: 0.751\n"
     ]
    },
    {
     "name": "stdout",
     "output_type": "stream",
     "text": [
      "Epoch 10: 100%|██████████████████████████████| 22/22 [00:00<00:00, 67.36it/s, v_num=13, train_acc=0.733, val_acc=0.760]\n",
      "Validation: |                                                                                    | 0/? [00:00<?, ?it/s]\u001b[A\n",
      "Validation:   0%|                                                                                | 0/8 [00:00<?, ?it/s]\u001b[A\n",
      "Validation DataLoader 0:   0%|                                                                   | 0/8 [00:00<?, ?it/s]\u001b[A\n",
      "Validation DataLoader 0:  12%|███████▍                                                   | 1/8 [00:00<00:00, 50.12it/s]\u001b[A\n",
      "Validation DataLoader 0:  25%|██████████████▊                                            | 2/8 [00:00<00:00, 55.02it/s]\u001b[A\n",
      "Validation DataLoader 0:  38%|██████████████████████▏                                    | 3/8 [00:00<00:00, 58.50it/s]\u001b[A\n",
      "Validation DataLoader 0:  50%|█████████████████████████████▌                             | 4/8 [00:00<00:00, 58.20it/s]\u001b[A\n",
      "Validation DataLoader 0:  62%|████████████████████████████████████▉                      | 5/8 [00:00<00:00, 59.08it/s]\u001b[A\n",
      "Validation DataLoader 0:  75%|████████████████████████████████████████████▎              | 6/8 [00:00<00:00, 59.23it/s]\u001b[A\n",
      "Validation DataLoader 0:  88%|███████████████████████████████████████████████████▋       | 7/8 [00:00<00:00, 60.46it/s]\u001b[A\n",
      "Validation DataLoader 0: 100%|███████████████████████████████████████████████████████████| 8/8 [00:00<00:00, 63.62it/s]\u001b[A\n",
      "Epoch 10: 100%|██████████████████████████████| 22/22 [00:00<00:00, 45.70it/s, v_num=13, train_acc=0.733, val_acc=0.765]\u001b[A"
     ]
    },
    {
     "name": "stderr",
     "output_type": "stream",
     "text": [
      "Metric val_loss improved by 0.048 >= min_delta = 0.0. New best score: 0.703\n"
     ]
    },
    {
     "name": "stdout",
     "output_type": "stream",
     "text": [
      "Epoch 11: 100%|██████████████████████████████| 22/22 [00:00<00:00, 71.27it/s, v_num=13, train_acc=0.467, val_acc=0.765]\n",
      "Validation: |                                                                                    | 0/? [00:00<?, ?it/s]\u001b[A\n",
      "Validation:   0%|                                                                                | 0/8 [00:00<?, ?it/s]\u001b[A\n",
      "Validation DataLoader 0:   0%|                                                                   | 0/8 [00:00<?, ?it/s]\u001b[A\n",
      "Validation DataLoader 0:  12%|███████▍                                                   | 1/8 [00:00<00:00, 67.00it/s]\u001b[A\n",
      "Validation DataLoader 0:  25%|██████████████▊                                            | 2/8 [00:00<00:00, 74.36it/s]\u001b[A\n",
      "Validation DataLoader 0:  38%|██████████████████████▏                                    | 3/8 [00:00<00:00, 78.69it/s]\u001b[A\n",
      "Validation DataLoader 0:  50%|█████████████████████████████▌                             | 4/8 [00:00<00:00, 80.22it/s]\u001b[A\n",
      "Validation DataLoader 0:  62%|████████████████████████████████████▉                      | 5/8 [00:00<00:00, 80.59it/s]\u001b[A\n",
      "Validation DataLoader 0:  75%|████████████████████████████████████████████▎              | 6/8 [00:00<00:00, 80.34it/s]\u001b[A\n",
      "Validation DataLoader 0:  88%|███████████████████████████████████████████████████▋       | 7/8 [00:00<00:00, 80.06it/s]\u001b[A\n",
      "Validation DataLoader 0: 100%|███████████████████████████████████████████████████████████| 8/8 [00:00<00:00, 80.93it/s]\u001b[A\n",
      "Epoch 11: 100%|██████████████████████████████| 22/22 [00:00<00:00, 50.64it/s, v_num=13, train_acc=0.467, val_acc=0.780]\u001b[A"
     ]
    },
    {
     "name": "stderr",
     "output_type": "stream",
     "text": [
      "Metric val_loss improved by 0.042 >= min_delta = 0.0. New best score: 0.661\n"
     ]
    },
    {
     "name": "stdout",
     "output_type": "stream",
     "text": [
      "Epoch 12: 100%|██████████████████████████████| 22/22 [00:00<00:00, 70.29it/s, v_num=13, train_acc=0.667, val_acc=0.780]\n",
      "Validation: |                                                                                    | 0/? [00:00<?, ?it/s]\u001b[A\n",
      "Validation:   0%|                                                                                | 0/8 [00:00<?, ?it/s]\u001b[A\n",
      "Validation DataLoader 0:   0%|                                                                   | 0/8 [00:00<?, ?it/s]\u001b[A\n",
      "Validation DataLoader 0:  12%|███████▍                                                   | 1/8 [00:00<00:00, 63.53it/s]\u001b[A\n",
      "Validation DataLoader 0:  25%|██████████████▊                                            | 2/8 [00:00<00:00, 71.32it/s]\u001b[A\n",
      "Validation DataLoader 0:  38%|██████████████████████▏                                    | 3/8 [00:00<00:00, 73.96it/s]\u001b[A\n",
      "Validation DataLoader 0:  50%|█████████████████████████████▌                             | 4/8 [00:00<00:00, 74.66it/s]\u001b[A\n",
      "Validation DataLoader 0:  62%|████████████████████████████████████▉                      | 5/8 [00:00<00:00, 78.67it/s]\u001b[A\n",
      "Validation DataLoader 0:  75%|████████████████████████████████████████████▎              | 6/8 [00:00<00:00, 80.82it/s]\u001b[A\n",
      "Validation DataLoader 0:  88%|███████████████████████████████████████████████████▋       | 7/8 [00:00<00:00, 79.65it/s]\u001b[A\n",
      "Validation DataLoader 0: 100%|███████████████████████████████████████████████████████████| 8/8 [00:00<00:00, 82.59it/s]\u001b[A\n",
      "Epoch 12: 100%|██████████████████████████████| 22/22 [00:00<00:00, 49.29it/s, v_num=13, train_acc=0.667, val_acc=0.785]\u001b[A"
     ]
    },
    {
     "name": "stderr",
     "output_type": "stream",
     "text": [
      "Metric val_loss improved by 0.041 >= min_delta = 0.0. New best score: 0.619\n"
     ]
    },
    {
     "name": "stdout",
     "output_type": "stream",
     "text": [
      "Epoch 13: 100%|██████████████████████████████| 22/22 [00:00<00:00, 68.07it/s, v_num=13, train_acc=0.600, val_acc=0.785]\n",
      "Validation: |                                                                                    | 0/? [00:00<?, ?it/s]\u001b[A\n",
      "Validation:   0%|                                                                                | 0/8 [00:00<?, ?it/s]\u001b[A\n",
      "Validation DataLoader 0:   0%|                                                                   | 0/8 [00:00<?, ?it/s]\u001b[A\n",
      "Validation DataLoader 0:  12%|███████▍                                                   | 1/8 [00:00<00:00, 62.67it/s]\u001b[A\n",
      "Validation DataLoader 0:  25%|██████████████▊                                            | 2/8 [00:00<00:00, 77.13it/s]\u001b[A\n",
      "Validation DataLoader 0:  38%|██████████████████████▏                                    | 3/8 [00:00<00:00, 80.95it/s]\u001b[A\n",
      "Validation DataLoader 0:  50%|█████████████████████████████▌                             | 4/8 [00:00<00:00, 83.45it/s]\u001b[A\n",
      "Validation DataLoader 0:  62%|████████████████████████████████████▉                      | 5/8 [00:00<00:00, 86.34it/s]\u001b[A\n",
      "Validation DataLoader 0:  75%|████████████████████████████████████████████▎              | 6/8 [00:00<00:00, 87.39it/s]\u001b[A\n",
      "Validation DataLoader 0:  88%|███████████████████████████████████████████████████▋       | 7/8 [00:00<00:00, 86.82it/s]\u001b[A\n",
      "Validation DataLoader 0: 100%|███████████████████████████████████████████████████████████| 8/8 [00:00<00:00, 87.34it/s]\u001b[A\n",
      "Epoch 13: 100%|██████████████████████████████| 22/22 [00:00<00:00, 49.14it/s, v_num=13, train_acc=0.600, val_acc=0.798]\u001b[A"
     ]
    },
    {
     "name": "stderr",
     "output_type": "stream",
     "text": [
      "Metric val_loss improved by 0.037 >= min_delta = 0.0. New best score: 0.583\n"
     ]
    },
    {
     "name": "stdout",
     "output_type": "stream",
     "text": [
      "Epoch 14: 100%|██████████████████████████████| 22/22 [00:00<00:00, 61.11it/s, v_num=13, train_acc=0.667, val_acc=0.798]\n",
      "Validation: |                                                                                    | 0/? [00:00<?, ?it/s]\u001b[A\n",
      "Validation:   0%|                                                                                | 0/8 [00:00<?, ?it/s]\u001b[A\n",
      "Validation DataLoader 0:   0%|                                                                   | 0/8 [00:00<?, ?it/s]\u001b[A\n",
      "Validation DataLoader 0:  12%|███████▍                                                   | 1/8 [00:00<00:00, 61.45it/s]\u001b[A\n",
      "Validation DataLoader 0:  25%|██████████████▊                                            | 2/8 [00:00<00:00, 70.82it/s]\u001b[A\n",
      "Validation DataLoader 0:  38%|██████████████████████▏                                    | 3/8 [00:00<00:00, 76.95it/s]\u001b[A\n",
      "Validation DataLoader 0:  50%|█████████████████████████████▌                             | 4/8 [00:00<00:00, 77.57it/s]\u001b[A\n",
      "Validation DataLoader 0:  62%|████████████████████████████████████▉                      | 5/8 [00:00<00:00, 81.25it/s]\u001b[A\n",
      "Validation DataLoader 0:  75%|████████████████████████████████████████████▎              | 6/8 [00:00<00:00, 80.25it/s]\u001b[A\n",
      "Validation DataLoader 0:  88%|███████████████████████████████████████████████████▋       | 7/8 [00:00<00:00, 80.53it/s]\u001b[A\n",
      "Validation DataLoader 0: 100%|███████████████████████████████████████████████████████████| 8/8 [00:00<00:00, 83.42it/s]\u001b[A\n",
      "Epoch 14: 100%|██████████████████████████████| 22/22 [00:00<00:00, 45.22it/s, v_num=13, train_acc=0.667, val_acc=0.860]\u001b[A"
     ]
    },
    {
     "name": "stderr",
     "output_type": "stream",
     "text": [
      "Metric val_loss improved by 0.029 >= min_delta = 0.0. New best score: 0.553\n"
     ]
    },
    {
     "name": "stdout",
     "output_type": "stream",
     "text": [
      "Epoch 15: 100%|██████████████████████████████| 22/22 [00:00<00:00, 67.47it/s, v_num=13, train_acc=0.800, val_acc=0.860]\n",
      "Validation: |                                                                                    | 0/? [00:00<?, ?it/s]\u001b[A\n",
      "Validation:   0%|                                                                                | 0/8 [00:00<?, ?it/s]\u001b[A\n",
      "Validation DataLoader 0:   0%|                                                                   | 0/8 [00:00<?, ?it/s]\u001b[A\n",
      "Validation DataLoader 0:  12%|███████▍                                                   | 1/8 [00:00<00:00, 69.14it/s]\u001b[A\n",
      "Validation DataLoader 0:  25%|██████████████▊                                            | 2/8 [00:00<00:00, 72.82it/s]\u001b[A\n",
      "Validation DataLoader 0:  38%|██████████████████████▏                                    | 3/8 [00:00<00:00, 73.83it/s]\u001b[A\n",
      "Validation DataLoader 0:  50%|█████████████████████████████▌                             | 4/8 [00:00<00:00, 75.71it/s]\u001b[A\n",
      "Validation DataLoader 0:  62%|████████████████████████████████████▉                      | 5/8 [00:00<00:00, 76.63it/s]\u001b[A\n",
      "Validation DataLoader 0:  75%|████████████████████████████████████████████▎              | 6/8 [00:00<00:00, 76.70it/s]\u001b[A\n",
      "Validation DataLoader 0:  88%|███████████████████████████████████████████████████▋       | 7/8 [00:00<00:00, 76.42it/s]\u001b[A\n",
      "Validation DataLoader 0: 100%|███████████████████████████████████████████████████████████| 8/8 [00:00<00:00, 77.79it/s]\u001b[A\n",
      "Epoch 15: 100%|██████████████████████████████| 22/22 [00:00<00:00, 47.87it/s, v_num=13, train_acc=0.800, val_acc=0.880]\u001b[A"
     ]
    },
    {
     "name": "stderr",
     "output_type": "stream",
     "text": [
      "Metric val_loss improved by 0.025 >= min_delta = 0.0. New best score: 0.528\n"
     ]
    },
    {
     "name": "stdout",
     "output_type": "stream",
     "text": [
      "Epoch 16: 100%|██████████████████████████████| 22/22 [00:00<00:00, 70.96it/s, v_num=13, train_acc=0.533, val_acc=0.880]\n",
      "Validation: |                                                                                    | 0/? [00:00<?, ?it/s]\u001b[A\n",
      "Validation:   0%|                                                                                | 0/8 [00:00<?, ?it/s]\u001b[A\n",
      "Validation DataLoader 0:   0%|                                                                   | 0/8 [00:00<?, ?it/s]\u001b[A\n",
      "Validation DataLoader 0:  12%|███████▍                                                   | 1/8 [00:00<00:00, 63.79it/s]\u001b[A\n",
      "Validation DataLoader 0:  25%|██████████████▊                                            | 2/8 [00:00<00:00, 70.67it/s]\u001b[A\n",
      "Validation DataLoader 0:  38%|██████████████████████▏                                    | 3/8 [00:00<00:00, 76.39it/s]\u001b[A\n",
      "Validation DataLoader 0:  50%|█████████████████████████████▌                             | 4/8 [00:00<00:00, 78.03it/s]\u001b[A\n",
      "Validation DataLoader 0:  62%|████████████████████████████████████▉                      | 5/8 [00:00<00:00, 77.40it/s]\u001b[A\n",
      "Validation DataLoader 0:  75%|████████████████████████████████████████████▎              | 6/8 [00:00<00:00, 75.37it/s]\u001b[A\n",
      "Validation DataLoader 0:  88%|███████████████████████████████████████████████████▋       | 7/8 [00:00<00:00, 76.20it/s]\u001b[A\n",
      "Validation DataLoader 0: 100%|███████████████████████████████████████████████████████████| 8/8 [00:00<00:00, 77.05it/s]\u001b[A\n",
      "Epoch 16: 100%|██████████████████████████████| 22/22 [00:00<00:00, 49.26it/s, v_num=13, train_acc=0.533, val_acc=0.888]\u001b[A"
     ]
    },
    {
     "name": "stderr",
     "output_type": "stream",
     "text": [
      "Metric val_loss improved by 0.023 >= min_delta = 0.0. New best score: 0.506\n"
     ]
    },
    {
     "name": "stdout",
     "output_type": "stream",
     "text": [
      "Epoch 17: 100%|██████████████████████████████| 22/22 [00:00<00:00, 70.28it/s, v_num=13, train_acc=0.733, val_acc=0.888]\n",
      "Validation: |                                                                                    | 0/? [00:00<?, ?it/s]\u001b[A\n",
      "Validation:   0%|                                                                                | 0/8 [00:00<?, ?it/s]\u001b[A\n",
      "Validation DataLoader 0:   0%|                                                                   | 0/8 [00:00<?, ?it/s]\u001b[A\n",
      "Validation DataLoader 0:  12%|███████▍                                                   | 1/8 [00:00<00:00, 69.34it/s]\u001b[A\n",
      "Validation DataLoader 0:  25%|██████████████▊                                            | 2/8 [00:00<00:00, 73.03it/s]\u001b[A\n",
      "Validation DataLoader 0:  38%|██████████████████████▏                                    | 3/8 [00:00<00:00, 76.23it/s]\u001b[A\n",
      "Validation DataLoader 0:  50%|█████████████████████████████▌                             | 4/8 [00:00<00:00, 78.71it/s]\u001b[A\n",
      "Validation DataLoader 0:  62%|████████████████████████████████████▉                      | 5/8 [00:00<00:00, 81.40it/s]\u001b[A\n",
      "Validation DataLoader 0:  75%|████████████████████████████████████████████▎              | 6/8 [00:00<00:00, 84.03it/s]\u001b[A\n",
      "Validation DataLoader 0:  88%|███████████████████████████████████████████████████▋       | 7/8 [00:00<00:00, 83.26it/s]\u001b[A\n",
      "Validation DataLoader 0: 100%|███████████████████████████████████████████████████████████| 8/8 [00:00<00:00, 86.24it/s]\u001b[A\n",
      "Epoch 17: 100%|██████████████████████████████| 22/22 [00:00<00:00, 50.26it/s, v_num=13, train_acc=0.733, val_acc=0.900]\u001b[A"
     ]
    },
    {
     "name": "stderr",
     "output_type": "stream",
     "text": [
      "Metric val_loss improved by 0.013 >= min_delta = 0.0. New best score: 0.493\n"
     ]
    },
    {
     "name": "stdout",
     "output_type": "stream",
     "text": [
      "Epoch 18: 100%|██████████████████████████████| 22/22 [00:00<00:00, 67.44it/s, v_num=13, train_acc=0.800, val_acc=0.900]\n",
      "Validation: |                                                                                    | 0/? [00:00<?, ?it/s]\u001b[A\n",
      "Validation:   0%|                                                                                | 0/8 [00:00<?, ?it/s]\u001b[A\n",
      "Validation DataLoader 0:   0%|                                                                   | 0/8 [00:00<?, ?it/s]\u001b[A\n",
      "Validation DataLoader 0:  12%|███████▍                                                   | 1/8 [00:00<00:00, 58.51it/s]\u001b[A\n",
      "Validation DataLoader 0:  25%|██████████████▊                                            | 2/8 [00:00<00:00, 64.43it/s]\u001b[A\n",
      "Validation DataLoader 0:  38%|██████████████████████▏                                    | 3/8 [00:00<00:00, 69.67it/s]\u001b[A\n",
      "Validation DataLoader 0:  50%|█████████████████████████████▌                             | 4/8 [00:00<00:00, 72.38it/s]\u001b[A\n",
      "Validation DataLoader 0:  62%|████████████████████████████████████▉                      | 5/8 [00:00<00:00, 75.77it/s]\u001b[A\n",
      "Validation DataLoader 0:  75%|████████████████████████████████████████████▎              | 6/8 [00:00<00:00, 75.15it/s]\u001b[A\n",
      "Validation DataLoader 0:  88%|███████████████████████████████████████████████████▋       | 7/8 [00:00<00:00, 76.46it/s]\u001b[A\n",
      "Validation DataLoader 0: 100%|███████████████████████████████████████████████████████████| 8/8 [00:00<00:00, 79.58it/s]\u001b[A\n",
      "Epoch 18: 100%|██████████████████████████████| 22/22 [00:00<00:00, 46.74it/s, v_num=13, train_acc=0.800, val_acc=0.903]\u001b[A"
     ]
    },
    {
     "name": "stderr",
     "output_type": "stream",
     "text": [
      "Metric val_loss improved by 0.025 >= min_delta = 0.0. New best score: 0.468\n"
     ]
    },
    {
     "name": "stdout",
     "output_type": "stream",
     "text": [
      "Epoch 19: 100%|██████████████████████████████| 22/22 [00:00<00:00, 70.98it/s, v_num=13, train_acc=0.800, val_acc=0.903]\n",
      "Validation: |                                                                                    | 0/? [00:00<?, ?it/s]\u001b[A\n",
      "Validation:   0%|                                                                                | 0/8 [00:00<?, ?it/s]\u001b[A\n",
      "Validation DataLoader 0:   0%|                                                                   | 0/8 [00:00<?, ?it/s]\u001b[A\n",
      "Validation DataLoader 0:  12%|███████▍                                                   | 1/8 [00:00<00:00, 60.46it/s]\u001b[A\n",
      "Validation DataLoader 0:  25%|██████████████▊                                            | 2/8 [00:00<00:00, 73.22it/s]\u001b[A\n",
      "Validation DataLoader 0:  38%|██████████████████████▏                                    | 3/8 [00:00<00:00, 75.00it/s]\u001b[A\n",
      "Validation DataLoader 0:  50%|█████████████████████████████▌                             | 4/8 [00:00<00:00, 80.05it/s]\u001b[A\n",
      "Validation DataLoader 0:  62%|████████████████████████████████████▉                      | 5/8 [00:00<00:00, 82.04it/s]\u001b[A\n",
      "Validation DataLoader 0:  75%|████████████████████████████████████████████▎              | 6/8 [00:00<00:00, 82.29it/s]\u001b[A\n",
      "Validation DataLoader 0:  88%|███████████████████████████████████████████████████▋       | 7/8 [00:00<00:00, 81.51it/s]\u001b[A\n",
      "Validation DataLoader 0: 100%|███████████████████████████████████████████████████████████| 8/8 [00:00<00:00, 82.60it/s]\u001b[A\n",
      "Epoch 19: 100%|██████████████████████████████| 22/22 [00:00<00:00, 50.16it/s, v_num=13, train_acc=0.800, val_acc=0.895]\u001b[A"
     ]
    },
    {
     "name": "stderr",
     "output_type": "stream",
     "text": [
      "Metric val_loss improved by 0.015 >= min_delta = 0.0. New best score: 0.453\n"
     ]
    },
    {
     "name": "stdout",
     "output_type": "stream",
     "text": [
      "Epoch 20: 100%|██████████████████████████████| 22/22 [00:00<00:00, 72.25it/s, v_num=13, train_acc=0.800, val_acc=0.895]\n",
      "Validation: |                                                                                    | 0/? [00:00<?, ?it/s]\u001b[A\n",
      "Validation:   0%|                                                                                | 0/8 [00:00<?, ?it/s]\u001b[A\n",
      "Validation DataLoader 0:   0%|                                                                   | 0/8 [00:00<?, ?it/s]\u001b[A\n",
      "Validation DataLoader 0:  12%|███████▍                                                   | 1/8 [00:00<00:00, 50.89it/s]\u001b[A\n",
      "Validation DataLoader 0:  25%|██████████████▊                                            | 2/8 [00:00<00:00, 61.41it/s]\u001b[A\n",
      "Validation DataLoader 0:  38%|██████████████████████▏                                    | 3/8 [00:00<00:00, 65.89it/s]\u001b[A\n",
      "Validation DataLoader 0:  50%|█████████████████████████████▌                             | 4/8 [00:00<00:00, 67.49it/s]\u001b[A\n",
      "Validation DataLoader 0:  62%|████████████████████████████████████▉                      | 5/8 [00:00<00:00, 69.52it/s]\u001b[A\n",
      "Validation DataLoader 0:  75%|████████████████████████████████████████████▎              | 6/8 [00:00<00:00, 70.56it/s]\u001b[A\n",
      "Validation DataLoader 0:  88%|███████████████████████████████████████████████████▋       | 7/8 [00:00<00:00, 73.53it/s]\u001b[A\n",
      "Validation DataLoader 0: 100%|███████████████████████████████████████████████████████████| 8/8 [00:00<00:00, 76.07it/s]\u001b[A\n",
      "Epoch 20: 100%|██████████████████████████████| 22/22 [00:00<00:00, 49.97it/s, v_num=13, train_acc=0.800, val_acc=0.900]\u001b[A"
     ]
    },
    {
     "name": "stderr",
     "output_type": "stream",
     "text": [
      "Metric val_loss improved by 0.013 >= min_delta = 0.0. New best score: 0.440\n"
     ]
    },
    {
     "name": "stdout",
     "output_type": "stream",
     "text": [
      "Epoch 21: 100%|██████████████████████████████| 22/22 [00:00<00:00, 70.53it/s, v_num=13, train_acc=0.867, val_acc=0.900]\n",
      "Validation: |                                                                                    | 0/? [00:00<?, ?it/s]\u001b[A\n",
      "Validation:   0%|                                                                                | 0/8 [00:00<?, ?it/s]\u001b[A\n",
      "Validation DataLoader 0:   0%|                                                                   | 0/8 [00:00<?, ?it/s]\u001b[A\n",
      "Validation DataLoader 0:  12%|███████▍                                                   | 1/8 [00:00<00:00, 55.01it/s]\u001b[A\n",
      "Validation DataLoader 0:  25%|██████████████▊                                            | 2/8 [00:00<00:00, 66.34it/s]\u001b[A\n",
      "Validation DataLoader 0:  38%|██████████████████████▏                                    | 3/8 [00:00<00:00, 60.06it/s]\u001b[A\n",
      "Validation DataLoader 0:  50%|█████████████████████████████▌                             | 4/8 [00:00<00:00, 65.66it/s]\u001b[A\n",
      "Validation DataLoader 0:  62%|████████████████████████████████████▉                      | 5/8 [00:00<00:00, 66.77it/s]\u001b[A\n",
      "Validation DataLoader 0:  75%|████████████████████████████████████████████▎              | 6/8 [00:00<00:00, 69.88it/s]\u001b[A\n",
      "Validation DataLoader 0:  88%|███████████████████████████████████████████████████▋       | 7/8 [00:00<00:00, 72.29it/s]\u001b[A\n",
      "Validation DataLoader 0: 100%|███████████████████████████████████████████████████████████| 8/8 [00:00<00:00, 74.67it/s]\u001b[A\n",
      "Epoch 21: 100%|██████████████████████████████| 22/22 [00:00<00:00, 48.88it/s, v_num=13, train_acc=0.867, val_acc=0.909]\u001b[A"
     ]
    },
    {
     "name": "stderr",
     "output_type": "stream",
     "text": [
      "Metric val_loss improved by 0.015 >= min_delta = 0.0. New best score: 0.425\n"
     ]
    },
    {
     "name": "stdout",
     "output_type": "stream",
     "text": [
      "Epoch 22: 100%|██████████████████████████████| 22/22 [00:00<00:00, 54.73it/s, v_num=13, train_acc=0.667, val_acc=0.909]\n",
      "Validation: |                                                                                    | 0/? [00:00<?, ?it/s]\u001b[A\n",
      "Validation:   0%|                                                                                | 0/8 [00:00<?, ?it/s]\u001b[A\n",
      "Validation DataLoader 0:   0%|                                                                   | 0/8 [00:00<?, ?it/s]\u001b[A\n",
      "Validation DataLoader 0:  12%|███████▍                                                   | 1/8 [00:00<00:00, 63.75it/s]\u001b[A\n",
      "Validation DataLoader 0:  25%|██████████████▊                                            | 2/8 [00:00<00:00, 69.18it/s]\u001b[A\n",
      "Validation DataLoader 0:  38%|██████████████████████▏                                    | 3/8 [00:00<00:00, 74.97it/s]\u001b[A\n",
      "Validation DataLoader 0:  50%|█████████████████████████████▌                             | 4/8 [00:00<00:00, 72.20it/s]\u001b[A\n",
      "Validation DataLoader 0:  62%|████████████████████████████████████▉                      | 5/8 [00:00<00:00, 71.72it/s]\u001b[A\n",
      "Validation DataLoader 0:  75%|████████████████████████████████████████████▎              | 6/8 [00:00<00:00, 74.88it/s]\u001b[A\n",
      "Validation DataLoader 0:  88%|███████████████████████████████████████████████████▋       | 7/8 [00:00<00:00, 77.69it/s]\u001b[A\n",
      "Validation DataLoader 0: 100%|███████████████████████████████████████████████████████████| 8/8 [00:00<00:00, 78.94it/s]\u001b[A\n",
      "Epoch 22: 100%|██████████████████████████████| 22/22 [00:00<00:00, 40.71it/s, v_num=13, train_acc=0.667, val_acc=0.909]\u001b[A"
     ]
    },
    {
     "name": "stderr",
     "output_type": "stream",
     "text": [
      "Metric val_loss improved by 0.012 >= min_delta = 0.0. New best score: 0.413\n"
     ]
    },
    {
     "name": "stdout",
     "output_type": "stream",
     "text": [
      "Epoch 23: 100%|██████████████████████████████| 22/22 [00:00<00:00, 71.44it/s, v_num=13, train_acc=0.733, val_acc=0.909]\n",
      "Validation: |                                                                                    | 0/? [00:00<?, ?it/s]\u001b[A\n",
      "Validation:   0%|                                                                                | 0/8 [00:00<?, ?it/s]\u001b[A\n",
      "Validation DataLoader 0:   0%|                                                                   | 0/8 [00:00<?, ?it/s]\u001b[A\n",
      "Validation DataLoader 0:  12%|███████▍                                                   | 1/8 [00:00<00:00, 44.02it/s]\u001b[A\n",
      "Validation DataLoader 0:  25%|██████████████▊                                            | 2/8 [00:00<00:00, 56.82it/s]\u001b[A\n",
      "Validation DataLoader 0:  38%|██████████████████████▏                                    | 3/8 [00:00<00:00, 64.98it/s]\u001b[A\n",
      "Validation DataLoader 0:  50%|█████████████████████████████▌                             | 4/8 [00:00<00:00, 67.14it/s]\u001b[A\n",
      "Validation DataLoader 0:  62%|████████████████████████████████████▉                      | 5/8 [00:00<00:00, 70.92it/s]\u001b[A\n",
      "Validation DataLoader 0:  75%|████████████████████████████████████████████▎              | 6/8 [00:00<00:00, 71.12it/s]\u001b[A\n",
      "Validation DataLoader 0:  88%|███████████████████████████████████████████████████▋       | 7/8 [00:00<00:00, 71.73it/s]\u001b[A\n",
      "Validation DataLoader 0: 100%|███████████████████████████████████████████████████████████| 8/8 [00:00<00:00, 74.74it/s]\u001b[A\n",
      "Epoch 23: 100%|██████████████████████████████| 22/22 [00:00<00:00, 49.39it/s, v_num=13, train_acc=0.733, val_acc=0.908]\u001b[A"
     ]
    },
    {
     "name": "stderr",
     "output_type": "stream",
     "text": [
      "Metric val_loss improved by 0.010 >= min_delta = 0.0. New best score: 0.403\n"
     ]
    },
    {
     "name": "stdout",
     "output_type": "stream",
     "text": [
      "Epoch 24: 100%|██████████████████████████████| 22/22 [00:00<00:00, 73.63it/s, v_num=13, train_acc=0.733, val_acc=0.908]\n",
      "Validation: |                                                                                    | 0/? [00:00<?, ?it/s]\u001b[A\n",
      "Validation:   0%|                                                                                | 0/8 [00:00<?, ?it/s]\u001b[A\n",
      "Validation DataLoader 0:   0%|                                                                   | 0/8 [00:00<?, ?it/s]\u001b[A\n",
      "Validation DataLoader 0:  12%|███████▍                                                   | 1/8 [00:00<00:00, 65.57it/s]\u001b[A\n",
      "Validation DataLoader 0:  25%|██████████████▊                                            | 2/8 [00:00<00:00, 71.68it/s]\u001b[A\n",
      "Validation DataLoader 0:  38%|██████████████████████▏                                    | 3/8 [00:00<00:00, 79.20it/s]\u001b[A\n",
      "Validation DataLoader 0:  50%|█████████████████████████████▌                             | 4/8 [00:00<00:00, 71.93it/s]\u001b[A\n",
      "Validation DataLoader 0:  62%|████████████████████████████████████▉                      | 5/8 [00:00<00:00, 76.24it/s]\u001b[A\n",
      "Validation DataLoader 0:  75%|████████████████████████████████████████████▎              | 6/8 [00:00<00:00, 75.42it/s]\u001b[A\n",
      "Validation DataLoader 0:  88%|███████████████████████████████████████████████████▋       | 7/8 [00:00<00:00, 75.67it/s]\u001b[A\n",
      "Validation DataLoader 0: 100%|███████████████████████████████████████████████████████████| 8/8 [00:00<00:00, 78.83it/s]\u001b[A\n",
      "Epoch 24: 100%|██████████████████████████████| 22/22 [00:00<00:00, 50.23it/s, v_num=13, train_acc=0.733, val_acc=0.908]\u001b[A"
     ]
    },
    {
     "name": "stderr",
     "output_type": "stream",
     "text": [
      "Metric val_loss improved by 0.009 >= min_delta = 0.0. New best score: 0.394\n"
     ]
    },
    {
     "name": "stdout",
     "output_type": "stream",
     "text": [
      "Epoch 25: 100%|██████████████████████████████| 22/22 [00:00<00:00, 74.03it/s, v_num=13, train_acc=0.467, val_acc=0.908]\n",
      "Validation: |                                                                                    | 0/? [00:00<?, ?it/s]\u001b[A\n",
      "Validation:   0%|                                                                                | 0/8 [00:00<?, ?it/s]\u001b[A\n",
      "Validation DataLoader 0:   0%|                                                                   | 0/8 [00:00<?, ?it/s]\u001b[A\n",
      "Validation DataLoader 0:  12%|███████▍                                                   | 1/8 [00:00<00:00, 67.62it/s]\u001b[A\n",
      "Validation DataLoader 0:  25%|██████████████▊                                            | 2/8 [00:00<00:00, 67.23it/s]\u001b[A\n",
      "Validation DataLoader 0:  38%|██████████████████████▏                                    | 3/8 [00:00<00:00, 70.24it/s]\u001b[A\n",
      "Validation DataLoader 0:  50%|█████████████████████████████▌                             | 4/8 [00:00<00:00, 72.46it/s]\u001b[A\n",
      "Validation DataLoader 0:  62%|████████████████████████████████████▉                      | 5/8 [00:00<00:00, 68.67it/s]\u001b[A\n",
      "Validation DataLoader 0:  75%|████████████████████████████████████████████▎              | 6/8 [00:00<00:00, 71.07it/s]\u001b[A\n",
      "Validation DataLoader 0:  88%|███████████████████████████████████████████████████▋       | 7/8 [00:00<00:00, 71.41it/s]\u001b[A\n",
      "Validation DataLoader 0: 100%|███████████████████████████████████████████████████████████| 8/8 [00:00<00:00, 75.47it/s]\u001b[A\n",
      "Epoch 25: 100%|██████████████████████████████| 22/22 [00:00<00:00, 49.83it/s, v_num=13, train_acc=0.467, val_acc=0.902]\u001b[A"
     ]
    },
    {
     "name": "stderr",
     "output_type": "stream",
     "text": [
      "Metric val_loss improved by 0.003 >= min_delta = 0.0. New best score: 0.391\n"
     ]
    },
    {
     "name": "stdout",
     "output_type": "stream",
     "text": [
      "Epoch 26: 100%|██████████████████████████████| 22/22 [00:00<00:00, 74.00it/s, v_num=13, train_acc=0.733, val_acc=0.902]\n",
      "Validation: |                                                                                    | 0/? [00:00<?, ?it/s]\u001b[A\n",
      "Validation:   0%|                                                                                | 0/8 [00:00<?, ?it/s]\u001b[A\n",
      "Validation DataLoader 0:   0%|                                                                   | 0/8 [00:00<?, ?it/s]\u001b[A\n",
      "Validation DataLoader 0:  12%|███████▍                                                   | 1/8 [00:00<00:00, 70.77it/s]\u001b[A\n",
      "Validation DataLoader 0:  25%|██████████████▊                                            | 2/8 [00:00<00:00, 78.12it/s]\u001b[A\n",
      "Validation DataLoader 0:  38%|██████████████████████▏                                    | 3/8 [00:00<00:00, 80.92it/s]\u001b[A\n",
      "Validation DataLoader 0:  50%|█████████████████████████████▌                             | 4/8 [00:00<00:00, 78.12it/s]\u001b[A\n",
      "Validation DataLoader 0:  62%|████████████████████████████████████▉                      | 5/8 [00:00<00:00, 77.21it/s]\u001b[A\n",
      "Validation DataLoader 0:  75%|████████████████████████████████████████████▎              | 6/8 [00:00<00:00, 78.72it/s]\u001b[A\n",
      "Validation DataLoader 0:  88%|███████████████████████████████████████████████████▋       | 7/8 [00:00<00:00, 79.44it/s]\u001b[A\n",
      "Validation DataLoader 0: 100%|███████████████████████████████████████████████████████████| 8/8 [00:00<00:00, 80.74it/s]\u001b[A\n",
      "Epoch 26: 100%|██████████████████████████████| 22/22 [00:00<00:00, 50.67it/s, v_num=13, train_acc=0.733, val_acc=0.913]\u001b[A"
     ]
    },
    {
     "name": "stderr",
     "output_type": "stream",
     "text": [
      "Metric val_loss improved by 0.009 >= min_delta = 0.0. New best score: 0.383\n"
     ]
    },
    {
     "name": "stdout",
     "output_type": "stream",
     "text": [
      "Epoch 27: 100%|██████████████████████████████| 22/22 [00:00<00:00, 68.55it/s, v_num=13, train_acc=0.867, val_acc=0.913]\n",
      "Validation: |                                                                                    | 0/? [00:00<?, ?it/s]\u001b[A\n",
      "Validation:   0%|                                                                                | 0/8 [00:00<?, ?it/s]\u001b[A\n",
      "Validation DataLoader 0:   0%|                                                                   | 0/8 [00:00<?, ?it/s]\u001b[A\n",
      "Validation DataLoader 0:  12%|███████▍                                                   | 1/8 [00:00<00:00, 72.56it/s]\u001b[A\n",
      "Validation DataLoader 0:  25%|██████████████▊                                            | 2/8 [00:00<00:00, 75.74it/s]\u001b[A\n",
      "Validation DataLoader 0:  38%|██████████████████████▏                                    | 3/8 [00:00<00:00, 78.45it/s]\u001b[A\n",
      "Validation DataLoader 0:  50%|█████████████████████████████▌                             | 4/8 [00:00<00:00, 79.47it/s]\u001b[A\n",
      "Validation DataLoader 0:  62%|████████████████████████████████████▉                      | 5/8 [00:00<00:00, 82.31it/s]\u001b[A\n",
      "Validation DataLoader 0:  75%|████████████████████████████████████████████▎              | 6/8 [00:00<00:00, 83.66it/s]\u001b[A\n",
      "Validation DataLoader 0:  88%|███████████████████████████████████████████████████▋       | 7/8 [00:00<00:00, 82.66it/s]\u001b[A\n",
      "Validation DataLoader 0: 100%|███████████████████████████████████████████████████████████| 8/8 [00:00<00:00, 82.77it/s]\u001b[A\n",
      "Epoch 27: 100%|██████████████████████████████| 22/22 [00:00<00:00, 49.19it/s, v_num=13, train_acc=0.867, val_acc=0.915]\u001b[A"
     ]
    },
    {
     "name": "stderr",
     "output_type": "stream",
     "text": [
      "Metric val_loss improved by 0.009 >= min_delta = 0.0. New best score: 0.373\n"
     ]
    },
    {
     "name": "stdout",
     "output_type": "stream",
     "text": [
      "Epoch 28: 100%|██████████████████████████████| 22/22 [00:00<00:00, 72.36it/s, v_num=13, train_acc=0.733, val_acc=0.915]\n",
      "Validation: |                                                                                    | 0/? [00:00<?, ?it/s]\u001b[A\n",
      "Validation:   0%|                                                                                | 0/8 [00:00<?, ?it/s]\u001b[A\n",
      "Validation DataLoader 0:   0%|                                                                   | 0/8 [00:00<?, ?it/s]\u001b[A\n",
      "Validation DataLoader 0:  12%|███████▍                                                   | 1/8 [00:00<00:00, 67.06it/s]\u001b[A\n",
      "Validation DataLoader 0:  25%|██████████████▊                                            | 2/8 [00:00<00:00, 78.23it/s]\u001b[A\n",
      "Validation DataLoader 0:  38%|██████████████████████▏                                    | 3/8 [00:00<00:00, 77.86it/s]\u001b[A\n",
      "Validation DataLoader 0:  50%|█████████████████████████████▌                             | 4/8 [00:00<00:00, 80.24it/s]\u001b[A\n",
      "Validation DataLoader 0:  62%|████████████████████████████████████▉                      | 5/8 [00:00<00:00, 79.26it/s]\u001b[A\n",
      "Validation DataLoader 0:  75%|████████████████████████████████████████████▎              | 6/8 [00:00<00:00, 79.03it/s]\u001b[A\n",
      "Validation DataLoader 0:  88%|███████████████████████████████████████████████████▋       | 7/8 [00:00<00:00, 80.56it/s]\u001b[A\n",
      "Validation DataLoader 0: 100%|███████████████████████████████████████████████████████████| 8/8 [00:00<00:00, 81.28it/s]\u001b[A\n",
      "Epoch 28: 100%|██████████████████████████████| 22/22 [00:00<00:00, 50.88it/s, v_num=13, train_acc=0.733, val_acc=0.920]\u001b[A"
     ]
    },
    {
     "name": "stderr",
     "output_type": "stream",
     "text": [
      "Metric val_loss improved by 0.010 >= min_delta = 0.0. New best score: 0.364\n"
     ]
    },
    {
     "name": "stdout",
     "output_type": "stream",
     "text": [
      "Epoch 29: 100%|██████████████████████████████| 22/22 [00:00<00:00, 69.47it/s, v_num=13, train_acc=0.733, val_acc=0.920]\n",
      "Validation: |                                                                                    | 0/? [00:00<?, ?it/s]\u001b[A\n",
      "Validation:   0%|                                                                                | 0/8 [00:00<?, ?it/s]\u001b[A\n",
      "Validation DataLoader 0:   0%|                                                                   | 0/8 [00:00<?, ?it/s]\u001b[A\n",
      "Validation DataLoader 0:  12%|███████▍                                                   | 1/8 [00:00<00:00, 66.92it/s]\u001b[A\n",
      "Validation DataLoader 0:  25%|██████████████▊                                            | 2/8 [00:00<00:00, 74.31it/s]\u001b[A\n",
      "Validation DataLoader 0:  38%|██████████████████████▏                                    | 3/8 [00:00<00:00, 71.99it/s]\u001b[A\n",
      "Validation DataLoader 0:  50%|█████████████████████████████▌                             | 4/8 [00:00<00:00, 75.75it/s]\u001b[A\n",
      "Validation DataLoader 0:  62%|████████████████████████████████████▉                      | 5/8 [00:00<00:00, 79.65it/s]\u001b[A\n",
      "Validation DataLoader 0:  75%|████████████████████████████████████████████▎              | 6/8 [00:00<00:00, 77.92it/s]\u001b[A\n",
      "Validation DataLoader 0:  88%|███████████████████████████████████████████████████▋       | 7/8 [00:00<00:00, 78.42it/s]\u001b[A\n",
      "Validation DataLoader 0: 100%|███████████████████████████████████████████████████████████| 8/8 [00:00<00:00, 78.58it/s]\u001b[A\n",
      "Epoch 29: 100%|██████████████████████████████| 22/22 [00:00<00:00, 48.86it/s, v_num=13, train_acc=0.733, val_acc=0.916]\u001b[A"
     ]
    },
    {
     "name": "stderr",
     "output_type": "stream",
     "text": [
      "Metric val_loss improved by 0.002 >= min_delta = 0.0. New best score: 0.361\n"
     ]
    },
    {
     "name": "stdout",
     "output_type": "stream",
     "text": [
      "Epoch 30: 100%|██████████████████████████████| 22/22 [00:00<00:00, 67.24it/s, v_num=13, train_acc=0.600, val_acc=0.916]\n",
      "Validation: |                                                                                    | 0/? [00:00<?, ?it/s]\u001b[A\n",
      "Validation:   0%|                                                                                | 0/8 [00:00<?, ?it/s]\u001b[A\n",
      "Validation DataLoader 0:   0%|                                                                   | 0/8 [00:00<?, ?it/s]\u001b[A\n",
      "Validation DataLoader 0:  12%|███████▍                                                   | 1/8 [00:00<00:00, 66.85it/s]\u001b[A\n",
      "Validation DataLoader 0:  25%|██████████████▊                                            | 2/8 [00:00<00:00, 70.23it/s]\u001b[A\n",
      "Validation DataLoader 0:  38%|██████████████████████▏                                    | 3/8 [00:00<00:00, 76.05it/s]\u001b[A\n",
      "Validation DataLoader 0:  50%|█████████████████████████████▌                             | 4/8 [00:00<00:00, 77.56it/s]\u001b[A\n",
      "Validation DataLoader 0:  62%|████████████████████████████████████▉                      | 5/8 [00:00<00:00, 81.14it/s]\u001b[A\n",
      "Validation DataLoader 0:  75%|████████████████████████████████████████████▎              | 6/8 [00:00<00:00, 81.54it/s]\u001b[A\n",
      "Validation DataLoader 0:  88%|███████████████████████████████████████████████████▋       | 7/8 [00:00<00:00, 82.80it/s]\u001b[A\n",
      "Validation DataLoader 0: 100%|███████████████████████████████████████████████████████████| 8/8 [00:00<00:00, 84.64it/s]\u001b[A\n",
      "Epoch 30: 100%|██████████████████████████████| 22/22 [00:00<00:00, 48.18it/s, v_num=13, train_acc=0.600, val_acc=0.916]\u001b[A"
     ]
    },
    {
     "name": "stderr",
     "output_type": "stream",
     "text": [
      "Metric val_loss improved by 0.003 >= min_delta = 0.0. New best score: 0.358\n"
     ]
    },
    {
     "name": "stdout",
     "output_type": "stream",
     "text": [
      "Epoch 31: 100%|██████████████████████████████| 22/22 [00:00<00:00, 68.11it/s, v_num=13, train_acc=0.800, val_acc=0.916]\n",
      "Validation: |                                                                                    | 0/? [00:00<?, ?it/s]\u001b[A\n",
      "Validation:   0%|                                                                                | 0/8 [00:00<?, ?it/s]\u001b[A\n",
      "Validation DataLoader 0:   0%|                                                                   | 0/8 [00:00<?, ?it/s]\u001b[A\n",
      "Validation DataLoader 0:  12%|███████▍                                                   | 1/8 [00:00<00:00, 54.57it/s]\u001b[A\n",
      "Validation DataLoader 0:  25%|██████████████▊                                            | 2/8 [00:00<00:00, 63.85it/s]\u001b[A\n",
      "Validation DataLoader 0:  38%|██████████████████████▏                                    | 3/8 [00:00<00:00, 66.68it/s]\u001b[A\n",
      "Validation DataLoader 0:  50%|█████████████████████████████▌                             | 4/8 [00:00<00:00, 68.75it/s]\u001b[A\n",
      "Validation DataLoader 0:  62%|████████████████████████████████████▉                      | 5/8 [00:00<00:00, 68.82it/s]\u001b[A\n",
      "Validation DataLoader 0:  75%|████████████████████████████████████████████▎              | 6/8 [00:00<00:00, 67.95it/s]\u001b[A\n",
      "Validation DataLoader 0:  88%|███████████████████████████████████████████████████▋       | 7/8 [00:00<00:00, 68.31it/s]\u001b[A\n",
      "Validation DataLoader 0: 100%|███████████████████████████████████████████████████████████| 8/8 [00:00<00:00, 70.52it/s]\u001b[A\n",
      "Epoch 31: 100%|██████████████████████████████| 22/22 [00:00<00:00, 46.90it/s, v_num=13, train_acc=0.800, val_acc=0.923]\u001b[A"
     ]
    },
    {
     "name": "stderr",
     "output_type": "stream",
     "text": [
      "Metric val_loss improved by 0.007 >= min_delta = 0.0. New best score: 0.350\n"
     ]
    },
    {
     "name": "stdout",
     "output_type": "stream",
     "text": [
      "Epoch 32: 100%|██████████████████████████████| 22/22 [00:00<00:00, 66.54it/s, v_num=13, train_acc=0.667, val_acc=0.923]\n",
      "Validation: |                                                                                    | 0/? [00:00<?, ?it/s]\u001b[A\n",
      "Validation:   0%|                                                                                | 0/8 [00:00<?, ?it/s]\u001b[A\n",
      "Validation DataLoader 0:   0%|                                                                   | 0/8 [00:00<?, ?it/s]\u001b[A\n",
      "Validation DataLoader 0:  12%|███████▍                                                   | 1/8 [00:00<00:00, 64.15it/s]\u001b[A\n",
      "Validation DataLoader 0:  25%|██████████████▊                                            | 2/8 [00:00<00:00, 78.24it/s]\u001b[A\n",
      "Validation DataLoader 0:  38%|██████████████████████▏                                    | 3/8 [00:00<00:00, 78.96it/s]\u001b[A\n",
      "Validation DataLoader 0:  50%|█████████████████████████████▌                             | 4/8 [00:00<00:00, 78.77it/s]\u001b[A\n",
      "Validation DataLoader 0:  62%|████████████████████████████████████▉                      | 5/8 [00:00<00:00, 77.98it/s]\u001b[A\n",
      "Validation DataLoader 0:  75%|████████████████████████████████████████████▎              | 6/8 [00:00<00:00, 80.98it/s]\u001b[A\n",
      "Validation DataLoader 0:  88%|███████████████████████████████████████████████████▋       | 7/8 [00:00<00:00, 81.47it/s]\u001b[A\n",
      "Validation DataLoader 0: 100%|███████████████████████████████████████████████████████████| 8/8 [00:00<00:00, 82.53it/s]\u001b[A\n",
      "Epoch 32: 100%|██████████████████████████████| 22/22 [00:00<00:00, 47.43it/s, v_num=13, train_acc=0.667, val_acc=0.923]\u001b[A"
     ]
    },
    {
     "name": "stderr",
     "output_type": "stream",
     "text": [
      "Metric val_loss improved by 0.006 >= min_delta = 0.0. New best score: 0.345\n"
     ]
    },
    {
     "name": "stdout",
     "output_type": "stream",
     "text": [
      "Epoch 33: 100%|██████████████████████████████| 22/22 [00:00<00:00, 71.25it/s, v_num=13, train_acc=0.667, val_acc=0.923]\n",
      "Validation: |                                                                                    | 0/? [00:00<?, ?it/s]\u001b[A\n",
      "Validation:   0%|                                                                                | 0/8 [00:00<?, ?it/s]\u001b[A\n",
      "Validation DataLoader 0:   0%|                                                                   | 0/8 [00:00<?, ?it/s]\u001b[A\n",
      "Validation DataLoader 0:  12%|███████▍                                                   | 1/8 [00:00<00:00, 60.40it/s]\u001b[A\n",
      "Validation DataLoader 0:  25%|██████████████▊                                            | 2/8 [00:00<00:00, 66.91it/s]\u001b[A\n",
      "Validation DataLoader 0:  38%|██████████████████████▏                                    | 3/8 [00:00<00:00, 72.52it/s]\u001b[A\n",
      "Validation DataLoader 0:  50%|█████████████████████████████▌                             | 4/8 [00:00<00:00, 71.16it/s]\u001b[A\n",
      "Validation DataLoader 0:  62%|████████████████████████████████████▉                      | 5/8 [00:00<00:00, 67.77it/s]\u001b[A\n",
      "Validation DataLoader 0:  75%|████████████████████████████████████████████▎              | 6/8 [00:00<00:00, 70.46it/s]\u001b[A\n",
      "Validation DataLoader 0:  88%|███████████████████████████████████████████████████▋       | 7/8 [00:00<00:00, 71.78it/s]\u001b[A\n",
      "Validation DataLoader 0: 100%|███████████████████████████████████████████████████████████| 8/8 [00:00<00:00, 74.70it/s]\u001b[A\n",
      "Epoch 33: 100%|██████████████████████████████| 22/22 [00:00<00:00, 49.43it/s, v_num=13, train_acc=0.667, val_acc=0.925]\u001b[A"
     ]
    },
    {
     "name": "stderr",
     "output_type": "stream",
     "text": [
      "Metric val_loss improved by 0.006 >= min_delta = 0.0. New best score: 0.339\n"
     ]
    },
    {
     "name": "stdout",
     "output_type": "stream",
     "text": [
      "Epoch 34: 100%|██████████████████████████████| 22/22 [00:00<00:00, 69.80it/s, v_num=13, train_acc=0.600, val_acc=0.925]\n",
      "Validation: |                                                                                    | 0/? [00:00<?, ?it/s]\u001b[A\n",
      "Validation:   0%|                                                                                | 0/8 [00:00<?, ?it/s]\u001b[A\n",
      "Validation DataLoader 0:   0%|                                                                   | 0/8 [00:00<?, ?it/s]\u001b[A\n",
      "Validation DataLoader 0:  12%|███████▍                                                   | 1/8 [00:00<00:00, 63.86it/s]\u001b[A\n",
      "Validation DataLoader 0:  25%|██████████████▊                                            | 2/8 [00:00<00:00, 74.07it/s]\u001b[A\n",
      "Validation DataLoader 0:  38%|██████████████████████▏                                    | 3/8 [00:00<00:00, 76.98it/s]\u001b[A\n",
      "Validation DataLoader 0:  50%|█████████████████████████████▌                             | 4/8 [00:00<00:00, 78.37it/s]\u001b[A\n",
      "Validation DataLoader 0:  62%|████████████████████████████████████▉                      | 5/8 [00:00<00:00, 81.94it/s]\u001b[A\n",
      "Validation DataLoader 0:  75%|████████████████████████████████████████████▎              | 6/8 [00:00<00:00, 80.30it/s]\u001b[A\n",
      "Validation DataLoader 0:  88%|███████████████████████████████████████████████████▋       | 7/8 [00:00<00:00, 74.10it/s]\u001b[A\n",
      "Validation DataLoader 0: 100%|███████████████████████████████████████████████████████████| 8/8 [00:00<00:00, 77.38it/s]\u001b[A\n",
      "Epoch 34: 100%|██████████████████████████████| 22/22 [00:00<00:00, 48.97it/s, v_num=13, train_acc=0.600, val_acc=0.922]\u001b[A"
     ]
    },
    {
     "name": "stderr",
     "output_type": "stream",
     "text": [
      "Metric val_loss improved by 0.004 >= min_delta = 0.0. New best score: 0.335\n"
     ]
    },
    {
     "name": "stdout",
     "output_type": "stream",
     "text": [
      "Epoch 35: 100%|██████████████████████████████| 22/22 [00:00<00:00, 60.13it/s, v_num=13, train_acc=0.600, val_acc=0.922]\n",
      "Validation: |                                                                                    | 0/? [00:00<?, ?it/s]\u001b[A\n",
      "Validation:   0%|                                                                                | 0/8 [00:00<?, ?it/s]\u001b[A\n",
      "Validation DataLoader 0:   0%|                                                                   | 0/8 [00:00<?, ?it/s]\u001b[A\n",
      "Validation DataLoader 0:  12%|███████▍                                                   | 1/8 [00:00<00:00, 65.95it/s]\u001b[A\n",
      "Validation DataLoader 0:  25%|██████████████▊                                            | 2/8 [00:00<00:00, 75.66it/s]\u001b[A\n",
      "Validation DataLoader 0:  38%|██████████████████████▏                                    | 3/8 [00:00<00:00, 76.47it/s]\u001b[A\n",
      "Validation DataLoader 0:  50%|█████████████████████████████▌                             | 4/8 [00:00<00:00, 79.50it/s]\u001b[A\n",
      "Validation DataLoader 0:  62%|████████████████████████████████████▉                      | 5/8 [00:00<00:00, 79.61it/s]\u001b[A\n",
      "Validation DataLoader 0:  75%|████████████████████████████████████████████▎              | 6/8 [00:00<00:00, 80.53it/s]\u001b[A\n",
      "Validation DataLoader 0:  88%|███████████████████████████████████████████████████▋       | 7/8 [00:00<00:00, 82.05it/s]\u001b[A\n",
      "Validation DataLoader 0: 100%|███████████████████████████████████████████████████████████| 8/8 [00:00<00:00, 84.28it/s]\u001b[A\n",
      "Epoch 35: 100%|██████████████████████████████| 22/22 [00:00<00:00, 43.94it/s, v_num=13, train_acc=0.600, val_acc=0.923]\u001b[A"
     ]
    },
    {
     "name": "stderr",
     "output_type": "stream",
     "text": [
      "Metric val_loss improved by 0.005 >= min_delta = 0.0. New best score: 0.329\n"
     ]
    },
    {
     "name": "stdout",
     "output_type": "stream",
     "text": [
      "Epoch 36: 100%|██████████████████████████████| 22/22 [00:00<00:00, 69.42it/s, v_num=13, train_acc=0.733, val_acc=0.923]\n",
      "Validation: |                                                                                    | 0/? [00:00<?, ?it/s]\u001b[A\n",
      "Validation:   0%|                                                                                | 0/8 [00:00<?, ?it/s]\u001b[A\n",
      "Validation DataLoader 0:   0%|                                                                   | 0/8 [00:00<?, ?it/s]\u001b[A\n",
      "Validation DataLoader 0:  12%|███████▍                                                   | 1/8 [00:00<00:00, 72.17it/s]\u001b[A\n",
      "Validation DataLoader 0:  25%|██████████████▊                                            | 2/8 [00:00<00:00, 74.57it/s]\u001b[A\n",
      "Validation DataLoader 0:  38%|██████████████████████▏                                    | 3/8 [00:00<00:00, 77.34it/s]\u001b[A\n",
      "Validation DataLoader 0:  50%|█████████████████████████████▌                             | 4/8 [00:00<00:00, 78.80it/s]\u001b[A\n",
      "Validation DataLoader 0:  62%|████████████████████████████████████▉                      | 5/8 [00:00<00:00, 78.47it/s]\u001b[A\n",
      "Validation DataLoader 0:  75%|████████████████████████████████████████████▎              | 6/8 [00:00<00:00, 80.51it/s]\u001b[A\n",
      "Validation DataLoader 0:  88%|███████████████████████████████████████████████████▋       | 7/8 [00:00<00:00, 81.31it/s]\u001b[A\n",
      "Validation DataLoader 0: 100%|███████████████████████████████████████████████████████████| 8/8 [00:00<00:00, 83.28it/s]\u001b[A\n",
      "Epoch 37: 100%|██████████████████████████████| 22/22 [00:00<00:00, 73.90it/s, v_num=13, train_acc=0.333, val_acc=0.919]\u001b[A\n",
      "Validation: |                                                                                    | 0/? [00:00<?, ?it/s]\u001b[A\n",
      "Validation:   0%|                                                                                | 0/8 [00:00<?, ?it/s]\u001b[A\n",
      "Validation DataLoader 0:   0%|                                                                   | 0/8 [00:00<?, ?it/s]\u001b[A\n",
      "Validation DataLoader 0:  12%|███████▍                                                   | 1/8 [00:00<00:00, 63.41it/s]\u001b[A\n",
      "Validation DataLoader 0:  25%|██████████████▊                                            | 2/8 [00:00<00:00, 77.69it/s]\u001b[A\n",
      "Validation DataLoader 0:  38%|██████████████████████▏                                    | 3/8 [00:00<00:00, 79.88it/s]\u001b[A\n",
      "Validation DataLoader 0:  50%|█████████████████████████████▌                             | 4/8 [00:00<00:00, 80.50it/s]\u001b[A\n",
      "Validation DataLoader 0:  62%|████████████████████████████████████▉                      | 5/8 [00:00<00:00, 81.38it/s]\u001b[A\n",
      "Validation DataLoader 0:  75%|████████████████████████████████████████████▎              | 6/8 [00:00<00:00, 80.64it/s]\u001b[A\n",
      "Validation DataLoader 0:  88%|███████████████████████████████████████████████████▋       | 7/8 [00:00<00:00, 83.28it/s]\u001b[A\n",
      "Validation DataLoader 0: 100%|███████████████████████████████████████████████████████████| 8/8 [00:00<00:00, 86.00it/s]\u001b[A\n",
      "Epoch 37: 100%|██████████████████████████████| 22/22 [00:00<00:00, 52.14it/s, v_num=13, train_acc=0.333, val_acc=0.921]\u001b[A"
     ]
    },
    {
     "name": "stderr",
     "output_type": "stream",
     "text": [
      "Metric val_loss improved by 0.003 >= min_delta = 0.0. New best score: 0.326\n"
     ]
    },
    {
     "name": "stdout",
     "output_type": "stream",
     "text": [
      "Epoch 38: 100%|██████████████████████████████| 22/22 [00:00<00:00, 73.71it/s, v_num=13, train_acc=0.867, val_acc=0.921]\n",
      "Validation: |                                                                                    | 0/? [00:00<?, ?it/s]\u001b[A\n",
      "Validation:   0%|                                                                                | 0/8 [00:00<?, ?it/s]\u001b[A\n",
      "Validation DataLoader 0:   0%|                                                                   | 0/8 [00:00<?, ?it/s]\u001b[A\n",
      "Validation DataLoader 0:  12%|███████▍                                                   | 1/8 [00:00<00:00, 71.63it/s]\u001b[A\n",
      "Validation DataLoader 0:  25%|██████████████▊                                            | 2/8 [00:00<00:00, 72.38it/s]\u001b[A\n",
      "Validation DataLoader 0:  38%|██████████████████████▏                                    | 3/8 [00:00<00:00, 79.77it/s]\u001b[A\n",
      "Validation DataLoader 0:  50%|█████████████████████████████▌                             | 4/8 [00:00<00:00, 82.09it/s]\u001b[A\n",
      "Validation DataLoader 0:  62%|████████████████████████████████████▉                      | 5/8 [00:00<00:00, 82.81it/s]\u001b[A\n",
      "Validation DataLoader 0:  75%|████████████████████████████████████████████▎              | 6/8 [00:00<00:00, 82.93it/s]\u001b[A\n",
      "Validation DataLoader 0:  88%|███████████████████████████████████████████████████▋       | 7/8 [00:00<00:00, 82.56it/s]\u001b[A\n",
      "Validation DataLoader 0: 100%|███████████████████████████████████████████████████████████| 8/8 [00:00<00:00, 84.39it/s]\u001b[A\n",
      "Epoch 38: 100%|██████████████████████████████| 22/22 [00:00<00:00, 51.93it/s, v_num=13, train_acc=0.867, val_acc=0.922]\u001b[A"
     ]
    },
    {
     "name": "stderr",
     "output_type": "stream",
     "text": [
      "Metric val_loss improved by 0.001 >= min_delta = 0.0. New best score: 0.325\n"
     ]
    },
    {
     "name": "stdout",
     "output_type": "stream",
     "text": [
      "Epoch 39: 100%|██████████████████████████████| 22/22 [00:00<00:00, 72.50it/s, v_num=13, train_acc=0.733, val_acc=0.922]\n",
      "Validation: |                                                                                    | 0/? [00:00<?, ?it/s]\u001b[A\n",
      "Validation:   0%|                                                                                | 0/8 [00:00<?, ?it/s]\u001b[A\n",
      "Validation DataLoader 0:   0%|                                                                   | 0/8 [00:00<?, ?it/s]\u001b[A\n",
      "Validation DataLoader 0:  12%|███████▍                                                   | 1/8 [00:00<00:00, 60.27it/s]\u001b[A\n",
      "Validation DataLoader 0:  25%|██████████████▊                                            | 2/8 [00:00<00:00, 72.56it/s]\u001b[A\n",
      "Validation DataLoader 0:  38%|██████████████████████▏                                    | 3/8 [00:00<00:00, 75.58it/s]\u001b[A\n",
      "Validation DataLoader 0:  50%|█████████████████████████████▌                             | 4/8 [00:00<00:00, 78.95it/s]\u001b[A\n",
      "Validation DataLoader 0:  62%|████████████████████████████████████▉                      | 5/8 [00:00<00:00, 82.46it/s]\u001b[A\n",
      "Validation DataLoader 0:  75%|████████████████████████████████████████████▎              | 6/8 [00:00<00:00, 83.97it/s]\u001b[A\n",
      "Validation DataLoader 0:  88%|███████████████████████████████████████████████████▋       | 7/8 [00:00<00:00, 85.96it/s]\u001b[A\n",
      "Validation DataLoader 0: 100%|███████████████████████████████████████████████████████████| 8/8 [00:00<00:00, 88.64it/s]\u001b[A\n",
      "Epoch 39: 100%|██████████████████████████████| 22/22 [00:00<00:00, 50.72it/s, v_num=13, train_acc=0.733, val_acc=0.932]\u001b[A"
     ]
    },
    {
     "name": "stderr",
     "output_type": "stream",
     "text": [
      "Metric val_loss improved by 0.010 >= min_delta = 0.0. New best score: 0.315\n"
     ]
    },
    {
     "name": "stdout",
     "output_type": "stream",
     "text": [
      "Epoch 40: 100%|██████████████████████████████| 22/22 [00:00<00:00, 66.77it/s, v_num=13, train_acc=0.933, val_acc=0.932]\n",
      "Validation: |                                                                                    | 0/? [00:00<?, ?it/s]\u001b[A\n",
      "Validation:   0%|                                                                                | 0/8 [00:00<?, ?it/s]\u001b[A\n",
      "Validation DataLoader 0:   0%|                                                                   | 0/8 [00:00<?, ?it/s]\u001b[A\n",
      "Validation DataLoader 0:  12%|███████▍                                                   | 1/8 [00:00<00:00, 49.40it/s]\u001b[A\n",
      "Validation DataLoader 0:  25%|██████████████▊                                            | 2/8 [00:00<00:00, 65.22it/s]\u001b[A\n",
      "Validation DataLoader 0:  38%|██████████████████████▏                                    | 3/8 [00:00<00:00, 72.05it/s]\u001b[A\n",
      "Validation DataLoader 0:  50%|█████████████████████████████▌                             | 4/8 [00:00<00:00, 73.39it/s]\u001b[A\n",
      "Validation DataLoader 0:  62%|████████████████████████████████████▉                      | 5/8 [00:00<00:00, 74.11it/s]\u001b[A\n",
      "Validation DataLoader 0:  75%|████████████████████████████████████████████▎              | 6/8 [00:00<00:00, 74.60it/s]\u001b[A\n",
      "Validation DataLoader 0:  88%|███████████████████████████████████████████████████▋       | 7/8 [00:00<00:00, 76.58it/s]\u001b[A\n",
      "Validation DataLoader 0: 100%|███████████████████████████████████████████████████████████| 8/8 [00:00<00:00, 78.91it/s]\u001b[A\n",
      "Epoch 41: 100%|██████████████████████████████| 22/22 [00:00<00:00, 73.68it/s, v_num=13, train_acc=0.600, val_acc=0.929]\u001b[A\n",
      "Validation: |                                                                                    | 0/? [00:00<?, ?it/s]\u001b[A\n",
      "Validation:   0%|                                                                                | 0/8 [00:00<?, ?it/s]\u001b[A\n",
      "Validation DataLoader 0:   0%|                                                                   | 0/8 [00:00<?, ?it/s]\u001b[A\n",
      "Validation DataLoader 0:  12%|███████▍                                                   | 1/8 [00:00<00:00, 67.31it/s]\u001b[A\n",
      "Validation DataLoader 0:  25%|██████████████▊                                            | 2/8 [00:00<00:00, 69.89it/s]\u001b[A\n",
      "Validation DataLoader 0:  38%|██████████████████████▏                                    | 3/8 [00:00<00:00, 77.74it/s]\u001b[A\n",
      "Validation DataLoader 0:  50%|█████████████████████████████▌                             | 4/8 [00:00<00:00, 80.86it/s]\u001b[A\n",
      "Validation DataLoader 0:  62%|████████████████████████████████████▉                      | 5/8 [00:00<00:00, 80.76it/s]\u001b[A\n",
      "Validation DataLoader 0:  75%|████████████████████████████████████████████▎              | 6/8 [00:00<00:00, 82.32it/s]\u001b[A\n",
      "Validation DataLoader 0:  88%|███████████████████████████████████████████████████▋       | 7/8 [00:00<00:00, 84.48it/s]\u001b[A\n",
      "Validation DataLoader 0: 100%|███████████████████████████████████████████████████████████| 8/8 [00:00<00:00, 85.26it/s]\u001b[A\n",
      "Epoch 41: 100%|██████████████████████████████| 22/22 [00:00<00:00, 52.29it/s, v_num=13, train_acc=0.600, val_acc=0.937]\u001b[A"
     ]
    },
    {
     "name": "stderr",
     "output_type": "stream",
     "text": [
      "Metric val_loss improved by 0.004 >= min_delta = 0.0. New best score: 0.311\n"
     ]
    },
    {
     "name": "stdout",
     "output_type": "stream",
     "text": [
      "Epoch 42: 100%|██████████████████████████████| 22/22 [00:00<00:00, 71.10it/s, v_num=13, train_acc=0.800, val_acc=0.937]\n",
      "Validation: |                                                                                    | 0/? [00:00<?, ?it/s]\u001b[A\n",
      "Validation:   0%|                                                                                | 0/8 [00:00<?, ?it/s]\u001b[A\n",
      "Validation DataLoader 0:   0%|                                                                   | 0/8 [00:00<?, ?it/s]\u001b[A\n",
      "Validation DataLoader 0:  12%|███████▍                                                   | 1/8 [00:00<00:00, 55.70it/s]\u001b[A\n",
      "Validation DataLoader 0:  25%|██████████████▊                                            | 2/8 [00:00<00:00, 67.10it/s]\u001b[A\n",
      "Validation DataLoader 0:  38%|██████████████████████▏                                    | 3/8 [00:00<00:00, 77.36it/s]\u001b[A\n",
      "Validation DataLoader 0:  50%|█████████████████████████████▌                             | 4/8 [00:00<00:00, 77.53it/s]\u001b[A\n",
      "Validation DataLoader 0:  62%|████████████████████████████████████▉                      | 5/8 [00:00<00:00, 77.99it/s]\u001b[A\n",
      "Validation DataLoader 0:  75%|████████████████████████████████████████████▎              | 6/8 [00:00<00:00, 79.92it/s]\u001b[A\n",
      "Validation DataLoader 0:  88%|███████████████████████████████████████████████████▋       | 7/8 [00:00<00:00, 82.31it/s]\u001b[A\n",
      "Validation DataLoader 0: 100%|███████████████████████████████████████████████████████████| 8/8 [00:00<00:00, 84.19it/s]\u001b[A\n",
      "Epoch 43: 100%|██████████████████████████████| 22/22 [00:00<00:00, 53.64it/s, v_num=13, train_acc=0.733, val_acc=0.930]\u001b[A\n",
      "Validation: |                                                                                    | 0/? [00:00<?, ?it/s]\u001b[A\n",
      "Validation:   0%|                                                                                | 0/8 [00:00<?, ?it/s]\u001b[A\n",
      "Validation DataLoader 0:   0%|                                                                   | 0/8 [00:00<?, ?it/s]\u001b[A\n",
      "Validation DataLoader 0:  12%|███████▍                                                   | 1/8 [00:00<00:00, 67.57it/s]\u001b[A\n",
      "Validation DataLoader 0:  25%|██████████████▊                                            | 2/8 [00:00<00:00, 72.67it/s]\u001b[A\n",
      "Validation DataLoader 0:  38%|██████████████████████▏                                    | 3/8 [00:00<00:00, 78.15it/s]\u001b[A\n",
      "Validation DataLoader 0:  50%|█████████████████████████████▌                             | 4/8 [00:00<00:00, 81.10it/s]\u001b[A\n",
      "Validation DataLoader 0:  62%|████████████████████████████████████▉                      | 5/8 [00:00<00:00, 84.75it/s]\u001b[A\n",
      "Validation DataLoader 0:  75%|████████████████████████████████████████████▎              | 6/8 [00:00<00:00, 82.40it/s]\u001b[A\n",
      "Validation DataLoader 0:  88%|███████████████████████████████████████████████████▋       | 7/8 [00:00<00:00, 82.27it/s]\u001b[A\n",
      "Validation DataLoader 0: 100%|███████████████████████████████████████████████████████████| 8/8 [00:00<00:00, 85.05it/s]\u001b[A\n",
      "Epoch 43: 100%|██████████████████████████████| 22/22 [00:00<00:00, 41.22it/s, v_num=13, train_acc=0.733, val_acc=0.930]\u001b[A"
     ]
    },
    {
     "name": "stderr",
     "output_type": "stream",
     "text": [
      "Metric val_loss improved by 0.001 >= min_delta = 0.0. New best score: 0.310\n"
     ]
    },
    {
     "name": "stdout",
     "output_type": "stream",
     "text": [
      "Epoch 44: 100%|██████████████████████████████| 22/22 [00:00<00:00, 70.98it/s, v_num=13, train_acc=0.800, val_acc=0.930]\n",
      "Validation: |                                                                                    | 0/? [00:00<?, ?it/s]\u001b[A\n",
      "Validation:   0%|                                                                                | 0/8 [00:00<?, ?it/s]\u001b[A\n",
      "Validation DataLoader 0:   0%|                                                                   | 0/8 [00:00<?, ?it/s]\u001b[A\n",
      "Validation DataLoader 0:  12%|███████▍                                                   | 1/8 [00:00<00:00, 68.79it/s]\u001b[A\n",
      "Validation DataLoader 0:  25%|██████████████▊                                            | 2/8 [00:00<00:00, 75.02it/s]\u001b[A\n",
      "Validation DataLoader 0:  38%|██████████████████████▏                                    | 3/8 [00:00<00:00, 80.25it/s]\u001b[A\n",
      "Validation DataLoader 0:  50%|█████████████████████████████▌                             | 4/8 [00:00<00:00, 80.62it/s]\u001b[A\n",
      "Validation DataLoader 0:  62%|████████████████████████████████████▉                      | 5/8 [00:00<00:00, 81.19it/s]\u001b[A\n",
      "Validation DataLoader 0:  75%|████████████████████████████████████████████▎              | 6/8 [00:00<00:00, 82.24it/s]\u001b[A\n",
      "Validation DataLoader 0:  88%|███████████████████████████████████████████████████▋       | 7/8 [00:00<00:00, 81.85it/s]\u001b[A\n",
      "Validation DataLoader 0: 100%|███████████████████████████████████████████████████████████| 8/8 [00:00<00:00, 85.56it/s]\u001b[A\n",
      "Epoch 44: 100%|██████████████████████████████| 22/22 [00:00<00:00, 50.76it/s, v_num=13, train_acc=0.800, val_acc=0.932]\u001b[A"
     ]
    },
    {
     "name": "stderr",
     "output_type": "stream",
     "text": [
      "Metric val_loss improved by 0.013 >= min_delta = 0.0. New best score: 0.297\n"
     ]
    },
    {
     "name": "stdout",
     "output_type": "stream",
     "text": [
      "Epoch 45: 100%|██████████████████████████████| 22/22 [00:00<00:00, 70.49it/s, v_num=13, train_acc=0.733, val_acc=0.932]\n",
      "Validation: |                                                                                    | 0/? [00:00<?, ?it/s]\u001b[A\n",
      "Validation:   0%|                                                                                | 0/8 [00:00<?, ?it/s]\u001b[A\n",
      "Validation DataLoader 0:   0%|                                                                   | 0/8 [00:00<?, ?it/s]\u001b[A\n",
      "Validation DataLoader 0:  12%|███████▍                                                   | 1/8 [00:00<00:00, 71.73it/s]\u001b[A\n",
      "Validation DataLoader 0:  25%|██████████████▊                                            | 2/8 [00:00<00:00, 74.33it/s]\u001b[A\n",
      "Validation DataLoader 0:  38%|██████████████████████▏                                    | 3/8 [00:00<00:00, 77.92it/s]\u001b[A\n",
      "Validation DataLoader 0:  50%|█████████████████████████████▌                             | 4/8 [00:00<00:00, 79.29it/s]\u001b[A\n",
      "Validation DataLoader 0:  62%|████████████████████████████████████▉                      | 5/8 [00:00<00:00, 79.19it/s]\u001b[A\n",
      "Validation DataLoader 0:  75%|████████████████████████████████████████████▎              | 6/8 [00:00<00:00, 80.48it/s]\u001b[A\n",
      "Validation DataLoader 0:  88%|███████████████████████████████████████████████████▋       | 7/8 [00:00<00:00, 80.92it/s]\u001b[A\n",
      "Validation DataLoader 0: 100%|███████████████████████████████████████████████████████████| 8/8 [00:00<00:00, 82.08it/s]\u001b[A\n",
      "Epoch 46: 100%|██████████████████████████████| 22/22 [00:00<00:00, 72.61it/s, v_num=13, train_acc=0.733, val_acc=0.928]\u001b[A\n",
      "Validation: |                                                                                    | 0/? [00:00<?, ?it/s]\u001b[A\n",
      "Validation:   0%|                                                                                | 0/8 [00:00<?, ?it/s]\u001b[A\n",
      "Validation DataLoader 0:   0%|                                                                   | 0/8 [00:00<?, ?it/s]\u001b[A\n",
      "Validation DataLoader 0:  12%|███████▍                                                   | 1/8 [00:00<00:00, 63.11it/s]\u001b[A\n",
      "Validation DataLoader 0:  25%|██████████████▊                                            | 2/8 [00:00<00:00, 70.93it/s]\u001b[A\n",
      "Validation DataLoader 0:  38%|██████████████████████▏                                    | 3/8 [00:00<00:00, 77.16it/s]\u001b[A\n",
      "Validation DataLoader 0:  50%|█████████████████████████████▌                             | 4/8 [00:00<00:00, 82.38it/s]\u001b[A\n",
      "Validation DataLoader 0:  62%|████████████████████████████████████▉                      | 5/8 [00:00<00:00, 84.33it/s]\u001b[A\n",
      "Validation DataLoader 0:  75%|████████████████████████████████████████████▎              | 6/8 [00:00<00:00, 86.60it/s]\u001b[A\n",
      "Validation DataLoader 0:  88%|███████████████████████████████████████████████████▋       | 7/8 [00:00<00:00, 86.70it/s]\u001b[A\n",
      "Validation DataLoader 0: 100%|███████████████████████████████████████████████████████████| 8/8 [00:00<00:00, 88.04it/s]\u001b[A\n",
      "Epoch 47: 100%|██████████████████████████████| 22/22 [00:00<00:00, 72.52it/s, v_num=13, train_acc=0.800, val_acc=0.923]\u001b[A\n",
      "Validation: |                                                                                    | 0/? [00:00<?, ?it/s]\u001b[A\n",
      "Validation:   0%|                                                                                | 0/8 [00:00<?, ?it/s]\u001b[A\n",
      "Validation DataLoader 0:   0%|                                                                   | 0/8 [00:00<?, ?it/s]\u001b[A\n",
      "Validation DataLoader 0:  12%|███████▍                                                   | 1/8 [00:00<00:00, 67.64it/s]\u001b[A\n",
      "Validation DataLoader 0:  25%|██████████████▊                                            | 2/8 [00:00<00:00, 79.19it/s]\u001b[A\n",
      "Validation DataLoader 0:  38%|██████████████████████▏                                    | 3/8 [00:00<00:00, 83.35it/s]\u001b[A\n",
      "Validation DataLoader 0:  50%|█████████████████████████████▌                             | 4/8 [00:00<00:00, 81.66it/s]\u001b[A\n",
      "Validation DataLoader 0:  62%|████████████████████████████████████▉                      | 5/8 [00:00<00:00, 85.32it/s]\u001b[A\n",
      "Validation DataLoader 0:  75%|████████████████████████████████████████████▎              | 6/8 [00:00<00:00, 85.34it/s]\u001b[A\n",
      "Validation DataLoader 0:  88%|███████████████████████████████████████████████████▋       | 7/8 [00:00<00:00, 86.55it/s]\u001b[A\n",
      "Validation DataLoader 0: 100%|███████████████████████████████████████████████████████████| 8/8 [00:00<00:00, 87.97it/s]\u001b[A\n",
      "Epoch 48: 100%|██████████████████████████████| 22/22 [00:00<00:00, 73.27it/s, v_num=13, train_acc=0.667, val_acc=0.928]\u001b[A\n",
      "Validation: |                                                                                    | 0/? [00:00<?, ?it/s]\u001b[A\n",
      "Validation:   0%|                                                                                | 0/8 [00:00<?, ?it/s]\u001b[A\n",
      "Validation DataLoader 0:   0%|                                                                   | 0/8 [00:00<?, ?it/s]\u001b[A\n",
      "Validation DataLoader 0:  12%|███████▍                                                   | 1/8 [00:00<00:00, 62.56it/s]\u001b[A\n",
      "Validation DataLoader 0:  25%|██████████████▊                                            | 2/8 [00:00<00:00, 77.04it/s]\u001b[A\n",
      "Validation DataLoader 0:  38%|██████████████████████▏                                    | 3/8 [00:00<00:00, 83.46it/s]\u001b[A\n",
      "Validation DataLoader 0:  50%|█████████████████████████████▌                             | 4/8 [00:00<00:00, 82.77it/s]\u001b[A\n",
      "Validation DataLoader 0:  62%|████████████████████████████████████▉                      | 5/8 [00:00<00:00, 83.60it/s]\u001b[A\n",
      "Validation DataLoader 0:  75%|████████████████████████████████████████████▎              | 6/8 [00:00<00:00, 82.21it/s]\u001b[A\n",
      "Validation DataLoader 0:  88%|███████████████████████████████████████████████████▋       | 7/8 [00:00<00:00, 81.73it/s]\u001b[A\n",
      "Validation DataLoader 0: 100%|███████████████████████████████████████████████████████████| 8/8 [00:00<00:00, 82.20it/s]\u001b[A\n",
      "Epoch 48: 100%|██████████████████████████████| 22/22 [00:00<00:00, 51.32it/s, v_num=13, train_acc=0.667, val_acc=0.928]\u001b[A"
     ]
    },
    {
     "name": "stderr",
     "output_type": "stream",
     "text": [
      "Metric val_loss improved by 0.000 >= min_delta = 0.0. New best score: 0.297\n"
     ]
    },
    {
     "name": "stdout",
     "output_type": "stream",
     "text": [
      "Epoch 49: 100%|██████████████████████████████| 22/22 [00:00<00:00, 72.22it/s, v_num=13, train_acc=0.733, val_acc=0.928]\n",
      "Validation: |                                                                                    | 0/? [00:00<?, ?it/s]\u001b[A\n",
      "Validation:   0%|                                                                                | 0/8 [00:00<?, ?it/s]\u001b[A\n",
      "Validation DataLoader 0:   0%|                                                                   | 0/8 [00:00<?, ?it/s]\u001b[A\n",
      "Validation DataLoader 0:  12%|███████▍                                                   | 1/8 [00:00<00:00, 62.67it/s]\u001b[A\n",
      "Validation DataLoader 0:  25%|██████████████▊                                            | 2/8 [00:00<00:00, 71.62it/s]\u001b[A\n",
      "Validation DataLoader 0:  38%|██████████████████████▏                                    | 3/8 [00:00<00:00, 77.13it/s]\u001b[A\n",
      "Validation DataLoader 0:  50%|█████████████████████████████▌                             | 4/8 [00:00<00:00, 80.22it/s]\u001b[A\n",
      "Validation DataLoader 0:  62%|████████████████████████████████████▉                      | 5/8 [00:00<00:00, 81.58it/s]\u001b[A\n",
      "Validation DataLoader 0:  75%|████████████████████████████████████████████▎              | 6/8 [00:00<00:00, 81.90it/s]\u001b[A\n",
      "Validation DataLoader 0:  88%|███████████████████████████████████████████████████▋       | 7/8 [00:00<00:00, 84.50it/s]\u001b[A\n",
      "Validation DataLoader 0: 100%|███████████████████████████████████████████████████████████| 8/8 [00:00<00:00, 85.43it/s]\u001b[A\n",
      "Epoch 49: 100%|██████████████████████████████| 22/22 [00:00<00:00, 50.84it/s, v_num=13, train_acc=0.733, val_acc=0.935]\u001b[A"
     ]
    },
    {
     "name": "stderr",
     "output_type": "stream",
     "text": [
      "Metric val_loss improved by 0.004 >= min_delta = 0.0. New best score: 0.292\n"
     ]
    },
    {
     "name": "stdout",
     "output_type": "stream",
     "text": [
      "Epoch 50: 100%|██████████████████████████████| 22/22 [00:00<00:00, 73.87it/s, v_num=13, train_acc=0.933, val_acc=0.935]\n",
      "Validation: |                                                                                    | 0/? [00:00<?, ?it/s]\u001b[A\n",
      "Validation:   0%|                                                                                | 0/8 [00:00<?, ?it/s]\u001b[A\n",
      "Validation DataLoader 0:   0%|                                                                   | 0/8 [00:00<?, ?it/s]\u001b[A\n",
      "Validation DataLoader 0:  12%|███████▍                                                   | 1/8 [00:00<00:00, 66.85it/s]\u001b[A\n",
      "Validation DataLoader 0:  25%|██████████████▊                                            | 2/8 [00:00<00:00, 71.72it/s]\u001b[A\n",
      "Validation DataLoader 0:  38%|██████████████████████▏                                    | 3/8 [00:00<00:00, 78.16it/s]\u001b[A\n",
      "Validation DataLoader 0:  50%|█████████████████████████████▌                             | 4/8 [00:00<00:00, 82.52it/s]\u001b[A\n",
      "Validation DataLoader 0:  62%|████████████████████████████████████▉                      | 5/8 [00:00<00:00, 84.11it/s]\u001b[A\n",
      "Validation DataLoader 0:  75%|████████████████████████████████████████████▎              | 6/8 [00:00<00:00, 85.55it/s]\u001b[A\n",
      "Validation DataLoader 0:  88%|███████████████████████████████████████████████████▋       | 7/8 [00:00<00:00, 86.31it/s]\u001b[A\n",
      "Validation DataLoader 0: 100%|███████████████████████████████████████████████████████████| 8/8 [00:00<00:00, 86.89it/s]\u001b[A\n",
      "Epoch 50: 100%|██████████████████████████████| 22/22 [00:00<00:00, 51.19it/s, v_num=13, train_acc=0.933, val_acc=0.928]\u001b[A"
     ]
    },
    {
     "name": "stderr",
     "output_type": "stream",
     "text": [
      "Metric val_loss improved by 0.004 >= min_delta = 0.0. New best score: 0.289\n"
     ]
    },
    {
     "name": "stdout",
     "output_type": "stream",
     "text": [
      "Epoch 51: 100%|██████████████████████████████| 22/22 [00:00<00:00, 69.22it/s, v_num=13, train_acc=0.800, val_acc=0.928]\n",
      "Validation: |                                                                                    | 0/? [00:00<?, ?it/s]\u001b[A\n",
      "Validation:   0%|                                                                                | 0/8 [00:00<?, ?it/s]\u001b[A\n",
      "Validation DataLoader 0:   0%|                                                                   | 0/8 [00:00<?, ?it/s]\u001b[A\n",
      "Validation DataLoader 0:  12%|███████▍                                                   | 1/8 [00:00<00:00, 62.67it/s]\u001b[A\n",
      "Validation DataLoader 0:  25%|██████████████▊                                            | 2/8 [00:00<00:00, 67.92it/s]\u001b[A\n",
      "Validation DataLoader 0:  38%|██████████████████████▏                                    | 3/8 [00:00<00:00, 78.08it/s]\u001b[A\n",
      "Validation DataLoader 0:  50%|█████████████████████████████▌                             | 4/8 [00:00<00:00, 78.07it/s]\u001b[A\n",
      "Validation DataLoader 0:  62%|████████████████████████████████████▉                      | 5/8 [00:00<00:00, 79.44it/s]\u001b[A\n",
      "Validation DataLoader 0:  75%|████████████████████████████████████████████▎              | 6/8 [00:00<00:00, 82.29it/s]\u001b[A\n",
      "Validation DataLoader 0:  88%|███████████████████████████████████████████████████▋       | 7/8 [00:00<00:00, 83.62it/s]\u001b[A\n",
      "Validation DataLoader 0: 100%|███████████████████████████████████████████████████████████| 8/8 [00:00<00:00, 84.86it/s]\u001b[A\n",
      "Epoch 51: 100%|██████████████████████████████| 22/22 [00:00<00:00, 49.95it/s, v_num=13, train_acc=0.800, val_acc=0.938]\u001b[A"
     ]
    },
    {
     "name": "stderr",
     "output_type": "stream",
     "text": [
      "Metric val_loss improved by 0.008 >= min_delta = 0.0. New best score: 0.281\n"
     ]
    },
    {
     "name": "stdout",
     "output_type": "stream",
     "text": [
      "Epoch 52: 100%|██████████████████████████████| 22/22 [00:00<00:00, 68.71it/s, v_num=13, train_acc=0.733, val_acc=0.938]\n",
      "Validation: |                                                                                    | 0/? [00:00<?, ?it/s]\u001b[A\n",
      "Validation:   0%|                                                                                | 0/8 [00:00<?, ?it/s]\u001b[A\n",
      "Validation DataLoader 0:   0%|                                                                   | 0/8 [00:00<?, ?it/s]\u001b[A\n",
      "Validation DataLoader 0:  12%|███████▍                                                   | 1/8 [00:00<00:00, 66.84it/s]\u001b[A\n",
      "Validation DataLoader 0:  25%|██████████████▊                                            | 2/8 [00:00<00:00, 75.34it/s]\u001b[A\n",
      "Validation DataLoader 0:  38%|██████████████████████▏                                    | 3/8 [00:00<00:00, 77.89it/s]\u001b[A\n",
      "Validation DataLoader 0:  50%|█████████████████████████████▌                             | 4/8 [00:00<00:00, 79.74it/s]\u001b[A\n",
      "Validation DataLoader 0:  62%|████████████████████████████████████▉                      | 5/8 [00:00<00:00, 79.11it/s]\u001b[A\n",
      "Validation DataLoader 0:  75%|████████████████████████████████████████████▎              | 6/8 [00:00<00:00, 79.57it/s]\u001b[A\n",
      "Validation DataLoader 0:  88%|███████████████████████████████████████████████████▋       | 7/8 [00:00<00:00, 81.04it/s]\u001b[A\n",
      "Validation DataLoader 0: 100%|███████████████████████████████████████████████████████████| 8/8 [00:00<00:00, 82.75it/s]\u001b[A\n",
      "Epoch 52: 100%|██████████████████████████████| 22/22 [00:00<00:00, 49.42it/s, v_num=13, train_acc=0.733, val_acc=0.941]\u001b[A"
     ]
    },
    {
     "name": "stderr",
     "output_type": "stream",
     "text": [
      "Metric val_loss improved by 0.002 >= min_delta = 0.0. New best score: 0.279\n"
     ]
    },
    {
     "name": "stdout",
     "output_type": "stream",
     "text": [
      "Epoch 53: 100%|██████████████████████████████| 22/22 [00:00<00:00, 71.33it/s, v_num=13, train_acc=0.867, val_acc=0.941]\n",
      "Validation: |                                                                                    | 0/? [00:00<?, ?it/s]\u001b[A\n",
      "Validation:   0%|                                                                                | 0/8 [00:00<?, ?it/s]\u001b[A\n",
      "Validation DataLoader 0:   0%|                                                                   | 0/8 [00:00<?, ?it/s]\u001b[A\n",
      "Validation DataLoader 0:  12%|███████▍                                                   | 1/8 [00:00<00:00, 66.85it/s]\u001b[A\n",
      "Validation DataLoader 0:  25%|██████████████▊                                            | 2/8 [00:00<00:00, 73.45it/s]\u001b[A\n",
      "Validation DataLoader 0:  38%|██████████████████████▏                                    | 3/8 [00:00<00:00, 74.64it/s]\u001b[A\n",
      "Validation DataLoader 0:  50%|█████████████████████████████▌                             | 4/8 [00:00<00:00, 79.38it/s]\u001b[A\n",
      "Validation DataLoader 0:  62%|████████████████████████████████████▉                      | 5/8 [00:00<00:00, 80.38it/s]\u001b[A\n",
      "Validation DataLoader 0:  75%|████████████████████████████████████████████▎              | 6/8 [00:00<00:00, 80.89it/s]\u001b[A\n",
      "Validation DataLoader 0:  88%|███████████████████████████████████████████████████▋       | 7/8 [00:00<00:00, 83.21it/s]\u001b[A\n",
      "Validation DataLoader 0: 100%|███████████████████████████████████████████████████████████| 8/8 [00:00<00:00, 84.12it/s]\u001b[A\n",
      "Epoch 53: 100%|██████████████████████████████| 22/22 [00:00<00:00, 50.19it/s, v_num=13, train_acc=0.867, val_acc=0.938]\u001b[A"
     ]
    },
    {
     "name": "stderr",
     "output_type": "stream",
     "text": [
      "Metric val_loss improved by 0.001 >= min_delta = 0.0. New best score: 0.278\n"
     ]
    },
    {
     "name": "stdout",
     "output_type": "stream",
     "text": [
      "Epoch 54: 100%|██████████████████████████████| 22/22 [00:00<00:00, 65.68it/s, v_num=13, train_acc=0.867, val_acc=0.938]\n",
      "Validation: |                                                                                    | 0/? [00:00<?, ?it/s]\u001b[A\n",
      "Validation:   0%|                                                                                | 0/8 [00:00<?, ?it/s]\u001b[A\n",
      "Validation DataLoader 0:   0%|                                                                   | 0/8 [00:00<?, ?it/s]\u001b[A\n",
      "Validation DataLoader 0:  12%|███████▍                                                   | 1/8 [00:00<00:00, 68.52it/s]\u001b[A\n",
      "Validation DataLoader 0:  25%|██████████████▊                                            | 2/8 [00:00<00:00, 73.26it/s]\u001b[A\n",
      "Validation DataLoader 0:  38%|██████████████████████▏                                    | 3/8 [00:00<00:00, 74.51it/s]\u001b[A\n",
      "Validation DataLoader 0:  50%|█████████████████████████████▌                             | 4/8 [00:00<00:00, 78.45it/s]\u001b[A\n",
      "Validation DataLoader 0:  62%|████████████████████████████████████▉                      | 5/8 [00:00<00:00, 80.34it/s]\u001b[A\n",
      "Validation DataLoader 0:  75%|████████████████████████████████████████████▎              | 6/8 [00:00<00:00, 83.09it/s]\u001b[A\n",
      "Validation DataLoader 0:  88%|███████████████████████████████████████████████████▋       | 7/8 [00:00<00:00, 81.28it/s]\u001b[A\n",
      "Validation DataLoader 0: 100%|███████████████████████████████████████████████████████████| 8/8 [00:00<00:00, 82.66it/s]\u001b[A\n",
      "Epoch 54: 100%|██████████████████████████████| 22/22 [00:00<00:00, 47.67it/s, v_num=13, train_acc=0.867, val_acc=0.935]\u001b[A"
     ]
    },
    {
     "name": "stderr",
     "output_type": "stream",
     "text": [
      "Metric val_loss improved by 0.002 >= min_delta = 0.0. New best score: 0.275\n"
     ]
    },
    {
     "name": "stdout",
     "output_type": "stream",
     "text": [
      "Epoch 55: 100%|██████████████████████████████| 22/22 [00:00<00:00, 70.37it/s, v_num=13, train_acc=0.667, val_acc=0.935]\n",
      "Validation: |                                                                                    | 0/? [00:00<?, ?it/s]\u001b[A\n",
      "Validation:   0%|                                                                                | 0/8 [00:00<?, ?it/s]\u001b[A\n",
      "Validation DataLoader 0:   0%|                                                                   | 0/8 [00:00<?, ?it/s]\u001b[A\n",
      "Validation DataLoader 0:  12%|███████▍                                                   | 1/8 [00:00<00:00, 70.11it/s]\u001b[A\n",
      "Validation DataLoader 0:  25%|██████████████▊                                            | 2/8 [00:00<00:00, 77.73it/s]\u001b[A\n",
      "Validation DataLoader 0:  38%|██████████████████████▏                                    | 3/8 [00:00<00:00, 79.58it/s]\u001b[A\n",
      "Validation DataLoader 0:  50%|█████████████████████████████▌                             | 4/8 [00:00<00:00, 83.10it/s]\u001b[A\n",
      "Validation DataLoader 0:  62%|████████████████████████████████████▉                      | 5/8 [00:00<00:00, 81.93it/s]\u001b[A\n",
      "Validation DataLoader 0:  75%|████████████████████████████████████████████▎              | 6/8 [00:00<00:00, 82.54it/s]\u001b[A\n",
      "Validation DataLoader 0:  88%|███████████████████████████████████████████████████▋       | 7/8 [00:00<00:00, 84.68it/s]\u001b[A\n",
      "Validation DataLoader 0: 100%|███████████████████████████████████████████████████████████| 8/8 [00:00<00:00, 85.77it/s]\u001b[A\n",
      "Epoch 56: 100%|██████████████████████████████| 22/22 [00:00<00:00, 68.75it/s, v_num=13, train_acc=0.733, val_acc=0.940]\u001b[A\n",
      "Validation: |                                                                                    | 0/? [00:00<?, ?it/s]\u001b[A\n",
      "Validation:   0%|                                                                                | 0/8 [00:00<?, ?it/s]\u001b[A\n",
      "Validation DataLoader 0:   0%|                                                                   | 0/8 [00:00<?, ?it/s]\u001b[A\n",
      "Validation DataLoader 0:  12%|███████▍                                                   | 1/8 [00:00<00:00, 69.49it/s]\u001b[A\n",
      "Validation DataLoader 0:  25%|██████████████▊                                            | 2/8 [00:00<00:00, 73.93it/s]\u001b[A\n",
      "Validation DataLoader 0:  38%|██████████████████████▏                                    | 3/8 [00:00<00:00, 78.89it/s]\u001b[A\n",
      "Validation DataLoader 0:  50%|█████████████████████████████▌                             | 4/8 [00:00<00:00, 84.08it/s]\u001b[A\n",
      "Validation DataLoader 0:  62%|████████████████████████████████████▉                      | 5/8 [00:00<00:00, 82.96it/s]\u001b[A\n",
      "Validation DataLoader 0:  75%|████████████████████████████████████████████▎              | 6/8 [00:00<00:00, 82.01it/s]\u001b[A\n",
      "Validation DataLoader 0:  88%|███████████████████████████████████████████████████▋       | 7/8 [00:00<00:00, 84.20it/s]\u001b[A\n",
      "Validation DataLoader 0: 100%|███████████████████████████████████████████████████████████| 8/8 [00:00<00:00, 85.92it/s]\u001b[A\n",
      "Epoch 56: 100%|██████████████████████████████| 22/22 [00:00<00:00, 49.87it/s, v_num=13, train_acc=0.733, val_acc=0.939]\u001b[A"
     ]
    },
    {
     "name": "stderr",
     "output_type": "stream",
     "text": [
      "Metric val_loss improved by 0.000 >= min_delta = 0.0. New best score: 0.275\n"
     ]
    },
    {
     "name": "stdout",
     "output_type": "stream",
     "text": [
      "Epoch 57: 100%|██████████████████████████████| 22/22 [00:00<00:00, 66.38it/s, v_num=13, train_acc=0.667, val_acc=0.939]\n",
      "Validation: |                                                                                    | 0/? [00:00<?, ?it/s]\u001b[A\n",
      "Validation:   0%|                                                                                | 0/8 [00:00<?, ?it/s]\u001b[A\n",
      "Validation DataLoader 0:   0%|                                                                   | 0/8 [00:00<?, ?it/s]\u001b[A\n",
      "Validation DataLoader 0:  12%|███████▍                                                   | 1/8 [00:00<00:00, 64.08it/s]\u001b[A\n",
      "Validation DataLoader 0:  25%|██████████████▊                                            | 2/8 [00:00<00:00, 71.17it/s]\u001b[A\n",
      "Validation DataLoader 0:  38%|██████████████████████▏                                    | 3/8 [00:00<00:00, 78.79it/s]\u001b[A\n",
      "Validation DataLoader 0:  50%|█████████████████████████████▌                             | 4/8 [00:00<00:00, 80.06it/s]\u001b[A\n",
      "Validation DataLoader 0:  62%|████████████████████████████████████▉                      | 5/8 [00:00<00:00, 80.74it/s]\u001b[A\n",
      "Validation DataLoader 0:  75%|████████████████████████████████████████████▎              | 6/8 [00:00<00:00, 80.11it/s]\u001b[A\n",
      "Validation DataLoader 0:  88%|███████████████████████████████████████████████████▋       | 7/8 [00:00<00:00, 81.52it/s]\u001b[A\n",
      "Validation DataLoader 0: 100%|███████████████████████████████████████████████████████████| 8/8 [00:00<00:00, 82.28it/s]\u001b[A\n",
      "Epoch 57: 100%|██████████████████████████████| 22/22 [00:00<00:00, 48.09it/s, v_num=13, train_acc=0.667, val_acc=0.929]\u001b[A"
     ]
    },
    {
     "name": "stderr",
     "output_type": "stream",
     "text": [
      "Metric val_loss improved by 0.004 >= min_delta = 0.0. New best score: 0.272\n"
     ]
    },
    {
     "name": "stdout",
     "output_type": "stream",
     "text": [
      "Epoch 58: 100%|██████████████████████████████| 22/22 [00:00<00:00, 76.96it/s, v_num=13, train_acc=0.733, val_acc=0.929]\n",
      "Validation: |                                                                                    | 0/? [00:00<?, ?it/s]\u001b[A\n",
      "Validation:   0%|                                                                                | 0/8 [00:00<?, ?it/s]\u001b[A\n",
      "Validation DataLoader 0:   0%|                                                                   | 0/8 [00:00<?, ?it/s]\u001b[A\n",
      "Validation DataLoader 0:  12%|███████▍                                                   | 1/8 [00:00<00:00, 63.32it/s]\u001b[A\n",
      "Validation DataLoader 0:  25%|██████████████▊                                            | 2/8 [00:00<00:00, 74.72it/s]\u001b[A\n",
      "Validation DataLoader 0:  38%|██████████████████████▏                                    | 3/8 [00:00<00:00, 77.94it/s]\u001b[A\n",
      "Validation DataLoader 0:  50%|█████████████████████████████▌                             | 4/8 [00:00<00:00, 82.70it/s]\u001b[A\n",
      "Validation DataLoader 0:  62%|████████████████████████████████████▉                      | 5/8 [00:00<00:00, 84.26it/s]\u001b[A\n",
      "Validation DataLoader 0:  75%|████████████████████████████████████████████▎              | 6/8 [00:00<00:00, 85.10it/s]\u001b[A\n",
      "Validation DataLoader 0:  88%|███████████████████████████████████████████████████▋       | 7/8 [00:00<00:00, 85.65it/s]\u001b[A\n",
      "Validation DataLoader 0: 100%|███████████████████████████████████████████████████████████| 8/8 [00:00<00:00, 88.20it/s]\u001b[A\n",
      "Epoch 59: 100%|██████████████████████████████| 22/22 [00:00<00:00, 70.17it/s, v_num=13, train_acc=0.733, val_acc=0.938]\u001b[A\n",
      "Validation: |                                                                                    | 0/? [00:00<?, ?it/s]\u001b[A\n",
      "Validation:   0%|                                                                                | 0/8 [00:00<?, ?it/s]\u001b[A\n",
      "Validation DataLoader 0:   0%|                                                                   | 0/8 [00:00<?, ?it/s]\u001b[A\n",
      "Validation DataLoader 0:  12%|███████▍                                                   | 1/8 [00:00<00:00, 58.98it/s]\u001b[A\n",
      "Validation DataLoader 0:  25%|██████████████▊                                            | 2/8 [00:00<00:00, 69.15it/s]\u001b[A\n",
      "Validation DataLoader 0:  38%|██████████████████████▏                                    | 3/8 [00:00<00:00, 69.16it/s]\u001b[A\n",
      "Validation DataLoader 0:  50%|█████████████████████████████▌                             | 4/8 [00:00<00:00, 71.77it/s]\u001b[A\n",
      "Validation DataLoader 0:  62%|████████████████████████████████████▉                      | 5/8 [00:00<00:00, 75.81it/s]\u001b[A\n",
      "Validation DataLoader 0:  75%|████████████████████████████████████████████▎              | 6/8 [00:00<00:00, 75.28it/s]\u001b[A\n",
      "Validation DataLoader 0:  88%|███████████████████████████████████████████████████▋       | 7/8 [00:00<00:00, 74.79it/s]\u001b[A\n",
      "Validation DataLoader 0: 100%|███████████████████████████████████████████████████████████| 8/8 [00:00<00:00, 77.99it/s]\u001b[A\n",
      "Epoch 59: 100%|██████████████████████████████| 22/22 [00:00<00:00, 49.43it/s, v_num=13, train_acc=0.733, val_acc=0.936]\u001b[A"
     ]
    },
    {
     "name": "stderr",
     "output_type": "stream",
     "text": [
      "Metric val_loss improved by 0.000 >= min_delta = 0.0. New best score: 0.271\n"
     ]
    },
    {
     "name": "stdout",
     "output_type": "stream",
     "text": [
      "Epoch 60: 100%|██████████████████████████████| 22/22 [00:00<00:00, 66.77it/s, v_num=13, train_acc=0.467, val_acc=0.936]\n",
      "Validation: |                                                                                    | 0/? [00:00<?, ?it/s]\u001b[A\n",
      "Validation:   0%|                                                                                | 0/8 [00:00<?, ?it/s]\u001b[A\n",
      "Validation DataLoader 0:   0%|                                                                   | 0/8 [00:00<?, ?it/s]\u001b[A\n",
      "Validation DataLoader 0:  12%|███████▍                                                   | 1/8 [00:00<00:00, 56.60it/s]\u001b[A\n",
      "Validation DataLoader 0:  25%|██████████████▊                                            | 2/8 [00:00<00:00, 65.29it/s]\u001b[A\n",
      "Validation DataLoader 0:  38%|██████████████████████▏                                    | 3/8 [00:00<00:00, 67.09it/s]\u001b[A\n",
      "Validation DataLoader 0:  50%|█████████████████████████████▌                             | 4/8 [00:00<00:00, 70.74it/s]\u001b[A\n",
      "Validation DataLoader 0:  62%|████████████████████████████████████▉                      | 5/8 [00:00<00:00, 70.95it/s]\u001b[A\n",
      "Validation DataLoader 0:  75%|████████████████████████████████████████████▎              | 6/8 [00:00<00:00, 71.47it/s]\u001b[A\n",
      "Validation DataLoader 0:  88%|███████████████████████████████████████████████████▋       | 7/8 [00:00<00:00, 72.03it/s]\u001b[A\n",
      "Validation DataLoader 0: 100%|███████████████████████████████████████████████████████████| 8/8 [00:00<00:00, 72.55it/s]\u001b[A\n",
      "Epoch 61: 100%|██████████████████████████████| 22/22 [00:00<00:00, 60.89it/s, v_num=13, train_acc=0.667, val_acc=0.936]\u001b[A\n",
      "Validation: |                                                                                    | 0/? [00:00<?, ?it/s]\u001b[A\n",
      "Validation:   0%|                                                                                | 0/8 [00:00<?, ?it/s]\u001b[A\n",
      "Validation DataLoader 0:   0%|                                                                   | 0/8 [00:00<?, ?it/s]\u001b[A\n",
      "Validation DataLoader 0:  12%|███████▍                                                   | 1/8 [00:00<00:00, 58.86it/s]\u001b[A\n",
      "Validation DataLoader 0:  25%|██████████████▊                                            | 2/8 [00:00<00:00, 65.74it/s]\u001b[A\n",
      "Validation DataLoader 0:  38%|██████████████████████▏                                    | 3/8 [00:00<00:00, 69.14it/s]\u001b[A\n",
      "Validation DataLoader 0:  50%|█████████████████████████████▌                             | 4/8 [00:00<00:00, 70.71it/s]\u001b[A\n",
      "Validation DataLoader 0:  62%|████████████████████████████████████▉                      | 5/8 [00:00<00:00, 70.49it/s]\u001b[A\n",
      "Validation DataLoader 0:  75%|████████████████████████████████████████████▎              | 6/8 [00:00<00:00, 71.54it/s]\u001b[A\n",
      "Validation DataLoader 0:  88%|███████████████████████████████████████████████████▋       | 7/8 [00:00<00:00, 71.77it/s]\u001b[A\n",
      "Validation DataLoader 0: 100%|███████████████████████████████████████████████████████████| 8/8 [00:00<00:00, 73.73it/s]\u001b[A\n",
      "Epoch 61: 100%|██████████████████████████████| 22/22 [00:00<00:00, 43.24it/s, v_num=13, train_acc=0.667, val_acc=0.933]\u001b[A"
     ]
    },
    {
     "name": "stderr",
     "output_type": "stream",
     "text": [
      "Metric val_loss improved by 0.001 >= min_delta = 0.0. New best score: 0.270\n"
     ]
    },
    {
     "name": "stdout",
     "output_type": "stream",
     "text": [
      "Epoch 62: 100%|██████████████████████████████| 22/22 [00:00<00:00, 69.33it/s, v_num=13, train_acc=0.733, val_acc=0.933]\n",
      "Validation: |                                                                                    | 0/? [00:00<?, ?it/s]\u001b[A\n",
      "Validation:   0%|                                                                                | 0/8 [00:00<?, ?it/s]\u001b[A\n",
      "Validation DataLoader 0:   0%|                                                                   | 0/8 [00:00<?, ?it/s]\u001b[A\n",
      "Validation DataLoader 0:  12%|███████▍                                                   | 1/8 [00:00<00:00, 65.25it/s]\u001b[A\n",
      "Validation DataLoader 0:  25%|██████████████▊                                            | 2/8 [00:00<00:00, 73.84it/s]\u001b[A\n",
      "Validation DataLoader 0:  38%|██████████████████████▏                                    | 3/8 [00:00<00:00, 76.51it/s]\u001b[A\n",
      "Validation DataLoader 0:  50%|█████████████████████████████▌                             | 4/8 [00:00<00:00, 77.48it/s]\u001b[A\n",
      "Validation DataLoader 0:  62%|████████████████████████████████████▉                      | 5/8 [00:00<00:00, 78.98it/s]\u001b[A\n",
      "Validation DataLoader 0:  75%|████████████████████████████████████████████▎              | 6/8 [00:00<00:00, 79.02it/s]\u001b[A\n",
      "Validation DataLoader 0:  88%|███████████████████████████████████████████████████▋       | 7/8 [00:00<00:00, 80.49it/s]\u001b[A\n",
      "Validation DataLoader 0: 100%|███████████████████████████████████████████████████████████| 8/8 [00:00<00:00, 82.21it/s]\u001b[A\n",
      "Epoch 62: 100%|██████████████████████████████| 22/22 [00:00<00:00, 48.86it/s, v_num=13, train_acc=0.733, val_acc=0.946]\u001b[A"
     ]
    },
    {
     "name": "stderr",
     "output_type": "stream",
     "text": [
      "Metric val_loss improved by 0.010 >= min_delta = 0.0. New best score: 0.260\n"
     ]
    },
    {
     "name": "stdout",
     "output_type": "stream",
     "text": [
      "Epoch 63: 100%|██████████████████████████████| 22/22 [00:00<00:00, 70.48it/s, v_num=13, train_acc=0.667, val_acc=0.946]\n",
      "Validation: |                                                                                    | 0/? [00:00<?, ?it/s]\u001b[A\n",
      "Validation:   0%|                                                                                | 0/8 [00:00<?, ?it/s]\u001b[A\n",
      "Validation DataLoader 0:   0%|                                                                   | 0/8 [00:00<?, ?it/s]\u001b[A\n",
      "Validation DataLoader 0:  12%|███████▍                                                   | 1/8 [00:00<00:00, 66.59it/s]\u001b[A\n",
      "Validation DataLoader 0:  25%|██████████████▊                                            | 2/8 [00:00<00:00, 80.03it/s]\u001b[A\n",
      "Validation DataLoader 0:  38%|██████████████████████▏                                    | 3/8 [00:00<00:00, 83.83it/s]\u001b[A\n",
      "Validation DataLoader 0:  50%|█████████████████████████████▌                             | 4/8 [00:00<00:00, 84.10it/s]\u001b[A\n",
      "Validation DataLoader 0:  62%|████████████████████████████████████▉                      | 5/8 [00:00<00:00, 87.02it/s]\u001b[A\n",
      "Validation DataLoader 0:  75%|████████████████████████████████████████████▎              | 6/8 [00:00<00:00, 88.30it/s]\u001b[A\n",
      "Validation DataLoader 0:  88%|███████████████████████████████████████████████████▋       | 7/8 [00:00<00:00, 88.70it/s]\u001b[A\n",
      "Validation DataLoader 0: 100%|███████████████████████████████████████████████████████████| 8/8 [00:00<00:00, 89.71it/s]\u001b[A\n",
      "Epoch 63: 100%|██████████████████████████████| 22/22 [00:00<00:00, 50.38it/s, v_num=13, train_acc=0.667, val_acc=0.938]\u001b[A"
     ]
    },
    {
     "name": "stderr",
     "output_type": "stream",
     "text": [
      "Metric val_loss improved by 0.001 >= min_delta = 0.0. New best score: 0.259\n"
     ]
    },
    {
     "name": "stdout",
     "output_type": "stream",
     "text": [
      "Epoch 64: 100%|██████████████████████████████| 22/22 [00:00<00:00, 70.24it/s, v_num=13, train_acc=0.600, val_acc=0.938]\n",
      "Validation: |                                                                                    | 0/? [00:00<?, ?it/s]\u001b[A\n",
      "Validation:   0%|                                                                                | 0/8 [00:00<?, ?it/s]\u001b[A\n",
      "Validation DataLoader 0:   0%|                                                                   | 0/8 [00:00<?, ?it/s]\u001b[A\n",
      "Validation DataLoader 0:  12%|███████▍                                                   | 1/8 [00:00<00:00, 64.73it/s]\u001b[A\n",
      "Validation DataLoader 0:  25%|██████████████▊                                            | 2/8 [00:00<00:00, 70.39it/s]\u001b[A\n",
      "Validation DataLoader 0:  38%|██████████████████████▏                                    | 3/8 [00:00<00:00, 77.91it/s]\u001b[A\n",
      "Validation DataLoader 0:  50%|█████████████████████████████▌                             | 4/8 [00:00<00:00, 79.65it/s]\u001b[A\n",
      "Validation DataLoader 0:  62%|████████████████████████████████████▉                      | 5/8 [00:00<00:00, 81.72it/s]\u001b[A\n",
      "Validation DataLoader 0:  75%|████████████████████████████████████████████▎              | 6/8 [00:00<00:00, 83.15it/s]\u001b[A\n",
      "Validation DataLoader 0:  88%|███████████████████████████████████████████████████▋       | 7/8 [00:00<00:00, 84.21it/s]\u001b[A\n",
      "Validation DataLoader 0: 100%|███████████████████████████████████████████████████████████| 8/8 [00:00<00:00, 85.93it/s]\u001b[A\n",
      "Epoch 65: 100%|██████████████████████████████| 22/22 [00:00<00:00, 68.68it/s, v_num=13, train_acc=0.733, val_acc=0.937]\u001b[A\n",
      "Validation: |                                                                                    | 0/? [00:00<?, ?it/s]\u001b[A\n",
      "Validation:   0%|                                                                                | 0/8 [00:00<?, ?it/s]\u001b[A\n",
      "Validation DataLoader 0:   0%|                                                                   | 0/8 [00:00<?, ?it/s]\u001b[A\n",
      "Validation DataLoader 0:  12%|███████▍                                                   | 1/8 [00:00<00:00, 68.06it/s]\u001b[A\n",
      "Validation DataLoader 0:  25%|██████████████▊                                            | 2/8 [00:00<00:00, 78.92it/s]\u001b[A\n",
      "Validation DataLoader 0:  38%|██████████████████████▏                                    | 3/8 [00:00<00:00, 84.95it/s]\u001b[A\n",
      "Validation DataLoader 0:  50%|█████████████████████████████▌                             | 4/8 [00:00<00:00, 85.03it/s]\u001b[A\n",
      "Validation DataLoader 0:  62%|████████████████████████████████████▉                      | 5/8 [00:00<00:00, 84.34it/s]\u001b[A\n",
      "Validation DataLoader 0:  75%|████████████████████████████████████████████▎              | 6/8 [00:00<00:00, 86.63it/s]\u001b[A\n",
      "Validation DataLoader 0:  88%|███████████████████████████████████████████████████▋       | 7/8 [00:00<00:00, 87.68it/s]\u001b[A\n",
      "Validation DataLoader 0: 100%|███████████████████████████████████████████████████████████| 8/8 [00:00<00:00, 87.89it/s]\u001b[A\n",
      "Epoch 66: 100%|██████████████████████████████| 22/22 [00:00<00:00, 73.98it/s, v_num=13, train_acc=0.667, val_acc=0.933]\u001b[A\n",
      "Validation: |                                                                                    | 0/? [00:00<?, ?it/s]\u001b[A\n",
      "Validation:   0%|                                                                                | 0/8 [00:00<?, ?it/s]\u001b[A\n",
      "Validation DataLoader 0:   0%|                                                                   | 0/8 [00:00<?, ?it/s]\u001b[A\n",
      "Validation DataLoader 0:  12%|███████▍                                                   | 1/8 [00:00<00:00, 66.84it/s]\u001b[A\n",
      "Validation DataLoader 0:  25%|██████████████▊                                            | 2/8 [00:00<00:00, 80.21it/s]\u001b[A\n",
      "Validation DataLoader 0:  38%|██████████████████████▏                                    | 3/8 [00:00<00:00, 81.29it/s]\u001b[A\n",
      "Validation DataLoader 0:  50%|█████████████████████████████▌                             | 4/8 [00:00<00:00, 85.33it/s]\u001b[A\n",
      "Validation DataLoader 0:  62%|████████████████████████████████████▉                      | 5/8 [00:00<00:00, 84.70it/s]\u001b[A\n",
      "Validation DataLoader 0:  75%|████████████████████████████████████████████▎              | 6/8 [00:00<00:00, 84.28it/s]\u001b[A\n",
      "Validation DataLoader 0:  88%|███████████████████████████████████████████████████▋       | 7/8 [00:00<00:00, 85.19it/s]\u001b[A\n",
      "Validation DataLoader 0: 100%|███████████████████████████████████████████████████████████| 8/8 [00:00<00:00, 88.77it/s]\u001b[A\n",
      "Epoch 66: 100%|██████████████████████████████| 22/22 [00:00<00:00, 52.83it/s, v_num=13, train_acc=0.667, val_acc=0.937]\u001b[A"
     ]
    },
    {
     "name": "stderr",
     "output_type": "stream",
     "text": [
      "Metric val_loss improved by 0.001 >= min_delta = 0.0. New best score: 0.258\n"
     ]
    },
    {
     "name": "stdout",
     "output_type": "stream",
     "text": [
      "Epoch 67: 100%|██████████████████████████████| 22/22 [00:00<00:00, 71.85it/s, v_num=13, train_acc=0.667, val_acc=0.937]\n",
      "Validation: |                                                                                    | 0/? [00:00<?, ?it/s]\u001b[A\n",
      "Validation:   0%|                                                                                | 0/8 [00:00<?, ?it/s]\u001b[A\n",
      "Validation DataLoader 0:   0%|                                                                   | 0/8 [00:00<?, ?it/s]\u001b[A\n",
      "Validation DataLoader 0:  12%|███████▍                                                   | 1/8 [00:00<00:00, 63.89it/s]\u001b[A\n",
      "Validation DataLoader 0:  25%|██████████████▊                                            | 2/8 [00:00<00:00, 73.62it/s]\u001b[A\n",
      "Validation DataLoader 0:  38%|██████████████████████▏                                    | 3/8 [00:00<00:00, 80.45it/s]\u001b[A\n",
      "Validation DataLoader 0:  50%|█████████████████████████████▌                             | 4/8 [00:00<00:00, 78.99it/s]\u001b[A\n",
      "Validation DataLoader 0:  62%|████████████████████████████████████▉                      | 5/8 [00:00<00:00, 80.25it/s]\u001b[A\n",
      "Validation DataLoader 0:  75%|████████████████████████████████████████████▎              | 6/8 [00:00<00:00, 80.58it/s]\u001b[A\n",
      "Validation DataLoader 0:  88%|███████████████████████████████████████████████████▋       | 7/8 [00:00<00:00, 82.30it/s]\u001b[A\n",
      "Validation DataLoader 0: 100%|███████████████████████████████████████████████████████████| 8/8 [00:00<00:00, 83.78it/s]\u001b[A\n",
      "Epoch 68: 100%|██████████████████████████████| 22/22 [00:00<00:00, 71.83it/s, v_num=13, train_acc=0.800, val_acc=0.940]\u001b[A\n",
      "Validation: |                                                                                    | 0/? [00:00<?, ?it/s]\u001b[A\n",
      "Validation:   0%|                                                                                | 0/8 [00:00<?, ?it/s]\u001b[A\n",
      "Validation DataLoader 0:   0%|                                                                   | 0/8 [00:00<?, ?it/s]\u001b[A\n",
      "Validation DataLoader 0:  12%|███████▍                                                   | 1/8 [00:00<00:00, 63.56it/s]\u001b[A\n",
      "Validation DataLoader 0:  25%|██████████████▊                                            | 2/8 [00:00<00:00, 74.90it/s]\u001b[A\n",
      "Validation DataLoader 0:  38%|██████████████████████▏                                    | 3/8 [00:00<00:00, 77.58it/s]\u001b[A\n",
      "Validation DataLoader 0:  50%|█████████████████████████████▌                             | 4/8 [00:00<00:00, 79.92it/s]\u001b[A\n",
      "Validation DataLoader 0:  62%|████████████████████████████████████▉                      | 5/8 [00:00<00:00, 80.72it/s]\u001b[A\n",
      "Validation DataLoader 0:  75%|████████████████████████████████████████████▎              | 6/8 [00:00<00:00, 83.43it/s]\u001b[A\n",
      "Validation DataLoader 0:  88%|███████████████████████████████████████████████████▋       | 7/8 [00:00<00:00, 84.95it/s]\u001b[A\n",
      "Validation DataLoader 0: 100%|███████████████████████████████████████████████████████████| 8/8 [00:00<00:00, 86.96it/s]\u001b[A\n",
      "Epoch 68: 100%|██████████████████████████████| 22/22 [00:00<00:00, 51.46it/s, v_num=13, train_acc=0.800, val_acc=0.945]\u001b[A"
     ]
    },
    {
     "name": "stderr",
     "output_type": "stream",
     "text": [
      "Metric val_loss improved by 0.001 >= min_delta = 0.0. New best score: 0.257\n"
     ]
    },
    {
     "name": "stdout",
     "output_type": "stream",
     "text": [
      "Epoch 69: 100%|██████████████████████████████| 22/22 [00:00<00:00, 70.06it/s, v_num=13, train_acc=0.800, val_acc=0.945]\n",
      "Validation: |                                                                                    | 0/? [00:00<?, ?it/s]\u001b[A\n",
      "Validation:   0%|                                                                                | 0/8 [00:00<?, ?it/s]\u001b[A\n",
      "Validation DataLoader 0:   0%|                                                                   | 0/8 [00:00<?, ?it/s]\u001b[A\n",
      "Validation DataLoader 0:  12%|███████▍                                                   | 1/8 [00:00<00:00, 61.68it/s]\u001b[A\n",
      "Validation DataLoader 0:  25%|██████████████▊                                            | 2/8 [00:00<00:00, 72.34it/s]\u001b[A\n",
      "Validation DataLoader 0:  38%|██████████████████████▏                                    | 3/8 [00:00<00:00, 76.17it/s]\u001b[A\n",
      "Validation DataLoader 0:  50%|█████████████████████████████▌                             | 4/8 [00:00<00:00, 81.49it/s]\u001b[A\n",
      "Validation DataLoader 0:  62%|████████████████████████████████████▉                      | 5/8 [00:00<00:00, 81.79it/s]\u001b[A\n",
      "Validation DataLoader 0:  75%|████████████████████████████████████████████▎              | 6/8 [00:00<00:00, 82.13it/s]\u001b[A\n",
      "Validation DataLoader 0:  88%|███████████████████████████████████████████████████▋       | 7/8 [00:00<00:00, 83.31it/s]\u001b[A\n",
      "Validation DataLoader 0: 100%|███████████████████████████████████████████████████████████| 8/8 [00:00<00:00, 85.11it/s]\u001b[A\n",
      "Epoch 69: 100%|██████████████████████████████| 22/22 [00:00<00:00, 50.37it/s, v_num=13, train_acc=0.800, val_acc=0.946]\u001b[A"
     ]
    },
    {
     "name": "stderr",
     "output_type": "stream",
     "text": [
      "Metric val_loss improved by 0.002 >= min_delta = 0.0. New best score: 0.255\n"
     ]
    },
    {
     "name": "stdout",
     "output_type": "stream",
     "text": [
      "Epoch 70: 100%|██████████████████████████████| 22/22 [00:00<00:00, 68.70it/s, v_num=13, train_acc=0.733, val_acc=0.946]\n",
      "Validation: |                                                                                    | 0/? [00:00<?, ?it/s]\u001b[A\n",
      "Validation:   0%|                                                                                | 0/8 [00:00<?, ?it/s]\u001b[A\n",
      "Validation DataLoader 0:   0%|                                                                   | 0/8 [00:00<?, ?it/s]\u001b[A\n",
      "Validation DataLoader 0:  12%|███████▍                                                   | 1/8 [00:00<00:00, 62.60it/s]\u001b[A\n",
      "Validation DataLoader 0:  25%|██████████████▊                                            | 2/8 [00:00<00:00, 70.47it/s]\u001b[A\n",
      "Validation DataLoader 0:  38%|██████████████████████▏                                    | 3/8 [00:00<00:00, 76.50it/s]\u001b[A\n",
      "Validation DataLoader 0:  50%|█████████████████████████████▌                             | 4/8 [00:00<00:00, 74.57it/s]\u001b[A\n",
      "Validation DataLoader 0:  62%|████████████████████████████████████▉                      | 5/8 [00:00<00:00, 72.01it/s]\u001b[A\n",
      "Validation DataLoader 0:  75%|████████████████████████████████████████████▎              | 6/8 [00:00<00:00, 69.83it/s]\u001b[A\n",
      "Validation DataLoader 0:  88%|███████████████████████████████████████████████████▋       | 7/8 [00:00<00:00, 72.99it/s]\u001b[A\n",
      "Validation DataLoader 0: 100%|███████████████████████████████████████████████████████████| 8/8 [00:00<00:00, 75.56it/s]\u001b[A\n",
      "Epoch 70: 100%|██████████████████████████████| 22/22 [00:00<00:00, 47.99it/s, v_num=13, train_acc=0.733, val_acc=0.935]\u001b[A"
     ]
    },
    {
     "name": "stderr",
     "output_type": "stream",
     "text": [
      "Metric val_loss improved by 0.001 >= min_delta = 0.0. New best score: 0.254\n"
     ]
    },
    {
     "name": "stdout",
     "output_type": "stream",
     "text": [
      "Epoch 71: 100%|██████████████████████████████| 22/22 [00:00<00:00, 71.23it/s, v_num=13, train_acc=0.667, val_acc=0.935]\n",
      "Validation: |                                                                                    | 0/? [00:00<?, ?it/s]\u001b[A\n",
      "Validation:   0%|                                                                                | 0/8 [00:00<?, ?it/s]\u001b[A\n",
      "Validation DataLoader 0:   0%|                                                                   | 0/8 [00:00<?, ?it/s]\u001b[A\n",
      "Validation DataLoader 0:  12%|███████▍                                                   | 1/8 [00:00<00:00, 68.89it/s]\u001b[A\n",
      "Validation DataLoader 0:  25%|██████████████▊                                            | 2/8 [00:00<00:00, 75.51it/s]\u001b[A\n",
      "Validation DataLoader 0:  38%|██████████████████████▏                                    | 3/8 [00:00<00:00, 80.10it/s]\u001b[A\n",
      "Validation DataLoader 0:  50%|█████████████████████████████▌                             | 4/8 [00:00<00:00, 82.60it/s]\u001b[A\n",
      "Validation DataLoader 0:  62%|████████████████████████████████████▉                      | 5/8 [00:00<00:00, 85.62it/s]\u001b[A\n",
      "Validation DataLoader 0:  75%|████████████████████████████████████████████▎              | 6/8 [00:00<00:00, 85.18it/s]\u001b[A\n",
      "Validation DataLoader 0:  88%|███████████████████████████████████████████████████▋       | 7/8 [00:00<00:00, 85.98it/s]\u001b[A\n",
      "Validation DataLoader 0: 100%|███████████████████████████████████████████████████████████| 8/8 [00:00<00:00, 87.98it/s]\u001b[A\n",
      "Epoch 71: 100%|██████████████████████████████| 22/22 [00:00<00:00, 51.35it/s, v_num=13, train_acc=0.667, val_acc=0.936]\u001b[A"
     ]
    },
    {
     "name": "stderr",
     "output_type": "stream",
     "text": [
      "Metric val_loss improved by 0.005 >= min_delta = 0.0. New best score: 0.249\n"
     ]
    },
    {
     "name": "stdout",
     "output_type": "stream",
     "text": [
      "Epoch 72: 100%|██████████████████████████████| 22/22 [00:00<00:00, 70.86it/s, v_num=13, train_acc=0.800, val_acc=0.936]\n",
      "Validation: |                                                                                    | 0/? [00:00<?, ?it/s]\u001b[A\n",
      "Validation:   0%|                                                                                | 0/8 [00:00<?, ?it/s]\u001b[A\n",
      "Validation DataLoader 0:   0%|                                                                   | 0/8 [00:00<?, ?it/s]\u001b[A\n",
      "Validation DataLoader 0:  12%|███████▍                                                   | 1/8 [00:00<00:00, 71.62it/s]\u001b[A\n",
      "Validation DataLoader 0:  25%|██████████████▊                                            | 2/8 [00:00<00:00, 80.21it/s]\u001b[A\n",
      "Validation DataLoader 0:  38%|██████████████████████▏                                    | 3/8 [00:00<00:00, 76.79it/s]\u001b[A\n",
      "Validation DataLoader 0:  50%|█████████████████████████████▌                             | 4/8 [00:00<00:00, 78.75it/s]\u001b[A\n",
      "Validation DataLoader 0:  62%|████████████████████████████████████▉                      | 5/8 [00:00<00:00, 79.95it/s]\u001b[A\n",
      "Validation DataLoader 0:  75%|████████████████████████████████████████████▎              | 6/8 [00:00<00:00, 80.46it/s]\u001b[A\n",
      "Validation DataLoader 0:  88%|███████████████████████████████████████████████████▋       | 7/8 [00:00<00:00, 81.83it/s]\u001b[A\n",
      "Validation DataLoader 0: 100%|███████████████████████████████████████████████████████████| 8/8 [00:00<00:00, 83.55it/s]\u001b[A\n",
      "Epoch 72: 100%|██████████████████████████████| 22/22 [00:00<00:00, 50.39it/s, v_num=13, train_acc=0.800, val_acc=0.938]\u001b[A"
     ]
    },
    {
     "name": "stderr",
     "output_type": "stream",
     "text": [
      "Metric val_loss improved by 0.001 >= min_delta = 0.0. New best score: 0.248\n"
     ]
    },
    {
     "name": "stdout",
     "output_type": "stream",
     "text": [
      "Epoch 73: 100%|██████████████████████████████| 22/22 [00:00<00:00, 73.69it/s, v_num=13, train_acc=0.867, val_acc=0.938]\n",
      "Validation: |                                                                                    | 0/? [00:00<?, ?it/s]\u001b[A\n",
      "Validation:   0%|                                                                                | 0/8 [00:00<?, ?it/s]\u001b[A\n",
      "Validation DataLoader 0:   0%|                                                                   | 0/8 [00:00<?, ?it/s]\u001b[A\n",
      "Validation DataLoader 0:  12%|███████▍                                                   | 1/8 [00:00<00:00, 63.10it/s]\u001b[A\n",
      "Validation DataLoader 0:  25%|██████████████▊                                            | 2/8 [00:00<00:00, 62.22it/s]\u001b[A\n",
      "Validation DataLoader 0:  38%|██████████████████████▏                                    | 3/8 [00:00<00:00, 65.01it/s]\u001b[A\n",
      "Validation DataLoader 0:  50%|█████████████████████████████▌                             | 4/8 [00:00<00:00, 66.54it/s]\u001b[A\n",
      "Validation DataLoader 0:  62%|████████████████████████████████████▉                      | 5/8 [00:00<00:00, 69.37it/s]\u001b[A\n",
      "Validation DataLoader 0:  75%|████████████████████████████████████████████▎              | 6/8 [00:00<00:00, 72.73it/s]\u001b[A\n",
      "Validation DataLoader 0:  88%|███████████████████████████████████████████████████▋       | 7/8 [00:00<00:00, 73.75it/s]\u001b[A\n",
      "Validation DataLoader 0: 100%|███████████████████████████████████████████████████████████| 8/8 [00:00<00:00, 77.75it/s]\u001b[A\n",
      "Epoch 73: 100%|██████████████████████████████| 22/22 [00:00<00:00, 49.84it/s, v_num=13, train_acc=0.867, val_acc=0.939]\u001b[A"
     ]
    },
    {
     "name": "stderr",
     "output_type": "stream",
     "text": [
      "Metric val_loss improved by 0.003 >= min_delta = 0.0. New best score: 0.244\n"
     ]
    },
    {
     "name": "stdout",
     "output_type": "stream",
     "text": [
      "Epoch 74: 100%|██████████████████████████████| 22/22 [00:00<00:00, 70.47it/s, v_num=13, train_acc=1.000, val_acc=0.939]\n",
      "Validation: |                                                                                    | 0/? [00:00<?, ?it/s]\u001b[A\n",
      "Validation:   0%|                                                                                | 0/8 [00:00<?, ?it/s]\u001b[A\n",
      "Validation DataLoader 0:   0%|                                                                   | 0/8 [00:00<?, ?it/s]\u001b[A\n",
      "Validation DataLoader 0:  12%|███████▍                                                   | 1/8 [00:00<00:00, 53.48it/s]\u001b[A\n",
      "Validation DataLoader 0:  25%|██████████████▊                                            | 2/8 [00:00<00:00, 69.76it/s]\u001b[A\n",
      "Validation DataLoader 0:  38%|██████████████████████▏                                    | 3/8 [00:00<00:00, 74.72it/s]\u001b[A\n",
      "Validation DataLoader 0:  50%|█████████████████████████████▌                             | 4/8 [00:00<00:00, 77.25it/s]\u001b[A\n",
      "Validation DataLoader 0:  62%|████████████████████████████████████▉                      | 5/8 [00:00<00:00, 79.68it/s]\u001b[A\n",
      "Validation DataLoader 0:  75%|████████████████████████████████████████████▎              | 6/8 [00:00<00:00, 75.03it/s]\u001b[A\n",
      "Validation DataLoader 0:  88%|███████████████████████████████████████████████████▋       | 7/8 [00:00<00:00, 77.64it/s]\u001b[A\n",
      "Validation DataLoader 0: 100%|███████████████████████████████████████████████████████████| 8/8 [00:00<00:00, 80.12it/s]\u001b[A\n",
      "Epoch 74: 100%|██████████████████████████████| 22/22 [00:00<00:00, 48.11it/s, v_num=13, train_acc=1.000, val_acc=0.937]\u001b[A"
     ]
    },
    {
     "name": "stderr",
     "output_type": "stream",
     "text": [
      "Metric val_loss improved by 0.001 >= min_delta = 0.0. New best score: 0.244\n"
     ]
    },
    {
     "name": "stdout",
     "output_type": "stream",
     "text": [
      "Epoch 75: 100%|██████████████████████████████| 22/22 [00:00<00:00, 70.18it/s, v_num=13, train_acc=0.867, val_acc=0.937]\n",
      "Validation: |                                                                                    | 0/? [00:00<?, ?it/s]\u001b[A\n",
      "Validation:   0%|                                                                                | 0/8 [00:00<?, ?it/s]\u001b[A\n",
      "Validation DataLoader 0:   0%|                                                                   | 0/8 [00:00<?, ?it/s]\u001b[A\n",
      "Validation DataLoader 0:  12%|███████▍                                                   | 1/8 [00:00<00:00, 64.00it/s]\u001b[A\n",
      "Validation DataLoader 0:  25%|██████████████▊                                            | 2/8 [00:00<00:00, 69.95it/s]\u001b[A\n",
      "Validation DataLoader 0:  38%|██████████████████████▏                                    | 3/8 [00:00<00:00, 72.18it/s]\u001b[A\n",
      "Validation DataLoader 0:  50%|█████████████████████████████▌                             | 4/8 [00:00<00:00, 73.72it/s]\u001b[A\n",
      "Validation DataLoader 0:  62%|████████████████████████████████████▉                      | 5/8 [00:00<00:00, 76.65it/s]\u001b[A\n",
      "Validation DataLoader 0:  75%|████████████████████████████████████████████▎              | 6/8 [00:00<00:00, 71.54it/s]\u001b[A\n",
      "Validation DataLoader 0:  88%|███████████████████████████████████████████████████▋       | 7/8 [00:00<00:00, 73.81it/s]\u001b[A\n",
      "Validation DataLoader 0: 100%|███████████████████████████████████████████████████████████| 8/8 [00:00<00:00, 75.61it/s]\u001b[A\n",
      "Epoch 75: 100%|██████████████████████████████| 22/22 [00:00<00:00, 48.88it/s, v_num=13, train_acc=0.867, val_acc=0.948]\u001b[A"
     ]
    },
    {
     "name": "stderr",
     "output_type": "stream",
     "text": [
      "Metric val_loss improved by 0.003 >= min_delta = 0.0. New best score: 0.241\n"
     ]
    },
    {
     "name": "stdout",
     "output_type": "stream",
     "text": [
      "Epoch 76: 100%|██████████████████████████████| 22/22 [00:00<00:00, 68.46it/s, v_num=13, train_acc=1.000, val_acc=0.948]\n",
      "Validation: |                                                                                    | 0/? [00:00<?, ?it/s]\u001b[A\n",
      "Validation:   0%|                                                                                | 0/8 [00:00<?, ?it/s]\u001b[A\n",
      "Validation DataLoader 0:   0%|                                                                   | 0/8 [00:00<?, ?it/s]\u001b[A\n",
      "Validation DataLoader 0:  12%|███████▍                                                   | 1/8 [00:00<00:00, 62.67it/s]\u001b[A\n",
      "Validation DataLoader 0:  25%|██████████████▊                                            | 2/8 [00:00<00:00, 68.65it/s]\u001b[A\n",
      "Validation DataLoader 0:  38%|██████████████████████▏                                    | 3/8 [00:00<00:00, 74.28it/s]\u001b[A\n",
      "Validation DataLoader 0:  50%|█████████████████████████████▌                             | 4/8 [00:00<00:00, 77.27it/s]\u001b[A\n",
      "Validation DataLoader 0:  62%|████████████████████████████████████▉                      | 5/8 [00:00<00:00, 73.80it/s]\u001b[A\n",
      "Validation DataLoader 0:  75%|████████████████████████████████████████████▎              | 6/8 [00:00<00:00, 76.13it/s]\u001b[A\n",
      "Validation DataLoader 0:  88%|███████████████████████████████████████████████████▋       | 7/8 [00:00<00:00, 76.20it/s]\u001b[A\n",
      "Validation DataLoader 0: 100%|███████████████████████████████████████████████████████████| 8/8 [00:00<00:00, 75.41it/s]\u001b[A\n",
      "Epoch 76: 100%|██████████████████████████████| 22/22 [00:00<00:00, 47.32it/s, v_num=13, train_acc=1.000, val_acc=0.947]\u001b[A"
     ]
    },
    {
     "name": "stderr",
     "output_type": "stream",
     "text": [
      "Metric val_loss improved by 0.003 >= min_delta = 0.0. New best score: 0.238\n"
     ]
    },
    {
     "name": "stdout",
     "output_type": "stream",
     "text": [
      "Epoch 77: 100%|██████████████████████████████| 22/22 [00:00<00:00, 68.95it/s, v_num=13, train_acc=0.933, val_acc=0.947]\n",
      "Validation: |                                                                                    | 0/? [00:00<?, ?it/s]\u001b[A\n",
      "Validation:   0%|                                                                                | 0/8 [00:00<?, ?it/s]\u001b[A\n",
      "Validation DataLoader 0:   0%|                                                                   | 0/8 [00:00<?, ?it/s]\u001b[A\n",
      "Validation DataLoader 0:  12%|███████▍                                                   | 1/8 [00:00<00:00, 63.96it/s]\u001b[A\n",
      "Validation DataLoader 0:  25%|██████████████▊                                            | 2/8 [00:00<00:00, 75.17it/s]\u001b[A\n",
      "Validation DataLoader 0:  38%|██████████████████████▏                                    | 3/8 [00:00<00:00, 76.71it/s]\u001b[A\n",
      "Validation DataLoader 0:  50%|█████████████████████████████▌                             | 4/8 [00:00<00:00, 80.11it/s]\u001b[A\n",
      "Validation DataLoader 0:  62%|████████████████████████████████████▉                      | 5/8 [00:00<00:00, 77.31it/s]\u001b[A\n",
      "Validation DataLoader 0:  75%|████████████████████████████████████████████▎              | 6/8 [00:00<00:00, 74.80it/s]\u001b[A\n",
      "Validation DataLoader 0:  88%|███████████████████████████████████████████████████▋       | 7/8 [00:00<00:00, 72.89it/s]\u001b[A\n",
      "Validation DataLoader 0: 100%|███████████████████████████████████████████████████████████| 8/8 [00:00<00:00, 75.45it/s]\u001b[A\n",
      "Epoch 78: 100%|██████████████████████████████| 22/22 [00:00<00:00, 72.34it/s, v_num=13, train_acc=0.733, val_acc=0.939]\u001b[A\n",
      "Validation: |                                                                                    | 0/? [00:00<?, ?it/s]\u001b[A\n",
      "Validation:   0%|                                                                                | 0/8 [00:00<?, ?it/s]\u001b[A\n",
      "Validation DataLoader 0:   0%|                                                                   | 0/8 [00:00<?, ?it/s]\u001b[A\n",
      "Validation DataLoader 0:  12%|███████▍                                                   | 1/8 [00:00<00:00, 72.93it/s]\u001b[A\n",
      "Validation DataLoader 0:  25%|██████████████▊                                            | 2/8 [00:00<00:00, 72.26it/s]\u001b[A\n",
      "Validation DataLoader 0:  38%|██████████████████████▏                                    | 3/8 [00:00<00:00, 74.34it/s]\u001b[A\n",
      "Validation DataLoader 0:  50%|█████████████████████████████▌                             | 4/8 [00:00<00:00, 74.12it/s]\u001b[A\n",
      "Validation DataLoader 0:  62%|████████████████████████████████████▉                      | 5/8 [00:00<00:00, 73.86it/s]\u001b[A\n",
      "Validation DataLoader 0:  75%|████████████████████████████████████████████▎              | 6/8 [00:00<00:00, 72.88it/s]\u001b[A\n",
      "Validation DataLoader 0:  88%|███████████████████████████████████████████████████▋       | 7/8 [00:00<00:00, 73.46it/s]\u001b[A\n",
      "Validation DataLoader 0: 100%|███████████████████████████████████████████████████████████| 8/8 [00:00<00:00, 74.21it/s]\u001b[A\n",
      "Epoch 78: 100%|██████████████████████████████| 22/22 [00:00<00:00, 49.92it/s, v_num=13, train_acc=0.733, val_acc=0.942]\u001b[A"
     ]
    },
    {
     "name": "stderr",
     "output_type": "stream",
     "text": [
      "Metric val_loss improved by 0.000 >= min_delta = 0.0. New best score: 0.238\n"
     ]
    },
    {
     "name": "stdout",
     "output_type": "stream",
     "text": [
      "Epoch 79: 100%|██████████████████████████████| 22/22 [00:00<00:00, 65.56it/s, v_num=13, train_acc=0.800, val_acc=0.942]\n",
      "Validation: |                                                                                    | 0/? [00:00<?, ?it/s]\u001b[A\n",
      "Validation:   0%|                                                                                | 0/8 [00:00<?, ?it/s]\u001b[A\n",
      "Validation DataLoader 0:   0%|                                                                   | 0/8 [00:00<?, ?it/s]\u001b[A\n",
      "Validation DataLoader 0:  12%|███████▍                                                   | 1/8 [00:00<00:00, 51.42it/s]\u001b[A\n",
      "Validation DataLoader 0:  25%|██████████████▊                                            | 2/8 [00:00<00:00, 56.79it/s]\u001b[A\n",
      "Validation DataLoader 0:  38%|██████████████████████▏                                    | 3/8 [00:00<00:00, 59.02it/s]\u001b[A\n",
      "Validation DataLoader 0:  50%|█████████████████████████████▌                             | 4/8 [00:00<00:00, 58.40it/s]\u001b[A\n",
      "Validation DataLoader 0:  62%|████████████████████████████████████▉                      | 5/8 [00:00<00:00, 67.24it/s]\u001b[A\n",
      "Validation DataLoader 0:  75%|████████████████████████████████████████████▎              | 6/8 [00:00<00:00, 59.50it/s]\u001b[A\n",
      "Validation DataLoader 0:  88%|███████████████████████████████████████████████████▋       | 7/8 [00:00<00:00, 64.75it/s]\u001b[A\n",
      "Validation DataLoader 0: 100%|███████████████████████████████████████████████████████████| 8/8 [00:00<00:00, 62.74it/s]\u001b[A\n",
      "Epoch 79: 100%|██████████████████████████████| 22/22 [00:00<00:00, 43.75it/s, v_num=13, train_acc=0.800, val_acc=0.941]\u001b[A"
     ]
    },
    {
     "name": "stderr",
     "output_type": "stream",
     "text": [
      "Metric val_loss improved by 0.000 >= min_delta = 0.0. New best score: 0.237\n"
     ]
    },
    {
     "name": "stdout",
     "output_type": "stream",
     "text": [
      "Epoch 80: 100%|██████████████████████████████| 22/22 [00:00<00:00, 43.54it/s, v_num=13, train_acc=0.867, val_acc=0.941]\n",
      "Validation: |                                                                                    | 0/? [00:00<?, ?it/s]\u001b[A\n",
      "Validation:   0%|                                                                                | 0/8 [00:00<?, ?it/s]\u001b[A\n",
      "Validation DataLoader 0:   0%|                                                                   | 0/8 [00:00<?, ?it/s]\u001b[A\n",
      "Validation DataLoader 0:  12%|███████▍                                                   | 1/8 [00:00<00:00, 36.80it/s]\u001b[A\n",
      "Validation DataLoader 0:  25%|██████████████▊                                            | 2/8 [00:00<00:00, 56.04it/s]\u001b[A\n",
      "Validation DataLoader 0:  38%|██████████████████████▏                                    | 3/8 [00:00<00:00, 59.38it/s]\u001b[A\n",
      "Validation DataLoader 0:  50%|█████████████████████████████▌                             | 4/8 [00:00<00:00, 61.83it/s]\u001b[A\n",
      "Validation DataLoader 0:  62%|████████████████████████████████████▉                      | 5/8 [00:00<00:00, 59.89it/s]\u001b[A\n",
      "Validation DataLoader 0:  75%|████████████████████████████████████████████▎              | 6/8 [00:00<00:00, 59.38it/s]\u001b[A\n",
      "Validation DataLoader 0:  88%|███████████████████████████████████████████████████▋       | 7/8 [00:00<00:00, 59.83it/s]\u001b[A\n",
      "Validation DataLoader 0: 100%|███████████████████████████████████████████████████████████| 8/8 [00:00<00:00, 60.60it/s]\u001b[A\n",
      "Epoch 80: 100%|██████████████████████████████| 22/22 [00:00<00:00, 32.76it/s, v_num=13, train_acc=0.867, val_acc=0.952]\u001b[A"
     ]
    },
    {
     "name": "stderr",
     "output_type": "stream",
     "text": [
      "Metric val_loss improved by 0.004 >= min_delta = 0.0. New best score: 0.233\n"
     ]
    },
    {
     "name": "stdout",
     "output_type": "stream",
     "text": [
      "Epoch 81: 100%|██████████████████████████████| 22/22 [00:00<00:00, 41.42it/s, v_num=13, train_acc=0.667, val_acc=0.952]\n",
      "Validation: |                                                                                    | 0/? [00:00<?, ?it/s]\u001b[A\n",
      "Validation:   0%|                                                                                | 0/8 [00:00<?, ?it/s]\u001b[A\n",
      "Validation DataLoader 0:   0%|                                                                   | 0/8 [00:00<?, ?it/s]\u001b[A\n",
      "Validation DataLoader 0:  12%|███████▍                                                   | 1/8 [00:00<00:00, 48.41it/s]\u001b[A\n",
      "Validation DataLoader 0:  25%|██████████████▊                                            | 2/8 [00:00<00:00, 52.21it/s]\u001b[A\n",
      "Validation DataLoader 0:  38%|██████████████████████▏                                    | 3/8 [00:00<00:00, 60.10it/s]\u001b[A\n",
      "Validation DataLoader 0:  50%|█████████████████████████████▌                             | 4/8 [00:00<00:00, 60.34it/s]\u001b[A\n",
      "Validation DataLoader 0:  62%|████████████████████████████████████▉                      | 5/8 [00:00<00:00, 59.27it/s]\u001b[A\n",
      "Validation DataLoader 0:  75%|████████████████████████████████████████████▎              | 6/8 [00:00<00:00, 60.59it/s]\u001b[A\n",
      "Validation DataLoader 0:  88%|███████████████████████████████████████████████████▋       | 7/8 [00:00<00:00, 60.51it/s]\u001b[A\n",
      "Validation DataLoader 0: 100%|███████████████████████████████████████████████████████████| 8/8 [00:00<00:00, 64.69it/s]\u001b[A\n",
      "Epoch 81: 100%|██████████████████████████████| 22/22 [00:00<00:00, 31.35it/s, v_num=13, train_acc=0.667, val_acc=0.945]\u001b[A"
     ]
    },
    {
     "name": "stderr",
     "output_type": "stream",
     "text": [
      "Metric val_loss improved by 0.003 >= min_delta = 0.0. New best score: 0.230\n"
     ]
    },
    {
     "name": "stdout",
     "output_type": "stream",
     "text": [
      "Epoch 82: 100%|██████████████████████████████| 22/22 [00:00<00:00, 52.65it/s, v_num=13, train_acc=0.933, val_acc=0.945]\n",
      "Validation: |                                                                                    | 0/? [00:00<?, ?it/s]\u001b[A\n",
      "Validation:   0%|                                                                                | 0/8 [00:00<?, ?it/s]\u001b[A\n",
      "Validation DataLoader 0:   0%|                                                                   | 0/8 [00:00<?, ?it/s]\u001b[A\n",
      "Validation DataLoader 0:  12%|███████▍                                                   | 1/8 [00:00<00:00, 69.79it/s]\u001b[A\n",
      "Validation DataLoader 0:  25%|██████████████▊                                            | 2/8 [00:00<00:00, 74.09it/s]\u001b[A\n",
      "Validation DataLoader 0:  38%|██████████████████████▏                                    | 3/8 [00:00<00:00, 76.99it/s]\u001b[A\n",
      "Validation DataLoader 0:  50%|█████████████████████████████▌                             | 4/8 [00:00<00:00, 78.91it/s]\u001b[A\n",
      "Validation DataLoader 0:  62%|████████████████████████████████████▉                      | 5/8 [00:00<00:00, 80.25it/s]\u001b[A\n",
      "Validation DataLoader 0:  75%|████████████████████████████████████████████▎              | 6/8 [00:00<00:00, 83.01it/s]\u001b[A\n",
      "Validation DataLoader 0:  88%|███████████████████████████████████████████████████▋       | 7/8 [00:00<00:00, 85.37it/s]\u001b[A\n",
      "Validation DataLoader 0: 100%|███████████████████████████████████████████████████████████| 8/8 [00:00<00:00, 86.99it/s]\u001b[A\n",
      "Epoch 83: 100%|██████████████████████████████| 22/22 [00:00<00:00, 60.44it/s, v_num=13, train_acc=0.800, val_acc=0.942]\u001b[A\n",
      "Validation: |                                                                                    | 0/? [00:00<?, ?it/s]\u001b[A\n",
      "Validation:   0%|                                                                                | 0/8 [00:00<?, ?it/s]\u001b[A\n",
      "Validation DataLoader 0:   0%|                                                                   | 0/8 [00:00<?, ?it/s]\u001b[A\n",
      "Validation DataLoader 0:  12%|███████▍                                                   | 1/8 [00:00<00:00, 63.75it/s]\u001b[A\n",
      "Validation DataLoader 0:  25%|██████████████▊                                            | 2/8 [00:00<00:00, 73.17it/s]\u001b[A\n",
      "Validation DataLoader 0:  38%|██████████████████████▏                                    | 3/8 [00:00<00:00, 76.88it/s]\u001b[A\n",
      "Validation DataLoader 0:  50%|█████████████████████████████▌                             | 4/8 [00:00<00:00, 77.20it/s]\u001b[A\n",
      "Validation DataLoader 0:  62%|████████████████████████████████████▉                      | 5/8 [00:00<00:00, 75.96it/s]\u001b[A\n",
      "Validation DataLoader 0:  75%|████████████████████████████████████████████▎              | 6/8 [00:00<00:00, 76.16it/s]\u001b[A\n",
      "Validation DataLoader 0:  88%|███████████████████████████████████████████████████▋       | 7/8 [00:00<00:00, 79.33it/s]\u001b[A\n",
      "Validation DataLoader 0: 100%|███████████████████████████████████████████████████████████| 8/8 [00:00<00:00, 80.94it/s]\u001b[A\n",
      "Epoch 84: 100%|██████████████████████████████| 22/22 [00:00<00:00, 76.98it/s, v_num=13, train_acc=0.667, val_acc=0.938]\u001b[A\n",
      "Validation: |                                                                                    | 0/? [00:00<?, ?it/s]\u001b[A\n",
      "Validation:   0%|                                                                                | 0/8 [00:00<?, ?it/s]\u001b[A\n",
      "Validation DataLoader 0:   0%|                                                                   | 0/8 [00:00<?, ?it/s]\u001b[A\n",
      "Validation DataLoader 0:  12%|███████▍                                                   | 1/8 [00:00<00:00, 49.94it/s]\u001b[A\n",
      "Validation DataLoader 0:  25%|██████████████▊                                            | 2/8 [00:00<00:00, 62.52it/s]\u001b[A\n",
      "Validation DataLoader 0:  38%|██████████████████████▏                                    | 3/8 [00:00<00:00, 63.90it/s]\u001b[A\n",
      "Validation DataLoader 0:  50%|█████████████████████████████▌                             | 4/8 [00:00<00:00, 65.67it/s]\u001b[A\n",
      "Validation DataLoader 0:  62%|████████████████████████████████████▉                      | 5/8 [00:00<00:00, 67.27it/s]\u001b[A\n",
      "Validation DataLoader 0:  75%|████████████████████████████████████████████▎              | 6/8 [00:00<00:00, 68.64it/s]\u001b[A\n",
      "Validation DataLoader 0:  88%|███████████████████████████████████████████████████▋       | 7/8 [00:00<00:00, 69.26it/s]\u001b[A\n",
      "Validation DataLoader 0: 100%|███████████████████████████████████████████████████████████| 8/8 [00:00<00:00, 71.76it/s]\u001b[A\n",
      "Epoch 85: 100%|██████████████████████████████| 22/22 [00:00<00:00, 63.22it/s, v_num=13, train_acc=0.867, val_acc=0.939]\u001b[A\n",
      "Validation: |                                                                                    | 0/? [00:00<?, ?it/s]\u001b[A\n",
      "Validation:   0%|                                                                                | 0/8 [00:00<?, ?it/s]\u001b[A\n",
      "Validation DataLoader 0:   0%|                                                                   | 0/8 [00:00<?, ?it/s]\u001b[A\n",
      "Validation DataLoader 0:  12%|███████▍                                                   | 1/8 [00:00<00:00, 65.26it/s]\u001b[A\n",
      "Validation DataLoader 0:  25%|██████████████▊                                            | 2/8 [00:00<00:00, 76.06it/s]\u001b[A\n",
      "Validation DataLoader 0:  38%|██████████████████████▏                                    | 3/8 [00:00<00:00, 79.08it/s]\u001b[A\n",
      "Validation DataLoader 0:  50%|█████████████████████████████▌                             | 4/8 [00:00<00:00, 76.24it/s]\u001b[A\n",
      "Validation DataLoader 0:  62%|████████████████████████████████████▉                      | 5/8 [00:00<00:00, 77.60it/s]\u001b[A\n",
      "Validation DataLoader 0:  75%|████████████████████████████████████████████▎              | 6/8 [00:00<00:00, 80.99it/s]\u001b[A\n",
      "Validation DataLoader 0:  88%|███████████████████████████████████████████████████▋       | 7/8 [00:00<00:00, 80.50it/s]\u001b[A\n",
      "Validation DataLoader 0: 100%|███████████████████████████████████████████████████████████| 8/8 [00:00<00:00, 81.70it/s]\u001b[A\n",
      "Epoch 86: 100%|██████████████████████████████| 22/22 [00:00<00:00, 65.39it/s, v_num=13, train_acc=0.733, val_acc=0.951]\u001b[A\n",
      "Validation: |                                                                                    | 0/? [00:00<?, ?it/s]\u001b[A\n",
      "Validation:   0%|                                                                                | 0/8 [00:00<?, ?it/s]\u001b[A\n",
      "Validation DataLoader 0:   0%|                                                                   | 0/8 [00:00<?, ?it/s]\u001b[A\n",
      "Validation DataLoader 0:  12%|███████▍                                                   | 1/8 [00:00<00:00, 55.09it/s]\u001b[A\n",
      "Validation DataLoader 0:  25%|██████████████▊                                            | 2/8 [00:00<00:00, 61.86it/s]\u001b[A\n",
      "Validation DataLoader 0:  38%|██████████████████████▏                                    | 3/8 [00:00<00:00, 63.91it/s]\u001b[A\n",
      "Validation DataLoader 0:  50%|█████████████████████████████▌                             | 4/8 [00:00<00:00, 64.41it/s]\u001b[A\n",
      "Validation DataLoader 0:  62%|████████████████████████████████████▉                      | 5/8 [00:00<00:00, 66.36it/s]\u001b[A\n",
      "Validation DataLoader 0:  75%|████████████████████████████████████████████▎              | 6/8 [00:00<00:00, 70.32it/s]\u001b[A\n",
      "Validation DataLoader 0:  88%|███████████████████████████████████████████████████▋       | 7/8 [00:00<00:00, 71.22it/s]\u001b[A\n",
      "Validation DataLoader 0: 100%|███████████████████████████████████████████████████████████| 8/8 [00:00<00:00, 73.22it/s]\u001b[A\n",
      "Epoch 86: 100%|██████████████████████████████| 22/22 [00:00<00:00, 45.81it/s, v_num=13, train_acc=0.733, val_acc=0.946]\u001b[A"
     ]
    },
    {
     "name": "stderr",
     "output_type": "stream",
     "text": [
      "Metric val_loss improved by 0.004 >= min_delta = 0.0. New best score: 0.226\n"
     ]
    },
    {
     "name": "stdout",
     "output_type": "stream",
     "text": [
      "Epoch 87: 100%|██████████████████████████████| 22/22 [00:00<00:00, 71.18it/s, v_num=13, train_acc=0.867, val_acc=0.946]\n",
      "Validation: |                                                                                    | 0/? [00:00<?, ?it/s]\u001b[A\n",
      "Validation:   0%|                                                                                | 0/8 [00:00<?, ?it/s]\u001b[A\n",
      "Validation DataLoader 0:   0%|                                                                   | 0/8 [00:00<?, ?it/s]\u001b[A\n",
      "Validation DataLoader 0:  12%|███████▍                                                   | 1/8 [00:00<00:00, 65.06it/s]\u001b[A\n",
      "Validation DataLoader 0:  25%|██████████████▊                                            | 2/8 [00:00<00:00, 78.91it/s]\u001b[A\n",
      "Validation DataLoader 0:  38%|██████████████████████▏                                    | 3/8 [00:00<00:00, 80.30it/s]\u001b[A\n",
      "Validation DataLoader 0:  50%|█████████████████████████████▌                             | 4/8 [00:00<00:00, 81.49it/s]\u001b[A\n",
      "Validation DataLoader 0:  62%|████████████████████████████████████▉                      | 5/8 [00:00<00:00, 84.21it/s]\u001b[A\n",
      "Validation DataLoader 0:  75%|████████████████████████████████████████████▎              | 6/8 [00:00<00:00, 86.42it/s]\u001b[A\n",
      "Validation DataLoader 0:  88%|███████████████████████████████████████████████████▋       | 7/8 [00:00<00:00, 87.33it/s]\u001b[A\n",
      "Validation DataLoader 0: 100%|███████████████████████████████████████████████████████████| 8/8 [00:00<00:00, 89.76it/s]\u001b[A\n",
      "Epoch 87: 100%|██████████████████████████████| 22/22 [00:00<00:00, 51.45it/s, v_num=13, train_acc=0.867, val_acc=0.947]\u001b[A"
     ]
    },
    {
     "name": "stderr",
     "output_type": "stream",
     "text": [
      "Metric val_loss improved by 0.003 >= min_delta = 0.0. New best score: 0.222\n"
     ]
    },
    {
     "name": "stdout",
     "output_type": "stream",
     "text": [
      "Epoch 88: 100%|██████████████████████████████| 22/22 [00:00<00:00, 72.39it/s, v_num=13, train_acc=0.867, val_acc=0.947]\n",
      "Validation: |                                                                                    | 0/? [00:00<?, ?it/s]\u001b[A\n",
      "Validation:   0%|                                                                                | 0/8 [00:00<?, ?it/s]\u001b[A\n",
      "Validation DataLoader 0:   0%|                                                                   | 0/8 [00:00<?, ?it/s]\u001b[A\n",
      "Validation DataLoader 0:  12%|███████▍                                                   | 1/8 [00:00<00:00, 65.74it/s]\u001b[A\n",
      "Validation DataLoader 0:  25%|██████████████▊                                            | 2/8 [00:00<00:00, 79.42it/s]\u001b[A\n",
      "Validation DataLoader 0:  38%|██████████████████████▏                                    | 3/8 [00:00<00:00, 77.71it/s]\u001b[A\n",
      "Validation DataLoader 0:  50%|█████████████████████████████▌                             | 4/8 [00:00<00:00, 82.34it/s]\u001b[A\n",
      "Validation DataLoader 0:  62%|████████████████████████████████████▉                      | 5/8 [00:00<00:00, 83.00it/s]\u001b[A\n",
      "Validation DataLoader 0:  75%|████████████████████████████████████████████▎              | 6/8 [00:00<00:00, 81.03it/s]\u001b[A\n",
      "Validation DataLoader 0:  88%|███████████████████████████████████████████████████▋       | 7/8 [00:00<00:00, 80.45it/s]\u001b[A\n",
      "Validation DataLoader 0: 100%|███████████████████████████████████████████████████████████| 8/8 [00:00<00:00, 83.34it/s]\u001b[A\n",
      "Epoch 88: 100%|██████████████████████████████| 22/22 [00:00<00:00, 51.25it/s, v_num=13, train_acc=0.867, val_acc=0.940]\u001b[A"
     ]
    },
    {
     "name": "stderr",
     "output_type": "stream",
     "text": [
      "Metric val_loss improved by 0.002 >= min_delta = 0.0. New best score: 0.221\n"
     ]
    },
    {
     "name": "stdout",
     "output_type": "stream",
     "text": [
      "Epoch 89: 100%|██████████████████████████████| 22/22 [00:00<00:00, 69.89it/s, v_num=13, train_acc=0.800, val_acc=0.940]\n",
      "Validation: |                                                                                    | 0/? [00:00<?, ?it/s]\u001b[A\n",
      "Validation:   0%|                                                                                | 0/8 [00:00<?, ?it/s]\u001b[A\n",
      "Validation DataLoader 0:   0%|                                                                   | 0/8 [00:00<?, ?it/s]\u001b[A\n",
      "Validation DataLoader 0:  12%|███████▍                                                   | 1/8 [00:00<00:00, 70.97it/s]\u001b[A\n",
      "Validation DataLoader 0:  25%|██████████████▊                                            | 2/8 [00:00<00:00, 83.74it/s]\u001b[A\n",
      "Validation DataLoader 0:  38%|██████████████████████▏                                    | 3/8 [00:00<00:00, 81.58it/s]\u001b[A\n",
      "Validation DataLoader 0:  50%|█████████████████████████████▌                             | 4/8 [00:00<00:00, 79.89it/s]\u001b[A\n",
      "Validation DataLoader 0:  62%|████████████████████████████████████▉                      | 5/8 [00:00<00:00, 84.68it/s]\u001b[A\n",
      "Validation DataLoader 0:  75%|████████████████████████████████████████████▎              | 6/8 [00:00<00:00, 84.82it/s]\u001b[A\n",
      "Validation DataLoader 0:  88%|███████████████████████████████████████████████████▋       | 7/8 [00:00<00:00, 85.67it/s]\u001b[A\n",
      "Validation DataLoader 0: 100%|███████████████████████████████████████████████████████████| 8/8 [00:00<00:00, 87.54it/s]\u001b[A\n",
      "Epoch 89: 100%|██████████████████████████████| 22/22 [00:00<00:00, 50.42it/s, v_num=13, train_acc=0.800, val_acc=0.948]\u001b[A"
     ]
    },
    {
     "name": "stderr",
     "output_type": "stream",
     "text": [
      "Metric val_loss improved by 0.001 >= min_delta = 0.0. New best score: 0.220\n"
     ]
    },
    {
     "name": "stdout",
     "output_type": "stream",
     "text": [
      "Epoch 90: 100%|██████████████████████████████| 22/22 [00:00<00:00, 69.86it/s, v_num=13, train_acc=0.733, val_acc=0.948]\n",
      "Validation: |                                                                                    | 0/? [00:00<?, ?it/s]\u001b[A\n",
      "Validation:   0%|                                                                                | 0/8 [00:00<?, ?it/s]\u001b[A\n",
      "Validation DataLoader 0:   0%|                                                                   | 0/8 [00:00<?, ?it/s]\u001b[A\n",
      "Validation DataLoader 0:  12%|███████▍                                                   | 1/8 [00:00<00:00, 65.90it/s]\u001b[A\n",
      "Validation DataLoader 0:  25%|██████████████▊                                            | 2/8 [00:00<00:00, 77.50it/s]\u001b[A\n",
      "Validation DataLoader 0:  38%|██████████████████████▏                                    | 3/8 [00:00<00:00, 80.23it/s]\u001b[A\n",
      "Validation DataLoader 0:  50%|█████████████████████████████▌                             | 4/8 [00:00<00:00, 80.82it/s]\u001b[A\n",
      "Validation DataLoader 0:  62%|████████████████████████████████████▉                      | 5/8 [00:00<00:00, 80.62it/s]\u001b[A\n",
      "Validation DataLoader 0:  75%|████████████████████████████████████████████▎              | 6/8 [00:00<00:00, 80.43it/s]\u001b[A\n",
      "Validation DataLoader 0:  88%|███████████████████████████████████████████████████▋       | 7/8 [00:00<00:00, 82.87it/s]\u001b[A\n",
      "Validation DataLoader 0: 100%|███████████████████████████████████████████████████████████| 8/8 [00:00<00:00, 84.55it/s]\u001b[A\n",
      "Epoch 91: 100%|██████████████████████████████| 22/22 [00:00<00:00, 72.56it/s, v_num=13, train_acc=0.800, val_acc=0.949]\u001b[A\n",
      "Validation: |                                                                                    | 0/? [00:00<?, ?it/s]\u001b[A\n",
      "Validation:   0%|                                                                                | 0/8 [00:00<?, ?it/s]\u001b[A\n",
      "Validation DataLoader 0:   0%|                                                                   | 0/8 [00:00<?, ?it/s]\u001b[A\n",
      "Validation DataLoader 0:  12%|███████▍                                                   | 1/8 [00:00<00:00, 62.67it/s]\u001b[A\n",
      "Validation DataLoader 0:  25%|██████████████▊                                            | 2/8 [00:00<00:00, 69.57it/s]\u001b[A\n",
      "Validation DataLoader 0:  38%|██████████████████████▏                                    | 3/8 [00:00<00:00, 79.52it/s]\u001b[A\n",
      "Validation DataLoader 0:  50%|█████████████████████████████▌                             | 4/8 [00:00<00:00, 83.88it/s]\u001b[A\n",
      "Validation DataLoader 0:  62%|████████████████████████████████████▉                      | 5/8 [00:00<00:00, 83.17it/s]\u001b[A\n",
      "Validation DataLoader 0:  75%|████████████████████████████████████████████▎              | 6/8 [00:00<00:00, 83.30it/s]\u001b[A\n",
      "Validation DataLoader 0:  88%|███████████████████████████████████████████████████▋       | 7/8 [00:00<00:00, 81.40it/s]\u001b[A\n",
      "Validation DataLoader 0: 100%|███████████████████████████████████████████████████████████| 8/8 [00:00<00:00, 82.50it/s]\u001b[A\n",
      "Epoch 92: 100%|██████████████████████████████| 22/22 [00:00<00:00, 74.31it/s, v_num=13, train_acc=0.733, val_acc=0.942]\u001b[A\n",
      "Validation: |                                                                                    | 0/? [00:00<?, ?it/s]\u001b[A\n",
      "Validation:   0%|                                                                                | 0/8 [00:00<?, ?it/s]\u001b[A\n",
      "Validation DataLoader 0:   0%|                                                                   | 0/8 [00:00<?, ?it/s]\u001b[A\n",
      "Validation DataLoader 0:  12%|███████▍                                                   | 1/8 [00:00<00:00, 70.98it/s]\u001b[A\n",
      "Validation DataLoader 0:  25%|██████████████▊                                            | 2/8 [00:00<00:00, 81.61it/s]\u001b[A\n",
      "Validation DataLoader 0:  38%|██████████████████████▏                                    | 3/8 [00:00<00:00, 85.44it/s]\u001b[A\n",
      "Validation DataLoader 0:  50%|█████████████████████████████▌                             | 4/8 [00:00<00:00, 84.96it/s]\u001b[A\n",
      "Validation DataLoader 0:  62%|████████████████████████████████████▉                      | 5/8 [00:00<00:00, 84.53it/s]\u001b[A\n",
      "Validation DataLoader 0:  75%|████████████████████████████████████████████▎              | 6/8 [00:00<00:00, 85.37it/s]\u001b[A\n",
      "Validation DataLoader 0:  88%|███████████████████████████████████████████████████▋       | 7/8 [00:00<00:00, 87.22it/s]\u001b[A\n",
      "Validation DataLoader 0: 100%|███████████████████████████████████████████████████████████| 8/8 [00:00<00:00, 89.37it/s]\u001b[A\n",
      "Epoch 92: 100%|██████████████████████████████| 22/22 [00:00<00:00, 53.25it/s, v_num=13, train_acc=0.733, val_acc=0.949]\u001b[A"
     ]
    },
    {
     "name": "stderr",
     "output_type": "stream",
     "text": [
      "Metric val_loss improved by 0.002 >= min_delta = 0.0. New best score: 0.217\n"
     ]
    },
    {
     "name": "stdout",
     "output_type": "stream",
     "text": [
      "Epoch 93: 100%|██████████████████████████████| 22/22 [00:00<00:00, 68.41it/s, v_num=13, train_acc=0.867, val_acc=0.949]\n",
      "Validation: |                                                                                    | 0/? [00:00<?, ?it/s]\u001b[A\n",
      "Validation:   0%|                                                                                | 0/8 [00:00<?, ?it/s]\u001b[A\n",
      "Validation DataLoader 0:   0%|                                                                   | 0/8 [00:00<?, ?it/s]\u001b[A\n",
      "Validation DataLoader 0:  12%|███████▍                                                   | 1/8 [00:00<00:00, 57.07it/s]\u001b[A\n",
      "Validation DataLoader 0:  25%|██████████████▊                                            | 2/8 [00:00<00:00, 60.73it/s]\u001b[A\n",
      "Validation DataLoader 0:  38%|██████████████████████▏                                    | 3/8 [00:00<00:00, 60.48it/s]\u001b[A\n",
      "Validation DataLoader 0:  50%|█████████████████████████████▌                             | 4/8 [00:00<00:00, 59.15it/s]\u001b[A\n",
      "Validation DataLoader 0:  62%|████████████████████████████████████▉                      | 5/8 [00:00<00:00, 61.01it/s]\u001b[A\n",
      "Validation DataLoader 0:  75%|████████████████████████████████████████████▎              | 6/8 [00:00<00:00, 61.67it/s]\u001b[A\n",
      "Validation DataLoader 0:  88%|███████████████████████████████████████████████████▋       | 7/8 [00:00<00:00, 67.53it/s]\u001b[A\n",
      "Validation DataLoader 0: 100%|███████████████████████████████████████████████████████████| 8/8 [00:00<00:00, 67.07it/s]\u001b[A\n",
      "Epoch 93: 100%|██████████████████████████████| 22/22 [00:00<00:00, 46.76it/s, v_num=13, train_acc=0.867, val_acc=0.950]\u001b[A"
     ]
    },
    {
     "name": "stderr",
     "output_type": "stream",
     "text": [
      "Metric val_loss improved by 0.002 >= min_delta = 0.0. New best score: 0.216\n"
     ]
    },
    {
     "name": "stdout",
     "output_type": "stream",
     "text": [
      "Epoch 94: 100%|██████████████████████████████| 22/22 [00:00<00:00, 66.83it/s, v_num=13, train_acc=0.800, val_acc=0.950]\n",
      "Validation: |                                                                                    | 0/? [00:00<?, ?it/s]\u001b[A\n",
      "Validation:   0%|                                                                                | 0/8 [00:00<?, ?it/s]\u001b[A\n",
      "Validation DataLoader 0:   0%|                                                                   | 0/8 [00:00<?, ?it/s]\u001b[A\n",
      "Validation DataLoader 0:  12%|███████▍                                                   | 1/8 [00:00<00:00, 71.58it/s]\u001b[A\n",
      "Validation DataLoader 0:  25%|██████████████▊                                            | 2/8 [00:00<00:00, 73.25it/s]\u001b[A\n",
      "Validation DataLoader 0:  38%|██████████████████████▏                                    | 3/8 [00:00<00:00, 78.38it/s]\u001b[A\n",
      "Validation DataLoader 0:  50%|█████████████████████████████▌                             | 4/8 [00:00<00:00, 96.86it/s]\u001b[A\n",
      "Validation DataLoader 0:  62%|████████████████████████████████████▉                      | 5/8 [00:00<00:00, 82.03it/s]\u001b[A\n",
      "Validation DataLoader 0:  75%|████████████████████████████████████████████▎              | 6/8 [00:00<00:00, 76.49it/s]\u001b[A\n",
      "Validation DataLoader 0:  88%|███████████████████████████████████████████████████▋       | 7/8 [00:00<00:00, 70.51it/s]\u001b[A\n",
      "Validation DataLoader 0: 100%|███████████████████████████████████████████████████████████| 8/8 [00:00<00:00, 71.27it/s]\u001b[A\n",
      "Epoch 94: 100%|██████████████████████████████| 22/22 [00:00<00:00, 46.77it/s, v_num=13, train_acc=0.800, val_acc=0.948]\u001b[A"
     ]
    },
    {
     "name": "stderr",
     "output_type": "stream",
     "text": [
      "Metric val_loss improved by 0.003 >= min_delta = 0.0. New best score: 0.213\n"
     ]
    },
    {
     "name": "stdout",
     "output_type": "stream",
     "text": [
      "Epoch 95: 100%|██████████████████████████████| 22/22 [00:00<00:00, 55.00it/s, v_num=13, train_acc=0.800, val_acc=0.948]\n",
      "Validation: |                                                                                    | 0/? [00:00<?, ?it/s]\u001b[A\n",
      "Validation:   0%|                                                                                | 0/8 [00:00<?, ?it/s]\u001b[A\n",
      "Validation DataLoader 0:   0%|                                                                   | 0/8 [00:00<?, ?it/s]\u001b[A\n",
      "Validation DataLoader 0:  12%|███████▍                                                   | 1/8 [00:00<00:00, 71.62it/s]\u001b[A\n",
      "Validation DataLoader 0:  25%|██████████████▊                                            | 2/8 [00:00<00:00, 78.07it/s]\u001b[A\n",
      "Validation DataLoader 0:  38%|██████████████████████▏                                    | 3/8 [00:00<00:00, 76.72it/s]\u001b[A\n",
      "Validation DataLoader 0:  50%|█████████████████████████████▌                             | 4/8 [00:00<00:00, 78.26it/s]\u001b[A\n",
      "Validation DataLoader 0:  62%|████████████████████████████████████▉                      | 5/8 [00:00<00:00, 78.03it/s]\u001b[A\n",
      "Validation DataLoader 0:  75%|████████████████████████████████████████████▎              | 6/8 [00:00<00:00, 79.95it/s]\u001b[A\n",
      "Validation DataLoader 0:  88%|███████████████████████████████████████████████████▋       | 7/8 [00:00<00:00, 80.38it/s]\u001b[A\n",
      "Validation DataLoader 0: 100%|███████████████████████████████████████████████████████████| 8/8 [00:00<00:00, 81.67it/s]\u001b[A\n",
      "Epoch 96: 100%|██████████████████████████████| 22/22 [00:00<00:00, 72.55it/s, v_num=13, train_acc=0.800, val_acc=0.943]\u001b[A\n",
      "Validation: |                                                                                    | 0/? [00:00<?, ?it/s]\u001b[A\n",
      "Validation:   0%|                                                                                | 0/8 [00:00<?, ?it/s]\u001b[A\n",
      "Validation DataLoader 0:   0%|                                                                   | 0/8 [00:00<?, ?it/s]\u001b[A\n",
      "Validation DataLoader 0:  12%|███████▍                                                   | 1/8 [00:00<00:00, 63.69it/s]\u001b[A\n",
      "Validation DataLoader 0:  25%|██████████████▊                                            | 2/8 [00:00<00:00, 81.05it/s]\u001b[A\n",
      "Validation DataLoader 0:  38%|██████████████████████▏                                    | 3/8 [00:00<00:00, 78.87it/s]\u001b[A\n",
      "Validation DataLoader 0:  50%|█████████████████████████████▌                             | 4/8 [00:00<00:00, 79.87it/s]\u001b[A\n",
      "Validation DataLoader 0:  62%|████████████████████████████████████▉                      | 5/8 [00:00<00:00, 94.16it/s]\u001b[A\n",
      "Validation DataLoader 0:  75%|████████████████████████████████████████████▎              | 6/8 [00:00<00:00, 82.76it/s]\u001b[A\n",
      "Validation DataLoader 0:  88%|███████████████████████████████████████████████████▋       | 7/8 [00:00<00:00, 81.74it/s]\u001b[A\n",
      "Validation DataLoader 0: 100%|███████████████████████████████████████████████████████████| 8/8 [00:00<00:00, 77.43it/s]\u001b[A\n",
      "Epoch 97: 100%|██████████████████████████████| 22/22 [00:00<00:00, 65.07it/s, v_num=13, train_acc=0.667, val_acc=0.952]\u001b[A\n",
      "Validation: |                                                                                    | 0/? [00:00<?, ?it/s]\u001b[A\n",
      "Validation:   0%|                                                                                | 0/8 [00:00<?, ?it/s]\u001b[A\n",
      "Validation DataLoader 0:   0%|                                                                   | 0/8 [00:00<?, ?it/s]\u001b[A\n",
      "Validation DataLoader 0:  12%|███████▍                                                   | 1/8 [00:00<00:00, 57.70it/s]\u001b[A\n",
      "Validation DataLoader 0:  25%|██████████████▊                                            | 2/8 [00:00<00:00, 66.02it/s]\u001b[A\n",
      "Validation DataLoader 0:  38%|██████████████████████▏                                    | 3/8 [00:00<00:00, 71.03it/s]\u001b[A\n",
      "Validation DataLoader 0:  50%|█████████████████████████████▌                             | 4/8 [00:00<00:00, 71.27it/s]\u001b[A\n",
      "Validation DataLoader 0:  62%|████████████████████████████████████▉                      | 5/8 [00:00<00:00, 75.26it/s]\u001b[A\n",
      "Validation DataLoader 0:  75%|████████████████████████████████████████████▎              | 6/8 [00:00<00:00, 76.61it/s]\u001b[A\n",
      "Validation DataLoader 0:  88%|███████████████████████████████████████████████████▋       | 7/8 [00:00<00:00, 76.70it/s]\u001b[A\n",
      "Validation DataLoader 0: 100%|███████████████████████████████████████████████████████████| 8/8 [00:00<00:00, 78.21it/s]\u001b[A\n",
      "Epoch 97: 100%|██████████████████████████████| 22/22 [00:00<00:00, 46.73it/s, v_num=13, train_acc=0.667, val_acc=0.949]\u001b[A"
     ]
    },
    {
     "name": "stderr",
     "output_type": "stream",
     "text": [
      "Metric val_loss improved by 0.000 >= min_delta = 0.0. New best score: 0.213\n"
     ]
    },
    {
     "name": "stdout",
     "output_type": "stream",
     "text": [
      "Epoch 98: 100%|██████████████████████████████| 22/22 [00:00<00:00, 70.28it/s, v_num=13, train_acc=0.800, val_acc=0.949]\n",
      "Validation: |                                                                                    | 0/? [00:00<?, ?it/s]\u001b[A\n",
      "Validation:   0%|                                                                                | 0/8 [00:00<?, ?it/s]\u001b[A\n",
      "Validation DataLoader 0:   0%|                                                                   | 0/8 [00:00<?, ?it/s]\u001b[A\n",
      "Validation DataLoader 0:  12%|███████▍                                                   | 1/8 [00:00<00:00, 62.67it/s]\u001b[A\n",
      "Validation DataLoader 0:  25%|██████████████▊                                            | 2/8 [00:00<00:00, 74.27it/s]\u001b[A\n",
      "Validation DataLoader 0:  38%|██████████████████████▏                                    | 3/8 [00:00<00:00, 80.29it/s]\u001b[A\n",
      "Validation DataLoader 0:  50%|█████████████████████████████▌                             | 4/8 [00:00<00:00, 83.19it/s]\u001b[A\n",
      "Validation DataLoader 0:  62%|████████████████████████████████████▉                      | 5/8 [00:00<00:00, 86.12it/s]\u001b[A\n",
      "Validation DataLoader 0:  75%|████████████████████████████████████████████▎              | 6/8 [00:00<00:00, 87.23it/s]\u001b[A\n",
      "Validation DataLoader 0:  88%|███████████████████████████████████████████████████▋       | 7/8 [00:00<00:00, 86.68it/s]\u001b[A\n",
      "Validation DataLoader 0: 100%|███████████████████████████████████████████████████████████| 8/8 [00:00<00:00, 87.22it/s]\u001b[A\n",
      "Epoch 98: 100%|██████████████████████████████| 22/22 [00:00<00:00, 50.60it/s, v_num=13, train_acc=0.800, val_acc=0.952]\u001b[A"
     ]
    },
    {
     "name": "stderr",
     "output_type": "stream",
     "text": [
      "Metric val_loss improved by 0.000 >= min_delta = 0.0. New best score: 0.213\n"
     ]
    },
    {
     "name": "stdout",
     "output_type": "stream",
     "text": [
      "Epoch 99: 100%|██████████████████████████████| 22/22 [00:00<00:00, 65.86it/s, v_num=13, train_acc=0.800, val_acc=0.952]\n",
      "Validation: |                                                                                    | 0/? [00:00<?, ?it/s]\u001b[A\n",
      "Validation:   0%|                                                                                | 0/8 [00:00<?, ?it/s]\u001b[A\n",
      "Validation DataLoader 0:   0%|                                                                   | 0/8 [00:00<?, ?it/s]\u001b[A\n",
      "Validation DataLoader 0:  12%|███████▍                                                   | 1/8 [00:00<00:00, 72.26it/s]\u001b[A\n",
      "Validation DataLoader 0:  25%|██████████████▊                                            | 2/8 [00:00<00:00, 71.95it/s]\u001b[A\n",
      "Validation DataLoader 0:  38%|██████████████████████▏                                    | 3/8 [00:00<00:00, 79.42it/s]\u001b[A\n",
      "Validation DataLoader 0:  50%|█████████████████████████████▌                             | 4/8 [00:00<00:00, 84.02it/s]\u001b[A\n",
      "Validation DataLoader 0:  62%|████████████████████████████████████▉                      | 5/8 [00:00<00:00, 82.54it/s]\u001b[A\n",
      "Validation DataLoader 0:  75%|████████████████████████████████████████████▎              | 6/8 [00:00<00:00, 83.86it/s]\u001b[A\n",
      "Validation DataLoader 0:  88%|███████████████████████████████████████████████████▋       | 7/8 [00:00<00:00, 85.82it/s]\u001b[A\n",
      "Validation DataLoader 0: 100%|███████████████████████████████████████████████████████████| 8/8 [00:00<00:00, 88.04it/s]\u001b[A\n",
      "Epoch 100: 100%|█████████████████████████████| 22/22 [00:00<00:00, 71.39it/s, v_num=13, train_acc=0.867, val_acc=0.950]\u001b[A\n",
      "Validation: |                                                                                    | 0/? [00:00<?, ?it/s]\u001b[A\n",
      "Validation:   0%|                                                                                | 0/8 [00:00<?, ?it/s]\u001b[A\n",
      "Validation DataLoader 0:   0%|                                                                   | 0/8 [00:00<?, ?it/s]\u001b[A\n",
      "Validation DataLoader 0:  12%|███████▍                                                   | 1/8 [00:00<00:00, 62.66it/s]\u001b[A\n",
      "Validation DataLoader 0:  25%|██████████████▊                                            | 2/8 [00:00<00:00, 70.87it/s]\u001b[A\n",
      "Validation DataLoader 0:  38%|██████████████████████▏                                    | 3/8 [00:00<00:00, 73.05it/s]\u001b[A\n",
      "Validation DataLoader 0:  50%|█████████████████████████████▌                             | 4/8 [00:00<00:00, 76.87it/s]\u001b[A\n",
      "Validation DataLoader 0:  62%|████████████████████████████████████▉                      | 5/8 [00:00<00:00, 78.49it/s]\u001b[A\n",
      "Validation DataLoader 0:  75%|████████████████████████████████████████████▎              | 6/8 [00:00<00:00, 77.25it/s]\u001b[A\n",
      "Validation DataLoader 0:  88%|███████████████████████████████████████████████████▋       | 7/8 [00:00<00:00, 78.97it/s]\u001b[A\n",
      "Validation DataLoader 0: 100%|███████████████████████████████████████████████████████████| 8/8 [00:00<00:00, 80.31it/s]\u001b[A\n",
      "Epoch 100: 100%|█████████████████████████████| 22/22 [00:00<00:00, 49.24it/s, v_num=13, train_acc=0.867, val_acc=0.953]\u001b[A"
     ]
    },
    {
     "name": "stderr",
     "output_type": "stream",
     "text": [
      "Metric val_loss improved by 0.000 >= min_delta = 0.0. New best score: 0.213\n"
     ]
    },
    {
     "name": "stdout",
     "output_type": "stream",
     "text": [
      "Epoch 101: 100%|█████████████████████████████| 22/22 [00:00<00:00, 71.11it/s, v_num=13, train_acc=0.800, val_acc=0.953]\n",
      "Validation: |                                                                                    | 0/? [00:00<?, ?it/s]\u001b[A\n",
      "Validation:   0%|                                                                                | 0/8 [00:00<?, ?it/s]\u001b[A\n",
      "Validation DataLoader 0:   0%|                                                                   | 0/8 [00:00<?, ?it/s]\u001b[A\n",
      "Validation DataLoader 0:  12%|███████▍                                                   | 1/8 [00:00<00:00, 64.00it/s]\u001b[A\n",
      "Validation DataLoader 0:  25%|██████████████▊                                            | 2/8 [00:00<00:00, 78.13it/s]\u001b[A\n",
      "Validation DataLoader 0:  38%|██████████████████████▏                                    | 3/8 [00:00<00:00, 80.51it/s]\u001b[A\n",
      "Validation DataLoader 0:  50%|█████████████████████████████▌                             | 4/8 [00:00<00:00, 81.64it/s]\u001b[A\n",
      "Validation DataLoader 0:  62%|████████████████████████████████████▉                      | 5/8 [00:00<00:00, 78.05it/s]\u001b[A\n",
      "Validation DataLoader 0:  75%|████████████████████████████████████████████▎              | 6/8 [00:00<00:00, 89.12it/s]\u001b[A\n",
      "Validation DataLoader 0:  88%|███████████████████████████████████████████████████▋       | 7/8 [00:00<00:00, 81.47it/s]\u001b[A\n",
      "Validation DataLoader 0: 100%|███████████████████████████████████████████████████████████| 8/8 [00:00<00:00, 79.32it/s]\u001b[A\n",
      "Epoch 102: 100%|█████████████████████████████| 22/22 [00:00<00:00, 63.84it/s, v_num=13, train_acc=0.933, val_acc=0.952]\u001b[A\n",
      "Validation: |                                                                                    | 0/? [00:00<?, ?it/s]\u001b[A\n",
      "Validation:   0%|                                                                                | 0/8 [00:00<?, ?it/s]\u001b[A\n",
      "Validation DataLoader 0:   0%|                                                                   | 0/8 [00:00<?, ?it/s]\u001b[A\n",
      "Validation DataLoader 0:  12%|███████▍                                                   | 1/8 [00:00<00:00, 72.79it/s]\u001b[A\n",
      "Validation DataLoader 0:  25%|██████████████▊                                            | 2/8 [00:00<00:00, 52.92it/s]\u001b[A\n",
      "Validation DataLoader 0:  38%|██████████████████████▏                                    | 3/8 [00:00<00:00, 59.42it/s]\u001b[A\n",
      "Validation DataLoader 0:  50%|█████████████████████████████▌                             | 4/8 [00:00<00:00, 62.81it/s]\u001b[A\n",
      "Validation DataLoader 0:  62%|████████████████████████████████████▉                      | 5/8 [00:00<00:00, 62.19it/s]\u001b[A\n",
      "Validation DataLoader 0:  75%|████████████████████████████████████████████▎              | 6/8 [00:00<00:00, 62.65it/s]\u001b[A\n",
      "Validation DataLoader 0:  88%|███████████████████████████████████████████████████▋       | 7/8 [00:00<00:00, 63.09it/s]\u001b[A\n",
      "Validation DataLoader 0: 100%|███████████████████████████████████████████████████████████| 8/8 [00:00<00:00, 68.79it/s]\u001b[A\n",
      "Epoch 103: 100%|█████████████████████████████| 22/22 [00:00<00:00, 66.19it/s, v_num=13, train_acc=0.800, val_acc=0.953]\u001b[A\n",
      "Validation: |                                                                                    | 0/? [00:00<?, ?it/s]\u001b[A\n",
      "Validation:   0%|                                                                                | 0/8 [00:00<?, ?it/s]\u001b[A\n",
      "Validation DataLoader 0:   0%|                                                                   | 0/8 [00:00<?, ?it/s]\u001b[A\n",
      "Validation DataLoader 0:  12%|███████▍                                                   | 1/8 [00:00<00:00, 63.16it/s]\u001b[A\n",
      "Validation DataLoader 0:  25%|██████████████▊                                            | 2/8 [00:00<00:00, 71.44it/s]\u001b[A\n",
      "Validation DataLoader 0:  38%|██████████████████████▏                                    | 3/8 [00:00<00:00, 73.22it/s]\u001b[A\n",
      "Validation DataLoader 0:  50%|█████████████████████████████▌                             | 4/8 [00:00<00:00, 78.51it/s]\u001b[A\n",
      "Validation DataLoader 0:  62%|████████████████████████████████████▉                      | 5/8 [00:00<00:00, 79.32it/s]\u001b[A\n",
      "Validation DataLoader 0:  75%|████████████████████████████████████████████▎              | 6/8 [00:00<00:00, 78.50it/s]\u001b[A\n",
      "Validation DataLoader 0:  88%|███████████████████████████████████████████████████▋       | 7/8 [00:00<00:00, 80.39it/s]\u001b[A\n",
      "Validation DataLoader 0: 100%|███████████████████████████████████████████████████████████| 8/8 [00:00<00:00, 81.60it/s]\u001b[A\n",
      "Epoch 104: 100%|█████████████████████████████| 22/22 [00:00<00:00, 68.93it/s, v_num=13, train_acc=0.867, val_acc=0.952]\u001b[A\n",
      "Validation: |                                                                                    | 0/? [00:00<?, ?it/s]\u001b[A\n",
      "Validation:   0%|                                                                                | 0/8 [00:00<?, ?it/s]\u001b[A\n",
      "Validation DataLoader 0:   0%|                                                                   | 0/8 [00:00<?, ?it/s]\u001b[A\n",
      "Validation DataLoader 0:  12%|███████▍                                                   | 1/8 [00:00<00:00, 63.51it/s]\u001b[A\n",
      "Validation DataLoader 0:  25%|██████████████▊                                            | 2/8 [00:00<00:00, 74.87it/s]\u001b[A\n",
      "Validation DataLoader 0:  38%|██████████████████████▏                                    | 3/8 [00:00<00:00, 75.22it/s]\u001b[A\n",
      "Validation DataLoader 0:  50%|█████████████████████████████▌                             | 4/8 [00:00<00:00, 77.95it/s]\u001b[A\n",
      "Validation DataLoader 0:  62%|████████████████████████████████████▉                      | 5/8 [00:00<00:00, 80.54it/s]\u001b[A\n",
      "Validation DataLoader 0:  75%|████████████████████████████████████████████▎              | 6/8 [00:00<00:00, 81.02it/s]\u001b[A\n",
      "Validation DataLoader 0:  88%|███████████████████████████████████████████████████▋       | 7/8 [00:00<00:00, 80.65it/s]\u001b[A\n",
      "Validation DataLoader 0: 100%|███████████████████████████████████████████████████████████| 8/8 [00:00<00:00, 82.43it/s]\u001b[A\n",
      "Epoch 105: 100%|█████████████████████████████| 22/22 [00:00<00:00, 76.03it/s, v_num=13, train_acc=0.533, val_acc=0.961]\u001b[A\n",
      "Validation: |                                                                                    | 0/? [00:00<?, ?it/s]\u001b[A\n",
      "Validation:   0%|                                                                                | 0/8 [00:00<?, ?it/s]\u001b[A\n",
      "Validation DataLoader 0:   0%|                                                                   | 0/8 [00:00<?, ?it/s]\u001b[A\n",
      "Validation DataLoader 0:  12%|███████▍                                                   | 1/8 [00:00<00:00, 59.92it/s]\u001b[A\n",
      "Validation DataLoader 0:  25%|██████████████▊                                            | 2/8 [00:00<00:00, 68.36it/s]\u001b[A\n",
      "Validation DataLoader 0:  38%|██████████████████████▏                                    | 3/8 [00:00<00:00, 72.63it/s]\u001b[A\n",
      "Validation DataLoader 0:  50%|█████████████████████████████▌                             | 4/8 [00:00<00:00, 76.84it/s]\u001b[A\n",
      "Validation DataLoader 0:  62%|████████████████████████████████████▉                      | 5/8 [00:00<00:00, 78.41it/s]\u001b[A\n",
      "Validation DataLoader 0:  75%|████████████████████████████████████████████▎              | 6/8 [00:00<00:00, 80.28it/s]\u001b[A\n",
      "Validation DataLoader 0:  88%|███████████████████████████████████████████████████▋       | 7/8 [00:00<00:00, 79.32it/s]\u001b[A\n",
      "Validation DataLoader 0: 100%|███████████████████████████████████████████████████████████| 8/8 [00:00<00:00, 80.05it/s]\u001b[A\n",
      "Epoch 105: 100%|█████████████████████████████| 22/22 [00:00<00:00, 52.42it/s, v_num=13, train_acc=0.533, val_acc=0.941]\u001b[A"
     ]
    },
    {
     "name": "stderr",
     "output_type": "stream",
     "text": [
      "Metric val_loss improved by 0.000 >= min_delta = 0.0. New best score: 0.213\n"
     ]
    },
    {
     "name": "stdout",
     "output_type": "stream",
     "text": [
      "Epoch 106: 100%|█████████████████████████████| 22/22 [00:00<00:00, 69.66it/s, v_num=13, train_acc=0.933, val_acc=0.941]\n",
      "Validation: |                                                                                    | 0/? [00:00<?, ?it/s]\u001b[A\n",
      "Validation:   0%|                                                                                | 0/8 [00:00<?, ?it/s]\u001b[A\n",
      "Validation DataLoader 0:   0%|                                                                   | 0/8 [00:00<?, ?it/s]\u001b[A\n",
      "Validation DataLoader 0:  12%|███████▍                                                   | 1/8 [00:00<00:00, 66.86it/s]\u001b[A\n",
      "Validation DataLoader 0:  25%|██████████████▊                                            | 2/8 [00:00<00:00, 74.28it/s]\u001b[A\n",
      "Validation DataLoader 0:  38%|██████████████████████▏                                    | 3/8 [00:00<00:00, 79.17it/s]\u001b[A\n",
      "Validation DataLoader 0:  50%|█████████████████████████████▌                             | 4/8 [00:00<00:00, 83.56it/s]\u001b[A\n",
      "Validation DataLoader 0:  62%|████████████████████████████████████▉                      | 5/8 [00:00<00:00, 84.33it/s]\u001b[A\n",
      "Validation DataLoader 0:  75%|████████████████████████████████████████████▎              | 6/8 [00:00<00:00, 83.81it/s]\u001b[A\n",
      "Validation DataLoader 0:  88%|███████████████████████████████████████████████████▋       | 7/8 [00:00<00:00, 85.82it/s]\u001b[A\n",
      "Validation DataLoader 0: 100%|███████████████████████████████████████████████████████████| 8/8 [00:00<00:00, 87.27it/s]\u001b[A\n",
      "Epoch 107: 100%|█████████████████████████████| 22/22 [00:00<00:00, 72.06it/s, v_num=13, train_acc=0.867, val_acc=0.949]\u001b[A\n",
      "Validation: |                                                                                    | 0/? [00:00<?, ?it/s]\u001b[A\n",
      "Validation:   0%|                                                                                | 0/8 [00:00<?, ?it/s]\u001b[A\n",
      "Validation DataLoader 0:   0%|                                                                   | 0/8 [00:00<?, ?it/s]\u001b[A\n",
      "Validation DataLoader 0:  12%|███████▍                                                   | 1/8 [00:00<00:00, 63.23it/s]\u001b[A\n",
      "Validation DataLoader 0:  25%|██████████████▊                                            | 2/8 [00:00<00:00, 68.35it/s]\u001b[A\n",
      "Validation DataLoader 0:  38%|██████████████████████▏                                    | 3/8 [00:00<00:00, 74.70it/s]\u001b[A\n",
      "Validation DataLoader 0:  50%|█████████████████████████████▌                             | 4/8 [00:00<00:00, 79.79it/s]\u001b[A\n",
      "Validation DataLoader 0:  62%|████████████████████████████████████▉                      | 5/8 [00:00<00:00, 82.01it/s]\u001b[A\n",
      "Validation DataLoader 0:  75%|████████████████████████████████████████████▎              | 6/8 [00:00<00:00, 82.86it/s]\u001b[A\n",
      "Validation DataLoader 0:  88%|███████████████████████████████████████████████████▋       | 7/8 [00:00<00:00, 83.80it/s]\u001b[A\n",
      "Validation DataLoader 0: 100%|███████████████████████████████████████████████████████████| 8/8 [00:00<00:00, 86.38it/s]\u001b[A\n",
      "Epoch 107: 100%|█████████████████████████████| 22/22 [00:00<00:00, 51.31it/s, v_num=13, train_acc=0.867, val_acc=0.947]\u001b[A"
     ]
    },
    {
     "name": "stderr",
     "output_type": "stream",
     "text": [
      "Metric val_loss improved by 0.004 >= min_delta = 0.0. New best score: 0.209\n"
     ]
    },
    {
     "name": "stdout",
     "output_type": "stream",
     "text": [
      "Epoch 108: 100%|█████████████████████████████| 22/22 [00:00<00:00, 71.56it/s, v_num=13, train_acc=0.800, val_acc=0.947]\n",
      "Validation: |                                                                                    | 0/? [00:00<?, ?it/s]\u001b[A\n",
      "Validation:   0%|                                                                                | 0/8 [00:00<?, ?it/s]\u001b[A\n",
      "Validation DataLoader 0:   0%|                                                                   | 0/8 [00:00<?, ?it/s]\u001b[A\n",
      "Validation DataLoader 0:  12%|███████▍                                                   | 1/8 [00:00<00:00, 63.01it/s]\u001b[A\n",
      "Validation DataLoader 0:  25%|██████████████▊                                            | 2/8 [00:00<00:00, 71.84it/s]\u001b[A\n",
      "Validation DataLoader 0:  38%|██████████████████████▏                                    | 3/8 [00:00<00:00, 79.34it/s]\u001b[A\n",
      "Validation DataLoader 0:  50%|█████████████████████████████▌                             | 4/8 [00:00<00:00, 82.00it/s]\u001b[A\n",
      "Validation DataLoader 0:  62%|████████████████████████████████████▉                      | 5/8 [00:00<00:00, 83.67it/s]\u001b[A\n",
      "Validation DataLoader 0:  75%|████████████████████████████████████████████▎              | 6/8 [00:00<00:00, 83.66it/s]\u001b[A\n",
      "Validation DataLoader 0:  88%|███████████████████████████████████████████████████▋       | 7/8 [00:00<00:00, 85.13it/s]\u001b[A\n",
      "Validation DataLoader 0: 100%|███████████████████████████████████████████████████████████| 8/8 [00:00<00:00, 86.02it/s]\u001b[A\n",
      "Epoch 108: 100%|█████████████████████████████| 22/22 [00:00<00:00, 51.08it/s, v_num=13, train_acc=0.800, val_acc=0.949]\u001b[A"
     ]
    },
    {
     "name": "stderr",
     "output_type": "stream",
     "text": [
      "Metric val_loss improved by 0.004 >= min_delta = 0.0. New best score: 0.205\n"
     ]
    },
    {
     "name": "stdout",
     "output_type": "stream",
     "text": [
      "Epoch 109: 100%|█████████████████████████████| 22/22 [00:00<00:00, 69.74it/s, v_num=13, train_acc=0.933, val_acc=0.949]\n",
      "Validation: |                                                                                    | 0/? [00:00<?, ?it/s]\u001b[A\n",
      "Validation:   0%|                                                                                | 0/8 [00:00<?, ?it/s]\u001b[A\n",
      "Validation DataLoader 0:   0%|                                                                   | 0/8 [00:00<?, ?it/s]\u001b[A\n",
      "Validation DataLoader 0:  12%|███████▍                                                   | 1/8 [00:00<00:00, 65.35it/s]\u001b[A\n",
      "Validation DataLoader 0:  25%|██████████████▊                                            | 2/8 [00:00<00:00, 79.14it/s]\u001b[A\n",
      "Validation DataLoader 0:  38%|██████████████████████▏                                    | 3/8 [00:00<00:00, 81.71it/s]\u001b[A\n",
      "Validation DataLoader 0:  50%|█████████████████████████████▌                             | 4/8 [00:00<00:00, 80.93it/s]\u001b[A\n",
      "Validation DataLoader 0:  62%|████████████████████████████████████▉                      | 5/8 [00:00<00:00, 84.18it/s]\u001b[A\n",
      "Validation DataLoader 0:  75%|████████████████████████████████████████████▎              | 6/8 [00:00<00:00, 84.45it/s]\u001b[A\n",
      "Validation DataLoader 0:  88%|███████████████████████████████████████████████████▋       | 7/8 [00:00<00:00, 84.59it/s]\u001b[A\n",
      "Validation DataLoader 0: 100%|███████████████████████████████████████████████████████████| 8/8 [00:00<00:00, 88.17it/s]\u001b[A\n",
      "Epoch 109: 100%|█████████████████████████████| 22/22 [00:00<00:00, 50.35it/s, v_num=13, train_acc=0.933, val_acc=0.952]\u001b[A"
     ]
    },
    {
     "name": "stderr",
     "output_type": "stream",
     "text": [
      "Metric val_loss improved by 0.003 >= min_delta = 0.0. New best score: 0.201\n"
     ]
    },
    {
     "name": "stdout",
     "output_type": "stream",
     "text": [
      "Epoch 110: 100%|█████████████████████████████| 22/22 [00:00<00:00, 69.52it/s, v_num=13, train_acc=0.667, val_acc=0.952]\n",
      "Validation: |                                                                                    | 0/? [00:00<?, ?it/s]\u001b[A\n",
      "Validation:   0%|                                                                                | 0/8 [00:00<?, ?it/s]\u001b[A\n",
      "Validation DataLoader 0:   0%|                                                                   | 0/8 [00:00<?, ?it/s]\u001b[A\n",
      "Validation DataLoader 0:  12%|███████▍                                                   | 1/8 [00:00<00:00, 62.15it/s]\u001b[A\n",
      "Validation DataLoader 0:  25%|██████████████▊                                            | 2/8 [00:00<00:00, 65.69it/s]\u001b[A\n",
      "Validation DataLoader 0:  38%|██████████████████████▏                                    | 3/8 [00:00<00:00, 70.73it/s]\u001b[A\n",
      "Validation DataLoader 0:  50%|█████████████████████████████▌                             | 4/8 [00:00<00:00, 76.36it/s]\u001b[A\n",
      "Validation DataLoader 0:  62%|████████████████████████████████████▉                      | 5/8 [00:00<00:00, 77.28it/s]\u001b[A\n",
      "Validation DataLoader 0:  75%|████████████████████████████████████████████▎              | 6/8 [00:00<00:00, 78.54it/s]\u001b[A\n",
      "Validation DataLoader 0:  88%|███████████████████████████████████████████████████▋       | 7/8 [00:00<00:00, 81.05it/s]\u001b[A\n",
      "Validation DataLoader 0: 100%|███████████████████████████████████████████████████████████| 8/8 [00:00<00:00, 83.94it/s]\u001b[A\n",
      "Epoch 111: 100%|█████████████████████████████| 22/22 [00:00<00:00, 71.31it/s, v_num=13, train_acc=0.867, val_acc=0.942]\u001b[A\n",
      "Validation: |                                                                                    | 0/? [00:00<?, ?it/s]\u001b[A\n",
      "Validation:   0%|                                                                                | 0/8 [00:00<?, ?it/s]\u001b[A\n",
      "Validation DataLoader 0:   0%|                                                                   | 0/8 [00:00<?, ?it/s]\u001b[A\n",
      "Validation DataLoader 0:  12%|███████▍                                                   | 1/8 [00:00<00:00, 71.61it/s]\u001b[A\n",
      "Validation DataLoader 0:  25%|██████████████▊                                            | 2/8 [00:00<00:00, 75.09it/s]\u001b[A\n",
      "Validation DataLoader 0:  38%|██████████████████████▏                                    | 3/8 [00:00<00:00, 78.27it/s]\u001b[A\n",
      "Validation DataLoader 0:  50%|█████████████████████████████▌                             | 4/8 [00:00<00:00, 78.42it/s]\u001b[A\n",
      "Validation DataLoader 0:  62%|████████████████████████████████████▉                      | 5/8 [00:00<00:00, 80.67it/s]\u001b[A\n",
      "Validation DataLoader 0:  75%|████████████████████████████████████████████▎              | 6/8 [00:00<00:00, 82.52it/s]\u001b[A\n",
      "Validation DataLoader 0:  88%|███████████████████████████████████████████████████▋       | 7/8 [00:00<00:00, 82.98it/s]\u001b[A\n",
      "Validation DataLoader 0: 100%|███████████████████████████████████████████████████████████| 8/8 [00:00<00:00, 84.76it/s]\u001b[A\n",
      "Epoch 112: 100%|█████████████████████████████| 22/22 [00:00<00:00, 69.54it/s, v_num=13, train_acc=0.800, val_acc=0.956]\u001b[A\n",
      "Validation: |                                                                                    | 0/? [00:00<?, ?it/s]\u001b[A\n",
      "Validation:   0%|                                                                                | 0/8 [00:00<?, ?it/s]\u001b[A\n",
      "Validation DataLoader 0:   0%|                                                                   | 0/8 [00:00<?, ?it/s]\u001b[A\n",
      "Validation DataLoader 0:  12%|███████▍                                                   | 1/8 [00:00<00:00, 66.89it/s]\u001b[A\n",
      "Validation DataLoader 0:  25%|██████████████▊                                            | 2/8 [00:00<00:00, 72.79it/s]\u001b[A\n",
      "Validation DataLoader 0:  38%|██████████████████████▏                                    | 3/8 [00:00<00:00, 76.07it/s]\u001b[A\n",
      "Validation DataLoader 0:  50%|█████████████████████████████▌                             | 4/8 [00:00<00:00, 76.34it/s]\u001b[A\n",
      "Validation DataLoader 0:  62%|████████████████████████████████████▉                      | 5/8 [00:00<00:00, 80.16it/s]\u001b[A\n",
      "Validation DataLoader 0:  75%|████████████████████████████████████████████▎              | 6/8 [00:00<00:00, 81.81it/s]\u001b[A\n",
      "Validation DataLoader 0:  88%|███████████████████████████████████████████████████▋       | 7/8 [00:00<00:00, 83.02it/s]\u001b[A\n",
      "Validation DataLoader 0: 100%|███████████████████████████████████████████████████████████| 8/8 [00:00<00:00, 85.75it/s]\u001b[A\n",
      "Epoch 112: 100%|█████████████████████████████| 22/22 [00:00<00:00, 50.07it/s, v_num=13, train_acc=0.800, val_acc=0.950]\u001b[A"
     ]
    },
    {
     "name": "stderr",
     "output_type": "stream",
     "text": [
      "Metric val_loss improved by 0.003 >= min_delta = 0.0. New best score: 0.199\n"
     ]
    },
    {
     "name": "stdout",
     "output_type": "stream",
     "text": [
      "Epoch 113: 100%|█████████████████████████████| 22/22 [00:00<00:00, 69.52it/s, v_num=13, train_acc=0.800, val_acc=0.950]\n",
      "Validation: |                                                                                    | 0/? [00:00<?, ?it/s]\u001b[A\n",
      "Validation:   0%|                                                                                | 0/8 [00:00<?, ?it/s]\u001b[A\n",
      "Validation DataLoader 0:   0%|                                                                   | 0/8 [00:00<?, ?it/s]\u001b[A\n",
      "Validation DataLoader 0:  12%|███████▍                                                   | 1/8 [00:00<00:00, 64.95it/s]\u001b[A\n",
      "Validation DataLoader 0:  25%|██████████████▊                                            | 2/8 [00:00<00:00, 73.09it/s]\u001b[A\n",
      "Validation DataLoader 0:  38%|██████████████████████▏                                    | 3/8 [00:00<00:00, 76.72it/s]\u001b[A\n",
      "Validation DataLoader 0:  50%|█████████████████████████████▌                             | 4/8 [00:00<00:00, 80.43it/s]\u001b[A\n",
      "Validation DataLoader 0:  62%|████████████████████████████████████▉                      | 5/8 [00:00<00:00, 83.74it/s]\u001b[A\n",
      "Validation DataLoader 0:  75%|████████████████████████████████████████████▎              | 6/8 [00:00<00:00, 82.05it/s]\u001b[A\n",
      "Validation DataLoader 0:  88%|███████████████████████████████████████████████████▋       | 7/8 [00:00<00:00, 81.54it/s]\u001b[A\n",
      "Validation DataLoader 0: 100%|███████████████████████████████████████████████████████████| 8/8 [00:00<00:00, 82.67it/s]\u001b[A\n",
      "Epoch 114: 100%|█████████████████████████████| 22/22 [00:00<00:00, 73.15it/s, v_num=13, train_acc=0.800, val_acc=0.949]\u001b[A\n",
      "Validation: |                                                                                    | 0/? [00:00<?, ?it/s]\u001b[A\n",
      "Validation:   0%|                                                                                | 0/8 [00:00<?, ?it/s]\u001b[A\n",
      "Validation DataLoader 0:   0%|                                                                   | 0/8 [00:00<?, ?it/s]\u001b[A\n",
      "Validation DataLoader 0:  12%|███████▍                                                   | 1/8 [00:00<00:00, 63.65it/s]\u001b[A\n",
      "Validation DataLoader 0:  25%|██████████████▊                                            | 2/8 [00:00<00:00, 73.03it/s]\u001b[A\n",
      "Validation DataLoader 0:  38%|██████████████████████▏                                    | 3/8 [00:00<00:00, 76.15it/s]\u001b[A\n",
      "Validation DataLoader 0:  50%|█████████████████████████████▌                             | 4/8 [00:00<00:00, 78.35it/s]\u001b[A\n",
      "Validation DataLoader 0:  62%|████████████████████████████████████▉                      | 5/8 [00:00<00:00, 81.35it/s]\u001b[A\n",
      "Validation DataLoader 0:  75%|████████████████████████████████████████████▎              | 6/8 [00:00<00:00, 82.58it/s]\u001b[A\n",
      "Validation DataLoader 0:  88%|███████████████████████████████████████████████████▋       | 7/8 [00:00<00:00, 84.72it/s]\u001b[A\n",
      "Validation DataLoader 0: 100%|███████████████████████████████████████████████████████████| 8/8 [00:00<00:00, 86.63it/s]\u001b[A\n",
      "Epoch 114: 100%|█████████████████████████████| 22/22 [00:00<00:00, 52.32it/s, v_num=13, train_acc=0.800, val_acc=0.951]\u001b[A"
     ]
    },
    {
     "name": "stderr",
     "output_type": "stream",
     "text": [
      "Metric val_loss improved by 0.001 >= min_delta = 0.0. New best score: 0.197\n"
     ]
    },
    {
     "name": "stdout",
     "output_type": "stream",
     "text": [
      "Epoch 115: 100%|█████████████████████████████| 22/22 [00:00<00:00, 66.27it/s, v_num=13, train_acc=1.000, val_acc=0.951]\n",
      "Validation: |                                                                                    | 0/? [00:00<?, ?it/s]\u001b[A\n",
      "Validation:   0%|                                                                                | 0/8 [00:00<?, ?it/s]\u001b[A\n",
      "Validation DataLoader 0:   0%|                                                                   | 0/8 [00:00<?, ?it/s]\u001b[A\n",
      "Validation DataLoader 0:  12%|███████▍                                                   | 1/8 [00:00<00:00, 75.73it/s]\u001b[A\n",
      "Validation DataLoader 0:  25%|██████████████▊                                            | 2/8 [00:00<00:00, 80.67it/s]\u001b[A\n",
      "Validation DataLoader 0:  38%|██████████████████████▏                                    | 3/8 [00:00<00:00, 81.82it/s]\u001b[A\n",
      "Validation DataLoader 0:  50%|█████████████████████████████▌                             | 4/8 [00:00<00:00, 83.47it/s]\u001b[A\n",
      "Validation DataLoader 0:  62%|████████████████████████████████████▉                      | 5/8 [00:00<00:00, 85.11it/s]\u001b[A\n",
      "Validation DataLoader 0:  75%|████████████████████████████████████████████▎              | 6/8 [00:00<00:00, 86.95it/s]\u001b[A\n",
      "Validation DataLoader 0:  88%|███████████████████████████████████████████████████▋       | 7/8 [00:00<00:00, 86.45it/s]\u001b[A\n",
      "Validation DataLoader 0: 100%|███████████████████████████████████████████████████████████| 8/8 [00:00<00:00, 87.40it/s]\u001b[A\n",
      "Epoch 116: 100%|█████████████████████████████| 22/22 [00:00<00:00, 73.17it/s, v_num=13, train_acc=0.800, val_acc=0.951]\u001b[A\n",
      "Validation: |                                                                                    | 0/? [00:00<?, ?it/s]\u001b[A\n",
      "Validation:   0%|                                                                                | 0/8 [00:00<?, ?it/s]\u001b[A\n",
      "Validation DataLoader 0:   0%|                                                                   | 0/8 [00:00<?, ?it/s]\u001b[A\n",
      "Validation DataLoader 0:  12%|███████▍                                                   | 1/8 [00:00<00:00, 63.78it/s]\u001b[A\n",
      "Validation DataLoader 0:  25%|██████████████▊                                            | 2/8 [00:00<00:00, 76.66it/s]\u001b[A\n",
      "Validation DataLoader 0:  38%|██████████████████████▏                                    | 3/8 [00:00<00:00, 79.33it/s]\u001b[A\n",
      "Validation DataLoader 0:  50%|█████████████████████████████▌                             | 4/8 [00:00<00:00, 84.75it/s]\u001b[A\n",
      "Validation DataLoader 0:  62%|████████████████████████████████████▉                      | 5/8 [00:00<00:00, 84.11it/s]\u001b[A\n",
      "Validation DataLoader 0:  75%|████████████████████████████████████████████▎              | 6/8 [00:00<00:00, 85.55it/s]\u001b[A\n",
      "Validation DataLoader 0:  88%|███████████████████████████████████████████████████▋       | 7/8 [00:00<00:00, 85.26it/s]\u001b[A\n",
      "Validation DataLoader 0: 100%|███████████████████████████████████████████████████████████| 8/8 [00:00<00:00, 88.27it/s]\u001b[A\n",
      "Epoch 117: 100%|█████████████████████████████| 22/22 [00:00<00:00, 74.30it/s, v_num=13, train_acc=0.800, val_acc=0.958]\u001b[A\n",
      "Validation: |                                                                                    | 0/? [00:00<?, ?it/s]\u001b[A\n",
      "Validation:   0%|                                                                                | 0/8 [00:00<?, ?it/s]\u001b[A\n",
      "Validation DataLoader 0:   0%|                                                                   | 0/8 [00:00<?, ?it/s]\u001b[A\n",
      "Validation DataLoader 0:  12%|███████▍                                                   | 1/8 [00:00<00:00, 77.11it/s]\u001b[A\n",
      "Validation DataLoader 0:  25%|██████████████▊                                            | 2/8 [00:00<00:00, 75.12it/s]\u001b[A\n",
      "Validation DataLoader 0:  38%|██████████████████████▏                                    | 3/8 [00:00<00:00, 76.64it/s]\u001b[A\n",
      "Validation DataLoader 0:  50%|█████████████████████████████▌                             | 4/8 [00:00<00:00, 78.27it/s]\u001b[A\n",
      "Validation DataLoader 0:  62%|████████████████████████████████████▉                      | 5/8 [00:00<00:00, 80.18it/s]\u001b[A\n",
      "Validation DataLoader 0:  75%|████████████████████████████████████████████▎              | 6/8 [00:00<00:00, 82.74it/s]\u001b[A\n",
      "Validation DataLoader 0:  88%|███████████████████████████████████████████████████▋       | 7/8 [00:00<00:00, 81.20it/s]\u001b[A\n",
      "Validation DataLoader 0: 100%|███████████████████████████████████████████████████████████| 8/8 [00:00<00:00, 83.18it/s]\u001b[A\n",
      "Epoch 117: 100%|█████████████████████████████| 22/22 [00:00<00:00, 52.19it/s, v_num=13, train_acc=0.800, val_acc=0.952]\u001b[A"
     ]
    },
    {
     "name": "stderr",
     "output_type": "stream",
     "text": [
      "Metric val_loss improved by 0.003 >= min_delta = 0.0. New best score: 0.194\n"
     ]
    },
    {
     "name": "stdout",
     "output_type": "stream",
     "text": [
      "Epoch 118: 100%|█████████████████████████████| 22/22 [00:00<00:00, 70.58it/s, v_num=13, train_acc=0.733, val_acc=0.952]\n",
      "Validation: |                                                                                    | 0/? [00:00<?, ?it/s]\u001b[A\n",
      "Validation:   0%|                                                                                | 0/8 [00:00<?, ?it/s]\u001b[A\n",
      "Validation DataLoader 0:   0%|                                                                   | 0/8 [00:00<?, ?it/s]\u001b[A\n",
      "Validation DataLoader 0:  12%|███████▍                                                   | 1/8 [00:00<00:00, 71.62it/s]\u001b[A\n",
      "Validation DataLoader 0:  25%|██████████████▊                                            | 2/8 [00:00<00:00, 82.39it/s]\u001b[A\n",
      "Validation DataLoader 0:  38%|██████████████████████▏                                    | 3/8 [00:00<00:00, 85.27it/s]\u001b[A\n",
      "Validation DataLoader 0:  50%|█████████████████████████████▌                             | 4/8 [00:00<00:00, 84.83it/s]\u001b[A\n",
      "Validation DataLoader 0:  62%|████████████████████████████████████▉                      | 5/8 [00:00<00:00, 86.45it/s]\u001b[A\n",
      "Validation DataLoader 0:  75%|████████████████████████████████████████████▎              | 6/8 [00:00<00:00, 85.96it/s]\u001b[A\n",
      "Validation DataLoader 0:  88%|███████████████████████████████████████████████████▋       | 7/8 [00:00<00:00, 84.57it/s]\u001b[A\n",
      "Validation DataLoader 0: 100%|███████████████████████████████████████████████████████████| 8/8 [00:00<00:00, 86.26it/s]\u001b[A\n",
      "Epoch 119: 100%|█████████████████████████████| 22/22 [00:00<00:00, 74.21it/s, v_num=13, train_acc=0.800, val_acc=0.954]\u001b[A\n",
      "Validation: |                                                                                    | 0/? [00:00<?, ?it/s]\u001b[A\n",
      "Validation:   0%|                                                                                | 0/8 [00:00<?, ?it/s]\u001b[A\n",
      "Validation DataLoader 0:   0%|                                                                   | 0/8 [00:00<?, ?it/s]\u001b[A\n",
      "Validation DataLoader 0:  12%|███████▍                                                   | 1/8 [00:00<00:00, 72.21it/s]\u001b[A\n",
      "Validation DataLoader 0:  25%|██████████████▊                                            | 2/8 [00:00<00:00, 74.90it/s]\u001b[A\n",
      "Validation DataLoader 0:  38%|██████████████████████▏                                    | 3/8 [00:00<00:00, 76.44it/s]\u001b[A\n",
      "Validation DataLoader 0:  50%|█████████████████████████████▌                             | 4/8 [00:00<00:00, 75.58it/s]\u001b[A\n",
      "Validation DataLoader 0:  62%|████████████████████████████████████▉                      | 5/8 [00:00<00:00, 77.05it/s]\u001b[A\n",
      "Validation DataLoader 0:  75%|████████████████████████████████████████████▎              | 6/8 [00:00<00:00, 80.15it/s]\u001b[A\n",
      "Validation DataLoader 0:  88%|███████████████████████████████████████████████████▋       | 7/8 [00:00<00:00, 80.21it/s]\u001b[A\n",
      "Validation DataLoader 0: 100%|███████████████████████████████████████████████████████████| 8/8 [00:00<00:00, 82.32it/s]\u001b[A\n",
      "Epoch 120: 100%|█████████████████████████████| 22/22 [00:00<00:00, 66.12it/s, v_num=13, train_acc=0.933, val_acc=0.954]\u001b[A\n",
      "Validation: |                                                                                    | 0/? [00:00<?, ?it/s]\u001b[A\n",
      "Validation:   0%|                                                                                | 0/8 [00:00<?, ?it/s]\u001b[A\n",
      "Validation DataLoader 0:   0%|                                                                   | 0/8 [00:00<?, ?it/s]\u001b[A\n",
      "Validation DataLoader 0:  12%|███████▍                                                   | 1/8 [00:00<00:00, 62.67it/s]\u001b[A\n",
      "Validation DataLoader 0:  25%|██████████████▊                                            | 2/8 [00:00<00:00, 73.43it/s]\u001b[A\n",
      "Validation DataLoader 0:  38%|██████████████████████▏                                    | 3/8 [00:00<00:00, 76.52it/s]\u001b[A\n",
      "Validation DataLoader 0:  50%|█████████████████████████████▌                             | 4/8 [00:00<00:00, 80.44it/s]\u001b[A\n",
      "Validation DataLoader 0:  62%|████████████████████████████████████▉                      | 5/8 [00:00<00:00, 81.21it/s]\u001b[A\n",
      "Validation DataLoader 0:  75%|████████████████████████████████████████████▎              | 6/8 [00:00<00:00, 80.80it/s]\u001b[A\n",
      "Validation DataLoader 0:  88%|███████████████████████████████████████████████████▋       | 7/8 [00:00<00:00, 82.42it/s]\u001b[A\n",
      "Validation DataLoader 0: 100%|███████████████████████████████████████████████████████████| 8/8 [00:00<00:00, 85.19it/s]\u001b[A\n",
      "Epoch 121: 100%|█████████████████████████████| 22/22 [00:00<00:00, 68.13it/s, v_num=13, train_acc=0.867, val_acc=0.953]\u001b[A\n",
      "Validation: |                                                                                    | 0/? [00:00<?, ?it/s]\u001b[A\n",
      "Validation:   0%|                                                                                | 0/8 [00:00<?, ?it/s]\u001b[A\n",
      "Validation DataLoader 0:   0%|                                                                   | 0/8 [00:00<?, ?it/s]\u001b[A\n",
      "Validation DataLoader 0:  12%|███████▍                                                   | 1/8 [00:00<00:00, 64.09it/s]\u001b[A\n",
      "Validation DataLoader 0:  25%|██████████████▊                                            | 2/8 [00:00<00:00, 70.23it/s]\u001b[A\n",
      "Validation DataLoader 0:  38%|██████████████████████▏                                    | 3/8 [00:00<00:00, 72.55it/s]\u001b[A\n",
      "Validation DataLoader 0:  50%|█████████████████████████████▌                             | 4/8 [00:00<00:00, 71.70it/s]\u001b[A\n",
      "Validation DataLoader 0:  62%|████████████████████████████████████▉                      | 5/8 [00:00<00:00, 71.95it/s]\u001b[A\n",
      "Validation DataLoader 0:  75%|████████████████████████████████████████████▎              | 6/8 [00:00<00:00, 71.05it/s]\u001b[A\n",
      "Validation DataLoader 0:  88%|███████████████████████████████████████████████████▋       | 7/8 [00:00<00:00, 71.86it/s]\u001b[A\n",
      "Validation DataLoader 0: 100%|███████████████████████████████████████████████████████████| 8/8 [00:00<00:00, 72.79it/s]\u001b[A\n",
      "Epoch 122: 100%|█████████████████████████████| 22/22 [00:00<00:00, 71.52it/s, v_num=13, train_acc=0.800, val_acc=0.957]\u001b[A\n",
      "Validation: |                                                                                    | 0/? [00:00<?, ?it/s]\u001b[A\n",
      "Validation:   0%|                                                                                | 0/8 [00:00<?, ?it/s]\u001b[A\n",
      "Validation DataLoader 0:   0%|                                                                   | 0/8 [00:00<?, ?it/s]\u001b[A\n",
      "Validation DataLoader 0:  12%|███████▍                                                   | 1/8 [00:00<00:00, 77.13it/s]\u001b[A\n",
      "Validation DataLoader 0:  25%|██████████████▊                                            | 2/8 [00:00<00:00, 80.22it/s]\u001b[A\n",
      "Validation DataLoader 0:  38%|██████████████████████▏                                    | 3/8 [00:00<00:00, 81.30it/s]\u001b[A\n",
      "Validation DataLoader 0:  50%|█████████████████████████████▌                             | 4/8 [00:00<00:00, 78.64it/s]\u001b[A\n",
      "Validation DataLoader 0:  62%|████████████████████████████████████▉                      | 5/8 [00:00<00:00, 80.86it/s]\u001b[A\n",
      "Validation DataLoader 0:  75%|████████████████████████████████████████████▎              | 6/8 [00:00<00:00, 80.21it/s]\u001b[A\n",
      "Validation DataLoader 0:  88%|███████████████████████████████████████████████████▋       | 7/8 [00:00<00:00, 81.20it/s]\u001b[A\n",
      "Validation DataLoader 0: 100%|███████████████████████████████████████████████████████████| 8/8 [00:00<00:00, 84.05it/s]\u001b[A\n",
      "Epoch 122: 100%|█████████████████████████████| 22/22 [00:00<00:00, 50.95it/s, v_num=13, train_acc=0.800, val_acc=0.959]\u001b[A"
     ]
    },
    {
     "name": "stderr",
     "output_type": "stream",
     "text": [
      "Metric val_loss improved by 0.000 >= min_delta = 0.0. New best score: 0.194\n"
     ]
    },
    {
     "name": "stdout",
     "output_type": "stream",
     "text": [
      "Epoch 123: 100%|█████████████████████████████| 22/22 [00:00<00:00, 75.13it/s, v_num=13, train_acc=0.667, val_acc=0.959]\n",
      "Validation: |                                                                                    | 0/? [00:00<?, ?it/s]\u001b[A\n",
      "Validation:   0%|                                                                                | 0/8 [00:00<?, ?it/s]\u001b[A\n",
      "Validation DataLoader 0:   0%|                                                                   | 0/8 [00:00<?, ?it/s]\u001b[A\n",
      "Validation DataLoader 0:  12%|███████▍                                                   | 1/8 [00:00<00:00, 64.40it/s]\u001b[A\n",
      "Validation DataLoader 0:  25%|██████████████▊                                            | 2/8 [00:00<00:00, 79.68it/s]\u001b[A\n",
      "Validation DataLoader 0:  38%|██████████████████████▏                                    | 3/8 [00:00<00:00, 78.83it/s]\u001b[A\n",
      "Validation DataLoader 0:  50%|█████████████████████████████▌                             | 4/8 [00:00<00:00, 81.58it/s]\u001b[A\n",
      "Validation DataLoader 0:  62%|████████████████████████████████████▉                      | 5/8 [00:00<00:00, 83.71it/s]\u001b[A\n",
      "Validation DataLoader 0:  75%|████████████████████████████████████████████▎              | 6/8 [00:00<00:00, 84.05it/s]\u001b[A\n",
      "Validation DataLoader 0:  88%|███████████████████████████████████████████████████▋       | 7/8 [00:00<00:00, 84.99it/s]\u001b[A\n",
      "Validation DataLoader 0: 100%|███████████████████████████████████████████████████████████| 8/8 [00:00<00:00, 87.74it/s]\u001b[A\n",
      "Epoch 123: 100%|█████████████████████████████| 22/22 [00:00<00:00, 53.07it/s, v_num=13, train_acc=0.667, val_acc=0.956]\u001b[A"
     ]
    },
    {
     "name": "stderr",
     "output_type": "stream",
     "text": [
      "Metric val_loss improved by 0.002 >= min_delta = 0.0. New best score: 0.192\n"
     ]
    },
    {
     "name": "stdout",
     "output_type": "stream",
     "text": [
      "Epoch 124: 100%|█████████████████████████████| 22/22 [00:00<00:00, 75.27it/s, v_num=13, train_acc=0.600, val_acc=0.956]\n",
      "Validation: |                                                                                    | 0/? [00:00<?, ?it/s]\u001b[A\n",
      "Validation:   0%|                                                                                | 0/8 [00:00<?, ?it/s]\u001b[A\n",
      "Validation DataLoader 0:   0%|                                                                   | 0/8 [00:00<?, ?it/s]\u001b[A\n",
      "Validation DataLoader 0:  12%|███████▍                                                   | 1/8 [00:00<00:00, 63.85it/s]\u001b[A\n",
      "Validation DataLoader 0:  25%|██████████████▊                                            | 2/8 [00:00<00:00, 69.86it/s]\u001b[A\n",
      "Validation DataLoader 0:  38%|██████████████████████▏                                    | 3/8 [00:00<00:00, 72.33it/s]\u001b[A\n",
      "Validation DataLoader 0:  50%|█████████████████████████████▌                             | 4/8 [00:00<00:00, 76.88it/s]\u001b[A\n",
      "Validation DataLoader 0:  62%|████████████████████████████████████▉                      | 5/8 [00:00<00:00, 79.37it/s]\u001b[A\n",
      "Validation DataLoader 0:  75%|████████████████████████████████████████████▎              | 6/8 [00:00<00:00, 82.50it/s]\u001b[A\n",
      "Validation DataLoader 0:  88%|███████████████████████████████████████████████████▋       | 7/8 [00:00<00:00, 82.03it/s]\u001b[A\n",
      "Validation DataLoader 0: 100%|███████████████████████████████████████████████████████████| 8/8 [00:00<00:00, 83.07it/s]\u001b[A\n",
      "Epoch 125: 100%|█████████████████████████████| 22/22 [00:00<00:00, 51.44it/s, v_num=13, train_acc=0.933, val_acc=0.958]\u001b[A\n",
      "Validation: |                                                                                    | 0/? [00:00<?, ?it/s]\u001b[A\n",
      "Validation:   0%|                                                                                | 0/8 [00:00<?, ?it/s]\u001b[A\n",
      "Validation DataLoader 0:   0%|                                                                   | 0/8 [00:00<?, ?it/s]\u001b[A\n",
      "Validation DataLoader 0:  12%|███████▍                                                   | 1/8 [00:00<00:00, 66.85it/s]\u001b[A\n",
      "Validation DataLoader 0:  25%|██████████████▊                                            | 2/8 [00:00<00:00, 74.28it/s]\u001b[A\n",
      "Validation DataLoader 0:  38%|██████████████████████▏                                    | 3/8 [00:00<00:00, 82.39it/s]\u001b[A\n",
      "Validation DataLoader 0:  50%|█████████████████████████████▌                             | 4/8 [00:00<00:00, 81.72it/s]\u001b[A\n",
      "Validation DataLoader 0:  62%|████████████████████████████████████▉                      | 5/8 [00:00<00:00, 83.44it/s]\u001b[A\n",
      "Validation DataLoader 0:  75%|████████████████████████████████████████████▎              | 6/8 [00:00<00:00, 83.40it/s]\u001b[A\n",
      "Validation DataLoader 0:  88%|███████████████████████████████████████████████████▋       | 7/8 [00:00<00:00, 82.73it/s]\u001b[A\n",
      "Validation DataLoader 0: 100%|███████████████████████████████████████████████████████████| 8/8 [00:00<00:00, 85.48it/s]\u001b[A\n",
      "Epoch 126: 100%|█████████████████████████████| 22/22 [00:00<00:00, 72.93it/s, v_num=13, train_acc=0.733, val_acc=0.958]\u001b[A\n",
      "Validation: |                                                                                    | 0/? [00:00<?, ?it/s]\u001b[A\n",
      "Validation:   0%|                                                                                | 0/8 [00:00<?, ?it/s]\u001b[A\n",
      "Validation DataLoader 0:   0%|                                                                   | 0/8 [00:00<?, ?it/s]\u001b[A\n",
      "Validation DataLoader 0:  12%|███████▍                                                   | 1/8 [00:00<00:00, 66.85it/s]\u001b[A\n",
      "Validation DataLoader 0:  25%|██████████████▊                                            | 2/8 [00:00<00:00, 77.13it/s]\u001b[A\n",
      "Validation DataLoader 0:  38%|██████████████████████▏                                    | 3/8 [00:00<00:00, 77.13it/s]\u001b[A\n",
      "Validation DataLoader 0:  50%|█████████████████████████████▌                             | 4/8 [00:00<00:00, 78.64it/s]\u001b[A\n",
      "Validation DataLoader 0:  62%|████████████████████████████████████▉                      | 5/8 [00:00<00:00, 79.58it/s]\u001b[A\n",
      "Validation DataLoader 0:  75%|████████████████████████████████████████████▎              | 6/8 [00:00<00:00, 78.46it/s]\u001b[A\n",
      "Validation DataLoader 0:  88%|███████████████████████████████████████████████████▋       | 7/8 [00:00<00:00, 79.15it/s]\u001b[A\n",
      "Validation DataLoader 0: 100%|███████████████████████████████████████████████████████████| 8/8 [00:00<00:00, 82.31it/s]\u001b[A\n",
      "Epoch 126: 100%|█████████████████████████████| 22/22 [00:00<00:00, 50.34it/s, v_num=13, train_acc=0.733, val_acc=0.952]\u001b[A"
     ]
    },
    {
     "name": "stderr",
     "output_type": "stream",
     "text": [
      "Metric val_loss improved by 0.002 >= min_delta = 0.0. New best score: 0.190\n"
     ]
    },
    {
     "name": "stdout",
     "output_type": "stream",
     "text": [
      "Epoch 127: 100%|█████████████████████████████| 22/22 [00:00<00:00, 69.86it/s, v_num=13, train_acc=0.733, val_acc=0.952]\n",
      "Validation: |                                                                                    | 0/? [00:00<?, ?it/s]\u001b[A\n",
      "Validation:   0%|                                                                                | 0/8 [00:00<?, ?it/s]\u001b[A\n",
      "Validation DataLoader 0:   0%|                                                                   | 0/8 [00:00<?, ?it/s]\u001b[A\n",
      "Validation DataLoader 0:  12%|███████▍                                                   | 1/8 [00:00<00:00, 63.74it/s]\u001b[A\n",
      "Validation DataLoader 0:  25%|██████████████▊                                            | 2/8 [00:00<00:00, 75.53it/s]\u001b[A\n",
      "Validation DataLoader 0:  38%|██████████████████████▏                                    | 3/8 [00:00<00:00, 83.70it/s]\u001b[A\n",
      "Validation DataLoader 0:  50%|█████████████████████████████▌                             | 4/8 [00:00<00:00, 86.50it/s]\u001b[A\n",
      "Validation DataLoader 0:  62%|████████████████████████████████████▉                      | 5/8 [00:00<00:00, 84.45it/s]\u001b[A\n",
      "Validation DataLoader 0:  75%|████████████████████████████████████████████▎              | 6/8 [00:00<00:00, 86.73it/s]\u001b[A\n",
      "Validation DataLoader 0:  88%|███████████████████████████████████████████████████▋       | 7/8 [00:00<00:00, 88.43it/s]\u001b[A\n",
      "Validation DataLoader 0: 100%|███████████████████████████████████████████████████████████| 8/8 [00:00<00:00, 90.77it/s]\u001b[A\n",
      "Epoch 127: 100%|█████████████████████████████| 22/22 [00:00<00:00, 49.57it/s, v_num=13, train_acc=0.733, val_acc=0.952]\u001b[A"
     ]
    },
    {
     "name": "stderr",
     "output_type": "stream",
     "text": [
      "Metric val_loss improved by 0.000 >= min_delta = 0.0. New best score: 0.189\n"
     ]
    },
    {
     "name": "stdout",
     "output_type": "stream",
     "text": [
      "Epoch 128: 100%|█████████████████████████████| 22/22 [00:00<00:00, 70.77it/s, v_num=13, train_acc=1.000, val_acc=0.952]\n",
      "Validation: |                                                                                    | 0/? [00:00<?, ?it/s]\u001b[A\n",
      "Validation:   0%|                                                                                | 0/8 [00:00<?, ?it/s]\u001b[A\n",
      "Validation DataLoader 0:   0%|                                                                   | 0/8 [00:00<?, ?it/s]\u001b[A\n",
      "Validation DataLoader 0:  12%|███████▍                                                   | 1/8 [00:00<00:00, 60.13it/s]\u001b[A\n",
      "Validation DataLoader 0:  25%|██████████████▊                                            | 2/8 [00:00<00:00, 75.00it/s]\u001b[A\n",
      "Validation DataLoader 0:  38%|██████████████████████▏                                    | 3/8 [00:00<00:00, 75.67it/s]\u001b[A\n",
      "Validation DataLoader 0:  50%|█████████████████████████████▌                             | 4/8 [00:00<00:00, 76.02it/s]\u001b[A\n",
      "Validation DataLoader 0:  62%|████████████████████████████████████▉                      | 5/8 [00:00<00:00, 79.73it/s]\u001b[A\n",
      "Validation DataLoader 0:  75%|████████████████████████████████████████████▎              | 6/8 [00:00<00:00, 80.56it/s]\u001b[A\n",
      "Validation DataLoader 0:  88%|███████████████████████████████████████████████████▋       | 7/8 [00:00<00:00, 82.89it/s]\u001b[A\n",
      "Validation DataLoader 0: 100%|███████████████████████████████████████████████████████████| 8/8 [00:00<00:00, 84.52it/s]\u001b[A\n",
      "Epoch 129: 100%|█████████████████████████████| 22/22 [00:00<00:00, 65.55it/s, v_num=13, train_acc=0.933, val_acc=0.953]\u001b[A\n",
      "Validation: |                                                                                    | 0/? [00:00<?, ?it/s]\u001b[A\n",
      "Validation:   0%|                                                                                | 0/8 [00:00<?, ?it/s]\u001b[A\n",
      "Validation DataLoader 0:   0%|                                                                   | 0/8 [00:00<?, ?it/s]\u001b[A\n",
      "Validation DataLoader 0:  12%|███████▍                                                   | 1/8 [00:00<00:00, 66.85it/s]\u001b[A\n",
      "Validation DataLoader 0:  25%|██████████████▊                                            | 2/8 [00:00<00:00, 80.21it/s]\u001b[A\n",
      "Validation DataLoader 0:  38%|██████████████████████▏                                    | 3/8 [00:00<00:00, 81.30it/s]\u001b[A\n",
      "Validation DataLoader 0:  50%|█████████████████████████████▌                             | 4/8 [00:00<00:00, 85.33it/s]\u001b[A\n",
      "Validation DataLoader 0:  62%|████████████████████████████████████▉                      | 5/8 [00:00<00:00, 84.97it/s]\u001b[A\n",
      "Validation DataLoader 0:  75%|████████████████████████████████████████████▎              | 6/8 [00:00<00:00, 84.73it/s]\u001b[A\n",
      "Validation DataLoader 0:  88%|███████████████████████████████████████████████████▋       | 7/8 [00:00<00:00, 85.95it/s]\u001b[A\n",
      "Validation DataLoader 0: 100%|███████████████████████████████████████████████████████████| 8/8 [00:00<00:00, 88.48it/s]\u001b[A\n",
      "Epoch 129: 100%|█████████████████████████████| 22/22 [00:00<00:00, 47.33it/s, v_num=13, train_acc=0.933, val_acc=0.959]\u001b[A"
     ]
    },
    {
     "name": "stderr",
     "output_type": "stream",
     "text": [
      "Metric val_loss improved by 0.003 >= min_delta = 0.0. New best score: 0.186\n"
     ]
    },
    {
     "name": "stdout",
     "output_type": "stream",
     "text": [
      "Epoch 130: 100%|█████████████████████████████| 22/22 [00:00<00:00, 69.46it/s, v_num=13, train_acc=0.867, val_acc=0.959]\n",
      "Validation: |                                                                                    | 0/? [00:00<?, ?it/s]\u001b[A\n",
      "Validation:   0%|                                                                                | 0/8 [00:00<?, ?it/s]\u001b[A\n",
      "Validation DataLoader 0:   0%|                                                                   | 0/8 [00:00<?, ?it/s]\u001b[A\n",
      "Validation DataLoader 0:  12%|███████▍                                                   | 1/8 [00:00<00:00, 69.67it/s]\u001b[A\n",
      "Validation DataLoader 0:  25%|██████████████▊                                            | 2/8 [00:00<00:00, 81.69it/s]\u001b[A\n",
      "Validation DataLoader 0:  38%|██████████████████████▏                                    | 3/8 [00:00<00:00, 83.11it/s]\u001b[A\n",
      "Validation DataLoader 0:  50%|█████████████████████████████▌                             | 4/8 [00:00<00:00, 83.58it/s]\u001b[A\n",
      "Validation DataLoader 0:  62%|████████████████████████████████████▉                      | 5/8 [00:00<00:00, 86.25it/s]\u001b[A\n",
      "Validation DataLoader 0:  75%|████████████████████████████████████████████▎              | 6/8 [00:00<00:00, 85.08it/s]\u001b[A\n",
      "Validation DataLoader 0:  88%|███████████████████████████████████████████████████▋       | 7/8 [00:00<00:00, 86.96it/s]\u001b[A\n",
      "Validation DataLoader 0: 100%|███████████████████████████████████████████████████████████| 8/8 [00:00<00:00, 89.48it/s]\u001b[A\n",
      "Epoch 130: 100%|█████████████████████████████| 22/22 [00:00<00:00, 50.19it/s, v_num=13, train_acc=0.867, val_acc=0.961]\u001b[A"
     ]
    },
    {
     "name": "stderr",
     "output_type": "stream",
     "text": [
      "Metric val_loss improved by 0.004 >= min_delta = 0.0. New best score: 0.182\n"
     ]
    },
    {
     "name": "stdout",
     "output_type": "stream",
     "text": [
      "Epoch 131: 100%|█████████████████████████████| 22/22 [00:00<00:00, 66.19it/s, v_num=13, train_acc=0.933, val_acc=0.961]\n",
      "Validation: |                                                                                    | 0/? [00:00<?, ?it/s]\u001b[A\n",
      "Validation:   0%|                                                                                | 0/8 [00:00<?, ?it/s]\u001b[A\n",
      "Validation DataLoader 0:   0%|                                                                   | 0/8 [00:00<?, ?it/s]\u001b[A\n",
      "Validation DataLoader 0:  12%|███████▍                                                   | 1/8 [00:00<00:00, 62.75it/s]\u001b[A\n",
      "Validation DataLoader 0:  25%|██████████████▊                                            | 2/8 [00:00<00:00, 75.15it/s]\u001b[A\n",
      "Validation DataLoader 0:  38%|██████████████████████▏                                    | 3/8 [00:00<00:00, 78.68it/s]\u001b[A\n",
      "Validation DataLoader 0:  50%|█████████████████████████████▌                             | 4/8 [00:00<00:00, 79.81it/s]\u001b[A\n",
      "Validation DataLoader 0:  62%|████████████████████████████████████▉                      | 5/8 [00:00<00:00, 83.79it/s]\u001b[A\n",
      "Validation DataLoader 0:  75%|████████████████████████████████████████████▎              | 6/8 [00:00<00:00, 82.54it/s]\u001b[A\n",
      "Validation DataLoader 0:  88%|███████████████████████████████████████████████████▋       | 7/8 [00:00<00:00, 84.67it/s]\u001b[A\n",
      "Validation DataLoader 0: 100%|███████████████████████████████████████████████████████████| 8/8 [00:00<00:00, 87.78it/s]\u001b[A\n",
      "Epoch 132: 100%|█████████████████████████████| 22/22 [00:00<00:00, 73.44it/s, v_num=13, train_acc=0.800, val_acc=0.961]\u001b[A\n",
      "Validation: |                                                                                    | 0/? [00:00<?, ?it/s]\u001b[A\n",
      "Validation:   0%|                                                                                | 0/8 [00:00<?, ?it/s]\u001b[A\n",
      "Validation DataLoader 0:   0%|                                                                   | 0/8 [00:00<?, ?it/s]\u001b[A\n",
      "Validation DataLoader 0:  12%|███████▍                                                   | 1/8 [00:00<00:00, 62.66it/s]\u001b[A\n",
      "Validation DataLoader 0:  25%|██████████████▊                                            | 2/8 [00:00<00:00, 67.11it/s]\u001b[A\n",
      "Validation DataLoader 0:  38%|██████████████████████▏                                    | 3/8 [00:00<00:00, 75.43it/s]\u001b[A\n",
      "Validation DataLoader 0:  50%|█████████████████████████████▌                             | 4/8 [00:00<00:00, 76.18it/s]\u001b[A\n",
      "Validation DataLoader 0:  62%|████████████████████████████████████▉                      | 5/8 [00:00<00:00, 79.56it/s]\u001b[A\n",
      "Validation DataLoader 0:  75%|████████████████████████████████████████████▎              | 6/8 [00:00<00:00, 82.39it/s]\u001b[A\n",
      "Validation DataLoader 0:  88%|███████████████████████████████████████████████████▋       | 7/8 [00:00<00:00, 84.51it/s]\u001b[A\n",
      "Validation DataLoader 0: 100%|███████████████████████████████████████████████████████████| 8/8 [00:00<00:00, 88.10it/s]\u001b[A\n",
      "Epoch 133: 100%|█████████████████████████████| 22/22 [00:00<00:00, 69.97it/s, v_num=13, train_acc=0.733, val_acc=0.947]\u001b[A\n",
      "Validation: |                                                                                    | 0/? [00:00<?, ?it/s]\u001b[A\n",
      "Validation:   0%|                                                                                | 0/8 [00:00<?, ?it/s]\u001b[A\n",
      "Validation DataLoader 0:   0%|                                                                   | 0/8 [00:00<?, ?it/s]\u001b[A\n",
      "Validation DataLoader 0:  12%|███████▍                                                   | 1/8 [00:00<00:00, 60.32it/s]\u001b[A\n",
      "Validation DataLoader 0:  25%|██████████████▊                                            | 2/8 [00:00<00:00, 71.50it/s]\u001b[A\n",
      "Validation DataLoader 0:  38%|██████████████████████▏                                    | 3/8 [00:00<00:00, 81.19it/s]\u001b[A\n",
      "Validation DataLoader 0:  50%|█████████████████████████████▌                             | 4/8 [00:00<00:00, 81.60it/s]\u001b[A\n",
      "Validation DataLoader 0:  62%|████████████████████████████████████▉                      | 5/8 [00:00<00:00, 82.82it/s]\u001b[A\n",
      "Validation DataLoader 0:  75%|████████████████████████████████████████████▎              | 6/8 [00:00<00:00, 85.30it/s]\u001b[A\n",
      "Validation DataLoader 0:  88%|███████████████████████████████████████████████████▋       | 7/8 [00:00<00:00, 83.99it/s]\u001b[A\n",
      "Validation DataLoader 0: 100%|███████████████████████████████████████████████████████████| 8/8 [00:00<00:00, 85.24it/s]\u001b[A\n",
      "Epoch 134: 100%|█████████████████████████████| 22/22 [00:00<00:00, 73.26it/s, v_num=13, train_acc=0.733, val_acc=0.956]\u001b[A\n",
      "Validation: |                                                                                    | 0/? [00:00<?, ?it/s]\u001b[A\n",
      "Validation:   0%|                                                                                | 0/8 [00:00<?, ?it/s]\u001b[A\n",
      "Validation DataLoader 0:   0%|                                                                   | 0/8 [00:00<?, ?it/s]\u001b[A\n",
      "Validation DataLoader 0:  12%|███████▍                                                   | 1/8 [00:00<00:00, 67.99it/s]\u001b[A\n",
      "Validation DataLoader 0:  25%|██████████████▊                                            | 2/8 [00:00<00:00, 77.89it/s]\u001b[A\n",
      "Validation DataLoader 0:  38%|██████████████████████▏                                    | 3/8 [00:00<00:00, 78.29it/s]\u001b[A\n",
      "Validation DataLoader 0:  50%|█████████████████████████████▌                             | 4/8 [00:00<00:00, 79.54it/s]\u001b[A\n",
      "Validation DataLoader 0:  62%|████████████████████████████████████▉                      | 5/8 [00:00<00:00, 80.32it/s]\u001b[A\n",
      "Validation DataLoader 0:  75%|████████████████████████████████████████████▎              | 6/8 [00:00<00:00, 82.45it/s]\u001b[A\n",
      "Validation DataLoader 0:  88%|███████████████████████████████████████████████████▋       | 7/8 [00:00<00:00, 83.59it/s]\u001b[A\n",
      "Validation DataLoader 0: 100%|███████████████████████████████████████████████████████████| 8/8 [00:00<00:00, 85.36it/s]\u001b[A\n",
      "Epoch 135: 100%|█████████████████████████████| 22/22 [00:00<00:00, 78.24it/s, v_num=13, train_acc=0.933, val_acc=0.961]\u001b[A\n",
      "Validation: |                                                                                    | 0/? [00:00<?, ?it/s]\u001b[A\n",
      "Validation:   0%|                                                                                | 0/8 [00:00<?, ?it/s]\u001b[A\n",
      "Validation DataLoader 0:   0%|                                                                   | 0/8 [00:00<?, ?it/s]\u001b[A\n",
      "Validation DataLoader 0:  12%|███████▍                                                   | 1/8 [00:00<00:00, 62.68it/s]\u001b[A\n",
      "Validation DataLoader 0:  25%|██████████████▊                                            | 2/8 [00:00<00:00, 71.80it/s]\u001b[A\n",
      "Validation DataLoader 0:  38%|██████████████████████▏                                    | 3/8 [00:00<00:00, 77.95it/s]\u001b[A\n",
      "Validation DataLoader 0:  50%|█████████████████████████████▌                             | 4/8 [00:00<00:00, 77.74it/s]\u001b[A\n",
      "Validation DataLoader 0:  62%|████████████████████████████████████▉                      | 5/8 [00:00<00:00, 81.73it/s]\u001b[A\n",
      "Validation DataLoader 0:  75%|████████████████████████████████████████████▎              | 6/8 [00:00<00:00, 80.92it/s]\u001b[A\n",
      "Validation DataLoader 0:  88%|███████████████████████████████████████████████████▋       | 7/8 [00:00<00:00, 82.04it/s]\u001b[A\n",
      "Validation DataLoader 0: 100%|███████████████████████████████████████████████████████████| 8/8 [00:00<00:00, 82.93it/s]\u001b[A\n",
      "Epoch 136: 100%|█████████████████████████████| 22/22 [00:00<00:00, 71.42it/s, v_num=13, train_acc=0.867, val_acc=0.956]\u001b[A\n",
      "Validation: |                                                                                    | 0/? [00:00<?, ?it/s]\u001b[A\n",
      "Validation:   0%|                                                                                | 0/8 [00:00<?, ?it/s]\u001b[A\n",
      "Validation DataLoader 0:   0%|                                                                   | 0/8 [00:00<?, ?it/s]\u001b[A\n",
      "Validation DataLoader 0:  12%|███████▍                                                   | 1/8 [00:00<00:00, 68.44it/s]\u001b[A\n",
      "Validation DataLoader 0:  25%|██████████████▊                                            | 2/8 [00:00<00:00, 78.06it/s]\u001b[A\n",
      "Validation DataLoader 0:  38%|██████████████████████▏                                    | 3/8 [00:00<00:00, 71.02it/s]\u001b[A\n",
      "Validation DataLoader 0:  50%|█████████████████████████████▌                             | 4/8 [00:00<00:00, 75.17it/s]\u001b[A\n",
      "Validation DataLoader 0:  62%|████████████████████████████████████▉                      | 5/8 [00:00<00:00, 79.13it/s]\u001b[A\n",
      "Validation DataLoader 0:  75%|████████████████████████████████████████████▎              | 6/8 [00:00<00:00, 81.66it/s]\u001b[A\n",
      "Validation DataLoader 0:  88%|███████████████████████████████████████████████████▋       | 7/8 [00:00<00:00, 82.09it/s]\u001b[A\n",
      "Validation DataLoader 0: 100%|███████████████████████████████████████████████████████████| 8/8 [00:00<00:00, 83.12it/s]\u001b[A\n",
      "Epoch 137: 100%|█████████████████████████████| 22/22 [00:00<00:00, 68.14it/s, v_num=13, train_acc=0.933, val_acc=0.959]\u001b[A\n",
      "Validation: |                                                                                    | 0/? [00:00<?, ?it/s]\u001b[A\n",
      "Validation:   0%|                                                                                | 0/8 [00:00<?, ?it/s]\u001b[A\n",
      "Validation DataLoader 0:   0%|                                                                   | 0/8 [00:00<?, ?it/s]\u001b[A\n",
      "Validation DataLoader 0:  12%|███████▍                                                   | 1/8 [00:00<00:00, 62.67it/s]\u001b[A\n",
      "Validation DataLoader 0:  25%|██████████████▊                                            | 2/8 [00:00<00:00, 77.13it/s]\u001b[A\n",
      "Validation DataLoader 0:  38%|██████████████████████▏                                    | 3/8 [00:00<00:00, 81.30it/s]\u001b[A\n",
      "Validation DataLoader 0:  50%|█████████████████████████████▌                             | 4/8 [00:00<00:00, 85.33it/s]\u001b[A\n",
      "Validation DataLoader 0:  62%|████████████████████████████████████▉                      | 5/8 [00:00<00:00, 85.35it/s]\u001b[A\n",
      "Validation DataLoader 0:  75%|████████████████████████████████████████████▎              | 6/8 [00:00<00:00, 86.48it/s]\u001b[A\n",
      "Validation DataLoader 0:  88%|███████████████████████████████████████████████████▋       | 7/8 [00:00<00:00, 89.34it/s]\u001b[A\n",
      "Validation DataLoader 0: 100%|███████████████████████████████████████████████████████████| 8/8 [00:00<00:00, 89.70it/s]\u001b[A\n",
      "Epoch 138: 100%|█████████████████████████████| 22/22 [00:00<00:00, 73.63it/s, v_num=13, train_acc=0.933, val_acc=0.953]\u001b[A\n",
      "Validation: |                                                                                    | 0/? [00:00<?, ?it/s]\u001b[A\n",
      "Validation:   0%|                                                                                | 0/8 [00:00<?, ?it/s]\u001b[A\n",
      "Validation DataLoader 0:   0%|                                                                   | 0/8 [00:00<?, ?it/s]\u001b[A\n",
      "Validation DataLoader 0:  12%|███████▍                                                   | 1/8 [00:00<00:00, 69.17it/s]\u001b[A\n",
      "Validation DataLoader 0:  25%|██████████████▊                                            | 2/8 [00:00<00:00, 78.65it/s]\u001b[A\n",
      "Validation DataLoader 0:  38%|██████████████████████▏                                    | 3/8 [00:00<00:00, 78.57it/s]\u001b[A\n",
      "Validation DataLoader 0:  50%|█████████████████████████████▌                             | 4/8 [00:00<00:00, 81.98it/s]\u001b[A\n",
      "Validation DataLoader 0:  62%|████████████████████████████████████▉                      | 5/8 [00:00<00:00, 82.29it/s]\u001b[A\n",
      "Validation DataLoader 0:  75%|████████████████████████████████████████████▎              | 6/8 [00:00<00:00, 81.57it/s]\u001b[A\n",
      "Validation DataLoader 0:  88%|███████████████████████████████████████████████████▋       | 7/8 [00:00<00:00, 81.13it/s]\u001b[A\n",
      "Validation DataLoader 0: 100%|███████████████████████████████████████████████████████████| 8/8 [00:00<00:00, 83.43it/s]\u001b[A\n",
      "Epoch 139: 100%|█████████████████████████████| 22/22 [00:00<00:00, 77.11it/s, v_num=13, train_acc=0.733, val_acc=0.957]\u001b[A\n",
      "Validation: |                                                                                    | 0/? [00:00<?, ?it/s]\u001b[A\n",
      "Validation:   0%|                                                                                | 0/8 [00:00<?, ?it/s]\u001b[A\n",
      "Validation DataLoader 0:   0%|                                                                   | 0/8 [00:00<?, ?it/s]\u001b[A\n",
      "Validation DataLoader 0:  12%|███████▍                                                   | 1/8 [00:00<00:00, 66.84it/s]\u001b[A\n",
      "Validation DataLoader 0:  25%|██████████████▊                                            | 2/8 [00:00<00:00, 77.13it/s]\u001b[A\n",
      "Validation DataLoader 0:  38%|██████████████████████▏                                    | 3/8 [00:00<00:00, 78.90it/s]\u001b[A\n",
      "Validation DataLoader 0:  50%|█████████████████████████████▌                             | 4/8 [00:00<00:00, 79.96it/s]\u001b[A\n",
      "Validation DataLoader 0:  62%|████████████████████████████████████▉                      | 5/8 [00:00<00:00, 81.97it/s]\u001b[A\n",
      "Validation DataLoader 0:  75%|████████████████████████████████████████████▎              | 6/8 [00:00<00:00, 80.34it/s]\u001b[A\n",
      "Validation DataLoader 0:  88%|███████████████████████████████████████████████████▋       | 7/8 [00:00<00:00, 82.79it/s]\u001b[A\n",
      "Validation DataLoader 0: 100%|███████████████████████████████████████████████████████████| 8/8 [00:00<00:00, 84.64it/s]\u001b[A\n",
      "Epoch 140: 100%|█████████████████████████████| 22/22 [00:00<00:00, 73.15it/s, v_num=13, train_acc=0.667, val_acc=0.954]\u001b[A\n",
      "Validation: |                                                                                    | 0/? [00:00<?, ?it/s]\u001b[A\n",
      "Validation:   0%|                                                                                | 0/8 [00:00<?, ?it/s]\u001b[A\n",
      "Validation DataLoader 0:   0%|                                                                   | 0/8 [00:00<?, ?it/s]\u001b[A\n",
      "Validation DataLoader 0:  12%|███████▍                                                   | 1/8 [00:00<00:00, 69.15it/s]\u001b[A\n",
      "Validation DataLoader 0:  25%|██████████████▊                                            | 2/8 [00:00<00:00, 73.75it/s]\u001b[A\n",
      "Validation DataLoader 0:  38%|██████████████████████▏                                    | 3/8 [00:00<00:00, 73.63it/s]\u001b[A\n",
      "Validation DataLoader 0:  50%|█████████████████████████████▌                             | 4/8 [00:00<00:00, 77.35it/s]\u001b[A\n",
      "Validation DataLoader 0:  62%|████████████████████████████████████▉                      | 5/8 [00:00<00:00, 76.40it/s]\u001b[A\n",
      "Validation DataLoader 0:  75%|████████████████████████████████████████████▎              | 6/8 [00:00<00:00, 77.77it/s]\u001b[A\n",
      "Validation DataLoader 0:  88%|███████████████████████████████████████████████████▋       | 7/8 [00:00<00:00, 78.84it/s]\u001b[A\n",
      "Validation DataLoader 0: 100%|███████████████████████████████████████████████████████████| 8/8 [00:00<00:00, 81.01it/s]\u001b[A\n",
      "Epoch 140: 100%|█████████████████████████████| 22/22 [00:00<00:00, 50.59it/s, v_num=13, train_acc=0.667, val_acc=0.959]\u001b[A"
     ]
    },
    {
     "name": "stderr",
     "output_type": "stream",
     "text": [
      "Metric val_loss improved by 0.005 >= min_delta = 0.0. New best score: 0.177\n"
     ]
    },
    {
     "name": "stdout",
     "output_type": "stream",
     "text": [
      "Epoch 141: 100%|█████████████████████████████| 22/22 [00:00<00:00, 71.01it/s, v_num=13, train_acc=0.667, val_acc=0.959]\n",
      "Validation: |                                                                                    | 0/? [00:00<?, ?it/s]\u001b[A\n",
      "Validation:   0%|                                                                                | 0/8 [00:00<?, ?it/s]\u001b[A\n",
      "Validation DataLoader 0:   0%|                                                                   | 0/8 [00:00<?, ?it/s]\u001b[A\n",
      "Validation DataLoader 0:  12%|███████▍                                                   | 1/8 [00:00<00:00, 66.85it/s]\u001b[A\n",
      "Validation DataLoader 0:  25%|██████████████▊                                            | 2/8 [00:00<00:00, 77.06it/s]\u001b[A\n",
      "Validation DataLoader 0:  38%|██████████████████████▏                                    | 3/8 [00:00<00:00, 80.53it/s]\u001b[A\n",
      "Validation DataLoader 0:  50%|█████████████████████████████▌                             | 4/8 [00:00<00:00, 78.53it/s]\u001b[A\n",
      "Validation DataLoader 0:  62%|████████████████████████████████████▉                      | 5/8 [00:00<00:00, 81.26it/s]\u001b[A\n",
      "Validation DataLoader 0:  75%|████████████████████████████████████████████▎              | 6/8 [00:00<00:00, 82.75it/s]\u001b[A\n",
      "Validation DataLoader 0:  88%|███████████████████████████████████████████████████▋       | 7/8 [00:00<00:00, 82.11it/s]\u001b[A\n",
      "Validation DataLoader 0: 100%|███████████████████████████████████████████████████████████| 8/8 [00:00<00:00, 83.61it/s]\u001b[A\n",
      "Epoch 141: 100%|█████████████████████████████| 22/22 [00:00<00:00, 50.10it/s, v_num=13, train_acc=0.667, val_acc=0.961]\u001b[A"
     ]
    },
    {
     "name": "stderr",
     "output_type": "stream",
     "text": [
      "Metric val_loss improved by 0.001 >= min_delta = 0.0. New best score: 0.176\n"
     ]
    },
    {
     "name": "stdout",
     "output_type": "stream",
     "text": [
      "Epoch 142: 100%|█████████████████████████████| 22/22 [00:00<00:00, 74.04it/s, v_num=13, train_acc=0.867, val_acc=0.961]\n",
      "Validation: |                                                                                    | 0/? [00:00<?, ?it/s]\u001b[A\n",
      "Validation:   0%|                                                                                | 0/8 [00:00<?, ?it/s]\u001b[A\n",
      "Validation DataLoader 0:   0%|                                                                   | 0/8 [00:00<?, ?it/s]\u001b[A\n",
      "Validation DataLoader 0:  12%|███████▍                                                   | 1/8 [00:00<00:00, 62.66it/s]\u001b[A\n",
      "Validation DataLoader 0:  25%|██████████████▊                                            | 2/8 [00:00<00:00, 69.93it/s]\u001b[A\n",
      "Validation DataLoader 0:  38%|██████████████████████▏                                    | 3/8 [00:00<00:00, 76.29it/s]\u001b[A\n",
      "Validation DataLoader 0:  50%|█████████████████████████████▌                             | 4/8 [00:00<00:00, 81.14it/s]\u001b[A\n",
      "Validation DataLoader 0:  62%|████████████████████████████████████▉                      | 5/8 [00:00<00:00, 83.37it/s]\u001b[A\n",
      "Validation DataLoader 0:  75%|████████████████████████████████████████████▎              | 6/8 [00:00<00:00, 83.69it/s]\u001b[A\n",
      "Validation DataLoader 0:  88%|███████████████████████████████████████████████████▋       | 7/8 [00:00<00:00, 84.99it/s]\u001b[A\n",
      "Validation DataLoader 0: 100%|███████████████████████████████████████████████████████████| 8/8 [00:00<00:00, 87.88it/s]\u001b[A\n",
      "Epoch 143: 100%|█████████████████████████████| 22/22 [00:00<00:00, 68.75it/s, v_num=13, train_acc=0.800, val_acc=0.954]\u001b[A\n",
      "Validation: |                                                                                    | 0/? [00:00<?, ?it/s]\u001b[A\n",
      "Validation:   0%|                                                                                | 0/8 [00:00<?, ?it/s]\u001b[A\n",
      "Validation DataLoader 0:   0%|                                                                   | 0/8 [00:00<?, ?it/s]\u001b[A\n",
      "Validation DataLoader 0:  12%|███████▍                                                   | 1/8 [00:00<00:00, 66.13it/s]\u001b[A\n",
      "Validation DataLoader 0:  25%|██████████████▊                                            | 2/8 [00:00<00:00, 73.83it/s]\u001b[A\n",
      "Validation DataLoader 0:  38%|██████████████████████▏                                    | 3/8 [00:00<00:00, 57.67it/s]\u001b[A\n",
      "Validation DataLoader 0:  50%|█████████████████████████████▌                             | 4/8 [00:00<00:00, 60.55it/s]\u001b[A\n",
      "Validation DataLoader 0:  62%|████████████████████████████████████▉                      | 5/8 [00:00<00:00, 62.47it/s]\u001b[A\n",
      "Validation DataLoader 0:  75%|████████████████████████████████████████████▎              | 6/8 [00:00<00:00, 64.74it/s]\u001b[A\n",
      "Validation DataLoader 0:  88%|███████████████████████████████████████████████████▋       | 7/8 [00:00<00:00, 66.56it/s]\u001b[A\n",
      "Validation DataLoader 0: 100%|███████████████████████████████████████████████████████████| 8/8 [00:00<00:00, 68.88it/s]\u001b[A\n",
      "Epoch 143: 100%|█████████████████████████████| 22/22 [00:00<00:00, 47.25it/s, v_num=13, train_acc=0.800, val_acc=0.961]\u001b[A"
     ]
    },
    {
     "name": "stderr",
     "output_type": "stream",
     "text": [
      "Metric val_loss improved by 0.000 >= min_delta = 0.0. New best score: 0.176\n"
     ]
    },
    {
     "name": "stdout",
     "output_type": "stream",
     "text": [
      "Epoch 144: 100%|█████████████████████████████| 22/22 [00:00<00:00, 69.54it/s, v_num=13, train_acc=0.933, val_acc=0.961]\n",
      "Validation: |                                                                                    | 0/? [00:00<?, ?it/s]\u001b[A\n",
      "Validation:   0%|                                                                                | 0/8 [00:00<?, ?it/s]\u001b[A\n",
      "Validation DataLoader 0:   0%|                                                                   | 0/8 [00:00<?, ?it/s]\u001b[A\n",
      "Validation DataLoader 0:  12%|███████▍                                                   | 1/8 [00:00<00:00, 67.16it/s]\u001b[A\n",
      "Validation DataLoader 0:  25%|██████████████▊                                            | 2/8 [00:00<00:00, 75.94it/s]\u001b[A\n",
      "Validation DataLoader 0:  38%|██████████████████████▏                                    | 3/8 [00:00<00:00, 80.42it/s]\u001b[A\n",
      "Validation DataLoader 0:  50%|█████████████████████████████▌                             | 4/8 [00:00<00:00, 81.70it/s]\u001b[A\n",
      "Validation DataLoader 0:  62%|████████████████████████████████████▉                      | 5/8 [00:00<00:00, 81.76it/s]\u001b[A\n",
      "Validation DataLoader 0:  75%|████████████████████████████████████████████▎              | 6/8 [00:00<00:00, 82.95it/s]\u001b[A\n",
      "Validation DataLoader 0:  88%|███████████████████████████████████████████████████▋       | 7/8 [00:00<00:00, 85.05it/s]\u001b[A\n",
      "Validation DataLoader 0: 100%|███████████████████████████████████████████████████████████| 8/8 [00:00<00:00, 87.74it/s]\u001b[A\n",
      "Epoch 145: 100%|█████████████████████████████| 22/22 [00:00<00:00, 64.83it/s, v_num=13, train_acc=0.867, val_acc=0.957]\u001b[A\n",
      "Validation: |                                                                                    | 0/? [00:00<?, ?it/s]\u001b[A\n",
      "Validation:   0%|                                                                                | 0/8 [00:00<?, ?it/s]\u001b[A\n",
      "Validation DataLoader 0:   0%|                                                                   | 0/8 [00:00<?, ?it/s]\u001b[A\n",
      "Validation DataLoader 0:  12%|███████▍                                                   | 1/8 [00:00<00:00, 73.14it/s]\u001b[A\n",
      "Validation DataLoader 0:  25%|██████████████▊                                            | 2/8 [00:00<00:00, 84.39it/s]\u001b[A\n",
      "Validation DataLoader 0:  38%|██████████████████████▏                                    | 3/8 [00:00<00:00, 83.38it/s]\u001b[A\n",
      "Validation DataLoader 0:  50%|█████████████████████████████▌                             | 4/8 [00:00<00:00, 83.18it/s]\u001b[A\n",
      "Validation DataLoader 0:  62%|████████████████████████████████████▉                      | 5/8 [00:00<00:00, 82.05it/s]\u001b[A\n",
      "Validation DataLoader 0:  75%|████████████████████████████████████████████▎              | 6/8 [00:00<00:00, 81.51it/s]\u001b[A\n",
      "Validation DataLoader 0:  88%|███████████████████████████████████████████████████▋       | 7/8 [00:00<00:00, 82.76it/s]\u001b[A\n",
      "Validation DataLoader 0: 100%|███████████████████████████████████████████████████████████| 8/8 [00:00<00:00, 84.14it/s]\u001b[A\n",
      "Epoch 146: 100%|█████████████████████████████| 22/22 [00:00<00:00, 71.56it/s, v_num=13, train_acc=0.933, val_acc=0.959]\u001b[A\n",
      "Validation: |                                                                                    | 0/? [00:00<?, ?it/s]\u001b[A\n",
      "Validation:   0%|                                                                                | 0/8 [00:00<?, ?it/s]\u001b[A\n",
      "Validation DataLoader 0:   0%|                                                                   | 0/8 [00:00<?, ?it/s]\u001b[A\n",
      "Validation DataLoader 0:  12%|███████▍                                                   | 1/8 [00:00<00:00, 65.68it/s]\u001b[A\n",
      "Validation DataLoader 0:  25%|██████████████▊                                            | 2/8 [00:00<00:00, 79.66it/s]\u001b[A\n",
      "Validation DataLoader 0:  38%|██████████████████████▏                                    | 3/8 [00:00<00:00, 81.64it/s]\u001b[A\n",
      "Validation DataLoader 0:  50%|█████████████████████████████▌                             | 4/8 [00:00<00:00, 87.48it/s]\u001b[A\n",
      "Validation DataLoader 0:  62%|████████████████████████████████████▉                      | 5/8 [00:00<00:00, 87.10it/s]\u001b[A\n",
      "Validation DataLoader 0:  75%|████████████████████████████████████████████▎              | 6/8 [00:00<00:00, 86.49it/s]\u001b[A\n",
      "Validation DataLoader 0:  88%|███████████████████████████████████████████████████▋       | 7/8 [00:00<00:00, 87.13it/s]\u001b[A\n",
      "Validation DataLoader 0: 100%|███████████████████████████████████████████████████████████| 8/8 [00:00<00:00, 89.85it/s]\u001b[A\n",
      "Epoch 146: 100%|█████████████████████████████| 22/22 [00:00<00:00, 51.58it/s, v_num=13, train_acc=0.933, val_acc=0.962]\u001b[A"
     ]
    },
    {
     "name": "stderr",
     "output_type": "stream",
     "text": [
      "Metric val_loss improved by 0.001 >= min_delta = 0.0. New best score: 0.175\n"
     ]
    },
    {
     "name": "stdout",
     "output_type": "stream",
     "text": [
      "Epoch 147: 100%|█████████████████████████████| 22/22 [00:00<00:00, 74.99it/s, v_num=13, train_acc=0.933, val_acc=0.962]\n",
      "Validation: |                                                                                    | 0/? [00:00<?, ?it/s]\u001b[A\n",
      "Validation:   0%|                                                                                | 0/8 [00:00<?, ?it/s]\u001b[A\n",
      "Validation DataLoader 0:   0%|                                                                   | 0/8 [00:00<?, ?it/s]\u001b[A\n",
      "Validation DataLoader 0:  12%|███████▍                                                   | 1/8 [00:00<00:00, 69.09it/s]\u001b[A\n",
      "Validation DataLoader 0:  25%|██████████████▊                                            | 2/8 [00:00<00:00, 85.29it/s]\u001b[A\n",
      "Validation DataLoader 0:  38%|██████████████████████▏                                    | 3/8 [00:00<00:00, 86.44it/s]\u001b[A\n",
      "Validation DataLoader 0:  50%|█████████████████████████████▌                             | 4/8 [00:00<00:00, 86.49it/s]\u001b[A\n",
      "Validation DataLoader 0:  62%|████████████████████████████████████▉                      | 5/8 [00:00<00:00, 86.33it/s]\u001b[A\n",
      "Validation DataLoader 0:  75%|████████████████████████████████████████████▎              | 6/8 [00:00<00:00, 87.35it/s]\u001b[A\n",
      "Validation DataLoader 0:  88%|███████████████████████████████████████████████████▋       | 7/8 [00:00<00:00, 85.94it/s]\u001b[A\n",
      "Validation DataLoader 0: 100%|███████████████████████████████████████████████████████████| 8/8 [00:00<00:00, 88.46it/s]\u001b[A\n",
      "Epoch 148: 100%|█████████████████████████████| 22/22 [00:00<00:00, 74.99it/s, v_num=13, train_acc=0.867, val_acc=0.958]\u001b[A\n",
      "Validation: |                                                                                    | 0/? [00:00<?, ?it/s]\u001b[A\n",
      "Validation:   0%|                                                                                | 0/8 [00:00<?, ?it/s]\u001b[A\n",
      "Validation DataLoader 0:   0%|                                                                   | 0/8 [00:00<?, ?it/s]\u001b[A\n",
      "Validation DataLoader 0:  12%|███████▍                                                   | 1/8 [00:00<00:00, 66.85it/s]\u001b[A\n",
      "Validation DataLoader 0:  25%|██████████████▊                                            | 2/8 [00:00<00:00, 71.62it/s]\u001b[A\n",
      "Validation DataLoader 0:  38%|██████████████████████▏                                    | 3/8 [00:00<00:00, 81.30it/s]\u001b[A\n",
      "Validation DataLoader 0:  50%|█████████████████████████████▌                             | 4/8 [00:00<00:00, 80.22it/s]\u001b[A\n",
      "Validation DataLoader 0:  62%|████████████████████████████████████▉                      | 5/8 [00:00<00:00, 79.07it/s]\u001b[A\n",
      "Validation DataLoader 0:  75%|████████████████████████████████████████████▎              | 6/8 [00:00<00:00, 78.72it/s]\u001b[A\n",
      "Validation DataLoader 0:  88%|███████████████████████████████████████████████████▋       | 7/8 [00:00<00:00, 79.37it/s]\u001b[A\n",
      "Validation DataLoader 0: 100%|███████████████████████████████████████████████████████████| 8/8 [00:00<00:00, 80.68it/s]\u001b[A\n",
      "Epoch 149: 100%|█████████████████████████████| 22/22 [00:00<00:00, 58.01it/s, v_num=13, train_acc=0.667, val_acc=0.961]\u001b[A\n",
      "Validation: |                                                                                    | 0/? [00:00<?, ?it/s]\u001b[A\n",
      "Validation:   0%|                                                                                | 0/8 [00:00<?, ?it/s]\u001b[A\n",
      "Validation DataLoader 0:   0%|                                                                   | 0/8 [00:00<?, ?it/s]\u001b[A\n",
      "Validation DataLoader 0:  12%|███████▍                                                   | 1/8 [00:00<00:00, 47.67it/s]\u001b[A\n",
      "Validation DataLoader 0:  25%|██████████████▊                                            | 2/8 [00:00<00:00, 58.45it/s]\u001b[A\n",
      "Validation DataLoader 0:  38%|██████████████████████▏                                    | 3/8 [00:00<00:00, 63.83it/s]\u001b[A\n",
      "Validation DataLoader 0:  50%|█████████████████████████████▌                             | 4/8 [00:00<00:00, 64.56it/s]\u001b[A\n",
      "Validation DataLoader 0:  62%|████████████████████████████████████▉                      | 5/8 [00:00<00:00, 67.75it/s]\u001b[A\n",
      "Validation DataLoader 0:  75%|████████████████████████████████████████████▎              | 6/8 [00:00<00:00, 67.66it/s]\u001b[A\n",
      "Validation DataLoader 0:  88%|███████████████████████████████████████████████████▋       | 7/8 [00:00<00:00, 67.92it/s]\u001b[A\n",
      "Validation DataLoader 0: 100%|███████████████████████████████████████████████████████████| 8/8 [00:00<00:00, 72.05it/s]\u001b[A\n",
      "Epoch 150: 100%|█████████████████████████████| 22/22 [00:00<00:00, 72.29it/s, v_num=13, train_acc=0.600, val_acc=0.961]\u001b[A\n",
      "Validation: |                                                                                    | 0/? [00:00<?, ?it/s]\u001b[A\n",
      "Validation:   0%|                                                                                | 0/8 [00:00<?, ?it/s]\u001b[A\n",
      "Validation DataLoader 0:   0%|                                                                   | 0/8 [00:00<?, ?it/s]\u001b[A\n",
      "Validation DataLoader 0:  12%|███████▍                                                   | 1/8 [00:00<00:00, 68.18it/s]\u001b[A\n",
      "Validation DataLoader 0:  25%|██████████████▊                                            | 2/8 [00:00<00:00, 81.16it/s]\u001b[A\n",
      "Validation DataLoader 0:  38%|██████████████████████▏                                    | 3/8 [00:00<00:00, 81.41it/s]\u001b[A\n",
      "Validation DataLoader 0:  50%|█████████████████████████████▌                             | 4/8 [00:00<00:00, 83.65it/s]\u001b[A\n",
      "Validation DataLoader 0:  62%|████████████████████████████████████▉                      | 5/8 [00:00<00:00, 82.97it/s]\u001b[A\n",
      "Validation DataLoader 0:  75%|████████████████████████████████████████████▎              | 6/8 [00:00<00:00, 81.94it/s]\u001b[A\n",
      "Validation DataLoader 0:  88%|███████████████████████████████████████████████████▋       | 7/8 [00:00<00:00, 80.61it/s]\u001b[A\n",
      "Validation DataLoader 0: 100%|███████████████████████████████████████████████████████████| 8/8 [00:00<00:00, 82.98it/s]\u001b[A\n",
      "Epoch 151: 100%|█████████████████████████████| 22/22 [00:00<00:00, 73.54it/s, v_num=13, train_acc=0.867, val_acc=0.962]\u001b[A\n",
      "Validation: |                                                                                    | 0/? [00:00<?, ?it/s]\u001b[A\n",
      "Validation:   0%|                                                                                | 0/8 [00:00<?, ?it/s]\u001b[A\n",
      "Validation DataLoader 0:   0%|                                                                   | 0/8 [00:00<?, ?it/s]\u001b[A\n",
      "Validation DataLoader 0:  12%|███████▍                                                   | 1/8 [00:00<00:00, 66.85it/s]\u001b[A\n",
      "Validation DataLoader 0:  25%|██████████████▊                                            | 2/8 [00:00<00:00, 83.56it/s]\u001b[A\n",
      "Validation DataLoader 0:  38%|██████████████████████▏                                    | 3/8 [00:00<00:00, 81.30it/s]\u001b[A\n",
      "Validation DataLoader 0:  50%|█████████████████████████████▌                             | 4/8 [00:00<00:00, 80.68it/s]\u001b[A\n",
      "Validation DataLoader 0:  62%|████████████████████████████████████▉                      | 5/8 [00:00<00:00, 82.58it/s]\u001b[A\n",
      "Validation DataLoader 0:  75%|████████████████████████████████████████████▎              | 6/8 [00:00<00:00, 82.54it/s]\u001b[A\n",
      "Validation DataLoader 0:  88%|███████████████████████████████████████████████████▋       | 7/8 [00:00<00:00, 82.59it/s]\u001b[A\n",
      "Validation DataLoader 0: 100%|███████████████████████████████████████████████████████████| 8/8 [00:00<00:00, 83.58it/s]\u001b[A\n",
      "Epoch 152: 100%|█████████████████████████████| 22/22 [00:00<00:00, 71.10it/s, v_num=13, train_acc=0.800, val_acc=0.956]\u001b[A\n",
      "Validation: |                                                                                    | 0/? [00:00<?, ?it/s]\u001b[A\n",
      "Validation:   0%|                                                                                | 0/8 [00:00<?, ?it/s]\u001b[A\n",
      "Validation DataLoader 0:   0%|                                                                   | 0/8 [00:00<?, ?it/s]\u001b[A\n",
      "Validation DataLoader 0:  12%|███████▍                                                   | 1/8 [00:00<00:00, 68.29it/s]\u001b[A\n",
      "Validation DataLoader 0:  25%|██████████████▊                                            | 2/8 [00:00<00:00, 73.36it/s]\u001b[A\n",
      "Validation DataLoader 0:  38%|██████████████████████▏                                    | 3/8 [00:00<00:00, 76.47it/s]\u001b[A\n",
      "Validation DataLoader 0:  50%|█████████████████████████████▌                             | 4/8 [00:00<00:00, 79.53it/s]\u001b[A\n",
      "Validation DataLoader 0:  62%|████████████████████████████████████▉                      | 5/8 [00:00<00:00, 80.29it/s]\u001b[A\n",
      "Validation DataLoader 0:  75%|████████████████████████████████████████████▎              | 6/8 [00:00<00:00, 83.05it/s]\u001b[A\n",
      "Validation DataLoader 0:  88%|███████████████████████████████████████████████████▋       | 7/8 [00:00<00:00, 81.13it/s]\u001b[A\n",
      "Validation DataLoader 0: 100%|███████████████████████████████████████████████████████████| 8/8 [00:00<00:00, 83.11it/s]\u001b[A\n",
      "Epoch 153: 100%|█████████████████████████████| 22/22 [00:00<00:00, 75.14it/s, v_num=13, train_acc=0.533, val_acc=0.953]\u001b[A\n",
      "Validation: |                                                                                    | 0/? [00:00<?, ?it/s]\u001b[A\n",
      "Validation:   0%|                                                                                | 0/8 [00:00<?, ?it/s]\u001b[A\n",
      "Validation DataLoader 0:   0%|                                                                   | 0/8 [00:00<?, ?it/s]\u001b[A\n",
      "Validation DataLoader 0:  12%|███████▍                                                   | 1/8 [00:00<00:00, 67.79it/s]\u001b[A\n",
      "Validation DataLoader 0:  25%|██████████████▊                                            | 2/8 [00:00<00:00, 72.16it/s]\u001b[A\n",
      "Validation DataLoader 0:  38%|██████████████████████▏                                    | 3/8 [00:00<00:00, 72.71it/s]\u001b[A\n",
      "Validation DataLoader 0:  50%|█████████████████████████████▌                             | 4/8 [00:00<00:00, 75.53it/s]\u001b[A\n",
      "Validation DataLoader 0:  62%|████████████████████████████████████▉                      | 5/8 [00:00<00:00, 78.21it/s]\u001b[A\n",
      "Validation DataLoader 0:  75%|████████████████████████████████████████████▎              | 6/8 [00:00<00:00, 79.05it/s]\u001b[A\n",
      "Validation DataLoader 0:  88%|███████████████████████████████████████████████████▋       | 7/8 [00:00<00:00, 77.90it/s]\u001b[A\n",
      "Validation DataLoader 0: 100%|███████████████████████████████████████████████████████████| 8/8 [00:00<00:00, 80.13it/s]\u001b[A\n",
      "Epoch 154: 100%|█████████████████████████████| 22/22 [00:00<00:00, 72.62it/s, v_num=13, train_acc=0.733, val_acc=0.959]\u001b[A\n",
      "Validation: |                                                                                    | 0/? [00:00<?, ?it/s]\u001b[A\n",
      "Validation:   0%|                                                                                | 0/8 [00:00<?, ?it/s]\u001b[A\n",
      "Validation DataLoader 0:   0%|                                                                   | 0/8 [00:00<?, ?it/s]\u001b[A\n",
      "Validation DataLoader 0:  12%|███████▍                                                   | 1/8 [00:00<00:00, 67.70it/s]\u001b[A\n",
      "Validation DataLoader 0:  25%|██████████████▊                                            | 2/8 [00:00<00:00, 73.60it/s]\u001b[A\n",
      "Validation DataLoader 0:  38%|██████████████████████▏                                    | 3/8 [00:00<00:00, 75.13it/s]\u001b[A\n",
      "Validation DataLoader 0:  50%|█████████████████████████████▌                             | 4/8 [00:00<00:00, 77.07it/s]\u001b[A\n",
      "Validation DataLoader 0:  62%|████████████████████████████████████▉                      | 5/8 [00:00<00:00, 77.10it/s]\u001b[A\n",
      "Validation DataLoader 0:  75%|████████████████████████████████████████████▎              | 6/8 [00:00<00:00, 76.61it/s]\u001b[A\n",
      "Validation DataLoader 0:  88%|███████████████████████████████████████████████████▋       | 7/8 [00:00<00:00, 77.58it/s]\u001b[A\n",
      "Validation DataLoader 0: 100%|███████████████████████████████████████████████████████████| 8/8 [00:00<00:00, 80.64it/s]\u001b[A\n",
      "Epoch 155: 100%|█████████████████████████████| 22/22 [00:00<00:00, 73.41it/s, v_num=13, train_acc=0.933, val_acc=0.962]\u001b[A\n",
      "Validation: |                                                                                    | 0/? [00:00<?, ?it/s]\u001b[A\n",
      "Validation:   0%|                                                                                | 0/8 [00:00<?, ?it/s]\u001b[A\n",
      "Validation DataLoader 0:   0%|                                                                   | 0/8 [00:00<?, ?it/s]\u001b[A\n",
      "Validation DataLoader 0:  12%|███████▍                                                   | 1/8 [00:00<00:00, 65.98it/s]\u001b[A\n",
      "Validation DataLoader 0:  25%|██████████████▊                                            | 2/8 [00:00<00:00, 76.37it/s]\u001b[A\n",
      "Validation DataLoader 0:  38%|██████████████████████▏                                    | 3/8 [00:00<00:00, 78.62it/s]\u001b[A\n",
      "Validation DataLoader 0:  50%|█████████████████████████████▌                             | 4/8 [00:00<00:00, 80.20it/s]\u001b[A\n",
      "Validation DataLoader 0:  62%|████████████████████████████████████▉                      | 5/8 [00:00<00:00, 81.37it/s]\u001b[A\n",
      "Validation DataLoader 0:  75%|████████████████████████████████████████████▎              | 6/8 [00:00<00:00, 82.85it/s]\u001b[A\n",
      "Validation DataLoader 0:  88%|███████████████████████████████████████████████████▋       | 7/8 [00:00<00:00, 84.03it/s]\u001b[A\n",
      "Validation DataLoader 0: 100%|███████████████████████████████████████████████████████████| 8/8 [00:00<00:00, 85.30it/s]\u001b[A\n",
      "Epoch 155: 100%|█████████████████████████████| 22/22 [00:00<00:00, 52.00it/s, v_num=13, train_acc=0.933, val_acc=0.962]\u001b[A"
     ]
    },
    {
     "name": "stderr",
     "output_type": "stream",
     "text": [
      "Metric val_loss improved by 0.002 >= min_delta = 0.0. New best score: 0.173\n"
     ]
    },
    {
     "name": "stdout",
     "output_type": "stream",
     "text": [
      "Epoch 156: 100%|█████████████████████████████| 22/22 [00:00<00:00, 72.05it/s, v_num=13, train_acc=0.800, val_acc=0.962]\n",
      "Validation: |                                                                                    | 0/? [00:00<?, ?it/s]\u001b[A\n",
      "Validation:   0%|                                                                                | 0/8 [00:00<?, ?it/s]\u001b[A\n",
      "Validation DataLoader 0:   0%|                                                                   | 0/8 [00:00<?, ?it/s]\u001b[A\n",
      "Validation DataLoader 0:  12%|███████▍                                                   | 1/8 [00:00<00:00, 62.67it/s]\u001b[A\n",
      "Validation DataLoader 0:  25%|██████████████▊                                            | 2/8 [00:00<00:00, 74.27it/s]\u001b[A\n",
      "Validation DataLoader 0:  38%|██████████████████████▏                                    | 3/8 [00:00<00:00, 79.16it/s]\u001b[A\n",
      "Validation DataLoader 0:  50%|█████████████████████████████▌                             | 4/8 [00:00<00:00, 77.51it/s]\u001b[A\n",
      "Validation DataLoader 0:  62%|████████████████████████████████████▉                      | 5/8 [00:00<00:00, 81.19it/s]\u001b[A\n",
      "Validation DataLoader 0:  75%|████████████████████████████████████████████▎              | 6/8 [00:00<00:00, 81.63it/s]\u001b[A\n",
      "Validation DataLoader 0:  88%|███████████████████████████████████████████████████▋       | 7/8 [00:00<00:00, 82.48it/s]\u001b[A\n",
      "Validation DataLoader 0: 100%|███████████████████████████████████████████████████████████| 8/8 [00:00<00:00, 85.25it/s]\u001b[A\n",
      "Epoch 157: 100%|█████████████████████████████| 22/22 [00:00<00:00, 73.35it/s, v_num=13, train_acc=0.800, val_acc=0.961]\u001b[A\n",
      "Validation: |                                                                                    | 0/? [00:00<?, ?it/s]\u001b[A\n",
      "Validation:   0%|                                                                                | 0/8 [00:00<?, ?it/s]\u001b[A\n",
      "Validation DataLoader 0:   0%|                                                                   | 0/8 [00:00<?, ?it/s]\u001b[A\n",
      "Validation DataLoader 0:  12%|███████▍                                                   | 1/8 [00:00<00:00, 62.67it/s]\u001b[A\n",
      "Validation DataLoader 0:  25%|██████████████▊                                            | 2/8 [00:00<00:00, 71.62it/s]\u001b[A\n",
      "Validation DataLoader 0:  38%|██████████████████████▏                                    | 3/8 [00:00<00:00, 75.20it/s]\u001b[A\n",
      "Validation DataLoader 0:  50%|█████████████████████████████▌                             | 4/8 [00:00<00:00, 75.67it/s]\u001b[A\n",
      "Validation DataLoader 0:  62%|████████████████████████████████████▉                      | 5/8 [00:00<00:00, 79.31it/s]\u001b[A\n",
      "Validation DataLoader 0:  75%|████████████████████████████████████████████▎              | 6/8 [00:00<00:00, 79.91it/s]\u001b[A\n",
      "Validation DataLoader 0:  88%|███████████████████████████████████████████████████▋       | 7/8 [00:00<00:00, 79.16it/s]\u001b[A\n",
      "Validation DataLoader 0: 100%|███████████████████████████████████████████████████████████| 8/8 [00:00<00:00, 82.13it/s]\u001b[A\n",
      "Epoch 158: 100%|█████████████████████████████| 22/22 [00:00<00:00, 68.74it/s, v_num=13, train_acc=0.933, val_acc=0.960]\u001b[A\n",
      "Validation: |                                                                                    | 0/? [00:00<?, ?it/s]\u001b[A\n",
      "Validation:   0%|                                                                                | 0/8 [00:00<?, ?it/s]\u001b[A\n",
      "Validation DataLoader 0:   0%|                                                                   | 0/8 [00:00<?, ?it/s]\u001b[A\n",
      "Validation DataLoader 0:  12%|███████▍                                                   | 1/8 [00:00<00:00, 61.23it/s]\u001b[A\n",
      "Validation DataLoader 0:  25%|██████████████▊                                            | 2/8 [00:00<00:00, 70.51it/s]\u001b[A\n",
      "Validation DataLoader 0:  38%|██████████████████████▏                                    | 3/8 [00:00<00:00, 74.38it/s]\u001b[A\n",
      "Validation DataLoader 0:  50%|█████████████████████████████▌                             | 4/8 [00:00<00:00, 79.52it/s]\u001b[A\n",
      "Validation DataLoader 0:  62%|████████████████████████████████████▉                      | 5/8 [00:00<00:00, 79.86it/s]\u001b[A\n",
      "Validation DataLoader 0:  75%|████████████████████████████████████████████▎              | 6/8 [00:00<00:00, 80.96it/s]\u001b[A\n",
      "Validation DataLoader 0:  88%|███████████████████████████████████████████████████▋       | 7/8 [00:00<00:00, 82.27it/s]\u001b[A\n",
      "Validation DataLoader 0: 100%|███████████████████████████████████████████████████████████| 8/8 [00:00<00:00, 83.51it/s]\u001b[A\n",
      "Epoch 159: 100%|█████████████████████████████| 22/22 [00:00<00:00, 70.60it/s, v_num=13, train_acc=0.933, val_acc=0.958]\u001b[A\n",
      "Validation: |                                                                                    | 0/? [00:00<?, ?it/s]\u001b[A\n",
      "Validation:   0%|                                                                                | 0/8 [00:00<?, ?it/s]\u001b[A\n",
      "Validation DataLoader 0:   0%|                                                                   | 0/8 [00:00<?, ?it/s]\u001b[A\n",
      "Validation DataLoader 0:  12%|███████▍                                                   | 1/8 [00:00<00:00, 64.08it/s]\u001b[A\n",
      "Validation DataLoader 0:  25%|██████████████▊                                            | 2/8 [00:00<00:00, 78.19it/s]\u001b[A\n",
      "Validation DataLoader 0:  38%|██████████████████████▏                                    | 3/8 [00:00<00:00, 79.90it/s]\u001b[A\n",
      "Validation DataLoader 0:  50%|█████████████████████████████▌                             | 4/8 [00:00<00:00, 83.43it/s]\u001b[A\n",
      "Validation DataLoader 0:  62%|████████████████████████████████████▉                      | 5/8 [00:00<00:00, 84.87it/s]\u001b[A\n",
      "Validation DataLoader 0:  75%|████████████████████████████████████████████▎              | 6/8 [00:00<00:00, 83.79it/s]\u001b[A\n",
      "Validation DataLoader 0:  88%|███████████████████████████████████████████████████▋       | 7/8 [00:00<00:00, 84.05it/s]\u001b[A\n",
      "Validation DataLoader 0: 100%|███████████████████████████████████████████████████████████| 8/8 [00:00<00:00, 86.71it/s]\u001b[A\n",
      "Epoch 160: 100%|█████████████████████████████| 22/22 [00:00<00:00, 73.89it/s, v_num=13, train_acc=0.933, val_acc=0.961]\u001b[A\n",
      "Validation: |                                                                                    | 0/? [00:00<?, ?it/s]\u001b[A\n",
      "Validation:   0%|                                                                                | 0/8 [00:00<?, ?it/s]\u001b[A\n",
      "Validation DataLoader 0:   0%|                                                                   | 0/8 [00:00<?, ?it/s]\u001b[A\n",
      "Validation DataLoader 0:  12%|███████▍                                                   | 1/8 [00:00<00:00, 73.19it/s]\u001b[A\n",
      "Validation DataLoader 0:  25%|██████████████▊                                            | 2/8 [00:00<00:00, 75.82it/s]\u001b[A\n",
      "Validation DataLoader 0:  38%|██████████████████████▏                                    | 3/8 [00:00<00:00, 80.33it/s]\u001b[A\n",
      "Validation DataLoader 0:  50%|█████████████████████████████▌                             | 4/8 [00:00<00:00, 83.30it/s]\u001b[A\n",
      "Validation DataLoader 0:  62%|████████████████████████████████████▉                      | 5/8 [00:00<00:00, 85.12it/s]\u001b[A\n",
      "Validation DataLoader 0:  75%|████████████████████████████████████████████▎              | 6/8 [00:00<00:00, 85.48it/s]\u001b[A\n",
      "Validation DataLoader 0:  88%|███████████████████████████████████████████████████▋       | 7/8 [00:00<00:00, 86.09it/s]\u001b[A\n",
      "Validation DataLoader 0: 100%|███████████████████████████████████████████████████████████| 8/8 [00:00<00:00, 86.90it/s]\u001b[A\n",
      "Epoch 160: 100%|█████████████████████████████| 22/22 [00:00<00:00, 52.45it/s, v_num=13, train_acc=0.933, val_acc=0.963]\u001b[A"
     ]
    },
    {
     "name": "stderr",
     "output_type": "stream",
     "text": [
      "Metric val_loss improved by 0.002 >= min_delta = 0.0. New best score: 0.171\n"
     ]
    },
    {
     "name": "stdout",
     "output_type": "stream",
     "text": [
      "Epoch 161: 100%|█████████████████████████████| 22/22 [00:00<00:00, 71.89it/s, v_num=13, train_acc=0.800, val_acc=0.963]\n",
      "Validation: |                                                                                    | 0/? [00:00<?, ?it/s]\u001b[A\n",
      "Validation:   0%|                                                                                | 0/8 [00:00<?, ?it/s]\u001b[A\n",
      "Validation DataLoader 0:   0%|                                                                   | 0/8 [00:00<?, ?it/s]\u001b[A\n",
      "Validation DataLoader 0:  12%|███████▍                                                   | 1/8 [00:00<00:00, 63.56it/s]\u001b[A\n",
      "Validation DataLoader 0:  25%|██████████████▊                                            | 2/8 [00:00<00:00, 73.82it/s]\u001b[A\n",
      "Validation DataLoader 0:  38%|██████████████████████▏                                    | 3/8 [00:00<00:00, 75.63it/s]\u001b[A\n",
      "Validation DataLoader 0:  50%|█████████████████████████████▌                             | 4/8 [00:00<00:00, 80.58it/s]\u001b[A\n",
      "Validation DataLoader 0:  62%|████████████████████████████████████▉                      | 5/8 [00:00<00:00, 81.39it/s]\u001b[A\n",
      "Validation DataLoader 0:  75%|████████████████████████████████████████████▎              | 6/8 [00:00<00:00, 82.03it/s]\u001b[A\n",
      "Validation DataLoader 0:  88%|███████████████████████████████████████████████████▋       | 7/8 [00:00<00:00, 82.25it/s]\u001b[A\n",
      "Validation DataLoader 0: 100%|███████████████████████████████████████████████████████████| 8/8 [00:00<00:00, 82.80it/s]\u001b[A\n",
      "Epoch 161: 100%|█████████████████████████████| 22/22 [00:00<00:00, 51.25it/s, v_num=13, train_acc=0.800, val_acc=0.961]\u001b[A"
     ]
    },
    {
     "name": "stderr",
     "output_type": "stream",
     "text": [
      "Metric val_loss improved by 0.001 >= min_delta = 0.0. New best score: 0.169\n"
     ]
    },
    {
     "name": "stdout",
     "output_type": "stream",
     "text": [
      "Epoch 162: 100%|█████████████████████████████| 22/22 [00:00<00:00, 70.35it/s, v_num=13, train_acc=0.733, val_acc=0.961]\n",
      "Validation: |                                                                                    | 0/? [00:00<?, ?it/s]\u001b[A\n",
      "Validation:   0%|                                                                                | 0/8 [00:00<?, ?it/s]\u001b[A\n",
      "Validation DataLoader 0:   0%|                                                                   | 0/8 [00:00<?, ?it/s]\u001b[A\n",
      "Validation DataLoader 0:  12%|███████▍                                                   | 1/8 [00:00<00:00, 56.55it/s]\u001b[A\n",
      "Validation DataLoader 0:  25%|██████████████▊                                            | 2/8 [00:00<00:00, 63.66it/s]\u001b[A\n",
      "Validation DataLoader 0:  38%|██████████████████████▏                                    | 3/8 [00:00<00:00, 71.78it/s]\u001b[A\n",
      "Validation DataLoader 0:  50%|█████████████████████████████▌                             | 4/8 [00:00<00:00, 77.27it/s]\u001b[A\n",
      "Validation DataLoader 0:  62%|████████████████████████████████████▉                      | 5/8 [00:00<00:00, 77.57it/s]\u001b[A\n",
      "Validation DataLoader 0:  75%|████████████████████████████████████████████▎              | 6/8 [00:00<00:00, 79.61it/s]\u001b[A\n",
      "Validation DataLoader 0:  88%|███████████████████████████████████████████████████▋       | 7/8 [00:00<00:00, 83.00it/s]\u001b[A\n",
      "Validation DataLoader 0: 100%|███████████████████████████████████████████████████████████| 8/8 [00:00<00:00, 84.15it/s]\u001b[A\n",
      "Epoch 163: 100%|█████████████████████████████| 22/22 [00:00<00:00, 68.99it/s, v_num=13, train_acc=0.733, val_acc=0.956]\u001b[A\n",
      "Validation: |                                                                                    | 0/? [00:00<?, ?it/s]\u001b[A\n",
      "Validation:   0%|                                                                                | 0/8 [00:00<?, ?it/s]\u001b[A\n",
      "Validation DataLoader 0:   0%|                                                                   | 0/8 [00:00<?, ?it/s]\u001b[A\n",
      "Validation DataLoader 0:  12%|███████▍                                                   | 1/8 [00:00<00:00, 66.86it/s]\u001b[A\n",
      "Validation DataLoader 0:  25%|██████████████▊                                            | 2/8 [00:00<00:00, 77.13it/s]\u001b[A\n",
      "Validation DataLoader 0:  38%|██████████████████████▏                                    | 3/8 [00:00<00:00, 81.30it/s]\u001b[A\n",
      "Validation DataLoader 0:  50%|█████████████████████████████▌                             | 4/8 [00:00<00:00, 80.51it/s]\u001b[A\n",
      "Validation DataLoader 0:  62%|████████████████████████████████████▉                      | 5/8 [00:00<00:00, 81.49it/s]\u001b[A\n",
      "Validation DataLoader 0:  75%|████████████████████████████████████████████▎              | 6/8 [00:00<00:00, 82.95it/s]\u001b[A\n",
      "Validation DataLoader 0:  88%|███████████████████████████████████████████████████▋       | 7/8 [00:00<00:00, 84.24it/s]\u001b[A\n",
      "Validation DataLoader 0: 100%|███████████████████████████████████████████████████████████| 8/8 [00:00<00:00, 85.96it/s]\u001b[A\n",
      "Epoch 164: 100%|█████████████████████████████| 22/22 [00:00<00:00, 72.02it/s, v_num=13, train_acc=0.867, val_acc=0.959]\u001b[A\n",
      "Validation: |                                                                                    | 0/? [00:00<?, ?it/s]\u001b[A\n",
      "Validation:   0%|                                                                                | 0/8 [00:00<?, ?it/s]\u001b[A\n",
      "Validation DataLoader 0:   0%|                                                                   | 0/8 [00:00<?, ?it/s]\u001b[A\n",
      "Validation DataLoader 0:  12%|███████▍                                                   | 1/8 [00:00<00:00, 64.01it/s]\u001b[A\n",
      "Validation DataLoader 0:  25%|██████████████▊                                            | 2/8 [00:00<00:00, 81.31it/s]\u001b[A\n",
      "Validation DataLoader 0:  38%|██████████████████████▏                                    | 3/8 [00:00<00:00, 82.51it/s]\u001b[A\n",
      "Validation DataLoader 0:  50%|█████████████████████████████▌                             | 4/8 [00:00<00:00, 83.80it/s]\u001b[A\n",
      "Validation DataLoader 0:  62%|████████████████████████████████████▉                      | 5/8 [00:00<00:00, 82.44it/s]\u001b[A\n",
      "Validation DataLoader 0:  75%|████████████████████████████████████████████▎              | 6/8 [00:00<00:00, 83.77it/s]\u001b[A\n",
      "Validation DataLoader 0:  88%|███████████████████████████████████████████████████▋       | 7/8 [00:00<00:00, 84.75it/s]\u001b[A\n",
      "Validation DataLoader 0: 100%|███████████████████████████████████████████████████████████| 8/8 [00:00<00:00, 87.37it/s]\u001b[A\n",
      "Epoch 164: 100%|█████████████████████████████| 22/22 [00:00<00:00, 51.63it/s, v_num=13, train_acc=0.867, val_acc=0.962]\u001b[A"
     ]
    },
    {
     "name": "stderr",
     "output_type": "stream",
     "text": [
      "Metric val_loss improved by 0.003 >= min_delta = 0.0. New best score: 0.167\n"
     ]
    },
    {
     "name": "stdout",
     "output_type": "stream",
     "text": [
      "Epoch 165: 100%|█████████████████████████████| 22/22 [00:00<00:00, 71.48it/s, v_num=13, train_acc=0.733, val_acc=0.962]\n",
      "Validation: |                                                                                    | 0/? [00:00<?, ?it/s]\u001b[A\n",
      "Validation:   0%|                                                                                | 0/8 [00:00<?, ?it/s]\u001b[A\n",
      "Validation DataLoader 0:   0%|                                                                   | 0/8 [00:00<?, ?it/s]\u001b[A\n",
      "Validation DataLoader 0:  12%|███████▍                                                   | 1/8 [00:00<00:00, 66.85it/s]\u001b[A\n",
      "Validation DataLoader 0:  25%|██████████████▊                                            | 2/8 [00:00<00:00, 33.02it/s]\u001b[A\n",
      "Validation DataLoader 0:  38%|██████████████████████▏                                    | 3/8 [00:00<00:00, 30.30it/s]\u001b[A\n",
      "Validation DataLoader 0:  50%|█████████████████████████████▌                             | 4/8 [00:00<00:00, 28.31it/s]\u001b[A\n",
      "Validation DataLoader 0:  62%|████████████████████████████████████▉                      | 5/8 [00:00<00:00, 32.48it/s]\u001b[A\n",
      "Validation DataLoader 0:  75%|████████████████████████████████████████████▎              | 6/8 [00:00<00:00, 32.74it/s]\u001b[A\n",
      "Validation DataLoader 0:  88%|███████████████████████████████████████████████████▋       | 7/8 [00:00<00:00, 36.04it/s]\u001b[A\n",
      "Validation DataLoader 0: 100%|███████████████████████████████████████████████████████████| 8/8 [00:00<00:00, 39.07it/s]\u001b[A\n",
      "Epoch 166: 100%|█████████████████████████████| 22/22 [00:00<00:00, 72.34it/s, v_num=13, train_acc=0.800, val_acc=0.962]\u001b[A\n",
      "Validation: |                                                                                    | 0/? [00:00<?, ?it/s]\u001b[A\n",
      "Validation:   0%|                                                                                | 0/8 [00:00<?, ?it/s]\u001b[A\n",
      "Validation DataLoader 0:   0%|                                                                   | 0/8 [00:00<?, ?it/s]\u001b[A\n",
      "Validation DataLoader 0:  12%|███████▍                                                   | 1/8 [00:00<00:00, 60.95it/s]\u001b[A\n",
      "Validation DataLoader 0:  25%|██████████████▊                                            | 2/8 [00:00<00:00, 75.81it/s]\u001b[A\n",
      "Validation DataLoader 0:  38%|██████████████████████▏                                    | 3/8 [00:00<00:00, 78.23it/s]\u001b[A\n",
      "Validation DataLoader 0:  50%|█████████████████████████████▌                             | 4/8 [00:00<00:00, 80.65it/s]\u001b[A\n",
      "Validation DataLoader 0:  62%|████████████████████████████████████▉                      | 5/8 [00:00<00:00, 81.83it/s]\u001b[A\n",
      "Validation DataLoader 0:  75%|████████████████████████████████████████████▎              | 6/8 [00:00<00:00, 79.91it/s]\u001b[A\n",
      "Validation DataLoader 0:  88%|███████████████████████████████████████████████████▋       | 7/8 [00:00<00:00, 81.35it/s]\u001b[A\n",
      "Validation DataLoader 0: 100%|███████████████████████████████████████████████████████████| 8/8 [00:00<00:00, 83.31it/s]\u001b[A\n",
      "Epoch 167: 100%|█████████████████████████████| 22/22 [00:00<00:00, 64.22it/s, v_num=13, train_acc=0.800, val_acc=0.962]\u001b[A\n",
      "Validation: |                                                                                    | 0/? [00:00<?, ?it/s]\u001b[A\n",
      "Validation:   0%|                                                                                | 0/8 [00:00<?, ?it/s]\u001b[A\n",
      "Validation DataLoader 0:   0%|                                                                   | 0/8 [00:00<?, ?it/s]\u001b[A\n",
      "Validation DataLoader 0:  12%|███████▍                                                   | 1/8 [00:00<00:00, 65.58it/s]\u001b[A\n",
      "Validation DataLoader 0:  25%|██████████████▊                                            | 2/8 [00:00<00:00, 70.24it/s]\u001b[A\n",
      "Validation DataLoader 0:  38%|██████████████████████▏                                    | 3/8 [00:00<00:00, 73.50it/s]\u001b[A\n",
      "Validation DataLoader 0:  50%|█████████████████████████████▌                             | 4/8 [00:00<00:00, 74.38it/s]\u001b[A\n",
      "Validation DataLoader 0:  62%|████████████████████████████████████▉                      | 5/8 [00:00<00:00, 75.45it/s]\u001b[A\n",
      "Validation DataLoader 0:  75%|████████████████████████████████████████████▎              | 6/8 [00:00<00:00, 76.05it/s]\u001b[A\n",
      "Validation DataLoader 0:  88%|███████████████████████████████████████████████████▋       | 7/8 [00:00<00:00, 76.24it/s]\u001b[A\n",
      "Validation DataLoader 0: 100%|███████████████████████████████████████████████████████████| 8/8 [00:00<00:00, 77.24it/s]\u001b[A\n",
      "Epoch 168: 100%|█████████████████████████████| 22/22 [00:00<00:00, 67.92it/s, v_num=13, train_acc=0.733, val_acc=0.961]\u001b[A\n",
      "Validation: |                                                                                    | 0/? [00:00<?, ?it/s]\u001b[A\n",
      "Validation:   0%|                                                                                | 0/8 [00:00<?, ?it/s]\u001b[A\n",
      "Validation DataLoader 0:   0%|                                                                   | 0/8 [00:00<?, ?it/s]\u001b[A\n",
      "Validation DataLoader 0:  12%|███████▍                                                   | 1/8 [00:00<00:00, 67.95it/s]\u001b[A\n",
      "Validation DataLoader 0:  25%|██████████████▊                                            | 2/8 [00:00<00:00, 80.99it/s]\u001b[A\n",
      "Validation DataLoader 0:  38%|██████████████████████▏                                    | 3/8 [00:00<00:00, 84.12it/s]\u001b[A\n",
      "Validation DataLoader 0:  50%|█████████████████████████████▌                             | 4/8 [00:00<00:00, 83.08it/s]\u001b[A\n",
      "Validation DataLoader 0:  62%|████████████████████████████████████▉                      | 5/8 [00:00<00:00, 82.43it/s]\u001b[A\n",
      "Validation DataLoader 0:  75%|████████████████████████████████████████████▎              | 6/8 [00:00<00:00, 83.77it/s]\u001b[A\n",
      "Validation DataLoader 0:  88%|███████████████████████████████████████████████████▋       | 7/8 [00:00<00:00, 86.42it/s]\u001b[A\n",
      "Validation DataLoader 0: 100%|███████████████████████████████████████████████████████████| 8/8 [00:00<00:00, 88.91it/s]\u001b[A\n",
      "Epoch 168: 100%|█████████████████████████████| 22/22 [00:00<00:00, 49.63it/s, v_num=13, train_acc=0.733, val_acc=0.960]\u001b[A"
     ]
    },
    {
     "name": "stderr",
     "output_type": "stream",
     "text": [
      "Metric val_loss improved by 0.001 >= min_delta = 0.0. New best score: 0.166\n"
     ]
    },
    {
     "name": "stdout",
     "output_type": "stream",
     "text": [
      "Epoch 169: 100%|█████████████████████████████| 22/22 [00:00<00:00, 74.19it/s, v_num=13, train_acc=0.733, val_acc=0.960]\n",
      "Validation: |                                                                                    | 0/? [00:00<?, ?it/s]\u001b[A\n",
      "Validation:   0%|                                                                                | 0/8 [00:00<?, ?it/s]\u001b[A\n",
      "Validation DataLoader 0:   0%|                                                                   | 0/8 [00:00<?, ?it/s]\u001b[A\n",
      "Validation DataLoader 0:  12%|███████▍                                                   | 1/8 [00:00<00:00, 69.85it/s]\u001b[A\n",
      "Validation DataLoader 0:  25%|██████████████▊                                            | 2/8 [00:00<00:00, 75.96it/s]\u001b[A\n",
      "Validation DataLoader 0:  38%|██████████████████████▏                                    | 3/8 [00:00<00:00, 80.43it/s]\u001b[A\n",
      "Validation DataLoader 0:  50%|█████████████████████████████▌                             | 4/8 [00:00<00:00, 81.59it/s]\u001b[A\n",
      "Validation DataLoader 0:  62%|████████████████████████████████████▉                      | 5/8 [00:00<00:00, 83.66it/s]\u001b[A\n",
      "Validation DataLoader 0:  75%|████████████████████████████████████████████▎              | 6/8 [00:00<00:00, 86.04it/s]\u001b[A\n",
      "Validation DataLoader 0:  88%|███████████████████████████████████████████████████▋       | 7/8 [00:00<00:00, 85.18it/s]\u001b[A\n",
      "Validation DataLoader 0: 100%|███████████████████████████████████████████████████████████| 8/8 [00:00<00:00, 87.76it/s]\u001b[A\n",
      "Epoch 170: 100%|█████████████████████████████| 22/22 [00:00<00:00, 72.11it/s, v_num=13, train_acc=0.933, val_acc=0.962]\u001b[A\n",
      "Validation: |                                                                                    | 0/? [00:00<?, ?it/s]\u001b[A\n",
      "Validation:   0%|                                                                                | 0/8 [00:00<?, ?it/s]\u001b[A\n",
      "Validation DataLoader 0:   0%|                                                                   | 0/8 [00:00<?, ?it/s]\u001b[A\n",
      "Validation DataLoader 0:  12%|███████▍                                                   | 1/8 [00:00<00:00, 71.61it/s]\u001b[A\n",
      "Validation DataLoader 0:  25%|██████████████▊                                            | 2/8 [00:00<00:00, 80.13it/s]\u001b[A\n",
      "Validation DataLoader 0:  38%|██████████████████████▏                                    | 3/8 [00:00<00:00, 83.32it/s]\u001b[A\n",
      "Validation DataLoader 0:  50%|█████████████████████████████▌                             | 4/8 [00:00<00:00, 86.99it/s]\u001b[A\n",
      "Validation DataLoader 0:  62%|████████████████████████████████████▉                      | 5/8 [00:00<00:00, 84.20it/s]\u001b[A\n",
      "Validation DataLoader 0:  75%|████████████████████████████████████████████▎              | 6/8 [00:00<00:00, 84.09it/s]\u001b[A\n",
      "Validation DataLoader 0:  88%|███████████████████████████████████████████████████▋       | 7/8 [00:00<00:00, 84.39it/s]\u001b[A\n",
      "Validation DataLoader 0: 100%|███████████████████████████████████████████████████████████| 8/8 [00:00<00:00, 87.03it/s]\u001b[A\n",
      "Epoch 171: 100%|█████████████████████████████| 22/22 [00:00<00:00, 68.79it/s, v_num=13, train_acc=0.933, val_acc=0.963]\u001b[A\n",
      "Validation: |                                                                                    | 0/? [00:00<?, ?it/s]\u001b[A\n",
      "Validation:   0%|                                                                                | 0/8 [00:00<?, ?it/s]\u001b[A\n",
      "Validation DataLoader 0:   0%|                                                                   | 0/8 [00:00<?, ?it/s]\u001b[A\n",
      "Validation DataLoader 0:  12%|███████▍                                                   | 1/8 [00:00<00:00, 63.78it/s]\u001b[A\n",
      "Validation DataLoader 0:  25%|██████████████▊                                            | 2/8 [00:00<00:00, 81.11it/s]\u001b[A\n",
      "Validation DataLoader 0:  38%|██████████████████████▏                                    | 3/8 [00:00<00:00, 81.91it/s]\u001b[A\n",
      "Validation DataLoader 0:  50%|█████████████████████████████▌                             | 4/8 [00:00<00:00, 83.33it/s]\u001b[A\n",
      "Validation DataLoader 0:  62%|████████████████████████████████████▉                      | 5/8 [00:00<00:00, 87.75it/s]\u001b[A\n",
      "Validation DataLoader 0:  75%|████████████████████████████████████████████▎              | 6/8 [00:00<00:00, 87.75it/s]\u001b[A\n",
      "Validation DataLoader 0:  88%|███████████████████████████████████████████████████▋       | 7/8 [00:00<00:00, 86.07it/s]\u001b[A\n",
      "Validation DataLoader 0: 100%|███████████████████████████████████████████████████████████| 8/8 [00:00<00:00, 87.62it/s]\u001b[A\n",
      "Epoch 172: 100%|█████████████████████████████| 22/22 [00:00<00:00, 72.41it/s, v_num=13, train_acc=0.800, val_acc=0.963]\u001b[A\n",
      "Validation: |                                                                                    | 0/? [00:00<?, ?it/s]\u001b[A\n",
      "Validation:   0%|                                                                                | 0/8 [00:00<?, ?it/s]\u001b[A\n",
      "Validation DataLoader 0:   0%|                                                                   | 0/8 [00:00<?, ?it/s]\u001b[A\n",
      "Validation DataLoader 0:  12%|███████▍                                                   | 1/8 [00:00<00:00, 66.67it/s]\u001b[A\n",
      "Validation DataLoader 0:  25%|██████████████▊                                            | 2/8 [00:00<00:00, 77.01it/s]\u001b[A\n",
      "Validation DataLoader 0:  38%|██████████████████████▏                                    | 3/8 [00:00<00:00, 77.81it/s]\u001b[A\n",
      "Validation DataLoader 0:  50%|█████████████████████████████▌                             | 4/8 [00:00<00:00, 79.63it/s]\u001b[A\n",
      "Validation DataLoader 0:  62%|████████████████████████████████████▉                      | 5/8 [00:00<00:00, 81.70it/s]\u001b[A\n",
      "Validation DataLoader 0:  75%|████████████████████████████████████████████▎              | 6/8 [00:00<00:00, 84.91it/s]\u001b[A\n",
      "Validation DataLoader 0:  88%|███████████████████████████████████████████████████▋       | 7/8 [00:00<00:00, 85.08it/s]\u001b[A\n",
      "Validation DataLoader 0: 100%|███████████████████████████████████████████████████████████| 8/8 [00:00<00:00, 86.72it/s]\u001b[A\n",
      "Epoch 173: 100%|█████████████████████████████| 22/22 [00:00<00:00, 66.39it/s, v_num=13, train_acc=0.733, val_acc=0.961]\u001b[A\n",
      "Validation: |                                                                                    | 0/? [00:00<?, ?it/s]\u001b[A\n",
      "Validation:   0%|                                                                                | 0/8 [00:00<?, ?it/s]\u001b[A\n",
      "Validation DataLoader 0:   0%|                                                                   | 0/8 [00:00<?, ?it/s]\u001b[A\n",
      "Validation DataLoader 0:  12%|███████▍                                                   | 1/8 [00:00<00:00, 58.90it/s]\u001b[A\n",
      "Validation DataLoader 0:  25%|██████████████▊                                            | 2/8 [00:00<00:00, 59.41it/s]\u001b[A\n",
      "Validation DataLoader 0:  38%|██████████████████████▏                                    | 3/8 [00:00<00:00, 59.56it/s]\u001b[A\n",
      "Validation DataLoader 0:  50%|█████████████████████████████▌                             | 4/8 [00:00<00:00, 60.90it/s]\u001b[A\n",
      "Validation DataLoader 0:  62%|████████████████████████████████████▉                      | 5/8 [00:00<00:00, 62.18it/s]\u001b[A\n",
      "Validation DataLoader 0:  75%|████████████████████████████████████████████▎              | 6/8 [00:00<00:00, 62.23it/s]\u001b[A\n",
      "Validation DataLoader 0:  88%|███████████████████████████████████████████████████▋       | 7/8 [00:00<00:00, 65.80it/s]\u001b[A\n",
      "Validation DataLoader 0: 100%|███████████████████████████████████████████████████████████| 8/8 [00:00<00:00, 68.75it/s]\u001b[A\n",
      "Epoch 174: 100%|█████████████████████████████| 22/22 [00:00<00:00, 64.44it/s, v_num=13, train_acc=0.800, val_acc=0.964]\u001b[A\n",
      "Validation: |                                                                                    | 0/? [00:00<?, ?it/s]\u001b[A\n",
      "Validation:   0%|                                                                                | 0/8 [00:00<?, ?it/s]\u001b[A\n",
      "Validation DataLoader 0:   0%|                                                                   | 0/8 [00:00<?, ?it/s]\u001b[A\n",
      "Validation DataLoader 0:  12%|███████▍                                                   | 1/8 [00:00<00:00, 57.49it/s]\u001b[A\n",
      "Validation DataLoader 0:  25%|██████████████▊                                            | 2/8 [00:00<00:00, 68.04it/s]\u001b[A\n",
      "Validation DataLoader 0:  38%|██████████████████████▏                                    | 3/8 [00:00<00:00, 70.82it/s]\u001b[A\n",
      "Validation DataLoader 0:  50%|█████████████████████████████▌                             | 4/8 [00:00<00:00, 69.49it/s]\u001b[A\n",
      "Validation DataLoader 0:  62%|████████████████████████████████████▉                      | 5/8 [00:00<00:00, 70.89it/s]\u001b[A\n",
      "Validation DataLoader 0:  75%|████████████████████████████████████████████▎              | 6/8 [00:00<00:00, 70.02it/s]\u001b[A\n",
      "Validation DataLoader 0:  88%|███████████████████████████████████████████████████▋       | 7/8 [00:00<00:00, 70.04it/s]\u001b[A\n",
      "Validation DataLoader 0: 100%|███████████████████████████████████████████████████████████| 8/8 [00:00<00:00, 72.78it/s]\u001b[A\n",
      "Epoch 175: 100%|█████████████████████████████| 22/22 [00:00<00:00, 74.32it/s, v_num=13, train_acc=0.867, val_acc=0.962]\u001b[A\n",
      "Validation: |                                                                                    | 0/? [00:00<?, ?it/s]\u001b[A\n",
      "Validation:   0%|                                                                                | 0/8 [00:00<?, ?it/s]\u001b[A\n",
      "Validation DataLoader 0:   0%|                                                                   | 0/8 [00:00<?, ?it/s]\u001b[A\n",
      "Validation DataLoader 0:  12%|███████▍                                                   | 1/8 [00:00<00:00, 69.02it/s]\u001b[A\n",
      "Validation DataLoader 0:  25%|██████████████▊                                            | 2/8 [00:00<00:00, 76.46it/s]\u001b[A\n",
      "Validation DataLoader 0:  38%|██████████████████████▏                                    | 3/8 [00:00<00:00, 83.02it/s]\u001b[A\n",
      "Validation DataLoader 0:  50%|█████████████████████████████▌                             | 4/8 [00:00<00:00, 83.96it/s]\u001b[A\n",
      "Validation DataLoader 0:  62%|████████████████████████████████████▉                      | 5/8 [00:00<00:00, 84.19it/s]\u001b[A\n",
      "Validation DataLoader 0:  75%|████████████████████████████████████████████▎              | 6/8 [00:00<00:00, 86.50it/s]\u001b[A\n",
      "Validation DataLoader 0:  88%|███████████████████████████████████████████████████▋       | 7/8 [00:00<00:00, 86.46it/s]\u001b[A\n",
      "Validation DataLoader 0: 100%|███████████████████████████████████████████████████████████| 8/8 [00:00<00:00, 87.29it/s]\u001b[A\n",
      "Epoch 176: 100%|█████████████████████████████| 22/22 [00:00<00:00, 73.12it/s, v_num=13, train_acc=0.867, val_acc=0.963]\u001b[A\n",
      "Validation: |                                                                                    | 0/? [00:00<?, ?it/s]\u001b[A\n",
      "Validation:   0%|                                                                                | 0/8 [00:00<?, ?it/s]\u001b[A\n",
      "Validation DataLoader 0:   0%|                                                                   | 0/8 [00:00<?, ?it/s]\u001b[A\n",
      "Validation DataLoader 0:  12%|███████▍                                                   | 1/8 [00:00<00:00, 66.85it/s]\u001b[A\n",
      "Validation DataLoader 0:  25%|██████████████▊                                            | 2/8 [00:00<00:00, 80.22it/s]\u001b[A\n",
      "Validation DataLoader 0:  38%|██████████████████████▏                                    | 3/8 [00:00<00:00, 83.56it/s]\u001b[A\n",
      "Validation DataLoader 0:  50%|█████████████████████████████▌                             | 4/8 [00:00<00:00, 83.17it/s]\u001b[A\n",
      "Validation DataLoader 0:  62%|████████████████████████████████████▉                      | 5/8 [00:00<00:00, 84.65it/s]\u001b[A\n",
      "Validation DataLoader 0:  75%|████████████████████████████████████████████▎              | 6/8 [00:00<00:00, 84.71it/s]\u001b[A\n",
      "Validation DataLoader 0:  88%|███████████████████████████████████████████████████▋       | 7/8 [00:00<00:00, 84.03it/s]\u001b[A\n",
      "Validation DataLoader 0: 100%|███████████████████████████████████████████████████████████| 8/8 [00:00<00:00, 86.69it/s]\u001b[A\n",
      "Epoch 177: 100%|█████████████████████████████| 22/22 [00:00<00:00, 68.08it/s, v_num=13, train_acc=0.733, val_acc=0.964]\u001b[A\n",
      "Validation: |                                                                                    | 0/? [00:00<?, ?it/s]\u001b[A\n",
      "Validation:   0%|                                                                                | 0/8 [00:00<?, ?it/s]\u001b[A\n",
      "Validation DataLoader 0:   0%|                                                                   | 0/8 [00:00<?, ?it/s]\u001b[A\n",
      "Validation DataLoader 0:  12%|███████▍                                                   | 1/8 [00:00<00:00, 63.92it/s]\u001b[A\n",
      "Validation DataLoader 0:  25%|██████████████▊                                            | 2/8 [00:00<00:00, 78.07it/s]\u001b[A\n",
      "Validation DataLoader 0:  38%|██████████████████████▏                                    | 3/8 [00:00<00:00, 77.81it/s]\u001b[A\n",
      "Validation DataLoader 0:  50%|█████████████████████████████▌                             | 4/8 [00:00<00:00, 76.35it/s]\u001b[A\n",
      "Validation DataLoader 0:  62%|████████████████████████████████████▉                      | 5/8 [00:00<00:00, 74.91it/s]\u001b[A\n",
      "Validation DataLoader 0:  75%|████████████████████████████████████████████▎              | 6/8 [00:00<00:00, 73.94it/s]\u001b[A\n",
      "Validation DataLoader 0:  88%|███████████████████████████████████████████████████▋       | 7/8 [00:00<00:00, 75.18it/s]\u001b[A\n",
      "Validation DataLoader 0: 100%|███████████████████████████████████████████████████████████| 8/8 [00:00<00:00, 75.89it/s]\u001b[A\n",
      "Epoch 178: 100%|█████████████████████████████| 22/22 [00:00<00:00, 68.36it/s, v_num=13, train_acc=1.000, val_acc=0.966]\u001b[A\n",
      "Validation: |                                                                                    | 0/? [00:00<?, ?it/s]\u001b[A\n",
      "Validation:   0%|                                                                                | 0/8 [00:00<?, ?it/s]\u001b[A\n",
      "Validation DataLoader 0:   0%|                                                                   | 0/8 [00:00<?, ?it/s]\u001b[A\n",
      "Validation DataLoader 0:  12%|███████▍                                                   | 1/8 [00:00<00:00, 71.35it/s]\u001b[A\n",
      "Validation DataLoader 0:  25%|██████████████▊                                            | 2/8 [00:00<00:00, 75.75it/s]\u001b[A\n",
      "Validation DataLoader 0:  38%|██████████████████████▏                                    | 3/8 [00:00<00:00, 76.41it/s]\u001b[A\n",
      "Validation DataLoader 0:  50%|█████████████████████████████▌                             | 4/8 [00:00<00:00, 78.58it/s]\u001b[A\n",
      "Validation DataLoader 0:  62%|████████████████████████████████████▉                      | 5/8 [00:00<00:00, 82.14it/s]\u001b[A\n",
      "Validation DataLoader 0:  75%|████████████████████████████████████████████▎              | 6/8 [00:00<00:00, 82.64it/s]\u001b[A\n",
      "Validation DataLoader 0:  88%|███████████████████████████████████████████████████▋       | 7/8 [00:00<00:00, 83.04it/s]\u001b[A\n",
      "Validation DataLoader 0: 100%|███████████████████████████████████████████████████████████| 8/8 [00:00<00:00, 84.86it/s]\u001b[A\n",
      "Epoch 179: 100%|█████████████████████████████| 22/22 [00:00<00:00, 67.48it/s, v_num=13, train_acc=0.733, val_acc=0.966]\u001b[A\n",
      "Validation: |                                                                                    | 0/? [00:00<?, ?it/s]\u001b[A\n",
      "Validation:   0%|                                                                                | 0/8 [00:00<?, ?it/s]\u001b[A\n",
      "Validation DataLoader 0:   0%|                                                                   | 0/8 [00:00<?, ?it/s]\u001b[A\n",
      "Validation DataLoader 0:  12%|███████▍                                                   | 1/8 [00:00<00:00, 62.66it/s]\u001b[A\n",
      "Validation DataLoader 0:  25%|██████████████▊                                            | 2/8 [00:00<00:00, 71.62it/s]\u001b[A\n",
      "Validation DataLoader 0:  38%|██████████████████████▏                                    | 3/8 [00:00<00:00, 77.13it/s]\u001b[A\n",
      "Validation DataLoader 0:  50%|█████████████████████████████▌                             | 4/8 [00:00<00:00, 80.21it/s]\u001b[A\n",
      "Validation DataLoader 0:  62%|████████████████████████████████████▉                      | 5/8 [00:00<00:00, 80.86it/s]\u001b[A\n",
      "Validation DataLoader 0:  75%|████████████████████████████████████████████▎              | 6/8 [00:00<00:00, 81.92it/s]\u001b[A\n",
      "Validation DataLoader 0:  88%|███████████████████████████████████████████████████▋       | 7/8 [00:00<00:00, 81.46it/s]\u001b[A\n",
      "Validation DataLoader 0: 100%|███████████████████████████████████████████████████████████| 8/8 [00:00<00:00, 80.20it/s]\u001b[A\n",
      "Epoch 179: 100%|█████████████████████████████| 22/22 [00:00<00:00, 48.27it/s, v_num=13, train_acc=0.733, val_acc=0.963]\u001b[A"
     ]
    },
    {
     "name": "stderr",
     "output_type": "stream",
     "text": [
      "Metric val_loss improved by 0.004 >= min_delta = 0.0. New best score: 0.162\n"
     ]
    },
    {
     "name": "stdout",
     "output_type": "stream",
     "text": [
      "Epoch 180: 100%|█████████████████████████████| 22/22 [00:00<00:00, 67.77it/s, v_num=13, train_acc=0.867, val_acc=0.963]\n",
      "Validation: |                                                                                    | 0/? [00:00<?, ?it/s]\u001b[A\n",
      "Validation:   0%|                                                                                | 0/8 [00:00<?, ?it/s]\u001b[A\n",
      "Validation DataLoader 0:   0%|                                                                   | 0/8 [00:00<?, ?it/s]\u001b[A\n",
      "Validation DataLoader 0:  12%|███████▍                                                   | 1/8 [00:00<00:00, 71.62it/s]\u001b[A\n",
      "Validation DataLoader 0:  25%|██████████████▊                                            | 2/8 [00:00<00:00, 80.21it/s]\u001b[A\n",
      "Validation DataLoader 0:  38%|██████████████████████▏                                    | 3/8 [00:00<00:00, 81.28it/s]\u001b[A\n",
      "Validation DataLoader 0:  50%|█████████████████████████████▌                             | 4/8 [00:00<00:00, 81.85it/s]\u001b[A\n",
      "Validation DataLoader 0:  62%|████████████████████████████████████▉                      | 5/8 [00:00<00:00, 83.55it/s]\u001b[A\n",
      "Validation DataLoader 0:  75%|████████████████████████████████████████████▎              | 6/8 [00:00<00:00, 86.34it/s]\u001b[A\n",
      "Validation DataLoader 0:  88%|███████████████████████████████████████████████████▋       | 7/8 [00:00<00:00, 86.46it/s]\u001b[A\n",
      "Validation DataLoader 0: 100%|███████████████████████████████████████████████████████████| 8/8 [00:00<00:00, 87.97it/s]\u001b[A\n",
      "Epoch 180: 100%|█████████████████████████████| 22/22 [00:00<00:00, 49.40it/s, v_num=13, train_acc=0.867, val_acc=0.966]\u001b[A"
     ]
    },
    {
     "name": "stderr",
     "output_type": "stream",
     "text": [
      "Metric val_loss improved by 0.007 >= min_delta = 0.0. New best score: 0.155\n"
     ]
    },
    {
     "name": "stdout",
     "output_type": "stream",
     "text": [
      "Epoch 181: 100%|█████████████████████████████| 22/22 [00:00<00:00, 65.62it/s, v_num=13, train_acc=0.933, val_acc=0.966]\n",
      "Validation: |                                                                                    | 0/? [00:00<?, ?it/s]\u001b[A\n",
      "Validation:   0%|                                                                                | 0/8 [00:00<?, ?it/s]\u001b[A\n",
      "Validation DataLoader 0:   0%|                                                                   | 0/8 [00:00<?, ?it/s]\u001b[A\n",
      "Validation DataLoader 0:  12%|███████▍                                                   | 1/8 [00:00<00:00, 68.18it/s]\u001b[A\n",
      "Validation DataLoader 0:  25%|██████████████▊                                            | 2/8 [00:00<00:00, 77.07it/s]\u001b[A\n",
      "Validation DataLoader 0:  38%|██████████████████████▏                                    | 3/8 [00:00<00:00, 83.51it/s]\u001b[A\n",
      "Validation DataLoader 0:  50%|█████████████████████████████▌                             | 4/8 [00:00<00:00, 82.01it/s]\u001b[A\n",
      "Validation DataLoader 0:  62%|████████████████████████████████████▉                      | 5/8 [00:00<00:00, 78.45it/s]\u001b[A\n",
      "Validation DataLoader 0:  75%|████████████████████████████████████████████▎              | 6/8 [00:00<00:00, 78.22it/s]\u001b[A\n",
      "Validation DataLoader 0:  88%|███████████████████████████████████████████████████▋       | 7/8 [00:00<00:00, 80.76it/s]\u001b[A\n",
      "Validation DataLoader 0: 100%|███████████████████████████████████████████████████████████| 8/8 [00:00<00:00, 82.75it/s]\u001b[A\n",
      "Epoch 182: 100%|█████████████████████████████| 22/22 [00:00<00:00, 59.20it/s, v_num=13, train_acc=0.867, val_acc=0.966]\u001b[A\n",
      "Validation: |                                                                                    | 0/? [00:00<?, ?it/s]\u001b[A\n",
      "Validation:   0%|                                                                                | 0/8 [00:00<?, ?it/s]\u001b[A\n",
      "Validation DataLoader 0:   0%|                                                                   | 0/8 [00:00<?, ?it/s]\u001b[A\n",
      "Validation DataLoader 0:  12%|███████▍                                                   | 1/8 [00:00<00:00, 54.10it/s]\u001b[A\n",
      "Validation DataLoader 0:  25%|██████████████▊                                            | 2/8 [00:00<00:00, 67.51it/s]\u001b[A\n",
      "Validation DataLoader 0:  38%|██████████████████████▏                                    | 3/8 [00:00<00:00, 76.65it/s]\u001b[A\n",
      "Validation DataLoader 0:  50%|█████████████████████████████▌                             | 4/8 [00:00<00:00, 81.31it/s]\u001b[A\n",
      "Validation DataLoader 0:  62%|████████████████████████████████████▉                      | 5/8 [00:00<00:00, 80.47it/s]\u001b[A\n",
      "Validation DataLoader 0:  75%|████████████████████████████████████████████▎              | 6/8 [00:00<00:00, 80.99it/s]\u001b[A\n",
      "Validation DataLoader 0:  88%|███████████████████████████████████████████████████▋       | 7/8 [00:00<00:00, 83.24it/s]\u001b[A\n",
      "Validation DataLoader 0: 100%|███████████████████████████████████████████████████████████| 8/8 [00:00<00:00, 83.26it/s]\u001b[A\n",
      "Epoch 183: 100%|█████████████████████████████| 22/22 [00:00<00:00, 58.65it/s, v_num=13, train_acc=0.600, val_acc=0.964]\u001b[A\n",
      "Validation: |                                                                                    | 0/? [00:00<?, ?it/s]\u001b[A\n",
      "Validation:   0%|                                                                                | 0/8 [00:00<?, ?it/s]\u001b[A\n",
      "Validation DataLoader 0:   0%|                                                                   | 0/8 [00:00<?, ?it/s]\u001b[A\n",
      "Validation DataLoader 0:  12%|███████▍                                                   | 1/8 [00:00<00:00, 54.29it/s]\u001b[A\n",
      "Validation DataLoader 0:  25%|██████████████▊                                            | 2/8 [00:00<00:00, 61.76it/s]\u001b[A\n",
      "Validation DataLoader 0:  38%|██████████████████████▏                                    | 3/8 [00:00<00:00, 64.73it/s]\u001b[A\n",
      "Validation DataLoader 0:  50%|█████████████████████████████▌                             | 4/8 [00:00<00:00, 66.33it/s]\u001b[A\n",
      "Validation DataLoader 0:  62%|████████████████████████████████████▉                      | 5/8 [00:00<00:00, 68.24it/s]\u001b[A\n",
      "Validation DataLoader 0:  75%|████████████████████████████████████████████▎              | 6/8 [00:00<00:00, 70.48it/s]\u001b[A\n",
      "Validation DataLoader 0:  88%|███████████████████████████████████████████████████▋       | 7/8 [00:00<00:00, 72.26it/s]\u001b[A\n",
      "Validation DataLoader 0: 100%|███████████████████████████████████████████████████████████| 8/8 [00:00<00:00, 74.88it/s]\u001b[A\n",
      "Epoch 184: 100%|█████████████████████████████| 22/22 [00:00<00:00, 63.65it/s, v_num=13, train_acc=0.733, val_acc=0.963]\u001b[A\n",
      "Validation: |                                                                                    | 0/? [00:00<?, ?it/s]\u001b[A\n",
      "Validation:   0%|                                                                                | 0/8 [00:00<?, ?it/s]\u001b[A\n",
      "Validation DataLoader 0:   0%|                                                                   | 0/8 [00:00<?, ?it/s]\u001b[A\n",
      "Validation DataLoader 0:  12%|███████▍                                                   | 1/8 [00:00<00:00, 47.75it/s]\u001b[A\n",
      "Validation DataLoader 0:  25%|██████████████▊                                            | 2/8 [00:00<00:00, 56.19it/s]\u001b[A\n",
      "Validation DataLoader 0:  38%|██████████████████████▏                                    | 3/8 [00:00<00:00, 57.93it/s]\u001b[A\n",
      "Validation DataLoader 0:  50%|█████████████████████████████▌                             | 4/8 [00:00<00:00, 60.65it/s]\u001b[A\n",
      "Validation DataLoader 0:  62%|████████████████████████████████████▉                      | 5/8 [00:00<00:00, 71.89it/s]\u001b[A\n",
      "Validation DataLoader 0:  75%|████████████████████████████████████████████▎              | 6/8 [00:00<00:00, 63.12it/s]\u001b[A\n",
      "Validation DataLoader 0:  88%|███████████████████████████████████████████████████▋       | 7/8 [00:00<00:00, 68.94it/s]\u001b[A\n",
      "Validation DataLoader 0: 100%|███████████████████████████████████████████████████████████| 8/8 [00:00<00:00, 66.30it/s]\u001b[A\n",
      "Epoch 185: 100%|█████████████████████████████| 22/22 [00:00<00:00, 68.01it/s, v_num=13, train_acc=0.667, val_acc=0.963]\u001b[A\n",
      "Validation: |                                                                                    | 0/? [00:00<?, ?it/s]\u001b[A\n",
      "Validation:   0%|                                                                                | 0/8 [00:00<?, ?it/s]\u001b[A\n",
      "Validation DataLoader 0:   0%|                                                                   | 0/8 [00:00<?, ?it/s]\u001b[A\n",
      "Validation DataLoader 0:  12%|███████▍                                                   | 1/8 [00:00<00:00, 69.55it/s]\u001b[A\n",
      "Validation DataLoader 0:  25%|██████████████▊                                            | 2/8 [00:00<00:00, 73.18it/s]\u001b[A\n",
      "Validation DataLoader 0:  38%|██████████████████████▏                                    | 3/8 [00:00<00:00, 75.05it/s]\u001b[A\n",
      "Validation DataLoader 0:  50%|█████████████████████████████▌                             | 4/8 [00:00<00:00, 78.13it/s]\u001b[A\n",
      "Validation DataLoader 0:  62%|████████████████████████████████████▉                      | 5/8 [00:00<00:00, 74.09it/s]\u001b[A\n",
      "Validation DataLoader 0:  75%|████████████████████████████████████████████▎              | 6/8 [00:00<00:00, 71.90it/s]\u001b[A\n",
      "Validation DataLoader 0:  88%|███████████████████████████████████████████████████▋       | 7/8 [00:00<00:00, 74.38it/s]\u001b[A\n",
      "Validation DataLoader 0: 100%|███████████████████████████████████████████████████████████| 8/8 [00:00<00:00, 85.01it/s]\u001b[A\n",
      "Epoch 186: 100%|█████████████████████████████| 22/22 [00:00<00:00, 61.65it/s, v_num=13, train_acc=0.800, val_acc=0.964]\u001b[A\n",
      "Validation: |                                                                                    | 0/? [00:00<?, ?it/s]\u001b[A\n",
      "Validation:   0%|                                                                                | 0/8 [00:00<?, ?it/s]\u001b[A\n",
      "Validation DataLoader 0:   0%|                                                                   | 0/8 [00:00<?, ?it/s]\u001b[A\n",
      "Validation DataLoader 0:  12%|███████▍                                                   | 1/8 [00:00<00:00, 62.43it/s]\u001b[A\n",
      "Validation DataLoader 0:  25%|██████████████▊                                            | 2/8 [00:00<00:00, 71.29it/s]\u001b[A\n",
      "Validation DataLoader 0:  38%|██████████████████████▏                                    | 3/8 [00:00<00:00, 67.99it/s]\u001b[A\n",
      "Validation DataLoader 0:  50%|█████████████████████████████▌                             | 4/8 [00:00<00:00, 70.06it/s]\u001b[A\n",
      "Validation DataLoader 0:  62%|████████████████████████████████████▉                      | 5/8 [00:00<00:00, 71.37it/s]\u001b[A\n",
      "Validation DataLoader 0:  75%|████████████████████████████████████████████▎              | 6/8 [00:00<00:00, 74.05it/s]\u001b[A\n",
      "Validation DataLoader 0:  88%|███████████████████████████████████████████████████▋       | 7/8 [00:00<00:00, 76.09it/s]\u001b[A\n",
      "Validation DataLoader 0: 100%|███████████████████████████████████████████████████████████| 8/8 [00:00<00:00, 78.52it/s]\u001b[A\n",
      "Epoch 187: 100%|█████████████████████████████| 22/22 [00:00<00:00, 56.16it/s, v_num=13, train_acc=0.933, val_acc=0.963]\u001b[A\n",
      "Validation: |                                                                                    | 0/? [00:00<?, ?it/s]\u001b[A\n",
      "Validation:   0%|                                                                                | 0/8 [00:00<?, ?it/s]\u001b[A\n",
      "Validation DataLoader 0:   0%|                                                                   | 0/8 [00:00<?, ?it/s]\u001b[A\n",
      "Validation DataLoader 0:  12%|███████▍                                                   | 1/8 [00:00<00:00, 67.97it/s]\u001b[A\n",
      "Validation DataLoader 0:  25%|██████████████▊                                            | 2/8 [00:00<00:00, 77.87it/s]\u001b[A\n",
      "Validation DataLoader 0:  38%|██████████████████████▏                                    | 3/8 [00:00<00:00, 77.62it/s]\u001b[A\n",
      "Validation DataLoader 0:  50%|█████████████████████████████▌                             | 4/8 [00:00<00:00, 79.02it/s]\u001b[A\n",
      "Validation DataLoader 0:  62%|████████████████████████████████████▉                      | 5/8 [00:00<00:00, 81.19it/s]\u001b[A\n",
      "Validation DataLoader 0:  75%|████████████████████████████████████████████▎              | 6/8 [00:00<00:00, 82.69it/s]\u001b[A\n",
      "Validation DataLoader 0:  88%|███████████████████████████████████████████████████▋       | 7/8 [00:00<00:00, 83.11it/s]\u001b[A\n",
      "Validation DataLoader 0: 100%|███████████████████████████████████████████████████████████| 8/8 [00:00<00:00, 84.18it/s]\u001b[A\n",
      "Epoch 188: 100%|█████████████████████████████| 22/22 [00:00<00:00, 65.19it/s, v_num=13, train_acc=0.800, val_acc=0.963]\u001b[A\n",
      "Validation: |                                                                                    | 0/? [00:00<?, ?it/s]\u001b[A\n",
      "Validation:   0%|                                                                                | 0/8 [00:00<?, ?it/s]\u001b[A\n",
      "Validation DataLoader 0:   0%|                                                                   | 0/8 [00:00<?, ?it/s]\u001b[A\n",
      "Validation DataLoader 0:  12%|███████▍                                                   | 1/8 [00:00<00:00, 62.67it/s]\u001b[A\n",
      "Validation DataLoader 0:  25%|██████████████▊                                            | 2/8 [00:00<00:00, 74.27it/s]\u001b[A\n",
      "Validation DataLoader 0:  38%|██████████████████████▏                                    | 3/8 [00:00<00:00, 81.30it/s]\u001b[A\n",
      "Validation DataLoader 0:  50%|█████████████████████████████▌                             | 4/8 [00:00<00:00, 81.85it/s]\u001b[A\n",
      "Validation DataLoader 0:  62%|████████████████████████████████████▉                      | 5/8 [00:00<00:00, 82.94it/s]\u001b[A\n",
      "Validation DataLoader 0:  75%|████████████████████████████████████████████▎              | 6/8 [00:00<00:00, 86.63it/s]\u001b[A\n",
      "Validation DataLoader 0:  88%|███████████████████████████████████████████████████▋       | 7/8 [00:00<00:00, 85.72it/s]\u001b[A\n",
      "Validation DataLoader 0: 100%|███████████████████████████████████████████████████████████| 8/8 [00:00<00:00, 87.50it/s]\u001b[A\n",
      "Epoch 189: 100%|█████████████████████████████| 22/22 [00:00<00:00, 61.88it/s, v_num=13, train_acc=0.667, val_acc=0.967]\u001b[A\n",
      "Validation: |                                                                                    | 0/? [00:00<?, ?it/s]\u001b[A\n",
      "Validation:   0%|                                                                                | 0/8 [00:00<?, ?it/s]\u001b[A\n",
      "Validation DataLoader 0:   0%|                                                                   | 0/8 [00:00<?, ?it/s]\u001b[A\n",
      "Validation DataLoader 0:  12%|███████▍                                                   | 1/8 [00:00<00:00, 53.32it/s]\u001b[A\n",
      "Validation DataLoader 0:  25%|██████████████▊                                            | 2/8 [00:00<00:00, 69.63it/s]\u001b[A\n",
      "Validation DataLoader 0:  38%|██████████████████████▏                                    | 3/8 [00:00<00:00, 75.58it/s]\u001b[A\n",
      "Validation DataLoader 0:  50%|█████████████████████████████▌                             | 4/8 [00:00<00:00, 80.53it/s]\u001b[A\n",
      "Validation DataLoader 0:  62%|████████████████████████████████████▉                      | 5/8 [00:00<00:00, 81.43it/s]\u001b[A\n",
      "Validation DataLoader 0:  75%|████████████████████████████████████████████▎              | 6/8 [00:00<00:00, 81.31it/s]\u001b[A\n",
      "Validation DataLoader 0:  88%|███████████████████████████████████████████████████▋       | 7/8 [00:00<00:00, 81.00it/s]\u001b[A\n",
      "Validation DataLoader 0: 100%|███████████████████████████████████████████████████████████| 8/8 [00:00<00:00, 84.74it/s]\u001b[A\n",
      "Epoch 190: 100%|█████████████████████████████| 22/22 [00:00<00:00, 52.78it/s, v_num=13, train_acc=0.800, val_acc=0.964]\u001b[A\n",
      "Validation: |                                                                                    | 0/? [00:00<?, ?it/s]\u001b[A\n",
      "Validation:   0%|                                                                                | 0/8 [00:00<?, ?it/s]\u001b[A\n",
      "Validation DataLoader 0:   0%|                                                                   | 0/8 [00:00<?, ?it/s]\u001b[A\n",
      "Validation DataLoader 0:  12%|███████▍                                                   | 1/8 [00:00<00:00, 63.99it/s]\u001b[A\n",
      "Validation DataLoader 0:  25%|██████████████▊                                            | 2/8 [00:00<00:00, 78.48it/s]\u001b[A\n",
      "Validation DataLoader 0:  38%|██████████████████████▏                                    | 3/8 [00:00<00:00, 82.30it/s]\u001b[A\n",
      "Validation DataLoader 0:  50%|█████████████████████████████▌                             | 4/8 [00:00<00:00, 86.54it/s]\u001b[A\n",
      "Validation DataLoader 0:  62%|████████████████████████████████████▉                      | 5/8 [00:00<00:00, 86.44it/s]\u001b[A\n",
      "Validation DataLoader 0:  75%|████████████████████████████████████████████▎              | 6/8 [00:00<00:00, 87.19it/s]\u001b[A\n",
      "Validation DataLoader 0:  88%|███████████████████████████████████████████████████▋       | 7/8 [00:00<00:00, 86.15it/s]\u001b[A\n",
      "Validation DataLoader 0: 100%|███████████████████████████████████████████████████████████| 8/8 [00:00<00:00, 87.72it/s]\u001b[A\n",
      "Epoch 191: 100%|█████████████████████████████| 22/22 [00:00<00:00, 70.57it/s, v_num=13, train_acc=0.933, val_acc=0.964]\u001b[A\n",
      "Validation: |                                                                                    | 0/? [00:00<?, ?it/s]\u001b[A\n",
      "Validation:   0%|                                                                                | 0/8 [00:00<?, ?it/s]\u001b[A\n",
      "Validation DataLoader 0:   0%|                                                                   | 0/8 [00:00<?, ?it/s]\u001b[A\n",
      "Validation DataLoader 0:  12%|███████▍                                                   | 1/8 [00:00<00:00, 63.53it/s]\u001b[A\n",
      "Validation DataLoader 0:  25%|██████████████▊                                            | 2/8 [00:00<00:00, 67.46it/s]\u001b[A\n",
      "Validation DataLoader 0:  38%|██████████████████████▏                                    | 3/8 [00:00<00:00, 71.22it/s]\u001b[A\n",
      "Validation DataLoader 0:  50%|█████████████████████████████▌                             | 4/8 [00:00<00:00, 75.34it/s]\u001b[A\n",
      "Validation DataLoader 0:  62%|████████████████████████████████████▉                      | 5/8 [00:00<00:00, 79.35it/s]\u001b[A\n",
      "Validation DataLoader 0:  75%|████████████████████████████████████████████▎              | 6/8 [00:00<00:00, 81.44it/s]\u001b[A\n",
      "Validation DataLoader 0:  88%|███████████████████████████████████████████████████▋       | 7/8 [00:00<00:00, 83.68it/s]\u001b[A\n",
      "Validation DataLoader 0: 100%|███████████████████████████████████████████████████████████| 8/8 [00:00<00:00, 84.76it/s]\u001b[A\n",
      "Epoch 192: 100%|█████████████████████████████| 22/22 [00:00<00:00, 72.40it/s, v_num=13, train_acc=0.867, val_acc=0.967]\u001b[A\n",
      "Validation: |                                                                                    | 0/? [00:00<?, ?it/s]\u001b[A\n",
      "Validation:   0%|                                                                                | 0/8 [00:00<?, ?it/s]\u001b[A\n",
      "Validation DataLoader 0:   0%|                                                                   | 0/8 [00:00<?, ?it/s]\u001b[A\n",
      "Validation DataLoader 0:  12%|███████▍                                                   | 1/8 [00:00<00:00, 67.98it/s]\u001b[A\n",
      "Validation DataLoader 0:  25%|██████████████▊                                            | 2/8 [00:00<00:00, 84.44it/s]\u001b[A\n",
      "Validation DataLoader 0:  38%|██████████████████████▏                                    | 3/8 [00:00<00:00, 84.14it/s]\u001b[A\n",
      "Validation DataLoader 0:  50%|█████████████████████████████▌                             | 4/8 [00:00<00:00, 85.06it/s]\u001b[A\n",
      "Validation DataLoader 0:  62%|████████████████████████████████████▉                      | 5/8 [00:00<00:00, 85.21it/s]\u001b[A\n",
      "Validation DataLoader 0:  75%|████████████████████████████████████████████▎              | 6/8 [00:00<00:00, 86.15it/s]\u001b[A\n",
      "Validation DataLoader 0:  88%|███████████████████████████████████████████████████▋       | 7/8 [00:00<00:00, 86.00it/s]\u001b[A\n",
      "Validation DataLoader 0: 100%|███████████████████████████████████████████████████████████| 8/8 [00:00<00:00, 86.98it/s]\u001b[A\n",
      "Epoch 193: 100%|█████████████████████████████| 22/22 [00:00<00:00, 72.83it/s, v_num=13, train_acc=0.867, val_acc=0.964]\u001b[A\n",
      "Validation: |                                                                                    | 0/? [00:00<?, ?it/s]\u001b[A\n",
      "Validation:   0%|                                                                                | 0/8 [00:00<?, ?it/s]\u001b[A\n",
      "Validation DataLoader 0:   0%|                                                                   | 0/8 [00:00<?, ?it/s]\u001b[A\n",
      "Validation DataLoader 0:  12%|███████▍                                                   | 1/8 [00:00<00:00, 71.62it/s]\u001b[A\n",
      "Validation DataLoader 0:  25%|██████████████▊                                            | 2/8 [00:00<00:00, 80.22it/s]\u001b[A\n",
      "Validation DataLoader 0:  38%|██████████████████████▏                                    | 3/8 [00:00<00:00, 81.46it/s]\u001b[A\n",
      "Validation DataLoader 0:  50%|█████████████████████████████▌                             | 4/8 [00:00<00:00, 87.34it/s]\u001b[A\n",
      "Validation DataLoader 0:  62%|████████████████████████████████████▉                      | 5/8 [00:00<00:00, 88.05it/s]\u001b[A\n",
      "Validation DataLoader 0:  75%|████████████████████████████████████████████▎              | 6/8 [00:00<00:00, 86.43it/s]\u001b[A\n",
      "Validation DataLoader 0:  88%|███████████████████████████████████████████████████▋       | 7/8 [00:00<00:00, 86.32it/s]\u001b[A\n",
      "Validation DataLoader 0: 100%|███████████████████████████████████████████████████████████| 8/8 [00:00<00:00, 89.81it/s]\u001b[A\n",
      "Epoch 194: 100%|█████████████████████████████| 22/22 [00:00<00:00, 73.87it/s, v_num=13, train_acc=0.733, val_acc=0.967]\u001b[A\n",
      "Validation: |                                                                                    | 0/? [00:00<?, ?it/s]\u001b[A\n",
      "Validation:   0%|                                                                                | 0/8 [00:00<?, ?it/s]\u001b[A\n",
      "Validation DataLoader 0:   0%|                                                                   | 0/8 [00:00<?, ?it/s]\u001b[A\n",
      "Validation DataLoader 0:  12%|███████▍                                                   | 1/8 [00:00<00:00, 65.14it/s]\u001b[A\n",
      "Validation DataLoader 0:  25%|██████████████▊                                            | 2/8 [00:00<00:00, 78.97it/s]\u001b[A\n",
      "Validation DataLoader 0:  38%|██████████████████████▏                                    | 3/8 [00:00<00:00, 82.47it/s]\u001b[A\n",
      "Validation DataLoader 0:  50%|█████████████████████████████▌                             | 4/8 [00:00<00:00, 81.99it/s]\u001b[A\n",
      "Validation DataLoader 0:  62%|████████████████████████████████████▉                      | 5/8 [00:00<00:00, 83.67it/s]\u001b[A\n",
      "Validation DataLoader 0:  75%|████████████████████████████████████████████▎              | 6/8 [00:00<00:00, 83.61it/s]\u001b[A\n",
      "Validation DataLoader 0:  88%|███████████████████████████████████████████████████▋       | 7/8 [00:00<00:00, 84.04it/s]\u001b[A\n",
      "Validation DataLoader 0: 100%|███████████████████████████████████████████████████████████| 8/8 [00:00<00:00, 87.66it/s]\u001b[A\n",
      "Epoch 195: 100%|█████████████████████████████| 22/22 [00:00<00:00, 71.81it/s, v_num=13, train_acc=0.933, val_acc=0.963]\u001b[A\n",
      "Validation: |                                                                                    | 0/? [00:00<?, ?it/s]\u001b[A\n",
      "Validation:   0%|                                                                                | 0/8 [00:00<?, ?it/s]\u001b[A\n",
      "Validation DataLoader 0:   0%|                                                                   | 0/8 [00:00<?, ?it/s]\u001b[A\n",
      "Validation DataLoader 0:  12%|███████▍                                                   | 1/8 [00:00<00:00, 77.12it/s]\u001b[A\n",
      "Validation DataLoader 0:  25%|██████████████▊                                            | 2/8 [00:00<00:00, 84.20it/s]\u001b[A\n",
      "Validation DataLoader 0:  38%|██████████████████████▏                                    | 3/8 [00:00<00:00, 89.14it/s]\u001b[A\n",
      "Validation DataLoader 0:  50%|█████████████████████████████▌                             | 4/8 [00:00<00:00, 87.67it/s]\u001b[A\n",
      "Validation DataLoader 0:  62%|████████████████████████████████████▉                      | 5/8 [00:00<00:00, 86.62it/s]\u001b[A\n",
      "Validation DataLoader 0:  75%|████████████████████████████████████████████▎              | 6/8 [00:00<00:00, 88.32it/s]\u001b[A\n",
      "Validation DataLoader 0:  88%|███████████████████████████████████████████████████▋       | 7/8 [00:00<00:00, 87.60it/s]\u001b[A\n",
      "Validation DataLoader 0: 100%|███████████████████████████████████████████████████████████| 8/8 [00:00<00:00, 89.24it/s]\u001b[A\n",
      "Epoch 196: 100%|█████████████████████████████| 22/22 [00:00<00:00, 72.60it/s, v_num=13, train_acc=0.800, val_acc=0.961]\u001b[A\n",
      "Validation: |                                                                                    | 0/? [00:00<?, ?it/s]\u001b[A\n",
      "Validation:   0%|                                                                                | 0/8 [00:00<?, ?it/s]\u001b[A\n",
      "Validation DataLoader 0:   0%|                                                                   | 0/8 [00:00<?, ?it/s]\u001b[A\n",
      "Validation DataLoader 0:  12%|███████▍                                                   | 1/8 [00:00<00:00, 73.55it/s]\u001b[A\n",
      "Validation DataLoader 0:  25%|██████████████▊                                            | 2/8 [00:00<00:00, 78.23it/s]\u001b[A\n",
      "Validation DataLoader 0:  38%|██████████████████████▏                                    | 3/8 [00:00<00:00, 81.60it/s]\u001b[A\n",
      "Validation DataLoader 0:  50%|█████████████████████████████▌                             | 4/8 [00:00<00:00, 85.23it/s]\u001b[A\n",
      "Validation DataLoader 0:  62%|████████████████████████████████████▉                      | 5/8 [00:00<00:00, 89.43it/s]\u001b[A\n",
      "Validation DataLoader 0:  75%|████████████████████████████████████████████▎              | 6/8 [00:00<00:00, 90.00it/s]\u001b[A\n",
      "Validation DataLoader 0:  88%|███████████████████████████████████████████████████▋       | 7/8 [00:00<00:00, 89.01it/s]\u001b[A\n",
      "Validation DataLoader 0: 100%|███████████████████████████████████████████████████████████| 8/8 [00:00<00:00, 90.28it/s]\u001b[A\n",
      "Epoch 197: 100%|█████████████████████████████| 22/22 [00:00<00:00, 71.13it/s, v_num=13, train_acc=0.800, val_acc=0.964]\u001b[A\n",
      "Validation: |                                                                                    | 0/? [00:00<?, ?it/s]\u001b[A\n",
      "Validation:   0%|                                                                                | 0/8 [00:00<?, ?it/s]\u001b[A\n",
      "Validation DataLoader 0:   0%|                                                                   | 0/8 [00:00<?, ?it/s]\u001b[A\n",
      "Validation DataLoader 0:  12%|███████▍                                                   | 1/8 [00:00<00:00, 65.44it/s]\u001b[A\n",
      "Validation DataLoader 0:  25%|██████████████▊                                            | 2/8 [00:00<00:00, 82.44it/s]\u001b[A\n",
      "Validation DataLoader 0:  38%|██████████████████████▏                                    | 3/8 [00:00<00:00, 82.60it/s]\u001b[A\n",
      "Validation DataLoader 0:  50%|█████████████████████████████▌                             | 4/8 [00:00<00:00, 83.12it/s]\u001b[A\n",
      "Validation DataLoader 0:  62%|████████████████████████████████████▉                      | 5/8 [00:00<00:00, 87.57it/s]\u001b[A\n",
      "Validation DataLoader 0:  75%|████████████████████████████████████████████▎              | 6/8 [00:00<00:00, 86.87it/s]\u001b[A\n",
      "Validation DataLoader 0:  88%|███████████████████████████████████████████████████▋       | 7/8 [00:00<00:00, 86.38it/s]\u001b[A\n",
      "Validation DataLoader 0: 100%|███████████████████████████████████████████████████████████| 8/8 [00:00<00:00, 88.88it/s]\u001b[A\n",
      "Epoch 198: 100%|█████████████████████████████| 22/22 [00:00<00:00, 71.65it/s, v_num=13, train_acc=0.733, val_acc=0.966]\u001b[A\n",
      "Validation: |                                                                                    | 0/? [00:00<?, ?it/s]\u001b[A\n",
      "Validation:   0%|                                                                                | 0/8 [00:00<?, ?it/s]\u001b[A\n",
      "Validation DataLoader 0:   0%|                                                                   | 0/8 [00:00<?, ?it/s]\u001b[A\n",
      "Validation DataLoader 0:  12%|███████▍                                                   | 1/8 [00:00<00:00, 72.01it/s]\u001b[A\n",
      "Validation DataLoader 0:  25%|██████████████▊                                            | 2/8 [00:00<00:00, 80.46it/s]\u001b[A\n",
      "Validation DataLoader 0:  38%|██████████████████████▏                                    | 3/8 [00:00<00:00, 82.42it/s]\u001b[A\n",
      "Validation DataLoader 0:  50%|█████████████████████████████▌                             | 4/8 [00:00<00:00, 83.26it/s]\u001b[A\n",
      "Validation DataLoader 0:  62%|████████████████████████████████████▉                      | 5/8 [00:00<00:00, 84.73it/s]\u001b[A\n",
      "Validation DataLoader 0:  75%|████████████████████████████████████████████▎              | 6/8 [00:00<00:00, 84.57it/s]\u001b[A\n",
      "Validation DataLoader 0:  88%|███████████████████████████████████████████████████▋       | 7/8 [00:00<00:00, 85.80it/s]\u001b[A\n",
      "Validation DataLoader 0: 100%|███████████████████████████████████████████████████████████| 8/8 [00:00<00:00, 89.33it/s]\u001b[A\n",
      "Epoch 199: 100%|█████████████████████████████| 22/22 [00:00<00:00, 71.14it/s, v_num=13, train_acc=0.933, val_acc=0.964]\u001b[A\n",
      "Validation: |                                                                                    | 0/? [00:00<?, ?it/s]\u001b[A\n",
      "Validation:   0%|                                                                                | 0/8 [00:00<?, ?it/s]\u001b[A\n",
      "Validation DataLoader 0:   0%|                                                                   | 0/8 [00:00<?, ?it/s]\u001b[A\n",
      "Validation DataLoader 0:  12%|███████▍                                                   | 1/8 [00:00<00:00, 72.58it/s]\u001b[A\n",
      "Validation DataLoader 0:  25%|██████████████▊                                            | 2/8 [00:00<00:00, 75.75it/s]\u001b[A\n",
      "Validation DataLoader 0:  38%|██████████████████████▏                                    | 3/8 [00:00<00:00, 80.27it/s]\u001b[A\n",
      "Validation DataLoader 0:  50%|█████████████████████████████▌                             | 4/8 [00:00<00:00, 81.81it/s]\u001b[A\n",
      "Validation DataLoader 0:  62%|████████████████████████████████████▉                      | 5/8 [00:00<00:00, 83.52it/s]\u001b[A\n",
      "Validation DataLoader 0:  75%|████████████████████████████████████████████▎              | 6/8 [00:00<00:00, 84.39it/s]\u001b[A\n",
      "Validation DataLoader 0:  88%|███████████████████████████████████████████████████▋       | 7/8 [00:00<00:00, 86.02it/s]\u001b[A\n",
      "Validation DataLoader 0: 100%|███████████████████████████████████████████████████████████| 8/8 [00:00<00:00, 87.83it/s]\u001b[A\n",
      "Epoch 200: 100%|█████████████████████████████| 22/22 [00:00<00:00, 74.36it/s, v_num=13, train_acc=0.800, val_acc=0.967]\u001b[A\n",
      "Validation: |                                                                                    | 0/? [00:00<?, ?it/s]\u001b[A\n",
      "Validation:   0%|                                                                                | 0/8 [00:00<?, ?it/s]\u001b[A\n",
      "Validation DataLoader 0:   0%|                                                                   | 0/8 [00:00<?, ?it/s]\u001b[A\n",
      "Validation DataLoader 0:  12%|███████▍                                                   | 1/8 [00:00<00:00, 66.95it/s]\u001b[A\n",
      "Validation DataLoader 0:  25%|██████████████▊                                            | 2/8 [00:00<00:00, 76.07it/s]\u001b[A\n",
      "Validation DataLoader 0:  38%|██████████████████████▏                                    | 3/8 [00:00<00:00, 77.32it/s]\u001b[A\n",
      "Validation DataLoader 0:  50%|█████████████████████████████▌                             | 4/8 [00:00<00:00, 78.79it/s]\u001b[A\n",
      "Validation DataLoader 0:  62%|████████████████████████████████████▉                      | 5/8 [00:00<00:00, 80.85it/s]\u001b[A\n",
      "Validation DataLoader 0:  75%|████████████████████████████████████████████▎              | 6/8 [00:00<00:00, 81.75it/s]\u001b[A\n",
      "Validation DataLoader 0:  88%|███████████████████████████████████████████████████▋       | 7/8 [00:00<00:00, 83.97it/s]\u001b[A\n",
      "Validation DataLoader 0: 100%|███████████████████████████████████████████████████████████| 8/8 [00:00<00:00, 86.04it/s]\u001b[A\n",
      "Epoch 200: 100%|█████████████████████████████| 22/22 [00:00<00:00, 52.91it/s, v_num=13, train_acc=0.800, val_acc=0.963]\u001b[A"
     ]
    },
    {
     "name": "stderr",
     "output_type": "stream",
     "text": [
      "Monitored metric val_loss did not improve in the last 20 records. Best score: 0.155. Signaling Trainer to stop.\n"
     ]
    },
    {
     "name": "stdout",
     "output_type": "stream",
     "text": [
      "Epoch 200: 100%|█████████████████████████████| 22/22 [00:00<00:00, 52.16it/s, v_num=13, train_acc=0.800, val_acc=0.963]\n"
     ]
    }
   ],
   "source": [
    "# Train the model\n",
    "trainer.fit(model, train_loader, val_loader)"
   ]
  },
  {
   "cell_type": "code",
   "execution_count": 73,
   "id": "0618a69b-7c16-4f9c-9486-d90459207e5a",
   "metadata": {},
   "outputs": [],
   "source": [
    "# Load the best model\n",
    "best_model = KeypointClassifier.load_from_checkpoint(model_save_path)"
   ]
  },
  {
   "cell_type": "code",
   "execution_count": 74,
   "id": "547bc160-b743-4a6b-8383-304bbf64ae34",
   "metadata": {},
   "outputs": [
    {
     "name": "stdout",
     "output_type": "stream",
     "text": [
      "[5.5057824e-02 9.2722476e-01 2.4162600e-05 1.3776328e-02 3.9168675e-03]\n",
      "1\n"
     ]
    }
   ],
   "source": [
    "best_model.eval()\n",
    "with torch.no_grad():\n",
    "    test_sample = X_test_tensor[0].unsqueeze(0)\n",
    "    output = best_model(test_sample)\n",
    "    probs = torch.softmax(output, dim=1)\n",
    "    print(probs.squeeze().numpy())\n",
    "    print(torch.argmax(probs).item())"
   ]
  },
  {
   "cell_type": "code",
   "execution_count": 75,
   "id": "e9e5aa1c-4f6b-420e-b377-df805817bda4",
   "metadata": {},
   "outputs": [
    {
     "data": {
      "image/png": "[encoded data removed]",
      "text/plain": [
       "<Figure size 700x600 with 2 Axes>"
      ]
     },
     "metadata": {},
     "output_type": "display_data"
    },
    {
     "name": "stdout",
     "output_type": "stream",
     "text": [
      "Classification Report\n",
      "              precision    recall  f1-score   support\n",
      "\n",
      "           0       0.97      0.99      0.98       398\n",
      "           1       0.96      0.98      0.97       381\n",
      "           2       0.98      1.00      0.99        86\n",
      "           3       1.00      0.08      0.15        12\n",
      "           4       0.81      0.54      0.65        24\n",
      "\n",
      "    accuracy                           0.96       901\n",
      "   macro avg       0.94      0.72      0.75       901\n",
      "weighted avg       0.96      0.96      0.96       901\n",
      "\n"
     ]
    }
   ],
   "source": [
    "import torch\n",
    "import pandas as pd\n",
    "import seaborn as sns\n",
    "import matplotlib.pyplot as plt\n",
    "from sklearn.metrics import confusion_matrix, classification_report\n",
    "from torch.utils.data import TensorDataset, DataLoader\n",
    "\n",
    "# Set model to eval mode\n",
    "model.eval()\n",
    "\n",
    "# Convert test data to tensors\n",
    "X_test_tensor = torch.tensor(X_test, dtype=torch.float32)\n",
    "y_test_tensor = torch.tensor(y_test, dtype=torch.long)\n",
    "\n",
    "# Create DataLoader for batch prediction\n",
    "test_dataset = TensorDataset(X_test_tensor, y_test_tensor)\n",
    "test_loader = DataLoader(test_dataset, batch_size=128, shuffle=False)\n",
    "\n",
    "# Collect predictions\n",
    "all_preds = []\n",
    "all_targets = []\n",
    "\n",
    "with torch.no_grad():\n",
    "    for batch in test_loader:\n",
    "        x, y = batch\n",
    "        logits = model(x)\n",
    "        preds = torch.argmax(logits, dim=1)\n",
    "\n",
    "        all_preds.extend(preds.cpu().numpy())\n",
    "        all_targets.extend(y.cpu().numpy())\n",
    "\n",
    "# Plot confusion matrix and classification report\n",
    "def print_confusion_matrix(y_true, y_pred, report=True):\n",
    "    labels = sorted(list(set(y_true)))\n",
    "    cmx_data = confusion_matrix(y_true, y_pred, labels=labels)\n",
    "    \n",
    "    df_cmx = pd.DataFrame(cmx_data, index=labels, columns=labels)\n",
    " \n",
    "    fig, ax = plt.subplots(figsize=(7, 6))\n",
    "    sns.heatmap(df_cmx, annot=True, fmt='g', square=False, cmap='Blues')\n",
    "    ax.set_ylim(len(labels), 0)\n",
    "    ax.set_xlabel('Predicted')\n",
    "    ax.set_ylabel('True')\n",
    "    plt.title(\"Confusion Matrix\")\n",
    "    plt.show()\n",
    "    \n",
    "    if report:\n",
    "        print('Classification Report')\n",
    "        print(classification_report(y_true, y_pred))\n",
    "\n",
    "# Show results\n",
    "print_confusion_matrix(all_targets, all_preds)\n"
   ]
  },
  {
   "cell_type": "code",
   "execution_count": 76,
   "id": "7257b297-7eb2-4567-9941-0c1ecbaef901",
   "metadata": {},
   "outputs": [],
   "source": [
    "# Save only the weights\n",
    "torch.save(model.state_dict(), \"model/keypoint_classifier/keypoint_classifier_weights.pth\")\n"
   ]
  },
  {
   "cell_type": "code",
   "execution_count": 77,
   "id": "375c6191-f06b-49b3-9381-cb6f3331310e",
   "metadata": {},
   "outputs": [
    {
     "name": "stdout",
     "output_type": "stream",
     "text": [
      "[4.0818788e-02 9.4454193e-01 2.1285934e-05 1.1034387e-02 3.5836650e-03]\n",
      "1\n"
     ]
    },
    {
     "name": "stderr",
     "output_type": "stream",
     "text": [
      "C:\\Users\\houci\\AppData\\Local\\Temp\\ipykernel_12872\\3493685169.py:10: FutureWarning: You are using `torch.load` with `weights_only=False` (the current default value), which uses the default pickle module implicitly. It is possible to construct malicious pickle data which will execute arbitrary code during unpickling (See https://github.com/pytorch/pytorch/blob/main/SECURITY.md#untrusted-models for more details). In a future release, the default value for `weights_only` will be flipped to `True`. This limits the functions that could be executed during unpickling. Arbitrary objects will no longer be allowed to be loaded via this mode unless they are explicitly allowlisted by the user via `torch.serialization.add_safe_globals`. We recommend you start setting `weights_only=True` for any use case where you don't have full control of the loaded file. Please open an issue on GitHub for any issues related to this experimental feature.\n",
      "  model.load_state_dict(torch.load(\"model/keypoint_classifier/keypoint_classifier_weights.pth\"))\n"
     ]
    }
   ],
   "source": [
    "from model.keypoint_classifier.keypoint_classifier_pyt import KeyPointClassifier\n",
    "\n",
    "  # your model definition\n",
    "import torch\n",
    "\n",
    "# Rebuild the model architecture\n",
    "model = KeypointClassifier()\n",
    "\n",
    "# Load the saved weights\n",
    "model.load_state_dict(torch.load(\"model/keypoint_classifier/keypoint_classifier_weights.pth\"))\n",
    "model.eval()\n",
    "\n",
    "\n",
    "# Prepare input tensor (e.g., one sample from X_test)\n",
    "input_tensor = torch.tensor([X_test[0]], dtype=torch.float32)\n",
    "\n",
    "# Inference\n",
    "with torch.no_grad():\n",
    "    output = model(input_tensor)\n",
    "    probs = torch.softmax(output, dim=1).squeeze()\n",
    "    predicted_class = torch.argmax(probs).item()\n",
    "\n",
    "# Output results\n",
    "print(probs.numpy())\n",
    "print(predicted_class)\n"
   ]
  },
  {
   "cell_type": "code",
   "execution_count": null,
   "id": "c4c93bb5-f06a-4dae-8566-71d9d1799973",
   "metadata": {},
   "outputs": [],
   "source": []
  },
  {
   "cell_type": "code",
   "execution_count": null,
   "id": "ce28877d-6972-4adc-87e1-3799f08e5463",
   "metadata": {},
   "outputs": [],
   "source": []
  }
 ],
 "metadata": {
  "kernelspec": {
   "display_name": "Python (Torch)",
   "language": "python",
   "name": "torch_env"
  },
  "language_info": {
   "codemirror_mode": {
    "name": "ipython",
    "version": 3
   },
   "file_extension": ".py",
   "mimetype": "text/x-python",
   "name": "python",
   "nbconvert_exporter": "python",
   "pygments_lexer": "ipython3",
   "version": "3.8.10"
  }
 },
 "nbformat": 4,
 "nbformat_minor": 5
}
