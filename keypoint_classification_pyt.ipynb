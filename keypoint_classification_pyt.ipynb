{
 "cells": [
  {
   "cell_type": "code",
   "execution_count": 210,
   "id": "9cdc8b86-cdef-4e61-b2e8-3cd389e40f19",
   "metadata": {},
   "outputs": [],
   "source": [
    "import numpy as np\n",
    "import torch\n",
    "from torch.utils.data import DataLoader, TensorDataset, random_split\n",
    "import torch.nn as nn\n",
    "import torch.nn.functional as F\n",
    "import pytorch_lightning as pl\n",
    "from sklearn.model_selection import train_test_split"
   ]
  },
  {
   "cell_type": "code",
   "execution_count": 211,
   "id": "ed5c8588-7f6e-4988-af7d-a2e960db5954",
   "metadata": {},
   "outputs": [
    {
     "name": "stderr",
     "output_type": "stream",
     "text": [
      "Seed set to 42\n"
     ]
    },
    {
     "data": {
      "text/plain": [
       "42"
      ]
     },
     "execution_count": 211,
     "metadata": {},
     "output_type": "execute_result"
    }
   ],
   "source": [
    "# Configuration\n",
    "RANDOM_SEED = 42\n",
    "pl.seed_everything(RANDOM_SEED)"
   ]
  },
  {
   "cell_type": "code",
   "execution_count": 212,
   "id": "175f1668-fc0b-404f-a86f-5c96cf5c7c9f",
   "metadata": {},
   "outputs": [],
   "source": [
    "dataset_path = 'model/keypoint_classifier/keypoint.csv'\n",
    "model_save_path = 'model/keypoint_classifier/keypoint_classifier.ckpt'\n",
    "NUM_CLASSES = 4"
   ]
  },
  {
   "cell_type": "code",
   "execution_count": 213,
   "id": "72aa669f-f09c-4596-ac82-e83845e6333d",
   "metadata": {},
   "outputs": [],
   "source": [
    "# Load dataset\n",
    "X = np.loadtxt(dataset_path, delimiter=',', dtype='float32', usecols=list(range(1, 21 * 2 + 1)))\n",
    "y = np.loadtxt(dataset_path, delimiter=',', dtype='int32', usecols=(0))"
   ]
  },
  {
   "cell_type": "code",
   "execution_count": 214,
   "id": "7f866a39-9f70-4539-b82d-45eb049dbf9b",
   "metadata": {},
   "outputs": [],
   "source": [
    "# Train/test split\n",
    "X_train, X_test, y_train, y_test = train_test_split(X, y, train_size=0.75, random_state=RANDOM_SEED)"
   ]
  },
  {
   "cell_type": "code",
   "execution_count": 215,
   "id": "8bf656f9-de93-403f-bf9c-8aee000edd52",
   "metadata": {},
   "outputs": [],
   "source": [
    "# Convert to torch tensors\n",
    "X_train_tensor = torch.tensor(X_train, dtype=torch.float32)\n",
    "y_train_tensor = torch.tensor(y_train, dtype=torch.long)\n",
    "X_test_tensor = torch.tensor(X_test, dtype=torch.float32)\n",
    "y_test_tensor = torch.tensor(y_test, dtype=torch.long)\n",
    "\n",
    "train_dataset = TensorDataset(X_train_tensor, y_train_tensor)\n",
    "test_dataset = TensorDataset(X_test_tensor, y_test_tensor)\n",
    "\n",
    "train_loader = DataLoader(train_dataset, batch_size=128, shuffle=True)\n",
    "val_loader = DataLoader(test_dataset, batch_size=128)"
   ]
  },
  {
   "cell_type": "code",
   "execution_count": 216,
   "id": "ba417296-8c19-48e7-91e3-e0b4d3dc3999",
   "metadata": {},
   "outputs": [],
   "source": [
    "from torchmetrics.classification import Accuracy\n"
   ]
  },
  {
   "cell_type": "code",
   "execution_count": 217,
   "id": "ee2a1133-7efd-48ef-9332-33c84a8ffb55",
   "metadata": {},
   "outputs": [],
   "source": [
    "# Lightning module\n",
    "class KeypointClassifier(pl.LightningModule):\n",
    "    def __init__(self):\n",
    "        super().__init__()\n",
    "        self.model = nn.Sequential(\n",
    "            nn.Dropout(0.2),\n",
    "            nn.Linear(21 * 2, 20),\n",
    "            nn.ReLU(),\n",
    "            nn.Dropout(0.4),\n",
    "            nn.Linear(20, 10),\n",
    "            nn.ReLU(),\n",
    "            nn.Linear(10, NUM_CLASSES)\n",
    "        )\n",
    "        self.accuracy = Accuracy(task='multiclass', num_classes=NUM_CLASSES)\n",
    "\n",
    "    def forward(self, x):\n",
    "        return self.model(x)\n",
    "\n",
    "    def training_step(self, batch, batch_idx):\n",
    "        x, y = batch\n",
    "        logits = self(x)\n",
    "        loss = F.cross_entropy(logits, y)\n",
    "        acc = self.accuracy(logits, y)\n",
    "        self.log('train_loss', loss)\n",
    "        self.log('train_acc', acc, prog_bar=True)\n",
    "        return loss\n",
    "\n",
    "    def validation_step(self, batch, batch_idx):\n",
    "        x, y = batch\n",
    "        logits = self(x)\n",
    "        loss = F.cross_entropy(logits, y)\n",
    "        acc = self.accuracy(logits, y)\n",
    "        self.log('val_loss', loss)\n",
    "        self.log('val_acc', acc, prog_bar=True)\n",
    "\n",
    "    def configure_optimizers(self):\n",
    "        return torch.optim.Adam(self.parameters(), lr=1e-3)"
   ]
  },
  {
   "cell_type": "code",
   "execution_count": 218,
   "id": "b0c3b529-32ea-4be3-b201-64c1ef6ae530",
   "metadata": {},
   "outputs": [],
   "source": [
    "# Initialize model\n",
    "model = KeypointClassifier()"
   ]
  },
  {
   "cell_type": "code",
   "execution_count": 219,
   "id": "da6a63a2-36ef-4236-81af-b4449c0d234b",
   "metadata": {},
   "outputs": [],
   "source": [
    "# Callbacks\n",
    "early_stop_callback = pl.callbacks.EarlyStopping(monitor=\"val_loss\", patience=20, verbose=True)\n",
    "checkpoint_callback = pl.callbacks.ModelCheckpoint(\n",
    "    dirpath='model/keypoint_classifier/',\n",
    "    filename='keypoint_classifier',\n",
    "    save_top_k=1,\n",
    "    monitor='val_loss',\n",
    "    mode='min'\n",
    ")"
   ]
  },
  {
   "cell_type": "code",
   "execution_count": 220,
   "id": "47df2f96-fc5c-4ba5-93af-d7c64622df45",
   "metadata": {},
   "outputs": [
    {
     "name": "stderr",
     "output_type": "stream",
     "text": [
      "GPU available: False, used: False\n",
      "TPU available: False, using: 0 TPU cores\n",
      "HPU available: False, using: 0 HPUs\n"
     ]
    }
   ],
   "source": [
    "# Trainer\n",
    "trainer = pl.Trainer(\n",
    "    max_epochs=1000,\n",
    "    callbacks=[early_stop_callback, checkpoint_callback],\n",
    "    deterministic=True\n",
    ")"
   ]
  },
  {
   "cell_type": "code",
   "execution_count": 221,
   "id": "3254479f-6a7e-4dde-89f3-60d95fb4dff4",
   "metadata": {},
   "outputs": [
    {
     "name": "stderr",
     "output_type": "stream",
     "text": [
      "C:\\Users\\houci\\AppData\\Local\\Programs\\Python\\Python38\\lib\\site-packages\\pytorch_lightning\\callbacks\\model_checkpoint.py:654: Checkpoint directory C:\\Users\\houci\\Documents\\ENSAM\\3eme annee\\S6\\Computer Vision\\hand-gesture-recognition-mediapipe-main\\model\\keypoint_classifier exists and is not empty.\n",
      "\n",
      "  | Name     | Type               | Params | Mode \n",
      "--------------------------------------------------------\n",
      "0 | model    | Sequential         | 1.1 K  | train\n",
      "1 | accuracy | MulticlassAccuracy | 0      | train\n",
      "--------------------------------------------------------\n",
      "1.1 K     Trainable params\n",
      "0         Non-trainable params\n",
      "1.1 K     Total params\n",
      "0.004     Total estimated model params size (MB)\n",
      "9         Modules in train mode\n",
      "0         Modules in eval mode\n"
     ]
    },
    {
     "name": "stdout",
     "output_type": "stream",
     "text": [
      "                                                                                                                       "
     ]
    },
    {
     "name": "stderr",
     "output_type": "stream",
     "text": [
      "C:\\Users\\houci\\AppData\\Local\\Programs\\Python\\Python38\\lib\\site-packages\\pytorch_lightning\\trainer\\connectors\\data_connector.py:424: The 'val_dataloader' does not have many workers which may be a bottleneck. Consider increasing the value of the `num_workers` argument` to `num_workers=3` in the `DataLoader` to improve performance.\n",
      "C:\\Users\\houci\\AppData\\Local\\Programs\\Python\\Python38\\lib\\site-packages\\pytorch_lightning\\trainer\\connectors\\data_connector.py:424: The 'train_dataloader' does not have many workers which may be a bottleneck. Consider increasing the value of the `num_workers` argument` to `num_workers=3` in the `DataLoader` to improve performance.\n",
      "C:\\Users\\houci\\AppData\\Local\\Programs\\Python\\Python38\\lib\\site-packages\\pytorch_lightning\\loops\\fit_loop.py:298: The number of training batches (21) is smaller than the logging interval Trainer(log_every_n_steps=50). Set a lower value for log_every_n_steps if you want to see logs for the training epoch.\n"
     ]
    },
    {
     "name": "stdout",
     "output_type": "stream",
     "text": [
      "Epoch 0: 100%|█████████████████████████████████████████████| 21/21 [00:00<00:00, 67.15it/s, v_num=11, train_acc=0.0755]\n",
      "Validation: |                                                                                    | 0/? [00:00<?, ?it/s]\u001b[A\n",
      "Validation:   0%|                                                                                | 0/7 [00:00<?, ?it/s]\u001b[A\n",
      "Validation DataLoader 0:   0%|                                                                   | 0/7 [00:00<?, ?it/s]\u001b[A\n",
      "Validation DataLoader 0:  14%|████████▍                                                  | 1/7 [00:00<00:00, 62.67it/s]\u001b[A\n",
      "Validation DataLoader 0:  29%|████████████████▊                                          | 2/7 [00:00<00:00, 77.13it/s]\u001b[A\n",
      "Validation DataLoader 0:  43%|█████████████████████████▎                                 | 3/7 [00:00<00:00, 73.44it/s]\u001b[A\n",
      "Validation DataLoader 0:  57%|█████████████████████████████████▋                         | 4/7 [00:00<00:00, 76.08it/s]\u001b[A\n",
      "Validation DataLoader 0:  71%|██████████████████████████████████████████▏                | 5/7 [00:00<00:00, 75.58it/s]\u001b[A\n",
      "Validation DataLoader 0:  86%|██████████████████████████████████████████████████▌        | 6/7 [00:00<00:00, 70.39it/s]\u001b[A\n",
      "Validation DataLoader 0: 100%|███████████████████████████████████████████████████████████| 7/7 [00:00<00:00, 68.61it/s]\u001b[A\n",
      "Epoch 0: 100%|█████████████████████████████| 21/21 [00:00<00:00, 46.40it/s, v_num=11, train_acc=0.0755, val_acc=0.0482]\u001b[A"
     ]
    },
    {
     "name": "stderr",
     "output_type": "stream",
     "text": [
      "Metric val_loss improved. New best score: 1.454\n"
     ]
    },
    {
     "name": "stdout",
     "output_type": "stream",
     "text": [
      "Epoch 1: 100%|██████████████████████████████| 21/21 [00:00<00:00, 68.03it/s, v_num=11, train_acc=0.189, val_acc=0.0482]\n",
      "Validation: |                                                                                    | 0/? [00:00<?, ?it/s]\u001b[A\n",
      "Validation:   0%|                                                                                | 0/7 [00:00<?, ?it/s]\u001b[A\n",
      "Validation DataLoader 0:   0%|                                                                   | 0/7 [00:00<?, ?it/s]\u001b[A\n",
      "Validation DataLoader 0:  14%|████████▍                                                  | 1/7 [00:00<00:00, 66.84it/s]\u001b[A\n",
      "Validation DataLoader 0:  29%|████████████████▊                                          | 2/7 [00:00<00:00, 74.23it/s]\u001b[A\n",
      "Validation DataLoader 0:  43%|█████████████████████████▎                                 | 3/7 [00:00<00:00, 79.12it/s]\u001b[A\n",
      "Validation DataLoader 0:  57%|█████████████████████████████████▋                         | 4/7 [00:00<00:00, 80.19it/s]\u001b[A\n",
      "Validation DataLoader 0:  71%|██████████████████████████████████████████▏                | 5/7 [00:00<00:00, 82.17it/s]\u001b[A\n",
      "Validation DataLoader 0:  86%|██████████████████████████████████████████████████▌        | 6/7 [00:00<00:00, 82.39it/s]\u001b[A\n",
      "Validation DataLoader 0: 100%|███████████████████████████████████████████████████████████| 7/7 [00:00<00:00, 81.60it/s]\u001b[A\n",
      "Epoch 1: 100%|███████████████████████████████| 21/21 [00:00<00:00, 48.93it/s, v_num=11, train_acc=0.189, val_acc=0.358]\u001b[A"
     ]
    },
    {
     "name": "stderr",
     "output_type": "stream",
     "text": [
      "Metric val_loss improved by 0.116 >= min_delta = 0.0. New best score: 1.337\n"
     ]
    },
    {
     "name": "stdout",
     "output_type": "stream",
     "text": [
      "Epoch 2: 100%|███████████████████████████████| 21/21 [00:00<00:00, 58.36it/s, v_num=11, train_acc=0.340, val_acc=0.358]\n",
      "Validation: |                                                                                    | 0/? [00:00<?, ?it/s]\u001b[A\n",
      "Validation:   0%|                                                                                | 0/7 [00:00<?, ?it/s]\u001b[A\n",
      "Validation DataLoader 0:   0%|                                                                   | 0/7 [00:00<?, ?it/s]\u001b[A\n",
      "Validation DataLoader 0:  14%|████████▍                                                  | 1/7 [00:00<00:00, 61.22it/s]\u001b[A\n",
      "Validation DataLoader 0:  29%|████████████████▊                                          | 2/7 [00:00<00:00, 71.24it/s]\u001b[A\n",
      "Validation DataLoader 0:  43%|█████████████████████████▎                                 | 3/7 [00:00<00:00, 68.73it/s]\u001b[A\n",
      "Validation DataLoader 0:  57%|█████████████████████████████████▋                         | 4/7 [00:00<00:00, 68.02it/s]\u001b[A\n",
      "Validation DataLoader 0:  71%|██████████████████████████████████████████▏                | 5/7 [00:00<00:00, 69.67it/s]\u001b[A\n",
      "Validation DataLoader 0:  86%|██████████████████████████████████████████████████▌        | 6/7 [00:00<00:00, 70.91it/s]\u001b[A\n",
      "Validation DataLoader 0: 100%|███████████████████████████████████████████████████████████| 7/7 [00:00<00:00, 71.28it/s]\u001b[A\n",
      "Epoch 2: 100%|███████████████████████████████| 21/21 [00:00<00:00, 42.08it/s, v_num=11, train_acc=0.340, val_acc=0.404]\u001b[A"
     ]
    },
    {
     "name": "stderr",
     "output_type": "stream",
     "text": [
      "Metric val_loss improved by 0.164 >= min_delta = 0.0. New best score: 1.174\n"
     ]
    },
    {
     "name": "stdout",
     "output_type": "stream",
     "text": [
      "Epoch 3: 100%|███████████████████████████████| 21/21 [00:00<00:00, 58.07it/s, v_num=11, train_acc=0.509, val_acc=0.404]\n",
      "Validation: |                                                                                    | 0/? [00:00<?, ?it/s]\u001b[A\n",
      "Validation:   0%|                                                                                | 0/7 [00:00<?, ?it/s]\u001b[A\n",
      "Validation DataLoader 0:   0%|                                                                   | 0/7 [00:00<?, ?it/s]\u001b[A\n",
      "Validation DataLoader 0:  14%|████████▍                                                  | 1/7 [00:00<00:00, 66.18it/s]\u001b[A\n",
      "Validation DataLoader 0:  29%|████████████████▊                                          | 2/7 [00:00<00:00, 73.48it/s]\u001b[A\n",
      "Validation DataLoader 0:  43%|█████████████████████████▎                                 | 3/7 [00:00<00:00, 74.34it/s]\u001b[A\n",
      "Validation DataLoader 0:  57%|█████████████████████████████████▋                         | 4/7 [00:00<00:00, 73.17it/s]\u001b[A\n",
      "Validation DataLoader 0:  71%|██████████████████████████████████████████▏                | 5/7 [00:00<00:00, 74.90it/s]\u001b[A\n",
      "Validation DataLoader 0:  86%|██████████████████████████████████████████████████▌        | 6/7 [00:00<00:00, 78.19it/s]\u001b[A\n",
      "Validation DataLoader 0: 100%|███████████████████████████████████████████████████████████| 7/7 [00:00<00:00, 77.82it/s]\u001b[A\n",
      "Epoch 3: 100%|███████████████████████████████| 21/21 [00:00<00:00, 43.50it/s, v_num=11, train_acc=0.509, val_acc=0.679]\u001b[A"
     ]
    },
    {
     "name": "stderr",
     "output_type": "stream",
     "text": [
      "Metric val_loss improved by 0.143 >= min_delta = 0.0. New best score: 1.031\n"
     ]
    },
    {
     "name": "stdout",
     "output_type": "stream",
     "text": [
      "Epoch 4: 100%|███████████████████████████████| 21/21 [00:00<00:00, 67.73it/s, v_num=11, train_acc=0.604, val_acc=0.679]\n",
      "Validation: |                                                                                    | 0/? [00:00<?, ?it/s]\u001b[A\n",
      "Validation:   0%|                                                                                | 0/7 [00:00<?, ?it/s]\u001b[A\n",
      "Validation DataLoader 0:   0%|                                                                   | 0/7 [00:00<?, ?it/s]\u001b[A\n",
      "Validation DataLoader 0:  14%|████████▍                                                  | 1/7 [00:00<00:00, 66.85it/s]\u001b[A\n",
      "Validation DataLoader 0:  29%|████████████████▊                                          | 2/7 [00:00<00:00, 74.28it/s]\u001b[A\n",
      "Validation DataLoader 0:  43%|█████████████████████████▎                                 | 3/7 [00:00<00:00, 81.30it/s]\u001b[A\n",
      "Validation DataLoader 0:  57%|█████████████████████████████████▋                         | 4/7 [00:00<00:00, 83.65it/s]\u001b[A\n",
      "Validation DataLoader 0:  71%|██████████████████████████████████████████▏                | 5/7 [00:00<00:00, 83.22it/s]\u001b[A\n",
      "Validation DataLoader 0:  86%|██████████████████████████████████████████████████▌        | 6/7 [00:00<00:00, 82.06it/s]\u001b[A\n",
      "Validation DataLoader 0: 100%|███████████████████████████████████████████████████████████| 7/7 [00:00<00:00, 83.25it/s]\u001b[A\n",
      "Epoch 4: 100%|███████████████████████████████| 21/21 [00:00<00:00, 48.78it/s, v_num=11, train_acc=0.604, val_acc=0.639]\u001b[A"
     ]
    },
    {
     "name": "stderr",
     "output_type": "stream",
     "text": [
      "Metric val_loss improved by 0.087 >= min_delta = 0.0. New best score: 0.944\n"
     ]
    },
    {
     "name": "stdout",
     "output_type": "stream",
     "text": [
      "Epoch 5: 100%|███████████████████████████████| 21/21 [00:00<00:00, 67.73it/s, v_num=11, train_acc=0.566, val_acc=0.639]\n",
      "Validation: |                                                                                    | 0/? [00:00<?, ?it/s]\u001b[A\n",
      "Validation:   0%|                                                                                | 0/7 [00:00<?, ?it/s]\u001b[A\n",
      "Validation DataLoader 0:   0%|                                                                   | 0/7 [00:00<?, ?it/s]\u001b[A\n",
      "Validation DataLoader 0:  14%|████████▍                                                  | 1/7 [00:00<00:00, 49.86it/s]\u001b[A\n",
      "Validation DataLoader 0:  29%|████████████████▊                                          | 2/7 [00:00<00:00, 62.05it/s]\u001b[A\n",
      "Validation DataLoader 0:  43%|█████████████████████████▎                                 | 3/7 [00:00<00:00, 65.87it/s]\u001b[A\n",
      "Validation DataLoader 0:  57%|█████████████████████████████████▋                         | 4/7 [00:00<00:00, 69.55it/s]\u001b[A\n",
      "Validation DataLoader 0:  71%|██████████████████████████████████████████▏                | 5/7 [00:00<00:00, 73.01it/s]\u001b[A\n",
      "Validation DataLoader 0:  86%|██████████████████████████████████████████████████▌        | 6/7 [00:00<00:00, 73.66it/s]\u001b[A\n",
      "Validation DataLoader 0: 100%|███████████████████████████████████████████████████████████| 7/7 [00:00<00:00, 76.57it/s]\u001b[A\n",
      "Epoch 5: 100%|███████████████████████████████| 21/21 [00:00<00:00, 47.98it/s, v_num=11, train_acc=0.566, val_acc=0.725]\u001b[A"
     ]
    },
    {
     "name": "stderr",
     "output_type": "stream",
     "text": [
      "Metric val_loss improved by 0.070 >= min_delta = 0.0. New best score: 0.874\n"
     ]
    },
    {
     "name": "stdout",
     "output_type": "stream",
     "text": [
      "Epoch 6: 100%|███████████████████████████████| 21/21 [00:00<00:00, 67.67it/s, v_num=11, train_acc=0.604, val_acc=0.725]\n",
      "Validation: |                                                                                    | 0/? [00:00<?, ?it/s]\u001b[A\n",
      "Validation:   0%|                                                                                | 0/7 [00:00<?, ?it/s]\u001b[A\n",
      "Validation DataLoader 0:   0%|                                                                   | 0/7 [00:00<?, ?it/s]\u001b[A\n",
      "Validation DataLoader 0:  14%|████████▍                                                  | 1/7 [00:00<00:00, 66.94it/s]\u001b[A\n",
      "Validation DataLoader 0:  29%|████████████████▊                                          | 2/7 [00:00<00:00, 74.33it/s]\u001b[A\n",
      "Validation DataLoader 0:  43%|█████████████████████████▎                                 | 3/7 [00:00<00:00, 79.01it/s]\u001b[A\n",
      "Validation DataLoader 0:  57%|█████████████████████████████████▋                         | 4/7 [00:00<00:00, 82.16it/s]\u001b[A\n",
      "Validation DataLoader 0:  71%|██████████████████████████████████████████▏                | 5/7 [00:00<00:00, 82.44it/s]\u001b[A\n",
      "Validation DataLoader 0:  86%|██████████████████████████████████████████████████▌        | 6/7 [00:00<00:00, 84.60it/s]\u001b[A\n",
      "Validation DataLoader 0: 100%|███████████████████████████████████████████████████████████| 7/7 [00:00<00:00, 83.35it/s]\u001b[A\n",
      "Epoch 6: 100%|███████████████████████████████| 21/21 [00:00<00:00, 49.63it/s, v_num=11, train_acc=0.604, val_acc=0.742]\u001b[A"
     ]
    },
    {
     "name": "stderr",
     "output_type": "stream",
     "text": [
      "Metric val_loss improved by 0.061 >= min_delta = 0.0. New best score: 0.813\n"
     ]
    },
    {
     "name": "stdout",
     "output_type": "stream",
     "text": [
      "Epoch 7: 100%|███████████████████████████████| 21/21 [00:00<00:00, 67.55it/s, v_num=11, train_acc=0.604, val_acc=0.742]\n",
      "Validation: |                                                                                    | 0/? [00:00<?, ?it/s]\u001b[A\n",
      "Validation:   0%|                                                                                | 0/7 [00:00<?, ?it/s]\u001b[A\n",
      "Validation DataLoader 0:   0%|                                                                   | 0/7 [00:00<?, ?it/s]\u001b[A\n",
      "Validation DataLoader 0:  14%|████████▍                                                  | 1/7 [00:00<00:00, 65.28it/s]\u001b[A\n",
      "Validation DataLoader 0:  29%|████████████████▊                                          | 2/7 [00:00<00:00, 75.94it/s]\u001b[A\n",
      "Validation DataLoader 0:  43%|█████████████████████████▎                                 | 3/7 [00:00<00:00, 78.32it/s]\u001b[A\n",
      "Validation DataLoader 0:  57%|█████████████████████████████████▋                         | 4/7 [00:00<00:00, 81.62it/s]\u001b[A\n",
      "Validation DataLoader 0:  71%|██████████████████████████████████████████▏                | 5/7 [00:00<00:00, 83.01it/s]\u001b[A\n",
      "Validation DataLoader 0:  86%|██████████████████████████████████████████████████▌        | 6/7 [00:00<00:00, 83.10it/s]\u001b[A\n",
      "Validation DataLoader 0: 100%|███████████████████████████████████████████████████████████| 7/7 [00:00<00:00, 80.88it/s]\u001b[A\n",
      "Epoch 7: 100%|███████████████████████████████| 21/21 [00:00<00:00, 49.16it/s, v_num=11, train_acc=0.604, val_acc=0.774]\u001b[A"
     ]
    },
    {
     "name": "stderr",
     "output_type": "stream",
     "text": [
      "Metric val_loss improved by 0.061 >= min_delta = 0.0. New best score: 0.753\n"
     ]
    },
    {
     "name": "stdout",
     "output_type": "stream",
     "text": [
      "Epoch 8: 100%|███████████████████████████████| 21/21 [00:00<00:00, 70.28it/s, v_num=11, train_acc=0.717, val_acc=0.774]\n",
      "Validation: |                                                                                    | 0/? [00:00<?, ?it/s]\u001b[A\n",
      "Validation:   0%|                                                                                | 0/7 [00:00<?, ?it/s]\u001b[A\n",
      "Validation DataLoader 0:   0%|                                                                   | 0/7 [00:00<?, ?it/s]\u001b[A\n",
      "Validation DataLoader 0:  14%|████████▍                                                  | 1/7 [00:00<00:00, 63.82it/s]\u001b[A\n",
      "Validation DataLoader 0:  29%|████████████████▊                                          | 2/7 [00:00<00:00, 70.81it/s]\u001b[A\n",
      "Validation DataLoader 0:  43%|█████████████████████████▎                                 | 3/7 [00:00<00:00, 78.50it/s]\u001b[A\n",
      "Validation DataLoader 0:  57%|█████████████████████████████████▋                         | 4/7 [00:00<00:00, 79.20it/s]\u001b[A\n",
      "Validation DataLoader 0:  71%|██████████████████████████████████████████▏                | 5/7 [00:00<00:00, 81.33it/s]\u001b[A\n",
      "Validation DataLoader 0:  86%|██████████████████████████████████████████████████▌        | 6/7 [00:00<00:00, 82.82it/s]\u001b[A\n",
      "Validation DataLoader 0: 100%|███████████████████████████████████████████████████████████| 7/7 [00:00<00:00, 83.91it/s]\u001b[A\n",
      "Epoch 8: 100%|███████████████████████████████| 21/21 [00:00<00:00, 50.83it/s, v_num=11, train_acc=0.717, val_acc=0.783]\u001b[A"
     ]
    },
    {
     "name": "stderr",
     "output_type": "stream",
     "text": [
      "Metric val_loss improved by 0.060 >= min_delta = 0.0. New best score: 0.693\n"
     ]
    },
    {
     "name": "stdout",
     "output_type": "stream",
     "text": [
      "Epoch 9: 100%|███████████████████████████████| 21/21 [00:00<00:00, 67.86it/s, v_num=11, train_acc=0.660, val_acc=0.783]\n",
      "Validation: |                                                                                    | 0/? [00:00<?, ?it/s]\u001b[A\n",
      "Validation:   0%|                                                                                | 0/7 [00:00<?, ?it/s]\u001b[A\n",
      "Validation DataLoader 0:   0%|                                                                   | 0/7 [00:00<?, ?it/s]\u001b[A\n",
      "Validation DataLoader 0:  14%|████████▍                                                  | 1/7 [00:00<00:00, 63.52it/s]\u001b[A\n",
      "Validation DataLoader 0:  29%|████████████████▊                                          | 2/7 [00:00<00:00, 67.84it/s]\u001b[A\n",
      "Validation DataLoader 0:  43%|█████████████████████████▎                                 | 3/7 [00:00<00:00, 76.95it/s]\u001b[A\n",
      "Validation DataLoader 0:  57%|█████████████████████████████████▋                         | 4/7 [00:00<00:00, 78.50it/s]\u001b[A\n",
      "Validation DataLoader 0:  71%|██████████████████████████████████████████▏                | 5/7 [00:00<00:00, 78.50it/s]\u001b[A\n",
      "Validation DataLoader 0:  86%|██████████████████████████████████████████████████▌        | 6/7 [00:00<00:00, 78.51it/s]\u001b[A\n",
      "Validation DataLoader 0: 100%|███████████████████████████████████████████████████████████| 7/7 [00:00<00:00, 80.10it/s]\u001b[A\n",
      "Epoch 9: 100%|███████████████████████████████| 21/21 [00:00<00:00, 48.87it/s, v_num=11, train_acc=0.660, val_acc=0.799]\u001b[A"
     ]
    },
    {
     "name": "stderr",
     "output_type": "stream",
     "text": [
      "Metric val_loss improved by 0.056 >= min_delta = 0.0. New best score: 0.636\n"
     ]
    },
    {
     "name": "stdout",
     "output_type": "stream",
     "text": [
      "Epoch 10: 100%|██████████████████████████████| 21/21 [00:00<00:00, 70.84it/s, v_num=11, train_acc=0.660, val_acc=0.799]\n",
      "Validation: |                                                                                    | 0/? [00:00<?, ?it/s]\u001b[A\n",
      "Validation:   0%|                                                                                | 0/7 [00:00<?, ?it/s]\u001b[A\n",
      "Validation DataLoader 0:   0%|                                                                   | 0/7 [00:00<?, ?it/s]\u001b[A\n",
      "Validation DataLoader 0:  14%|████████▍                                                  | 1/7 [00:00<00:00, 62.49it/s]\u001b[A\n",
      "Validation DataLoader 0:  29%|████████████████▊                                          | 2/7 [00:00<00:00, 70.62it/s]\u001b[A\n",
      "Validation DataLoader 0:  43%|█████████████████████████▎                                 | 3/7 [00:00<00:00, 80.44it/s]\u001b[A\n",
      "Validation DataLoader 0:  57%|█████████████████████████████████▋                         | 4/7 [00:00<00:00, 71.21it/s]\u001b[A\n",
      "Validation DataLoader 0:  71%|██████████████████████████████████████████▏                | 5/7 [00:00<00:00, 75.37it/s]\u001b[A\n",
      "Validation DataLoader 0:  86%|██████████████████████████████████████████████████▌        | 6/7 [00:00<00:00, 75.59it/s]\u001b[A\n",
      "Validation DataLoader 0: 100%|███████████████████████████████████████████████████████████| 7/7 [00:00<00:00, 76.01it/s]\u001b[A\n",
      "Epoch 10: 100%|██████████████████████████████| 21/21 [00:00<00:00, 50.00it/s, v_num=11, train_acc=0.660, val_acc=0.815]\u001b[A"
     ]
    },
    {
     "name": "stderr",
     "output_type": "stream",
     "text": [
      "Metric val_loss improved by 0.049 >= min_delta = 0.0. New best score: 0.587\n"
     ]
    },
    {
     "name": "stdout",
     "output_type": "stream",
     "text": [
      "Epoch 11: 100%|██████████████████████████████| 21/21 [00:00<00:00, 67.29it/s, v_num=11, train_acc=0.698, val_acc=0.815]\n",
      "Validation: |                                                                                    | 0/? [00:00<?, ?it/s]\u001b[A\n",
      "Validation:   0%|                                                                                | 0/7 [00:00<?, ?it/s]\u001b[A\n",
      "Validation DataLoader 0:   0%|                                                                   | 0/7 [00:00<?, ?it/s]\u001b[A\n",
      "Validation DataLoader 0:  14%|████████▍                                                  | 1/7 [00:00<00:00, 65.21it/s]\u001b[A\n",
      "Validation DataLoader 0:  29%|████████████████▊                                          | 2/7 [00:00<00:00, 75.64it/s]\u001b[A\n",
      "Validation DataLoader 0:  43%|█████████████████████████▎                                 | 3/7 [00:00<00:00, 76.72it/s]\u001b[A\n",
      "Validation DataLoader 0:  57%|█████████████████████████████████▋                         | 4/7 [00:00<00:00, 81.51it/s]\u001b[A\n",
      "Validation DataLoader 0:  71%|██████████████████████████████████████████▏                | 5/7 [00:00<00:00, 80.59it/s]\u001b[A\n",
      "Validation DataLoader 0:  86%|██████████████████████████████████████████████████▌        | 6/7 [00:00<00:00, 82.18it/s]\u001b[A\n",
      "Validation DataLoader 0: 100%|███████████████████████████████████████████████████████████| 7/7 [00:00<00:00, 80.48it/s]\u001b[A\n",
      "Epoch 11: 100%|██████████████████████████████| 21/21 [00:00<00:00, 48.67it/s, v_num=11, train_acc=0.698, val_acc=0.837]\u001b[A"
     ]
    },
    {
     "name": "stderr",
     "output_type": "stream",
     "text": [
      "Metric val_loss improved by 0.047 >= min_delta = 0.0. New best score: 0.540\n"
     ]
    },
    {
     "name": "stdout",
     "output_type": "stream",
     "text": [
      "Epoch 12: 100%|██████████████████████████████| 21/21 [00:00<00:00, 71.00it/s, v_num=11, train_acc=0.736, val_acc=0.837]\n",
      "Validation: |                                                                                    | 0/? [00:00<?, ?it/s]\u001b[A\n",
      "Validation:   0%|                                                                                | 0/7 [00:00<?, ?it/s]\u001b[A\n",
      "Validation DataLoader 0:   0%|                                                                   | 0/7 [00:00<?, ?it/s]\u001b[A\n",
      "Validation DataLoader 0:  14%|████████▍                                                  | 1/7 [00:00<00:00, 61.43it/s]\u001b[A\n",
      "Validation DataLoader 0:  29%|████████████████▊                                          | 2/7 [00:00<00:00, 66.14it/s]\u001b[A\n",
      "Validation DataLoader 0:  43%|█████████████████████████▎                                 | 3/7 [00:00<00:00, 73.12it/s]\u001b[A\n",
      "Validation DataLoader 0:  57%|█████████████████████████████████▋                         | 4/7 [00:00<00:00, 73.64it/s]\u001b[A\n",
      "Validation DataLoader 0:  71%|██████████████████████████████████████████▏                | 5/7 [00:00<00:00, 75.94it/s]\u001b[A\n",
      "Validation DataLoader 0:  86%|██████████████████████████████████████████████████▌        | 6/7 [00:00<00:00, 75.63it/s]\u001b[A\n",
      "Validation DataLoader 0: 100%|███████████████████████████████████████████████████████████| 7/7 [00:00<00:00, 77.70it/s]\u001b[A\n",
      "Epoch 12: 100%|██████████████████████████████| 21/21 [00:00<00:00, 49.47it/s, v_num=11, train_acc=0.736, val_acc=0.825]\u001b[A"
     ]
    },
    {
     "name": "stderr",
     "output_type": "stream",
     "text": [
      "Metric val_loss improved by 0.038 >= min_delta = 0.0. New best score: 0.502\n"
     ]
    },
    {
     "name": "stdout",
     "output_type": "stream",
     "text": [
      "Epoch 13: 100%|██████████████████████████████| 21/21 [00:00<00:00, 68.86it/s, v_num=11, train_acc=0.792, val_acc=0.825]\n",
      "Validation: |                                                                                    | 0/? [00:00<?, ?it/s]\u001b[A\n",
      "Validation:   0%|                                                                                | 0/7 [00:00<?, ?it/s]\u001b[A\n",
      "Validation DataLoader 0:   0%|                                                                   | 0/7 [00:00<?, ?it/s]\u001b[A\n",
      "Validation DataLoader 0:  14%|████████▍                                                  | 1/7 [00:00<00:00, 65.41it/s]\u001b[A\n",
      "Validation DataLoader 0:  29%|████████████████▊                                          | 2/7 [00:00<00:00, 75.51it/s]\u001b[A\n",
      "Validation DataLoader 0:  43%|█████████████████████████▎                                 | 3/7 [00:00<00:00, 77.24it/s]\u001b[A\n",
      "Validation DataLoader 0:  57%|█████████████████████████████████▋                         | 4/7 [00:00<00:00, 77.21it/s]\u001b[A\n",
      "Validation DataLoader 0:  71%|██████████████████████████████████████████▏                | 5/7 [00:00<00:00, 77.88it/s]\u001b[A\n",
      "Validation DataLoader 0:  86%|██████████████████████████████████████████████████▌        | 6/7 [00:00<00:00, 77.37it/s]\u001b[A\n",
      "Validation DataLoader 0: 100%|███████████████████████████████████████████████████████████| 7/7 [00:00<00:00, 78.19it/s]\u001b[A\n",
      "Epoch 13: 100%|██████████████████████████████| 21/21 [00:00<00:00, 49.43it/s, v_num=11, train_acc=0.792, val_acc=0.900]\u001b[A"
     ]
    },
    {
     "name": "stderr",
     "output_type": "stream",
     "text": [
      "Metric val_loss improved by 0.031 >= min_delta = 0.0. New best score: 0.471\n"
     ]
    },
    {
     "name": "stdout",
     "output_type": "stream",
     "text": [
      "Epoch 14: 100%|██████████████████████████████| 21/21 [00:00<00:00, 66.42it/s, v_num=11, train_acc=0.774, val_acc=0.900]\n",
      "Validation: |                                                                                    | 0/? [00:00<?, ?it/s]\u001b[A\n",
      "Validation:   0%|                                                                                | 0/7 [00:00<?, ?it/s]\u001b[A\n",
      "Validation DataLoader 0:   0%|                                                                   | 0/7 [00:00<?, ?it/s]\u001b[A\n",
      "Validation DataLoader 0:  14%|████████▍                                                  | 1/7 [00:00<00:00, 67.99it/s]\u001b[A\n",
      "Validation DataLoader 0:  29%|████████████████▊                                          | 2/7 [00:00<00:00, 79.42it/s]\u001b[A\n",
      "Validation DataLoader 0:  43%|█████████████████████████▎                                 | 3/7 [00:00<00:00, 80.75it/s]\u001b[A\n",
      "Validation DataLoader 0:  57%|█████████████████████████████████▋                         | 4/7 [00:00<00:00, 81.76it/s]\u001b[A\n",
      "Validation DataLoader 0:  71%|██████████████████████████████████████████▏                | 5/7 [00:00<00:00, 80.39it/s]\u001b[A\n",
      "Validation DataLoader 0:  86%|██████████████████████████████████████████████████▌        | 6/7 [00:00<00:00, 83.14it/s]\u001b[A\n",
      "Validation DataLoader 0: 100%|███████████████████████████████████████████████████████████| 7/7 [00:00<00:00, 82.09it/s]\u001b[A\n",
      "Epoch 14: 100%|██████████████████████████████| 21/21 [00:00<00:00, 49.17it/s, v_num=11, train_acc=0.774, val_acc=0.913]\u001b[A"
     ]
    },
    {
     "name": "stderr",
     "output_type": "stream",
     "text": [
      "Metric val_loss improved by 0.030 >= min_delta = 0.0. New best score: 0.441\n"
     ]
    },
    {
     "name": "stdout",
     "output_type": "stream",
     "text": [
      "Epoch 15: 100%|██████████████████████████████| 21/21 [00:00<00:00, 68.90it/s, v_num=11, train_acc=0.792, val_acc=0.913]\n",
      "Validation: |                                                                                    | 0/? [00:00<?, ?it/s]\u001b[A\n",
      "Validation:   0%|                                                                                | 0/7 [00:00<?, ?it/s]\u001b[A\n",
      "Validation DataLoader 0:   0%|                                                                   | 0/7 [00:00<?, ?it/s]\u001b[A\n",
      "Validation DataLoader 0:  14%|████████▍                                                  | 1/7 [00:00<00:00, 61.20it/s]\u001b[A\n",
      "Validation DataLoader 0:  29%|████████████████▊                                          | 2/7 [00:00<00:00, 69.83it/s]\u001b[A\n",
      "Validation DataLoader 0:  43%|█████████████████████████▎                                 | 3/7 [00:00<00:00, 74.51it/s]\u001b[A\n",
      "Validation DataLoader 0:  57%|█████████████████████████████████▋                         | 4/7 [00:00<00:00, 77.07it/s]\u001b[A\n",
      "Validation DataLoader 0:  71%|██████████████████████████████████████████▏                | 5/7 [00:00<00:00, 77.58it/s]\u001b[A\n",
      "Validation DataLoader 0:  86%|██████████████████████████████████████████████████▌        | 6/7 [00:00<00:00, 76.85it/s]\u001b[A\n",
      "Validation DataLoader 0: 100%|███████████████████████████████████████████████████████████| 7/7 [00:00<00:00, 76.68it/s]\u001b[A\n",
      "Epoch 15: 100%|██████████████████████████████| 21/21 [00:00<00:00, 48.88it/s, v_num=11, train_acc=0.792, val_acc=0.921]\u001b[A"
     ]
    },
    {
     "name": "stderr",
     "output_type": "stream",
     "text": [
      "Metric val_loss improved by 0.024 >= min_delta = 0.0. New best score: 0.417\n"
     ]
    },
    {
     "name": "stdout",
     "output_type": "stream",
     "text": [
      "Epoch 16: 100%|██████████████████████████████| 21/21 [00:00<00:00, 65.49it/s, v_num=11, train_acc=0.679, val_acc=0.921]\n",
      "Validation: |                                                                                    | 0/? [00:00<?, ?it/s]\u001b[A\n",
      "Validation:   0%|                                                                                | 0/7 [00:00<?, ?it/s]\u001b[A\n",
      "Validation DataLoader 0:   0%|                                                                   | 0/7 [00:00<?, ?it/s]\u001b[A\n",
      "Validation DataLoader 0:  14%|████████▍                                                  | 1/7 [00:00<00:00, 49.25it/s]\u001b[A\n",
      "Validation DataLoader 0:  29%|████████████████▊                                          | 2/7 [00:00<00:00, 60.01it/s]\u001b[A\n",
      "Validation DataLoader 0:  43%|█████████████████████████▎                                 | 3/7 [00:00<00:00, 63.10it/s]\u001b[A\n",
      "Validation DataLoader 0:  57%|█████████████████████████████████▋                         | 4/7 [00:00<00:00, 67.22it/s]\u001b[A\n",
      "Validation DataLoader 0:  71%|██████████████████████████████████████████▏                | 5/7 [00:00<00:00, 70.76it/s]\u001b[A\n",
      "Validation DataLoader 0:  86%|██████████████████████████████████████████████████▌        | 6/7 [00:00<00:00, 74.06it/s]\u001b[A\n",
      "Validation DataLoader 0: 100%|███████████████████████████████████████████████████████████| 7/7 [00:00<00:00, 72.88it/s]\u001b[A\n",
      "Epoch 16: 100%|██████████████████████████████| 21/21 [00:00<00:00, 47.06it/s, v_num=11, train_acc=0.679, val_acc=0.920]\u001b[A"
     ]
    },
    {
     "name": "stderr",
     "output_type": "stream",
     "text": [
      "Metric val_loss improved by 0.018 >= min_delta = 0.0. New best score: 0.399\n"
     ]
    },
    {
     "name": "stdout",
     "output_type": "stream",
     "text": [
      "Epoch 17: 100%|██████████████████████████████| 21/21 [00:00<00:00, 63.31it/s, v_num=11, train_acc=0.755, val_acc=0.920]\n",
      "Validation: |                                                                                    | 0/? [00:00<?, ?it/s]\u001b[A\n",
      "Validation:   0%|                                                                                | 0/7 [00:00<?, ?it/s]\u001b[A\n",
      "Validation DataLoader 0:   0%|                                                                   | 0/7 [00:00<?, ?it/s]\u001b[A\n",
      "Validation DataLoader 0:  14%|████████▍                                                  | 1/7 [00:00<00:00, 62.67it/s]\u001b[A\n",
      "Validation DataLoader 0:  29%|████████████████▊                                          | 2/7 [00:00<00:00, 69.15it/s]\u001b[A\n",
      "Validation DataLoader 0:  43%|█████████████████████████▎                                 | 3/7 [00:00<00:00, 72.12it/s]\u001b[A\n",
      "Validation DataLoader 0:  57%|█████████████████████████████████▋                         | 4/7 [00:00<00:00, 73.03it/s]\u001b[A\n",
      "Validation DataLoader 0:  71%|██████████████████████████████████████████▏                | 5/7 [00:00<00:00, 77.22it/s]\u001b[A\n",
      "Validation DataLoader 0:  86%|██████████████████████████████████████████████████▌        | 6/7 [00:00<00:00, 77.97it/s]\u001b[A\n",
      "Validation DataLoader 0: 100%|███████████████████████████████████████████████████████████| 7/7 [00:00<00:00, 80.53it/s]\u001b[A\n",
      "Epoch 17: 100%|██████████████████████████████| 21/21 [00:00<00:00, 47.18it/s, v_num=11, train_acc=0.755, val_acc=0.924]\u001b[A"
     ]
    },
    {
     "name": "stderr",
     "output_type": "stream",
     "text": [
      "Metric val_loss improved by 0.017 >= min_delta = 0.0. New best score: 0.382\n"
     ]
    },
    {
     "name": "stdout",
     "output_type": "stream",
     "text": [
      "Epoch 18: 100%|██████████████████████████████| 21/21 [00:00<00:00, 57.05it/s, v_num=11, train_acc=0.717, val_acc=0.924]\n",
      "Validation: |                                                                                    | 0/? [00:00<?, ?it/s]\u001b[A\n",
      "Validation:   0%|                                                                                | 0/7 [00:00<?, ?it/s]\u001b[A\n",
      "Validation DataLoader 0:   0%|                                                                   | 0/7 [00:00<?, ?it/s]\u001b[A\n",
      "Validation DataLoader 0:  14%|████████▍                                                  | 1/7 [00:00<00:00, 24.94it/s]\u001b[A\n",
      "Validation DataLoader 0:  29%|████████████████▊                                          | 2/7 [00:00<00:00, 24.03it/s]\u001b[A\n",
      "Validation DataLoader 0:  43%|█████████████████████████▎                                 | 3/7 [00:00<00:00, 31.09it/s]\u001b[A\n",
      "Validation DataLoader 0:  57%|█████████████████████████████████▋                         | 4/7 [00:00<00:00, 37.47it/s]\u001b[A\n",
      "Validation DataLoader 0:  71%|██████████████████████████████████████████▏                | 5/7 [00:00<00:00, 42.12it/s]\u001b[A\n",
      "Validation DataLoader 0:  86%|██████████████████████████████████████████████████▌        | 6/7 [00:00<00:00, 46.14it/s]\u001b[A\n",
      "Validation DataLoader 0: 100%|███████████████████████████████████████████████████████████| 7/7 [00:00<00:00, 49.06it/s]\u001b[A\n",
      "Epoch 18: 100%|██████████████████████████████| 21/21 [00:00<00:00, 34.48it/s, v_num=11, train_acc=0.717, val_acc=0.922]\u001b[A"
     ]
    },
    {
     "name": "stderr",
     "output_type": "stream",
     "text": [
      "Metric val_loss improved by 0.014 >= min_delta = 0.0. New best score: 0.368\n"
     ]
    },
    {
     "name": "stdout",
     "output_type": "stream",
     "text": [
      "Epoch 19: 100%|██████████████████████████████| 21/21 [00:00<00:00, 66.40it/s, v_num=11, train_acc=0.717, val_acc=0.922]\n",
      "Validation: |                                                                                    | 0/? [00:00<?, ?it/s]\u001b[A\n",
      "Validation:   0%|                                                                                | 0/7 [00:00<?, ?it/s]\u001b[A\n",
      "Validation DataLoader 0:   0%|                                                                   | 0/7 [00:00<?, ?it/s]\u001b[A\n",
      "Validation DataLoader 0:  14%|████████▍                                                  | 1/7 [00:00<00:00, 68.31it/s]\u001b[A\n",
      "Validation DataLoader 0:  29%|████████████████▊                                          | 2/7 [00:00<00:00, 74.56it/s]\u001b[A\n",
      "Validation DataLoader 0:  43%|█████████████████████████▎                                 | 3/7 [00:00<00:00, 81.53it/s]\u001b[A\n",
      "Validation DataLoader 0:  57%|█████████████████████████████████▋                         | 4/7 [00:00<00:00, 81.33it/s]\u001b[A\n",
      "Validation DataLoader 0:  71%|██████████████████████████████████████████▏                | 5/7 [00:00<00:00, 81.05it/s]\u001b[A\n",
      "Validation DataLoader 0:  86%|██████████████████████████████████████████████████▌        | 6/7 [00:00<00:00, 81.79it/s]\u001b[A\n",
      "Validation DataLoader 0: 100%|███████████████████████████████████████████████████████████| 7/7 [00:00<00:00, 84.00it/s]\u001b[A\n",
      "Epoch 19: 100%|██████████████████████████████| 21/21 [00:00<00:00, 49.16it/s, v_num=11, train_acc=0.717, val_acc=0.920]\u001b[A"
     ]
    },
    {
     "name": "stderr",
     "output_type": "stream",
     "text": [
      "Metric val_loss improved by 0.015 >= min_delta = 0.0. New best score: 0.353\n"
     ]
    },
    {
     "name": "stdout",
     "output_type": "stream",
     "text": [
      "Epoch 20: 100%|██████████████████████████████| 21/21 [00:00<00:00, 65.47it/s, v_num=11, train_acc=0.868, val_acc=0.920]\n",
      "Validation: |                                                                                    | 0/? [00:00<?, ?it/s]\u001b[A\n",
      "Validation:   0%|                                                                                | 0/7 [00:00<?, ?it/s]\u001b[A\n",
      "Validation DataLoader 0:   0%|                                                                   | 0/7 [00:00<?, ?it/s]\u001b[A\n",
      "Validation DataLoader 0:  14%|████████▍                                                  | 1/7 [00:00<00:00, 67.73it/s]\u001b[A\n",
      "Validation DataLoader 0:  29%|████████████████▊                                          | 2/7 [00:00<00:00, 74.82it/s]\u001b[A\n",
      "Validation DataLoader 0:  43%|█████████████████████████▎                                 | 3/7 [00:00<00:00, 77.52it/s]\u001b[A\n",
      "Validation DataLoader 0:  57%|█████████████████████████████████▋                         | 4/7 [00:00<00:00, 80.77it/s]\u001b[A\n",
      "Validation DataLoader 0:  71%|██████████████████████████████████████████▏                | 5/7 [00:00<00:00, 82.29it/s]\u001b[A\n",
      "Validation DataLoader 0:  86%|██████████████████████████████████████████████████▌        | 6/7 [00:00<00:00, 83.65it/s]\u001b[A\n",
      "Validation DataLoader 0: 100%|███████████████████████████████████████████████████████████| 7/7 [00:00<00:00, 84.64it/s]\u001b[A\n",
      "Epoch 20: 100%|██████████████████████████████| 21/21 [00:00<00:00, 47.16it/s, v_num=11, train_acc=0.868, val_acc=0.917]\u001b[A"
     ]
    },
    {
     "name": "stderr",
     "output_type": "stream",
     "text": [
      "Metric val_loss improved by 0.014 >= min_delta = 0.0. New best score: 0.339\n"
     ]
    },
    {
     "name": "stdout",
     "output_type": "stream",
     "text": [
      "Epoch 21: 100%|██████████████████████████████| 21/21 [00:00<00:00, 66.49it/s, v_num=11, train_acc=0.717, val_acc=0.917]\n",
      "Validation: |                                                                                    | 0/? [00:00<?, ?it/s]\u001b[A\n",
      "Validation:   0%|                                                                                | 0/7 [00:00<?, ?it/s]\u001b[A\n",
      "Validation DataLoader 0:   0%|                                                                   | 0/7 [00:00<?, ?it/s]\u001b[A\n",
      "Validation DataLoader 0:  14%|████████▍                                                  | 1/7 [00:00<00:00, 71.63it/s]\u001b[A\n",
      "Validation DataLoader 0:  29%|████████████████▊                                          | 2/7 [00:00<00:00, 76.06it/s]\u001b[A\n",
      "Validation DataLoader 0:  43%|█████████████████████████▎                                 | 3/7 [00:00<00:00, 79.07it/s]\u001b[A\n",
      "Validation DataLoader 0:  57%|█████████████████████████████████▋                         | 4/7 [00:00<00:00, 80.72it/s]\u001b[A\n",
      "Validation DataLoader 0:  71%|██████████████████████████████████████████▏                | 5/7 [00:00<00:00, 81.67it/s]\u001b[A\n",
      "Validation DataLoader 0:  86%|██████████████████████████████████████████████████▌        | 6/7 [00:00<00:00, 80.71it/s]\u001b[A\n",
      "Validation DataLoader 0: 100%|███████████████████████████████████████████████████████████| 7/7 [00:00<00:00, 81.10it/s]\u001b[A\n",
      "Epoch 21: 100%|██████████████████████████████| 21/21 [00:00<00:00, 47.90it/s, v_num=11, train_acc=0.717, val_acc=0.920]\u001b[A"
     ]
    },
    {
     "name": "stderr",
     "output_type": "stream",
     "text": [
      "Metric val_loss improved by 0.008 >= min_delta = 0.0. New best score: 0.331\n"
     ]
    },
    {
     "name": "stdout",
     "output_type": "stream",
     "text": [
      "Epoch 22: 100%|██████████████████████████████| 21/21 [00:00<00:00, 68.94it/s, v_num=11, train_acc=0.717, val_acc=0.920]\n",
      "Validation: |                                                                                    | 0/? [00:00<?, ?it/s]\u001b[A\n",
      "Validation:   0%|                                                                                | 0/7 [00:00<?, ?it/s]\u001b[A\n",
      "Validation DataLoader 0:   0%|                                                                   | 0/7 [00:00<?, ?it/s]\u001b[A\n",
      "Validation DataLoader 0:  14%|████████▍                                                  | 1/7 [00:00<00:00, 69.07it/s]\u001b[A\n",
      "Validation DataLoader 0:  29%|████████████████▊                                          | 2/7 [00:00<00:00, 72.88it/s]\u001b[A\n",
      "Validation DataLoader 0:  43%|█████████████████████████▎                                 | 3/7 [00:00<00:00, 76.13it/s]\u001b[A\n",
      "Validation DataLoader 0:  57%|█████████████████████████████████▋                         | 4/7 [00:00<00:00, 76.37it/s]\u001b[A\n",
      "Validation DataLoader 0:  71%|██████████████████████████████████████████▏                | 5/7 [00:00<00:00, 76.08it/s]\u001b[A\n",
      "Validation DataLoader 0:  86%|██████████████████████████████████████████████████▌        | 6/7 [00:00<00:00, 78.24it/s]\u001b[A\n",
      "Validation DataLoader 0: 100%|███████████████████████████████████████████████████████████| 7/7 [00:00<00:00, 79.25it/s]\u001b[A\n",
      "Epoch 22: 100%|██████████████████████████████| 21/21 [00:00<00:00, 49.14it/s, v_num=11, train_acc=0.717, val_acc=0.921]\u001b[A"
     ]
    },
    {
     "name": "stderr",
     "output_type": "stream",
     "text": [
      "Metric val_loss improved by 0.011 >= min_delta = 0.0. New best score: 0.320\n"
     ]
    },
    {
     "name": "stdout",
     "output_type": "stream",
     "text": [
      "Epoch 23: 100%|██████████████████████████████| 21/21 [00:00<00:00, 66.85it/s, v_num=11, train_acc=0.660, val_acc=0.921]\n",
      "Validation: |                                                                                    | 0/? [00:00<?, ?it/s]\u001b[A\n",
      "Validation:   0%|                                                                                | 0/7 [00:00<?, ?it/s]\u001b[A\n",
      "Validation DataLoader 0:   0%|                                                                   | 0/7 [00:00<?, ?it/s]\u001b[A\n",
      "Validation DataLoader 0:  14%|████████▍                                                  | 1/7 [00:00<00:00, 64.56it/s]\u001b[A\n",
      "Validation DataLoader 0:  29%|████████████████▊                                          | 2/7 [00:00<00:00, 71.10it/s]\u001b[A\n",
      "Validation DataLoader 0:  43%|█████████████████████████▎                                 | 3/7 [00:00<00:00, 75.73it/s]\u001b[A\n",
      "Validation DataLoader 0:  57%|█████████████████████████████████▋                         | 4/7 [00:00<00:00, 77.67it/s]\u001b[A\n",
      "Validation DataLoader 0:  71%|██████████████████████████████████████████▏                | 5/7 [00:00<00:00, 78.72it/s]\u001b[A\n",
      "Validation DataLoader 0:  86%|██████████████████████████████████████████████████▌        | 6/7 [00:00<00:00, 80.88it/s]\u001b[A\n",
      "Validation DataLoader 0: 100%|███████████████████████████████████████████████████████████| 7/7 [00:00<00:00, 82.20it/s]\u001b[A\n",
      "Epoch 23: 100%|██████████████████████████████| 21/21 [00:00<00:00, 48.74it/s, v_num=11, train_acc=0.660, val_acc=0.924]\u001b[A"
     ]
    },
    {
     "name": "stderr",
     "output_type": "stream",
     "text": [
      "Metric val_loss improved by 0.005 >= min_delta = 0.0. New best score: 0.315\n"
     ]
    },
    {
     "name": "stdout",
     "output_type": "stream",
     "text": [
      "Epoch 24: 100%|██████████████████████████████| 21/21 [00:00<00:00, 69.07it/s, v_num=11, train_acc=0.792, val_acc=0.924]\n",
      "Validation: |                                                                                    | 0/? [00:00<?, ?it/s]\u001b[A\n",
      "Validation:   0%|                                                                                | 0/7 [00:00<?, ?it/s]\u001b[A\n",
      "Validation DataLoader 0:   0%|                                                                   | 0/7 [00:00<?, ?it/s]\u001b[A\n",
      "Validation DataLoader 0:  14%|████████▍                                                  | 1/7 [00:00<00:00, 48.27it/s]\u001b[A\n",
      "Validation DataLoader 0:  29%|████████████████▊                                          | 2/7 [00:00<00:00, 59.02it/s]\u001b[A\n",
      "Validation DataLoader 0:  43%|█████████████████████████▎                                 | 3/7 [00:00<00:00, 63.12it/s]\u001b[A\n",
      "Validation DataLoader 0:  57%|█████████████████████████████████▋                         | 4/7 [00:00<00:00, 68.38it/s]\u001b[A\n",
      "Validation DataLoader 0:  71%|██████████████████████████████████████████▏                | 5/7 [00:00<00:00, 71.28it/s]\u001b[A\n",
      "Validation DataLoader 0:  86%|██████████████████████████████████████████████████▌        | 6/7 [00:00<00:00, 71.46it/s]\u001b[A\n",
      "Validation DataLoader 0: 100%|███████████████████████████████████████████████████████████| 7/7 [00:00<00:00, 72.52it/s]\u001b[A\n",
      "Epoch 24: 100%|██████████████████████████████| 21/21 [00:00<00:00, 48.48it/s, v_num=11, train_acc=0.792, val_acc=0.924]\u001b[A"
     ]
    },
    {
     "name": "stderr",
     "output_type": "stream",
     "text": [
      "Metric val_loss improved by 0.009 >= min_delta = 0.0. New best score: 0.306\n"
     ]
    },
    {
     "name": "stdout",
     "output_type": "stream",
     "text": [
      "Epoch 25: 100%|██████████████████████████████| 21/21 [00:00<00:00, 69.99it/s, v_num=11, train_acc=0.774, val_acc=0.924]\n",
      "Validation: |                                                                                    | 0/? [00:00<?, ?it/s]\u001b[A\n",
      "Validation:   0%|                                                                                | 0/7 [00:00<?, ?it/s]\u001b[A\n",
      "Validation DataLoader 0:   0%|                                                                   | 0/7 [00:00<?, ?it/s]\u001b[A\n",
      "Validation DataLoader 0:  14%|████████▍                                                  | 1/7 [00:00<00:00, 68.35it/s]\u001b[A\n",
      "Validation DataLoader 0:  29%|████████████████▊                                          | 2/7 [00:00<00:00, 72.47it/s]\u001b[A\n",
      "Validation DataLoader 0:  43%|█████████████████████████▎                                 | 3/7 [00:00<00:00, 74.93it/s]\u001b[A\n",
      "Validation DataLoader 0:  57%|█████████████████████████████████▋                         | 4/7 [00:00<00:00, 70.18it/s]\u001b[A\n",
      "Validation DataLoader 0:  71%|██████████████████████████████████████████▏                | 5/7 [00:00<00:00, 70.77it/s]\u001b[A\n",
      "Validation DataLoader 0:  86%|██████████████████████████████████████████████████▌        | 6/7 [00:00<00:00, 72.30it/s]\u001b[A\n",
      "Validation DataLoader 0: 100%|███████████████████████████████████████████████████████████| 7/7 [00:00<00:00, 72.95it/s]\u001b[A\n",
      "Epoch 25: 100%|██████████████████████████████| 21/21 [00:00<00:00, 49.22it/s, v_num=11, train_acc=0.774, val_acc=0.927]\u001b[A"
     ]
    },
    {
     "name": "stderr",
     "output_type": "stream",
     "text": [
      "Metric val_loss improved by 0.009 >= min_delta = 0.0. New best score: 0.297\n"
     ]
    },
    {
     "name": "stdout",
     "output_type": "stream",
     "text": [
      "Epoch 26: 100%|██████████████████████████████| 21/21 [00:00<00:00, 67.83it/s, v_num=11, train_acc=0.811, val_acc=0.927]\n",
      "Validation: |                                                                                    | 0/? [00:00<?, ?it/s]\u001b[A\n",
      "Validation:   0%|                                                                                | 0/7 [00:00<?, ?it/s]\u001b[A\n",
      "Validation DataLoader 0:   0%|                                                                   | 0/7 [00:00<?, ?it/s]\u001b[A\n",
      "Validation DataLoader 0:  14%|████████▍                                                  | 1/7 [00:00<00:00, 71.62it/s]\u001b[A\n",
      "Validation DataLoader 0:  29%|████████████████▊                                          | 2/7 [00:00<00:00, 83.55it/s]\u001b[A\n",
      "Validation DataLoader 0:  43%|█████████████████████████▎                                 | 3/7 [00:00<00:00, 85.94it/s]\u001b[A\n",
      "Validation DataLoader 0:  57%|█████████████████████████████████▋                         | 4/7 [00:00<00:00, 83.80it/s]\u001b[A\n",
      "Validation DataLoader 0:  71%|██████████████████████████████████████████▏                | 5/7 [00:00<00:00, 82.38it/s]\u001b[A\n",
      "Validation DataLoader 0:  86%|██████████████████████████████████████████████████▌        | 6/7 [00:00<00:00, 82.04it/s]\u001b[A\n",
      "Validation DataLoader 0: 100%|███████████████████████████████████████████████████████████| 7/7 [00:00<00:00, 77.71it/s]\u001b[A\n",
      "Epoch 26: 100%|██████████████████████████████| 21/21 [00:00<00:00, 47.77it/s, v_num=11, train_acc=0.811, val_acc=0.919]\u001b[A"
     ]
    },
    {
     "name": "stderr",
     "output_type": "stream",
     "text": [
      "Metric val_loss improved by 0.003 >= min_delta = 0.0. New best score: 0.294\n"
     ]
    },
    {
     "name": "stdout",
     "output_type": "stream",
     "text": [
      "Epoch 27: 100%|██████████████████████████████| 21/21 [00:00<00:00, 67.69it/s, v_num=11, train_acc=0.736, val_acc=0.919]\n",
      "Validation: |                                                                                    | 0/? [00:00<?, ?it/s]\u001b[A\n",
      "Validation:   0%|                                                                                | 0/7 [00:00<?, ?it/s]\u001b[A\n",
      "Validation DataLoader 0:   0%|                                                                   | 0/7 [00:00<?, ?it/s]\u001b[A\n",
      "Validation DataLoader 0:  14%|████████▍                                                  | 1/7 [00:00<00:00, 67.61it/s]\u001b[A\n",
      "Validation DataLoader 0:  29%|████████████████▊                                          | 2/7 [00:00<00:00, 80.76it/s]\u001b[A\n",
      "Validation DataLoader 0:  43%|█████████████████████████▎                                 | 3/7 [00:00<00:00, 83.95it/s]\u001b[A\n",
      "Validation DataLoader 0:  57%|█████████████████████████████████▋                         | 4/7 [00:00<00:00, 82.57it/s]\u001b[A\n",
      "Validation DataLoader 0:  71%|██████████████████████████████████████████▏                | 5/7 [00:00<00:00, 82.76it/s]\u001b[A\n",
      "Validation DataLoader 0:  86%|██████████████████████████████████████████████████▌        | 6/7 [00:00<00:00, 82.00it/s]\u001b[A\n",
      "Validation DataLoader 0: 100%|███████████████████████████████████████████████████████████| 7/7 [00:00<00:00, 83.19it/s]\u001b[A\n",
      "Epoch 27: 100%|██████████████████████████████| 21/21 [00:00<00:00, 49.23it/s, v_num=11, train_acc=0.736, val_acc=0.923]\u001b[A"
     ]
    },
    {
     "name": "stderr",
     "output_type": "stream",
     "text": [
      "Metric val_loss improved by 0.010 >= min_delta = 0.0. New best score: 0.284\n"
     ]
    },
    {
     "name": "stdout",
     "output_type": "stream",
     "text": [
      "Epoch 28: 100%|██████████████████████████████| 21/21 [00:00<00:00, 66.14it/s, v_num=11, train_acc=0.774, val_acc=0.923]\n",
      "Validation: |                                                                                    | 0/? [00:00<?, ?it/s]\u001b[A\n",
      "Validation:   0%|                                                                                | 0/7 [00:00<?, ?it/s]\u001b[A\n",
      "Validation DataLoader 0:   0%|                                                                   | 0/7 [00:00<?, ?it/s]\u001b[A\n",
      "Validation DataLoader 0:  14%|████████▍                                                  | 1/7 [00:00<00:00, 62.16it/s]\u001b[A\n",
      "Validation DataLoader 0:  29%|████████████████▊                                          | 2/7 [00:00<00:00, 69.65it/s]\u001b[A\n",
      "Validation DataLoader 0:  43%|█████████████████████████▎                                 | 3/7 [00:00<00:00, 75.59it/s]\u001b[A\n",
      "Validation DataLoader 0:  57%|█████████████████████████████████▋                         | 4/7 [00:00<00:00, 76.91it/s]\u001b[A\n",
      "Validation DataLoader 0:  71%|██████████████████████████████████████████▏                | 5/7 [00:00<00:00, 78.16it/s]\u001b[A\n",
      "Validation DataLoader 0:  86%|██████████████████████████████████████████████████▌        | 6/7 [00:00<00:00, 79.01it/s]\u001b[A\n",
      "Validation DataLoader 0: 100%|███████████████████████████████████████████████████████████| 7/7 [00:00<00:00, 81.15it/s]\u001b[A\n",
      "Epoch 28: 100%|██████████████████████████████| 21/21 [00:00<00:00, 48.63it/s, v_num=11, train_acc=0.774, val_acc=0.927]\u001b[A"
     ]
    },
    {
     "name": "stderr",
     "output_type": "stream",
     "text": [
      "Metric val_loss improved by 0.002 >= min_delta = 0.0. New best score: 0.282\n"
     ]
    },
    {
     "name": "stdout",
     "output_type": "stream",
     "text": [
      "Epoch 29: 100%|██████████████████████████████| 21/21 [00:00<00:00, 55.92it/s, v_num=11, train_acc=0.887, val_acc=0.927]\n",
      "Validation: |                                                                                    | 0/? [00:00<?, ?it/s]\u001b[A\n",
      "Validation:   0%|                                                                                | 0/7 [00:00<?, ?it/s]\u001b[A\n",
      "Validation DataLoader 0:   0%|                                                                   | 0/7 [00:00<?, ?it/s]\u001b[A\n",
      "Validation DataLoader 0:  14%|████████▍                                                  | 1/7 [00:00<00:00, 58.99it/s]\u001b[A\n",
      "Validation DataLoader 0:  29%|████████████████▊                                          | 2/7 [00:00<00:00, 59.03it/s]\u001b[A\n",
      "Validation DataLoader 0:  43%|█████████████████████████▎                                 | 3/7 [00:00<00:00, 62.71it/s]\u001b[A\n",
      "Validation DataLoader 0:  57%|█████████████████████████████████▋                         | 4/7 [00:00<00:00, 64.53it/s]\u001b[A\n",
      "Validation DataLoader 0:  71%|██████████████████████████████████████████▏                | 5/7 [00:00<00:00, 63.98it/s]\u001b[A\n",
      "Validation DataLoader 0:  86%|██████████████████████████████████████████████████▌        | 6/7 [00:00<00:00, 64.49it/s]\u001b[A\n",
      "Validation DataLoader 0: 100%|███████████████████████████████████████████████████████████| 7/7 [00:00<00:00, 66.04it/s]\u001b[A\n",
      "Epoch 29: 100%|██████████████████████████████| 21/21 [00:00<00:00, 41.13it/s, v_num=11, train_acc=0.887, val_acc=0.923]\u001b[A"
     ]
    },
    {
     "name": "stderr",
     "output_type": "stream",
     "text": [
      "Metric val_loss improved by 0.007 >= min_delta = 0.0. New best score: 0.274\n"
     ]
    },
    {
     "name": "stdout",
     "output_type": "stream",
     "text": [
      "Epoch 30: 100%|██████████████████████████████| 21/21 [00:00<00:00, 52.23it/s, v_num=11, train_acc=0.849, val_acc=0.923]\n",
      "Validation: |                                                                                    | 0/? [00:00<?, ?it/s]\u001b[A\n",
      "Validation:   0%|                                                                                | 0/7 [00:00<?, ?it/s]\u001b[A\n",
      "Validation DataLoader 0:   0%|                                                                   | 0/7 [00:00<?, ?it/s]\u001b[A\n",
      "Validation DataLoader 0:  14%|████████▍                                                  | 1/7 [00:00<00:00, 61.64it/s]\u001b[A\n",
      "Validation DataLoader 0:  29%|████████████████▊                                          | 2/7 [00:00<00:00, 59.88it/s]\u001b[A\n",
      "Validation DataLoader 0:  43%|█████████████████████████▎                                 | 3/7 [00:00<00:00, 55.59it/s]\u001b[A\n",
      "Validation DataLoader 0:  57%|█████████████████████████████████▋                         | 4/7 [00:00<00:00, 56.81it/s]\u001b[A\n",
      "Validation DataLoader 0:  71%|██████████████████████████████████████████▏                | 5/7 [00:00<00:00, 53.59it/s]\u001b[A\n",
      "Validation DataLoader 0:  86%|██████████████████████████████████████████████████▌        | 6/7 [00:00<00:00, 55.95it/s]\u001b[A\n",
      "Validation DataLoader 0: 100%|███████████████████████████████████████████████████████████| 7/7 [00:00<00:00, 58.10it/s]\u001b[A\n",
      "Epoch 30: 100%|██████████████████████████████| 21/21 [00:00<00:00, 37.93it/s, v_num=11, train_acc=0.849, val_acc=0.932]\u001b[A"
     ]
    },
    {
     "name": "stderr",
     "output_type": "stream",
     "text": [
      "Metric val_loss improved by 0.007 >= min_delta = 0.0. New best score: 0.268\n"
     ]
    },
    {
     "name": "stdout",
     "output_type": "stream",
     "text": [
      "Epoch 31: 100%|██████████████████████████████| 21/21 [00:00<00:00, 64.43it/s, v_num=11, train_acc=0.792, val_acc=0.932]\n",
      "Validation: |                                                                                    | 0/? [00:00<?, ?it/s]\u001b[A\n",
      "Validation:   0%|                                                                                | 0/7 [00:00<?, ?it/s]\u001b[A\n",
      "Validation DataLoader 0:   0%|                                                                   | 0/7 [00:00<?, ?it/s]\u001b[A\n",
      "Validation DataLoader 0:  14%|████████▍                                                  | 1/7 [00:00<00:00, 58.98it/s]\u001b[A\n",
      "Validation DataLoader 0:  29%|████████████████▊                                          | 2/7 [00:00<00:00, 69.15it/s]\u001b[A\n",
      "Validation DataLoader 0:  43%|█████████████████████████▎                                 | 3/7 [00:00<00:00, 75.20it/s]\u001b[A\n",
      "Validation DataLoader 0:  57%|█████████████████████████████████▋                         | 4/7 [00:00<00:00, 76.23it/s]\u001b[A\n",
      "Validation DataLoader 0:  71%|██████████████████████████████████████████▏                | 5/7 [00:00<00:00, 72.36it/s]\u001b[A\n",
      "Validation DataLoader 0:  86%|██████████████████████████████████████████████████▌        | 6/7 [00:00<00:00, 71.92it/s]\u001b[A\n",
      "Validation DataLoader 0: 100%|███████████████████████████████████████████████████████████| 7/7 [00:00<00:00, 72.62it/s]\u001b[A\n",
      "Epoch 31: 100%|██████████████████████████████| 21/21 [00:00<00:00, 46.44it/s, v_num=11, train_acc=0.792, val_acc=0.929]\u001b[A"
     ]
    },
    {
     "name": "stderr",
     "output_type": "stream",
     "text": [
      "Metric val_loss improved by 0.005 >= min_delta = 0.0. New best score: 0.263\n"
     ]
    },
    {
     "name": "stdout",
     "output_type": "stream",
     "text": [
      "Epoch 32: 100%|██████████████████████████████| 21/21 [00:00<00:00, 70.97it/s, v_num=11, train_acc=0.698, val_acc=0.929]\n",
      "Validation: |                                                                                    | 0/? [00:00<?, ?it/s]\u001b[A\n",
      "Validation:   0%|                                                                                | 0/7 [00:00<?, ?it/s]\u001b[A\n",
      "Validation DataLoader 0:   0%|                                                                   | 0/7 [00:00<?, ?it/s]\u001b[A\n",
      "Validation DataLoader 0:  14%|████████▍                                                  | 1/7 [00:00<00:00, 63.19it/s]\u001b[A\n",
      "Validation DataLoader 0:  29%|████████████████▊                                          | 2/7 [00:00<00:00, 74.87it/s]\u001b[A\n",
      "Validation DataLoader 0:  43%|█████████████████████████▎                                 | 3/7 [00:00<00:00, 79.61it/s]\u001b[A\n",
      "Validation DataLoader 0:  57%|█████████████████████████████████▋                         | 4/7 [00:00<00:00, 78.28it/s]\u001b[A\n",
      "Validation DataLoader 0:  71%|██████████████████████████████████████████▏                | 5/7 [00:00<00:00, 80.55it/s]\u001b[A\n",
      "Validation DataLoader 0:  86%|██████████████████████████████████████████████████▌        | 6/7 [00:00<00:00, 79.14it/s]\u001b[A\n",
      "Validation DataLoader 0: 100%|███████████████████████████████████████████████████████████| 7/7 [00:00<00:00, 81.59it/s]\u001b[A\n",
      "Epoch 32: 100%|██████████████████████████████| 21/21 [00:00<00:00, 50.84it/s, v_num=11, train_acc=0.698, val_acc=0.929]\u001b[A"
     ]
    },
    {
     "name": "stderr",
     "output_type": "stream",
     "text": [
      "Metric val_loss improved by 0.002 >= min_delta = 0.0. New best score: 0.260\n"
     ]
    },
    {
     "name": "stdout",
     "output_type": "stream",
     "text": [
      "Epoch 33: 100%|██████████████████████████████| 21/21 [00:00<00:00, 70.08it/s, v_num=11, train_acc=0.811, val_acc=0.929]\n",
      "Validation: |                                                                                    | 0/? [00:00<?, ?it/s]\u001b[A\n",
      "Validation:   0%|                                                                                | 0/7 [00:00<?, ?it/s]\u001b[A\n",
      "Validation DataLoader 0:   0%|                                                                   | 0/7 [00:00<?, ?it/s]\u001b[A\n",
      "Validation DataLoader 0:  14%|████████▍                                                  | 1/7 [00:00<00:00, 69.02it/s]\u001b[A\n",
      "Validation DataLoader 0:  29%|████████████████▊                                          | 2/7 [00:00<00:00, 74.94it/s]\u001b[A\n",
      "Validation DataLoader 0:  43%|█████████████████████████▎                                 | 3/7 [00:00<00:00, 81.83it/s]\u001b[A\n",
      "Validation DataLoader 0:  57%|█████████████████████████████████▋                         | 4/7 [00:00<00:00, 82.26it/s]\u001b[A\n",
      "Validation DataLoader 0:  71%|██████████████████████████████████████████▏                | 5/7 [00:00<00:00, 82.44it/s]\u001b[A\n",
      "Validation DataLoader 0:  86%|██████████████████████████████████████████████████▌        | 6/7 [00:00<00:00, 82.64it/s]\u001b[A\n",
      "Validation DataLoader 0: 100%|███████████████████████████████████████████████████████████| 7/7 [00:00<00:00, 83.76it/s]\u001b[A\n",
      "Epoch 33: 100%|██████████████████████████████| 21/21 [00:00<00:00, 50.82it/s, v_num=11, train_acc=0.811, val_acc=0.925]\u001b[A"
     ]
    },
    {
     "name": "stderr",
     "output_type": "stream",
     "text": [
      "Metric val_loss improved by 0.005 >= min_delta = 0.0. New best score: 0.255\n"
     ]
    },
    {
     "name": "stdout",
     "output_type": "stream",
     "text": [
      "Epoch 34: 100%|██████████████████████████████| 21/21 [00:00<00:00, 66.84it/s, v_num=11, train_acc=0.792, val_acc=0.925]\n",
      "Validation: |                                                                                    | 0/? [00:00<?, ?it/s]\u001b[A\n",
      "Validation:   0%|                                                                                | 0/7 [00:00<?, ?it/s]\u001b[A\n",
      "Validation DataLoader 0:   0%|                                                                   | 0/7 [00:00<?, ?it/s]\u001b[A\n",
      "Validation DataLoader 0:  14%|████████▍                                                  | 1/7 [00:00<00:00, 66.84it/s]\u001b[A\n",
      "Validation DataLoader 0:  29%|████████████████▊                                          | 2/7 [00:00<00:00, 74.27it/s]\u001b[A\n",
      "Validation DataLoader 0:  43%|█████████████████████████▎                                 | 3/7 [00:00<00:00, 72.82it/s]\u001b[A\n",
      "Validation DataLoader 0:  57%|█████████████████████████████████▋                         | 4/7 [00:00<00:00, 75.06it/s]\u001b[A\n",
      "Validation DataLoader 0:  71%|██████████████████████████████████████████▏                | 5/7 [00:00<00:00, 77.02it/s]\u001b[A\n",
      "Validation DataLoader 0:  86%|██████████████████████████████████████████████████▌        | 6/7 [00:00<00:00, 78.04it/s]\u001b[A\n",
      "Validation DataLoader 0: 100%|███████████████████████████████████████████████████████████| 7/7 [00:00<00:00, 78.08it/s]\u001b[A\n",
      "Epoch 34: 100%|██████████████████████████████| 21/21 [00:00<00:00, 48.52it/s, v_num=11, train_acc=0.792, val_acc=0.927]\u001b[A"
     ]
    },
    {
     "name": "stderr",
     "output_type": "stream",
     "text": [
      "Metric val_loss improved by 0.000 >= min_delta = 0.0. New best score: 0.254\n"
     ]
    },
    {
     "name": "stdout",
     "output_type": "stream",
     "text": [
      "Epoch 35: 100%|██████████████████████████████| 21/21 [00:00<00:00, 65.89it/s, v_num=11, train_acc=0.755, val_acc=0.927]\n",
      "Validation: |                                                                                    | 0/? [00:00<?, ?it/s]\u001b[A\n",
      "Validation:   0%|                                                                                | 0/7 [00:00<?, ?it/s]\u001b[A\n",
      "Validation DataLoader 0:   0%|                                                                   | 0/7 [00:00<?, ?it/s]\u001b[A\n",
      "Validation DataLoader 0:  14%|████████▍                                                  | 1/7 [00:00<00:00, 65.79it/s]\u001b[A\n",
      "Validation DataLoader 0:  29%|████████████████▊                                          | 2/7 [00:00<00:00, 76.42it/s]\u001b[A\n",
      "Validation DataLoader 0:  43%|█████████████████████████▎                                 | 3/7 [00:00<00:00, 81.33it/s]\u001b[A\n",
      "Validation DataLoader 0:  57%|█████████████████████████████████▋                         | 4/7 [00:00<00:00, 80.00it/s]\u001b[A\n",
      "Validation DataLoader 0:  71%|██████████████████████████████████████████▏                | 5/7 [00:00<00:00, 79.80it/s]\u001b[A\n",
      "Validation DataLoader 0:  86%|██████████████████████████████████████████████████▌        | 6/7 [00:00<00:00, 83.76it/s]\u001b[A\n",
      "Validation DataLoader 0: 100%|███████████████████████████████████████████████████████████| 7/7 [00:00<00:00, 83.58it/s]\u001b[A\n",
      "Epoch 35: 100%|██████████████████████████████| 21/21 [00:00<00:00, 48.45it/s, v_num=11, train_acc=0.755, val_acc=0.933]\u001b[A"
     ]
    },
    {
     "name": "stderr",
     "output_type": "stream",
     "text": [
      "Metric val_loss improved by 0.004 >= min_delta = 0.0. New best score: 0.250\n"
     ]
    },
    {
     "name": "stdout",
     "output_type": "stream",
     "text": [
      "Epoch 36: 100%|██████████████████████████████| 21/21 [00:00<00:00, 69.19it/s, v_num=11, train_acc=0.811, val_acc=0.933]\n",
      "Validation: |                                                                                    | 0/? [00:00<?, ?it/s]\u001b[A\n",
      "Validation:   0%|                                                                                | 0/7 [00:00<?, ?it/s]\u001b[A\n",
      "Validation DataLoader 0:   0%|                                                                   | 0/7 [00:00<?, ?it/s]\u001b[A\n",
      "Validation DataLoader 0:  14%|████████▍                                                  | 1/7 [00:00<00:00, 71.63it/s]\u001b[A\n",
      "Validation DataLoader 0:  29%|████████████████▊                                          | 2/7 [00:00<00:00, 80.22it/s]\u001b[A\n",
      "Validation DataLoader 0:  43%|█████████████████████████▎                                 | 3/7 [00:00<00:00, 81.30it/s]\u001b[A\n",
      "Validation DataLoader 0:  57%|█████████████████████████████████▋                         | 4/7 [00:00<00:00, 83.56it/s]\u001b[A\n",
      "Validation DataLoader 0:  71%|██████████████████████████████████████████▏                | 5/7 [00:00<00:00, 86.44it/s]\u001b[A\n",
      "Validation DataLoader 0:  86%|██████████████████████████████████████████████████▌        | 6/7 [00:00<00:00, 86.71it/s]\u001b[A\n",
      "Validation DataLoader 0: 100%|███████████████████████████████████████████████████████████| 7/7 [00:00<00:00, 88.42it/s]\u001b[A\n",
      "Epoch 36: 100%|██████████████████████████████| 21/21 [00:00<00:00, 50.74it/s, v_num=11, train_acc=0.811, val_acc=0.933]\u001b[A"
     ]
    },
    {
     "name": "stderr",
     "output_type": "stream",
     "text": [
      "Metric val_loss improved by 0.005 >= min_delta = 0.0. New best score: 0.246\n"
     ]
    },
    {
     "name": "stdout",
     "output_type": "stream",
     "text": [
      "Epoch 37: 100%|██████████████████████████████| 21/21 [00:00<00:00, 65.22it/s, v_num=11, train_acc=0.849, val_acc=0.933]\n",
      "Validation: |                                                                                    | 0/? [00:00<?, ?it/s]\u001b[A\n",
      "Validation:   0%|                                                                                | 0/7 [00:00<?, ?it/s]\u001b[A\n",
      "Validation DataLoader 0:   0%|                                                                   | 0/7 [00:00<?, ?it/s]\u001b[A\n",
      "Validation DataLoader 0:  14%|████████▍                                                  | 1/7 [00:00<00:00, 71.61it/s]\u001b[A\n",
      "Validation DataLoader 0:  29%|████████████████▊                                          | 2/7 [00:00<00:00, 75.61it/s]\u001b[A\n",
      "Validation DataLoader 0:  43%|█████████████████████████▎                                 | 3/7 [00:00<00:00, 82.20it/s]\u001b[A\n",
      "Validation DataLoader 0:  57%|█████████████████████████████████▋                         | 4/7 [00:00<00:00, 83.52it/s]\u001b[A\n",
      "Validation DataLoader 0:  71%|██████████████████████████████████████████▏                | 5/7 [00:00<00:00, 83.52it/s]\u001b[A\n",
      "Validation DataLoader 0:  86%|██████████████████████████████████████████████████▌        | 6/7 [00:00<00:00, 82.63it/s]\u001b[A\n",
      "Validation DataLoader 0: 100%|███████████████████████████████████████████████████████████| 7/7 [00:00<00:00, 82.76it/s]\u001b[A\n",
      "Epoch 37: 100%|██████████████████████████████| 21/21 [00:00<00:00, 48.22it/s, v_num=11, train_acc=0.849, val_acc=0.933]\u001b[A"
     ]
    },
    {
     "name": "stderr",
     "output_type": "stream",
     "text": [
      "Metric val_loss improved by 0.005 >= min_delta = 0.0. New best score: 0.240\n"
     ]
    },
    {
     "name": "stdout",
     "output_type": "stream",
     "text": [
      "Epoch 38: 100%|██████████████████████████████| 21/21 [00:00<00:00, 67.37it/s, v_num=11, train_acc=0.792, val_acc=0.933]\n",
      "Validation: |                                                                                    | 0/? [00:00<?, ?it/s]\u001b[A\n",
      "Validation:   0%|                                                                                | 0/7 [00:00<?, ?it/s]\u001b[A\n",
      "Validation DataLoader 0:   0%|                                                                   | 0/7 [00:00<?, ?it/s]\u001b[A\n",
      "Validation DataLoader 0:  14%|████████▍                                                  | 1/7 [00:00<00:00, 66.61it/s]\u001b[A\n",
      "Validation DataLoader 0:  29%|████████████████▊                                          | 2/7 [00:00<00:00, 76.29it/s]\u001b[A\n",
      "Validation DataLoader 0:  43%|█████████████████████████▎                                 | 3/7 [00:00<00:00, 85.24it/s]\u001b[A\n",
      "Validation DataLoader 0:  57%|█████████████████████████████████▋                         | 4/7 [00:00<00:00, 86.18it/s]\u001b[A\n",
      "Validation DataLoader 0:  71%|██████████████████████████████████████████▏                | 5/7 [00:00<00:00, 87.60it/s]\u001b[A\n",
      "Validation DataLoader 0:  86%|██████████████████████████████████████████████████▌        | 6/7 [00:00<00:00, 90.84it/s]\u001b[A\n",
      "Validation DataLoader 0: 100%|███████████████████████████████████████████████████████████| 7/7 [00:00<00:00, 90.13it/s]\u001b[A\n",
      "Epoch 38: 100%|██████████████████████████████| 21/21 [00:00<00:00, 49.92it/s, v_num=11, train_acc=0.792, val_acc=0.932]\u001b[A"
     ]
    },
    {
     "name": "stderr",
     "output_type": "stream",
     "text": [
      "Metric val_loss improved by 0.003 >= min_delta = 0.0. New best score: 0.237\n"
     ]
    },
    {
     "name": "stdout",
     "output_type": "stream",
     "text": [
      "Epoch 39: 100%|██████████████████████████████| 21/21 [00:00<00:00, 69.55it/s, v_num=11, train_acc=0.774, val_acc=0.932]\n",
      "Validation: |                                                                                    | 0/? [00:00<?, ?it/s]\u001b[A\n",
      "Validation:   0%|                                                                                | 0/7 [00:00<?, ?it/s]\u001b[A\n",
      "Validation DataLoader 0:   0%|                                                                   | 0/7 [00:00<?, ?it/s]\u001b[A\n",
      "Validation DataLoader 0:  14%|████████▍                                                  | 1/7 [00:00<00:00, 66.84it/s]\u001b[A\n",
      "Validation DataLoader 0:  29%|████████████████▊                                          | 2/7 [00:00<00:00, 58.98it/s]\u001b[A\n",
      "Validation DataLoader 0:  43%|█████████████████████████▎                                 | 3/7 [00:00<00:00, 64.00it/s]\u001b[A\n",
      "Validation DataLoader 0:  57%|█████████████████████████████████▋                         | 4/7 [00:00<00:00, 70.36it/s]\u001b[A\n",
      "Validation DataLoader 0:  71%|██████████████████████████████████████████▏                | 5/7 [00:00<00:00, 72.66it/s]\u001b[A\n",
      "Validation DataLoader 0:  86%|██████████████████████████████████████████████████▌        | 6/7 [00:00<00:00, 74.72it/s]\u001b[A\n",
      "Validation DataLoader 0: 100%|███████████████████████████████████████████████████████████| 7/7 [00:00<00:00, 75.05it/s]\u001b[A\n",
      "Epoch 40: 100%|██████████████████████████████| 21/21 [00:00<00:00, 69.86it/s, v_num=11, train_acc=0.792, val_acc=0.936]\u001b[A\n",
      "Validation: |                                                                                    | 0/? [00:00<?, ?it/s]\u001b[A\n",
      "Validation:   0%|                                                                                | 0/7 [00:00<?, ?it/s]\u001b[A\n",
      "Validation DataLoader 0:   0%|                                                                   | 0/7 [00:00<?, ?it/s]\u001b[A\n",
      "Validation DataLoader 0:  14%|████████▍                                                  | 1/7 [00:00<00:00, 71.62it/s]\u001b[A\n",
      "Validation DataLoader 0:  29%|████████████████▊                                          | 2/7 [00:00<00:00, 75.64it/s]\u001b[A\n",
      "Validation DataLoader 0:  43%|█████████████████████████▎                                 | 3/7 [00:00<00:00, 78.68it/s]\u001b[A\n",
      "Validation DataLoader 0:  57%|█████████████████████████████████▋                         | 4/7 [00:00<00:00, 81.47it/s]\u001b[A\n",
      "Validation DataLoader 0:  71%|██████████████████████████████████████████▏                | 5/7 [00:00<00:00, 82.33it/s]\u001b[A\n",
      "Validation DataLoader 0:  86%|██████████████████████████████████████████████████▌        | 6/7 [00:00<00:00, 82.85it/s]\u001b[A\n",
      "Validation DataLoader 0: 100%|███████████████████████████████████████████████████████████| 7/7 [00:00<00:00, 83.94it/s]\u001b[A\n",
      "Epoch 41: 100%|██████████████████████████████| 21/21 [00:00<00:00, 73.18it/s, v_num=11, train_acc=0.774, val_acc=0.936]\u001b[A\n",
      "Validation: |                                                                                    | 0/? [00:00<?, ?it/s]\u001b[A\n",
      "Validation:   0%|                                                                                | 0/7 [00:00<?, ?it/s]\u001b[A\n",
      "Validation DataLoader 0:   0%|                                                                   | 0/7 [00:00<?, ?it/s]\u001b[A\n",
      "Validation DataLoader 0:  14%|████████▍                                                  | 1/7 [00:00<00:00, 69.93it/s]\u001b[A\n",
      "Validation DataLoader 0:  29%|████████████████▊                                          | 2/7 [00:00<00:00, 72.49it/s]\u001b[A\n",
      "Validation DataLoader 0:  43%|█████████████████████████▎                                 | 3/7 [00:00<00:00, 77.80it/s]\u001b[A\n",
      "Validation DataLoader 0:  57%|█████████████████████████████████▋                         | 4/7 [00:00<00:00, 79.94it/s]\u001b[A\n",
      "Validation DataLoader 0:  71%|██████████████████████████████████████████▏                | 5/7 [00:00<00:00, 81.96it/s]\u001b[A\n",
      "Validation DataLoader 0:  86%|██████████████████████████████████████████████████▌        | 6/7 [00:00<00:00, 82.53it/s]\u001b[A\n",
      "Validation DataLoader 0: 100%|███████████████████████████████████████████████████████████| 7/7 [00:00<00:00, 85.70it/s]\u001b[A\n",
      "Epoch 41: 100%|██████████████████████████████| 21/21 [00:00<00:00, 52.40it/s, v_num=11, train_acc=0.774, val_acc=0.940]\u001b[A"
     ]
    },
    {
     "name": "stderr",
     "output_type": "stream",
     "text": [
      "Metric val_loss improved by 0.006 >= min_delta = 0.0. New best score: 0.231\n"
     ]
    },
    {
     "name": "stdout",
     "output_type": "stream",
     "text": [
      "Epoch 42: 100%|██████████████████████████████| 21/21 [00:00<00:00, 72.87it/s, v_num=11, train_acc=0.830, val_acc=0.940]\n",
      "Validation: |                                                                                    | 0/? [00:00<?, ?it/s]\u001b[A\n",
      "Validation:   0%|                                                                                | 0/7 [00:00<?, ?it/s]\u001b[A\n",
      "Validation DataLoader 0:   0%|                                                                   | 0/7 [00:00<?, ?it/s]\u001b[A\n",
      "Validation DataLoader 0:  14%|████████▍                                                  | 1/7 [00:00<00:00, 68.65it/s]\u001b[A\n",
      "Validation DataLoader 0:  29%|████████████████▊                                          | 2/7 [00:00<00:00, 75.16it/s]\u001b[A\n",
      "Validation DataLoader 0:  43%|█████████████████████████▎                                 | 3/7 [00:00<00:00, 77.85it/s]\u001b[A\n",
      "Validation DataLoader 0:  57%|█████████████████████████████████▋                         | 4/7 [00:00<00:00, 77.49it/s]\u001b[A\n",
      "Validation DataLoader 0:  71%|██████████████████████████████████████████▏                | 5/7 [00:00<00:00, 82.52it/s]\u001b[A\n",
      "Validation DataLoader 0:  86%|██████████████████████████████████████████████████▌        | 6/7 [00:00<00:00, 84.79it/s]\u001b[A\n",
      "Validation DataLoader 0: 100%|███████████████████████████████████████████████████████████| 7/7 [00:00<00:00, 83.32it/s]\u001b[A\n",
      "Epoch 42: 100%|██████████████████████████████| 21/21 [00:00<00:00, 52.37it/s, v_num=11, train_acc=0.830, val_acc=0.943]\u001b[A"
     ]
    },
    {
     "name": "stderr",
     "output_type": "stream",
     "text": [
      "Metric val_loss improved by 0.005 >= min_delta = 0.0. New best score: 0.226\n"
     ]
    },
    {
     "name": "stdout",
     "output_type": "stream",
     "text": [
      "Epoch 43: 100%|██████████████████████████████| 21/21 [00:00<00:00, 73.06it/s, v_num=11, train_acc=0.868, val_acc=0.943]\n",
      "Validation: |                                                                                    | 0/? [00:00<?, ?it/s]\u001b[A\n",
      "Validation:   0%|                                                                                | 0/7 [00:00<?, ?it/s]\u001b[A\n",
      "Validation DataLoader 0:   0%|                                                                   | 0/7 [00:00<?, ?it/s]\u001b[A\n",
      "Validation DataLoader 0:  14%|████████▍                                                  | 1/7 [00:00<00:00, 70.41it/s]\u001b[A\n",
      "Validation DataLoader 0:  29%|████████████████▊                                          | 2/7 [00:00<00:00, 76.83it/s]\u001b[A\n",
      "Validation DataLoader 0:  43%|█████████████████████████▎                                 | 3/7 [00:00<00:00, 78.95it/s]\u001b[A\n",
      "Validation DataLoader 0:  57%|█████████████████████████████████▋                         | 4/7 [00:00<00:00, 81.69it/s]\u001b[A\n",
      "Validation DataLoader 0:  71%|██████████████████████████████████████████▏                | 5/7 [00:00<00:00, 81.15it/s]\u001b[A\n",
      "Validation DataLoader 0:  86%|██████████████████████████████████████████████████▌        | 6/7 [00:00<00:00, 83.54it/s]\u001b[A\n",
      "Validation DataLoader 0: 100%|███████████████████████████████████████████████████████████| 7/7 [00:00<00:00, 84.55it/s]\u001b[A\n",
      "Epoch 43: 100%|██████████████████████████████| 21/21 [00:00<00:00, 52.10it/s, v_num=11, train_acc=0.868, val_acc=0.942]\u001b[A"
     ]
    },
    {
     "name": "stderr",
     "output_type": "stream",
     "text": [
      "Metric val_loss improved by 0.003 >= min_delta = 0.0. New best score: 0.223\n"
     ]
    },
    {
     "name": "stdout",
     "output_type": "stream",
     "text": [
      "Epoch 44: 100%|██████████████████████████████| 21/21 [00:00<00:00, 67.36it/s, v_num=11, train_acc=0.868, val_acc=0.942]\n",
      "Validation: |                                                                                    | 0/? [00:00<?, ?it/s]\u001b[A\n",
      "Validation:   0%|                                                                                | 0/7 [00:00<?, ?it/s]\u001b[A\n",
      "Validation DataLoader 0:   0%|                                                                   | 0/7 [00:00<?, ?it/s]\u001b[A\n",
      "Validation DataLoader 0:  14%|████████▍                                                  | 1/7 [00:00<00:00, 68.24it/s]\u001b[A\n",
      "Validation DataLoader 0:  29%|████████████████▊                                          | 2/7 [00:00<00:00, 78.05it/s]\u001b[A\n",
      "Validation DataLoader 0:  43%|█████████████████████████▎                                 | 3/7 [00:00<00:00, 80.31it/s]\u001b[A\n",
      "Validation DataLoader 0:  57%|█████████████████████████████████▋                         | 4/7 [00:00<00:00, 79.49it/s]\u001b[A\n",
      "Validation DataLoader 0:  71%|██████████████████████████████████████████▏                | 5/7 [00:00<00:00, 82.93it/s]\u001b[A\n",
      "Validation DataLoader 0:  86%|██████████████████████████████████████████████████▌        | 6/7 [00:00<00:00, 83.03it/s]\u001b[A\n",
      "Validation DataLoader 0: 100%|███████████████████████████████████████████████████████████| 7/7 [00:00<00:00, 82.13it/s]\u001b[A\n",
      "Epoch 44: 100%|██████████████████████████████| 21/21 [00:00<00:00, 49.34it/s, v_num=11, train_acc=0.868, val_acc=0.937]\u001b[A"
     ]
    },
    {
     "name": "stderr",
     "output_type": "stream",
     "text": [
      "Metric val_loss improved by 0.003 >= min_delta = 0.0. New best score: 0.220\n"
     ]
    },
    {
     "name": "stdout",
     "output_type": "stream",
     "text": [
      "Epoch 45: 100%|██████████████████████████████| 21/21 [00:00<00:00, 68.60it/s, v_num=11, train_acc=0.811, val_acc=0.937]\n",
      "Validation: |                                                                                    | 0/? [00:00<?, ?it/s]\u001b[A\n",
      "Validation:   0%|                                                                                | 0/7 [00:00<?, ?it/s]\u001b[A\n",
      "Validation DataLoader 0:   0%|                                                                   | 0/7 [00:00<?, ?it/s]\u001b[A\n",
      "Validation DataLoader 0:  14%|████████▍                                                  | 1/7 [00:00<00:00, 69.85it/s]\u001b[A\n",
      "Validation DataLoader 0:  29%|████████████████▊                                          | 2/7 [00:00<00:00, 73.89it/s]\u001b[A\n",
      "Validation DataLoader 0:  43%|█████████████████████████▎                                 | 3/7 [00:00<00:00, 78.86it/s]\u001b[A\n",
      "Validation DataLoader 0:  57%|█████████████████████████████████▋                         | 4/7 [00:00<00:00, 79.55it/s]\u001b[A\n",
      "Validation DataLoader 0:  71%|██████████████████████████████████████████▏                | 5/7 [00:00<00:00, 80.28it/s]\u001b[A\n",
      "Validation DataLoader 0:  86%|██████████████████████████████████████████████████▌        | 6/7 [00:00<00:00, 80.80it/s]\u001b[A\n",
      "Validation DataLoader 0: 100%|███████████████████████████████████████████████████████████| 7/7 [00:00<00:00, 83.11it/s]\u001b[A\n",
      "Epoch 46: 100%|██████████████████████████████| 21/21 [00:00<00:00, 69.27it/s, v_num=11, train_acc=0.792, val_acc=0.935]\u001b[A\n",
      "Validation: |                                                                                    | 0/? [00:00<?, ?it/s]\u001b[A\n",
      "Validation:   0%|                                                                                | 0/7 [00:00<?, ?it/s]\u001b[A\n",
      "Validation DataLoader 0:   0%|                                                                   | 0/7 [00:00<?, ?it/s]\u001b[A\n",
      "Validation DataLoader 0:  14%|████████▍                                                  | 1/7 [00:00<00:00, 70.03it/s]\u001b[A\n",
      "Validation DataLoader 0:  29%|████████████████▊                                          | 2/7 [00:00<00:00, 73.31it/s]\u001b[A\n",
      "Validation DataLoader 0:  43%|█████████████████████████▎                                 | 3/7 [00:00<00:00, 74.54it/s]\u001b[A\n",
      "Validation DataLoader 0:  57%|█████████████████████████████████▋                         | 4/7 [00:00<00:00, 76.61it/s]\u001b[A\n",
      "Validation DataLoader 0:  71%|██████████████████████████████████████████▏                | 5/7 [00:00<00:00, 76.77it/s]\u001b[A\n",
      "Validation DataLoader 0:  86%|██████████████████████████████████████████████████▌        | 6/7 [00:00<00:00, 77.69it/s]\u001b[A\n",
      "Validation DataLoader 0: 100%|███████████████████████████████████████████████████████████| 7/7 [00:00<00:00, 79.36it/s]\u001b[A\n",
      "Epoch 47: 100%|██████████████████████████████| 21/21 [00:00<00:00, 68.29it/s, v_num=11, train_acc=0.811, val_acc=0.938]\u001b[A\n",
      "Validation: |                                                                                    | 0/? [00:00<?, ?it/s]\u001b[A\n",
      "Validation:   0%|                                                                                | 0/7 [00:00<?, ?it/s]\u001b[A\n",
      "Validation DataLoader 0:   0%|                                                                   | 0/7 [00:00<?, ?it/s]\u001b[A\n",
      "Validation DataLoader 0:  14%|████████▍                                                  | 1/7 [00:00<00:00, 72.96it/s]\u001b[A\n",
      "Validation DataLoader 0:  29%|████████████████▊                                          | 2/7 [00:00<00:00, 74.99it/s]\u001b[A\n",
      "Validation DataLoader 0:  43%|█████████████████████████▎                                 | 3/7 [00:00<00:00, 77.21it/s]\u001b[A\n",
      "Validation DataLoader 0:  57%|█████████████████████████████████▋                         | 4/7 [00:00<00:00, 76.87it/s]\u001b[A\n",
      "Validation DataLoader 0:  71%|██████████████████████████████████████████▏                | 5/7 [00:00<00:00, 78.49it/s]\u001b[A\n",
      "Validation DataLoader 0:  86%|██████████████████████████████████████████████████▌        | 6/7 [00:00<00:00, 82.55it/s]\u001b[A\n",
      "Validation DataLoader 0: 100%|███████████████████████████████████████████████████████████| 7/7 [00:00<00:00, 83.39it/s]\u001b[A\n",
      "Epoch 47: 100%|██████████████████████████████| 21/21 [00:00<00:00, 49.90it/s, v_num=11, train_acc=0.811, val_acc=0.937]\u001b[A"
     ]
    },
    {
     "name": "stderr",
     "output_type": "stream",
     "text": [
      "Metric val_loss improved by 0.005 >= min_delta = 0.0. New best score: 0.215\n"
     ]
    },
    {
     "name": "stdout",
     "output_type": "stream",
     "text": [
      "Epoch 48: 100%|██████████████████████████████| 21/21 [00:00<00:00, 71.35it/s, v_num=11, train_acc=0.774, val_acc=0.937]\n",
      "Validation: |                                                                                    | 0/? [00:00<?, ?it/s]\u001b[A\n",
      "Validation:   0%|                                                                                | 0/7 [00:00<?, ?it/s]\u001b[A\n",
      "Validation DataLoader 0:   0%|                                                                   | 0/7 [00:00<?, ?it/s]\u001b[A\n",
      "Validation DataLoader 0:  14%|████████▍                                                  | 1/7 [00:00<00:00, 62.67it/s]\u001b[A\n",
      "Validation DataLoader 0:  29%|████████████████▊                                          | 2/7 [00:00<00:00, 67.94it/s]\u001b[A\n",
      "Validation DataLoader 0:  43%|█████████████████████████▎                                 | 3/7 [00:00<00:00, 74.12it/s]\u001b[A\n",
      "Validation DataLoader 0:  57%|█████████████████████████████████▋                         | 4/7 [00:00<00:00, 76.28it/s]\u001b[A\n",
      "Validation DataLoader 0:  71%|██████████████████████████████████████████▏                | 5/7 [00:00<00:00, 76.66it/s]\u001b[A\n",
      "Validation DataLoader 0:  86%|██████████████████████████████████████████████████▌        | 6/7 [00:00<00:00, 77.73it/s]\u001b[A\n",
      "Validation DataLoader 0: 100%|███████████████████████████████████████████████████████████| 7/7 [00:00<00:00, 78.51it/s]\u001b[A\n",
      "Epoch 49: 100%|██████████████████████████████| 21/21 [00:00<00:00, 71.15it/s, v_num=11, train_acc=0.849, val_acc=0.938]\u001b[A\n",
      "Validation: |                                                                                    | 0/? [00:00<?, ?it/s]\u001b[A\n",
      "Validation:   0%|                                                                                | 0/7 [00:00<?, ?it/s]\u001b[A\n",
      "Validation DataLoader 0:   0%|                                                                   | 0/7 [00:00<?, ?it/s]\u001b[A\n",
      "Validation DataLoader 0:  14%|████████▍                                                  | 1/7 [00:00<00:00, 65.49it/s]\u001b[A\n",
      "Validation DataLoader 0:  29%|████████████████▊                                          | 2/7 [00:00<00:00, 73.42it/s]\u001b[A\n",
      "Validation DataLoader 0:  43%|█████████████████████████▎                                 | 3/7 [00:00<00:00, 80.12it/s]\u001b[A\n",
      "Validation DataLoader 0:  57%|█████████████████████████████████▋                         | 4/7 [00:00<00:00, 81.32it/s]\u001b[A\n",
      "Validation DataLoader 0:  71%|██████████████████████████████████████████▏                | 5/7 [00:00<00:00, 84.51it/s]\u001b[A\n",
      "Validation DataLoader 0:  86%|██████████████████████████████████████████████████▌        | 6/7 [00:00<00:00, 83.68it/s]\u001b[A\n",
      "Validation DataLoader 0: 100%|███████████████████████████████████████████████████████████| 7/7 [00:00<00:00, 83.66it/s]\u001b[A\n",
      "Epoch 50: 100%|██████████████████████████████| 21/21 [00:00<00:00, 69.56it/s, v_num=11, train_acc=0.849, val_acc=0.939]\u001b[A\n",
      "Validation: |                                                                                    | 0/? [00:00<?, ?it/s]\u001b[A\n",
      "Validation:   0%|                                                                                | 0/7 [00:00<?, ?it/s]\u001b[A\n",
      "Validation DataLoader 0:   0%|                                                                   | 0/7 [00:00<?, ?it/s]\u001b[A\n",
      "Validation DataLoader 0:  14%|████████▍                                                  | 1/7 [00:00<00:00, 62.29it/s]\u001b[A\n",
      "Validation DataLoader 0:  29%|████████████████▊                                          | 2/7 [00:00<00:00, 73.22it/s]\u001b[A\n",
      "Validation DataLoader 0:  43%|█████████████████████████▎                                 | 3/7 [00:00<00:00, 77.62it/s]\u001b[A\n",
      "Validation DataLoader 0:  57%|█████████████████████████████████▋                         | 4/7 [00:00<00:00, 80.61it/s]\u001b[A\n",
      "Validation DataLoader 0:  71%|██████████████████████████████████████████▏                | 5/7 [00:00<00:00, 81.18it/s]\u001b[A\n",
      "Validation DataLoader 0:  86%|██████████████████████████████████████████████████▌        | 6/7 [00:00<00:00, 83.84it/s]\u001b[A\n",
      "Validation DataLoader 0: 100%|███████████████████████████████████████████████████████████| 7/7 [00:00<00:00, 82.81it/s]\u001b[A\n",
      "Epoch 50: 100%|██████████████████████████████| 21/21 [00:00<00:00, 50.64it/s, v_num=11, train_acc=0.849, val_acc=0.948]\u001b[A"
     ]
    },
    {
     "name": "stderr",
     "output_type": "stream",
     "text": [
      "Metric val_loss improved by 0.003 >= min_delta = 0.0. New best score: 0.212\n"
     ]
    },
    {
     "name": "stdout",
     "output_type": "stream",
     "text": [
      "Epoch 51: 100%|██████████████████████████████| 21/21 [00:00<00:00, 65.53it/s, v_num=11, train_acc=0.849, val_acc=0.948]\n",
      "Validation: |                                                                                    | 0/? [00:00<?, ?it/s]\u001b[A\n",
      "Validation:   0%|                                                                                | 0/7 [00:00<?, ?it/s]\u001b[A\n",
      "Validation DataLoader 0:   0%|                                                                   | 0/7 [00:00<?, ?it/s]\u001b[A\n",
      "Validation DataLoader 0:  14%|████████▍                                                  | 1/7 [00:00<00:00, 71.61it/s]\u001b[A\n",
      "Validation DataLoader 0:  29%|████████████████▊                                          | 2/7 [00:00<00:00, 81.17it/s]\u001b[A\n",
      "Validation DataLoader 0:  43%|█████████████████████████▎                                 | 3/7 [00:00<00:00, 84.25it/s]\u001b[A\n",
      "Validation DataLoader 0:  57%|█████████████████████████████████▋                         | 4/7 [00:00<00:00, 82.35it/s]\u001b[A\n",
      "Validation DataLoader 0:  71%|██████████████████████████████████████████▏                | 5/7 [00:00<00:00, 84.81it/s]\u001b[A\n",
      "Validation DataLoader 0:  86%|██████████████████████████████████████████████████▌        | 6/7 [00:00<00:00, 83.73it/s]\u001b[A\n",
      "Validation DataLoader 0: 100%|███████████████████████████████████████████████████████████| 7/7 [00:00<00:00, 85.75it/s]\u001b[A\n",
      "Epoch 51: 100%|██████████████████████████████| 21/21 [00:00<00:00, 48.68it/s, v_num=11, train_acc=0.849, val_acc=0.945]\u001b[A"
     ]
    },
    {
     "name": "stderr",
     "output_type": "stream",
     "text": [
      "Metric val_loss improved by 0.004 >= min_delta = 0.0. New best score: 0.208\n"
     ]
    },
    {
     "name": "stdout",
     "output_type": "stream",
     "text": [
      "Epoch 52: 100%|██████████████████████████████| 21/21 [00:00<00:00, 69.55it/s, v_num=11, train_acc=0.811, val_acc=0.945]\n",
      "Validation: |                                                                                    | 0/? [00:00<?, ?it/s]\u001b[A\n",
      "Validation:   0%|                                                                                | 0/7 [00:00<?, ?it/s]\u001b[A\n",
      "Validation DataLoader 0:   0%|                                                                   | 0/7 [00:00<?, ?it/s]\u001b[A\n",
      "Validation DataLoader 0:  14%|████████▍                                                  | 1/7 [00:00<00:00, 62.68it/s]\u001b[A\n",
      "Validation DataLoader 0:  29%|████████████████▊                                          | 2/7 [00:00<00:00, 74.28it/s]\u001b[A\n",
      "Validation DataLoader 0:  43%|█████████████████████████▎                                 | 3/7 [00:00<00:00, 79.16it/s]\u001b[A\n",
      "Validation DataLoader 0:  57%|█████████████████████████████████▋                         | 4/7 [00:00<00:00, 81.85it/s]\u001b[A\n",
      "Validation DataLoader 0:  71%|██████████████████████████████████████████▏                | 5/7 [00:00<00:00, 83.43it/s]\u001b[A\n",
      "Validation DataLoader 0:  86%|██████████████████████████████████████████████████▌        | 6/7 [00:00<00:00, 83.01it/s]\u001b[A\n",
      "Validation DataLoader 0: 100%|███████████████████████████████████████████████████████████| 7/7 [00:00<00:00, 85.32it/s]\u001b[A\n",
      "Epoch 52: 100%|██████████████████████████████| 21/21 [00:00<00:00, 49.31it/s, v_num=11, train_acc=0.811, val_acc=0.951]\u001b[A"
     ]
    },
    {
     "name": "stderr",
     "output_type": "stream",
     "text": [
      "Metric val_loss improved by 0.004 >= min_delta = 0.0. New best score: 0.205\n"
     ]
    },
    {
     "name": "stdout",
     "output_type": "stream",
     "text": [
      "Epoch 53: 100%|██████████████████████████████| 21/21 [00:00<00:00, 68.75it/s, v_num=11, train_acc=0.811, val_acc=0.951]\n",
      "Validation: |                                                                                    | 0/? [00:00<?, ?it/s]\u001b[A\n",
      "Validation:   0%|                                                                                | 0/7 [00:00<?, ?it/s]\u001b[A\n",
      "Validation DataLoader 0:   0%|                                                                   | 0/7 [00:00<?, ?it/s]\u001b[A\n",
      "Validation DataLoader 0:  14%|████████▍                                                  | 1/7 [00:00<00:00, 71.62it/s]\u001b[A\n",
      "Validation DataLoader 0:  29%|████████████████▊                                          | 2/7 [00:00<00:00, 80.21it/s]\u001b[A\n",
      "Validation DataLoader 0:  43%|█████████████████████████▎                                 | 3/7 [00:00<00:00, 84.05it/s]\u001b[A\n",
      "Validation DataLoader 0:  57%|█████████████████████████████████▋                         | 4/7 [00:00<00:00, 84.00it/s]\u001b[A\n",
      "Validation DataLoader 0:  71%|██████████████████████████████████████████▏                | 5/7 [00:00<00:00, 78.66it/s]\u001b[A\n",
      "Validation DataLoader 0:  86%|██████████████████████████████████████████████████▌        | 6/7 [00:00<00:00, 79.51it/s]\u001b[A\n",
      "Validation DataLoader 0: 100%|███████████████████████████████████████████████████████████| 7/7 [00:00<00:00, 80.65it/s]\u001b[A\n",
      "Epoch 53: 100%|██████████████████████████████| 21/21 [00:00<00:00, 49.50it/s, v_num=11, train_acc=0.811, val_acc=0.942]\u001b[A"
     ]
    },
    {
     "name": "stderr",
     "output_type": "stream",
     "text": [
      "Metric val_loss improved by 0.002 >= min_delta = 0.0. New best score: 0.203\n"
     ]
    },
    {
     "name": "stdout",
     "output_type": "stream",
     "text": [
      "Epoch 54: 100%|██████████████████████████████| 21/21 [00:00<00:00, 72.60it/s, v_num=11, train_acc=0.755, val_acc=0.942]\n",
      "Validation: |                                                                                    | 0/? [00:00<?, ?it/s]\u001b[A\n",
      "Validation:   0%|                                                                                | 0/7 [00:00<?, ?it/s]\u001b[A\n",
      "Validation DataLoader 0:   0%|                                                                   | 0/7 [00:00<?, ?it/s]\u001b[A\n",
      "Validation DataLoader 0:  14%|████████▍                                                  | 1/7 [00:00<00:00, 69.84it/s]\u001b[A\n",
      "Validation DataLoader 0:  29%|████████████████▊                                          | 2/7 [00:00<00:00, 79.09it/s]\u001b[A\n",
      "Validation DataLoader 0:  43%|█████████████████████████▎                                 | 3/7 [00:00<00:00, 81.60it/s]\u001b[A\n",
      "Validation DataLoader 0:  57%|█████████████████████████████████▋                         | 4/7 [00:00<00:00, 79.94it/s]\u001b[A\n",
      "Validation DataLoader 0:  71%|██████████████████████████████████████████▏                | 5/7 [00:00<00:00, 80.19it/s]\u001b[A\n",
      "Validation DataLoader 0:  86%|██████████████████████████████████████████████████▌        | 6/7 [00:00<00:00, 82.96it/s]\u001b[A\n",
      "Validation DataLoader 0: 100%|███████████████████████████████████████████████████████████| 7/7 [00:00<00:00, 83.85it/s]\u001b[A\n",
      "Epoch 55: 100%|██████████████████████████████| 21/21 [00:00<00:00, 68.47it/s, v_num=11, train_acc=0.906, val_acc=0.959]\u001b[A\n",
      "Validation: |                                                                                    | 0/? [00:00<?, ?it/s]\u001b[A\n",
      "Validation:   0%|                                                                                | 0/7 [00:00<?, ?it/s]\u001b[A\n",
      "Validation DataLoader 0:   0%|                                                                   | 0/7 [00:00<?, ?it/s]\u001b[A\n",
      "Validation DataLoader 0:  14%|████████▍                                                  | 1/7 [00:00<00:00, 71.62it/s]\u001b[A\n",
      "Validation DataLoader 0:  29%|████████████████▊                                          | 2/7 [00:00<00:00, 75.59it/s]\u001b[A\n",
      "Validation DataLoader 0:  43%|█████████████████████████▎                                 | 3/7 [00:00<00:00, 80.18it/s]\u001b[A\n",
      "Validation DataLoader 0:  57%|█████████████████████████████████▋                         | 4/7 [00:00<00:00, 80.38it/s]\u001b[A\n",
      "Validation DataLoader 0:  71%|██████████████████████████████████████████▏                | 5/7 [00:00<00:00, 79.54it/s]\u001b[A\n",
      "Validation DataLoader 0:  86%|██████████████████████████████████████████████████▌        | 6/7 [00:00<00:00, 81.76it/s]\u001b[A\n",
      "Validation DataLoader 0: 100%|███████████████████████████████████████████████████████████| 7/7 [00:00<00:00, 81.06it/s]\u001b[A\n",
      "Epoch 55: 100%|██████████████████████████████| 21/21 [00:00<00:00, 49.09it/s, v_num=11, train_acc=0.906, val_acc=0.956]\u001b[A"
     ]
    },
    {
     "name": "stderr",
     "output_type": "stream",
     "text": [
      "Metric val_loss improved by 0.002 >= min_delta = 0.0. New best score: 0.201\n"
     ]
    },
    {
     "name": "stdout",
     "output_type": "stream",
     "text": [
      "Epoch 56: 100%|██████████████████████████████| 21/21 [00:00<00:00, 70.13it/s, v_num=11, train_acc=0.811, val_acc=0.956]\n",
      "Validation: |                                                                                    | 0/? [00:00<?, ?it/s]\u001b[A\n",
      "Validation:   0%|                                                                                | 0/7 [00:00<?, ?it/s]\u001b[A\n",
      "Validation DataLoader 0:   0%|                                                                   | 0/7 [00:00<?, ?it/s]\u001b[A\n",
      "Validation DataLoader 0:  14%|████████▍                                                  | 1/7 [00:00<00:00, 68.18it/s]\u001b[A\n",
      "Validation DataLoader 0:  29%|████████████████▊                                          | 2/7 [00:00<00:00, 72.98it/s]\u001b[A\n",
      "Validation DataLoader 0:  43%|█████████████████████████▎                                 | 3/7 [00:00<00:00, 76.08it/s]\u001b[A\n",
      "Validation DataLoader 0:  57%|█████████████████████████████████▋                         | 4/7 [00:00<00:00, 78.94it/s]\u001b[A\n",
      "Validation DataLoader 0:  71%|██████████████████████████████████████████▏                | 5/7 [00:00<00:00, 82.44it/s]\u001b[A\n",
      "Validation DataLoader 0:  86%|██████████████████████████████████████████████████▌        | 6/7 [00:00<00:00, 84.45it/s]\u001b[A\n",
      "Validation DataLoader 0: 100%|███████████████████████████████████████████████████████████| 7/7 [00:00<00:00, 84.33it/s]\u001b[A\n",
      "Epoch 56: 100%|██████████████████████████████| 21/21 [00:00<00:00, 49.51it/s, v_num=11, train_acc=0.811, val_acc=0.955]\u001b[A"
     ]
    },
    {
     "name": "stderr",
     "output_type": "stream",
     "text": [
      "Metric val_loss improved by 0.000 >= min_delta = 0.0. New best score: 0.200\n"
     ]
    },
    {
     "name": "stdout",
     "output_type": "stream",
     "text": [
      "Epoch 57: 100%|██████████████████████████████| 21/21 [00:00<00:00, 64.49it/s, v_num=11, train_acc=0.830, val_acc=0.955]\n",
      "Validation: |                                                                                    | 0/? [00:00<?, ?it/s]\u001b[A\n",
      "Validation:   0%|                                                                                | 0/7 [00:00<?, ?it/s]\u001b[A\n",
      "Validation DataLoader 0:   0%|                                                                   | 0/7 [00:00<?, ?it/s]\u001b[A\n",
      "Validation DataLoader 0:  14%|████████▍                                                  | 1/7 [00:00<00:00, 71.56it/s]\u001b[A\n",
      "Validation DataLoader 0:  29%|████████████████▊                                          | 2/7 [00:00<00:00, 72.73it/s]\u001b[A\n",
      "Validation DataLoader 0:  43%|█████████████████████████▎                                 | 3/7 [00:00<00:00, 76.01it/s]\u001b[A\n",
      "Validation DataLoader 0:  57%|█████████████████████████████████▋                         | 4/7 [00:00<00:00, 76.68it/s]\u001b[A\n",
      "Validation DataLoader 0:  71%|██████████████████████████████████████████▏                | 5/7 [00:00<00:00, 76.00it/s]\u001b[A\n",
      "Validation DataLoader 0:  86%|██████████████████████████████████████████████████▌        | 6/7 [00:00<00:00, 79.33it/s]\u001b[A\n",
      "Validation DataLoader 0: 100%|███████████████████████████████████████████████████████████| 7/7 [00:00<00:00, 81.78it/s]\u001b[A\n",
      "Epoch 57: 100%|██████████████████████████████| 21/21 [00:00<00:00, 46.26it/s, v_num=11, train_acc=0.830, val_acc=0.960]\u001b[A"
     ]
    },
    {
     "name": "stderr",
     "output_type": "stream",
     "text": [
      "Metric val_loss improved by 0.002 >= min_delta = 0.0. New best score: 0.198\n"
     ]
    },
    {
     "name": "stdout",
     "output_type": "stream",
     "text": [
      "Epoch 58: 100%|██████████████████████████████| 21/21 [00:00<00:00, 68.70it/s, v_num=11, train_acc=0.830, val_acc=0.960]\n",
      "Validation: |                                                                                    | 0/? [00:00<?, ?it/s]\u001b[A\n",
      "Validation:   0%|                                                                                | 0/7 [00:00<?, ?it/s]\u001b[A\n",
      "Validation DataLoader 0:   0%|                                                                   | 0/7 [00:00<?, ?it/s]\u001b[A\n",
      "Validation DataLoader 0:  14%|████████▍                                                  | 1/7 [00:00<00:00, 68.32it/s]\u001b[A\n",
      "Validation DataLoader 0:  29%|████████████████▊                                          | 2/7 [00:00<00:00, 76.16it/s]\u001b[A\n",
      "Validation DataLoader 0:  43%|█████████████████████████▎                                 | 3/7 [00:00<00:00, 76.48it/s]\u001b[A\n",
      "Validation DataLoader 0:  57%|█████████████████████████████████▋                         | 4/7 [00:00<00:00, 78.45it/s]\u001b[A\n",
      "Validation DataLoader 0:  71%|██████████████████████████████████████████▏                | 5/7 [00:00<00:00, 80.70it/s]\u001b[A\n",
      "Validation DataLoader 0:  86%|██████████████████████████████████████████████████▌        | 6/7 [00:00<00:00, 83.42it/s]\u001b[A\n",
      "Validation DataLoader 0: 100%|███████████████████████████████████████████████████████████| 7/7 [00:00<00:00, 85.11it/s]\u001b[A\n",
      "Epoch 58: 100%|██████████████████████████████| 21/21 [00:00<00:00, 48.45it/s, v_num=11, train_acc=0.830, val_acc=0.955]\u001b[A"
     ]
    },
    {
     "name": "stderr",
     "output_type": "stream",
     "text": [
      "Metric val_loss improved by 0.004 >= min_delta = 0.0. New best score: 0.194\n"
     ]
    },
    {
     "name": "stdout",
     "output_type": "stream",
     "text": [
      "Epoch 59: 100%|██████████████████████████████| 21/21 [00:00<00:00, 64.97it/s, v_num=11, train_acc=0.849, val_acc=0.955]\n",
      "Validation: |                                                                                    | 0/? [00:00<?, ?it/s]\u001b[A\n",
      "Validation:   0%|                                                                                | 0/7 [00:00<?, ?it/s]\u001b[A\n",
      "Validation DataLoader 0:   0%|                                                                   | 0/7 [00:00<?, ?it/s]\u001b[A\n",
      "Validation DataLoader 0:  14%|████████▍                                                  | 1/7 [00:00<00:00, 72.15it/s]\u001b[A\n",
      "Validation DataLoader 0:  29%|████████████████▊                                          | 2/7 [00:00<00:00, 77.58it/s]\u001b[A\n",
      "Validation DataLoader 0:  43%|█████████████████████████▎                                 | 3/7 [00:00<00:00, 83.90it/s]\u001b[A\n",
      "Validation DataLoader 0:  57%|█████████████████████████████████▋                         | 4/7 [00:00<00:00, 82.05it/s]\u001b[A\n",
      "Validation DataLoader 0:  71%|██████████████████████████████████████████▏                | 5/7 [00:00<00:00, 83.95it/s]\u001b[A\n",
      "Validation DataLoader 0:  86%|██████████████████████████████████████████████████▌        | 6/7 [00:00<00:00, 86.29it/s]\u001b[A\n",
      "Validation DataLoader 0: 100%|███████████████████████████████████████████████████████████| 7/7 [00:00<00:00, 85.89it/s]\u001b[A\n",
      "Epoch 59: 100%|██████████████████████████████| 21/21 [00:00<00:00, 48.29it/s, v_num=11, train_acc=0.849, val_acc=0.952]\u001b[A"
     ]
    },
    {
     "name": "stderr",
     "output_type": "stream",
     "text": [
      "Metric val_loss improved by 0.004 >= min_delta = 0.0. New best score: 0.190\n"
     ]
    },
    {
     "name": "stdout",
     "output_type": "stream",
     "text": [
      "Epoch 60: 100%|██████████████████████████████| 21/21 [00:00<00:00, 68.05it/s, v_num=11, train_acc=0.755, val_acc=0.952]\n",
      "Validation: |                                                                                    | 0/? [00:00<?, ?it/s]\u001b[A\n",
      "Validation:   0%|                                                                                | 0/7 [00:00<?, ?it/s]\u001b[A\n",
      "Validation DataLoader 0:   0%|                                                                   | 0/7 [00:00<?, ?it/s]\u001b[A\n",
      "Validation DataLoader 0:  14%|████████▍                                                  | 1/7 [00:00<00:00, 69.35it/s]\u001b[A\n",
      "Validation DataLoader 0:  29%|████████████████▊                                          | 2/7 [00:00<00:00, 81.99it/s]\u001b[A\n",
      "Validation DataLoader 0:  43%|█████████████████████████▎                                 | 3/7 [00:00<00:00, 77.47it/s]\u001b[A\n",
      "Validation DataLoader 0:  57%|█████████████████████████████████▋                         | 4/7 [00:00<00:00, 79.26it/s]\u001b[A\n",
      "Validation DataLoader 0:  71%|██████████████████████████████████████████▏                | 5/7 [00:00<00:00, 81.14it/s]\u001b[A\n",
      "Validation DataLoader 0:  86%|██████████████████████████████████████████████████▌        | 6/7 [00:00<00:00, 83.80it/s]\u001b[A\n",
      "Validation DataLoader 0: 100%|███████████████████████████████████████████████████████████| 7/7 [00:00<00:00, 83.52it/s]\u001b[A\n",
      "Epoch 61: 100%|██████████████████████████████| 21/21 [00:00<00:00, 71.46it/s, v_num=11, train_acc=0.792, val_acc=0.961]\u001b[A\n",
      "Validation: |                                                                                    | 0/? [00:00<?, ?it/s]\u001b[A\n",
      "Validation:   0%|                                                                                | 0/7 [00:00<?, ?it/s]\u001b[A\n",
      "Validation DataLoader 0:   0%|                                                                   | 0/7 [00:00<?, ?it/s]\u001b[A\n",
      "Validation DataLoader 0:  14%|████████▍                                                  | 1/7 [00:00<00:00, 68.70it/s]\u001b[A\n",
      "Validation DataLoader 0:  29%|████████████████▊                                          | 2/7 [00:00<00:00, 77.61it/s]\u001b[A\n",
      "Validation DataLoader 0:  43%|█████████████████████████▎                                 | 3/7 [00:00<00:00, 83.94it/s]\u001b[A\n",
      "Validation DataLoader 0:  57%|█████████████████████████████████▋                         | 4/7 [00:00<00:00, 86.04it/s]\u001b[A\n",
      "Validation DataLoader 0:  71%|██████████████████████████████████████████▏                | 5/7 [00:00<00:00, 85.06it/s]\u001b[A\n",
      "Validation DataLoader 0:  86%|██████████████████████████████████████████████████▌        | 6/7 [00:00<00:00, 87.26it/s]\u001b[A\n",
      "Validation DataLoader 0: 100%|███████████████████████████████████████████████████████████| 7/7 [00:00<00:00, 86.71it/s]\u001b[A\n",
      "Epoch 62: 100%|██████████████████████████████| 21/21 [00:00<00:00, 70.93it/s, v_num=11, train_acc=0.868, val_acc=0.959]\u001b[A\n",
      "Validation: |                                                                                    | 0/? [00:00<?, ?it/s]\u001b[A\n",
      "Validation:   0%|                                                                                | 0/7 [00:00<?, ?it/s]\u001b[A\n",
      "Validation DataLoader 0:   0%|                                                                   | 0/7 [00:00<?, ?it/s]\u001b[A\n",
      "Validation DataLoader 0:  14%|████████▍                                                  | 1/7 [00:00<00:00, 65.63it/s]\u001b[A\n",
      "Validation DataLoader 0:  29%|████████████████▊                                          | 2/7 [00:00<00:00, 76.31it/s]\u001b[A\n",
      "Validation DataLoader 0:  43%|█████████████████████████▎                                 | 3/7 [00:00<00:00, 77.97it/s]\u001b[A\n",
      "Validation DataLoader 0:  57%|█████████████████████████████████▋                         | 4/7 [00:00<00:00, 80.01it/s]\u001b[A\n",
      "Validation DataLoader 0:  71%|██████████████████████████████████████████▏                | 5/7 [00:00<00:00, 82.02it/s]\u001b[A\n",
      "Validation DataLoader 0:  86%|██████████████████████████████████████████████████▌        | 6/7 [00:00<00:00, 81.94it/s]\u001b[A\n",
      "Validation DataLoader 0: 100%|███████████████████████████████████████████████████████████| 7/7 [00:00<00:00, 82.82it/s]\u001b[A\n",
      "Epoch 63: 100%|██████████████████████████████| 21/21 [00:00<00:00, 68.67it/s, v_num=11, train_acc=0.887, val_acc=0.951]\u001b[A\n",
      "Validation: |                                                                                    | 0/? [00:00<?, ?it/s]\u001b[A\n",
      "Validation:   0%|                                                                                | 0/7 [00:00<?, ?it/s]\u001b[A\n",
      "Validation DataLoader 0:   0%|                                                                   | 0/7 [00:00<?, ?it/s]\u001b[A\n",
      "Validation DataLoader 0:  14%|████████▍                                                  | 1/7 [00:00<00:00, 67.95it/s]\u001b[A\n",
      "Validation DataLoader 0:  29%|████████████████▊                                          | 2/7 [00:00<00:00, 76.12it/s]\u001b[A\n",
      "Validation DataLoader 0:  43%|█████████████████████████▎                                 | 3/7 [00:00<00:00, 81.59it/s]\u001b[A\n",
      "Validation DataLoader 0:  57%|█████████████████████████████████▋                         | 4/7 [00:00<00:00, 82.08it/s]\u001b[A\n",
      "Validation DataLoader 0:  71%|██████████████████████████████████████████▏                | 5/7 [00:00<00:00, 82.37it/s]\u001b[A\n",
      "Validation DataLoader 0:  86%|██████████████████████████████████████████████████▌        | 6/7 [00:00<00:00, 82.56it/s]\u001b[A\n",
      "Validation DataLoader 0: 100%|███████████████████████████████████████████████████████████| 7/7 [00:00<00:00, 82.70it/s]\u001b[A\n",
      "Epoch 63: 100%|██████████████████████████████| 21/21 [00:00<00:00, 49.42it/s, v_num=11, train_acc=0.887, val_acc=0.963]\u001b[A"
     ]
    },
    {
     "name": "stderr",
     "output_type": "stream",
     "text": [
      "Metric val_loss improved by 0.000 >= min_delta = 0.0. New best score: 0.190\n"
     ]
    },
    {
     "name": "stdout",
     "output_type": "stream",
     "text": [
      "Epoch 64: 100%|██████████████████████████████| 21/21 [00:00<00:00, 69.69it/s, v_num=11, train_acc=0.830, val_acc=0.963]\n",
      "Validation: |                                                                                    | 0/? [00:00<?, ?it/s]\u001b[A\n",
      "Validation:   0%|                                                                                | 0/7 [00:00<?, ?it/s]\u001b[A\n",
      "Validation DataLoader 0:   0%|                                                                   | 0/7 [00:00<?, ?it/s]\u001b[A\n",
      "Validation DataLoader 0:  14%|████████▍                                                  | 1/7 [00:00<00:00, 73.20it/s]\u001b[A\n",
      "Validation DataLoader 0:  29%|████████████████▊                                          | 2/7 [00:00<00:00, 80.43it/s]\u001b[A\n",
      "Validation DataLoader 0:  43%|█████████████████████████▎                                 | 3/7 [00:00<00:00, 84.85it/s]\u001b[A\n",
      "Validation DataLoader 0:  57%|█████████████████████████████████▋                         | 4/7 [00:00<00:00, 83.43it/s]\u001b[A\n",
      "Validation DataLoader 0:  71%|██████████████████████████████████████████▏                | 5/7 [00:00<00:00, 86.45it/s]\u001b[A\n",
      "Validation DataLoader 0:  86%|██████████████████████████████████████████████████▌        | 6/7 [00:00<00:00, 77.94it/s]\u001b[A\n",
      "Validation DataLoader 0: 100%|███████████████████████████████████████████████████████████| 7/7 [00:00<00:00, 81.31it/s]\u001b[A\n",
      "Epoch 65: 100%|██████████████████████████████| 21/21 [00:00<00:00, 63.44it/s, v_num=11, train_acc=0.943, val_acc=0.960]\u001b[A\n",
      "Validation: |                                                                                    | 0/? [00:00<?, ?it/s]\u001b[A\n",
      "Validation:   0%|                                                                                | 0/7 [00:00<?, ?it/s]\u001b[A\n",
      "Validation DataLoader 0:   0%|                                                                   | 0/7 [00:00<?, ?it/s]\u001b[A\n",
      "Validation DataLoader 0:  14%|████████▍                                                  | 1/7 [00:00<00:00, 66.84it/s]\u001b[A\n",
      "Validation DataLoader 0:  29%|████████████████▊                                          | 2/7 [00:00<00:00, 76.40it/s]\u001b[A\n",
      "Validation DataLoader 0:  43%|█████████████████████████▎                                 | 3/7 [00:00<00:00, 73.24it/s]\u001b[A\n",
      "Validation DataLoader 0:  57%|█████████████████████████████████▋                         | 4/7 [00:00<00:00, 74.60it/s]\u001b[A\n",
      "Validation DataLoader 0:  71%|██████████████████████████████████████████▏                | 5/7 [00:00<00:00, 77.41it/s]\u001b[A\n",
      "Validation DataLoader 0:  86%|██████████████████████████████████████████████████▌        | 6/7 [00:00<00:00, 79.27it/s]\u001b[A\n",
      "Validation DataLoader 0: 100%|███████████████████████████████████████████████████████████| 7/7 [00:00<00:00, 79.85it/s]\u001b[A\n",
      "Epoch 65: 100%|██████████████████████████████| 21/21 [00:00<00:00, 46.86it/s, v_num=11, train_acc=0.943, val_acc=0.962]\u001b[A"
     ]
    },
    {
     "name": "stderr",
     "output_type": "stream",
     "text": [
      "Metric val_loss improved by 0.002 >= min_delta = 0.0. New best score: 0.188\n"
     ]
    },
    {
     "name": "stdout",
     "output_type": "stream",
     "text": [
      "Epoch 66: 100%|██████████████████████████████| 21/21 [00:00<00:00, 64.27it/s, v_num=11, train_acc=0.849, val_acc=0.962]\n",
      "Validation: |                                                                                    | 0/? [00:00<?, ?it/s]\u001b[A\n",
      "Validation:   0%|                                                                                | 0/7 [00:00<?, ?it/s]\u001b[A\n",
      "Validation DataLoader 0:   0%|                                                                   | 0/7 [00:00<?, ?it/s]\u001b[A\n",
      "Validation DataLoader 0:  14%|████████▍                                                  | 1/7 [00:00<00:00, 68.07it/s]\u001b[A\n",
      "Validation DataLoader 0:  29%|████████████████▊                                          | 2/7 [00:00<00:00, 74.29it/s]\u001b[A\n",
      "Validation DataLoader 0:  43%|█████████████████████████▎                                 | 3/7 [00:00<00:00, 77.14it/s]\u001b[A\n",
      "Validation DataLoader 0:  57%|█████████████████████████████████▋                         | 4/7 [00:00<00:00, 78.19it/s]\u001b[A\n",
      "Validation DataLoader 0:  71%|██████████████████████████████████████████▏                | 5/7 [00:00<00:00, 79.20it/s]\u001b[A\n",
      "Validation DataLoader 0:  86%|██████████████████████████████████████████████████▌        | 6/7 [00:00<00:00, 82.10it/s]\u001b[A\n",
      "Validation DataLoader 0: 100%|███████████████████████████████████████████████████████████| 7/7 [00:00<00:00, 82.43it/s]\u001b[A\n",
      "Epoch 66: 100%|██████████████████████████████| 21/21 [00:00<00:00, 47.75it/s, v_num=11, train_acc=0.849, val_acc=0.956]\u001b[A"
     ]
    },
    {
     "name": "stderr",
     "output_type": "stream",
     "text": [
      "Metric val_loss improved by 0.005 >= min_delta = 0.0. New best score: 0.183\n"
     ]
    },
    {
     "name": "stdout",
     "output_type": "stream",
     "text": [
      "Epoch 67: 100%|██████████████████████████████| 21/21 [00:00<00:00, 70.69it/s, v_num=11, train_acc=0.792, val_acc=0.956]\n",
      "Validation: |                                                                                    | 0/? [00:00<?, ?it/s]\u001b[A\n",
      "Validation:   0%|                                                                                | 0/7 [00:00<?, ?it/s]\u001b[A\n",
      "Validation DataLoader 0:   0%|                                                                   | 0/7 [00:00<?, ?it/s]\u001b[A\n",
      "Validation DataLoader 0:  14%|████████▍                                                  | 1/7 [00:00<00:00, 65.02it/s]\u001b[A\n",
      "Validation DataLoader 0:  29%|████████████████▊                                          | 2/7 [00:00<00:00, 72.80it/s]\u001b[A\n",
      "Validation DataLoader 0:  43%|█████████████████████████▎                                 | 3/7 [00:00<00:00, 75.95it/s]\u001b[A\n",
      "Validation DataLoader 0:  57%|█████████████████████████████████▋                         | 4/7 [00:00<00:00, 80.85it/s]\u001b[A\n",
      "Validation DataLoader 0:  71%|██████████████████████████████████████████▏                | 5/7 [00:00<00:00, 81.59it/s]\u001b[A\n",
      "Validation DataLoader 0:  86%|██████████████████████████████████████████████████▌        | 6/7 [00:00<00:00, 82.24it/s]\u001b[A\n",
      "Validation DataLoader 0: 100%|███████████████████████████████████████████████████████████| 7/7 [00:00<00:00, 83.40it/s]\u001b[A\n",
      "Epoch 67: 100%|██████████████████████████████| 21/21 [00:00<00:00, 51.17it/s, v_num=11, train_acc=0.792, val_acc=0.962]\u001b[A"
     ]
    },
    {
     "name": "stderr",
     "output_type": "stream",
     "text": [
      "Metric val_loss improved by 0.001 >= min_delta = 0.0. New best score: 0.182\n"
     ]
    },
    {
     "name": "stdout",
     "output_type": "stream",
     "text": [
      "Epoch 68: 100%|██████████████████████████████| 21/21 [00:00<00:00, 68.49it/s, v_num=11, train_acc=0.774, val_acc=0.962]\n",
      "Validation: |                                                                                    | 0/? [00:00<?, ?it/s]\u001b[A\n",
      "Validation:   0%|                                                                                | 0/7 [00:00<?, ?it/s]\u001b[A\n",
      "Validation DataLoader 0:   0%|                                                                   | 0/7 [00:00<?, ?it/s]\u001b[A\n",
      "Validation DataLoader 0:  14%|████████▍                                                  | 1/7 [00:00<00:00, 67.20it/s]\u001b[A\n",
      "Validation DataLoader 0:  29%|████████████████▊                                          | 2/7 [00:00<00:00, 74.73it/s]\u001b[A\n",
      "Validation DataLoader 0:  43%|█████████████████████████▎                                 | 3/7 [00:00<00:00, 76.63it/s]\u001b[A\n",
      "Validation DataLoader 0:  57%|█████████████████████████████████▋                         | 4/7 [00:00<00:00, 75.74it/s]\u001b[A\n",
      "Validation DataLoader 0:  71%|██████████████████████████████████████████▏                | 5/7 [00:00<00:00, 78.39it/s]\u001b[A\n",
      "Validation DataLoader 0:  86%|██████████████████████████████████████████████████▌        | 6/7 [00:00<00:00, 78.39it/s]\u001b[A\n",
      "Validation DataLoader 0: 100%|███████████████████████████████████████████████████████████| 7/7 [00:00<00:00, 80.30it/s]\u001b[A\n",
      "Epoch 69: 100%|██████████████████████████████| 21/21 [00:00<00:00, 70.37it/s, v_num=11, train_acc=0.925, val_acc=0.963]\u001b[A\n",
      "Validation: |                                                                                    | 0/? [00:00<?, ?it/s]\u001b[A\n",
      "Validation:   0%|                                                                                | 0/7 [00:00<?, ?it/s]\u001b[A\n",
      "Validation DataLoader 0:   0%|                                                                   | 0/7 [00:00<?, ?it/s]\u001b[A\n",
      "Validation DataLoader 0:  14%|████████▍                                                  | 1/7 [00:00<00:00, 68.59it/s]\u001b[A\n",
      "Validation DataLoader 0:  29%|████████████████▊                                          | 2/7 [00:00<00:00, 81.45it/s]\u001b[A\n",
      "Validation DataLoader 0:  43%|█████████████████████████▎                                 | 3/7 [00:00<00:00, 84.45it/s]\u001b[A\n",
      "Validation DataLoader 0:  57%|█████████████████████████████████▋                         | 4/7 [00:00<00:00, 84.51it/s]\u001b[A\n",
      "Validation DataLoader 0:  71%|██████████████████████████████████████████▏                | 5/7 [00:00<00:00, 84.31it/s]\u001b[A\n",
      "Validation DataLoader 0:  86%|██████████████████████████████████████████████████▌        | 6/7 [00:00<00:00, 83.85it/s]\u001b[A\n",
      "Validation DataLoader 0: 100%|███████████████████████████████████████████████████████████| 7/7 [00:00<00:00, 84.64it/s]\u001b[A\n",
      "Epoch 69: 100%|██████████████████████████████| 21/21 [00:00<00:00, 51.29it/s, v_num=11, train_acc=0.925, val_acc=0.961]\u001b[A"
     ]
    },
    {
     "name": "stderr",
     "output_type": "stream",
     "text": [
      "Metric val_loss improved by 0.003 >= min_delta = 0.0. New best score: 0.179\n"
     ]
    },
    {
     "name": "stdout",
     "output_type": "stream",
     "text": [
      "Epoch 70: 100%|██████████████████████████████| 21/21 [00:00<00:00, 71.90it/s, v_num=11, train_acc=0.925, val_acc=0.961]\n",
      "Validation: |                                                                                    | 0/? [00:00<?, ?it/s]\u001b[A\n",
      "Validation:   0%|                                                                                | 0/7 [00:00<?, ?it/s]\u001b[A\n",
      "Validation DataLoader 0:   0%|                                                                   | 0/7 [00:00<?, ?it/s]\u001b[A\n",
      "Validation DataLoader 0:  14%|████████▍                                                  | 1/7 [00:00<00:00, 68.30it/s]\u001b[A\n",
      "Validation DataLoader 0:  29%|████████████████▊                                          | 2/7 [00:00<00:00, 78.09it/s]\u001b[A\n",
      "Validation DataLoader 0:  43%|█████████████████████████▎                                 | 3/7 [00:00<00:00, 78.22it/s]\u001b[A\n",
      "Validation DataLoader 0:  57%|█████████████████████████████████▋                         | 4/7 [00:00<00:00, 80.01it/s]\u001b[A\n",
      "Validation DataLoader 0:  71%|██████████████████████████████████████████▏                | 5/7 [00:00<00:00, 82.02it/s]\u001b[A\n",
      "Validation DataLoader 0:  86%|██████████████████████████████████████████████████▌        | 6/7 [00:00<00:00, 81.86it/s]\u001b[A\n",
      "Validation DataLoader 0: 100%|███████████████████████████████████████████████████████████| 7/7 [00:00<00:00, 81.02it/s]\u001b[A\n",
      "Epoch 71: 100%|██████████████████████████████| 21/21 [00:00<00:00, 70.88it/s, v_num=11, train_acc=0.736, val_acc=0.962]\u001b[A\n",
      "Validation: |                                                                                    | 0/? [00:00<?, ?it/s]\u001b[A\n",
      "Validation:   0%|                                                                                | 0/7 [00:00<?, ?it/s]\u001b[A\n",
      "Validation DataLoader 0:   0%|                                                                   | 0/7 [00:00<?, ?it/s]\u001b[A\n",
      "Validation DataLoader 0:  14%|████████▍                                                  | 1/7 [00:00<00:00, 66.80it/s]\u001b[A\n",
      "Validation DataLoader 0:  29%|████████████████▊                                          | 2/7 [00:00<00:00, 77.67it/s]\u001b[A\n",
      "Validation DataLoader 0:  43%|█████████████████████████▎                                 | 3/7 [00:00<00:00, 83.98it/s]\u001b[A\n",
      "Validation DataLoader 0:  57%|█████████████████████████████████▋                         | 4/7 [00:00<00:00, 81.68it/s]\u001b[A\n",
      "Validation DataLoader 0:  71%|██████████████████████████████████████████▏                | 5/7 [00:00<00:00, 83.41it/s]\u001b[A\n",
      "Validation DataLoader 0:  86%|██████████████████████████████████████████████████▌        | 6/7 [00:00<00:00, 84.33it/s]\u001b[A\n",
      "Validation DataLoader 0: 100%|███████████████████████████████████████████████████████████| 7/7 [00:00<00:00, 84.22it/s]\u001b[A\n",
      "Epoch 71: 100%|██████████████████████████████| 21/21 [00:00<00:00, 51.18it/s, v_num=11, train_acc=0.736, val_acc=0.964]\u001b[A"
     ]
    },
    {
     "name": "stderr",
     "output_type": "stream",
     "text": [
      "Metric val_loss improved by 0.000 >= min_delta = 0.0. New best score: 0.179\n"
     ]
    },
    {
     "name": "stdout",
     "output_type": "stream",
     "text": [
      "Epoch 72: 100%|██████████████████████████████| 21/21 [00:00<00:00, 67.72it/s, v_num=11, train_acc=0.811, val_acc=0.964]\n",
      "Validation: |                                                                                    | 0/? [00:00<?, ?it/s]\u001b[A\n",
      "Validation:   0%|                                                                                | 0/7 [00:00<?, ?it/s]\u001b[A\n",
      "Validation DataLoader 0:   0%|                                                                   | 0/7 [00:00<?, ?it/s]\u001b[A\n",
      "Validation DataLoader 0:  14%|████████▍                                                  | 1/7 [00:00<00:00, 68.05it/s]\u001b[A\n",
      "Validation DataLoader 0:  29%|████████████████▊                                          | 2/7 [00:00<00:00, 77.92it/s]\u001b[A\n",
      "Validation DataLoader 0:  43%|█████████████████████████▎                                 | 3/7 [00:00<00:00, 84.17it/s]\u001b[A\n",
      "Validation DataLoader 0:  57%|█████████████████████████████████▋                         | 4/7 [00:00<00:00, 85.82it/s]\u001b[A\n",
      "Validation DataLoader 0:  71%|██████████████████████████████████████████▏                | 5/7 [00:00<00:00, 85.35it/s]\u001b[A\n",
      "Validation DataLoader 0:  86%|██████████████████████████████████████████████████▌        | 6/7 [00:00<00:00, 87.53it/s]\u001b[A\n",
      "Validation DataLoader 0: 100%|███████████████████████████████████████████████████████████| 7/7 [00:00<00:00, 86.94it/s]\u001b[A\n",
      "Epoch 72: 100%|██████████████████████████████| 21/21 [00:00<00:00, 50.14it/s, v_num=11, train_acc=0.811, val_acc=0.963]\u001b[A"
     ]
    },
    {
     "name": "stderr",
     "output_type": "stream",
     "text": [
      "Metric val_loss improved by 0.003 >= min_delta = 0.0. New best score: 0.176\n"
     ]
    },
    {
     "name": "stdout",
     "output_type": "stream",
     "text": [
      "Epoch 73: 100%|██████████████████████████████| 21/21 [00:00<00:00, 67.96it/s, v_num=11, train_acc=0.868, val_acc=0.963]\n",
      "Validation: |                                                                                    | 0/? [00:00<?, ?it/s]\u001b[A\n",
      "Validation:   0%|                                                                                | 0/7 [00:00<?, ?it/s]\u001b[A\n",
      "Validation DataLoader 0:   0%|                                                                   | 0/7 [00:00<?, ?it/s]\u001b[A\n",
      "Validation DataLoader 0:  14%|████████▍                                                  | 1/7 [00:00<00:00, 66.85it/s]\u001b[A\n",
      "Validation DataLoader 0:  29%|████████████████▊                                          | 2/7 [00:00<00:00, 73.10it/s]\u001b[A\n",
      "Validation DataLoader 0:  43%|█████████████████████████▎                                 | 3/7 [00:00<00:00, 76.28it/s]\u001b[A\n",
      "Validation DataLoader 0:  57%|█████████████████████████████████▋                         | 4/7 [00:00<00:00, 78.33it/s]\u001b[A\n",
      "Validation DataLoader 0:  71%|██████████████████████████████████████████▏                | 5/7 [00:00<00:00, 78.49it/s]\u001b[A\n",
      "Validation DataLoader 0:  86%|██████████████████████████████████████████████████▌        | 6/7 [00:00<00:00, 79.29it/s]\u001b[A\n",
      "Validation DataLoader 0: 100%|███████████████████████████████████████████████████████████| 7/7 [00:00<00:00, 81.73it/s]\u001b[A\n",
      "Epoch 74: 100%|██████████████████████████████| 21/21 [00:00<00:00, 70.82it/s, v_num=11, train_acc=0.887, val_acc=0.960]\u001b[A\n",
      "Validation: |                                                                                    | 0/? [00:00<?, ?it/s]\u001b[A\n",
      "Validation:   0%|                                                                                | 0/7 [00:00<?, ?it/s]\u001b[A\n",
      "Validation DataLoader 0:   0%|                                                                   | 0/7 [00:00<?, ?it/s]\u001b[A\n",
      "Validation DataLoader 0:  14%|████████▍                                                  | 1/7 [00:00<00:00, 66.86it/s]\u001b[A\n",
      "Validation DataLoader 0:  29%|████████████████▊                                          | 2/7 [00:00<00:00, 71.62it/s]\u001b[A\n",
      "Validation DataLoader 0:  43%|█████████████████████████▎                                 | 3/7 [00:00<00:00, 73.37it/s]\u001b[A\n",
      "Validation DataLoader 0:  57%|█████████████████████████████████▋                         | 4/7 [00:00<00:00, 72.93it/s]\u001b[A\n",
      "Validation DataLoader 0:  71%|██████████████████████████████████████████▏                | 5/7 [00:00<00:00, 75.41it/s]\u001b[A\n",
      "Validation DataLoader 0:  86%|██████████████████████████████████████████████████▌        | 6/7 [00:00<00:00, 73.94it/s]\u001b[A\n",
      "Validation DataLoader 0: 100%|███████████████████████████████████████████████████████████| 7/7 [00:00<00:00, 75.99it/s]\u001b[A\n",
      "Epoch 74: 100%|██████████████████████████████| 21/21 [00:00<00:00, 50.29it/s, v_num=11, train_acc=0.887, val_acc=0.964]\u001b[A"
     ]
    },
    {
     "name": "stderr",
     "output_type": "stream",
     "text": [
      "Metric val_loss improved by 0.006 >= min_delta = 0.0. New best score: 0.170\n"
     ]
    },
    {
     "name": "stdout",
     "output_type": "stream",
     "text": [
      "Epoch 75: 100%|██████████████████████████████| 21/21 [00:00<00:00, 71.58it/s, v_num=11, train_acc=0.868, val_acc=0.964]\n",
      "Validation: |                                                                                    | 0/? [00:00<?, ?it/s]\u001b[A\n",
      "Validation:   0%|                                                                                | 0/7 [00:00<?, ?it/s]\u001b[A\n",
      "Validation DataLoader 0:   0%|                                                                   | 0/7 [00:00<?, ?it/s]\u001b[A\n",
      "Validation DataLoader 0:  14%|████████▍                                                  | 1/7 [00:00<00:00, 77.12it/s]\u001b[A\n",
      "Validation DataLoader 0:  29%|████████████████▊                                          | 2/7 [00:00<00:00, 77.90it/s]\u001b[A\n",
      "Validation DataLoader 0:  43%|█████████████████████████▎                                 | 3/7 [00:00<00:00, 80.57it/s]\u001b[A\n",
      "Validation DataLoader 0:  57%|█████████████████████████████████▋                         | 4/7 [00:00<00:00, 81.68it/s]\u001b[A\n",
      "Validation DataLoader 0:  71%|██████████████████████████████████████████▏                | 5/7 [00:00<00:00, 84.82it/s]\u001b[A\n",
      "Validation DataLoader 0:  86%|██████████████████████████████████████████████████▌        | 6/7 [00:00<00:00, 83.75it/s]\u001b[A\n",
      "Validation DataLoader 0: 100%|███████████████████████████████████████████████████████████| 7/7 [00:00<00:00, 84.00it/s]\u001b[A\n",
      "Epoch 76: 100%|██████████████████████████████| 21/21 [00:00<00:00, 69.89it/s, v_num=11, train_acc=0.830, val_acc=0.963]\u001b[A\n",
      "Validation: |                                                                                    | 0/? [00:00<?, ?it/s]\u001b[A\n",
      "Validation:   0%|                                                                                | 0/7 [00:00<?, ?it/s]\u001b[A\n",
      "Validation DataLoader 0:   0%|                                                                   | 0/7 [00:00<?, ?it/s]\u001b[A\n",
      "Validation DataLoader 0:  14%|████████▍                                                  | 1/7 [00:00<00:00, 77.14it/s]\u001b[A\n",
      "Validation DataLoader 0:  29%|████████████████▊                                          | 2/7 [00:00<00:00, 75.02it/s]\u001b[A\n",
      "Validation DataLoader 0:  43%|█████████████████████████▎                                 | 3/7 [00:00<00:00, 78.07it/s]\u001b[A\n",
      "Validation DataLoader 0:  57%|█████████████████████████████████▋                         | 4/7 [00:00<00:00, 78.62it/s]\u001b[A\n",
      "Validation DataLoader 0:  71%|██████████████████████████████████████████▏                | 5/7 [00:00<00:00, 79.56it/s]\u001b[A\n",
      "Validation DataLoader 0:  86%|██████████████████████████████████████████████████▌        | 6/7 [00:00<00:00, 79.26it/s]\u001b[A\n",
      "Validation DataLoader 0: 100%|███████████████████████████████████████████████████████████| 7/7 [00:00<00:00, 79.62it/s]\u001b[A\n",
      "Epoch 76: 100%|██████████████████████████████| 21/21 [00:00<00:00, 50.38it/s, v_num=11, train_acc=0.830, val_acc=0.970]\u001b[A"
     ]
    },
    {
     "name": "stderr",
     "output_type": "stream",
     "text": [
      "Metric val_loss improved by 0.003 >= min_delta = 0.0. New best score: 0.168\n"
     ]
    },
    {
     "name": "stdout",
     "output_type": "stream",
     "text": [
      "Epoch 77: 100%|██████████████████████████████| 21/21 [00:00<00:00, 66.81it/s, v_num=11, train_acc=0.830, val_acc=0.970]\n",
      "Validation: |                                                                                    | 0/? [00:00<?, ?it/s]\u001b[A\n",
      "Validation:   0%|                                                                                | 0/7 [00:00<?, ?it/s]\u001b[A\n",
      "Validation DataLoader 0:   0%|                                                                   | 0/7 [00:00<?, ?it/s]\u001b[A\n",
      "Validation DataLoader 0:  14%|████████▍                                                  | 1/7 [00:00<00:00, 62.67it/s]\u001b[A\n",
      "Validation DataLoader 0:  29%|████████████████▊                                          | 2/7 [00:00<00:00, 71.62it/s]\u001b[A\n",
      "Validation DataLoader 0:  43%|█████████████████████████▎                                 | 3/7 [00:00<00:00, 79.15it/s]\u001b[A\n",
      "Validation DataLoader 0:  57%|█████████████████████████████████▋                         | 4/7 [00:00<00:00, 81.85it/s]\u001b[A\n",
      "Validation DataLoader 0:  71%|██████████████████████████████████████████▏                | 5/7 [00:00<00:00, 80.20it/s]\u001b[A\n",
      "Validation DataLoader 0:  86%|██████████████████████████████████████████████████▌        | 6/7 [00:00<00:00, 79.67it/s]\u001b[A\n",
      "Validation DataLoader 0: 100%|███████████████████████████████████████████████████████████| 7/7 [00:00<00:00, 80.88it/s]\u001b[A\n",
      "Epoch 78: 100%|██████████████████████████████| 21/21 [00:00<00:00, 69.30it/s, v_num=11, train_acc=0.811, val_acc=0.963]\u001b[A\n",
      "Validation: |                                                                                    | 0/? [00:00<?, ?it/s]\u001b[A\n",
      "Validation:   0%|                                                                                | 0/7 [00:00<?, ?it/s]\u001b[A\n",
      "Validation DataLoader 0:   0%|                                                                   | 0/7 [00:00<?, ?it/s]\u001b[A\n",
      "Validation DataLoader 0:  14%|████████▍                                                  | 1/7 [00:00<00:00, 62.67it/s]\u001b[A\n",
      "Validation DataLoader 0:  29%|████████████████▊                                          | 2/7 [00:00<00:00, 77.13it/s]\u001b[A\n",
      "Validation DataLoader 0:  43%|█████████████████████████▎                                 | 3/7 [00:00<00:00, 79.16it/s]\u001b[A\n",
      "Validation DataLoader 0:  57%|█████████████████████████████████▋                         | 4/7 [00:00<00:00, 81.85it/s]\u001b[A\n",
      "Validation DataLoader 0:  71%|██████████████████████████████████████████▏                | 5/7 [00:00<00:00, 82.19it/s]\u001b[A\n",
      "Validation DataLoader 0:  86%|██████████████████████████████████████████████████▌        | 6/7 [00:00<00:00, 82.93it/s]\u001b[A\n",
      "Validation DataLoader 0: 100%|███████████████████████████████████████████████████████████| 7/7 [00:00<00:00, 47.36it/s]\u001b[A\n",
      "Epoch 79: 100%|██████████████████████████████| 21/21 [00:00<00:00, 54.83it/s, v_num=11, train_acc=0.849, val_acc=0.962]\u001b[A\n",
      "Validation: |                                                                                    | 0/? [00:00<?, ?it/s]\u001b[A\n",
      "Validation:   0%|                                                                                | 0/7 [00:00<?, ?it/s]\u001b[A\n",
      "Validation DataLoader 0:   0%|                                                                   | 0/7 [00:00<?, ?it/s]\u001b[A\n",
      "Validation DataLoader 0:  14%|████████▍                                                  | 1/7 [00:00<00:00, 63.51it/s]\u001b[A\n",
      "Validation DataLoader 0:  29%|████████████████▊                                          | 2/7 [00:00<00:00, 77.76it/s]\u001b[A\n",
      "Validation DataLoader 0:  43%|█████████████████████████▎                                 | 3/7 [00:00<00:00, 78.71it/s]\u001b[A\n",
      "Validation DataLoader 0:  57%|█████████████████████████████████▋                         | 4/7 [00:00<00:00, 81.37it/s]\u001b[A\n",
      "Validation DataLoader 0:  71%|██████████████████████████████████████████▏                | 5/7 [00:00<00:00, 81.80it/s]\u001b[A\n",
      "Validation DataLoader 0:  86%|██████████████████████████████████████████████████▌        | 6/7 [00:00<00:00, 82.09it/s]\u001b[A\n",
      "Validation DataLoader 0: 100%|███████████████████████████████████████████████████████████| 7/7 [00:00<00:00, 83.27it/s]\u001b[A\n",
      "Epoch 80: 100%|██████████████████████████████| 21/21 [00:00<00:00, 69.95it/s, v_num=11, train_acc=0.925, val_acc=0.964]\u001b[A\n",
      "Validation: |                                                                                    | 0/? [00:00<?, ?it/s]\u001b[A\n",
      "Validation:   0%|                                                                                | 0/7 [00:00<?, ?it/s]\u001b[A\n",
      "Validation DataLoader 0:   0%|                                                                   | 0/7 [00:00<?, ?it/s]\u001b[A\n",
      "Validation DataLoader 0:  14%|████████▍                                                  | 1/7 [00:00<00:00, 66.55it/s]\u001b[A\n",
      "Validation DataLoader 0:  29%|████████████████▊                                          | 2/7 [00:00<00:00, 80.00it/s]\u001b[A\n",
      "Validation DataLoader 0:  43%|█████████████████████████▎                                 | 3/7 [00:00<00:00, 77.53it/s]\u001b[A\n",
      "Validation DataLoader 0:  57%|█████████████████████████████████▋                         | 4/7 [00:00<00:00, 76.79it/s]\u001b[A\n",
      "Validation DataLoader 0:  71%|██████████████████████████████████████████▏                | 5/7 [00:00<00:00, 80.57it/s]\u001b[A\n",
      "Validation DataLoader 0:  86%|██████████████████████████████████████████████████▌        | 6/7 [00:00<00:00, 80.94it/s]\u001b[A\n",
      "Validation DataLoader 0: 100%|███████████████████████████████████████████████████████████| 7/7 [00:00<00:00, 81.95it/s]\u001b[A\n",
      "Epoch 80: 100%|██████████████████████████████| 21/21 [00:00<00:00, 50.69it/s, v_num=11, train_acc=0.925, val_acc=0.963]\u001b[A"
     ]
    },
    {
     "name": "stderr",
     "output_type": "stream",
     "text": [
      "Metric val_loss improved by 0.002 >= min_delta = 0.0. New best score: 0.166\n"
     ]
    },
    {
     "name": "stdout",
     "output_type": "stream",
     "text": [
      "Epoch 81: 100%|██████████████████████████████| 21/21 [00:00<00:00, 69.35it/s, v_num=11, train_acc=0.868, val_acc=0.963]\n",
      "Validation: |                                                                                    | 0/? [00:00<?, ?it/s]\u001b[A\n",
      "Validation:   0%|                                                                                | 0/7 [00:00<?, ?it/s]\u001b[A\n",
      "Validation DataLoader 0:   0%|                                                                   | 0/7 [00:00<?, ?it/s]\u001b[A\n",
      "Validation DataLoader 0:  14%|████████▍                                                  | 1/7 [00:00<00:00, 69.31it/s]\u001b[A\n",
      "Validation DataLoader 0:  29%|████████████████▊                                          | 2/7 [00:00<00:00, 76.14it/s]\u001b[A\n",
      "Validation DataLoader 0:  43%|█████████████████████████▎                                 | 3/7 [00:00<00:00, 78.91it/s]\u001b[A\n",
      "Validation DataLoader 0:  57%|█████████████████████████████████▋                         | 4/7 [00:00<00:00, 81.66it/s]\u001b[A\n",
      "Validation DataLoader 0:  71%|██████████████████████████████████████████▏                | 5/7 [00:00<00:00, 83.76it/s]\u001b[A\n",
      "Validation DataLoader 0:  86%|██████████████████████████████████████████████████▌        | 6/7 [00:00<00:00, 84.88it/s]\u001b[A\n",
      "Validation DataLoader 0: 100%|███████████████████████████████████████████████████████████| 7/7 [00:00<00:00, 85.73it/s]\u001b[A\n",
      "Epoch 81: 100%|██████████████████████████████| 21/21 [00:00<00:00, 49.81it/s, v_num=11, train_acc=0.868, val_acc=0.964]\u001b[A"
     ]
    },
    {
     "name": "stderr",
     "output_type": "stream",
     "text": [
      "Metric val_loss improved by 0.001 >= min_delta = 0.0. New best score: 0.165\n"
     ]
    },
    {
     "name": "stdout",
     "output_type": "stream",
     "text": [
      "Epoch 82: 100%|██████████████████████████████| 21/21 [00:00<00:00, 69.26it/s, v_num=11, train_acc=0.906, val_acc=0.964]\n",
      "Validation: |                                                                                    | 0/? [00:00<?, ?it/s]\u001b[A\n",
      "Validation:   0%|                                                                                | 0/7 [00:00<?, ?it/s]\u001b[A\n",
      "Validation DataLoader 0:   0%|                                                                   | 0/7 [00:00<?, ?it/s]\u001b[A\n",
      "Validation DataLoader 0:  14%|████████▍                                                  | 1/7 [00:00<00:00, 65.73it/s]\u001b[A\n",
      "Validation DataLoader 0:  29%|████████████████▊                                          | 2/7 [00:00<00:00, 73.11it/s]\u001b[A\n",
      "Validation DataLoader 0:  43%|█████████████████████████▎                                 | 3/7 [00:00<00:00, 75.01it/s]\u001b[A\n",
      "Validation DataLoader 0:  57%|█████████████████████████████████▋                         | 4/7 [00:00<00:00, 78.48it/s]\u001b[A\n",
      "Validation DataLoader 0:  71%|██████████████████████████████████████████▏                | 5/7 [00:00<00:00, 79.74it/s]\u001b[A\n",
      "Validation DataLoader 0:  86%|██████████████████████████████████████████████████▌        | 6/7 [00:00<00:00, 78.54it/s]\u001b[A\n",
      "Validation DataLoader 0: 100%|███████████████████████████████████████████████████████████| 7/7 [00:00<00:00, 80.12it/s]\u001b[A\n",
      "Epoch 82: 100%|██████████████████████████████| 21/21 [00:00<00:00, 49.42it/s, v_num=11, train_acc=0.906, val_acc=0.963]\u001b[A"
     ]
    },
    {
     "name": "stderr",
     "output_type": "stream",
     "text": [
      "Metric val_loss improved by 0.002 >= min_delta = 0.0. New best score: 0.163\n"
     ]
    },
    {
     "name": "stdout",
     "output_type": "stream",
     "text": [
      "Epoch 83: 100%|██████████████████████████████| 21/21 [00:00<00:00, 66.87it/s, v_num=11, train_acc=0.906, val_acc=0.963]\n",
      "Validation: |                                                                                    | 0/? [00:00<?, ?it/s]\u001b[A\n",
      "Validation:   0%|                                                                                | 0/7 [00:00<?, ?it/s]\u001b[A\n",
      "Validation DataLoader 0:   0%|                                                                   | 0/7 [00:00<?, ?it/s]\u001b[A\n",
      "Validation DataLoader 0:  14%|████████▍                                                  | 1/7 [00:00<00:00, 65.22it/s]\u001b[A\n",
      "Validation DataLoader 0:  29%|████████████████▊                                          | 2/7 [00:00<00:00, 75.86it/s]\u001b[A\n",
      "Validation DataLoader 0:  43%|█████████████████████████▎                                 | 3/7 [00:00<00:00, 84.88it/s]\u001b[A\n",
      "Validation DataLoader 0:  57%|█████████████████████████████████▋                         | 4/7 [00:00<00:00, 85.05it/s]\u001b[A\n",
      "Validation DataLoader 0:  71%|██████████████████████████████████████████▏                | 5/7 [00:00<00:00, 86.69it/s]\u001b[A\n",
      "Validation DataLoader 0:  86%|██████████████████████████████████████████████████▌        | 6/7 [00:00<00:00, 88.69it/s]\u001b[A\n",
      "Validation DataLoader 0: 100%|███████████████████████████████████████████████████████████| 7/7 [00:00<00:00, 88.24it/s]\u001b[A\n",
      "Epoch 84: 100%|██████████████████████████████| 21/21 [00:00<00:00, 68.98it/s, v_num=11, train_acc=0.868, val_acc=0.962]\u001b[A\n",
      "Validation: |                                                                                    | 0/? [00:00<?, ?it/s]\u001b[A\n",
      "Validation:   0%|                                                                                | 0/7 [00:00<?, ?it/s]\u001b[A\n",
      "Validation DataLoader 0:   0%|                                                                   | 0/7 [00:00<?, ?it/s]\u001b[A\n",
      "Validation DataLoader 0:  14%|████████▍                                                  | 1/7 [00:00<00:00, 63.52it/s]\u001b[A\n",
      "Validation DataLoader 0:  29%|████████████████▊                                          | 2/7 [00:00<00:00, 70.32it/s]\u001b[A\n",
      "Validation DataLoader 0:  43%|█████████████████████████▎                                 | 3/7 [00:00<00:00, 73.04it/s]\u001b[A\n",
      "Validation DataLoader 0:  57%|█████████████████████████████████▋                         | 4/7 [00:00<00:00, 78.36it/s]\u001b[A\n",
      "Validation DataLoader 0:  71%|██████████████████████████████████████████▏                | 5/7 [00:00<00:00, 79.75it/s]\u001b[A\n",
      "Validation DataLoader 0:  86%|██████████████████████████████████████████████████▌        | 6/7 [00:00<00:00, 80.60it/s]\u001b[A\n",
      "Validation DataLoader 0: 100%|███████████████████████████████████████████████████████████| 7/7 [00:00<00:00, 81.63it/s]\u001b[A\n",
      "Epoch 85: 100%|██████████████████████████████| 21/21 [00:00<00:00, 70.74it/s, v_num=11, train_acc=0.887, val_acc=0.964]\u001b[A\n",
      "Validation: |                                                                                    | 0/? [00:00<?, ?it/s]\u001b[A\n",
      "Validation:   0%|                                                                                | 0/7 [00:00<?, ?it/s]\u001b[A\n",
      "Validation DataLoader 0:   0%|                                                                   | 0/7 [00:00<?, ?it/s]\u001b[A\n",
      "Validation DataLoader 0:  14%|████████▍                                                  | 1/7 [00:00<00:00, 71.61it/s]\u001b[A\n",
      "Validation DataLoader 0:  29%|████████████████▊                                          | 2/7 [00:00<00:00, 84.26it/s]\u001b[A\n",
      "Validation DataLoader 0:  43%|█████████████████████████▎                                 | 3/7 [00:00<00:00, 82.31it/s]\u001b[A\n",
      "Validation DataLoader 0:  57%|█████████████████████████████████▋                         | 4/7 [00:00<00:00, 88.06it/s]\u001b[A\n",
      "Validation DataLoader 0:  71%|██████████████████████████████████████████▏                | 5/7 [00:00<00:00, 83.54it/s]\u001b[A\n",
      "Validation DataLoader 0:  86%|██████████████████████████████████████████████████▌        | 6/7 [00:00<00:00, 86.05it/s]\u001b[A\n",
      "Validation DataLoader 0: 100%|███████████████████████████████████████████████████████████| 7/7 [00:00<00:00, 87.83it/s]\u001b[A\n",
      "Epoch 86: 100%|██████████████████████████████| 21/21 [00:00<00:00, 71.17it/s, v_num=11, train_acc=0.774, val_acc=0.963]\u001b[A\n",
      "Validation: |                                                                                    | 0/? [00:00<?, ?it/s]\u001b[A\n",
      "Validation:   0%|                                                                                | 0/7 [00:00<?, ?it/s]\u001b[A\n",
      "Validation DataLoader 0:   0%|                                                                   | 0/7 [00:00<?, ?it/s]\u001b[A\n",
      "Validation DataLoader 0:  14%|████████▍                                                  | 1/7 [00:00<00:00, 63.98it/s]\u001b[A\n",
      "Validation DataLoader 0:  29%|████████████████▊                                          | 2/7 [00:00<00:00, 71.54it/s]\u001b[A\n",
      "Validation DataLoader 0:  43%|█████████████████████████▎                                 | 3/7 [00:00<00:00, 77.07it/s]\u001b[A\n",
      "Validation DataLoader 0:  57%|█████████████████████████████████▋                         | 4/7 [00:00<00:00, 78.39it/s]\u001b[A\n",
      "Validation DataLoader 0:  71%|██████████████████████████████████████████▏                | 5/7 [00:00<00:00, 79.79it/s]\u001b[A\n",
      "Validation DataLoader 0:  86%|██████████████████████████████████████████████████▌        | 6/7 [00:00<00:00, 81.48it/s]\u001b[A\n",
      "Validation DataLoader 0: 100%|███████████████████████████████████████████████████████████| 7/7 [00:00<00:00, 78.71it/s]\u001b[A\n",
      "Epoch 87: 100%|██████████████████████████████| 21/21 [00:00<00:00, 70.61it/s, v_num=11, train_acc=0.849, val_acc=0.963]\u001b[A\n",
      "Validation: |                                                                                    | 0/? [00:00<?, ?it/s]\u001b[A\n",
      "Validation:   0%|                                                                                | 0/7 [00:00<?, ?it/s]\u001b[A\n",
      "Validation DataLoader 0:   0%|                                                                   | 0/7 [00:00<?, ?it/s]\u001b[A\n",
      "Validation DataLoader 0:  14%|████████▍                                                  | 1/7 [00:00<00:00, 68.29it/s]\u001b[A\n",
      "Validation DataLoader 0:  29%|████████████████▊                                          | 2/7 [00:00<00:00, 74.01it/s]\u001b[A\n",
      "Validation DataLoader 0:  43%|█████████████████████████▎                                 | 3/7 [00:00<00:00, 76.94it/s]\u001b[A\n",
      "Validation DataLoader 0:  57%|█████████████████████████████████▋                         | 4/7 [00:00<00:00, 78.68it/s]\u001b[A\n",
      "Validation DataLoader 0:  71%|██████████████████████████████████████████▏                | 5/7 [00:00<00:00, 81.20it/s]\u001b[A\n",
      "Validation DataLoader 0:  86%|██████████████████████████████████████████████████▌        | 6/7 [00:00<00:00, 81.88it/s]\u001b[A\n",
      "Validation DataLoader 0: 100%|███████████████████████████████████████████████████████████| 7/7 [00:00<00:00, 83.09it/s]\u001b[A\n",
      "Epoch 87: 100%|██████████████████████████████| 21/21 [00:00<00:00, 50.96it/s, v_num=11, train_acc=0.849, val_acc=0.966]\u001b[A"
     ]
    },
    {
     "name": "stderr",
     "output_type": "stream",
     "text": [
      "Metric val_loss improved by 0.004 >= min_delta = 0.0. New best score: 0.159\n"
     ]
    },
    {
     "name": "stdout",
     "output_type": "stream",
     "text": [
      "Epoch 88: 100%|██████████████████████████████| 21/21 [00:00<00:00, 69.98it/s, v_num=11, train_acc=0.906, val_acc=0.966]\n",
      "Validation: |                                                                                    | 0/? [00:00<?, ?it/s]\u001b[A\n",
      "Validation:   0%|                                                                                | 0/7 [00:00<?, ?it/s]\u001b[A\n",
      "Validation DataLoader 0:   0%|                                                                   | 0/7 [00:00<?, ?it/s]\u001b[A\n",
      "Validation DataLoader 0:  14%|████████▍                                                  | 1/7 [00:00<00:00, 73.72it/s]\u001b[A\n",
      "Validation DataLoader 0:  29%|████████████████▊                                          | 2/7 [00:00<00:00, 84.97it/s]\u001b[A\n",
      "Validation DataLoader 0:  43%|█████████████████████████▎                                 | 3/7 [00:00<00:00, 87.12it/s]\u001b[A\n",
      "Validation DataLoader 0:  57%|█████████████████████████████████▋                         | 4/7 [00:00<00:00, 86.20it/s]\u001b[A\n",
      "Validation DataLoader 0:  71%|██████████████████████████████████████████▏                | 5/7 [00:00<00:00, 85.66it/s]\u001b[A\n",
      "Validation DataLoader 0:  86%|██████████████████████████████████████████████████▌        | 6/7 [00:00<00:00, 85.30it/s]\u001b[A\n",
      "Validation DataLoader 0: 100%|███████████████████████████████████████████████████████████| 7/7 [00:00<00:00, 83.03it/s]\u001b[A\n",
      "Epoch 89: 100%|██████████████████████████████| 21/21 [00:00<00:00, 69.16it/s, v_num=11, train_acc=0.811, val_acc=0.964]\u001b[A\n",
      "Validation: |                                                                                    | 0/? [00:00<?, ?it/s]\u001b[A\n",
      "Validation:   0%|                                                                                | 0/7 [00:00<?, ?it/s]\u001b[A\n",
      "Validation DataLoader 0:   0%|                                                                   | 0/7 [00:00<?, ?it/s]\u001b[A\n",
      "Validation DataLoader 0:  14%|████████▍                                                  | 1/7 [00:00<00:00, 73.03it/s]\u001b[A\n",
      "Validation DataLoader 0:  29%|████████████████▊                                          | 2/7 [00:00<00:00, 78.33it/s]\u001b[A\n",
      "Validation DataLoader 0:  43%|█████████████████████████▎                                 | 3/7 [00:00<00:00, 84.49it/s]\u001b[A\n",
      "Validation DataLoader 0:  57%|█████████████████████████████████▋                         | 4/7 [00:00<00:00, 84.34it/s]\u001b[A\n",
      "Validation DataLoader 0:  71%|██████████████████████████████████████████▏                | 5/7 [00:00<00:00, 83.82it/s]\u001b[A\n",
      "Validation DataLoader 0:  86%|██████████████████████████████████████████████████▌        | 6/7 [00:00<00:00, 82.67it/s]\u001b[A\n",
      "Validation DataLoader 0: 100%|███████████████████████████████████████████████████████████| 7/7 [00:00<00:00, 83.80it/s]\u001b[A\n",
      "Epoch 90: 100%|██████████████████████████████| 21/21 [00:00<00:00, 66.87it/s, v_num=11, train_acc=0.906, val_acc=0.963]\u001b[A\n",
      "Validation: |                                                                                    | 0/? [00:00<?, ?it/s]\u001b[A\n",
      "Validation:   0%|                                                                                | 0/7 [00:00<?, ?it/s]\u001b[A\n",
      "Validation DataLoader 0:   0%|                                                                   | 0/7 [00:00<?, ?it/s]\u001b[A\n",
      "Validation DataLoader 0:  14%|████████▍                                                  | 1/7 [00:00<00:00, 63.76it/s]\u001b[A\n",
      "Validation DataLoader 0:  29%|████████████████▊                                          | 2/7 [00:00<00:00, 74.28it/s]\u001b[A\n",
      "Validation DataLoader 0:  43%|█████████████████████████▎                                 | 3/7 [00:00<00:00, 79.16it/s]\u001b[A\n",
      "Validation DataLoader 0:  57%|█████████████████████████████████▋                         | 4/7 [00:00<00:00, 78.49it/s]\u001b[A\n",
      "Validation DataLoader 0:  71%|██████████████████████████████████████████▏                | 5/7 [00:00<00:00, 80.43it/s]\u001b[A\n",
      "Validation DataLoader 0:  86%|██████████████████████████████████████████████████▌        | 6/7 [00:00<00:00, 82.04it/s]\u001b[A\n",
      "Validation DataLoader 0: 100%|███████████████████████████████████████████████████████████| 7/7 [00:00<00:00, 83.95it/s]\u001b[A\n",
      "Epoch 91: 100%|██████████████████████████████| 21/21 [00:00<00:00, 69.11it/s, v_num=11, train_acc=0.849, val_acc=0.964]\u001b[A\n",
      "Validation: |                                                                                    | 0/? [00:00<?, ?it/s]\u001b[A\n",
      "Validation:   0%|                                                                                | 0/7 [00:00<?, ?it/s]\u001b[A\n",
      "Validation DataLoader 0:   0%|                                                                   | 0/7 [00:00<?, ?it/s]\u001b[A\n",
      "Validation DataLoader 0:  14%|████████▍                                                  | 1/7 [00:00<00:00, 59.77it/s]\u001b[A\n",
      "Validation DataLoader 0:  29%|████████████████▊                                          | 2/7 [00:00<00:00, 74.90it/s]\u001b[A\n",
      "Validation DataLoader 0:  43%|█████████████████████████▎                                 | 3/7 [00:00<00:00, 79.63it/s]\u001b[A\n",
      "Validation DataLoader 0:  57%|█████████████████████████████████▋                         | 4/7 [00:00<00:00, 80.36it/s]\u001b[A\n",
      "Validation DataLoader 0:  71%|██████████████████████████████████████████▏                | 5/7 [00:00<00:00, 79.69it/s]\u001b[A\n",
      "Validation DataLoader 0:  86%|██████████████████████████████████████████████████▌        | 6/7 [00:00<00:00, 79.46it/s]\u001b[A\n",
      "Validation DataLoader 0: 100%|███████████████████████████████████████████████████████████| 7/7 [00:00<00:00, 80.94it/s]\u001b[A\n",
      "Epoch 92: 100%|██████████████████████████████| 21/21 [00:00<00:00, 48.84it/s, v_num=11, train_acc=0.868, val_acc=0.961]\u001b[A\n",
      "Validation: |                                                                                    | 0/? [00:00<?, ?it/s]\u001b[A\n",
      "Validation:   0%|                                                                                | 0/7 [00:00<?, ?it/s]\u001b[A\n",
      "Validation DataLoader 0:   0%|                                                                   | 0/7 [00:00<?, ?it/s]\u001b[A\n",
      "Validation DataLoader 0:  14%|████████▍                                                  | 1/7 [00:00<00:00, 55.71it/s]\u001b[A\n",
      "Validation DataLoader 0:  29%|████████████████▊                                          | 2/7 [00:00<00:00, 71.62it/s]\u001b[A\n",
      "Validation DataLoader 0:  43%|█████████████████████████▎                                 | 3/7 [00:00<00:00, 77.32it/s]\u001b[A\n",
      "Validation DataLoader 0:  57%|█████████████████████████████████▋                         | 4/7 [00:00<00:00, 80.37it/s]\u001b[A\n",
      "Validation DataLoader 0:  71%|██████████████████████████████████████████▏                | 5/7 [00:00<00:00, 79.83it/s]\u001b[A\n",
      "Validation DataLoader 0:  86%|██████████████████████████████████████████████████▌        | 6/7 [00:00<00:00, 81.87it/s]\u001b[A\n",
      "Validation DataLoader 0: 100%|███████████████████████████████████████████████████████████| 7/7 [00:00<00:00, 84.07it/s]\u001b[A\n",
      "Epoch 93: 100%|██████████████████████████████| 21/21 [00:00<00:00, 68.84it/s, v_num=11, train_acc=0.792, val_acc=0.962]\u001b[A\n",
      "Validation: |                                                                                    | 0/? [00:00<?, ?it/s]\u001b[A\n",
      "Validation:   0%|                                                                                | 0/7 [00:00<?, ?it/s]\u001b[A\n",
      "Validation DataLoader 0:   0%|                                                                   | 0/7 [00:00<?, ?it/s]\u001b[A\n",
      "Validation DataLoader 0:  14%|████████▍                                                  | 1/7 [00:00<00:00, 61.14it/s]\u001b[A\n",
      "Validation DataLoader 0:  29%|████████████████▊                                          | 2/7 [00:00<00:00, 75.96it/s]\u001b[A\n",
      "Validation DataLoader 0:  43%|█████████████████████████▎                                 | 3/7 [00:00<00:00, 70.98it/s]\u001b[A\n",
      "Validation DataLoader 0:  57%|█████████████████████████████████▋                         | 4/7 [00:00<00:00, 73.76it/s]\u001b[A\n",
      "Validation DataLoader 0:  71%|██████████████████████████████████████████▏                | 5/7 [00:00<00:00, 76.88it/s]\u001b[A\n",
      "Validation DataLoader 0:  86%|██████████████████████████████████████████████████▌        | 6/7 [00:00<00:00, 79.99it/s]\u001b[A\n",
      "Validation DataLoader 0: 100%|███████████████████████████████████████████████████████████| 7/7 [00:00<00:00, 79.51it/s]\u001b[A\n",
      "Epoch 94: 100%|██████████████████████████████| 21/21 [00:00<00:00, 69.77it/s, v_num=11, train_acc=0.887, val_acc=0.964]\u001b[A\n",
      "Validation: |                                                                                    | 0/? [00:00<?, ?it/s]\u001b[A\n",
      "Validation:   0%|                                                                                | 0/7 [00:00<?, ?it/s]\u001b[A\n",
      "Validation DataLoader 0:   0%|                                                                   | 0/7 [00:00<?, ?it/s]\u001b[A\n",
      "Validation DataLoader 0:  14%|████████▍                                                  | 1/7 [00:00<00:00, 66.85it/s]\u001b[A\n",
      "Validation DataLoader 0:  29%|████████████████▊                                          | 2/7 [00:00<00:00, 73.82it/s]\u001b[A\n",
      "Validation DataLoader 0:  43%|█████████████████████████▎                                 | 3/7 [00:00<00:00, 76.80it/s]\u001b[A\n",
      "Validation DataLoader 0:  57%|█████████████████████████████████▋                         | 4/7 [00:00<00:00, 81.83it/s]\u001b[A\n",
      "Validation DataLoader 0:  71%|██████████████████████████████████████████▏                | 5/7 [00:00<00:00, 83.82it/s]\u001b[A\n",
      "Validation DataLoader 0:  86%|██████████████████████████████████████████████████▌        | 6/7 [00:00<00:00, 84.00it/s]\u001b[A\n",
      "Validation DataLoader 0: 100%|███████████████████████████████████████████████████████████| 7/7 [00:00<00:00, 85.25it/s]\u001b[A\n",
      "Epoch 95: 100%|██████████████████████████████| 21/21 [00:00<00:00, 73.71it/s, v_num=11, train_acc=0.868, val_acc=0.962]\u001b[A\n",
      "Validation: |                                                                                    | 0/? [00:00<?, ?it/s]\u001b[A\n",
      "Validation:   0%|                                                                                | 0/7 [00:00<?, ?it/s]\u001b[A\n",
      "Validation DataLoader 0:   0%|                                                                   | 0/7 [00:00<?, ?it/s]\u001b[A\n",
      "Validation DataLoader 0:  14%|████████▍                                                  | 1/7 [00:00<00:00, 66.84it/s]\u001b[A\n",
      "Validation DataLoader 0:  29%|████████████████▊                                          | 2/7 [00:00<00:00, 74.11it/s]\u001b[A\n",
      "Validation DataLoader 0:  43%|█████████████████████████▎                                 | 3/7 [00:00<00:00, 79.05it/s]\u001b[A\n",
      "Validation DataLoader 0:  57%|█████████████████████████████████▋                         | 4/7 [00:00<00:00, 79.16it/s]\u001b[A\n",
      "Validation DataLoader 0:  71%|██████████████████████████████████████████▏                | 5/7 [00:00<00:00, 80.95it/s]\u001b[A\n",
      "Validation DataLoader 0:  86%|██████████████████████████████████████████████████▌        | 6/7 [00:00<00:00, 81.37it/s]\u001b[A\n",
      "Validation DataLoader 0: 100%|███████████████████████████████████████████████████████████| 7/7 [00:00<00:00, 83.26it/s]\u001b[A\n",
      "Epoch 96: 100%|██████████████████████████████| 21/21 [00:00<00:00, 71.64it/s, v_num=11, train_acc=0.906, val_acc=0.963]\u001b[A\n",
      "Validation: |                                                                                    | 0/? [00:00<?, ?it/s]\u001b[A\n",
      "Validation:   0%|                                                                                | 0/7 [00:00<?, ?it/s]\u001b[A\n",
      "Validation DataLoader 0:   0%|                                                                   | 0/7 [00:00<?, ?it/s]\u001b[A\n",
      "Validation DataLoader 0:  14%|████████▍                                                  | 1/7 [00:00<00:00, 72.74it/s]\u001b[A\n",
      "Validation DataLoader 0:  29%|████████████████▊                                          | 2/7 [00:00<00:00, 76.22it/s]\u001b[A\n",
      "Validation DataLoader 0:  43%|█████████████████████████▎                                 | 3/7 [00:00<00:00, 82.45it/s]\u001b[A\n",
      "Validation DataLoader 0:  57%|█████████████████████████████████▋                         | 4/7 [00:00<00:00, 88.18it/s]\u001b[A\n",
      "Validation DataLoader 0:  71%|██████████████████████████████████████████▏                | 5/7 [00:00<00:00, 86.14it/s]\u001b[A\n",
      "Validation DataLoader 0:  86%|██████████████████████████████████████████████████▌        | 6/7 [00:00<00:00, 85.46it/s]\u001b[A\n",
      "Validation DataLoader 0: 100%|███████████████████████████████████████████████████████████| 7/7 [00:00<00:00, 87.31it/s]\u001b[A\n",
      "Epoch 96: 100%|██████████████████████████████| 21/21 [00:00<00:00, 51.95it/s, v_num=11, train_acc=0.906, val_acc=0.964]\u001b[A"
     ]
    },
    {
     "name": "stderr",
     "output_type": "stream",
     "text": [
      "Metric val_loss improved by 0.001 >= min_delta = 0.0. New best score: 0.158\n"
     ]
    },
    {
     "name": "stdout",
     "output_type": "stream",
     "text": [
      "Epoch 97: 100%|██████████████████████████████| 21/21 [00:00<00:00, 71.15it/s, v_num=11, train_acc=0.868, val_acc=0.964]\n",
      "Validation: |                                                                                    | 0/? [00:00<?, ?it/s]\u001b[A\n",
      "Validation:   0%|                                                                                | 0/7 [00:00<?, ?it/s]\u001b[A\n",
      "Validation DataLoader 0:   0%|                                                                   | 0/7 [00:00<?, ?it/s]\u001b[A\n",
      "Validation DataLoader 0:  14%|████████▍                                                  | 1/7 [00:00<00:00, 69.27it/s]\u001b[A\n",
      "Validation DataLoader 0:  29%|████████████████▊                                          | 2/7 [00:00<00:00, 78.72it/s]\u001b[A\n",
      "Validation DataLoader 0:  43%|█████████████████████████▎                                 | 3/7 [00:00<00:00, 81.35it/s]\u001b[A\n",
      "Validation DataLoader 0:  57%|█████████████████████████████████▋                         | 4/7 [00:00<00:00, 81.32it/s]\u001b[A\n",
      "Validation DataLoader 0:  71%|██████████████████████████████████████████▏                | 5/7 [00:00<00:00, 84.52it/s]\u001b[A\n",
      "Validation DataLoader 0:  86%|██████████████████████████████████████████████████▌        | 6/7 [00:00<00:00, 82.82it/s]\u001b[A\n",
      "Validation DataLoader 0: 100%|███████████████████████████████████████████████████████████| 7/7 [00:00<00:00, 84.93it/s]\u001b[A\n",
      "Epoch 98: 100%|██████████████████████████████| 21/21 [00:00<00:00, 70.68it/s, v_num=11, train_acc=0.849, val_acc=0.963]\u001b[A\n",
      "Validation: |                                                                                    | 0/? [00:00<?, ?it/s]\u001b[A\n",
      "Validation:   0%|                                                                                | 0/7 [00:00<?, ?it/s]\u001b[A\n",
      "Validation DataLoader 0:   0%|                                                                   | 0/7 [00:00<?, ?it/s]\u001b[A\n",
      "Validation DataLoader 0:  14%|████████▍                                                  | 1/7 [00:00<00:00, 64.22it/s]\u001b[A\n",
      "Validation DataLoader 0:  29%|████████████████▊                                          | 2/7 [00:00<00:00, 74.58it/s]\u001b[A\n",
      "Validation DataLoader 0:  43%|█████████████████████████▎                                 | 3/7 [00:00<00:00, 76.46it/s]\u001b[A\n",
      "Validation DataLoader 0:  57%|█████████████████████████████████▋                         | 4/7 [00:00<00:00, 78.65it/s]\u001b[A\n",
      "Validation DataLoader 0:  71%|██████████████████████████████████████████▏                | 5/7 [00:00<00:00, 80.87it/s]\u001b[A\n",
      "Validation DataLoader 0:  86%|██████████████████████████████████████████████████▌        | 6/7 [00:00<00:00, 80.96it/s]\u001b[A\n",
      "Validation DataLoader 0: 100%|███████████████████████████████████████████████████████████| 7/7 [00:00<00:00, 80.20it/s]\u001b[A\n",
      "Epoch 98: 100%|██████████████████████████████| 21/21 [00:00<00:00, 50.92it/s, v_num=11, train_acc=0.849, val_acc=0.964]\u001b[A"
     ]
    },
    {
     "name": "stderr",
     "output_type": "stream",
     "text": [
      "Metric val_loss improved by 0.000 >= min_delta = 0.0. New best score: 0.158\n"
     ]
    },
    {
     "name": "stdout",
     "output_type": "stream",
     "text": [
      "Epoch 99: 100%|██████████████████████████████| 21/21 [00:00<00:00, 70.40it/s, v_num=11, train_acc=0.849, val_acc=0.964]\n",
      "Validation: |                                                                                    | 0/? [00:00<?, ?it/s]\u001b[A\n",
      "Validation:   0%|                                                                                | 0/7 [00:00<?, ?it/s]\u001b[A\n",
      "Validation DataLoader 0:   0%|                                                                   | 0/7 [00:00<?, ?it/s]\u001b[A\n",
      "Validation DataLoader 0:  14%|████████▍                                                  | 1/7 [00:00<00:00, 70.37it/s]\u001b[A\n",
      "Validation DataLoader 0:  29%|████████████████▊                                          | 2/7 [00:00<00:00, 79.45it/s]\u001b[A\n",
      "Validation DataLoader 0:  43%|█████████████████████████▎                                 | 3/7 [00:00<00:00, 84.74it/s]\u001b[A\n",
      "Validation DataLoader 0:  57%|█████████████████████████████████▋                         | 4/7 [00:00<00:00, 85.03it/s]\u001b[A\n",
      "Validation DataLoader 0:  71%|██████████████████████████████████████████▏                | 5/7 [00:00<00:00, 86.19it/s]\u001b[A\n",
      "Validation DataLoader 0:  86%|██████████████████████████████████████████████████▌        | 6/7 [00:00<00:00, 86.97it/s]\u001b[A\n",
      "Validation DataLoader 0: 100%|███████████████████████████████████████████████████████████| 7/7 [00:00<00:00, 85.64it/s]\u001b[A\n",
      "Epoch 99: 100%|██████████████████████████████| 21/21 [00:00<00:00, 50.46it/s, v_num=11, train_acc=0.849, val_acc=0.964]\u001b[A"
     ]
    },
    {
     "name": "stderr",
     "output_type": "stream",
     "text": [
      "Metric val_loss improved by 0.003 >= min_delta = 0.0. New best score: 0.155\n"
     ]
    },
    {
     "name": "stdout",
     "output_type": "stream",
     "text": [
      "Epoch 100: 100%|█████████████████████████████| 21/21 [00:00<00:00, 70.13it/s, v_num=11, train_acc=0.792, val_acc=0.964]\n",
      "Validation: |                                                                                    | 0/? [00:00<?, ?it/s]\u001b[A\n",
      "Validation:   0%|                                                                                | 0/7 [00:00<?, ?it/s]\u001b[A\n",
      "Validation DataLoader 0:   0%|                                                                   | 0/7 [00:00<?, ?it/s]\u001b[A\n",
      "Validation DataLoader 0:  14%|████████▍                                                  | 1/7 [00:00<00:00, 62.67it/s]\u001b[A\n",
      "Validation DataLoader 0:  29%|████████████████▊                                          | 2/7 [00:00<00:00, 71.62it/s]\u001b[A\n",
      "Validation DataLoader 0:  43%|█████████████████████████▎                                 | 3/7 [00:00<00:00, 79.16it/s]\u001b[A\n",
      "Validation DataLoader 0:  57%|█████████████████████████████████▋                         | 4/7 [00:00<00:00, 81.85it/s]\u001b[A\n",
      "Validation DataLoader 0:  71%|██████████████████████████████████████████▏                | 5/7 [00:00<00:00, 80.96it/s]\u001b[A\n",
      "Validation DataLoader 0:  86%|██████████████████████████████████████████████████▌        | 6/7 [00:00<00:00, 82.50it/s]\u001b[A\n",
      "Validation DataLoader 0: 100%|███████████████████████████████████████████████████████████| 7/7 [00:00<00:00, 82.13it/s]\u001b[A\n",
      "Epoch 101: 100%|█████████████████████████████| 21/21 [00:00<00:00, 72.53it/s, v_num=11, train_acc=0.830, val_acc=0.964]\u001b[A\n",
      "Validation: |                                                                                    | 0/? [00:00<?, ?it/s]\u001b[A\n",
      "Validation:   0%|                                                                                | 0/7 [00:00<?, ?it/s]\u001b[A\n",
      "Validation DataLoader 0:   0%|                                                                   | 0/7 [00:00<?, ?it/s]\u001b[A\n",
      "Validation DataLoader 0:  14%|████████▍                                                  | 1/7 [00:00<00:00, 77.13it/s]\u001b[A\n",
      "Validation DataLoader 0:  29%|████████████████▊                                          | 2/7 [00:00<00:00, 77.62it/s]\u001b[A\n",
      "Validation DataLoader 0:  43%|█████████████████████████▎                                 | 3/7 [00:00<00:00, 78.20it/s]\u001b[A\n",
      "Validation DataLoader 0:  57%|█████████████████████████████████▋                         | 4/7 [00:00<00:00, 81.40it/s]\u001b[A\n",
      "Validation DataLoader 0:  71%|██████████████████████████████████████████▏                | 5/7 [00:00<00:00, 83.18it/s]\u001b[A\n",
      "Validation DataLoader 0:  86%|██████████████████████████████████████████████████▌        | 6/7 [00:00<00:00, 84.53it/s]\u001b[A\n",
      "Validation DataLoader 0: 100%|███████████████████████████████████████████████████████████| 7/7 [00:00<00:00, 84.90it/s]\u001b[A\n",
      "Epoch 101: 100%|█████████████████████████████| 21/21 [00:00<00:00, 52.34it/s, v_num=11, train_acc=0.830, val_acc=0.963]\u001b[A"
     ]
    },
    {
     "name": "stderr",
     "output_type": "stream",
     "text": [
      "Metric val_loss improved by 0.000 >= min_delta = 0.0. New best score: 0.155\n"
     ]
    },
    {
     "name": "stdout",
     "output_type": "stream",
     "text": [
      "Epoch 102: 100%|█████████████████████████████| 21/21 [00:00<00:00, 67.02it/s, v_num=11, train_acc=0.774, val_acc=0.963]\n",
      "Validation: |                                                                                    | 0/? [00:00<?, ?it/s]\u001b[A\n",
      "Validation:   0%|                                                                                | 0/7 [00:00<?, ?it/s]\u001b[A\n",
      "Validation DataLoader 0:   0%|                                                                   | 0/7 [00:00<?, ?it/s]\u001b[A\n",
      "Validation DataLoader 0:  14%|████████▍                                                  | 1/7 [00:00<00:00, 71.62it/s]\u001b[A\n",
      "Validation DataLoader 0:  29%|████████████████▊                                          | 2/7 [00:00<00:00, 79.01it/s]\u001b[A\n",
      "Validation DataLoader 0:  43%|█████████████████████████▎                                 | 3/7 [00:00<00:00, 78.37it/s]\u001b[A\n",
      "Validation DataLoader 0:  57%|█████████████████████████████████▋                         | 4/7 [00:00<00:00, 82.90it/s]\u001b[A\n",
      "Validation DataLoader 0:  71%|██████████████████████████████████████████▏                | 5/7 [00:00<00:00, 80.37it/s]\u001b[A\n",
      "Validation DataLoader 0:  86%|██████████████████████████████████████████████████▌        | 6/7 [00:00<00:00, 80.17it/s]\u001b[A\n",
      "Validation DataLoader 0: 100%|███████████████████████████████████████████████████████████| 7/7 [00:00<00:00, 82.53it/s]\u001b[A\n",
      "Epoch 102: 100%|█████████████████████████████| 21/21 [00:00<00:00, 49.05it/s, v_num=11, train_acc=0.774, val_acc=0.964]\u001b[A"
     ]
    },
    {
     "name": "stderr",
     "output_type": "stream",
     "text": [
      "Metric val_loss improved by 0.006 >= min_delta = 0.0. New best score: 0.149\n"
     ]
    },
    {
     "name": "stdout",
     "output_type": "stream",
     "text": [
      "Epoch 103: 100%|█████████████████████████████| 21/21 [00:00<00:00, 66.86it/s, v_num=11, train_acc=0.792, val_acc=0.964]\n",
      "Validation: |                                                                                    | 0/? [00:00<?, ?it/s]\u001b[A\n",
      "Validation:   0%|                                                                                | 0/7 [00:00<?, ?it/s]\u001b[A\n",
      "Validation DataLoader 0:   0%|                                                                   | 0/7 [00:00<?, ?it/s]\u001b[A\n",
      "Validation DataLoader 0:  14%|████████▍                                                  | 1/7 [00:00<00:00, 67.84it/s]\u001b[A\n",
      "Validation DataLoader 0:  29%|████████████████▊                                          | 2/7 [00:00<00:00, 80.92it/s]\u001b[A\n",
      "Validation DataLoader 0:  43%|█████████████████████████▎                                 | 3/7 [00:00<00:00, 84.75it/s]\u001b[A\n",
      "Validation DataLoader 0:  57%|█████████████████████████████████▋                         | 4/7 [00:00<00:00, 82.71it/s]\u001b[A\n",
      "Validation DataLoader 0:  71%|██████████████████████████████████████████▏                | 5/7 [00:00<00:00, 82.87it/s]\u001b[A\n",
      "Validation DataLoader 0:  86%|██████████████████████████████████████████████████▌        | 6/7 [00:00<00:00, 85.34it/s]\u001b[A\n",
      "Validation DataLoader 0: 100%|███████████████████████████████████████████████████████████| 7/7 [00:00<00:00, 85.08it/s]\u001b[A\n",
      "Epoch 104: 100%|█████████████████████████████| 21/21 [00:00<00:00, 66.32it/s, v_num=11, train_acc=0.849, val_acc=0.963]\u001b[A\n",
      "Validation: |                                                                                    | 0/? [00:00<?, ?it/s]\u001b[A\n",
      "Validation:   0%|                                                                                | 0/7 [00:00<?, ?it/s]\u001b[A\n",
      "Validation DataLoader 0:   0%|                                                                   | 0/7 [00:00<?, ?it/s]\u001b[A\n",
      "Validation DataLoader 0:  14%|████████▍                                                  | 1/7 [00:00<00:00, 74.09it/s]\u001b[A\n",
      "Validation DataLoader 0:  29%|████████████████▊                                          | 2/7 [00:00<00:00, 81.73it/s]\u001b[A\n",
      "Validation DataLoader 0:  43%|█████████████████████████▎                                 | 3/7 [00:00<00:00, 81.77it/s]\u001b[A\n",
      "Validation DataLoader 0:  57%|█████████████████████████████████▋                         | 4/7 [00:00<00:00, 83.56it/s]\u001b[A\n",
      "Validation DataLoader 0:  71%|██████████████████████████████████████████▏                | 5/7 [00:00<00:00, 84.97it/s]\u001b[A\n",
      "Validation DataLoader 0:  86%|██████████████████████████████████████████████████▌        | 6/7 [00:00<00:00, 86.27it/s]\u001b[A\n",
      "Validation DataLoader 0: 100%|███████████████████████████████████████████████████████████| 7/7 [00:00<00:00, 86.23it/s]\u001b[A\n",
      "Epoch 104: 100%|█████████████████████████████| 21/21 [00:00<00:00, 48.46it/s, v_num=11, train_acc=0.849, val_acc=0.966]\u001b[A"
     ]
    },
    {
     "name": "stderr",
     "output_type": "stream",
     "text": [
      "Metric val_loss improved by 0.003 >= min_delta = 0.0. New best score: 0.146\n"
     ]
    },
    {
     "name": "stdout",
     "output_type": "stream",
     "text": [
      "Epoch 105: 100%|█████████████████████████████| 21/21 [00:00<00:00, 66.79it/s, v_num=11, train_acc=0.906, val_acc=0.966]\n",
      "Validation: |                                                                                    | 0/? [00:00<?, ?it/s]\u001b[A\n",
      "Validation:   0%|                                                                                | 0/7 [00:00<?, ?it/s]\u001b[A\n",
      "Validation DataLoader 0:   0%|                                                                   | 0/7 [00:00<?, ?it/s]\u001b[A\n",
      "Validation DataLoader 0:  14%|████████▍                                                  | 1/7 [00:00<00:00, 62.66it/s]\u001b[A\n",
      "Validation DataLoader 0:  29%|████████████████▊                                          | 2/7 [00:00<00:00, 73.17it/s]\u001b[A\n",
      "Validation DataLoader 0:  43%|█████████████████████████▎                                 | 3/7 [00:00<00:00, 74.98it/s]\u001b[A\n",
      "Validation DataLoader 0:  57%|█████████████████████████████████▋                         | 4/7 [00:00<00:00, 76.75it/s]\u001b[A\n",
      "Validation DataLoader 0:  71%|██████████████████████████████████████████▏                | 5/7 [00:00<00:00, 79.25it/s]\u001b[A\n",
      "Validation DataLoader 0:  86%|██████████████████████████████████████████████████▌        | 6/7 [00:00<00:00, 81.02it/s]\u001b[A\n",
      "Validation DataLoader 0: 100%|███████████████████████████████████████████████████████████| 7/7 [00:00<00:00, 79.52it/s]\u001b[A\n",
      "Epoch 106: 100%|█████████████████████████████| 21/21 [00:00<00:00, 70.69it/s, v_num=11, train_acc=0.849, val_acc=0.966]\u001b[A\n",
      "Validation: |                                                                                    | 0/? [00:00<?, ?it/s]\u001b[A\n",
      "Validation:   0%|                                                                                | 0/7 [00:00<?, ?it/s]\u001b[A\n",
      "Validation DataLoader 0:   0%|                                                                   | 0/7 [00:00<?, ?it/s]\u001b[A\n",
      "Validation DataLoader 0:  14%|████████▍                                                  | 1/7 [00:00<00:00, 66.02it/s]\u001b[A\n",
      "Validation DataLoader 0:  29%|████████████████▊                                          | 2/7 [00:00<00:00, 79.04it/s]\u001b[A\n",
      "Validation DataLoader 0:  43%|█████████████████████████▎                                 | 3/7 [00:00<00:00, 80.12it/s]\u001b[A\n",
      "Validation DataLoader 0:  57%|█████████████████████████████████▋                         | 4/7 [00:00<00:00, 82.61it/s]\u001b[A\n",
      "Validation DataLoader 0:  71%|██████████████████████████████████████████▏                | 5/7 [00:00<00:00, 81.84it/s]\u001b[A\n",
      "Validation DataLoader 0:  86%|██████████████████████████████████████████████████▌        | 6/7 [00:00<00:00, 82.47it/s]\u001b[A\n",
      "Validation DataLoader 0: 100%|███████████████████████████████████████████████████████████| 7/7 [00:00<00:00, 83.61it/s]\u001b[A\n",
      "Epoch 107: 100%|█████████████████████████████| 21/21 [00:00<00:00, 73.63it/s, v_num=11, train_acc=0.868, val_acc=0.966]\u001b[A\n",
      "Validation: |                                                                                    | 0/? [00:00<?, ?it/s]\u001b[A\n",
      "Validation:   0%|                                                                                | 0/7 [00:00<?, ?it/s]\u001b[A\n",
      "Validation DataLoader 0:   0%|                                                                   | 0/7 [00:00<?, ?it/s]\u001b[A\n",
      "Validation DataLoader 0:  14%|████████▍                                                  | 1/7 [00:00<00:00, 59.94it/s]\u001b[A\n",
      "Validation DataLoader 0:  29%|████████████████▊                                          | 2/7 [00:00<00:00, 71.51it/s]\u001b[A\n",
      "Validation DataLoader 0:  43%|█████████████████████████▎                                 | 3/7 [00:00<00:00, 73.80it/s]\u001b[A\n",
      "Validation DataLoader 0:  57%|█████████████████████████████████▋                         | 4/7 [00:00<00:00, 76.02it/s]\u001b[A\n",
      "Validation DataLoader 0:  71%|██████████████████████████████████████████▏                | 5/7 [00:00<00:00, 77.78it/s]\u001b[A\n",
      "Validation DataLoader 0:  86%|██████████████████████████████████████████████████▌        | 6/7 [00:00<00:00, 80.83it/s]\u001b[A\n",
      "Validation DataLoader 0: 100%|███████████████████████████████████████████████████████████| 7/7 [00:00<00:00, 82.15it/s]\u001b[A\n",
      "Epoch 107: 100%|█████████████████████████████| 21/21 [00:00<00:00, 52.98it/s, v_num=11, train_acc=0.868, val_acc=0.968]\u001b[A"
     ]
    },
    {
     "name": "stderr",
     "output_type": "stream",
     "text": [
      "Metric val_loss improved by 0.002 >= min_delta = 0.0. New best score: 0.145\n"
     ]
    },
    {
     "name": "stdout",
     "output_type": "stream",
     "text": [
      "Epoch 108: 100%|█████████████████████████████| 21/21 [00:00<00:00, 70.82it/s, v_num=11, train_acc=0.849, val_acc=0.968]\n",
      "Validation: |                                                                                    | 0/? [00:00<?, ?it/s]\u001b[A\n",
      "Validation:   0%|                                                                                | 0/7 [00:00<?, ?it/s]\u001b[A\n",
      "Validation DataLoader 0:   0%|                                                                   | 0/7 [00:00<?, ?it/s]\u001b[A\n",
      "Validation DataLoader 0:  14%|████████▍                                                  | 1/7 [00:00<00:00, 68.63it/s]\u001b[A\n",
      "Validation DataLoader 0:  29%|████████████████▊                                          | 2/7 [00:00<00:00, 81.48it/s]\u001b[A\n",
      "Validation DataLoader 0:  43%|█████████████████████████▎                                 | 3/7 [00:00<00:00, 85.44it/s]\u001b[A\n",
      "Validation DataLoader 0:  57%|█████████████████████████████████▋                         | 4/7 [00:00<00:00, 90.73it/s]\u001b[A\n",
      "Validation DataLoader 0:  71%|██████████████████████████████████████████▏                | 5/7 [00:00<00:00, 90.09it/s]\u001b[A\n",
      "Validation DataLoader 0:  86%|██████████████████████████████████████████████████▌        | 6/7 [00:00<00:00, 91.64it/s]\u001b[A\n",
      "Validation DataLoader 0: 100%|███████████████████████████████████████████████████████████| 7/7 [00:00<00:00, 91.57it/s]\u001b[A\n",
      "Epoch 108: 100%|█████████████████████████████| 21/21 [00:00<00:00, 52.09it/s, v_num=11, train_acc=0.849, val_acc=0.964]\u001b[A"
     ]
    },
    {
     "name": "stderr",
     "output_type": "stream",
     "text": [
      "Metric val_loss improved by 0.001 >= min_delta = 0.0. New best score: 0.144\n"
     ]
    },
    {
     "name": "stdout",
     "output_type": "stream",
     "text": [
      "Epoch 109: 100%|█████████████████████████████| 21/21 [00:00<00:00, 71.37it/s, v_num=11, train_acc=0.755, val_acc=0.964]\n",
      "Validation: |                                                                                    | 0/? [00:00<?, ?it/s]\u001b[A\n",
      "Validation:   0%|                                                                                | 0/7 [00:00<?, ?it/s]\u001b[A\n",
      "Validation DataLoader 0:   0%|                                                                   | 0/7 [00:00<?, ?it/s]\u001b[A\n",
      "Validation DataLoader 0:  14%|████████▍                                                  | 1/7 [00:00<00:00, 62.35it/s]\u001b[A\n",
      "Validation DataLoader 0:  29%|████████████████▊                                          | 2/7 [00:00<00:00, 71.41it/s]\u001b[A\n",
      "Validation DataLoader 0:  43%|█████████████████████████▎                                 | 3/7 [00:00<00:00, 77.38it/s]\u001b[A\n",
      "Validation DataLoader 0:  57%|█████████████████████████████████▋                         | 4/7 [00:00<00:00, 77.77it/s]\u001b[A\n",
      "Validation DataLoader 0:  71%|██████████████████████████████████████████▏                | 5/7 [00:00<00:00, 79.87it/s]\u001b[A\n",
      "Validation DataLoader 0:  86%|██████████████████████████████████████████████████▌        | 6/7 [00:00<00:00, 81.55it/s]\u001b[A\n",
      "Validation DataLoader 0: 100%|███████████████████████████████████████████████████████████| 7/7 [00:00<00:00, 84.63it/s]\u001b[A\n",
      "Epoch 109: 100%|█████████████████████████████| 21/21 [00:00<00:00, 51.67it/s, v_num=11, train_acc=0.755, val_acc=0.968]\u001b[A"
     ]
    },
    {
     "name": "stderr",
     "output_type": "stream",
     "text": [
      "Metric val_loss improved by 0.003 >= min_delta = 0.0. New best score: 0.141\n"
     ]
    },
    {
     "name": "stdout",
     "output_type": "stream",
     "text": [
      "Epoch 110: 100%|█████████████████████████████| 21/21 [00:00<00:00, 69.62it/s, v_num=11, train_acc=0.943, val_acc=0.968]\n",
      "Validation: |                                                                                    | 0/? [00:00<?, ?it/s]\u001b[A\n",
      "Validation:   0%|                                                                                | 0/7 [00:00<?, ?it/s]\u001b[A\n",
      "Validation DataLoader 0:   0%|                                                                   | 0/7 [00:00<?, ?it/s]\u001b[A\n",
      "Validation DataLoader 0:  14%|████████▍                                                  | 1/7 [00:00<00:00, 69.04it/s]\u001b[A\n",
      "Validation DataLoader 0:  29%|████████████████▊                                          | 2/7 [00:00<00:00, 72.86it/s]\u001b[A\n",
      "Validation DataLoader 0:  43%|█████████████████████████▎                                 | 3/7 [00:00<00:00, 76.53it/s]\u001b[A\n",
      "Validation DataLoader 0:  57%|█████████████████████████████████▋                         | 4/7 [00:00<00:00, 80.04it/s]\u001b[A\n",
      "Validation DataLoader 0:  71%|██████████████████████████████████████████▏                | 5/7 [00:00<00:00, 83.41it/s]\u001b[A\n",
      "Validation DataLoader 0:  86%|██████████████████████████████████████████████████▌        | 6/7 [00:00<00:00, 83.88it/s]\u001b[A\n",
      "Validation DataLoader 0: 100%|███████████████████████████████████████████████████████████| 7/7 [00:00<00:00, 83.17it/s]\u001b[A\n",
      "Epoch 111: 100%|█████████████████████████████| 21/21 [00:00<00:00, 67.72it/s, v_num=11, train_acc=0.887, val_acc=0.972]\u001b[A\n",
      "Validation: |                                                                                    | 0/? [00:00<?, ?it/s]\u001b[A\n",
      "Validation:   0%|                                                                                | 0/7 [00:00<?, ?it/s]\u001b[A\n",
      "Validation DataLoader 0:   0%|                                                                   | 0/7 [00:00<?, ?it/s]\u001b[A\n",
      "Validation DataLoader 0:  14%|████████▍                                                  | 1/7 [00:00<00:00, 66.84it/s]\u001b[A\n",
      "Validation DataLoader 0:  29%|████████████████▊                                          | 2/7 [00:00<00:00, 77.13it/s]\u001b[A\n",
      "Validation DataLoader 0:  43%|█████████████████████████▎                                 | 3/7 [00:00<00:00, 84.16it/s]\u001b[A\n",
      "Validation DataLoader 0:  57%|█████████████████████████████████▋                         | 4/7 [00:00<00:00, 85.33it/s]\u001b[A\n",
      "Validation DataLoader 0:  71%|██████████████████████████████████████████▏                | 5/7 [00:00<00:00, 84.97it/s]\u001b[A\n",
      "Validation DataLoader 0:  86%|██████████████████████████████████████████████████▌        | 6/7 [00:00<00:00, 85.67it/s]\u001b[A\n",
      "Validation DataLoader 0: 100%|███████████████████████████████████████████████████████████| 7/7 [00:00<00:00, 85.36it/s]\u001b[A\n",
      "Epoch 112: 100%|█████████████████████████████| 21/21 [00:00<00:00, 68.26it/s, v_num=11, train_acc=0.906, val_acc=0.966]\u001b[A\n",
      "Validation: |                                                                                    | 0/? [00:00<?, ?it/s]\u001b[A\n",
      "Validation:   0%|                                                                                | 0/7 [00:00<?, ?it/s]\u001b[A\n",
      "Validation DataLoader 0:   0%|                                                                   | 0/7 [00:00<?, ?it/s]\u001b[A\n",
      "Validation DataLoader 0:  14%|████████▍                                                  | 1/7 [00:00<00:00, 67.94it/s]\u001b[A\n",
      "Validation DataLoader 0:  29%|████████████████▊                                          | 2/7 [00:00<00:00, 75.90it/s]\u001b[A\n",
      "Validation DataLoader 0:  43%|█████████████████████████▎                                 | 3/7 [00:00<00:00, 77.89it/s]\u001b[A\n",
      "Validation DataLoader 0:  57%|█████████████████████████████████▋                         | 4/7 [00:00<00:00, 80.83it/s]\u001b[A\n",
      "Validation DataLoader 0:  71%|██████████████████████████████████████████▏                | 5/7 [00:00<00:00, 80.43it/s]\u001b[A\n",
      "Validation DataLoader 0:  86%|██████████████████████████████████████████████████▌        | 6/7 [00:00<00:00, 80.93it/s]\u001b[A\n",
      "Validation DataLoader 0: 100%|███████████████████████████████████████████████████████████| 7/7 [00:00<00:00, 81.30it/s]\u001b[A\n",
      "Epoch 113: 100%|█████████████████████████████| 21/21 [00:00<00:00, 70.04it/s, v_num=11, train_acc=0.906, val_acc=0.968]\u001b[A\n",
      "Validation: |                                                                                    | 0/? [00:00<?, ?it/s]\u001b[A\n",
      "Validation:   0%|                                                                                | 0/7 [00:00<?, ?it/s]\u001b[A\n",
      "Validation DataLoader 0:   0%|                                                                   | 0/7 [00:00<?, ?it/s]\u001b[A\n",
      "Validation DataLoader 0:  14%|████████▍                                                  | 1/7 [00:00<00:00, 71.61it/s]\u001b[A\n",
      "Validation DataLoader 0:  29%|████████████████▊                                          | 2/7 [00:00<00:00, 77.34it/s]\u001b[A\n",
      "Validation DataLoader 0:  43%|█████████████████████████▎                                 | 3/7 [00:00<00:00, 78.27it/s]\u001b[A\n",
      "Validation DataLoader 0:  57%|█████████████████████████████████▋                         | 4/7 [00:00<00:00, 81.14it/s]\u001b[A\n",
      "Validation DataLoader 0:  71%|██████████████████████████████████████████▏                | 5/7 [00:00<00:00, 81.86it/s]\u001b[A\n",
      "Validation DataLoader 0:  86%|██████████████████████████████████████████████████▌        | 6/7 [00:00<00:00, 82.91it/s]\u001b[A\n",
      "Validation DataLoader 0: 100%|███████████████████████████████████████████████████████████| 7/7 [00:00<00:00, 86.05it/s]\u001b[A\n",
      "Epoch 114: 100%|█████████████████████████████| 21/21 [00:00<00:00, 68.93it/s, v_num=11, train_acc=0.811, val_acc=0.968]\u001b[A\n",
      "Validation: |                                                                                    | 0/? [00:00<?, ?it/s]\u001b[A\n",
      "Validation:   0%|                                                                                | 0/7 [00:00<?, ?it/s]\u001b[A\n",
      "Validation DataLoader 0:   0%|                                                                   | 0/7 [00:00<?, ?it/s]\u001b[A\n",
      "Validation DataLoader 0:  14%|████████▍                                                  | 1/7 [00:00<00:00, 29.79it/s]\u001b[A\n",
      "Validation DataLoader 0:  29%|████████████████▊                                          | 2/7 [00:00<00:00, 40.60it/s]\u001b[A\n",
      "Validation DataLoader 0:  43%|█████████████████████████▎                                 | 3/7 [00:00<00:00, 43.85it/s]\u001b[A\n",
      "Validation DataLoader 0:  57%|█████████████████████████████████▋                         | 4/7 [00:00<00:00, 45.79it/s]\u001b[A\n",
      "Validation DataLoader 0:  71%|██████████████████████████████████████████▏                | 5/7 [00:00<00:00, 48.15it/s]\u001b[A\n",
      "Validation DataLoader 0:  86%|██████████████████████████████████████████████████▌        | 6/7 [00:00<00:00, 45.54it/s]\u001b[A\n",
      "Validation DataLoader 0: 100%|███████████████████████████████████████████████████████████| 7/7 [00:00<00:00, 46.88it/s]\u001b[A\n",
      "Epoch 115: 100%|█████████████████████████████| 21/21 [00:00<00:00, 49.24it/s, v_num=11, train_acc=0.811, val_acc=0.968]\u001b[A\n",
      "Validation: |                                                                                    | 0/? [00:00<?, ?it/s]\u001b[A\n",
      "Validation:   0%|                                                                                | 0/7 [00:00<?, ?it/s]\u001b[A\n",
      "Validation DataLoader 0:   0%|                                                                   | 0/7 [00:00<?, ?it/s]\u001b[A\n",
      "Validation DataLoader 0:  14%|████████▍                                                  | 1/7 [00:00<00:00, 45.83it/s]\u001b[A\n",
      "Validation DataLoader 0:  29%|████████████████▊                                          | 2/7 [00:00<00:00, 53.95it/s]\u001b[A\n",
      "Validation DataLoader 0:  43%|█████████████████████████▎                                 | 3/7 [00:00<00:00, 58.83it/s]\u001b[A\n",
      "Validation DataLoader 0:  57%|█████████████████████████████████▋                         | 4/7 [00:00<00:00, 59.48it/s]\u001b[A\n",
      "Validation DataLoader 0:  71%|██████████████████████████████████████████▏                | 5/7 [00:00<00:00, 59.65it/s]\u001b[A\n",
      "Validation DataLoader 0:  86%|██████████████████████████████████████████████████▌        | 6/7 [00:00<00:00, 57.69it/s]\u001b[A\n",
      "Validation DataLoader 0: 100%|███████████████████████████████████████████████████████████| 7/7 [00:00<00:00, 59.24it/s]\u001b[A\n",
      "Epoch 115: 100%|█████████████████████████████| 21/21 [00:00<00:00, 36.31it/s, v_num=11, train_acc=0.811, val_acc=0.966]\u001b[A"
     ]
    },
    {
     "name": "stderr",
     "output_type": "stream",
     "text": [
      "Metric val_loss improved by 0.002 >= min_delta = 0.0. New best score: 0.139\n"
     ]
    },
    {
     "name": "stdout",
     "output_type": "stream",
     "text": [
      "Epoch 116: 100%|█████████████████████████████| 21/21 [00:00<00:00, 47.82it/s, v_num=11, train_acc=0.868, val_acc=0.966]\n",
      "Validation: |                                                                                    | 0/? [00:00<?, ?it/s]\u001b[A\n",
      "Validation:   0%|                                                                                | 0/7 [00:00<?, ?it/s]\u001b[A\n",
      "Validation DataLoader 0:   0%|                                                                   | 0/7 [00:00<?, ?it/s]\u001b[A\n",
      "Validation DataLoader 0:  14%|████████▍                                                  | 1/7 [00:00<00:00, 53.03it/s]\u001b[A\n",
      "Validation DataLoader 0:  29%|████████████████▊                                          | 2/7 [00:00<00:00, 62.67it/s]\u001b[A\n",
      "Validation DataLoader 0:  43%|█████████████████████████▎                                 | 3/7 [00:00<00:00, 68.37it/s]\u001b[A\n",
      "Validation DataLoader 0:  57%|█████████████████████████████████▋                         | 4/7 [00:00<00:00, 69.44it/s]\u001b[A\n",
      "Validation DataLoader 0:  71%|██████████████████████████████████████████▏                | 5/7 [00:00<00:00, 70.55it/s]\u001b[A\n",
      "Validation DataLoader 0:  86%|██████████████████████████████████████████████████▌        | 6/7 [00:00<00:00, 70.32it/s]\u001b[A\n",
      "Validation DataLoader 0: 100%|███████████████████████████████████████████████████████████| 7/7 [00:00<00:00, 71.43it/s]\u001b[A\n",
      "Epoch 116: 100%|█████████████████████████████| 21/21 [00:00<00:00, 36.86it/s, v_num=11, train_acc=0.868, val_acc=0.966]\u001b[A"
     ]
    },
    {
     "name": "stderr",
     "output_type": "stream",
     "text": [
      "Metric val_loss improved by 0.002 >= min_delta = 0.0. New best score: 0.137\n"
     ]
    },
    {
     "name": "stdout",
     "output_type": "stream",
     "text": [
      "Epoch 117: 100%|█████████████████████████████| 21/21 [00:00<00:00, 60.32it/s, v_num=11, train_acc=0.887, val_acc=0.966]\n",
      "Validation: |                                                                                    | 0/? [00:00<?, ?it/s]\u001b[A\n",
      "Validation:   0%|                                                                                | 0/7 [00:00<?, ?it/s]\u001b[A\n",
      "Validation DataLoader 0:   0%|                                                                   | 0/7 [00:00<?, ?it/s]\u001b[A\n",
      "Validation DataLoader 0:  14%|████████▍                                                  | 1/7 [00:00<00:00, 50.94it/s]\u001b[A\n",
      "Validation DataLoader 0:  29%|████████████████▊                                          | 2/7 [00:00<00:00, 45.61it/s]\u001b[A\n",
      "Validation DataLoader 0:  43%|█████████████████████████▎                                 | 3/7 [00:00<00:00, 49.95it/s]\u001b[A\n",
      "Validation DataLoader 0:  57%|█████████████████████████████████▋                         | 4/7 [00:00<00:00, 53.92it/s]\u001b[A\n",
      "Validation DataLoader 0:  71%|██████████████████████████████████████████▏                | 5/7 [00:00<00:00, 34.89it/s]\u001b[A\n",
      "Validation DataLoader 0:  86%|██████████████████████████████████████████████████▌        | 6/7 [00:00<00:00, 31.69it/s]\u001b[A\n",
      "Validation DataLoader 0: 100%|███████████████████████████████████████████████████████████| 7/7 [00:00<00:00, 30.88it/s]\u001b[A\n",
      "Epoch 117: 100%|█████████████████████████████| 21/21 [00:00<00:00, 33.52it/s, v_num=11, train_acc=0.887, val_acc=0.969]\u001b[A"
     ]
    },
    {
     "name": "stderr",
     "output_type": "stream",
     "text": [
      "Metric val_loss improved by 0.006 >= min_delta = 0.0. New best score: 0.131\n"
     ]
    },
    {
     "name": "stdout",
     "output_type": "stream",
     "text": [
      "Epoch 118: 100%|█████████████████████████████| 21/21 [00:00<00:00, 48.51it/s, v_num=11, train_acc=0.868, val_acc=0.969]\n",
      "Validation: |                                                                                    | 0/? [00:00<?, ?it/s]\u001b[A\n",
      "Validation:   0%|                                                                                | 0/7 [00:00<?, ?it/s]\u001b[A\n",
      "Validation DataLoader 0:   0%|                                                                   | 0/7 [00:00<?, ?it/s]\u001b[A\n",
      "Validation DataLoader 0:  14%|████████▍                                                  | 1/7 [00:00<00:00, 52.06it/s]\u001b[A\n",
      "Validation DataLoader 0:  29%|████████████████▊                                          | 2/7 [00:00<00:00, 62.16it/s]\u001b[A\n",
      "Validation DataLoader 0:  43%|█████████████████████████▎                                 | 3/7 [00:00<00:00, 62.53it/s]\u001b[A\n",
      "Validation DataLoader 0:  57%|█████████████████████████████████▋                         | 4/7 [00:00<00:00, 63.15it/s]\u001b[A\n",
      "Validation DataLoader 0:  71%|██████████████████████████████████████████▏                | 5/7 [00:00<00:00, 63.75it/s]\u001b[A\n",
      "Validation DataLoader 0:  86%|██████████████████████████████████████████████████▌        | 6/7 [00:00<00:00, 64.34it/s]\u001b[A\n",
      "Validation DataLoader 0: 100%|███████████████████████████████████████████████████████████| 7/7 [00:00<00:00, 65.06it/s]\u001b[A\n",
      "Epoch 119: 100%|█████████████████████████████| 21/21 [00:00<00:00, 49.65it/s, v_num=11, train_acc=0.868, val_acc=0.972]\u001b[A\n",
      "Validation: |                                                                                    | 0/? [00:00<?, ?it/s]\u001b[A\n",
      "Validation:   0%|                                                                                | 0/7 [00:00<?, ?it/s]\u001b[A\n",
      "Validation DataLoader 0:   0%|                                                                   | 0/7 [00:00<?, ?it/s]\u001b[A\n",
      "Validation DataLoader 0:  14%|████████▍                                                  | 1/7 [00:00<00:00, 54.40it/s]\u001b[A\n",
      "Validation DataLoader 0:  29%|████████████████▊                                          | 2/7 [00:00<00:00, 59.98it/s]\u001b[A\n",
      "Validation DataLoader 0:  43%|█████████████████████████▎                                 | 3/7 [00:00<00:00, 62.92it/s]\u001b[A\n",
      "Validation DataLoader 0:  57%|█████████████████████████████████▋                         | 4/7 [00:00<00:00, 63.71it/s]\u001b[A\n",
      "Validation DataLoader 0:  71%|██████████████████████████████████████████▏                | 5/7 [00:00<00:00, 62.20it/s]\u001b[A\n",
      "Validation DataLoader 0:  86%|██████████████████████████████████████████████████▌        | 6/7 [00:00<00:00, 63.10it/s]\u001b[A\n",
      "Validation DataLoader 0: 100%|███████████████████████████████████████████████████████████| 7/7 [00:00<00:00, 64.08it/s]\u001b[A\n",
      "Epoch 120: 100%|█████████████████████████████| 21/21 [00:00<00:00, 57.44it/s, v_num=11, train_acc=0.792, val_acc=0.970]\u001b[A\n",
      "Validation: |                                                                                    | 0/? [00:00<?, ?it/s]\u001b[A\n",
      "Validation:   0%|                                                                                | 0/7 [00:00<?, ?it/s]\u001b[A\n",
      "Validation DataLoader 0:   0%|                                                                   | 0/7 [00:00<?, ?it/s]\u001b[A\n",
      "Validation DataLoader 0:  14%|████████▍                                                  | 1/7 [00:00<00:00, 50.13it/s]\u001b[A\n",
      "Validation DataLoader 0:  29%|████████████████▊                                          | 2/7 [00:00<00:00, 54.56it/s]\u001b[A\n",
      "Validation DataLoader 0:  43%|█████████████████████████▎                                 | 3/7 [00:00<00:00, 55.72it/s]\u001b[A\n",
      "Validation DataLoader 0:  57%|█████████████████████████████████▋                         | 4/7 [00:00<00:00, 57.31it/s]\u001b[A\n",
      "Validation DataLoader 0:  71%|██████████████████████████████████████████▏                | 5/7 [00:00<00:00, 59.05it/s]\u001b[A\n",
      "Validation DataLoader 0:  86%|██████████████████████████████████████████████████▌        | 6/7 [00:00<00:00, 60.52it/s]\u001b[A\n",
      "Validation DataLoader 0: 100%|███████████████████████████████████████████████████████████| 7/7 [00:00<00:00, 61.38it/s]\u001b[A\n",
      "Epoch 121: 100%|█████████████████████████████| 21/21 [00:00<00:00, 53.85it/s, v_num=11, train_acc=0.811, val_acc=0.968]\u001b[A\n",
      "Validation: |                                                                                    | 0/? [00:00<?, ?it/s]\u001b[A\n",
      "Validation:   0%|                                                                                | 0/7 [00:00<?, ?it/s]\u001b[A\n",
      "Validation DataLoader 0:   0%|                                                                   | 0/7 [00:00<?, ?it/s]\u001b[A\n",
      "Validation DataLoader 0:  14%|████████▍                                                  | 1/7 [00:00<00:00, 48.73it/s]\u001b[A\n",
      "Validation DataLoader 0:  29%|████████████████▊                                          | 2/7 [00:00<00:00, 56.37it/s]\u001b[A\n",
      "Validation DataLoader 0:  43%|█████████████████████████▎                                 | 3/7 [00:00<00:00, 59.78it/s]\u001b[A\n",
      "Validation DataLoader 0:  57%|█████████████████████████████████▋                         | 4/7 [00:00<00:00, 60.58it/s]\u001b[A\n",
      "Validation DataLoader 0:  71%|██████████████████████████████████████████▏                | 5/7 [00:00<00:00, 61.07it/s]\u001b[A\n",
      "Validation DataLoader 0:  86%|██████████████████████████████████████████████████▌        | 6/7 [00:00<00:00, 63.16it/s]\u001b[A\n",
      "Validation DataLoader 0: 100%|███████████████████████████████████████████████████████████| 7/7 [00:00<00:00, 63.50it/s]\u001b[A\n",
      "Epoch 122: 100%|█████████████████████████████| 21/21 [00:00<00:00, 46.74it/s, v_num=11, train_acc=0.925, val_acc=0.971]\u001b[A\n",
      "Validation: |                                                                                    | 0/? [00:00<?, ?it/s]\u001b[A\n",
      "Validation:   0%|                                                                                | 0/7 [00:00<?, ?it/s]\u001b[A\n",
      "Validation DataLoader 0:   0%|                                                                   | 0/7 [00:00<?, ?it/s]\u001b[A\n",
      "Validation DataLoader 0:  14%|████████▍                                                  | 1/7 [00:00<00:00, 52.54it/s]\u001b[A\n",
      "Validation DataLoader 0:  29%|████████████████▊                                          | 2/7 [00:00<00:00, 62.50it/s]\u001b[A\n",
      "Validation DataLoader 0:  43%|█████████████████████████▎                                 | 3/7 [00:00<00:00, 65.27it/s]\u001b[A\n",
      "Validation DataLoader 0:  57%|█████████████████████████████████▋                         | 4/7 [00:00<00:00, 67.38it/s]\u001b[A\n",
      "Validation DataLoader 0:  71%|██████████████████████████████████████████▏                | 5/7 [00:00<00:00, 67.95it/s]\u001b[A\n",
      "Validation DataLoader 0:  86%|██████████████████████████████████████████████████▌        | 6/7 [00:00<00:00, 66.27it/s]\u001b[A\n",
      "Validation DataLoader 0: 100%|███████████████████████████████████████████████████████████| 7/7 [00:00<00:00, 67.63it/s]\u001b[A\n",
      "Epoch 123: 100%|█████████████████████████████| 21/21 [00:00<00:00, 40.98it/s, v_num=11, train_acc=0.943, val_acc=0.970]\u001b[A\n",
      "Validation: |                                                                                    | 0/? [00:00<?, ?it/s]\u001b[A\n",
      "Validation:   0%|                                                                                | 0/7 [00:00<?, ?it/s]\u001b[A\n",
      "Validation DataLoader 0:   0%|                                                                   | 0/7 [00:00<?, ?it/s]\u001b[A\n",
      "Validation DataLoader 0:  14%|████████▍                                                  | 1/7 [00:00<00:00, 42.10it/s]\u001b[A\n",
      "Validation DataLoader 0:  29%|████████████████▊                                          | 2/7 [00:00<00:00, 47.95it/s]\u001b[A\n",
      "Validation DataLoader 0:  43%|█████████████████████████▎                                 | 3/7 [00:00<00:00, 43.21it/s]\u001b[A\n",
      "Validation DataLoader 0:  57%|█████████████████████████████████▋                         | 4/7 [00:00<00:00, 44.76it/s]\u001b[A\n",
      "Validation DataLoader 0:  71%|██████████████████████████████████████████▏                | 5/7 [00:00<00:00, 47.94it/s]\u001b[A\n",
      "Validation DataLoader 0:  86%|██████████████████████████████████████████████████▌        | 6/7 [00:00<00:00, 49.82it/s]\u001b[A\n",
      "Validation DataLoader 0: 100%|███████████████████████████████████████████████████████████| 7/7 [00:00<00:00, 51.70it/s]\u001b[A\n",
      "Epoch 124: 100%|█████████████████████████████| 21/21 [00:00<00:00, 53.04it/s, v_num=11, train_acc=0.849, val_acc=0.972]\u001b[A\n",
      "Validation: |                                                                                    | 0/? [00:00<?, ?it/s]\u001b[A\n",
      "Validation:   0%|                                                                                | 0/7 [00:00<?, ?it/s]\u001b[A\n",
      "Validation DataLoader 0:   0%|                                                                   | 0/7 [00:00<?, ?it/s]\u001b[A\n",
      "Validation DataLoader 0:  14%|████████▍                                                  | 1/7 [00:00<00:00, 58.98it/s]\u001b[A\n",
      "Validation DataLoader 0:  29%|████████████████▊                                          | 2/7 [00:00<00:00, 63.68it/s]\u001b[A\n",
      "Validation DataLoader 0:  43%|█████████████████████████▎                                 | 3/7 [00:00<00:00, 66.50it/s]\u001b[A\n",
      "Validation DataLoader 0:  57%|█████████████████████████████████▋                         | 4/7 [00:00<00:00, 68.44it/s]\u001b[A\n",
      "Validation DataLoader 0:  71%|██████████████████████████████████████████▏                | 5/7 [00:00<00:00, 69.96it/s]\u001b[A\n",
      "Validation DataLoader 0:  86%|██████████████████████████████████████████████████▌        | 6/7 [00:00<00:00, 69.42it/s]\u001b[A\n",
      "Validation DataLoader 0: 100%|███████████████████████████████████████████████████████████| 7/7 [00:00<00:00, 69.92it/s]\u001b[A\n",
      "Epoch 125: 100%|█████████████████████████████| 21/21 [00:00<00:00, 48.56it/s, v_num=11, train_acc=0.868, val_acc=0.968]\u001b[A\n",
      "Validation: |                                                                                    | 0/? [00:00<?, ?it/s]\u001b[A\n",
      "Validation:   0%|                                                                                | 0/7 [00:00<?, ?it/s]\u001b[A\n",
      "Validation DataLoader 0:   0%|                                                                   | 0/7 [00:00<?, ?it/s]\u001b[A\n",
      "Validation DataLoader 0:  14%|████████▍                                                  | 1/7 [00:00<00:00, 56.66it/s]\u001b[A\n",
      "Validation DataLoader 0:  29%|████████████████▊                                          | 2/7 [00:00<00:00, 59.22it/s]\u001b[A\n",
      "Validation DataLoader 0:  43%|█████████████████████████▎                                 | 3/7 [00:00<00:00, 62.58it/s]\u001b[A\n",
      "Validation DataLoader 0:  57%|█████████████████████████████████▋                         | 4/7 [00:00<00:00, 60.45it/s]\u001b[A\n",
      "Validation DataLoader 0:  71%|██████████████████████████████████████████▏                | 5/7 [00:00<00:00, 60.40it/s]\u001b[A\n",
      "Validation DataLoader 0:  86%|██████████████████████████████████████████████████▌        | 6/7 [00:00<00:00, 60.30it/s]\u001b[A\n",
      "Validation DataLoader 0: 100%|███████████████████████████████████████████████████████████| 7/7 [00:00<00:00, 61.58it/s]\u001b[A\n",
      "Epoch 126: 100%|█████████████████████████████| 21/21 [00:00<00:00, 42.75it/s, v_num=11, train_acc=0.887, val_acc=0.972]\u001b[A\n",
      "Validation: |                                                                                    | 0/? [00:00<?, ?it/s]\u001b[A\n",
      "Validation:   0%|                                                                                | 0/7 [00:00<?, ?it/s]\u001b[A\n",
      "Validation DataLoader 0:   0%|                                                                   | 0/7 [00:00<?, ?it/s]\u001b[A\n",
      "Validation DataLoader 0:  14%|████████▍                                                  | 1/7 [00:00<00:00, 45.39it/s]\u001b[A\n",
      "Validation DataLoader 0:  29%|████████████████▊                                          | 2/7 [00:00<00:00, 49.76it/s]\u001b[A\n",
      "Validation DataLoader 0:  43%|█████████████████████████▎                                 | 3/7 [00:00<00:00, 54.64it/s]\u001b[A\n",
      "Validation DataLoader 0:  57%|█████████████████████████████████▋                         | 4/7 [00:00<00:00, 56.14it/s]\u001b[A\n",
      "Validation DataLoader 0:  71%|██████████████████████████████████████████▏                | 5/7 [00:00<00:00, 57.43it/s]\u001b[A\n",
      "Validation DataLoader 0:  86%|██████████████████████████████████████████████████▌        | 6/7 [00:00<00:00, 58.88it/s]\u001b[A\n",
      "Validation DataLoader 0: 100%|███████████████████████████████████████████████████████████| 7/7 [00:00<00:00, 59.34it/s]\u001b[A\n",
      "Epoch 127: 100%|█████████████████████████████| 21/21 [00:00<00:00, 47.63it/s, v_num=11, train_acc=0.925, val_acc=0.975]\u001b[A\n",
      "Validation: |                                                                                    | 0/? [00:00<?, ?it/s]\u001b[A\n",
      "Validation:   0%|                                                                                | 0/7 [00:00<?, ?it/s]\u001b[A\n",
      "Validation DataLoader 0:   0%|                                                                   | 0/7 [00:00<?, ?it/s]\u001b[A\n",
      "Validation DataLoader 0:  14%|████████▍                                                  | 1/7 [00:00<00:00, 52.77it/s]\u001b[A\n",
      "Validation DataLoader 0:  29%|████████████████▊                                          | 2/7 [00:00<00:00, 60.77it/s]\u001b[A\n",
      "Validation DataLoader 0:  43%|█████████████████████████▎                                 | 3/7 [00:00<00:00, 66.41it/s]\u001b[A\n",
      "Validation DataLoader 0:  57%|█████████████████████████████████▋                         | 4/7 [00:00<00:00, 68.52it/s]\u001b[A\n",
      "Validation DataLoader 0:  71%|██████████████████████████████████████████▏                | 5/7 [00:00<00:00, 71.08it/s]\u001b[A\n",
      "Validation DataLoader 0:  86%|██████████████████████████████████████████████████▌        | 6/7 [00:00<00:00, 72.22it/s]\u001b[A\n",
      "Validation DataLoader 0: 100%|███████████████████████████████████████████████████████████| 7/7 [00:00<00:00, 74.30it/s]\u001b[A\n",
      "Epoch 127: 100%|█████████████████████████████| 21/21 [00:00<00:00, 37.10it/s, v_num=11, train_acc=0.925, val_acc=0.974]\u001b[A"
     ]
    },
    {
     "name": "stderr",
     "output_type": "stream",
     "text": [
      "Metric val_loss improved by 0.001 >= min_delta = 0.0. New best score: 0.130\n"
     ]
    },
    {
     "name": "stdout",
     "output_type": "stream",
     "text": [
      "Epoch 128: 100%|█████████████████████████████| 21/21 [00:00<00:00, 42.45it/s, v_num=11, train_acc=0.906, val_acc=0.974]\n",
      "Validation: |                                                                                    | 0/? [00:00<?, ?it/s]\u001b[A\n",
      "Validation:   0%|                                                                                | 0/7 [00:00<?, ?it/s]\u001b[A\n",
      "Validation DataLoader 0:   0%|                                                                   | 0/7 [00:00<?, ?it/s]\u001b[A\n",
      "Validation DataLoader 0:  14%|████████▍                                                  | 1/7 [00:00<00:00, 62.67it/s]\u001b[A\n",
      "Validation DataLoader 0:  29%|████████████████▊                                          | 2/7 [00:00<00:00, 74.14it/s]\u001b[A\n",
      "Validation DataLoader 0:  43%|█████████████████████████▎                                 | 3/7 [00:00<00:00, 78.64it/s]\u001b[A\n",
      "Validation DataLoader 0:  57%|█████████████████████████████████▋                         | 4/7 [00:00<00:00, 79.82it/s]\u001b[A\n",
      "Validation DataLoader 0:  71%|██████████████████████████████████████████▏                | 5/7 [00:00<00:00, 80.96it/s]\u001b[A\n",
      "Validation DataLoader 0:  86%|██████████████████████████████████████████████████▌        | 6/7 [00:00<00:00, 80.64it/s]\u001b[A\n",
      "Validation DataLoader 0: 100%|███████████████████████████████████████████████████████████| 7/7 [00:00<00:00, 82.96it/s]\u001b[A\n",
      "Epoch 129: 100%|█████████████████████████████| 21/21 [00:00<00:00, 68.59it/s, v_num=11, train_acc=0.943, val_acc=0.969]\u001b[A\n",
      "Validation: |                                                                                    | 0/? [00:00<?, ?it/s]\u001b[A\n",
      "Validation:   0%|                                                                                | 0/7 [00:00<?, ?it/s]\u001b[A\n",
      "Validation DataLoader 0:   0%|                                                                   | 0/7 [00:00<?, ?it/s]\u001b[A\n",
      "Validation DataLoader 0:  14%|████████▍                                                  | 1/7 [00:00<00:00, 62.81it/s]\u001b[A\n",
      "Validation DataLoader 0:  29%|████████████████▊                                          | 2/7 [00:00<00:00, 73.87it/s]\u001b[A\n",
      "Validation DataLoader 0:  43%|█████████████████████████▎                                 | 3/7 [00:00<00:00, 75.47it/s]\u001b[A\n",
      "Validation DataLoader 0:  57%|█████████████████████████████████▋                         | 4/7 [00:00<00:00, 77.33it/s]\u001b[A\n",
      "Validation DataLoader 0:  71%|██████████████████████████████████████████▏                | 5/7 [00:00<00:00, 77.61it/s]\u001b[A\n",
      "Validation DataLoader 0:  86%|██████████████████████████████████████████████████▌        | 6/7 [00:00<00:00, 78.91it/s]\u001b[A\n",
      "Validation DataLoader 0: 100%|███████████████████████████████████████████████████████████| 7/7 [00:00<00:00, 80.45it/s]\u001b[A\n",
      "Epoch 129: 100%|█████████████████████████████| 21/21 [00:00<00:00, 33.70it/s, v_num=11, train_acc=0.943, val_acc=0.976]\u001b[A"
     ]
    },
    {
     "name": "stderr",
     "output_type": "stream",
     "text": [
      "Metric val_loss improved by 0.001 >= min_delta = 0.0. New best score: 0.129\n"
     ]
    },
    {
     "name": "stdout",
     "output_type": "stream",
     "text": [
      "Epoch 130: 100%|█████████████████████████████| 21/21 [00:00<00:00, 38.80it/s, v_num=11, train_acc=0.830, val_acc=0.976]\n",
      "Validation: |                                                                                    | 0/? [00:00<?, ?it/s]\u001b[A\n",
      "Validation:   0%|                                                                                | 0/7 [00:00<?, ?it/s]\u001b[A\n",
      "Validation DataLoader 0:   0%|                                                                   | 0/7 [00:00<?, ?it/s]\u001b[A\n",
      "Validation DataLoader 0:  14%|████████▍                                                  | 1/7 [00:00<00:00, 71.62it/s]\u001b[A\n",
      "Validation DataLoader 0:  29%|████████████████▊                                          | 2/7 [00:00<00:00, 74.64it/s]\u001b[A\n",
      "Validation DataLoader 0:  43%|█████████████████████████▎                                 | 3/7 [00:00<00:00, 76.59it/s]\u001b[A\n",
      "Validation DataLoader 0:  57%|█████████████████████████████████▋                         | 4/7 [00:00<00:00, 77.12it/s]\u001b[A\n",
      "Validation DataLoader 0:  71%|██████████████████████████████████████████▏                | 5/7 [00:00<00:00, 78.33it/s]\u001b[A\n",
      "Validation DataLoader 0:  86%|██████████████████████████████████████████████████▌        | 6/7 [00:00<00:00, 78.37it/s]\u001b[A\n",
      "Validation DataLoader 0: 100%|███████████████████████████████████████████████████████████| 7/7 [00:00<00:00, 79.37it/s]\u001b[A\n",
      "Epoch 131: 100%|█████████████████████████████| 21/21 [00:00<00:00, 68.28it/s, v_num=11, train_acc=0.906, val_acc=0.971]\u001b[A\n",
      "Validation: |                                                                                    | 0/? [00:00<?, ?it/s]\u001b[A\n",
      "Validation:   0%|                                                                                | 0/7 [00:00<?, ?it/s]\u001b[A\n",
      "Validation DataLoader 0:   0%|                                                                   | 0/7 [00:00<?, ?it/s]\u001b[A\n",
      "Validation DataLoader 0:  14%|████████▍                                                  | 1/7 [00:00<00:00, 67.56it/s]\u001b[A\n",
      "Validation DataLoader 0:  29%|████████████████▊                                          | 2/7 [00:00<00:00, 69.68it/s]\u001b[A\n",
      "Validation DataLoader 0:  43%|█████████████████████████▎                                 | 3/7 [00:00<00:00, 76.03it/s]\u001b[A\n",
      "Validation DataLoader 0:  57%|█████████████████████████████████▋                         | 4/7 [00:00<00:00, 77.78it/s]\u001b[A\n",
      "Validation DataLoader 0:  71%|██████████████████████████████████████████▏                | 5/7 [00:00<00:00, 79.31it/s]\u001b[A\n",
      "Validation DataLoader 0:  86%|██████████████████████████████████████████████████▌        | 6/7 [00:00<00:00, 79.98it/s]\u001b[A\n",
      "Validation DataLoader 0: 100%|███████████████████████████████████████████████████████████| 7/7 [00:00<00:00, 80.47it/s]\u001b[A\n",
      "Epoch 132: 100%|█████████████████████████████| 21/21 [00:00<00:00, 72.49it/s, v_num=11, train_acc=0.868, val_acc=0.971]\u001b[A\n",
      "Validation: |                                                                                    | 0/? [00:00<?, ?it/s]\u001b[A\n",
      "Validation:   0%|                                                                                | 0/7 [00:00<?, ?it/s]\u001b[A\n",
      "Validation DataLoader 0:   0%|                                                                   | 0/7 [00:00<?, ?it/s]\u001b[A\n",
      "Validation DataLoader 0:  14%|████████▍                                                  | 1/7 [00:00<00:00, 70.67it/s]\u001b[A\n",
      "Validation DataLoader 0:  29%|████████████████▊                                          | 2/7 [00:00<00:00, 81.89it/s]\u001b[A\n",
      "Validation DataLoader 0:  43%|█████████████████████████▎                                 | 3/7 [00:00<00:00, 84.77it/s]\u001b[A\n",
      "Validation DataLoader 0:  57%|█████████████████████████████████▋                         | 4/7 [00:00<00:00, 84.33it/s]\u001b[A\n",
      "Validation DataLoader 0:  71%|██████████████████████████████████████████▏                | 5/7 [00:00<00:00, 86.09it/s]\u001b[A\n",
      "Validation DataLoader 0:  86%|██████████████████████████████████████████████████▌        | 6/7 [00:00<00:00, 86.89it/s]\u001b[A\n",
      "Validation DataLoader 0: 100%|███████████████████████████████████████████████████████████| 7/7 [00:00<00:00, 87.71it/s]\u001b[A\n",
      "Epoch 133: 100%|█████████████████████████████| 21/21 [00:00<00:00, 66.09it/s, v_num=11, train_acc=0.925, val_acc=0.975]\u001b[A\n",
      "Validation: |                                                                                    | 0/? [00:00<?, ?it/s]\u001b[A\n",
      "Validation:   0%|                                                                                | 0/7 [00:00<?, ?it/s]\u001b[A\n",
      "Validation DataLoader 0:   0%|                                                                   | 0/7 [00:00<?, ?it/s]\u001b[A\n",
      "Validation DataLoader 0:  14%|████████▍                                                  | 1/7 [00:00<00:00, 68.80it/s]\u001b[A\n",
      "Validation DataLoader 0:  29%|████████████████▊                                          | 2/7 [00:00<00:00, 81.21it/s]\u001b[A\n",
      "Validation DataLoader 0:  43%|█████████████████████████▎                                 | 3/7 [00:00<00:00, 80.84it/s]\u001b[A\n",
      "Validation DataLoader 0:  57%|█████████████████████████████████▋                         | 4/7 [00:00<00:00, 86.80it/s]\u001b[A\n",
      "Validation DataLoader 0:  71%|██████████████████████████████████████████▏                | 5/7 [00:00<00:00, 83.87it/s]\u001b[A\n",
      "Validation DataLoader 0:  86%|██████████████████████████████████████████████████▌        | 6/7 [00:00<00:00, 83.68it/s]\u001b[A\n",
      "Validation DataLoader 0: 100%|███████████████████████████████████████████████████████████| 7/7 [00:00<00:00, 84.04it/s]\u001b[A\n",
      "Epoch 134: 100%|█████████████████████████████| 21/21 [00:00<00:00, 71.31it/s, v_num=11, train_acc=0.887, val_acc=0.971]\u001b[A\n",
      "Validation: |                                                                                    | 0/? [00:00<?, ?it/s]\u001b[A\n",
      "Validation:   0%|                                                                                | 0/7 [00:00<?, ?it/s]\u001b[A\n",
      "Validation DataLoader 0:   0%|                                                                   | 0/7 [00:00<?, ?it/s]\u001b[A\n",
      "Validation DataLoader 0:  14%|████████▍                                                  | 1/7 [00:00<00:00, 62.66it/s]\u001b[A\n",
      "Validation DataLoader 0:  29%|████████████████▊                                          | 2/7 [00:00<00:00, 74.27it/s]\u001b[A\n",
      "Validation DataLoader 0:  43%|█████████████████████████▎                                 | 3/7 [00:00<00:00, 81.30it/s]\u001b[A\n",
      "Validation DataLoader 0:  57%|█████████████████████████████████▋                         | 4/7 [00:00<00:00, 78.64it/s]\u001b[A\n",
      "Validation DataLoader 0:  71%|██████████████████████████████████████████▏                | 5/7 [00:00<00:00, 78.03it/s]\u001b[A\n",
      "Validation DataLoader 0:  86%|██████████████████████████████████████████████████▌        | 6/7 [00:00<00:00, 79.70it/s]\u001b[A\n",
      "Validation DataLoader 0: 100%|███████████████████████████████████████████████████████████| 7/7 [00:00<00:00, 81.16it/s]\u001b[A\n",
      "Epoch 135: 100%|█████████████████████████████| 21/21 [00:00<00:00, 66.04it/s, v_num=11, train_acc=0.830, val_acc=0.972]\u001b[A\n",
      "Validation: |                                                                                    | 0/? [00:00<?, ?it/s]\u001b[A\n",
      "Validation:   0%|                                                                                | 0/7 [00:00<?, ?it/s]\u001b[A\n",
      "Validation DataLoader 0:   0%|                                                                   | 0/7 [00:00<?, ?it/s]\u001b[A\n",
      "Validation DataLoader 0:  14%|████████▍                                                  | 1/7 [00:00<00:00, 67.81it/s]\u001b[A\n",
      "Validation DataLoader 0:  29%|████████████████▊                                          | 2/7 [00:00<00:00, 77.76it/s]\u001b[A\n",
      "Validation DataLoader 0:  43%|█████████████████████████▎                                 | 3/7 [00:00<00:00, 79.61it/s]\u001b[A\n",
      "Validation DataLoader 0:  57%|█████████████████████████████████▋                         | 4/7 [00:00<00:00, 82.24it/s]\u001b[A\n",
      "Validation DataLoader 0:  71%|██████████████████████████████████████████▏                | 5/7 [00:00<00:00, 83.88it/s]\u001b[A\n",
      "Validation DataLoader 0:  86%|██████████████████████████████████████████████████▌        | 6/7 [00:00<00:00, 83.61it/s]\u001b[A\n",
      "Validation DataLoader 0: 100%|███████████████████████████████████████████████████████████| 7/7 [00:00<00:00, 82.88it/s]\u001b[A\n",
      "Epoch 136: 100%|█████████████████████████████| 21/21 [00:00<00:00, 71.53it/s, v_num=11, train_acc=0.830, val_acc=0.971]\u001b[A\n",
      "Validation: |                                                                                    | 0/? [00:00<?, ?it/s]\u001b[A\n",
      "Validation:   0%|                                                                                | 0/7 [00:00<?, ?it/s]\u001b[A\n",
      "Validation DataLoader 0:   0%|                                                                   | 0/7 [00:00<?, ?it/s]\u001b[A\n",
      "Validation DataLoader 0:  14%|████████▍                                                  | 1/7 [00:00<00:00, 62.90it/s]\u001b[A\n",
      "Validation DataLoader 0:  29%|████████████████▊                                          | 2/7 [00:00<00:00, 79.83it/s]\u001b[A\n",
      "Validation DataLoader 0:  43%|█████████████████████████▎                                 | 3/7 [00:00<00:00, 79.93it/s]\u001b[A\n",
      "Validation DataLoader 0:  57%|█████████████████████████████████▋                         | 4/7 [00:00<00:00, 82.16it/s]\u001b[A\n",
      "Validation DataLoader 0:  71%|██████████████████████████████████████████▏                | 5/7 [00:00<00:00, 83.82it/s]\u001b[A\n",
      "Validation DataLoader 0:  86%|██████████████████████████████████████████████████▌        | 6/7 [00:00<00:00, 82.42it/s]\u001b[A\n",
      "Validation DataLoader 0: 100%|███████████████████████████████████████████████████████████| 7/7 [00:00<00:00, 84.57it/s]\u001b[A\n",
      "Epoch 137: 100%|█████████████████████████████| 21/21 [00:00<00:00, 72.63it/s, v_num=11, train_acc=0.849, val_acc=0.969]\u001b[A\n",
      "Validation: |                                                                                    | 0/? [00:00<?, ?it/s]\u001b[A\n",
      "Validation:   0%|                                                                                | 0/7 [00:00<?, ?it/s]\u001b[A\n",
      "Validation DataLoader 0:   0%|                                                                   | 0/7 [00:00<?, ?it/s]\u001b[A\n",
      "Validation DataLoader 0:  14%|████████▍                                                  | 1/7 [00:00<00:00, 60.81it/s]\u001b[A\n",
      "Validation DataLoader 0:  29%|████████████████▊                                          | 2/7 [00:00<00:00, 74.59it/s]\u001b[A\n",
      "Validation DataLoader 0:  43%|█████████████████████████▎                                 | 3/7 [00:00<00:00, 79.40it/s]\u001b[A\n",
      "Validation DataLoader 0:  57%|█████████████████████████████████▋                         | 4/7 [00:00<00:00, 78.46it/s]\u001b[A\n",
      "Validation DataLoader 0:  71%|██████████████████████████████████████████▏                | 5/7 [00:00<00:00, 79.60it/s]\u001b[A\n",
      "Validation DataLoader 0:  86%|██████████████████████████████████████████████████▌        | 6/7 [00:00<00:00, 80.19it/s]\u001b[A\n",
      "Validation DataLoader 0: 100%|███████████████████████████████████████████████████████████| 7/7 [00:00<00:00, 80.65it/s]\u001b[A\n",
      "Epoch 138: 100%|█████████████████████████████| 21/21 [00:00<00:00, 69.89it/s, v_num=11, train_acc=0.849, val_acc=0.968]\u001b[A\n",
      "Validation: |                                                                                    | 0/? [00:00<?, ?it/s]\u001b[A\n",
      "Validation:   0%|                                                                                | 0/7 [00:00<?, ?it/s]\u001b[A\n",
      "Validation DataLoader 0:   0%|                                                                   | 0/7 [00:00<?, ?it/s]\u001b[A\n",
      "Validation DataLoader 0:  14%|████████▍                                                  | 1/7 [00:00<00:00, 60.45it/s]\u001b[A\n",
      "Validation DataLoader 0:  29%|████████████████▊                                          | 2/7 [00:00<00:00, 70.15it/s]\u001b[A\n",
      "Validation DataLoader 0:  43%|█████████████████████████▎                                 | 3/7 [00:00<00:00, 74.11it/s]\u001b[A\n",
      "Validation DataLoader 0:  57%|█████████████████████████████████▋                         | 4/7 [00:00<00:00, 76.27it/s]\u001b[A\n",
      "Validation DataLoader 0:  71%|██████████████████████████████████████████▏                | 5/7 [00:00<00:00, 77.62it/s]\u001b[A\n",
      "Validation DataLoader 0:  86%|██████████████████████████████████████████████████▌        | 6/7 [00:00<00:00, 79.18it/s]\u001b[A\n",
      "Validation DataLoader 0: 100%|███████████████████████████████████████████████████████████| 7/7 [00:00<00:00, 81.63it/s]\u001b[A\n",
      "Epoch 138: 100%|█████████████████████████████| 21/21 [00:00<00:00, 50.25it/s, v_num=11, train_acc=0.849, val_acc=0.976]\u001b[A"
     ]
    },
    {
     "name": "stderr",
     "output_type": "stream",
     "text": [
      "Metric val_loss improved by 0.001 >= min_delta = 0.0. New best score: 0.128\n"
     ]
    },
    {
     "name": "stdout",
     "output_type": "stream",
     "text": [
      "Epoch 139: 100%|█████████████████████████████| 21/21 [00:00<00:00, 74.35it/s, v_num=11, train_acc=0.830, val_acc=0.976]\n",
      "Validation: |                                                                                    | 0/? [00:00<?, ?it/s]\u001b[A\n",
      "Validation:   0%|                                                                                | 0/7 [00:00<?, ?it/s]\u001b[A\n",
      "Validation DataLoader 0:   0%|                                                                   | 0/7 [00:00<?, ?it/s]\u001b[A\n",
      "Validation DataLoader 0:  14%|████████▍                                                  | 1/7 [00:00<00:00, 71.49it/s]\u001b[A\n",
      "Validation DataLoader 0:  29%|████████████████▊                                          | 2/7 [00:00<00:00, 83.47it/s]\u001b[A\n",
      "Validation DataLoader 0:  43%|█████████████████████████▎                                 | 3/7 [00:00<00:00, 88.40it/s]\u001b[A\n",
      "Validation DataLoader 0:  57%|█████████████████████████████████▋                         | 4/7 [00:00<00:00, 88.00it/s]\u001b[A\n",
      "Validation DataLoader 0:  71%|██████████████████████████████████████████▏                | 5/7 [00:00<00:00, 88.61it/s]\u001b[A\n",
      "Validation DataLoader 0:  86%|██████████████████████████████████████████████████▌        | 6/7 [00:00<00:00, 85.72it/s]\u001b[A\n",
      "Validation DataLoader 0: 100%|███████████████████████████████████████████████████████████| 7/7 [00:00<00:00, 86.05it/s]\u001b[A\n",
      "Epoch 140: 100%|█████████████████████████████| 21/21 [00:00<00:00, 71.31it/s, v_num=11, train_acc=0.887, val_acc=0.974]\u001b[A\n",
      "Validation: |                                                                                    | 0/? [00:00<?, ?it/s]\u001b[A\n",
      "Validation:   0%|                                                                                | 0/7 [00:00<?, ?it/s]\u001b[A\n",
      "Validation DataLoader 0:   0%|                                                                   | 0/7 [00:00<?, ?it/s]\u001b[A\n",
      "Validation DataLoader 0:  14%|████████▍                                                  | 1/7 [00:00<00:00, 68.11it/s]\u001b[A\n",
      "Validation DataLoader 0:  29%|████████████████▊                                          | 2/7 [00:00<00:00, 77.57it/s]\u001b[A\n",
      "Validation DataLoader 0:  43%|█████████████████████████▎                                 | 3/7 [00:00<00:00, 77.99it/s]\u001b[A\n",
      "Validation DataLoader 0:  57%|█████████████████████████████████▋                         | 4/7 [00:00<00:00, 80.90it/s]\u001b[A\n",
      "Validation DataLoader 0:  71%|██████████████████████████████████████████▏                | 5/7 [00:00<00:00, 81.42it/s]\u001b[A\n",
      "Validation DataLoader 0:  86%|██████████████████████████████████████████████████▌        | 6/7 [00:00<00:00, 81.76it/s]\u001b[A\n",
      "Validation DataLoader 0: 100%|███████████████████████████████████████████████████████████| 7/7 [00:00<00:00, 81.96it/s]\u001b[A\n",
      "Epoch 141: 100%|█████████████████████████████| 21/21 [00:00<00:00, 64.93it/s, v_num=11, train_acc=0.962, val_acc=0.969]\u001b[A\n",
      "Validation: |                                                                                    | 0/? [00:00<?, ?it/s]\u001b[A\n",
      "Validation:   0%|                                                                                | 0/7 [00:00<?, ?it/s]\u001b[A\n",
      "Validation DataLoader 0:   0%|                                                                   | 0/7 [00:00<?, ?it/s]\u001b[A\n",
      "Validation DataLoader 0:  14%|████████▍                                                  | 1/7 [00:00<00:00, 72.92it/s]\u001b[A\n",
      "Validation DataLoader 0:  29%|████████████████▊                                          | 2/7 [00:00<00:00, 76.05it/s]\u001b[A\n",
      "Validation DataLoader 0:  43%|█████████████████████████▎                                 | 3/7 [00:00<00:00, 78.93it/s]\u001b[A\n",
      "Validation DataLoader 0:  57%|█████████████████████████████████▋                         | 4/7 [00:00<00:00, 76.97it/s]\u001b[A\n",
      "Validation DataLoader 0:  71%|██████████████████████████████████████████▏                | 5/7 [00:00<00:00, 76.17it/s]\u001b[A\n",
      "Validation DataLoader 0:  86%|██████████████████████████████████████████████████▌        | 6/7 [00:00<00:00, 77.56it/s]\u001b[A\n",
      "Validation DataLoader 0: 100%|███████████████████████████████████████████████████████████| 7/7 [00:00<00:00, 78.67it/s]\u001b[A\n",
      "Epoch 142: 100%|█████████████████████████████| 21/21 [00:00<00:00, 70.67it/s, v_num=11, train_acc=0.925, val_acc=0.970]\u001b[A\n",
      "Validation: |                                                                                    | 0/? [00:00<?, ?it/s]\u001b[A\n",
      "Validation:   0%|                                                                                | 0/7 [00:00<?, ?it/s]\u001b[A\n",
      "Validation DataLoader 0:   0%|                                                                   | 0/7 [00:00<?, ?it/s]\u001b[A\n",
      "Validation DataLoader 0:  14%|████████▍                                                  | 1/7 [00:00<00:00, 70.03it/s]\u001b[A\n",
      "Validation DataLoader 0:  29%|████████████████▊                                          | 2/7 [00:00<00:00, 79.20it/s]\u001b[A\n",
      "Validation DataLoader 0:  43%|█████████████████████████▎                                 | 3/7 [00:00<00:00, 82.47it/s]\u001b[A\n",
      "Validation DataLoader 0:  57%|█████████████████████████████████▋                         | 4/7 [00:00<00:00, 84.48it/s]\u001b[A\n",
      "Validation DataLoader 0:  71%|██████████████████████████████████████████▏                | 5/7 [00:00<00:00, 85.74it/s]\u001b[A\n",
      "Validation DataLoader 0:  86%|██████████████████████████████████████████████████▌        | 6/7 [00:00<00:00, 85.35it/s]\u001b[A\n",
      "Validation DataLoader 0: 100%|███████████████████████████████████████████████████████████| 7/7 [00:00<00:00, 83.97it/s]\u001b[A\n",
      "Epoch 143: 100%|█████████████████████████████| 21/21 [00:00<00:00, 71.03it/s, v_num=11, train_acc=0.887, val_acc=0.967]\u001b[A\n",
      "Validation: |                                                                                    | 0/? [00:00<?, ?it/s]\u001b[A\n",
      "Validation:   0%|                                                                                | 0/7 [00:00<?, ?it/s]\u001b[A\n",
      "Validation DataLoader 0:   0%|                                                                   | 0/7 [00:00<?, ?it/s]\u001b[A\n",
      "Validation DataLoader 0:  14%|████████▍                                                  | 1/7 [00:00<00:00, 71.63it/s]\u001b[A\n",
      "Validation DataLoader 0:  29%|████████████████▊                                          | 2/7 [00:00<00:00, 83.56it/s]\u001b[A\n",
      "Validation DataLoader 0:  43%|█████████████████████████▎                                 | 3/7 [00:00<00:00, 83.56it/s]\u001b[A\n",
      "Validation DataLoader 0:  57%|█████████████████████████████████▋                         | 4/7 [00:00<00:00, 78.64it/s]\u001b[A\n",
      "Validation DataLoader 0:  71%|██████████████████████████████████████████▏                | 5/7 [00:00<00:00, 80.86it/s]\u001b[A\n",
      "Validation DataLoader 0:  86%|██████████████████████████████████████████████████▌        | 6/7 [00:00<00:00, 78.81it/s]\u001b[A\n",
      "Validation DataLoader 0: 100%|███████████████████████████████████████████████████████████| 7/7 [00:00<00:00, 78.29it/s]\u001b[A\n",
      "Epoch 144: 100%|█████████████████████████████| 21/21 [00:00<00:00, 67.16it/s, v_num=11, train_acc=0.849, val_acc=0.969]\u001b[A\n",
      "Validation: |                                                                                    | 0/? [00:00<?, ?it/s]\u001b[A\n",
      "Validation:   0%|                                                                                | 0/7 [00:00<?, ?it/s]\u001b[A\n",
      "Validation DataLoader 0:   0%|                                                                   | 0/7 [00:00<?, ?it/s]\u001b[A\n",
      "Validation DataLoader 0:  14%|████████▍                                                  | 1/7 [00:00<00:00, 55.72it/s]\u001b[A\n",
      "Validation DataLoader 0:  29%|████████████████▊                                          | 2/7 [00:00<00:00, 65.27it/s]\u001b[A\n",
      "Validation DataLoader 0:  43%|█████████████████████████▎                                 | 3/7 [00:00<00:00, 70.40it/s]\u001b[A\n",
      "Validation DataLoader 0:  57%|█████████████████████████████████▋                         | 4/7 [00:00<00:00, 73.53it/s]\u001b[A\n",
      "Validation DataLoader 0:  71%|██████████████████████████████████████████▏                | 5/7 [00:00<00:00, 76.92it/s]\u001b[A\n",
      "Validation DataLoader 0:  86%|██████████████████████████████████████████████████▌        | 6/7 [00:00<00:00, 78.97it/s]\u001b[A\n",
      "Validation DataLoader 0: 100%|███████████████████████████████████████████████████████████| 7/7 [00:00<00:00, 78.90it/s]\u001b[A\n",
      "Epoch 145: 100%|█████████████████████████████| 21/21 [00:00<00:00, 68.26it/s, v_num=11, train_acc=0.868, val_acc=0.970]\u001b[A\n",
      "Validation: |                                                                                    | 0/? [00:00<?, ?it/s]\u001b[A\n",
      "Validation:   0%|                                                                                | 0/7 [00:00<?, ?it/s]\u001b[A\n",
      "Validation DataLoader 0:   0%|                                                                   | 0/7 [00:00<?, ?it/s]\u001b[A\n",
      "Validation DataLoader 0:  14%|████████▍                                                  | 1/7 [00:00<00:00, 56.93it/s]\u001b[A\n",
      "Validation DataLoader 0:  29%|████████████████▊                                          | 2/7 [00:00<00:00, 64.70it/s]\u001b[A\n",
      "Validation DataLoader 0:  43%|█████████████████████████▎                                 | 3/7 [00:00<00:00, 63.85it/s]\u001b[A\n",
      "Validation DataLoader 0:  57%|█████████████████████████████████▋                         | 4/7 [00:00<00:00, 64.84it/s]\u001b[A\n",
      "Validation DataLoader 0:  71%|██████████████████████████████████████████▏                | 5/7 [00:00<00:00, 63.39it/s]\u001b[A\n",
      "Validation DataLoader 0:  86%|██████████████████████████████████████████████████▌        | 6/7 [00:00<00:00, 65.33it/s]\u001b[A\n",
      "Validation DataLoader 0: 100%|███████████████████████████████████████████████████████████| 7/7 [00:00<00:00, 68.61it/s]\u001b[A\n",
      "Epoch 146: 100%|█████████████████████████████| 21/21 [00:00<00:00, 71.12it/s, v_num=11, train_acc=0.849, val_acc=0.974]\u001b[A\n",
      "Validation: |                                                                                    | 0/? [00:00<?, ?it/s]\u001b[A\n",
      "Validation:   0%|                                                                                | 0/7 [00:00<?, ?it/s]\u001b[A\n",
      "Validation DataLoader 0:   0%|                                                                   | 0/7 [00:00<?, ?it/s]\u001b[A\n",
      "Validation DataLoader 0:  14%|████████▍                                                  | 1/7 [00:00<00:00, 74.56it/s]\u001b[A\n",
      "Validation DataLoader 0:  29%|████████████████▊                                          | 2/7 [00:00<00:00, 74.02it/s]\u001b[A\n",
      "Validation DataLoader 0:  43%|█████████████████████████▎                                 | 3/7 [00:00<00:00, 79.46it/s]\u001b[A\n",
      "Validation DataLoader 0:  57%|█████████████████████████████████▋                         | 4/7 [00:00<00:00, 77.75it/s]\u001b[A\n",
      "Validation DataLoader 0:  71%|██████████████████████████████████████████▏                | 5/7 [00:00<00:00, 81.40it/s]\u001b[A\n",
      "Validation DataLoader 0:  86%|██████████████████████████████████████████████████▌        | 6/7 [00:00<00:00, 81.76it/s]\u001b[A\n",
      "Validation DataLoader 0: 100%|███████████████████████████████████████████████████████████| 7/7 [00:00<00:00, 82.01it/s]\u001b[A\n",
      "Epoch 147: 100%|█████████████████████████████| 21/21 [00:00<00:00, 69.94it/s, v_num=11, train_acc=0.849, val_acc=0.972]\u001b[A\n",
      "Validation: |                                                                                    | 0/? [00:00<?, ?it/s]\u001b[A\n",
      "Validation:   0%|                                                                                | 0/7 [00:00<?, ?it/s]\u001b[A\n",
      "Validation DataLoader 0:   0%|                                                                   | 0/7 [00:00<?, ?it/s]\u001b[A\n",
      "Validation DataLoader 0:  14%|████████▍                                                  | 1/7 [00:00<00:00, 77.13it/s]\u001b[A\n",
      "Validation DataLoader 0:  29%|████████████████▊                                          | 2/7 [00:00<00:00, 82.05it/s]\u001b[A\n",
      "Validation DataLoader 0:  43%|█████████████████████████▎                                 | 3/7 [00:00<00:00, 84.20it/s]\u001b[A\n",
      "Validation DataLoader 0:  57%|█████████████████████████████████▋                         | 4/7 [00:00<00:00, 87.71it/s]\u001b[A\n",
      "Validation DataLoader 0:  71%|██████████████████████████████████████████▏                | 5/7 [00:00<00:00, 85.34it/s]\u001b[A\n",
      "Validation DataLoader 0:  86%|██████████████████████████████████████████████████▌        | 6/7 [00:00<00:00, 82.24it/s]\u001b[A\n",
      "Validation DataLoader 0: 100%|███████████████████████████████████████████████████████████| 7/7 [00:00<00:00, 83.32it/s]\u001b[A\n",
      "Epoch 148: 100%|█████████████████████████████| 21/21 [00:00<00:00, 70.95it/s, v_num=11, train_acc=0.811, val_acc=0.970]\u001b[A\n",
      "Validation: |                                                                                    | 0/? [00:00<?, ?it/s]\u001b[A\n",
      "Validation:   0%|                                                                                | 0/7 [00:00<?, ?it/s]\u001b[A\n",
      "Validation DataLoader 0:   0%|                                                                   | 0/7 [00:00<?, ?it/s]\u001b[A\n",
      "Validation DataLoader 0:  14%|████████▍                                                  | 1/7 [00:00<00:00, 68.01it/s]\u001b[A\n",
      "Validation DataLoader 0:  29%|████████████████▊                                          | 2/7 [00:00<00:00, 78.71it/s]\u001b[A\n",
      "Validation DataLoader 0:  43%|█████████████████████████▎                                 | 3/7 [00:00<00:00, 84.79it/s]\u001b[A\n",
      "Validation DataLoader 0:  57%|█████████████████████████████████▋                         | 4/7 [00:00<00:00, 84.48it/s]\u001b[A\n",
      "Validation DataLoader 0:  71%|██████████████████████████████████████████▏                | 5/7 [00:00<00:00, 84.29it/s]\u001b[A\n",
      "Validation DataLoader 0:  86%|██████████████████████████████████████████████████▌        | 6/7 [00:00<00:00, 84.17it/s]\u001b[A\n",
      "Validation DataLoader 0: 100%|███████████████████████████████████████████████████████████| 7/7 [00:00<00:00, 85.10it/s]\u001b[A\n",
      "Epoch 149: 100%|█████████████████████████████| 21/21 [00:00<00:00, 70.60it/s, v_num=11, train_acc=0.887, val_acc=0.974]\u001b[A\n",
      "Validation: |                                                                                    | 0/? [00:00<?, ?it/s]\u001b[A\n",
      "Validation:   0%|                                                                                | 0/7 [00:00<?, ?it/s]\u001b[A\n",
      "Validation DataLoader 0:   0%|                                                                   | 0/7 [00:00<?, ?it/s]\u001b[A\n",
      "Validation DataLoader 0:  14%|████████▍                                                  | 1/7 [00:00<00:00, 72.93it/s]\u001b[A\n",
      "Validation DataLoader 0:  29%|████████████████▊                                          | 2/7 [00:00<00:00, 81.03it/s]\u001b[A\n",
      "Validation DataLoader 0:  43%|█████████████████████████▎                                 | 3/7 [00:00<00:00, 83.27it/s]\u001b[A\n",
      "Validation DataLoader 0:  57%|█████████████████████████████████▋                         | 4/7 [00:00<00:00, 83.35it/s]\u001b[A\n",
      "Validation DataLoader 0:  71%|██████████████████████████████████████████▏                | 5/7 [00:00<00:00, 82.45it/s]\u001b[A\n",
      "Validation DataLoader 0:  86%|██████████████████████████████████████████████████▌        | 6/7 [00:00<00:00, 82.63it/s]\u001b[A\n",
      "Validation DataLoader 0: 100%|███████████████████████████████████████████████████████████| 7/7 [00:00<00:00, 83.75it/s]\u001b[A\n",
      "Epoch 150: 100%|█████████████████████████████| 21/21 [00:00<00:00, 72.68it/s, v_num=11, train_acc=0.849, val_acc=0.972]\u001b[A\n",
      "Validation: |                                                                                    | 0/? [00:00<?, ?it/s]\u001b[A\n",
      "Validation:   0%|                                                                                | 0/7 [00:00<?, ?it/s]\u001b[A\n",
      "Validation DataLoader 0:   0%|                                                                   | 0/7 [00:00<?, ?it/s]\u001b[A\n",
      "Validation DataLoader 0:  14%|████████▍                                                  | 1/7 [00:00<00:00, 71.63it/s]\u001b[A\n",
      "Validation DataLoader 0:  29%|████████████████▊                                          | 2/7 [00:00<00:00, 87.20it/s]\u001b[A\n",
      "Validation DataLoader 0:  43%|█████████████████████████▎                                 | 3/7 [00:00<00:00, 88.46it/s]\u001b[A\n",
      "Validation DataLoader 0:  57%|█████████████████████████████████▋                         | 4/7 [00:00<00:00, 91.15it/s]\u001b[A\n",
      "Validation DataLoader 0:  71%|██████████████████████████████████████████▏                | 5/7 [00:00<00:00, 91.15it/s]\u001b[A\n",
      "Validation DataLoader 0:  86%|██████████████████████████████████████████████████▌        | 6/7 [00:00<00:00, 88.65it/s]\u001b[A\n",
      "Validation DataLoader 0: 100%|███████████████████████████████████████████████████████████| 7/7 [00:00<00:00, 85.42it/s]\u001b[A\n",
      "Epoch 151: 100%|█████████████████████████████| 21/21 [00:00<00:00, 71.86it/s, v_num=11, train_acc=0.868, val_acc=0.969]\u001b[A\n",
      "Validation: |                                                                                    | 0/? [00:00<?, ?it/s]\u001b[A\n",
      "Validation:   0%|                                                                                | 0/7 [00:00<?, ?it/s]\u001b[A\n",
      "Validation DataLoader 0:   0%|                                                                   | 0/7 [00:00<?, ?it/s]\u001b[A\n",
      "Validation DataLoader 0:  14%|████████▍                                                  | 1/7 [00:00<00:00, 65.28it/s]\u001b[A\n",
      "Validation DataLoader 0:  29%|████████████████▊                                          | 2/7 [00:00<00:00, 74.27it/s]\u001b[A\n",
      "Validation DataLoader 0:  43%|█████████████████████████▎                                 | 3/7 [00:00<00:00, 77.13it/s]\u001b[A\n",
      "Validation DataLoader 0:  57%|█████████████████████████████████▋                         | 4/7 [00:00<00:00, 80.21it/s]\u001b[A\n",
      "Validation DataLoader 0:  71%|██████████████████████████████████████████▏                | 5/7 [00:00<00:00, 80.22it/s]\u001b[A\n",
      "Validation DataLoader 0:  86%|██████████████████████████████████████████████████▌        | 6/7 [00:00<00:00, 81.86it/s]\u001b[A\n",
      "Validation DataLoader 0: 100%|███████████████████████████████████████████████████████████| 7/7 [00:00<00:00, 82.79it/s]\u001b[A\n",
      "Epoch 152: 100%|█████████████████████████████| 21/21 [00:00<00:00, 70.05it/s, v_num=11, train_acc=0.830, val_acc=0.974]\u001b[A\n",
      "Validation: |                                                                                    | 0/? [00:00<?, ?it/s]\u001b[A\n",
      "Validation:   0%|                                                                                | 0/7 [00:00<?, ?it/s]\u001b[A\n",
      "Validation DataLoader 0:   0%|                                                                   | 0/7 [00:00<?, ?it/s]\u001b[A\n",
      "Validation DataLoader 0:  14%|████████▍                                                  | 1/7 [00:00<00:00, 72.99it/s]\u001b[A\n",
      "Validation DataLoader 0:  29%|████████████████▊                                          | 2/7 [00:00<00:00, 84.47it/s]\u001b[A\n",
      "Validation DataLoader 0:  43%|█████████████████████████▎                                 | 3/7 [00:00<00:00, 81.87it/s]\u001b[A\n",
      "Validation DataLoader 0:  57%|█████████████████████████████████▋                         | 4/7 [00:00<00:00, 81.47it/s]\u001b[A\n",
      "Validation DataLoader 0:  71%|██████████████████████████████████████████▏                | 5/7 [00:00<00:00, 81.62it/s]\u001b[A\n",
      "Validation DataLoader 0:  86%|██████████████████████████████████████████████████▌        | 6/7 [00:00<00:00, 81.94it/s]\u001b[A\n",
      "Validation DataLoader 0: 100%|███████████████████████████████████████████████████████████| 7/7 [00:00<00:00, 82.31it/s]\u001b[A\n",
      "Epoch 153: 100%|█████████████████████████████| 21/21 [00:00<00:00, 70.04it/s, v_num=11, train_acc=0.925, val_acc=0.971]\u001b[A\n",
      "Validation: |                                                                                    | 0/? [00:00<?, ?it/s]\u001b[A\n",
      "Validation:   0%|                                                                                | 0/7 [00:00<?, ?it/s]\u001b[A\n",
      "Validation DataLoader 0:   0%|                                                                   | 0/7 [00:00<?, ?it/s]\u001b[A\n",
      "Validation DataLoader 0:  14%|████████▍                                                  | 1/7 [00:00<00:00, 71.63it/s]\u001b[A\n",
      "Validation DataLoader 0:  29%|████████████████▊                                          | 2/7 [00:00<00:00, 80.21it/s]\u001b[A\n",
      "Validation DataLoader 0:  43%|█████████████████████████▎                                 | 3/7 [00:00<00:00, 81.61it/s]\u001b[A\n",
      "Validation DataLoader 0:  57%|█████████████████████████████████▋                         | 4/7 [00:00<00:00, 82.53it/s]\u001b[A\n",
      "Validation DataLoader 0:  71%|██████████████████████████████████████████▏                | 5/7 [00:00<00:00, 81.39it/s]\u001b[A\n",
      "Validation DataLoader 0:  86%|██████████████████████████████████████████████████▌        | 6/7 [00:00<00:00, 84.03it/s]\u001b[A\n",
      "Validation DataLoader 0: 100%|███████████████████████████████████████████████████████████| 7/7 [00:00<00:00, 83.96it/s]\u001b[A\n",
      "Epoch 154: 100%|█████████████████████████████| 21/21 [00:00<00:00, 71.72it/s, v_num=11, train_acc=0.811, val_acc=0.970]\u001b[A\n",
      "Validation: |                                                                                    | 0/? [00:00<?, ?it/s]\u001b[A\n",
      "Validation:   0%|                                                                                | 0/7 [00:00<?, ?it/s]\u001b[A\n",
      "Validation DataLoader 0:   0%|                                                                   | 0/7 [00:00<?, ?it/s]\u001b[A\n",
      "Validation DataLoader 0:  14%|████████▍                                                  | 1/7 [00:00<00:00, 62.67it/s]\u001b[A\n",
      "Validation DataLoader 0:  29%|████████████████▊                                          | 2/7 [00:00<00:00, 72.69it/s]\u001b[A\n",
      "Validation DataLoader 0:  43%|█████████████████████████▎                                 | 3/7 [00:00<00:00, 76.44it/s]\u001b[A\n",
      "Validation DataLoader 0:  57%|█████████████████████████████████▋                         | 4/7 [00:00<00:00, 79.65it/s]\u001b[A\n",
      "Validation DataLoader 0:  71%|██████████████████████████████████████████▏                | 5/7 [00:00<00:00, 80.09it/s]\u001b[A\n",
      "Validation DataLoader 0:  86%|██████████████████████████████████████████████████▌        | 6/7 [00:00<00:00, 80.41it/s]\u001b[A\n",
      "Validation DataLoader 0: 100%|███████████████████████████████████████████████████████████| 7/7 [00:00<00:00, 81.16it/s]\u001b[A\n",
      "Epoch 154: 100%|█████████████████████████████| 21/21 [00:00<00:00, 51.45it/s, v_num=11, train_acc=0.811, val_acc=0.975]\u001b[A"
     ]
    },
    {
     "name": "stderr",
     "output_type": "stream",
     "text": [
      "Metric val_loss improved by 0.002 >= min_delta = 0.0. New best score: 0.126\n"
     ]
    },
    {
     "name": "stdout",
     "output_type": "stream",
     "text": [
      "Epoch 155: 100%|█████████████████████████████| 21/21 [00:00<00:00, 72.90it/s, v_num=11, train_acc=0.906, val_acc=0.975]\n",
      "Validation: |                                                                                    | 0/? [00:00<?, ?it/s]\u001b[A\n",
      "Validation:   0%|                                                                                | 0/7 [00:00<?, ?it/s]\u001b[A\n",
      "Validation DataLoader 0:   0%|                                                                   | 0/7 [00:00<?, ?it/s]\u001b[A\n",
      "Validation DataLoader 0:  14%|████████▍                                                  | 1/7 [00:00<00:00, 77.12it/s]\u001b[A\n",
      "Validation DataLoader 0:  29%|████████████████▊                                          | 2/7 [00:00<00:00, 78.91it/s]\u001b[A\n",
      "Validation DataLoader 0:  43%|█████████████████████████▎                                 | 3/7 [00:00<00:00, 80.18it/s]\u001b[A\n",
      "Validation DataLoader 0:  57%|█████████████████████████████████▋                         | 4/7 [00:00<00:00, 81.47it/s]\u001b[A\n",
      "Validation DataLoader 0:  71%|██████████████████████████████████████████▏                | 5/7 [00:00<00:00, 81.88it/s]\u001b[A\n",
      "Validation DataLoader 0:  86%|██████████████████████████████████████████████████▌        | 6/7 [00:00<00:00, 80.81it/s]\u001b[A\n",
      "Validation DataLoader 0: 100%|███████████████████████████████████████████████████████████| 7/7 [00:00<00:00, 81.02it/s]\u001b[A\n",
      "Epoch 155: 100%|█████████████████████████████| 21/21 [00:00<00:00, 51.34it/s, v_num=11, train_acc=0.906, val_acc=0.975]\u001b[A"
     ]
    },
    {
     "name": "stderr",
     "output_type": "stream",
     "text": [
      "Metric val_loss improved by 0.000 >= min_delta = 0.0. New best score: 0.126\n"
     ]
    },
    {
     "name": "stdout",
     "output_type": "stream",
     "text": [
      "Epoch 156: 100%|█████████████████████████████| 21/21 [00:00<00:00, 72.14it/s, v_num=11, train_acc=0.830, val_acc=0.975]\n",
      "Validation: |                                                                                    | 0/? [00:00<?, ?it/s]\u001b[A\n",
      "Validation:   0%|                                                                                | 0/7 [00:00<?, ?it/s]\u001b[A\n",
      "Validation DataLoader 0:   0%|                                                                   | 0/7 [00:00<?, ?it/s]\u001b[A\n",
      "Validation DataLoader 0:  14%|████████▍                                                  | 1/7 [00:00<00:00, 65.61it/s]\u001b[A\n",
      "Validation DataLoader 0:  29%|████████████████▊                                          | 2/7 [00:00<00:00, 66.95it/s]\u001b[A\n",
      "Validation DataLoader 0:  43%|█████████████████████████▎                                 | 3/7 [00:00<00:00, 70.03it/s]\u001b[A\n",
      "Validation DataLoader 0:  57%|█████████████████████████████████▋                         | 4/7 [00:00<00:00, 74.34it/s]\u001b[A\n",
      "Validation DataLoader 0:  71%|██████████████████████████████████████████▏                | 5/7 [00:00<00:00, 77.35it/s]\u001b[A\n",
      "Validation DataLoader 0:  86%|██████████████████████████████████████████████████▌        | 6/7 [00:00<00:00, 78.16it/s]\u001b[A\n",
      "Validation DataLoader 0: 100%|███████████████████████████████████████████████████████████| 7/7 [00:00<00:00, 79.52it/s]\u001b[A\n",
      "Epoch 157: 100%|█████████████████████████████| 21/21 [00:00<00:00, 68.58it/s, v_num=11, train_acc=0.868, val_acc=0.974]\u001b[A\n",
      "Validation: |                                                                                    | 0/? [00:00<?, ?it/s]\u001b[A\n",
      "Validation:   0%|                                                                                | 0/7 [00:00<?, ?it/s]\u001b[A\n",
      "Validation DataLoader 0:   0%|                                                                   | 0/7 [00:00<?, ?it/s]\u001b[A\n",
      "Validation DataLoader 0:  14%|████████▍                                                  | 1/7 [00:00<00:00, 52.77it/s]\u001b[A\n",
      "Validation DataLoader 0:  29%|████████████████▊                                          | 2/7 [00:00<00:00, 66.84it/s]\u001b[A\n",
      "Validation DataLoader 0:  43%|█████████████████████████▎                                 | 3/7 [00:00<00:00, 73.37it/s]\u001b[A\n",
      "Validation DataLoader 0:  57%|█████████████████████████████████▋                         | 4/7 [00:00<00:00, 78.64it/s]\u001b[A\n",
      "Validation DataLoader 0:  71%|██████████████████████████████████████████▏                | 5/7 [00:00<00:00, 79.12it/s]\u001b[A\n",
      "Validation DataLoader 0:  86%|██████████████████████████████████████████████████▌        | 6/7 [00:00<00:00, 80.17it/s]\u001b[A\n",
      "Validation DataLoader 0: 100%|███████████████████████████████████████████████████████████| 7/7 [00:00<00:00, 81.57it/s]\u001b[A\n",
      "Epoch 158: 100%|█████████████████████████████| 21/21 [00:00<00:00, 73.52it/s, v_num=11, train_acc=0.925, val_acc=0.975]\u001b[A\n",
      "Validation: |                                                                                    | 0/? [00:00<?, ?it/s]\u001b[A\n",
      "Validation:   0%|                                                                                | 0/7 [00:00<?, ?it/s]\u001b[A\n",
      "Validation DataLoader 0:   0%|                                                                   | 0/7 [00:00<?, ?it/s]\u001b[A\n",
      "Validation DataLoader 0:  14%|████████▍                                                  | 1/7 [00:00<00:00, 68.34it/s]\u001b[A\n",
      "Validation DataLoader 0:  29%|████████████████▊                                          | 2/7 [00:00<00:00, 77.36it/s]\u001b[A\n",
      "Validation DataLoader 0:  43%|█████████████████████████▎                                 | 3/7 [00:00<00:00, 79.91it/s]\u001b[A\n",
      "Validation DataLoader 0:  57%|█████████████████████████████████▋                         | 4/7 [00:00<00:00, 80.82it/s]\u001b[A\n",
      "Validation DataLoader 0:  71%|██████████████████████████████████████████▏                | 5/7 [00:00<00:00, 82.38it/s]\u001b[A\n",
      "Validation DataLoader 0:  86%|██████████████████████████████████████████████████▌        | 6/7 [00:00<00:00, 83.36it/s]\u001b[A\n",
      "Validation DataLoader 0: 100%|███████████████████████████████████████████████████████████| 7/7 [00:00<00:00, 83.39it/s]\u001b[A\n",
      "Epoch 159: 100%|█████████████████████████████| 21/21 [00:00<00:00, 71.22it/s, v_num=11, train_acc=0.981, val_acc=0.974]\u001b[A\n",
      "Validation: |                                                                                    | 0/? [00:00<?, ?it/s]\u001b[A\n",
      "Validation:   0%|                                                                                | 0/7 [00:00<?, ?it/s]\u001b[A\n",
      "Validation DataLoader 0:   0%|                                                                   | 0/7 [00:00<?, ?it/s]\u001b[A\n",
      "Validation DataLoader 0:  14%|████████▍                                                  | 1/7 [00:00<00:00, 65.95it/s]\u001b[A\n",
      "Validation DataLoader 0:  29%|████████████████▊                                          | 2/7 [00:00<00:00, 77.03it/s]\u001b[A\n",
      "Validation DataLoader 0:  43%|█████████████████████████▎                                 | 3/7 [00:00<00:00, 83.48it/s]\u001b[A\n",
      "Validation DataLoader 0:  57%|█████████████████████████████████▋                         | 4/7 [00:00<00:00, 85.07it/s]\u001b[A\n",
      "Validation DataLoader 0:  71%|██████████████████████████████████████████▏                | 5/7 [00:00<00:00, 85.14it/s]\u001b[A\n",
      "Validation DataLoader 0:  86%|██████████████████████████████████████████████████▌        | 6/7 [00:00<00:00, 87.33it/s]\u001b[A\n",
      "Validation DataLoader 0: 100%|███████████████████████████████████████████████████████████| 7/7 [00:00<00:00, 87.69it/s]\u001b[A\n",
      "Epoch 160: 100%|█████████████████████████████| 21/21 [00:00<00:00, 70.95it/s, v_num=11, train_acc=0.830, val_acc=0.974]\u001b[A\n",
      "Validation: |                                                                                    | 0/? [00:00<?, ?it/s]\u001b[A\n",
      "Validation:   0%|                                                                                | 0/7 [00:00<?, ?it/s]\u001b[A\n",
      "Validation DataLoader 0:   0%|                                                                   | 0/7 [00:00<?, ?it/s]\u001b[A\n",
      "Validation DataLoader 0:  14%|████████▍                                                  | 1/7 [00:00<00:00, 64.29it/s]\u001b[A\n",
      "Validation DataLoader 0:  29%|████████████████▊                                          | 2/7 [00:00<00:00, 75.40it/s]\u001b[A\n",
      "Validation DataLoader 0:  43%|█████████████████████████▎                                 | 3/7 [00:00<00:00, 72.02it/s]\u001b[A\n",
      "Validation DataLoader 0:  57%|█████████████████████████████████▋                         | 4/7 [00:00<00:00, 76.34it/s]\u001b[A\n",
      "Validation DataLoader 0:  71%|██████████████████████████████████████████▏                | 5/7 [00:00<00:00, 78.90it/s]\u001b[A\n",
      "Validation DataLoader 0:  86%|██████████████████████████████████████████████████▌        | 6/7 [00:00<00:00, 79.64it/s]\u001b[A\n",
      "Validation DataLoader 0: 100%|███████████████████████████████████████████████████████████| 7/7 [00:00<00:00, 79.74it/s]\u001b[A\n",
      "Epoch 161: 100%|█████████████████████████████| 21/21 [00:00<00:00, 69.07it/s, v_num=11, train_acc=0.887, val_acc=0.972]\u001b[A\n",
      "Validation: |                                                                                    | 0/? [00:00<?, ?it/s]\u001b[A\n",
      "Validation:   0%|                                                                                | 0/7 [00:00<?, ?it/s]\u001b[A\n",
      "Validation DataLoader 0:   0%|                                                                   | 0/7 [00:00<?, ?it/s]\u001b[A\n",
      "Validation DataLoader 0:  14%|████████▍                                                  | 1/7 [00:00<00:00, 65.39it/s]\u001b[A\n",
      "Validation DataLoader 0:  29%|████████████████▊                                          | 2/7 [00:00<00:00, 74.63it/s]\u001b[A\n",
      "Validation DataLoader 0:  43%|█████████████████████████▎                                 | 3/7 [00:00<00:00, 75.44it/s]\u001b[A\n",
      "Validation DataLoader 0:  57%|█████████████████████████████████▋                         | 4/7 [00:00<00:00, 75.86it/s]\u001b[A\n",
      "Validation DataLoader 0:  71%|██████████████████████████████████████████▏                | 5/7 [00:00<00:00, 76.11it/s]\u001b[A\n",
      "Validation DataLoader 0:  86%|██████████████████████████████████████████████████▌        | 6/7 [00:00<00:00, 76.28it/s]\u001b[A\n",
      "Validation DataLoader 0: 100%|███████████████████████████████████████████████████████████| 7/7 [00:00<00:00, 75.57it/s]\u001b[A\n",
      "Epoch 162: 100%|█████████████████████████████| 21/21 [00:00<00:00, 61.03it/s, v_num=11, train_acc=0.868, val_acc=0.972]\u001b[A\n",
      "Validation: |                                                                                    | 0/? [00:00<?, ?it/s]\u001b[A\n",
      "Validation:   0%|                                                                                | 0/7 [00:00<?, ?it/s]\u001b[A\n",
      "Validation DataLoader 0:   0%|                                                                   | 0/7 [00:00<?, ?it/s]\u001b[A\n",
      "Validation DataLoader 0:  14%|████████▍                                                  | 1/7 [00:00<00:00, 71.63it/s]\u001b[A\n",
      "Validation DataLoader 0:  29%|████████████████▊                                          | 2/7 [00:00<00:00, 71.61it/s]\u001b[A\n",
      "Validation DataLoader 0:  43%|█████████████████████████▎                                 | 3/7 [00:00<00:00, 73.19it/s]\u001b[A\n",
      "Validation DataLoader 0:  57%|█████████████████████████████████▋                         | 4/7 [00:00<00:00, 76.52it/s]\u001b[A\n",
      "Validation DataLoader 0:  71%|██████████████████████████████████████████▏                | 5/7 [00:00<00:00, 79.08it/s]\u001b[A\n",
      "Validation DataLoader 0:  86%|██████████████████████████████████████████████████▌        | 6/7 [00:00<00:00, 79.60it/s]\u001b[A\n",
      "Validation DataLoader 0: 100%|███████████████████████████████████████████████████████████| 7/7 [00:00<00:00, 82.28it/s]\u001b[A\n",
      "Epoch 163: 100%|█████████████████████████████| 21/21 [00:00<00:00, 71.91it/s, v_num=11, train_acc=0.906, val_acc=0.970]\u001b[A\n",
      "Validation: |                                                                                    | 0/? [00:00<?, ?it/s]\u001b[A\n",
      "Validation:   0%|                                                                                | 0/7 [00:00<?, ?it/s]\u001b[A\n",
      "Validation DataLoader 0:   0%|                                                                   | 0/7 [00:00<?, ?it/s]\u001b[A\n",
      "Validation DataLoader 0:  14%|████████▍                                                  | 1/7 [00:00<00:00, 64.62it/s]\u001b[A\n",
      "Validation DataLoader 0:  29%|████████████████▊                                          | 2/7 [00:00<00:00, 71.24it/s]\u001b[A\n",
      "Validation DataLoader 0:  43%|█████████████████████████▎                                 | 3/7 [00:00<00:00, 74.92it/s]\u001b[A\n",
      "Validation DataLoader 0:  57%|█████████████████████████████████▋                         | 4/7 [00:00<00:00, 78.46it/s]\u001b[A\n",
      "Validation DataLoader 0:  71%|██████████████████████████████████████████▏                | 5/7 [00:00<00:00, 80.16it/s]\u001b[A\n",
      "Validation DataLoader 0:  86%|██████████████████████████████████████████████████▌        | 6/7 [00:00<00:00, 81.80it/s]\u001b[A\n",
      "Validation DataLoader 0: 100%|███████████████████████████████████████████████████████████| 7/7 [00:00<00:00, 82.59it/s]\u001b[A\n",
      "Epoch 164: 100%|█████████████████████████████| 21/21 [00:00<00:00, 68.23it/s, v_num=11, train_acc=0.830, val_acc=0.970]\u001b[A\n",
      "Validation: |                                                                                    | 0/? [00:00<?, ?it/s]\u001b[A\n",
      "Validation:   0%|                                                                                | 0/7 [00:00<?, ?it/s]\u001b[A\n",
      "Validation DataLoader 0:   0%|                                                                   | 0/7 [00:00<?, ?it/s]\u001b[A\n",
      "Validation DataLoader 0:  14%|████████▍                                                  | 1/7 [00:00<00:00, 68.09it/s]\u001b[A\n",
      "Validation DataLoader 0:  29%|████████████████▊                                          | 2/7 [00:00<00:00, 81.85it/s]\u001b[A\n",
      "Validation DataLoader 0:  43%|█████████████████████████▎                                 | 3/7 [00:00<00:00, 81.02it/s]\u001b[A\n",
      "Validation DataLoader 0:  57%|█████████████████████████████████▋                         | 4/7 [00:00<00:00, 85.10it/s]\u001b[A\n",
      "Validation DataLoader 0:  71%|██████████████████████████████████████████▏                | 5/7 [00:00<00:00, 83.79it/s]\u001b[A\n",
      "Validation DataLoader 0:  86%|██████████████████████████████████████████████████▌        | 6/7 [00:00<00:00, 84.57it/s]\u001b[A\n",
      "Validation DataLoader 0: 100%|███████████████████████████████████████████████████████████| 7/7 [00:00<00:00, 85.45it/s]\u001b[A\n",
      "Epoch 165: 100%|█████████████████████████████| 21/21 [00:00<00:00, 68.43it/s, v_num=11, train_acc=0.943, val_acc=0.974]\u001b[A\n",
      "Validation: |                                                                                    | 0/? [00:00<?, ?it/s]\u001b[A\n",
      "Validation:   0%|                                                                                | 0/7 [00:00<?, ?it/s]\u001b[A\n",
      "Validation DataLoader 0:   0%|                                                                   | 0/7 [00:00<?, ?it/s]\u001b[A\n",
      "Validation DataLoader 0:  14%|████████▍                                                  | 1/7 [00:00<00:00, 66.76it/s]\u001b[A\n",
      "Validation DataLoader 0:  29%|████████████████▊                                          | 2/7 [00:00<00:00, 74.22it/s]\u001b[A\n",
      "Validation DataLoader 0:  43%|█████████████████████████▎                                 | 3/7 [00:00<00:00, 75.60it/s]\u001b[A\n",
      "Validation DataLoader 0:  57%|█████████████████████████████████▋                         | 4/7 [00:00<00:00, 77.16it/s]\u001b[A\n",
      "Validation DataLoader 0:  71%|██████████████████████████████████████████▏                | 5/7 [00:00<00:00, 80.05it/s]\u001b[A\n",
      "Validation DataLoader 0:  86%|██████████████████████████████████████████████████▌        | 6/7 [00:00<00:00, 81.70it/s]\u001b[A\n",
      "Validation DataLoader 0: 100%|███████████████████████████████████████████████████████████| 7/7 [00:00<00:00, 81.02it/s]\u001b[A\n",
      "Epoch 166: 100%|█████████████████████████████| 21/21 [00:00<00:00, 70.21it/s, v_num=11, train_acc=0.925, val_acc=0.975]\u001b[A\n",
      "Validation: |                                                                                    | 0/? [00:00<?, ?it/s]\u001b[A\n",
      "Validation:   0%|                                                                                | 0/7 [00:00<?, ?it/s]\u001b[A\n",
      "Validation DataLoader 0:   0%|                                                                   | 0/7 [00:00<?, ?it/s]\u001b[A\n",
      "Validation DataLoader 0:  14%|████████▍                                                  | 1/7 [00:00<00:00, 68.14it/s]\u001b[A\n",
      "Validation DataLoader 0:  29%|████████████████▊                                          | 2/7 [00:00<00:00, 77.98it/s]\u001b[A\n",
      "Validation DataLoader 0:  43%|█████████████████████████▎                                 | 3/7 [00:00<00:00, 80.24it/s]\u001b[A\n",
      "Validation DataLoader 0:  57%|█████████████████████████████████▋                         | 4/7 [00:00<00:00, 77.45it/s]\u001b[A\n",
      "Validation DataLoader 0:  71%|██████████████████████████████████████████▏                | 5/7 [00:00<00:00, 80.85it/s]\u001b[A\n",
      "Validation DataLoader 0:  86%|██████████████████████████████████████████████████▌        | 6/7 [00:00<00:00, 83.20it/s]\u001b[A\n",
      "Validation DataLoader 0: 100%|███████████████████████████████████████████████████████████| 7/7 [00:00<00:00, 85.37it/s]\u001b[A\n",
      "Epoch 167: 100%|█████████████████████████████| 21/21 [00:00<00:00, 74.36it/s, v_num=11, train_acc=0.887, val_acc=0.972]\u001b[A\n",
      "Validation: |                                                                                    | 0/? [00:00<?, ?it/s]\u001b[A\n",
      "Validation:   0%|                                                                                | 0/7 [00:00<?, ?it/s]\u001b[A\n",
      "Validation DataLoader 0:   0%|                                                                   | 0/7 [00:00<?, ?it/s]\u001b[A\n",
      "Validation DataLoader 0:  14%|████████▍                                                  | 1/7 [00:00<00:00, 71.62it/s]\u001b[A\n",
      "Validation DataLoader 0:  29%|████████████████▊                                          | 2/7 [00:00<00:00, 78.90it/s]\u001b[A\n",
      "Validation DataLoader 0:  43%|█████████████████████████▎                                 | 3/7 [00:00<00:00, 82.60it/s]\u001b[A\n",
      "Validation DataLoader 0:  57%|█████████████████████████████████▋                         | 4/7 [00:00<00:00, 81.39it/s]\u001b[A\n",
      "Validation DataLoader 0:  71%|██████████████████████████████████████████▏                | 5/7 [00:00<00:00, 81.82it/s]\u001b[A\n",
      "Validation DataLoader 0:  86%|██████████████████████████████████████████████████▌        | 6/7 [00:00<00:00, 82.50it/s]\u001b[A\n",
      "Validation DataLoader 0: 100%|███████████████████████████████████████████████████████████| 7/7 [00:00<00:00, 81.06it/s]\u001b[A\n",
      "Epoch 168: 100%|█████████████████████████████| 21/21 [00:00<00:00, 70.97it/s, v_num=11, train_acc=0.943, val_acc=0.971]\u001b[A\n",
      "Validation: |                                                                                    | 0/? [00:00<?, ?it/s]\u001b[A\n",
      "Validation:   0%|                                                                                | 0/7 [00:00<?, ?it/s]\u001b[A\n",
      "Validation DataLoader 0:   0%|                                                                   | 0/7 [00:00<?, ?it/s]\u001b[A\n",
      "Validation DataLoader 0:  14%|████████▍                                                  | 1/7 [00:00<00:00, 71.53it/s]\u001b[A\n",
      "Validation DataLoader 0:  29%|████████████████▊                                          | 2/7 [00:00<00:00, 78.92it/s]\u001b[A\n",
      "Validation DataLoader 0:  43%|█████████████████████████▎                                 | 3/7 [00:00<00:00, 79.64it/s]\u001b[A\n",
      "Validation DataLoader 0:  57%|█████████████████████████████████▋                         | 4/7 [00:00<00:00, 82.24it/s]\u001b[A\n",
      "Validation DataLoader 0:  71%|██████████████████████████████████████████▏                | 5/7 [00:00<00:00, 85.30it/s]\u001b[A\n",
      "Validation DataLoader 0:  86%|██████████████████████████████████████████████████▌        | 6/7 [00:00<00:00, 85.19it/s]\u001b[A\n",
      "Validation DataLoader 0: 100%|███████████████████████████████████████████████████████████| 7/7 [00:00<00:00, 86.00it/s]\u001b[A\n",
      "Epoch 169: 100%|█████████████████████████████| 21/21 [00:00<00:00, 71.10it/s, v_num=11, train_acc=0.811, val_acc=0.972]\u001b[A\n",
      "Validation: |                                                                                    | 0/? [00:00<?, ?it/s]\u001b[A\n",
      "Validation:   0%|                                                                                | 0/7 [00:00<?, ?it/s]\u001b[A\n",
      "Validation DataLoader 0:   0%|                                                                   | 0/7 [00:00<?, ?it/s]\u001b[A\n",
      "Validation DataLoader 0:  14%|████████▍                                                  | 1/7 [00:00<00:00, 66.85it/s]\u001b[A\n",
      "Validation DataLoader 0:  29%|████████████████▊                                          | 2/7 [00:00<00:00, 72.53it/s]\u001b[A\n",
      "Validation DataLoader 0:  43%|█████████████████████████▎                                 | 3/7 [00:00<00:00, 79.90it/s]\u001b[A\n",
      "Validation DataLoader 0:  57%|█████████████████████████████████▋                         | 4/7 [00:00<00:00, 82.17it/s]\u001b[A\n",
      "Validation DataLoader 0:  71%|██████████████████████████████████████████▏                | 5/7 [00:00<00:00, 83.46it/s]\u001b[A\n",
      "Validation DataLoader 0:  86%|██████████████████████████████████████████████████▌        | 6/7 [00:00<00:00, 57.53it/s]\u001b[A\n",
      "Validation DataLoader 0: 100%|███████████████████████████████████████████████████████████| 7/7 [00:00<00:00, 47.23it/s]\u001b[A\n",
      "Epoch 169: 100%|█████████████████████████████| 21/21 [00:00<00:00, 42.33it/s, v_num=11, train_acc=0.811, val_acc=0.969]\u001b[A"
     ]
    },
    {
     "name": "stderr",
     "output_type": "stream",
     "text": [
      "Metric val_loss improved by 0.000 >= min_delta = 0.0. New best score: 0.125\n"
     ]
    },
    {
     "name": "stdout",
     "output_type": "stream",
     "text": [
      "Epoch 170: 100%|█████████████████████████████| 21/21 [00:00<00:00, 57.91it/s, v_num=11, train_acc=0.943, val_acc=0.969]\n",
      "Validation: |                                                                                    | 0/? [00:00<?, ?it/s]\u001b[A\n",
      "Validation:   0%|                                                                                | 0/7 [00:00<?, ?it/s]\u001b[A\n",
      "Validation DataLoader 0:   0%|                                                                   | 0/7 [00:00<?, ?it/s]\u001b[A\n",
      "Validation DataLoader 0:  14%|████████▍                                                  | 1/7 [00:00<00:00, 71.63it/s]\u001b[A\n",
      "Validation DataLoader 0:  29%|████████████████▊                                          | 2/7 [00:00<00:00, 77.97it/s]\u001b[A\n",
      "Validation DataLoader 0:  43%|█████████████████████████▎                                 | 3/7 [00:00<00:00, 84.21it/s]\u001b[A\n",
      "Validation DataLoader 0:  57%|█████████████████████████████████▋                         | 4/7 [00:00<00:00, 82.36it/s]\u001b[A\n",
      "Validation DataLoader 0:  71%|██████████████████████████████████████████▏                | 5/7 [00:00<00:00, 84.67it/s]\u001b[A\n",
      "Validation DataLoader 0:  86%|██████████████████████████████████████████████████▌        | 6/7 [00:00<00:00, 86.92it/s]\u001b[A\n",
      "Validation DataLoader 0: 100%|███████████████████████████████████████████████████████████| 7/7 [00:00<00:00, 85.79it/s]\u001b[A\n",
      "Epoch 171: 100%|█████████████████████████████| 21/21 [00:00<00:00, 68.59it/s, v_num=11, train_acc=0.906, val_acc=0.971]\u001b[A\n",
      "Validation: |                                                                                    | 0/? [00:00<?, ?it/s]\u001b[A\n",
      "Validation:   0%|                                                                                | 0/7 [00:00<?, ?it/s]\u001b[A\n",
      "Validation DataLoader 0:   0%|                                                                   | 0/7 [00:00<?, ?it/s]\u001b[A\n",
      "Validation DataLoader 0:  14%|████████▍                                                  | 1/7 [00:00<00:00, 67.74it/s]\u001b[A\n",
      "Validation DataLoader 0:  29%|████████████████▊                                          | 2/7 [00:00<00:00, 74.64it/s]\u001b[A\n",
      "Validation DataLoader 0:  43%|█████████████████████████▎                                 | 3/7 [00:00<00:00, 78.00it/s]\u001b[A\n",
      "Validation DataLoader 0:  57%|█████████████████████████████████▋                         | 4/7 [00:00<00:00, 82.58it/s]\u001b[A\n",
      "Validation DataLoader 0:  71%|██████████████████████████████████████████▏                | 5/7 [00:00<00:00, 81.81it/s]\u001b[A\n",
      "Validation DataLoader 0:  86%|██████████████████████████████████████████████████▌        | 6/7 [00:00<00:00, 82.44it/s]\u001b[A\n",
      "Validation DataLoader 0: 100%|███████████████████████████████████████████████████████████| 7/7 [00:00<00:00, 83.69it/s]\u001b[A\n",
      "Epoch 171: 100%|█████████████████████████████| 21/21 [00:00<00:00, 50.41it/s, v_num=11, train_acc=0.906, val_acc=0.971]\u001b[A"
     ]
    },
    {
     "name": "stderr",
     "output_type": "stream",
     "text": [
      "Metric val_loss improved by 0.000 >= min_delta = 0.0. New best score: 0.125\n"
     ]
    },
    {
     "name": "stdout",
     "output_type": "stream",
     "text": [
      "Epoch 172: 100%|█████████████████████████████| 21/21 [00:00<00:00, 69.04it/s, v_num=11, train_acc=0.830, val_acc=0.971]\n",
      "Validation: |                                                                                    | 0/? [00:00<?, ?it/s]\u001b[A\n",
      "Validation:   0%|                                                                                | 0/7 [00:00<?, ?it/s]\u001b[A\n",
      "Validation DataLoader 0:   0%|                                                                   | 0/7 [00:00<?, ?it/s]\u001b[A\n",
      "Validation DataLoader 0:  14%|████████▍                                                  | 1/7 [00:00<00:00, 65.11it/s]\u001b[A\n",
      "Validation DataLoader 0:  29%|████████████████▊                                          | 2/7 [00:00<00:00, 73.19it/s]\u001b[A\n",
      "Validation DataLoader 0:  43%|█████████████████████████▎                                 | 3/7 [00:00<00:00, 80.43it/s]\u001b[A\n",
      "Validation DataLoader 0:  57%|█████████████████████████████████▋                         | 4/7 [00:00<00:00, 81.19it/s]\u001b[A\n",
      "Validation DataLoader 0:  71%|██████████████████████████████████████████▏                | 5/7 [00:00<00:00, 81.65it/s]\u001b[A\n",
      "Validation DataLoader 0:  86%|██████████████████████████████████████████████████▌        | 6/7 [00:00<00:00, 84.26it/s]\u001b[A\n",
      "Validation DataLoader 0: 100%|███████████████████████████████████████████████████████████| 7/7 [00:00<00:00, 84.16it/s]\u001b[A\n",
      "Epoch 172: 100%|█████████████████████████████| 21/21 [00:00<00:00, 50.44it/s, v_num=11, train_acc=0.830, val_acc=0.972]\u001b[A"
     ]
    },
    {
     "name": "stderr",
     "output_type": "stream",
     "text": [
      "Metric val_loss improved by 0.004 >= min_delta = 0.0. New best score: 0.121\n"
     ]
    },
    {
     "name": "stdout",
     "output_type": "stream",
     "text": [
      "Epoch 173: 100%|█████████████████████████████| 21/21 [00:00<00:00, 65.68it/s, v_num=11, train_acc=0.849, val_acc=0.972]\n",
      "Validation: |                                                                                    | 0/? [00:00<?, ?it/s]\u001b[A\n",
      "Validation:   0%|                                                                                | 0/7 [00:00<?, ?it/s]\u001b[A\n",
      "Validation DataLoader 0:   0%|                                                                   | 0/7 [00:00<?, ?it/s]\u001b[A\n",
      "Validation DataLoader 0:  14%|████████▍                                                  | 1/7 [00:00<00:00, 67.05it/s]\u001b[A\n",
      "Validation DataLoader 0:  29%|████████████████▊                                          | 2/7 [00:00<00:00, 80.36it/s]\u001b[A\n",
      "Validation DataLoader 0:  43%|█████████████████████████▎                                 | 3/7 [00:00<00:00, 83.22it/s]\u001b[A\n",
      "Validation DataLoader 0:  57%|█████████████████████████████████▋                         | 4/7 [00:00<00:00, 86.91it/s]\u001b[A\n",
      "Validation DataLoader 0:  71%|██████████████████████████████████████████▏                | 5/7 [00:00<00:00, 86.22it/s]\u001b[A\n",
      "Validation DataLoader 0:  86%|██████████████████████████████████████████████████▌        | 6/7 [00:00<00:00, 86.42it/s]\u001b[A\n",
      "Validation DataLoader 0: 100%|███████████████████████████████████████████████████████████| 7/7 [00:00<00:00, 88.44it/s]\u001b[A\n",
      "Epoch 174: 100%|█████████████████████████████| 21/21 [00:00<00:00, 71.10it/s, v_num=11, train_acc=0.925, val_acc=0.971]\u001b[A\n",
      "Validation: |                                                                                    | 0/? [00:00<?, ?it/s]\u001b[A\n",
      "Validation:   0%|                                                                                | 0/7 [00:00<?, ?it/s]\u001b[A\n",
      "Validation DataLoader 0:   0%|                                                                   | 0/7 [00:00<?, ?it/s]\u001b[A\n",
      "Validation DataLoader 0:  14%|████████▍                                                  | 1/7 [00:00<00:00, 63.57it/s]\u001b[A\n",
      "Validation DataLoader 0:  29%|████████████████▊                                          | 2/7 [00:00<00:00, 71.53it/s]\u001b[A\n",
      "Validation DataLoader 0:  43%|█████████████████████████▎                                 | 3/7 [00:00<00:00, 74.75it/s]\u001b[A\n",
      "Validation DataLoader 0:  57%|█████████████████████████████████▋                         | 4/7 [00:00<00:00, 79.82it/s]\u001b[A\n",
      "Validation DataLoader 0:  71%|██████████████████████████████████████████▏                | 5/7 [00:00<00:00, 81.06it/s]\u001b[A\n",
      "Validation DataLoader 0:  86%|██████████████████████████████████████████████████▌        | 6/7 [00:00<00:00, 81.71it/s]\u001b[A\n",
      "Validation DataLoader 0: 100%|███████████████████████████████████████████████████████████| 7/7 [00:00<00:00, 81.97it/s]\u001b[A\n",
      "Epoch 175: 100%|█████████████████████████████| 21/21 [00:00<00:00, 74.12it/s, v_num=11, train_acc=0.868, val_acc=0.978]\u001b[A\n",
      "Validation: |                                                                                    | 0/? [00:00<?, ?it/s]\u001b[A\n",
      "Validation:   0%|                                                                                | 0/7 [00:00<?, ?it/s]\u001b[A\n",
      "Validation DataLoader 0:   0%|                                                                   | 0/7 [00:00<?, ?it/s]\u001b[A\n",
      "Validation DataLoader 0:  14%|████████▍                                                  | 1/7 [00:00<00:00, 66.85it/s]\u001b[A\n",
      "Validation DataLoader 0:  29%|████████████████▊                                          | 2/7 [00:00<00:00, 71.62it/s]\u001b[A\n",
      "Validation DataLoader 0:  43%|█████████████████████████▎                                 | 3/7 [00:00<00:00, 75.42it/s]\u001b[A\n",
      "Validation DataLoader 0:  57%|█████████████████████████████████▋                         | 4/7 [00:00<00:00, 80.41it/s]\u001b[A\n",
      "Validation DataLoader 0:  71%|██████████████████████████████████████████▏                | 5/7 [00:00<00:00, 82.05it/s]\u001b[A\n",
      "Validation DataLoader 0:  86%|██████████████████████████████████████████████████▌        | 6/7 [00:00<00:00, 82.12it/s]\u001b[A\n",
      "Validation DataLoader 0: 100%|███████████████████████████████████████████████████████████| 7/7 [00:00<00:00, 84.30it/s]\u001b[A\n",
      "Epoch 175: 100%|█████████████████████████████| 21/21 [00:00<00:00, 52.33it/s, v_num=11, train_acc=0.868, val_acc=0.975]\u001b[A"
     ]
    },
    {
     "name": "stderr",
     "output_type": "stream",
     "text": [
      "Metric val_loss improved by 0.002 >= min_delta = 0.0. New best score: 0.119\n"
     ]
    },
    {
     "name": "stdout",
     "output_type": "stream",
     "text": [
      "Epoch 176: 100%|█████████████████████████████| 21/21 [00:00<00:00, 69.77it/s, v_num=11, train_acc=0.868, val_acc=0.975]\n",
      "Validation: |                                                                                    | 0/? [00:00<?, ?it/s]\u001b[A\n",
      "Validation:   0%|                                                                                | 0/7 [00:00<?, ?it/s]\u001b[A\n",
      "Validation DataLoader 0:   0%|                                                                   | 0/7 [00:00<?, ?it/s]\u001b[A\n",
      "Validation DataLoader 0:  14%|████████▍                                                  | 1/7 [00:00<00:00, 66.85it/s]\u001b[A\n",
      "Validation DataLoader 0:  29%|████████████████▊                                          | 2/7 [00:00<00:00, 77.13it/s]\u001b[A\n",
      "Validation DataLoader 0:  43%|█████████████████████████▎                                 | 3/7 [00:00<00:00, 80.61it/s]\u001b[A\n",
      "Validation DataLoader 0:  57%|█████████████████████████████████▋                         | 4/7 [00:00<00:00, 81.32it/s]\u001b[A\n",
      "Validation DataLoader 0:  71%|██████████████████████████████████████████▏                | 5/7 [00:00<00:00, 82.06it/s]\u001b[A\n",
      "Validation DataLoader 0:  86%|██████████████████████████████████████████████████▌        | 6/7 [00:00<00:00, 81.55it/s]\u001b[A\n",
      "Validation DataLoader 0: 100%|███████████████████████████████████████████████████████████| 7/7 [00:00<00:00, 79.97it/s]\u001b[A\n",
      "Epoch 177: 100%|█████████████████████████████| 21/21 [00:00<00:00, 70.70it/s, v_num=11, train_acc=0.849, val_acc=0.972]\u001b[A\n",
      "Validation: |                                                                                    | 0/? [00:00<?, ?it/s]\u001b[A\n",
      "Validation:   0%|                                                                                | 0/7 [00:00<?, ?it/s]\u001b[A\n",
      "Validation DataLoader 0:   0%|                                                                   | 0/7 [00:00<?, ?it/s]\u001b[A\n",
      "Validation DataLoader 0:  14%|████████▍                                                  | 1/7 [00:00<00:00, 64.82it/s]\u001b[A\n",
      "Validation DataLoader 0:  29%|████████████████▊                                          | 2/7 [00:00<00:00, 75.76it/s]\u001b[A\n",
      "Validation DataLoader 0:  43%|█████████████████████████▎                                 | 3/7 [00:00<00:00, 79.61it/s]\u001b[A\n",
      "Validation DataLoader 0:  57%|█████████████████████████████████▋                         | 4/7 [00:00<00:00, 82.06it/s]\u001b[A\n",
      "Validation DataLoader 0:  71%|██████████████████████████████████████████▏                | 5/7 [00:00<00:00, 83.73it/s]\u001b[A\n",
      "Validation DataLoader 0:  86%|██████████████████████████████████████████████████▌        | 6/7 [00:00<00:00, 83.79it/s]\u001b[A\n",
      "Validation DataLoader 0: 100%|███████████████████████████████████████████████████████████| 7/7 [00:00<00:00, 83.76it/s]\u001b[A\n",
      "Epoch 178: 100%|█████████████████████████████| 21/21 [00:00<00:00, 69.46it/s, v_num=11, train_acc=0.792, val_acc=0.978]\u001b[A\n",
      "Validation: |                                                                                    | 0/? [00:00<?, ?it/s]\u001b[A\n",
      "Validation:   0%|                                                                                | 0/7 [00:00<?, ?it/s]\u001b[A\n",
      "Validation DataLoader 0:   0%|                                                                   | 0/7 [00:00<?, ?it/s]\u001b[A\n",
      "Validation DataLoader 0:  14%|████████▍                                                  | 1/7 [00:00<00:00, 63.23it/s]\u001b[A\n",
      "Validation DataLoader 0:  29%|████████████████▊                                          | 2/7 [00:00<00:00, 71.62it/s]\u001b[A\n",
      "Validation DataLoader 0:  43%|█████████████████████████▎                                 | 3/7 [00:00<00:00, 74.96it/s]\u001b[A\n",
      "Validation DataLoader 0:  57%|█████████████████████████████████▋                         | 4/7 [00:00<00:00, 80.58it/s]\u001b[A\n",
      "Validation DataLoader 0:  71%|██████████████████████████████████████████▏                | 5/7 [00:00<00:00, 81.16it/s]\u001b[A\n",
      "Validation DataLoader 0:  86%|██████████████████████████████████████████████████▌        | 6/7 [00:00<00:00, 85.01it/s]\u001b[A\n",
      "Validation DataLoader 0: 100%|███████████████████████████████████████████████████████████| 7/7 [00:00<00:00, 84.32it/s]\u001b[A\n",
      "Epoch 179: 100%|█████████████████████████████| 21/21 [00:00<00:00, 71.64it/s, v_num=11, train_acc=0.868, val_acc=0.974]\u001b[A\n",
      "Validation: |                                                                                    | 0/? [00:00<?, ?it/s]\u001b[A\n",
      "Validation:   0%|                                                                                | 0/7 [00:00<?, ?it/s]\u001b[A\n",
      "Validation DataLoader 0:   0%|                                                                   | 0/7 [00:00<?, ?it/s]\u001b[A\n",
      "Validation DataLoader 0:  14%|████████▍                                                  | 1/7 [00:00<00:00, 66.85it/s]\u001b[A\n",
      "Validation DataLoader 0:  29%|████████████████▊                                          | 2/7 [00:00<00:00, 74.09it/s]\u001b[A\n",
      "Validation DataLoader 0:  43%|█████████████████████████▎                                 | 3/7 [00:00<00:00, 77.56it/s]\u001b[A\n",
      "Validation DataLoader 0:  57%|█████████████████████████████████▋                         | 4/7 [00:00<00:00, 81.85it/s]\u001b[A\n",
      "Validation DataLoader 0:  71%|██████████████████████████████████████████▏                | 5/7 [00:00<00:00, 85.22it/s]\u001b[A\n",
      "Validation DataLoader 0:  86%|██████████████████████████████████████████████████▌        | 6/7 [00:00<00:00, 86.54it/s]\u001b[A\n",
      "Validation DataLoader 0: 100%|███████████████████████████████████████████████████████████| 7/7 [00:00<00:00, 87.17it/s]\u001b[A\n",
      "Epoch 180: 100%|█████████████████████████████| 21/21 [00:00<00:00, 70.69it/s, v_num=11, train_acc=0.906, val_acc=0.974]\u001b[A\n",
      "Validation: |                                                                                    | 0/? [00:00<?, ?it/s]\u001b[A\n",
      "Validation:   0%|                                                                                | 0/7 [00:00<?, ?it/s]\u001b[A\n",
      "Validation DataLoader 0:   0%|                                                                   | 0/7 [00:00<?, ?it/s]\u001b[A\n",
      "Validation DataLoader 0:  14%|████████▍                                                  | 1/7 [00:00<00:00, 69.02it/s]\u001b[A\n",
      "Validation DataLoader 0:  29%|████████████████▊                                          | 2/7 [00:00<00:00, 74.78it/s]\u001b[A\n",
      "Validation DataLoader 0:  43%|█████████████████████████▎                                 | 3/7 [00:00<00:00, 77.22it/s]\u001b[A\n",
      "Validation DataLoader 0:  57%|█████████████████████████████████▋                         | 4/7 [00:00<00:00, 81.31it/s]\u001b[A\n",
      "Validation DataLoader 0:  71%|██████████████████████████████████████████▏                | 5/7 [00:00<00:00, 80.65it/s]\u001b[A\n",
      "Validation DataLoader 0:  86%|██████████████████████████████████████████████████▌        | 6/7 [00:00<00:00, 81.32it/s]\u001b[A\n",
      "Validation DataLoader 0: 100%|███████████████████████████████████████████████████████████| 7/7 [00:00<00:00, 83.58it/s]\u001b[A\n",
      "Epoch 181: 100%|█████████████████████████████| 21/21 [00:00<00:00, 70.63it/s, v_num=11, train_acc=0.887, val_acc=0.978]\u001b[A\n",
      "Validation: |                                                                                    | 0/? [00:00<?, ?it/s]\u001b[A\n",
      "Validation:   0%|                                                                                | 0/7 [00:00<?, ?it/s]\u001b[A\n",
      "Validation DataLoader 0:   0%|                                                                   | 0/7 [00:00<?, ?it/s]\u001b[A\n",
      "Validation DataLoader 0:  14%|████████▍                                                  | 1/7 [00:00<00:00, 62.84it/s]\u001b[A\n",
      "Validation DataLoader 0:  29%|████████████████▊                                          | 2/7 [00:00<00:00, 74.12it/s]\u001b[A\n",
      "Validation DataLoader 0:  43%|█████████████████████████▎                                 | 3/7 [00:00<00:00, 77.62it/s]\u001b[A\n",
      "Validation DataLoader 0:  57%|█████████████████████████████████▋                         | 4/7 [00:00<00:00, 79.02it/s]\u001b[A\n",
      "Validation DataLoader 0:  71%|██████████████████████████████████████████▏                | 5/7 [00:00<00:00, 79.70it/s]\u001b[A\n",
      "Validation DataLoader 0:  86%|██████████████████████████████████████████████████▌        | 6/7 [00:00<00:00, 79.02it/s]\u001b[A\n",
      "Validation DataLoader 0: 100%|███████████████████████████████████████████████████████████| 7/7 [00:00<00:00, 80.56it/s]\u001b[A\n",
      "Epoch 182: 100%|█████████████████████████████| 21/21 [00:00<00:00, 70.68it/s, v_num=11, train_acc=0.906, val_acc=0.976]\u001b[A\n",
      "Validation: |                                                                                    | 0/? [00:00<?, ?it/s]\u001b[A\n",
      "Validation:   0%|                                                                                | 0/7 [00:00<?, ?it/s]\u001b[A\n",
      "Validation DataLoader 0:   0%|                                                                   | 0/7 [00:00<?, ?it/s]\u001b[A\n",
      "Validation DataLoader 0:  14%|████████▍                                                  | 1/7 [00:00<00:00, 71.62it/s]\u001b[A\n",
      "Validation DataLoader 0:  29%|████████████████▊                                          | 2/7 [00:00<00:00, 74.41it/s]\u001b[A\n",
      "Validation DataLoader 0:  43%|█████████████████████████▎                                 | 3/7 [00:00<00:00, 79.87it/s]\u001b[A\n",
      "Validation DataLoader 0:  57%|█████████████████████████████████▋                         | 4/7 [00:00<00:00, 82.42it/s]\u001b[A\n",
      "Validation DataLoader 0:  71%|██████████████████████████████████████████▏                | 5/7 [00:00<00:00, 84.03it/s]\u001b[A\n",
      "Validation DataLoader 0:  86%|██████████████████████████████████████████████████▌        | 6/7 [00:00<00:00, 84.42it/s]\u001b[A\n",
      "Validation DataLoader 0: 100%|███████████████████████████████████████████████████████████| 7/7 [00:00<00:00, 84.29it/s]\u001b[A\n",
      "Epoch 183: 100%|█████████████████████████████| 21/21 [00:00<00:00, 69.02it/s, v_num=11, train_acc=0.906, val_acc=0.977]\u001b[A\n",
      "Validation: |                                                                                    | 0/? [00:00<?, ?it/s]\u001b[A\n",
      "Validation:   0%|                                                                                | 0/7 [00:00<?, ?it/s]\u001b[A\n",
      "Validation DataLoader 0:   0%|                                                                   | 0/7 [00:00<?, ?it/s]\u001b[A\n",
      "Validation DataLoader 0:  14%|████████▍                                                  | 1/7 [00:00<00:00, 75.41it/s]\u001b[A\n",
      "Validation DataLoader 0:  29%|████████████████▊                                          | 2/7 [00:00<00:00, 76.01it/s]\u001b[A\n",
      "Validation DataLoader 0:  43%|█████████████████████████▎                                 | 3/7 [00:00<00:00, 80.47it/s]\u001b[A\n",
      "Validation DataLoader 0:  57%|█████████████████████████████████▋                         | 4/7 [00:00<00:00, 82.90it/s]\u001b[A\n",
      "Validation DataLoader 0:  71%|██████████████████████████████████████████▏                | 5/7 [00:00<00:00, 81.68it/s]\u001b[A\n",
      "Validation DataLoader 0:  86%|██████████████████████████████████████████████████▌        | 6/7 [00:00<00:00, 82.90it/s]\u001b[A\n",
      "Validation DataLoader 0: 100%|███████████████████████████████████████████████████████████| 7/7 [00:00<00:00, 82.95it/s]\u001b[A\n",
      "Epoch 183: 100%|█████████████████████████████| 21/21 [00:00<00:00, 50.25it/s, v_num=11, train_acc=0.906, val_acc=0.976]\u001b[A"
     ]
    },
    {
     "name": "stderr",
     "output_type": "stream",
     "text": [
      "Metric val_loss improved by 0.004 >= min_delta = 0.0. New best score: 0.115\n"
     ]
    },
    {
     "name": "stdout",
     "output_type": "stream",
     "text": [
      "Epoch 184: 100%|█████████████████████████████| 21/21 [00:00<00:00, 73.90it/s, v_num=11, train_acc=0.887, val_acc=0.976]\n",
      "Validation: |                                                                                    | 0/? [00:00<?, ?it/s]\u001b[A\n",
      "Validation:   0%|                                                                                | 0/7 [00:00<?, ?it/s]\u001b[A\n",
      "Validation DataLoader 0:   0%|                                                                   | 0/7 [00:00<?, ?it/s]\u001b[A\n",
      "Validation DataLoader 0:  14%|████████▍                                                  | 1/7 [00:00<00:00, 71.62it/s]\u001b[A\n",
      "Validation DataLoader 0:  29%|████████████████▊                                          | 2/7 [00:00<00:00, 77.13it/s]\u001b[A\n",
      "Validation DataLoader 0:  43%|█████████████████████████▎                                 | 3/7 [00:00<00:00, 79.16it/s]\u001b[A\n",
      "Validation DataLoader 0:  57%|█████████████████████████████████▋                         | 4/7 [00:00<00:00, 81.85it/s]\u001b[A\n",
      "Validation DataLoader 0:  71%|██████████████████████████████████████████▏                | 5/7 [00:00<00:00, 84.97it/s]\u001b[A\n",
      "Validation DataLoader 0:  86%|██████████████████████████████████████████████████▌        | 6/7 [00:00<00:00, 87.19it/s]\u001b[A\n",
      "Validation DataLoader 0: 100%|███████████████████████████████████████████████████████████| 7/7 [00:00<00:00, 88.15it/s]\u001b[A\n",
      "Epoch 185: 100%|█████████████████████████████| 21/21 [00:00<00:00, 70.24it/s, v_num=11, train_acc=0.792, val_acc=0.974]\u001b[A\n",
      "Validation: |                                                                                    | 0/? [00:00<?, ?it/s]\u001b[A\n",
      "Validation:   0%|                                                                                | 0/7 [00:00<?, ?it/s]\u001b[A\n",
      "Validation DataLoader 0:   0%|                                                                   | 0/7 [00:00<?, ?it/s]\u001b[A\n",
      "Validation DataLoader 0:  14%|████████▍                                                  | 1/7 [00:00<00:00, 69.34it/s]\u001b[A\n",
      "Validation DataLoader 0:  29%|████████████████▊                                          | 2/7 [00:00<00:00, 71.35it/s]\u001b[A\n",
      "Validation DataLoader 0:  43%|█████████████████████████▎                                 | 3/7 [00:00<00:00, 73.18it/s]\u001b[A\n",
      "Validation DataLoader 0:  57%|█████████████████████████████████▋                         | 4/7 [00:00<00:00, 75.52it/s]\u001b[A\n",
      "Validation DataLoader 0:  71%|██████████████████████████████████████████▏                | 5/7 [00:00<00:00, 76.40it/s]\u001b[A\n",
      "Validation DataLoader 0:  86%|██████████████████████████████████████████████████▌        | 6/7 [00:00<00:00, 77.35it/s]\u001b[A\n",
      "Validation DataLoader 0: 100%|███████████████████████████████████████████████████████████| 7/7 [00:00<00:00, 77.43it/s]\u001b[A\n",
      "Epoch 186: 100%|█████████████████████████████| 21/21 [00:00<00:00, 70.59it/s, v_num=11, train_acc=0.849, val_acc=0.976]\u001b[A\n",
      "Validation: |                                                                                    | 0/? [00:00<?, ?it/s]\u001b[A\n",
      "Validation:   0%|                                                                                | 0/7 [00:00<?, ?it/s]\u001b[A\n",
      "Validation DataLoader 0:   0%|                                                                   | 0/7 [00:00<?, ?it/s]\u001b[A\n",
      "Validation DataLoader 0:  14%|████████▍                                                  | 1/7 [00:00<00:00, 66.85it/s]\u001b[A\n",
      "Validation DataLoader 0:  29%|████████████████▊                                          | 2/7 [00:00<00:00, 75.53it/s]\u001b[A\n",
      "Validation DataLoader 0:  43%|█████████████████████████▎                                 | 3/7 [00:00<00:00, 76.56it/s]\u001b[A\n",
      "Validation DataLoader 0:  57%|█████████████████████████████████▋                         | 4/7 [00:00<00:00, 79.57it/s]\u001b[A\n",
      "Validation DataLoader 0:  71%|██████████████████████████████████████████▏                | 5/7 [00:00<00:00, 81.65it/s]\u001b[A\n",
      "Validation DataLoader 0:  86%|██████████████████████████████████████████████████▌        | 6/7 [00:00<00:00, 81.96it/s]\u001b[A\n",
      "Validation DataLoader 0: 100%|███████████████████████████████████████████████████████████| 7/7 [00:00<00:00, 80.30it/s]\u001b[A\n",
      "Epoch 186: 100%|█████████████████████████████| 21/21 [00:00<00:00, 50.17it/s, v_num=11, train_acc=0.849, val_acc=0.979]\u001b[A"
     ]
    },
    {
     "name": "stderr",
     "output_type": "stream",
     "text": [
      "Metric val_loss improved by 0.002 >= min_delta = 0.0. New best score: 0.114\n"
     ]
    },
    {
     "name": "stdout",
     "output_type": "stream",
     "text": [
      "Epoch 187: 100%|█████████████████████████████| 21/21 [00:00<00:00, 69.30it/s, v_num=11, train_acc=0.849, val_acc=0.979]\n",
      "Validation: |                                                                                    | 0/? [00:00<?, ?it/s]\u001b[A\n",
      "Validation:   0%|                                                                                | 0/7 [00:00<?, ?it/s]\u001b[A\n",
      "Validation DataLoader 0:   0%|                                                                   | 0/7 [00:00<?, ?it/s]\u001b[A\n",
      "Validation DataLoader 0:  14%|████████▍                                                  | 1/7 [00:00<00:00, 66.31it/s]\u001b[A\n",
      "Validation DataLoader 0:  29%|████████████████▊                                          | 2/7 [00:00<00:00, 79.83it/s]\u001b[A\n",
      "Validation DataLoader 0:  43%|█████████████████████████▎                                 | 3/7 [00:00<00:00, 76.49it/s]\u001b[A\n",
      "Validation DataLoader 0:  57%|█████████████████████████████████▋                         | 4/7 [00:00<00:00, 78.52it/s]\u001b[A\n",
      "Validation DataLoader 0:  71%|██████████████████████████████████████████▏                | 5/7 [00:00<00:00, 78.72it/s]\u001b[A\n",
      "Validation DataLoader 0:  86%|██████████████████████████████████████████████████▌        | 6/7 [00:00<00:00, 80.55it/s]\u001b[A\n",
      "Validation DataLoader 0: 100%|███████████████████████████████████████████████████████████| 7/7 [00:00<00:00, 79.67it/s]\u001b[A\n",
      "Epoch 188: 100%|█████████████████████████████| 21/21 [00:00<00:00, 70.46it/s, v_num=11, train_acc=0.849, val_acc=0.982]\u001b[A\n",
      "Validation: |                                                                                    | 0/? [00:00<?, ?it/s]\u001b[A\n",
      "Validation:   0%|                                                                                | 0/7 [00:00<?, ?it/s]\u001b[A\n",
      "Validation DataLoader 0:   0%|                                                                   | 0/7 [00:00<?, ?it/s]\u001b[A\n",
      "Validation DataLoader 0:  14%|████████▍                                                  | 1/7 [00:00<00:00, 62.67it/s]\u001b[A\n",
      "Validation DataLoader 0:  29%|████████████████▊                                          | 2/7 [00:00<00:00, 74.28it/s]\u001b[A\n",
      "Validation DataLoader 0:  43%|█████████████████████████▎                                 | 3/7 [00:00<00:00, 79.16it/s]\u001b[A\n",
      "Validation DataLoader 0:  57%|█████████████████████████████████▋                         | 4/7 [00:00<00:00, 81.85it/s]\u001b[A\n",
      "Validation DataLoader 0:  71%|██████████████████████████████████████████▏                | 5/7 [00:00<00:00, 83.56it/s]\u001b[A\n",
      "Validation DataLoader 0:  86%|██████████████████████████████████████████████████▌        | 6/7 [00:00<00:00, 83.82it/s]\u001b[A\n",
      "Validation DataLoader 0: 100%|███████████████████████████████████████████████████████████| 7/7 [00:00<00:00, 84.49it/s]\u001b[A\n",
      "Epoch 189: 100%|█████████████████████████████| 21/21 [00:00<00:00, 72.20it/s, v_num=11, train_acc=0.830, val_acc=0.975]\u001b[A\n",
      "Validation: |                                                                                    | 0/? [00:00<?, ?it/s]\u001b[A\n",
      "Validation:   0%|                                                                                | 0/7 [00:00<?, ?it/s]\u001b[A\n",
      "Validation DataLoader 0:   0%|                                                                   | 0/7 [00:00<?, ?it/s]\u001b[A\n",
      "Validation DataLoader 0:  14%|████████▍                                                  | 1/7 [00:00<00:00, 66.11it/s]\u001b[A\n",
      "Validation DataLoader 0:  29%|████████████████▊                                          | 2/7 [00:00<00:00, 73.11it/s]\u001b[A\n",
      "Validation DataLoader 0:  43%|█████████████████████████▎                                 | 3/7 [00:00<00:00, 78.28it/s]\u001b[A\n",
      "Validation DataLoader 0:  57%|█████████████████████████████████▋                         | 4/7 [00:00<00:00, 80.13it/s]\u001b[A\n",
      "Validation DataLoader 0:  71%|██████████████████████████████████████████▏                | 5/7 [00:00<00:00, 80.79it/s]\u001b[A\n",
      "Validation DataLoader 0:  86%|██████████████████████████████████████████████████▌        | 6/7 [00:00<00:00, 83.50it/s]\u001b[A\n",
      "Validation DataLoader 0: 100%|███████████████████████████████████████████████████████████| 7/7 [00:00<00:00, 84.51it/s]\u001b[A\n",
      "Epoch 190: 100%|█████████████████████████████| 21/21 [00:00<00:00, 68.98it/s, v_num=11, train_acc=0.811, val_acc=0.972]\u001b[A\n",
      "Validation: |                                                                                    | 0/? [00:00<?, ?it/s]\u001b[A\n",
      "Validation:   0%|                                                                                | 0/7 [00:00<?, ?it/s]\u001b[A\n",
      "Validation DataLoader 0:   0%|                                                                   | 0/7 [00:00<?, ?it/s]\u001b[A\n",
      "Validation DataLoader 0:  14%|████████▍                                                  | 1/7 [00:00<00:00, 72.34it/s]\u001b[A\n",
      "Validation DataLoader 0:  29%|████████████████▊                                          | 2/7 [00:00<00:00, 78.89it/s]\u001b[A\n",
      "Validation DataLoader 0:  43%|█████████████████████████▎                                 | 3/7 [00:00<00:00, 82.60it/s]\u001b[A\n",
      "Validation DataLoader 0:  57%|█████████████████████████████████▋                         | 4/7 [00:00<00:00, 82.53it/s]\u001b[A\n",
      "Validation DataLoader 0:  71%|██████████████████████████████████████████▏                | 5/7 [00:00<00:00, 82.73it/s]\u001b[A\n",
      "Validation DataLoader 0:  86%|██████████████████████████████████████████████████▌        | 6/7 [00:00<00:00, 81.74it/s]\u001b[A\n",
      "Validation DataLoader 0: 100%|███████████████████████████████████████████████████████████| 7/7 [00:00<00:00, 83.96it/s]\u001b[A\n",
      "Epoch 191: 100%|█████████████████████████████| 21/21 [00:00<00:00, 74.07it/s, v_num=11, train_acc=0.849, val_acc=0.979]\u001b[A\n",
      "Validation: |                                                                                    | 0/? [00:00<?, ?it/s]\u001b[A\n",
      "Validation:   0%|                                                                                | 0/7 [00:00<?, ?it/s]\u001b[A\n",
      "Validation DataLoader 0:   0%|                                                                   | 0/7 [00:00<?, ?it/s]\u001b[A\n",
      "Validation DataLoader 0:  14%|████████▍                                                  | 1/7 [00:00<00:00, 73.66it/s]\u001b[A\n",
      "Validation DataLoader 0:  29%|████████████████▊                                          | 2/7 [00:00<00:00, 77.90it/s]\u001b[A\n",
      "Validation DataLoader 0:  43%|█████████████████████████▎                                 | 3/7 [00:00<00:00, 84.16it/s]\u001b[A\n",
      "Validation DataLoader 0:  57%|█████████████████████████████████▋                         | 4/7 [00:00<00:00, 82.86it/s]\u001b[A\n",
      "Validation DataLoader 0:  71%|██████████████████████████████████████████▏                | 5/7 [00:00<00:00, 83.99it/s]\u001b[A\n",
      "Validation DataLoader 0:  86%|██████████████████████████████████████████████████▌        | 6/7 [00:00<00:00, 85.10it/s]\u001b[A\n",
      "Validation DataLoader 0: 100%|███████████████████████████████████████████████████████████| 7/7 [00:00<00:00, 85.64it/s]\u001b[A\n",
      "Epoch 192: 100%|█████████████████████████████| 21/21 [00:00<00:00, 74.64it/s, v_num=11, train_acc=0.906, val_acc=0.979]\u001b[A\n",
      "Validation: |                                                                                    | 0/? [00:00<?, ?it/s]\u001b[A\n",
      "Validation:   0%|                                                                                | 0/7 [00:00<?, ?it/s]\u001b[A\n",
      "Validation DataLoader 0:   0%|                                                                   | 0/7 [00:00<?, ?it/s]\u001b[A\n",
      "Validation DataLoader 0:  14%|████████▍                                                  | 1/7 [00:00<00:00, 66.85it/s]\u001b[A\n",
      "Validation DataLoader 0:  29%|████████████████▊                                          | 2/7 [00:00<00:00, 80.21it/s]\u001b[A\n",
      "Validation DataLoader 0:  43%|█████████████████████████▎                                 | 3/7 [00:00<00:00, 80.40it/s]\u001b[A\n",
      "Validation DataLoader 0:  57%|█████████████████████████████████▋                         | 4/7 [00:00<00:00, 83.38it/s]\u001b[A\n",
      "Validation DataLoader 0:  71%|██████████████████████████████████████████▏                | 5/7 [00:00<00:00, 84.83it/s]\u001b[A\n",
      "Validation DataLoader 0:  86%|██████████████████████████████████████████████████▌        | 6/7 [00:00<00:00, 83.77it/s]\u001b[A\n",
      "Validation DataLoader 0: 100%|███████████████████████████████████████████████████████████| 7/7 [00:00<00:00, 83.73it/s]\u001b[A\n",
      "Epoch 193: 100%|█████████████████████████████| 21/21 [00:00<00:00, 70.83it/s, v_num=11, train_acc=0.887, val_acc=0.978]\u001b[A\n",
      "Validation: |                                                                                    | 0/? [00:00<?, ?it/s]\u001b[A\n",
      "Validation:   0%|                                                                                | 0/7 [00:00<?, ?it/s]\u001b[A\n",
      "Validation DataLoader 0:   0%|                                                                   | 0/7 [00:00<?, ?it/s]\u001b[A\n",
      "Validation DataLoader 0:  14%|████████▍                                                  | 1/7 [00:00<00:00, 70.30it/s]\u001b[A\n",
      "Validation DataLoader 0:  29%|████████████████▊                                          | 2/7 [00:00<00:00, 76.35it/s]\u001b[A\n",
      "Validation DataLoader 0:  43%|█████████████████████████▎                                 | 3/7 [00:00<00:00, 81.41it/s]\u001b[A\n",
      "Validation DataLoader 0:  57%|█████████████████████████████████▋                         | 4/7 [00:00<00:00, 84.21it/s]\u001b[A\n",
      "Validation DataLoader 0:  71%|██████████████████████████████████████████▏                | 5/7 [00:00<00:00, 83.65it/s]\u001b[A\n",
      "Validation DataLoader 0:  86%|██████████████████████████████████████████████████▌        | 6/7 [00:00<00:00, 82.07it/s]\u001b[A\n",
      "Validation DataLoader 0: 100%|███████████████████████████████████████████████████████████| 7/7 [00:00<00:00, 83.40it/s]\u001b[A\n",
      "Epoch 194: 100%|█████████████████████████████| 21/21 [00:00<00:00, 72.09it/s, v_num=11, train_acc=0.830, val_acc=0.979]\u001b[A\n",
      "Validation: |                                                                                    | 0/? [00:00<?, ?it/s]\u001b[A\n",
      "Validation:   0%|                                                                                | 0/7 [00:00<?, ?it/s]\u001b[A\n",
      "Validation DataLoader 0:   0%|                                                                   | 0/7 [00:00<?, ?it/s]\u001b[A\n",
      "Validation DataLoader 0:  14%|████████▍                                                  | 1/7 [00:00<00:00, 71.63it/s]\u001b[A\n",
      "Validation DataLoader 0:  29%|████████████████▊                                          | 2/7 [00:00<00:00, 77.13it/s]\u001b[A\n",
      "Validation DataLoader 0:  43%|█████████████████████████▎                                 | 3/7 [00:00<00:00, 83.56it/s]\u001b[A\n",
      "Validation DataLoader 0:  57%|█████████████████████████████████▋                         | 4/7 [00:00<00:00, 83.56it/s]\u001b[A\n",
      "Validation DataLoader 0:  71%|██████████████████████████████████████████▏                | 5/7 [00:00<00:00, 82.19it/s]\u001b[A\n",
      "Validation DataLoader 0:  86%|██████████████████████████████████████████████████▌        | 6/7 [00:00<00:00, 84.74it/s]\u001b[A\n",
      "Validation DataLoader 0: 100%|███████████████████████████████████████████████████████████| 7/7 [00:00<00:00, 83.47it/s]\u001b[A\n",
      "Epoch 195: 100%|█████████████████████████████| 21/21 [00:00<00:00, 70.92it/s, v_num=11, train_acc=0.906, val_acc=0.979]\u001b[A\n",
      "Validation: |                                                                                    | 0/? [00:00<?, ?it/s]\u001b[A\n",
      "Validation:   0%|                                                                                | 0/7 [00:00<?, ?it/s]\u001b[A\n",
      "Validation DataLoader 0:   0%|                                                                   | 0/7 [00:00<?, ?it/s]\u001b[A\n",
      "Validation DataLoader 0:  14%|████████▍                                                  | 1/7 [00:00<00:00, 62.89it/s]\u001b[A\n",
      "Validation DataLoader 0:  29%|████████████████▊                                          | 2/7 [00:00<00:00, 71.42it/s]\u001b[A\n",
      "Validation DataLoader 0:  43%|█████████████████████████▎                                 | 3/7 [00:00<00:00, 75.06it/s]\u001b[A\n",
      "Validation DataLoader 0:  57%|█████████████████████████████████▋                         | 4/7 [00:00<00:00, 77.37it/s]\u001b[A\n",
      "Validation DataLoader 0:  71%|██████████████████████████████████████████▏                | 5/7 [00:00<00:00, 78.22it/s]\u001b[A\n",
      "Validation DataLoader 0:  86%|██████████████████████████████████████████████████▌        | 6/7 [00:00<00:00, 82.31it/s]\u001b[A\n",
      "Validation DataLoader 0: 100%|███████████████████████████████████████████████████████████| 7/7 [00:00<00:00, 84.31it/s]\u001b[A\n",
      "Epoch 196: 100%|█████████████████████████████| 21/21 [00:00<00:00, 71.66it/s, v_num=11, train_acc=0.849, val_acc=0.982]\u001b[A\n",
      "Validation: |                                                                                    | 0/? [00:00<?, ?it/s]\u001b[A\n",
      "Validation:   0%|                                                                                | 0/7 [00:00<?, ?it/s]\u001b[A\n",
      "Validation DataLoader 0:   0%|                                                                   | 0/7 [00:00<?, ?it/s]\u001b[A\n",
      "Validation DataLoader 0:  14%|████████▍                                                  | 1/7 [00:00<00:00, 62.47it/s]\u001b[A\n",
      "Validation DataLoader 0:  29%|████████████████▊                                          | 2/7 [00:00<00:00, 74.15it/s]\u001b[A\n",
      "Validation DataLoader 0:  43%|█████████████████████████▎                                 | 3/7 [00:00<00:00, 76.69it/s]\u001b[A\n",
      "Validation DataLoader 0:  57%|█████████████████████████████████▋                         | 4/7 [00:00<00:00, 79.86it/s]\u001b[A\n",
      "Validation DataLoader 0:  71%|██████████████████████████████████████████▏                | 5/7 [00:00<00:00, 79.69it/s]\u001b[A\n",
      "Validation DataLoader 0:  86%|██████████████████████████████████████████████████▌        | 6/7 [00:00<00:00, 79.54it/s]\u001b[A\n",
      "Validation DataLoader 0: 100%|███████████████████████████████████████████████████████████| 7/7 [00:00<00:00, 81.96it/s]\u001b[A\n",
      "Epoch 197: 100%|█████████████████████████████| 21/21 [00:00<00:00, 71.41it/s, v_num=11, train_acc=0.868, val_acc=0.976]\u001b[A\n",
      "Validation: |                                                                                    | 0/? [00:00<?, ?it/s]\u001b[A\n",
      "Validation:   0%|                                                                                | 0/7 [00:00<?, ?it/s]\u001b[A\n",
      "Validation DataLoader 0:   0%|                                                                   | 0/7 [00:00<?, ?it/s]\u001b[A\n",
      "Validation DataLoader 0:  14%|████████▍                                                  | 1/7 [00:00<00:00, 68.01it/s]\u001b[A\n",
      "Validation DataLoader 0:  29%|████████████████▊                                          | 2/7 [00:00<00:00, 74.71it/s]\u001b[A\n",
      "Validation DataLoader 0:  43%|█████████████████████████▎                                 | 3/7 [00:00<00:00, 77.45it/s]\u001b[A\n",
      "Validation DataLoader 0:  57%|█████████████████████████████████▋                         | 4/7 [00:00<00:00, 79.88it/s]\u001b[A\n",
      "Validation DataLoader 0:  71%|██████████████████████████████████████████▏                | 5/7 [00:00<00:00, 79.70it/s]\u001b[A\n",
      "Validation DataLoader 0:  86%|██████████████████████████████████████████████████▌        | 6/7 [00:00<00:00, 82.26it/s]\u001b[A\n",
      "Validation DataLoader 0: 100%|███████████████████████████████████████████████████████████| 7/7 [00:00<00:00, 84.42it/s]\u001b[A\n",
      "Epoch 198: 100%|█████████████████████████████| 21/21 [00:00<00:00, 70.74it/s, v_num=11, train_acc=0.868, val_acc=0.979]\u001b[A\n",
      "Validation: |                                                                                    | 0/? [00:00<?, ?it/s]\u001b[A\n",
      "Validation:   0%|                                                                                | 0/7 [00:00<?, ?it/s]\u001b[A\n",
      "Validation DataLoader 0:   0%|                                                                   | 0/7 [00:00<?, ?it/s]\u001b[A\n",
      "Validation DataLoader 0:  14%|████████▍                                                  | 1/7 [00:00<00:00, 71.97it/s]\u001b[A\n",
      "Validation DataLoader 0:  29%|████████████████▊                                          | 2/7 [00:00<00:00, 75.99it/s]\u001b[A\n",
      "Validation DataLoader 0:  43%|█████████████████████████▎                                 | 3/7 [00:00<00:00, 78.56it/s]\u001b[A\n",
      "Validation DataLoader 0:  57%|█████████████████████████████████▋                         | 4/7 [00:00<00:00, 79.75it/s]\u001b[A\n",
      "Validation DataLoader 0:  71%|██████████████████████████████████████████▏                | 5/7 [00:00<00:00, 80.48it/s]\u001b[A\n",
      "Validation DataLoader 0:  86%|██████████████████████████████████████████████████▌        | 6/7 [00:00<00:00, 82.08it/s]\u001b[A\n",
      "Validation DataLoader 0: 100%|███████████████████████████████████████████████████████████| 7/7 [00:00<00:00, 82.29it/s]\u001b[A\n",
      "Epoch 199: 100%|█████████████████████████████| 21/21 [00:00<00:00, 73.55it/s, v_num=11, train_acc=0.868, val_acc=0.979]\u001b[A\n",
      "Validation: |                                                                                    | 0/? [00:00<?, ?it/s]\u001b[A\n",
      "Validation:   0%|                                                                                | 0/7 [00:00<?, ?it/s]\u001b[A\n",
      "Validation DataLoader 0:   0%|                                                                   | 0/7 [00:00<?, ?it/s]\u001b[A\n",
      "Validation DataLoader 0:  14%|████████▍                                                  | 1/7 [00:00<00:00, 70.88it/s]\u001b[A\n",
      "Validation DataLoader 0:  29%|████████████████▊                                          | 2/7 [00:00<00:00, 83.05it/s]\u001b[A\n",
      "Validation DataLoader 0:  43%|█████████████████████████▎                                 | 3/7 [00:00<00:00, 88.98it/s]\u001b[A\n",
      "Validation DataLoader 0:  57%|█████████████████████████████████▋                         | 4/7 [00:00<00:00, 88.06it/s]\u001b[A\n",
      "Validation DataLoader 0:  71%|██████████████████████████████████████████▏                | 5/7 [00:00<00:00, 88.66it/s]\u001b[A\n",
      "Validation DataLoader 0:  86%|██████████████████████████████████████████████████▌        | 6/7 [00:00<00:00, 88.27it/s]\u001b[A\n",
      "Validation DataLoader 0: 100%|███████████████████████████████████████████████████████████| 7/7 [00:00<00:00, 86.71it/s]\u001b[A\n",
      "Epoch 200: 100%|█████████████████████████████| 21/21 [00:00<00:00, 71.70it/s, v_num=11, train_acc=0.906, val_acc=0.979]\u001b[A\n",
      "Validation: |                                                                                    | 0/? [00:00<?, ?it/s]\u001b[A\n",
      "Validation:   0%|                                                                                | 0/7 [00:00<?, ?it/s]\u001b[A\n",
      "Validation DataLoader 0:   0%|                                                                   | 0/7 [00:00<?, ?it/s]\u001b[A\n",
      "Validation DataLoader 0:  14%|████████▍                                                  | 1/7 [00:00<00:00, 63.58it/s]\u001b[A\n",
      "Validation DataLoader 0:  29%|████████████████▊                                          | 2/7 [00:00<00:00, 76.11it/s]\u001b[A\n",
      "Validation DataLoader 0:  43%|█████████████████████████▎                                 | 3/7 [00:00<00:00, 81.61it/s]\u001b[A\n",
      "Validation DataLoader 0:  57%|█████████████████████████████████▋                         | 4/7 [00:00<00:00, 86.93it/s]\u001b[A\n",
      "Validation DataLoader 0:  71%|██████████████████████████████████████████▏                | 5/7 [00:00<00:00, 85.30it/s]\u001b[A\n",
      "Validation DataLoader 0:  86%|██████████████████████████████████████████████████▌        | 6/7 [00:00<00:00, 86.22it/s]\u001b[A\n",
      "Validation DataLoader 0: 100%|███████████████████████████████████████████████████████████| 7/7 [00:00<00:00, 87.98it/s]\u001b[A\n",
      "Epoch 201: 100%|█████████████████████████████| 21/21 [00:00<00:00, 70.68it/s, v_num=11, train_acc=0.943, val_acc=0.981]\u001b[A\n",
      "Validation: |                                                                                    | 0/? [00:00<?, ?it/s]\u001b[A\n",
      "Validation:   0%|                                                                                | 0/7 [00:00<?, ?it/s]\u001b[A\n",
      "Validation DataLoader 0:   0%|                                                                   | 0/7 [00:00<?, ?it/s]\u001b[A\n",
      "Validation DataLoader 0:  14%|████████▍                                                  | 1/7 [00:00<00:00, 71.61it/s]\u001b[A\n",
      "Validation DataLoader 0:  29%|████████████████▊                                          | 2/7 [00:00<00:00, 83.56it/s]\u001b[A\n",
      "Validation DataLoader 0:  43%|█████████████████████████▎                                 | 3/7 [00:00<00:00, 83.88it/s]\u001b[A\n",
      "Validation DataLoader 0:  57%|█████████████████████████████████▋                         | 4/7 [00:00<00:00, 81.64it/s]\u001b[A\n",
      "Validation DataLoader 0:  71%|██████████████████████████████████████████▏                | 5/7 [00:00<00:00, 84.79it/s]\u001b[A\n",
      "Validation DataLoader 0:  86%|██████████████████████████████████████████████████▌        | 6/7 [00:00<00:00, 86.74it/s]\u001b[A\n",
      "Validation DataLoader 0: 100%|███████████████████████████████████████████████████████████| 7/7 [00:00<00:00, 85.93it/s]\u001b[A\n",
      "Epoch 202: 100%|█████████████████████████████| 21/21 [00:00<00:00, 72.13it/s, v_num=11, train_acc=0.830, val_acc=0.979]\u001b[A\n",
      "Validation: |                                                                                    | 0/? [00:00<?, ?it/s]\u001b[A\n",
      "Validation:   0%|                                                                                | 0/7 [00:00<?, ?it/s]\u001b[A\n",
      "Validation DataLoader 0:   0%|                                                                   | 0/7 [00:00<?, ?it/s]\u001b[A\n",
      "Validation DataLoader 0:  14%|████████▍                                                  | 1/7 [00:00<00:00, 67.70it/s]\u001b[A\n",
      "Validation DataLoader 0:  29%|████████████████▊                                          | 2/7 [00:00<00:00, 77.87it/s]\u001b[A\n",
      "Validation DataLoader 0:  43%|█████████████████████████▎                                 | 3/7 [00:00<00:00, 86.56it/s]\u001b[A\n",
      "Validation DataLoader 0:  57%|█████████████████████████████████▋                         | 4/7 [00:00<00:00, 84.50it/s]\u001b[A\n",
      "Validation DataLoader 0:  71%|██████████████████████████████████████████▏                | 5/7 [00:00<00:00, 83.86it/s]\u001b[A\n",
      "Validation DataLoader 0:  86%|██████████████████████████████████████████████████▌        | 6/7 [00:00<00:00, 85.00it/s]\u001b[A\n",
      "Validation DataLoader 0: 100%|███████████████████████████████████████████████████████████| 7/7 [00:00<00:00, 85.01it/s]\u001b[A\n",
      "Epoch 203: 100%|█████████████████████████████| 21/21 [00:00<00:00, 71.96it/s, v_num=11, train_acc=0.906, val_acc=0.982]\u001b[A\n",
      "Validation: |                                                                                    | 0/? [00:00<?, ?it/s]\u001b[A\n",
      "Validation:   0%|                                                                                | 0/7 [00:00<?, ?it/s]\u001b[A\n",
      "Validation DataLoader 0:   0%|                                                                   | 0/7 [00:00<?, ?it/s]\u001b[A\n",
      "Validation DataLoader 0:  14%|████████▍                                                  | 1/7 [00:00<00:00, 77.13it/s]\u001b[A\n",
      "Validation DataLoader 0:  29%|████████████████▊                                          | 2/7 [00:00<00:00, 85.00it/s]\u001b[A\n",
      "Validation DataLoader 0:  43%|█████████████████████████▎                                 | 3/7 [00:00<00:00, 89.55it/s]\u001b[A\n",
      "Validation DataLoader 0:  57%|█████████████████████████████████▋                         | 4/7 [00:00<00:00, 87.97it/s]\u001b[A\n",
      "Validation DataLoader 0:  71%|██████████████████████████████████████████▏                | 5/7 [00:00<00:00, 85.57it/s]\u001b[A\n",
      "Validation DataLoader 0:  86%|██████████████████████████████████████████████████▌        | 6/7 [00:00<00:00, 85.22it/s]\u001b[A\n",
      "Validation DataLoader 0: 100%|███████████████████████████████████████████████████████████| 7/7 [00:00<00:00, 87.09it/s]\u001b[A\n",
      "Epoch 204: 100%|█████████████████████████████| 21/21 [00:00<00:00, 71.06it/s, v_num=11, train_acc=0.906, val_acc=0.982]\u001b[A\n",
      "Validation: |                                                                                    | 0/? [00:00<?, ?it/s]\u001b[A\n",
      "Validation:   0%|                                                                                | 0/7 [00:00<?, ?it/s]\u001b[A\n",
      "Validation DataLoader 0:   0%|                                                                   | 0/7 [00:00<?, ?it/s]\u001b[A\n",
      "Validation DataLoader 0:  14%|████████▍                                                  | 1/7 [00:00<00:00, 74.86it/s]\u001b[A\n",
      "Validation DataLoader 0:  29%|████████████████▊                                          | 2/7 [00:00<00:00, 81.44it/s]\u001b[A\n",
      "Validation DataLoader 0:  43%|█████████████████████████▎                                 | 3/7 [00:00<00:00, 86.88it/s]\u001b[A\n",
      "Validation DataLoader 0:  57%|█████████████████████████████████▋                         | 4/7 [00:00<00:00, 89.58it/s]\u001b[A\n",
      "Validation DataLoader 0:  71%|██████████████████████████████████████████▏                | 5/7 [00:00<00:00, 87.21it/s]\u001b[A\n",
      "Validation DataLoader 0:  86%|██████████████████████████████████████████████████▌        | 6/7 [00:00<00:00, 90.48it/s]\u001b[A\n",
      "Validation DataLoader 0: 100%|███████████████████████████████████████████████████████████| 7/7 [00:00<00:00, 91.30it/s]\u001b[A\n",
      "Epoch 205: 100%|█████████████████████████████| 21/21 [00:00<00:00, 71.93it/s, v_num=11, train_acc=0.887, val_acc=0.981]\u001b[A\n",
      "Validation: |                                                                                    | 0/? [00:00<?, ?it/s]\u001b[A\n",
      "Validation:   0%|                                                                                | 0/7 [00:00<?, ?it/s]\u001b[A\n",
      "Validation DataLoader 0:   0%|                                                                   | 0/7 [00:00<?, ?it/s]\u001b[A\n",
      "Validation DataLoader 0:  14%|████████▍                                                  | 1/7 [00:00<00:00, 67.40it/s]\u001b[A\n",
      "Validation DataLoader 0:  29%|████████████████▊                                          | 2/7 [00:00<00:00, 81.99it/s]\u001b[A\n",
      "Validation DataLoader 0:  43%|█████████████████████████▎                                 | 3/7 [00:00<00:00, 84.84it/s]\u001b[A\n",
      "Validation DataLoader 0:  57%|█████████████████████████████████▋                         | 4/7 [00:00<00:00, 86.50it/s]\u001b[A\n",
      "Validation DataLoader 0:  71%|██████████████████████████████████████████▏                | 5/7 [00:00<00:00, 87.32it/s]\u001b[A\n",
      "Validation DataLoader 0:  86%|██████████████████████████████████████████████████▌        | 6/7 [00:00<00:00, 87.94it/s]\u001b[A\n",
      "Validation DataLoader 0: 100%|███████████████████████████████████████████████████████████| 7/7 [00:00<00:00, 87.04it/s]\u001b[A\n",
      "Epoch 206: 100%|█████████████████████████████| 21/21 [00:00<00:00, 70.19it/s, v_num=11, train_acc=0.925, val_acc=0.978]\u001b[A\n",
      "Validation: |                                                                                    | 0/? [00:00<?, ?it/s]\u001b[A\n",
      "Validation:   0%|                                                                                | 0/7 [00:00<?, ?it/s]\u001b[A\n",
      "Validation DataLoader 0:   0%|                                                                   | 0/7 [00:00<?, ?it/s]\u001b[A\n",
      "Validation DataLoader 0:  14%|████████▍                                                  | 1/7 [00:00<00:00, 63.60it/s]\u001b[A\n",
      "Validation DataLoader 0:  29%|████████████████▊                                          | 2/7 [00:00<00:00, 75.74it/s]\u001b[A\n",
      "Validation DataLoader 0:  43%|█████████████████████████▎                                 | 3/7 [00:00<00:00, 80.26it/s]\u001b[A\n",
      "Validation DataLoader 0:  57%|█████████████████████████████████▋                         | 4/7 [00:00<00:00, 81.63it/s]\u001b[A\n",
      "Validation DataLoader 0:  71%|██████████████████████████████████████████▏                | 5/7 [00:00<00:00, 83.73it/s]\u001b[A\n",
      "Validation DataLoader 0:  86%|██████████████████████████████████████████████████▌        | 6/7 [00:00<00:00, 86.09it/s]\u001b[A\n",
      "Validation DataLoader 0: 100%|███████████████████████████████████████████████████████████| 7/7 [00:00<00:00, 87.50it/s]\u001b[A\n",
      "Epoch 206: 100%|█████████████████████████████| 21/21 [00:00<00:00, 51.26it/s, v_num=11, train_acc=0.925, val_acc=0.983]\u001b[A"
     ]
    },
    {
     "name": "stderr",
     "output_type": "stream",
     "text": [
      "Monitored metric val_loss did not improve in the last 20 records. Best score: 0.114. Signaling Trainer to stop.\n"
     ]
    },
    {
     "name": "stdout",
     "output_type": "stream",
     "text": [
      "Epoch 206: 100%|█████████████████████████████| 21/21 [00:00<00:00, 50.48it/s, v_num=11, train_acc=0.925, val_acc=0.983]\n"
     ]
    }
   ],
   "source": [
    "# Train the model\n",
    "trainer.fit(model, train_loader, val_loader)"
   ]
  },
  {
   "cell_type": "code",
   "execution_count": 222,
   "id": "0618a69b-7c16-4f9c-9486-d90459207e5a",
   "metadata": {},
   "outputs": [],
   "source": [
    "# Load the best model\n",
    "best_model = KeypointClassifier.load_from_checkpoint(model_save_path)"
   ]
  },
  {
   "cell_type": "code",
   "execution_count": 223,
   "id": "547bc160-b743-4a6b-8383-304bbf64ae34",
   "metadata": {},
   "outputs": [
    {
     "name": "stdout",
     "output_type": "stream",
     "text": [
      "[1.1496117e-03 9.9875283e-01 4.4231527e-10 9.7531985e-05]\n",
      "1\n"
     ]
    }
   ],
   "source": [
    "best_model.eval()\n",
    "with torch.no_grad():\n",
    "    test_sample = X_test_tensor[0].unsqueeze(0)\n",
    "    output = best_model(test_sample)\n",
    "    probs = torch.softmax(output, dim=1)\n",
    "    print(probs.squeeze().numpy())\n",
    "    print(torch.argmax(probs).item())"
   ]
  },
  {
   "cell_type": "code",
   "execution_count": 224,
   "id": "e9e5aa1c-4f6b-420e-b377-df805817bda4",
   "metadata": {},
   "outputs": [
    {
     "data": {
      "image/png": "[encoded data removed]",
      "text/plain": [
       "<Figure size 700x600 with 2 Axes>"
      ]
     },
     "metadata": {},
     "output_type": "display_data"
    },
    {
     "name": "stdout",
     "output_type": "stream",
     "text": [
      "Classification Report\n",
      "              precision    recall  f1-score   support\n",
      "\n",
      "           0       0.97      1.00      0.98       402\n",
      "           1       0.99      0.99      0.99       380\n",
      "           2       1.00      0.97      0.99        78\n",
      "           3       1.00      0.42      0.59        12\n",
      "\n",
      "    accuracy                           0.98       872\n",
      "   macro avg       0.99      0.84      0.89       872\n",
      "weighted avg       0.98      0.98      0.98       872\n",
      "\n"
     ]
    }
   ],
   "source": [
    "import torch\n",
    "import pandas as pd\n",
    "import seaborn as sns\n",
    "import matplotlib.pyplot as plt\n",
    "from sklearn.metrics import confusion_matrix, classification_report\n",
    "from torch.utils.data import TensorDataset, DataLoader\n",
    "\n",
    "# Set model to eval mode\n",
    "model.eval()\n",
    "\n",
    "# Convert test data to tensors\n",
    "X_test_tensor = torch.tensor(X_test, dtype=torch.float32)\n",
    "y_test_tensor = torch.tensor(y_test, dtype=torch.long)\n",
    "\n",
    "# Create DataLoader for batch prediction\n",
    "test_dataset = TensorDataset(X_test_tensor, y_test_tensor)\n",
    "test_loader = DataLoader(test_dataset, batch_size=128, shuffle=False)\n",
    "\n",
    "# Collect predictions\n",
    "all_preds = []\n",
    "all_targets = []\n",
    "\n",
    "with torch.no_grad():\n",
    "    for batch in test_loader:\n",
    "        x, y = batch\n",
    "        logits = model(x)\n",
    "        preds = torch.argmax(logits, dim=1)\n",
    "\n",
    "        all_preds.extend(preds.cpu().numpy())\n",
    "        all_targets.extend(y.cpu().numpy())\n",
    "\n",
    "# Plot confusion matrix and classification report\n",
    "def print_confusion_matrix(y_true, y_pred, report=True):\n",
    "    labels = sorted(list(set(y_true)))\n",
    "    cmx_data = confusion_matrix(y_true, y_pred, labels=labels)\n",
    "    \n",
    "    df_cmx = pd.DataFrame(cmx_data, index=labels, columns=labels)\n",
    " \n",
    "    fig, ax = plt.subplots(figsize=(7, 6))\n",
    "    sns.heatmap(df_cmx, annot=True, fmt='g', square=False, cmap='Blues')\n",
    "    ax.set_ylim(len(labels), 0)\n",
    "    ax.set_xlabel('Predicted')\n",
    "    ax.set_ylabel('True')\n",
    "    plt.title(\"Confusion Matrix\")\n",
    "    plt.show()\n",
    "    \n",
    "    if report:\n",
    "        print('Classification Report')\n",
    "        print(classification_report(y_true, y_pred))\n",
    "\n",
    "# Show results\n",
    "print_confusion_matrix(all_targets, all_preds)\n"
   ]
  },
  {
   "cell_type": "code",
   "execution_count": 225,
   "id": "7257b297-7eb2-4567-9941-0c1ecbaef901",
   "metadata": {},
   "outputs": [],
   "source": [
    "# Save only the weights\n",
    "torch.save(model.state_dict(), \"model/keypoint_classifier/keypoint_classifier_weights.pth\")\n"
   ]
  },
  {
   "cell_type": "code",
   "execution_count": 226,
   "id": "375c6191-f06b-49b3-9381-cb6f3331310e",
   "metadata": {},
   "outputs": [
    {
     "name": "stdout",
     "output_type": "stream",
     "text": [
      "[1.5235033e-03 9.9834740e-01 6.8261119e-11 1.2909093e-04]\n",
      "1\n"
     ]
    },
    {
     "name": "stderr",
     "output_type": "stream",
     "text": [
      "C:\\Users\\houci\\AppData\\Local\\Temp\\ipykernel_1704\\3493685169.py:10: FutureWarning: You are using `torch.load` with `weights_only=False` (the current default value), which uses the default pickle module implicitly. It is possible to construct malicious pickle data which will execute arbitrary code during unpickling (See https://github.com/pytorch/pytorch/blob/main/SECURITY.md#untrusted-models for more details). In a future release, the default value for `weights_only` will be flipped to `True`. This limits the functions that could be executed during unpickling. Arbitrary objects will no longer be allowed to be loaded via this mode unless they are explicitly allowlisted by the user via `torch.serialization.add_safe_globals`. We recommend you start setting `weights_only=True` for any use case where you don't have full control of the loaded file. Please open an issue on GitHub for any issues related to this experimental feature.\n",
      "  model.load_state_dict(torch.load(\"model/keypoint_classifier/keypoint_classifier_weights.pth\"))\n"
     ]
    }
   ],
   "source": [
    "from model.keypoint_classifier.keypoint_classifier_pyt import KeyPointClassifier\n",
    "\n",
    "  # your model definition\n",
    "import torch\n",
    "\n",
    "# Rebuild the model architecture\n",
    "model = KeypointClassifier()\n",
    "\n",
    "# Load the saved weights\n",
    "model.load_state_dict(torch.load(\"model/keypoint_classifier/keypoint_classifier_weights.pth\"))\n",
    "model.eval()\n",
    "\n",
    "\n",
    "# Prepare input tensor (e.g., one sample from X_test)\n",
    "input_tensor = torch.tensor([X_test[0]], dtype=torch.float32)\n",
    "\n",
    "# Inference\n",
    "with torch.no_grad():\n",
    "    output = model(input_tensor)\n",
    "    probs = torch.softmax(output, dim=1).squeeze()\n",
    "    predicted_class = torch.argmax(probs).item()\n",
    "\n",
    "# Output results\n",
    "print(probs.numpy())\n",
    "print(predicted_class)\n"
   ]
  },
  {
   "cell_type": "code",
   "execution_count": null,
   "id": "c4c93bb5-f06a-4dae-8566-71d9d1799973",
   "metadata": {},
   "outputs": [],
   "source": []
  },
  {
   "cell_type": "code",
   "execution_count": null,
   "id": "ce28877d-6972-4adc-87e1-3799f08e5463",
   "metadata": {},
   "outputs": [],
   "source": []
  }
 ],
 "metadata": {
  "kernelspec": {
   "display_name": "Python (Torch)",
   "language": "python",
   "name": "torch_env"
  },
  "language_info": {
   "codemirror_mode": {
    "name": "ipython",
    "version": 3
   },
   "file_extension": ".py",
   "mimetype": "text/x-python",
   "name": "python",
   "nbconvert_exporter": "python",
   "pygments_lexer": "ipython3",
   "version": "3.8.10"
  }
 },
 "nbformat": 4,
 "nbformat_minor": 5
}
