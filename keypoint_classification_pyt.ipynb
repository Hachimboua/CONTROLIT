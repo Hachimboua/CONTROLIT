{
 "cells": [
  {
   "cell_type": "code",
   "execution_count": 104,
   "id": "9cdc8b86-cdef-4e61-b2e8-3cd389e40f19",
   "metadata": {},
   "outputs": [],
   "source": [
    "import numpy as np\n",
    "import torch\n",
    "from torch.utils.data import DataLoader, TensorDataset, random_split\n",
    "import torch.nn as nn\n",
    "import torch.nn.functional as F\n",
    "import pytorch_lightning as pl\n",
    "from sklearn.model_selection import train_test_split"
   ]
  },
  {
   "cell_type": "code",
   "execution_count": 105,
   "id": "ed5c8588-7f6e-4988-af7d-a2e960db5954",
   "metadata": {},
   "outputs": [
    {
     "name": "stderr",
     "output_type": "stream",
     "text": [
      "Seed set to 42\n"
     ]
    },
    {
     "data": {
      "text/plain": [
       "42"
      ]
     },
     "execution_count": 105,
     "metadata": {},
     "output_type": "execute_result"
    }
   ],
   "source": [
    "# Configuration\n",
    "RANDOM_SEED = 42\n",
    "pl.seed_everything(RANDOM_SEED)"
   ]
  },
  {
   "cell_type": "code",
   "execution_count": 106,
   "id": "175f1668-fc0b-404f-a86f-5c96cf5c7c9f",
   "metadata": {},
   "outputs": [],
   "source": [
    "dataset_path = 'model/keypoint_classifier/keypoint.csv'\n",
    "model_save_path = 'model/keypoint_classifier/keypoint_classifier.ckpt'\n",
    "NUM_CLASSES = 5"
   ]
  },
  {
   "cell_type": "code",
   "execution_count": 107,
   "id": "72aa669f-f09c-4596-ac82-e83845e6333d",
   "metadata": {},
   "outputs": [],
   "source": [
    "# Load dataset\n",
    "X = np.loadtxt(dataset_path, delimiter=',', dtype='float32', usecols=list(range(1, 21 * 2 + 1)))\n",
    "y = np.loadtxt(dataset_path, delimiter=',', dtype='int32', usecols=(0))"
   ]
  },
  {
   "cell_type": "code",
   "execution_count": 108,
   "id": "7f866a39-9f70-4539-b82d-45eb049dbf9b",
   "metadata": {},
   "outputs": [],
   "source": [
    "# Train/test split\n",
    "X_train, X_test, y_train, y_test = train_test_split(X, y, train_size=0.75, random_state=RANDOM_SEED)"
   ]
  },
  {
   "cell_type": "code",
   "execution_count": 109,
   "id": "8bf656f9-de93-403f-bf9c-8aee000edd52",
   "metadata": {},
   "outputs": [],
   "source": [
    "# Convert to torch tensors\n",
    "X_train_tensor = torch.tensor(X_train, dtype=torch.float32)\n",
    "y_train_tensor = torch.tensor(y_train, dtype=torch.long)\n",
    "X_test_tensor = torch.tensor(X_test, dtype=torch.float32)\n",
    "y_test_tensor = torch.tensor(y_test, dtype=torch.long)\n",
    "\n",
    "train_dataset = TensorDataset(X_train_tensor, y_train_tensor)\n",
    "test_dataset = TensorDataset(X_test_tensor, y_test_tensor)\n",
    "\n",
    "train_loader = DataLoader(train_dataset, batch_size=128, shuffle=True)\n",
    "val_loader = DataLoader(test_dataset, batch_size=128)"
   ]
  },
  {
   "cell_type": "code",
   "execution_count": 110,
   "id": "ba417296-8c19-48e7-91e3-e0b4d3dc3999",
   "metadata": {},
   "outputs": [],
   "source": [
    "from torchmetrics.classification import Accuracy\n"
   ]
  },
  {
   "cell_type": "code",
   "execution_count": 111,
   "id": "ee2a1133-7efd-48ef-9332-33c84a8ffb55",
   "metadata": {},
   "outputs": [],
   "source": [
    "# Lightning module\n",
    "class KeypointClassifier(pl.LightningModule):\n",
    "    def __init__(self):\n",
    "        super().__init__()\n",
    "        self.model = nn.Sequential(\n",
    "            nn.Dropout(0.2),\n",
    "            nn.Linear(21 * 2, 20),\n",
    "            nn.ReLU(),\n",
    "            nn.Dropout(0.4),\n",
    "            nn.Linear(20, 10),\n",
    "            nn.ReLU(),\n",
    "            nn.Linear(10, NUM_CLASSES)\n",
    "        )\n",
    "        self.accuracy = Accuracy(task='multiclass', num_classes=NUM_CLASSES)\n",
    "\n",
    "    def forward(self, x):\n",
    "        return self.model(x)\n",
    "\n",
    "    def training_step(self, batch, batch_idx):\n",
    "        x, y = batch\n",
    "        logits = self(x)\n",
    "        loss = F.cross_entropy(logits, y)\n",
    "        acc = self.accuracy(logits, y)\n",
    "        self.log('train_loss', loss)\n",
    "        self.log('train_acc', acc, prog_bar=True)\n",
    "        return loss\n",
    "\n",
    "    def validation_step(self, batch, batch_idx):\n",
    "        x, y = batch\n",
    "        logits = self(x)\n",
    "        loss = F.cross_entropy(logits, y)\n",
    "        acc = self.accuracy(logits, y)\n",
    "        self.log('val_loss', loss)\n",
    "        self.log('val_acc', acc, prog_bar=True)\n",
    "\n",
    "    def configure_optimizers(self):\n",
    "        return torch.optim.Adam(self.parameters(), lr=1e-3)"
   ]
  },
  {
   "cell_type": "code",
   "execution_count": 112,
   "id": "b0c3b529-32ea-4be3-b201-64c1ef6ae530",
   "metadata": {},
   "outputs": [],
   "source": [
    "# Initialize model\n",
    "model = KeypointClassifier()"
   ]
  },
  {
   "cell_type": "code",
   "execution_count": 113,
   "id": "da6a63a2-36ef-4236-81af-b4449c0d234b",
   "metadata": {},
   "outputs": [],
   "source": [
    "# Callbacks\n",
    "early_stop_callback = pl.callbacks.EarlyStopping(monitor=\"val_loss\", patience=20, verbose=True)\n",
    "checkpoint_callback = pl.callbacks.ModelCheckpoint(\n",
    "    dirpath='model/keypoint_classifier/',\n",
    "    filename='keypoint_classifier',\n",
    "    save_top_k=1,\n",
    "    monitor='val_loss',\n",
    "    mode='min'\n",
    ")"
   ]
  },
  {
   "cell_type": "code",
   "execution_count": 114,
   "id": "47df2f96-fc5c-4ba5-93af-d7c64622df45",
   "metadata": {},
   "outputs": [
    {
     "name": "stderr",
     "output_type": "stream",
     "text": [
      "GPU available: False, used: False\n",
      "TPU available: False, using: 0 TPU cores\n",
      "HPU available: False, using: 0 HPUs\n"
     ]
    }
   ],
   "source": [
    "# Trainer\n",
    "trainer = pl.Trainer(\n",
    "    max_epochs=1000,\n",
    "    callbacks=[early_stop_callback, checkpoint_callback],\n",
    "    deterministic=True\n",
    ")"
   ]
  },
  {
   "cell_type": "code",
   "execution_count": 115,
   "id": "3254479f-6a7e-4dde-89f3-60d95fb4dff4",
   "metadata": {},
   "outputs": [
    {
     "name": "stderr",
     "output_type": "stream",
     "text": [
      "C:\\Users\\houci\\AppData\\Local\\Programs\\Python\\Python38\\lib\\site-packages\\pytorch_lightning\\callbacks\\model_checkpoint.py:654: Checkpoint directory C:\\Users\\houci\\Documents\\ENSAM\\3eme annee\\S6\\Computer Vision\\CONTROLIT\\model\\keypoint_classifier exists and is not empty.\n",
      "\n",
      "  | Name     | Type               | Params | Mode \n",
      "--------------------------------------------------------\n",
      "0 | model    | Sequential         | 1.1 K  | train\n",
      "1 | accuracy | MulticlassAccuracy | 0      | train\n",
      "--------------------------------------------------------\n",
      "1.1 K     Trainable params\n",
      "0         Non-trainable params\n",
      "1.1 K     Total params\n",
      "0.004     Total estimated model params size (MB)\n",
      "9         Modules in train mode\n",
      "0         Modules in eval mode\n"
     ]
    },
    {
     "name": "stdout",
     "output_type": "stream",
     "text": [
      "                                                                                                                       "
     ]
    },
    {
     "name": "stderr",
     "output_type": "stream",
     "text": [
      "C:\\Users\\houci\\AppData\\Local\\Programs\\Python\\Python38\\lib\\site-packages\\pytorch_lightning\\trainer\\connectors\\data_connector.py:424: The 'val_dataloader' does not have many workers which may be a bottleneck. Consider increasing the value of the `num_workers` argument` to `num_workers=3` in the `DataLoader` to improve performance.\n",
      "C:\\Users\\houci\\AppData\\Local\\Programs\\Python\\Python38\\lib\\site-packages\\pytorch_lightning\\trainer\\connectors\\data_connector.py:424: The 'train_dataloader' does not have many workers which may be a bottleneck. Consider increasing the value of the `num_workers` argument` to `num_workers=3` in the `DataLoader` to improve performance.\n",
      "C:\\Users\\houci\\AppData\\Local\\Programs\\Python\\Python38\\lib\\site-packages\\pytorch_lightning\\loops\\fit_loop.py:298: The number of training batches (25) is smaller than the logging interval Trainer(log_every_n_steps=50). Set a lower value for log_every_n_steps if you want to see logs for the training epoch.\n"
     ]
    },
    {
     "name": "stdout",
     "output_type": "stream",
     "text": [
      "Epoch 0: 100%|██████████████████████████████████████████████| 25/25 [00:00<00:00, 47.51it/s, v_num=17, train_acc=0.205]\n",
      "Validation: |                                                                                    | 0/? [00:00<?, ?it/s]\u001b[A\n",
      "Validation:   0%|                                                                                | 0/9 [00:00<?, ?it/s]\u001b[A\n",
      "Validation DataLoader 0:   0%|                                                                   | 0/9 [00:00<?, ?it/s]\u001b[A\n",
      "Validation DataLoader 0:  11%|██████▌                                                    | 1/9 [00:00<00:00, 24.35it/s]\u001b[A\n",
      "Validation DataLoader 0:  22%|█████████████                                              | 2/9 [00:00<00:00, 35.71it/s]\u001b[A\n",
      "Validation DataLoader 0:  33%|███████████████████▋                                       | 3/9 [00:00<00:00, 41.40it/s]\u001b[A\n",
      "Validation DataLoader 0:  44%|██████████████████████████▏                                | 4/9 [00:00<00:00, 43.69it/s]\u001b[A\n",
      "Validation DataLoader 0:  56%|████████████████████████████████▊                          | 5/9 [00:00<00:00, 46.49it/s]\u001b[A\n",
      "Validation DataLoader 0:  67%|███████████████████████████████████████▎                   | 6/9 [00:00<00:00, 48.45it/s]\u001b[A\n",
      "Validation DataLoader 0:  78%|█████████████████████████████████████████████▉             | 7/9 [00:00<00:00, 50.06it/s]\u001b[A\n",
      "Validation DataLoader 0:  89%|████████████████████████████████████████████████████▍      | 8/9 [00:00<00:00, 50.51it/s]\u001b[A\n",
      "Validation DataLoader 0: 100%|███████████████████████████████████████████████████████████| 9/9 [00:00<00:00, 51.68it/s]\u001b[A\n",
      "Epoch 0: 100%|███████████████████████████████| 25/25 [00:00<00:00, 33.59it/s, v_num=17, train_acc=0.205, val_acc=0.263]\u001b[A"
     ]
    },
    {
     "name": "stderr",
     "output_type": "stream",
     "text": [
      "Metric val_loss improved. New best score: 1.612\n"
     ]
    },
    {
     "name": "stdout",
     "output_type": "stream",
     "text": [
      "Epoch 1: 100%|███████████████████████████████| 25/25 [00:00<00:00, 64.20it/s, v_num=17, train_acc=0.252, val_acc=0.263]\n",
      "Validation: |                                                                                    | 0/? [00:00<?, ?it/s]\u001b[A\n",
      "Validation:   0%|                                                                                | 0/9 [00:00<?, ?it/s]\u001b[A\n",
      "Validation DataLoader 0:   0%|                                                                   | 0/9 [00:00<?, ?it/s]\u001b[A\n",
      "Validation DataLoader 0:  11%|██████▌                                                    | 1/9 [00:00<00:00, 40.51it/s]\u001b[A\n",
      "Validation DataLoader 0:  22%|█████████████                                              | 2/9 [00:00<00:00, 61.19it/s]\u001b[A\n",
      "Validation DataLoader 0:  33%|███████████████████▋                                       | 3/9 [00:00<00:00, 61.38it/s]\u001b[A\n",
      "Validation DataLoader 0:  44%|██████████████████████████▏                                | 4/9 [00:00<00:00, 61.57it/s]\u001b[A\n",
      "Validation DataLoader 0:  56%|████████████████████████████████▊                          | 5/9 [00:00<00:00, 70.64it/s]\u001b[A\n",
      "Validation DataLoader 0:  67%|███████████████████████████████████████▎                   | 6/9 [00:00<00:00, 68.56it/s]\u001b[A\n",
      "Validation DataLoader 0:  78%|█████████████████████████████████████████████▉             | 7/9 [00:00<00:00, 67.16it/s]\u001b[A\n",
      "Validation DataLoader 0:  89%|████████████████████████████████████████████████████▍      | 8/9 [00:00<00:00, 76.76it/s]\u001b[A\n",
      "Validation DataLoader 0: 100%|███████████████████████████████████████████████████████████| 9/9 [00:00<00:00, 74.28it/s]\u001b[A\n",
      "Epoch 1: 100%|███████████████████████████████| 25/25 [00:00<00:00, 44.27it/s, v_num=17, train_acc=0.252, val_acc=0.341]\u001b[A"
     ]
    },
    {
     "name": "stderr",
     "output_type": "stream",
     "text": [
      "Metric val_loss improved by 0.149 >= min_delta = 0.0. New best score: 1.464\n"
     ]
    },
    {
     "name": "stdout",
     "output_type": "stream",
     "text": [
      "Epoch 2: 100%|███████████████████████████████| 25/25 [00:00<00:00, 37.94it/s, v_num=17, train_acc=0.354, val_acc=0.341]\n",
      "Validation: |                                                                                    | 0/? [00:00<?, ?it/s]\u001b[A\n",
      "Validation:   0%|                                                                                | 0/9 [00:00<?, ?it/s]\u001b[A\n",
      "Validation DataLoader 0:   0%|                                                                   | 0/9 [00:00<?, ?it/s]\u001b[A\n",
      "Validation DataLoader 0:  11%|██████▌                                                    | 1/9 [00:00<00:00, 30.01it/s]\u001b[A\n",
      "Validation DataLoader 0:  22%|█████████████                                              | 2/9 [00:00<00:00, 39.52it/s]\u001b[A\n",
      "Validation DataLoader 0:  33%|███████████████████▋                                       | 3/9 [00:00<00:00, 45.98it/s]\u001b[A\n",
      "Validation DataLoader 0:  44%|██████████████████████████▏                                | 4/9 [00:00<00:00, 48.82it/s]\u001b[A\n",
      "Validation DataLoader 0:  56%|████████████████████████████████▊                          | 5/9 [00:00<00:00, 50.69it/s]\u001b[A\n",
      "Validation DataLoader 0:  67%|███████████████████████████████████████▎                   | 6/9 [00:00<00:00, 48.42it/s]\u001b[A\n",
      "Validation DataLoader 0:  78%|█████████████████████████████████████████████▉             | 7/9 [00:00<00:00, 49.40it/s]\u001b[A\n",
      "Validation DataLoader 0:  89%|████████████████████████████████████████████████████▍      | 8/9 [00:00<00:00, 50.33it/s]\u001b[A\n",
      "Validation DataLoader 0: 100%|███████████████████████████████████████████████████████████| 9/9 [00:00<00:00, 52.65it/s]\u001b[A\n",
      "Epoch 2: 100%|███████████████████████████████| 25/25 [00:00<00:00, 29.00it/s, v_num=17, train_acc=0.354, val_acc=0.433]\u001b[A"
     ]
    },
    {
     "name": "stderr",
     "output_type": "stream",
     "text": [
      "Metric val_loss improved by 0.140 >= min_delta = 0.0. New best score: 1.323\n"
     ]
    },
    {
     "name": "stdout",
     "output_type": "stream",
     "text": [
      "Epoch 3: 100%|███████████████████████████████| 25/25 [00:00<00:00, 61.66it/s, v_num=17, train_acc=0.425, val_acc=0.433]\n",
      "Validation: |                                                                                    | 0/? [00:00<?, ?it/s]\u001b[A\n",
      "Validation:   0%|                                                                                | 0/9 [00:00<?, ?it/s]\u001b[A\n",
      "Validation DataLoader 0:   0%|                                                                   | 0/9 [00:00<?, ?it/s]\u001b[A\n",
      "Validation DataLoader 0:  11%|██████▌                                                    | 1/9 [00:00<00:00, 62.56it/s]\u001b[A\n",
      "Validation DataLoader 0:  22%|█████████████                                              | 2/9 [00:00<00:00, 62.55it/s]\u001b[A\n",
      "Validation DataLoader 0:  33%|███████████████████▋                                       | 3/9 [00:00<00:00, 62.55it/s]\u001b[A\n",
      "Validation DataLoader 0:  44%|██████████████████████████▏                                | 4/9 [00:00<00:00, 61.13it/s]\u001b[A\n",
      "Validation DataLoader 0:  56%|████████████████████████████████▊                          | 5/9 [00:00<00:00, 67.40it/s]\u001b[A\n",
      "Validation DataLoader 0:  67%|███████████████████████████████████████▎                   | 6/9 [00:00<00:00, 66.32it/s]\u001b[A\n",
      "Validation DataLoader 0:  78%|█████████████████████████████████████████████▉             | 7/9 [00:00<00:00, 65.33it/s]\u001b[A\n",
      "Validation DataLoader 0:  89%|████████████████████████████████████████████████████▍      | 8/9 [00:00<00:00, 69.26it/s]\u001b[A\n",
      "Validation DataLoader 0: 100%|███████████████████████████████████████████████████████████| 9/9 [00:00<00:00, 68.44it/s]\u001b[A\n",
      "Epoch 3: 100%|███████████████████████████████| 25/25 [00:00<00:00, 42.27it/s, v_num=17, train_acc=0.425, val_acc=0.590]\u001b[A"
     ]
    },
    {
     "name": "stderr",
     "output_type": "stream",
     "text": [
      "Metric val_loss improved by 0.096 >= min_delta = 0.0. New best score: 1.227\n"
     ]
    },
    {
     "name": "stdout",
     "output_type": "stream",
     "text": [
      "Epoch 4: 100%|███████████████████████████████| 25/25 [00:00<00:00, 62.47it/s, v_num=17, train_acc=0.433, val_acc=0.590]\n",
      "Validation: |                                                                                    | 0/? [00:00<?, ?it/s]\u001b[A\n",
      "Validation:   0%|                                                                                | 0/9 [00:00<?, ?it/s]\u001b[A\n",
      "Validation DataLoader 0:   0%|                                                                   | 0/9 [00:00<?, ?it/s]\u001b[A\n",
      "Validation DataLoader 0:  11%|██████▌                                                    | 1/9 [00:00<00:00, 60.97it/s]\u001b[A\n",
      "Validation DataLoader 0:  22%|█████████████                                              | 2/9 [00:00<00:00, 81.97it/s]\u001b[A\n",
      "Validation DataLoader 0:  33%|███████████████████▋                                       | 3/9 [00:00<00:00, 72.93it/s]\u001b[A\n",
      "Validation DataLoader 0:  44%|██████████████████████████▏                                | 4/9 [00:00<00:00, 80.44it/s]\u001b[A\n",
      "Validation DataLoader 0:  56%|████████████████████████████████▊                          | 5/9 [00:00<00:00, 75.60it/s]\u001b[A\n",
      "Validation DataLoader 0:  67%|███████████████████████████████████████▎                   | 6/9 [00:00<00:00, 72.22it/s]\u001b[A\n",
      "Validation DataLoader 0:  78%|█████████████████████████████████████████████▉             | 7/9 [00:00<00:00, 76.86it/s]\u001b[A\n",
      "Validation DataLoader 0:  89%|████████████████████████████████████████████████████▍      | 8/9 [00:00<00:00, 80.18it/s]\u001b[A\n",
      "Validation DataLoader 0: 100%|███████████████████████████████████████████████████████████| 9/9 [00:00<00:00, 77.30it/s]\u001b[A\n",
      "Epoch 4: 100%|███████████████████████████████| 25/25 [00:00<00:00, 45.44it/s, v_num=17, train_acc=0.433, val_acc=0.604]\u001b[A"
     ]
    },
    {
     "name": "stderr",
     "output_type": "stream",
     "text": [
      "Metric val_loss improved by 0.077 >= min_delta = 0.0. New best score: 1.150\n"
     ]
    },
    {
     "name": "stdout",
     "output_type": "stream",
     "text": [
      "Epoch 5: 100%|███████████████████████████████| 25/25 [00:00<00:00, 65.16it/s, v_num=17, train_acc=0.591, val_acc=0.604]\n",
      "Validation: |                                                                                    | 0/? [00:00<?, ?it/s]\u001b[A\n",
      "Validation:   0%|                                                                                | 0/9 [00:00<?, ?it/s]\u001b[A\n",
      "Validation DataLoader 0:   0%|                                                                   | 0/9 [00:00<?, ?it/s]\u001b[A\n",
      "Validation DataLoader 0:  11%|██████▌                                                    | 1/9 [00:00<00:00, 59.98it/s]\u001b[A\n",
      "Validation DataLoader 0:  22%|█████████████                                              | 2/9 [00:00<00:00, 60.00it/s]\u001b[A\n",
      "Validation DataLoader 0:  33%|███████████████████▋                                       | 3/9 [00:00<00:00, 72.59it/s]\u001b[A\n",
      "Validation DataLoader 0:  44%|██████████████████████████▏                                | 4/9 [00:00<00:00, 80.01it/s]\u001b[A\n",
      "Validation DataLoader 0:  56%|████████████████████████████████▊                          | 5/9 [00:00<00:00, 74.98it/s]\u001b[A\n",
      "Validation DataLoader 0:  67%|███████████████████████████████████████▎                   | 6/9 [00:00<00:00, 71.82it/s]\u001b[A\n",
      "Validation DataLoader 0:  78%|█████████████████████████████████████████████▉             | 7/9 [00:00<00:00, 69.84it/s]\u001b[A\n",
      "Validation DataLoader 0:  89%|████████████████████████████████████████████████████▍      | 8/9 [00:00<00:00, 73.92it/s]\u001b[A\n",
      "Validation DataLoader 0: 100%|███████████████████████████████████████████████████████████| 9/9 [00:00<00:00, 72.08it/s]\u001b[A\n",
      "Epoch 5: 100%|███████████████████████████████| 25/25 [00:00<00:00, 45.39it/s, v_num=17, train_acc=0.591, val_acc=0.619]\u001b[A"
     ]
    },
    {
     "name": "stderr",
     "output_type": "stream",
     "text": [
      "Metric val_loss improved by 0.068 >= min_delta = 0.0. New best score: 1.083\n"
     ]
    },
    {
     "name": "stdout",
     "output_type": "stream",
     "text": [
      "Epoch 6: 100%|███████████████████████████████| 25/25 [00:00<00:00, 63.81it/s, v_num=17, train_acc=0.528, val_acc=0.619]\n",
      "Validation: |                                                                                    | 0/? [00:00<?, ?it/s]\u001b[A\n",
      "Validation:   0%|                                                                                | 0/9 [00:00<?, ?it/s]\u001b[A\n",
      "Validation DataLoader 0:   0%|                                                                   | 0/9 [00:00<?, ?it/s]\u001b[A\n",
      "Validation DataLoader 0:  11%|██████▌                                                    | 1/9 [00:00<00:00, 60.34it/s]\u001b[A\n",
      "Validation DataLoader 0:  22%|█████████████                                              | 2/9 [00:00<00:00, 81.40it/s]\u001b[A\n",
      "Validation DataLoader 0:  33%|███████████████████▋                                       | 3/9 [00:00<00:00, 73.97it/s]\u001b[A\n",
      "Validation DataLoader 0:  44%|██████████████████████████▏                                | 4/9 [00:00<00:00, 80.05it/s]\u001b[A\n",
      "Validation DataLoader 0:  56%|████████████████████████████████▊                          | 5/9 [00:00<00:00, 71.32it/s]\u001b[A\n",
      "Validation DataLoader 0:  67%|███████████████████████████████████████▎                   | 6/9 [00:00<00:00, 76.82it/s]\u001b[A\n",
      "Validation DataLoader 0:  78%|█████████████████████████████████████████████▉             | 7/9 [00:00<00:00, 76.76it/s]\u001b[A\n",
      "Validation DataLoader 0:  89%|████████████████████████████████████████████████████▍      | 8/9 [00:00<00:00, 80.06it/s]\u001b[A\n",
      "Validation DataLoader 0: 100%|███████████████████████████████████████████████████████████| 9/9 [00:00<00:00, 77.19it/s]\u001b[A\n",
      "Epoch 6: 100%|███████████████████████████████| 25/25 [00:00<00:00, 45.50it/s, v_num=17, train_acc=0.528, val_acc=0.634]\u001b[A"
     ]
    },
    {
     "name": "stderr",
     "output_type": "stream",
     "text": [
      "Metric val_loss improved by 0.066 >= min_delta = 0.0. New best score: 1.017\n"
     ]
    },
    {
     "name": "stdout",
     "output_type": "stream",
     "text": [
      "Epoch 7: 100%|███████████████████████████████| 25/25 [00:00<00:00, 66.56it/s, v_num=17, train_acc=0.535, val_acc=0.634]\n",
      "Validation: |                                                                                    | 0/? [00:00<?, ?it/s]\u001b[A\n",
      "Validation:   0%|                                                                                | 0/9 [00:00<?, ?it/s]\u001b[A\n",
      "Validation DataLoader 0:   0%|                                                                   | 0/9 [00:00<?, ?it/s]\u001b[A\n",
      "Validation DataLoader 0:  11%|██████▌                                                    | 1/9 [00:00<00:00, 62.54it/s]\u001b[A\n",
      "Validation DataLoader 0:  22%|█████████████                                              | 2/9 [00:00<00:00, 75.89it/s]\u001b[A\n",
      "Validation DataLoader 0:  33%|███████████████████▋                                       | 3/9 [00:00<00:00, 70.65it/s]\u001b[A\n",
      "Validation DataLoader 0:  44%|██████████████████████████▏                                | 4/9 [00:00<00:00, 79.27it/s]\u001b[A\n",
      "Validation DataLoader 0:  56%|████████████████████████████████▊                          | 5/9 [00:00<00:00, 84.59it/s]\u001b[A\n",
      "Validation DataLoader 0:  67%|███████████████████████████████████████▎                   | 6/9 [00:00<00:00, 79.60it/s]\u001b[A\n",
      "Validation DataLoader 0:  78%|█████████████████████████████████████████████▉             | 7/9 [00:00<00:00, 76.06it/s]\u001b[A\n",
      "Validation DataLoader 0:  89%|████████████████████████████████████████████████████▍      | 8/9 [00:00<00:00, 79.63it/s]\u001b[A\n",
      "Validation DataLoader 0: 100%|███████████████████████████████████████████████████████████| 9/9 [00:00<00:00, 82.38it/s]\u001b[A\n",
      "Epoch 7: 100%|███████████████████████████████| 25/25 [00:00<00:00, 47.58it/s, v_num=17, train_acc=0.535, val_acc=0.689]\u001b[A"
     ]
    },
    {
     "name": "stderr",
     "output_type": "stream",
     "text": [
      "Metric val_loss improved by 0.057 >= min_delta = 0.0. New best score: 0.960\n"
     ]
    },
    {
     "name": "stdout",
     "output_type": "stream",
     "text": [
      "Epoch 8: 100%|███████████████████████████████| 25/25 [00:00<00:00, 68.35it/s, v_num=17, train_acc=0.598, val_acc=0.689]\n",
      "Validation: |                                                                                    | 0/? [00:00<?, ?it/s]\u001b[A\n",
      "Validation:   0%|                                                                                | 0/9 [00:00<?, ?it/s]\u001b[A\n",
      "Validation DataLoader 0:   0%|                                                                   | 0/9 [00:00<?, ?it/s]\u001b[A\n",
      "Validation DataLoader 0:  11%|██████▌                                                    | 1/9 [00:00<00:00, 59.70it/s]\u001b[A\n",
      "Validation DataLoader 0:  22%|█████████████                                              | 2/9 [00:00<00:00, 60.33it/s]\u001b[A\n",
      "Validation DataLoader 0:  33%|███████████████████▋                                       | 3/9 [00:00<00:00, 72.43it/s]\u001b[A\n",
      "Validation DataLoader 0:  44%|██████████████████████████▏                                | 4/9 [00:00<00:00, 68.95it/s]\u001b[A\n",
      "Validation DataLoader 0:  56%|████████████████████████████████▊                          | 5/9 [00:00<00:00, 75.75it/s]\u001b[A\n",
      "Validation DataLoader 0:  67%|███████████████████████████████████████▎                   | 6/9 [00:00<00:00, 73.17it/s]\u001b[A\n",
      "Validation DataLoader 0:  78%|█████████████████████████████████████████████▉             | 7/9 [00:00<00:00, 77.79it/s]\u001b[A\n",
      "Validation DataLoader 0:  89%|████████████████████████████████████████████████████▍      | 8/9 [00:00<00:00, 75.49it/s]\u001b[A\n",
      "Validation DataLoader 0: 100%|███████████████████████████████████████████████████████████| 9/9 [00:00<00:00, 77.08it/s]\u001b[A\n",
      "Epoch 8: 100%|███████████████████████████████| 25/25 [00:00<00:00, 48.38it/s, v_num=17, train_acc=0.598, val_acc=0.699]\u001b[A"
     ]
    },
    {
     "name": "stderr",
     "output_type": "stream",
     "text": [
      "Metric val_loss improved by 0.057 >= min_delta = 0.0. New best score: 0.903\n"
     ]
    },
    {
     "name": "stdout",
     "output_type": "stream",
     "text": [
      "Epoch 9: 100%|███████████████████████████████| 25/25 [00:00<00:00, 62.47it/s, v_num=17, train_acc=0.614, val_acc=0.699]\n",
      "Validation: |                                                                                    | 0/? [00:00<?, ?it/s]\u001b[A\n",
      "Validation:   0%|                                                                                | 0/9 [00:00<?, ?it/s]\u001b[A\n",
      "Validation DataLoader 0:   0%|                                                                   | 0/9 [00:00<?, ?it/s]\u001b[A\n",
      "Validation DataLoader 0:  11%|██████▌                                                    | 1/9 [00:00<00:00, 30.85it/s]\u001b[A\n",
      "Validation DataLoader 0:  22%|█████████████                                              | 2/9 [00:00<00:00, 49.13it/s]\u001b[A\n",
      "Validation DataLoader 0:  33%|███████████████████▋                                       | 3/9 [00:00<00:00, 51.73it/s]\u001b[A\n",
      "Validation DataLoader 0:  44%|██████████████████████████▏                                | 4/9 [00:00<00:00, 60.61it/s]\u001b[A\n",
      "Validation DataLoader 0:  56%|████████████████████████████████▊                          | 5/9 [00:00<00:00, 60.75it/s]\u001b[A\n",
      "Validation DataLoader 0:  67%|███████████████████████████████████████▎                   | 6/9 [00:00<00:00, 65.93it/s]\u001b[A\n",
      "Validation DataLoader 0:  78%|█████████████████████████████████████████████▉             | 7/9 [00:00<00:00, 70.71it/s]\u001b[A\n",
      "Validation DataLoader 0:  89%|████████████████████████████████████████████████████▍      | 8/9 [00:00<00:00, 69.57it/s]\u001b[A\n",
      "Validation DataLoader 0: 100%|███████████████████████████████████████████████████████████| 9/9 [00:00<00:00, 72.38it/s]\u001b[A\n",
      "Epoch 9: 100%|███████████████████████████████| 25/25 [00:00<00:00, 39.42it/s, v_num=17, train_acc=0.614, val_acc=0.709]\u001b[A"
     ]
    },
    {
     "name": "stderr",
     "output_type": "stream",
     "text": [
      "Metric val_loss improved by 0.046 >= min_delta = 0.0. New best score: 0.857\n"
     ]
    },
    {
     "name": "stdout",
     "output_type": "stream",
     "text": [
      "Epoch 10: 100%|██████████████████████████████| 25/25 [00:00<00:00, 66.95it/s, v_num=17, train_acc=0.654, val_acc=0.709]\n",
      "Validation: |                                                                                    | 0/? [00:00<?, ?it/s]\u001b[A\n",
      "Validation:   0%|                                                                                | 0/9 [00:00<?, ?it/s]\u001b[A\n",
      "Validation DataLoader 0:   0%|                                                                   | 0/9 [00:00<?, ?it/s]\u001b[A\n",
      "Validation DataLoader 0:  11%|██████▌                                                    | 1/9 [00:00<00:00, 93.14it/s]\u001b[A\n",
      "Validation DataLoader 0:  22%|█████████████                                              | 2/9 [00:00<00:00, 73.00it/s]\u001b[A\n",
      "Validation DataLoader 0:  33%|███████████████████▋                                       | 3/9 [00:00<00:00, 84.75it/s]\u001b[A\n",
      "Validation DataLoader 0:  44%|██████████████████████████▏                                | 4/9 [00:00<00:00, 76.86it/s]\u001b[A\n",
      "Validation DataLoader 0:  56%|████████████████████████████████▊                          | 5/9 [00:00<00:00, 83.28it/s]\u001b[A\n",
      "Validation DataLoader 0:  67%|███████████████████████████████████████▎                   | 6/9 [00:00<00:00, 77.98it/s]\u001b[A\n",
      "Validation DataLoader 0:  78%|█████████████████████████████████████████████▉             | 7/9 [00:00<00:00, 82.42it/s]\u001b[A\n",
      "Validation DataLoader 0:  89%|████████████████████████████████████████████████████▍      | 8/9 [00:00<00:00, 79.27it/s]\u001b[A\n",
      "Validation DataLoader 0: 100%|███████████████████████████████████████████████████████████| 9/9 [00:00<00:00, 81.29it/s]\u001b[A\n",
      "Epoch 10: 100%|██████████████████████████████| 25/25 [00:00<00:00, 48.36it/s, v_num=17, train_acc=0.654, val_acc=0.741]\u001b[A"
     ]
    },
    {
     "name": "stderr",
     "output_type": "stream",
     "text": [
      "Metric val_loss improved by 0.046 >= min_delta = 0.0. New best score: 0.811\n"
     ]
    },
    {
     "name": "stdout",
     "output_type": "stream",
     "text": [
      "Epoch 11: 100%|██████████████████████████████| 25/25 [00:00<00:00, 71.42it/s, v_num=17, train_acc=0.646, val_acc=0.741]\n",
      "Validation: |                                                                                    | 0/? [00:00<?, ?it/s]\u001b[A\n",
      "Validation:   0%|                                                                                | 0/9 [00:00<?, ?it/s]\u001b[A\n",
      "Validation DataLoader 0:   0%|                                                                   | 0/9 [00:00<?, ?it/s]\u001b[A\n",
      "Validation DataLoader 0:  11%|██████▌                                                    | 1/9 [00:00<00:00, 59.98it/s]\u001b[A\n",
      "Validation DataLoader 0:  22%|█████████████                                              | 2/9 [00:00<00:00, 59.91it/s]\u001b[A\n",
      "Validation DataLoader 0:  33%|███████████████████▋                                       | 3/9 [00:00<00:00, 71.42it/s]\u001b[A\n",
      "Validation DataLoader 0:  44%|██████████████████████████▏                                | 4/9 [00:00<00:00, 68.08it/s]\u001b[A\n",
      "Validation DataLoader 0:  56%|████████████████████████████████▊                          | 5/9 [00:00<00:00, 74.90it/s]\u001b[A\n",
      "Validation DataLoader 0:  67%|███████████████████████████████████████▎                   | 6/9 [00:00<00:00, 71.96it/s]\u001b[A\n",
      "Validation DataLoader 0:  78%|█████████████████████████████████████████████▉             | 7/9 [00:00<00:00, 76.04it/s]\u001b[A\n",
      "Validation DataLoader 0:  89%|████████████████████████████████████████████████████▍      | 8/9 [00:00<00:00, 73.58it/s]\u001b[A\n",
      "Validation DataLoader 0: 100%|███████████████████████████████████████████████████████████| 9/9 [00:00<00:00, 77.11it/s]\u001b[A\n",
      "Epoch 11: 100%|██████████████████████████████| 25/25 [00:00<00:00, 49.20it/s, v_num=17, train_acc=0.646, val_acc=0.781]\u001b[A"
     ]
    },
    {
     "name": "stderr",
     "output_type": "stream",
     "text": [
      "Metric val_loss improved by 0.042 >= min_delta = 0.0. New best score: 0.769\n"
     ]
    },
    {
     "name": "stdout",
     "output_type": "stream",
     "text": [
      "Epoch 12: 100%|██████████████████████████████| 25/25 [00:00<00:00, 61.11it/s, v_num=17, train_acc=0.622, val_acc=0.781]\n",
      "Validation: |                                                                                    | 0/? [00:00<?, ?it/s]\u001b[A\n",
      "Validation:   0%|                                                                                | 0/9 [00:00<?, ?it/s]\u001b[A\n",
      "Validation DataLoader 0:   0%|                                                                   | 0/9 [00:00<?, ?it/s]\u001b[A\n",
      "Validation DataLoader 0:  11%|██████▌                                                    | 1/9 [00:00<00:00, 38.91it/s]\u001b[A\n",
      "Validation DataLoader 0:  22%|█████████████                                              | 2/9 [00:00<00:00, 44.48it/s]\u001b[A\n",
      "Validation DataLoader 0:  33%|███████████████████▋                                       | 3/9 [00:00<00:00, 49.82it/s]\u001b[A\n",
      "Validation DataLoader 0:  44%|██████████████████████████▏                                | 4/9 [00:00<00:00, 47.39it/s]\u001b[A\n",
      "Validation DataLoader 0:  56%|████████████████████████████████▊                          | 5/9 [00:00<00:00, 50.18it/s]\u001b[A\n",
      "Validation DataLoader 0:  67%|███████████████████████████████████████▎                   | 6/9 [00:00<00:00, 51.28it/s]\u001b[A\n",
      "Validation DataLoader 0:  78%|█████████████████████████████████████████████▉             | 7/9 [00:00<00:00, 52.51it/s]\u001b[A\n",
      "Validation DataLoader 0:  89%|████████████████████████████████████████████████████▍      | 8/9 [00:00<00:00, 53.46it/s]\u001b[A\n",
      "Validation DataLoader 0: 100%|███████████████████████████████████████████████████████████| 9/9 [00:00<00:00, 56.85it/s]\u001b[A\n",
      "Epoch 12: 100%|██████████████████████████████| 25/25 [00:00<00:00, 41.11it/s, v_num=17, train_acc=0.622, val_acc=0.784]\u001b[A"
     ]
    },
    {
     "name": "stderr",
     "output_type": "stream",
     "text": [
      "Metric val_loss improved by 0.038 >= min_delta = 0.0. New best score: 0.731\n"
     ]
    },
    {
     "name": "stdout",
     "output_type": "stream",
     "text": [
      "Epoch 13: 100%|██████████████████████████████| 25/25 [00:00<00:00, 64.83it/s, v_num=17, train_acc=0.646, val_acc=0.784]\n",
      "Validation: |                                                                                    | 0/? [00:00<?, ?it/s]\u001b[A\n",
      "Validation:   0%|                                                                                | 0/9 [00:00<?, ?it/s]\u001b[A\n",
      "Validation DataLoader 0:   0%|                                                                   | 0/9 [00:00<?, ?it/s]\u001b[A\n",
      "Validation DataLoader 0:  11%|██████▌                                                    | 1/9 [00:00<00:00, 60.32it/s]\u001b[A\n",
      "Validation DataLoader 0:  22%|█████████████                                              | 2/9 [00:00<00:00, 60.11it/s]\u001b[A\n",
      "Validation DataLoader 0:  33%|███████████████████▋                                       | 3/9 [00:00<00:00, 72.69it/s]\u001b[A\n",
      "Validation DataLoader 0:  44%|██████████████████████████▏                                | 4/9 [00:00<00:00, 69.09it/s]\u001b[A\n",
      "Validation DataLoader 0:  56%|████████████████████████████████▊                          | 5/9 [00:00<00:00, 75.16it/s]\u001b[A\n",
      "Validation DataLoader 0:  67%|███████████████████████████████████████▎                   | 6/9 [00:00<00:00, 80.52it/s]\u001b[A\n",
      "Validation DataLoader 0:  78%|█████████████████████████████████████████████▉             | 7/9 [00:00<00:00, 76.72it/s]\u001b[A\n",
      "Validation DataLoader 0:  89%|████████████████████████████████████████████████████▍      | 8/9 [00:00<00:00, 74.15it/s]\u001b[A\n",
      "Validation DataLoader 0: 100%|███████████████████████████████████████████████████████████| 9/9 [00:00<00:00, 77.26it/s]\u001b[A\n",
      "Epoch 13: 100%|██████████████████████████████| 25/25 [00:00<00:00, 46.09it/s, v_num=17, train_acc=0.646, val_acc=0.791]\u001b[A"
     ]
    },
    {
     "name": "stderr",
     "output_type": "stream",
     "text": [
      "Metric val_loss improved by 0.029 >= min_delta = 0.0. New best score: 0.702\n"
     ]
    },
    {
     "name": "stdout",
     "output_type": "stream",
     "text": [
      "Epoch 14: 100%|██████████████████████████████| 25/25 [00:00<00:00, 69.81it/s, v_num=17, train_acc=0.669, val_acc=0.791]\n",
      "Validation: |                                                                                    | 0/? [00:00<?, ?it/s]\u001b[A\n",
      "Validation:   0%|                                                                                | 0/9 [00:00<?, ?it/s]\u001b[A\n",
      "Validation DataLoader 0:   0%|                                                                   | 0/9 [00:00<?, ?it/s]\u001b[A\n",
      "Validation DataLoader 0:  11%|██████▌                                                    | 1/9 [00:00<00:00, 60.21it/s]\u001b[A\n",
      "Validation DataLoader 0:  22%|█████████████                                              | 2/9 [00:00<00:00, 79.42it/s]\u001b[A\n",
      "Validation DataLoader 0:  33%|███████████████████▋                                       | 3/9 [00:00<00:00, 71.63it/s]\u001b[A\n",
      "Validation DataLoader 0:  44%|██████████████████████████▏                                | 4/9 [00:00<00:00, 80.19it/s]\u001b[A\n",
      "Validation DataLoader 0:  56%|████████████████████████████████▊                          | 5/9 [00:00<00:00, 85.35it/s]\u001b[A\n",
      "Validation DataLoader 0:  67%|███████████████████████████████████████▎                   | 6/9 [00:00<00:00, 79.75it/s]\u001b[A\n",
      "Validation DataLoader 0:  78%|█████████████████████████████████████████████▉             | 7/9 [00:00<00:00, 84.10it/s]\u001b[A\n",
      "Validation DataLoader 0:  89%|████████████████████████████████████████████████████▍      | 8/9 [00:00<00:00, 80.63it/s]\u001b[A\n",
      "Validation DataLoader 0: 100%|███████████████████████████████████████████████████████████| 9/9 [00:00<00:00, 82.90it/s]\u001b[A\n",
      "Epoch 14: 100%|██████████████████████████████| 25/25 [00:00<00:00, 49.22it/s, v_num=17, train_acc=0.669, val_acc=0.798]\u001b[A"
     ]
    },
    {
     "name": "stderr",
     "output_type": "stream",
     "text": [
      "Metric val_loss improved by 0.036 >= min_delta = 0.0. New best score: 0.666\n"
     ]
    },
    {
     "name": "stdout",
     "output_type": "stream",
     "text": [
      "Epoch 15: 100%|██████████████████████████████| 25/25 [00:00<00:00, 53.67it/s, v_num=17, train_acc=0.591, val_acc=0.798]\n",
      "Validation: |                                                                                    | 0/? [00:00<?, ?it/s]\u001b[A\n",
      "Validation:   0%|                                                                                | 0/9 [00:00<?, ?it/s]\u001b[A\n",
      "Validation DataLoader 0:   0%|                                                                   | 0/9 [00:00<?, ?it/s]\u001b[A\n",
      "Validation DataLoader 0:  11%|██████▌                                                    | 1/9 [00:00<00:00, 41.66it/s]\u001b[A\n",
      "Validation DataLoader 0:  22%|█████████████                                              | 2/9 [00:00<00:00, 49.13it/s]\u001b[A\n",
      "Validation DataLoader 0:  33%|███████████████████▋                                       | 3/9 [00:00<00:00, 51.42it/s]\u001b[A\n",
      "Validation DataLoader 0:  44%|██████████████████████████▏                                | 4/9 [00:00<00:00, 53.20it/s]\u001b[A\n",
      "Validation DataLoader 0:  56%|████████████████████████████████▊                          | 5/9 [00:00<00:00, 55.11it/s]\u001b[A\n",
      "Validation DataLoader 0:  67%|███████████████████████████████████████▎                   | 6/9 [00:00<00:00, 60.78it/s]\u001b[A\n",
      "Validation DataLoader 0:  78%|█████████████████████████████████████████████▉             | 7/9 [00:00<00:00, 60.55it/s]\u001b[A\n",
      "Validation DataLoader 0:  89%|████████████████████████████████████████████████████▍      | 8/9 [00:00<00:00, 64.26it/s]\u001b[A\n",
      "Validation DataLoader 0: 100%|███████████████████████████████████████████████████████████| 9/9 [00:00<00:00, 67.92it/s]\u001b[A\n",
      "Epoch 15: 100%|██████████████████████████████| 25/25 [00:00<00:00, 39.49it/s, v_num=17, train_acc=0.591, val_acc=0.804]\u001b[A"
     ]
    },
    {
     "name": "stderr",
     "output_type": "stream",
     "text": [
      "Metric val_loss improved by 0.025 >= min_delta = 0.0. New best score: 0.641\n"
     ]
    },
    {
     "name": "stdout",
     "output_type": "stream",
     "text": [
      "Epoch 16: 100%|██████████████████████████████| 25/25 [00:00<00:00, 63.90it/s, v_num=17, train_acc=0.654, val_acc=0.804]\n",
      "Validation: |                                                                                    | 0/? [00:00<?, ?it/s]\u001b[A\n",
      "Validation:   0%|                                                                                | 0/9 [00:00<?, ?it/s]\u001b[A\n",
      "Validation DataLoader 0:   0%|                                                                   | 0/9 [00:00<?, ?it/s]\u001b[A\n",
      "Validation DataLoader 0:  11%|██████▌                                                    | 1/9 [00:00<00:00, 46.95it/s]\u001b[A\n",
      "Validation DataLoader 0:  22%|█████████████                                              | 2/9 [00:00<00:00, 68.27it/s]\u001b[A\n",
      "Validation DataLoader 0:  33%|███████████████████▋                                       | 3/9 [00:00<00:00, 66.24it/s]\u001b[A\n",
      "Validation DataLoader 0:  44%|██████████████████████████▏                                | 4/9 [00:00<00:00, 68.96it/s]\u001b[A\n",
      "Validation DataLoader 0:  56%|████████████████████████████████▊                          | 5/9 [00:00<00:00, 74.99it/s]\u001b[A\n",
      "Validation DataLoader 0:  67%|███████████████████████████████████████▎                   | 6/9 [00:00<00:00, 80.35it/s]\u001b[A\n",
      "Validation DataLoader 0:  78%|█████████████████████████████████████████████▉             | 7/9 [00:00<00:00, 46.67it/s]\u001b[A\n",
      "Validation DataLoader 0:  89%|████████████████████████████████████████████████████▍      | 8/9 [00:00<00:00, 47.72it/s]\u001b[A\n",
      "Validation DataLoader 0: 100%|███████████████████████████████████████████████████████████| 9/9 [00:00<00:00, 49.06it/s]\u001b[A\n",
      "Epoch 16: 100%|██████████████████████████████| 25/25 [00:00<00:00, 41.67it/s, v_num=17, train_acc=0.654, val_acc=0.803]\u001b[A"
     ]
    },
    {
     "name": "stderr",
     "output_type": "stream",
     "text": [
      "Metric val_loss improved by 0.018 >= min_delta = 0.0. New best score: 0.623\n"
     ]
    },
    {
     "name": "stdout",
     "output_type": "stream",
     "text": [
      "Epoch 17: 100%|██████████████████████████████| 25/25 [00:00<00:00, 68.25it/s, v_num=17, train_acc=0.661, val_acc=0.803]\n",
      "Validation: |                                                                                    | 0/? [00:00<?, ?it/s]\u001b[A\n",
      "Validation:   0%|                                                                                | 0/9 [00:00<?, ?it/s]\u001b[A\n",
      "Validation DataLoader 0:   0%|                                                                   | 0/9 [00:00<?, ?it/s]\u001b[A\n",
      "Validation DataLoader 0:  11%|██████▌                                                    | 1/9 [00:00<00:00, 58.90it/s]\u001b[A\n",
      "Validation DataLoader 0:  22%|█████████████                                              | 2/9 [00:00<00:00, 78.40it/s]\u001b[A\n",
      "Validation DataLoader 0:  33%|███████████████████▋                                       | 3/9 [00:00<00:00, 71.28it/s]\u001b[A\n",
      "Validation DataLoader 0:  44%|██████████████████████████▏                                | 4/9 [00:00<00:00, 79.79it/s]\u001b[A\n",
      "Validation DataLoader 0:  56%|████████████████████████████████▊                          | 5/9 [00:00<00:00, 74.90it/s]\u001b[A\n",
      "Validation DataLoader 0:  67%|███████████████████████████████████████▎                   | 6/9 [00:00<00:00, 80.05it/s]\u001b[A\n",
      "Validation DataLoader 0:  78%|█████████████████████████████████████████████▉             | 7/9 [00:00<00:00, 76.97it/s]\u001b[A\n",
      "Validation DataLoader 0:  89%|████████████████████████████████████████████████████▍      | 8/9 [00:00<00:00, 80.86it/s]\u001b[A\n",
      "Validation DataLoader 0: 100%|███████████████████████████████████████████████████████████| 9/9 [00:00<00:00, 82.79it/s]\u001b[A\n",
      "Epoch 17: 100%|██████████████████████████████| 25/25 [00:00<00:00, 49.14it/s, v_num=17, train_acc=0.661, val_acc=0.805]\u001b[A"
     ]
    },
    {
     "name": "stderr",
     "output_type": "stream",
     "text": [
      "Metric val_loss improved by 0.015 >= min_delta = 0.0. New best score: 0.608\n"
     ]
    },
    {
     "name": "stdout",
     "output_type": "stream",
     "text": [
      "Epoch 18: 100%|██████████████████████████████| 25/25 [00:00<00:00, 65.18it/s, v_num=17, train_acc=0.701, val_acc=0.805]\n",
      "Validation: |                                                                                    | 0/? [00:00<?, ?it/s]\u001b[A\n",
      "Validation:   0%|                                                                                | 0/9 [00:00<?, ?it/s]\u001b[A\n",
      "Validation DataLoader 0:   0%|                                                                   | 0/9 [00:00<?, ?it/s]\u001b[A\n",
      "Validation DataLoader 0:  11%|██████▌                                                    | 1/9 [00:00<00:00, 59.48it/s]\u001b[A\n",
      "Validation DataLoader 0:  22%|█████████████                                              | 2/9 [00:00<00:00, 60.09it/s]\u001b[A\n",
      "Validation DataLoader 0:  33%|███████████████████▋                                       | 3/9 [00:00<00:00, 60.08it/s]\u001b[A\n",
      "Validation DataLoader 0:  44%|██████████████████████████▏                                | 4/9 [00:00<00:00, 68.28it/s]\u001b[A\n",
      "Validation DataLoader 0:  56%|████████████████████████████████▊                          | 5/9 [00:00<00:00, 66.40it/s]\u001b[A\n",
      "Validation DataLoader 0:  67%|███████████████████████████████████████▎                   | 6/9 [00:00<00:00, 65.13it/s]\u001b[A\n",
      "Validation DataLoader 0:  78%|█████████████████████████████████████████████▉             | 7/9 [00:00<00:00, 69.92it/s]\u001b[A\n",
      "Validation DataLoader 0:  89%|████████████████████████████████████████████████████▍      | 8/9 [00:00<00:00, 68.56it/s]\u001b[A\n",
      "Validation DataLoader 0: 100%|███████████████████████████████████████████████████████████| 9/9 [00:00<00:00, 67.51it/s]\u001b[A\n",
      "Epoch 18: 100%|██████████████████████████████| 25/25 [00:00<00:00, 46.16it/s, v_num=17, train_acc=0.701, val_acc=0.803]\u001b[A"
     ]
    },
    {
     "name": "stderr",
     "output_type": "stream",
     "text": [
      "Metric val_loss improved by 0.019 >= min_delta = 0.0. New best score: 0.589\n"
     ]
    },
    {
     "name": "stdout",
     "output_type": "stream",
     "text": [
      "Epoch 19: 100%|██████████████████████████████| 25/25 [00:00<00:00, 69.73it/s, v_num=17, train_acc=0.543, val_acc=0.803]\n",
      "Validation: |                                                                                    | 0/? [00:00<?, ?it/s]\u001b[A\n",
      "Validation:   0%|                                                                                | 0/9 [00:00<?, ?it/s]\u001b[A\n",
      "Validation DataLoader 0:   0%|                                                                   | 0/9 [00:00<?, ?it/s]\u001b[A\n",
      "Validation DataLoader 0:  11%|██████▌                                                    | 1/9 [00:00<00:00, 62.53it/s]\u001b[A\n",
      "Validation DataLoader 0:  22%|█████████████                                              | 2/9 [00:00<00:00, 83.38it/s]\u001b[A\n",
      "Validation DataLoader 0:  33%|███████████████████▋                                       | 3/9 [00:00<00:00, 93.80it/s]\u001b[A\n",
      "Validation DataLoader 0:  44%|██████████████████████████▏                                | 4/9 [00:00<00:00, 83.38it/s]\u001b[A\n",
      "Validation DataLoader 0:  56%|████████████████████████████████▊                          | 5/9 [00:00<00:00, 89.34it/s]\u001b[A\n",
      "Validation DataLoader 0:  67%|███████████████████████████████████████▎                   | 6/9 [00:00<00:00, 89.44it/s]\u001b[A\n",
      "Validation DataLoader 0:  78%|█████████████████████████████████████████████▉             | 7/9 [00:00<00:00, 83.47it/s]\u001b[A\n",
      "Validation DataLoader 0:  89%|████████████████████████████████████████████████████▍      | 8/9 [00:00<00:00, 80.12it/s]\u001b[A\n",
      "Validation DataLoader 0: 100%|███████████████████████████████████████████████████████████| 9/9 [00:00<00:00, 82.85it/s]\u001b[A\n",
      "Epoch 19: 100%|██████████████████████████████| 25/25 [00:00<00:00, 50.06it/s, v_num=17, train_acc=0.543, val_acc=0.813]\u001b[A"
     ]
    },
    {
     "name": "stderr",
     "output_type": "stream",
     "text": [
      "Metric val_loss improved by 0.021 >= min_delta = 0.0. New best score: 0.568\n"
     ]
    },
    {
     "name": "stdout",
     "output_type": "stream",
     "text": [
      "Epoch 20: 100%|██████████████████████████████| 25/25 [00:00<00:00, 65.28it/s, v_num=17, train_acc=0.685, val_acc=0.813]\n",
      "Validation: |                                                                                    | 0/? [00:00<?, ?it/s]\u001b[A\n",
      "Validation:   0%|                                                                                | 0/9 [00:00<?, ?it/s]\u001b[A\n",
      "Validation DataLoader 0:   0%|                                                                   | 0/9 [00:00<?, ?it/s]\u001b[A\n",
      "Validation DataLoader 0:  11%|██████▌                                                    | 1/9 [00:00<00:00, 60.25it/s]\u001b[A\n",
      "Validation DataLoader 0:  22%|█████████████                                              | 2/9 [00:00<00:00, 60.09it/s]\u001b[A\n",
      "Validation DataLoader 0:  33%|███████████████████▋                                       | 3/9 [00:00<00:00, 72.67it/s]\u001b[A\n",
      "Validation DataLoader 0:  44%|██████████████████████████▏                                | 4/9 [00:00<00:00, 68.77it/s]\u001b[A\n",
      "Validation DataLoader 0:  56%|████████████████████████████████▊                          | 5/9 [00:00<00:00, 74.85it/s]\u001b[A\n",
      "Validation DataLoader 0:  67%|███████████████████████████████████████▎                   | 6/9 [00:00<00:00, 71.89it/s]\u001b[A\n",
      "Validation DataLoader 0:  78%|█████████████████████████████████████████████▉             | 7/9 [00:00<00:00, 76.54it/s]\u001b[A\n",
      "Validation DataLoader 0:  89%|████████████████████████████████████████████████████▍      | 8/9 [00:00<00:00, 73.90it/s]\u001b[A\n",
      "Validation DataLoader 0: 100%|███████████████████████████████████████████████████████████| 9/9 [00:00<00:00, 77.14it/s]\u001b[A\n",
      "Epoch 20: 100%|██████████████████████████████| 25/25 [00:00<00:00, 47.57it/s, v_num=17, train_acc=0.685, val_acc=0.814]\u001b[A"
     ]
    },
    {
     "name": "stderr",
     "output_type": "stream",
     "text": [
      "Metric val_loss improved by 0.012 >= min_delta = 0.0. New best score: 0.556\n"
     ]
    },
    {
     "name": "stdout",
     "output_type": "stream",
     "text": [
      "Epoch 21: 100%|██████████████████████████████| 25/25 [00:00<00:00, 71.56it/s, v_num=17, train_acc=0.740, val_acc=0.814]\n",
      "Validation: |                                                                                    | 0/? [00:00<?, ?it/s]\u001b[A\n",
      "Validation:   0%|                                                                                | 0/9 [00:00<?, ?it/s]\u001b[A\n",
      "Validation DataLoader 0:   0%|                                                                   | 0/9 [00:00<?, ?it/s]\u001b[A\n",
      "Validation DataLoader 0:  11%|██████▌                                                    | 1/9 [00:00<00:00, 62.55it/s]\u001b[A\n",
      "Validation DataLoader 0:  22%|█████████████                                              | 2/9 [00:00<00:00, 73.93it/s]\u001b[A\n",
      "Validation DataLoader 0:  33%|███████████████████▋                                       | 3/9 [00:00<00:00, 68.89it/s]\u001b[A\n",
      "Validation DataLoader 0:  44%|██████████████████████████▏                                | 4/9 [00:00<00:00, 77.60it/s]\u001b[A\n",
      "Validation DataLoader 0:  56%|████████████████████████████████▊                          | 5/9 [00:00<00:00, 73.26it/s]\u001b[A\n",
      "Validation DataLoader 0:  67%|███████████████████████████████████████▎                   | 6/9 [00:00<00:00, 71.22it/s]\u001b[A\n",
      "Validation DataLoader 0:  78%|█████████████████████████████████████████████▉             | 7/9 [00:00<00:00, 75.89it/s]\u001b[A\n",
      "Validation DataLoader 0:  89%|████████████████████████████████████████████████████▍      | 8/9 [00:00<00:00, 73.92it/s]\u001b[A\n",
      "Validation DataLoader 0: 100%|███████████████████████████████████████████████████████████| 9/9 [00:00<00:00, 77.43it/s]\u001b[A\n",
      "Epoch 21: 100%|██████████████████████████████| 25/25 [00:00<00:00, 49.20it/s, v_num=17, train_acc=0.740, val_acc=0.822]\u001b[A"
     ]
    },
    {
     "name": "stderr",
     "output_type": "stream",
     "text": [
      "Metric val_loss improved by 0.013 >= min_delta = 0.0. New best score: 0.544\n"
     ]
    },
    {
     "name": "stdout",
     "output_type": "stream",
     "text": [
      "Epoch 22: 100%|██████████████████████████████| 25/25 [00:00<00:00, 62.44it/s, v_num=17, train_acc=0.693, val_acc=0.822]\n",
      "Validation: |                                                                                    | 0/? [00:00<?, ?it/s]\u001b[A\n",
      "Validation:   0%|                                                                                | 0/9 [00:00<?, ?it/s]\u001b[A\n",
      "Validation DataLoader 0:   0%|                                                                   | 0/9 [00:00<?, ?it/s]\u001b[A\n",
      "Validation DataLoader 0:  11%|██████▌                                                    | 1/9 [00:00<00:00, 59.48it/s]\u001b[A\n",
      "Validation DataLoader 0:  22%|█████████████                                              | 2/9 [00:00<00:00, 80.62it/s]\u001b[A\n",
      "Validation DataLoader 0:  33%|███████████████████▋                                       | 3/9 [00:00<00:00, 71.55it/s]\u001b[A\n",
      "Validation DataLoader 0:  44%|██████████████████████████▏                                | 4/9 [00:00<00:00, 80.12it/s]\u001b[A\n",
      "Validation DataLoader 0:  56%|████████████████████████████████▊                          | 5/9 [00:00<00:00, 85.29it/s]\u001b[A\n",
      "Validation DataLoader 0:  67%|███████████████████████████████████████▎                   | 6/9 [00:00<00:00, 79.73it/s]\u001b[A\n",
      "Validation DataLoader 0:  78%|█████████████████████████████████████████████▉             | 7/9 [00:00<00:00, 84.08it/s]\u001b[A\n",
      "Validation DataLoader 0:  89%|████████████████████████████████████████████████████▍      | 8/9 [00:00<00:00, 86.63it/s]\u001b[A\n",
      "Validation DataLoader 0: 100%|███████████████████████████████████████████████████████████| 9/9 [00:00<00:00, 82.85it/s]\u001b[A\n",
      "Epoch 22: 100%|██████████████████████████████| 25/25 [00:00<00:00, 45.48it/s, v_num=17, train_acc=0.693, val_acc=0.822]\u001b[A"
     ]
    },
    {
     "name": "stderr",
     "output_type": "stream",
     "text": [
      "Metric val_loss improved by 0.014 >= min_delta = 0.0. New best score: 0.529\n"
     ]
    },
    {
     "name": "stdout",
     "output_type": "stream",
     "text": [
      "Epoch 23: 100%|██████████████████████████████| 25/25 [00:00<00:00, 69.70it/s, v_num=17, train_acc=0.685, val_acc=0.822]\n",
      "Validation: |                                                                                    | 0/? [00:00<?, ?it/s]\u001b[A\n",
      "Validation:   0%|                                                                                | 0/9 [00:00<?, ?it/s]\u001b[A\n",
      "Validation DataLoader 0:   0%|                                                                   | 0/9 [00:00<?, ?it/s]\u001b[A\n",
      "Validation DataLoader 0:  11%|██████▌                                                    | 1/9 [00:00<00:00, 60.02it/s]\u001b[A\n",
      "Validation DataLoader 0:  22%|█████████████                                              | 2/9 [00:00<00:00, 79.73it/s]\u001b[A\n",
      "Validation DataLoader 0:  33%|███████████████████▋                                       | 3/9 [00:00<00:00, 90.69it/s]\u001b[A\n",
      "Validation DataLoader 0:  44%|██████████████████████████▏                                | 4/9 [00:00<00:00, 80.07it/s]\u001b[A\n",
      "Validation DataLoader 0:  56%|████████████████████████████████▊                          | 5/9 [00:00<00:00, 85.28it/s]\u001b[A\n",
      "Validation DataLoader 0:  67%|███████████████████████████████████████▎                   | 6/9 [00:00<00:00, 79.71it/s]\u001b[A\n",
      "Validation DataLoader 0:  78%|█████████████████████████████████████████████▉             | 7/9 [00:00<00:00, 84.07it/s]\u001b[A\n",
      "Validation DataLoader 0:  89%|████████████████████████████████████████████████████▍      | 8/9 [00:00<00:00, 80.01it/s]\u001b[A\n",
      "Validation DataLoader 0: 100%|███████████████████████████████████████████████████████████| 9/9 [00:00<00:00, 82.87it/s]\u001b[A\n",
      "Epoch 23: 100%|██████████████████████████████| 25/25 [00:00<00:00, 49.99it/s, v_num=17, train_acc=0.685, val_acc=0.826]\u001b[A"
     ]
    },
    {
     "name": "stderr",
     "output_type": "stream",
     "text": [
      "Metric val_loss improved by 0.013 >= min_delta = 0.0. New best score: 0.516\n"
     ]
    },
    {
     "name": "stdout",
     "output_type": "stream",
     "text": [
      "Epoch 24: 100%|██████████████████████████████| 25/25 [00:00<00:00, 71.41it/s, v_num=17, train_acc=0.709, val_acc=0.826]\n",
      "Validation: |                                                                                    | 0/? [00:00<?, ?it/s]\u001b[A\n",
      "Validation:   0%|                                                                                | 0/9 [00:00<?, ?it/s]\u001b[A\n",
      "Validation DataLoader 0:   0%|                                                                   | 0/9 [00:00<?, ?it/s]\u001b[A\n",
      "Validation DataLoader 0:  11%|██████▌                                                    | 1/9 [00:00<00:00, 61.69it/s]\u001b[A\n",
      "Validation DataLoader 0:  22%|█████████████                                              | 2/9 [00:00<00:00, 81.06it/s]\u001b[A\n",
      "Validation DataLoader 0:  33%|███████████████████▋                                       | 3/9 [00:00<00:00, 89.81it/s]\u001b[A\n",
      "Validation DataLoader 0:  44%|██████████████████████████▏                                | 4/9 [00:00<00:00, 80.02it/s]\u001b[A\n",
      "Validation DataLoader 0:  56%|████████████████████████████████▊                          | 5/9 [00:00<00:00, 86.23it/s]\u001b[A\n",
      "Validation DataLoader 0:  67%|███████████████████████████████████████▎                   | 6/9 [00:00<00:00, 80.37it/s]\u001b[A\n",
      "Validation DataLoader 0:  78%|█████████████████████████████████████████████▉             | 7/9 [00:00<00:00, 84.01it/s]\u001b[A\n",
      "Validation DataLoader 0:  89%|████████████████████████████████████████████████████▍      | 8/9 [00:00<00:00, 87.60it/s]\u001b[A\n",
      "Validation DataLoader 0: 100%|███████████████████████████████████████████████████████████| 9/9 [00:00<00:00, 89.95it/s]\u001b[A\n",
      "Epoch 24: 100%|██████████████████████████████| 25/25 [00:00<00:00, 51.71it/s, v_num=17, train_acc=0.709, val_acc=0.837]\u001b[A"
     ]
    },
    {
     "name": "stderr",
     "output_type": "stream",
     "text": [
      "Metric val_loss improved by 0.013 >= min_delta = 0.0. New best score: 0.503\n"
     ]
    },
    {
     "name": "stdout",
     "output_type": "stream",
     "text": [
      "Epoch 25: 100%|██████████████████████████████| 25/25 [00:00<00:00, 71.41it/s, v_num=17, train_acc=0.677, val_acc=0.837]\n",
      "Validation: |                                                                                    | 0/? [00:00<?, ?it/s]\u001b[A\n",
      "Validation:   0%|                                                                                | 0/9 [00:00<?, ?it/s]\u001b[A\n",
      "Validation DataLoader 0:   0%|                                                                   | 0/9 [00:00<?, ?it/s]\u001b[A\n",
      "Validation DataLoader 0:  11%|██████▌                                                    | 1/9 [00:00<00:00, 62.53it/s]\u001b[A\n",
      "Validation DataLoader 0:  22%|█████████████                                              | 2/9 [00:00<00:00, 83.38it/s]\u001b[A\n",
      "Validation DataLoader 0:  33%|███████████████████▋                                       | 3/9 [00:00<00:00, 72.28it/s]\u001b[A\n",
      "Validation DataLoader 0:  44%|██████████████████████████▏                                | 4/9 [00:00<00:00, 79.99it/s]\u001b[A\n",
      "Validation DataLoader 0:  56%|████████████████████████████████▊                          | 5/9 [00:00<00:00, 86.20it/s]\u001b[A\n",
      "Validation DataLoader 0:  67%|███████████████████████████████████████▎                   | 6/9 [00:00<00:00, 89.96it/s]\u001b[A\n",
      "Validation DataLoader 0:  78%|█████████████████████████████████████████████▉             | 7/9 [00:00<00:00, 83.98it/s]\u001b[A\n",
      "Validation DataLoader 0:  89%|████████████████████████████████████████████████████▍      | 8/9 [00:00<00:00, 87.58it/s]\u001b[A\n",
      "Validation DataLoader 0: 100%|███████████████████████████████████████████████████████████| 9/9 [00:00<00:00, 89.88it/s]\u001b[A\n",
      "Epoch 25: 100%|██████████████████████████████| 25/25 [00:00<00:00, 50.93it/s, v_num=17, train_acc=0.677, val_acc=0.830]\u001b[A"
     ]
    },
    {
     "name": "stderr",
     "output_type": "stream",
     "text": [
      "Metric val_loss improved by 0.009 >= min_delta = 0.0. New best score: 0.494\n"
     ]
    },
    {
     "name": "stdout",
     "output_type": "stream",
     "text": [
      "Epoch 26: 100%|██████████████████████████████| 25/25 [00:00<00:00, 67.82it/s, v_num=17, train_acc=0.717, val_acc=0.830]\n",
      "Validation: |                                                                                    | 0/? [00:00<?, ?it/s]\u001b[A\n",
      "Validation:   0%|                                                                                | 0/9 [00:00<?, ?it/s]\u001b[A\n",
      "Validation DataLoader 0:   0%|                                                                   | 0/9 [00:00<?, ?it/s]\u001b[A\n",
      "Validation DataLoader 0:  11%|██████▌                                                    | 1/9 [00:00<00:00, 59.56it/s]\u001b[A\n",
      "Validation DataLoader 0:  22%|█████████████                                              | 2/9 [00:00<00:00, 59.73it/s]\u001b[A\n",
      "Validation DataLoader 0:  33%|███████████████████▋                                       | 3/9 [00:00<00:00, 71.13it/s]\u001b[A\n",
      "Validation DataLoader 0:  44%|██████████████████████████▏                                | 4/9 [00:00<00:00, 68.55it/s]\u001b[A\n",
      "Validation DataLoader 0:  56%|████████████████████████████████▊                          | 5/9 [00:00<00:00, 75.36it/s]\u001b[A\n",
      "Validation DataLoader 0:  67%|███████████████████████████████████████▎                   | 6/9 [00:00<00:00, 71.98it/s]\u001b[A\n",
      "Validation DataLoader 0:  78%|█████████████████████████████████████████████▉             | 7/9 [00:00<00:00, 75.56it/s]\u001b[A\n",
      "Validation DataLoader 0:  89%|████████████████████████████████████████████████████▍      | 8/9 [00:00<00:00, 79.49it/s]\u001b[A\n",
      "Validation DataLoader 0: 100%|███████████████████████████████████████████████████████████| 9/9 [00:00<00:00, 77.08it/s]\u001b[A\n",
      "Epoch 26: 100%|██████████████████████████████| 25/25 [00:00<00:00, 49.31it/s, v_num=17, train_acc=0.717, val_acc=0.844]\u001b[A"
     ]
    },
    {
     "name": "stderr",
     "output_type": "stream",
     "text": [
      "Metric val_loss improved by 0.003 >= min_delta = 0.0. New best score: 0.491\n"
     ]
    },
    {
     "name": "stdout",
     "output_type": "stream",
     "text": [
      "Epoch 27: 100%|██████████████████████████████| 25/25 [00:00<00:00, 50.75it/s, v_num=17, train_acc=0.677, val_acc=0.844]\n",
      "Validation: |                                                                                    | 0/? [00:00<?, ?it/s]\u001b[A\n",
      "Validation:   0%|                                                                                | 0/9 [00:00<?, ?it/s]\u001b[A\n",
      "Validation DataLoader 0:   0%|                                                                   | 0/9 [00:00<?, ?it/s]\u001b[A\n",
      "Validation DataLoader 0:  11%|██████▌                                                    | 1/9 [00:00<00:00, 51.48it/s]\u001b[A\n",
      "Validation DataLoader 0:  22%|█████████████                                              | 2/9 [00:00<00:00, 72.07it/s]\u001b[A\n",
      "Validation DataLoader 0:  33%|███████████████████▋                                       | 3/9 [00:00<00:00, 67.87it/s]\u001b[A\n",
      "Validation DataLoader 0:  44%|██████████████████████████▏                                | 4/9 [00:00<00:00, 75.74it/s]\u001b[A\n",
      "Validation DataLoader 0:  56%|████████████████████████████████▊                          | 5/9 [00:00<00:00, 70.62it/s]\u001b[A\n",
      "Validation DataLoader 0:  67%|███████████████████████████████████████▎                   | 6/9 [00:00<00:00, 76.14it/s]\u001b[A\n",
      "Validation DataLoader 0:  78%|█████████████████████████████████████████████▉             | 7/9 [00:00<00:00, 73.85it/s]\u001b[A\n",
      "Validation DataLoader 0:  89%|████████████████████████████████████████████████████▍      | 8/9 [00:00<00:00, 77.83it/s]\u001b[A\n",
      "Validation DataLoader 0: 100%|███████████████████████████████████████████████████████████| 9/9 [00:00<00:00, 81.24it/s]\u001b[A\n",
      "Epoch 27: 100%|██████████████████████████████| 25/25 [00:00<00:00, 37.49it/s, v_num=17, train_acc=0.677, val_acc=0.852]\u001b[A"
     ]
    },
    {
     "name": "stderr",
     "output_type": "stream",
     "text": [
      "Metric val_loss improved by 0.016 >= min_delta = 0.0. New best score: 0.475\n"
     ]
    },
    {
     "name": "stdout",
     "output_type": "stream",
     "text": [
      "Epoch 28: 100%|██████████████████████████████| 25/25 [00:00<00:00, 69.83it/s, v_num=17, train_acc=0.693, val_acc=0.852]\n",
      "Validation: |                                                                                    | 0/? [00:00<?, ?it/s]\u001b[A\n",
      "Validation:   0%|                                                                                | 0/9 [00:00<?, ?it/s]\u001b[A\n",
      "Validation DataLoader 0:   0%|                                                                   | 0/9 [00:00<?, ?it/s]\u001b[A\n",
      "Validation DataLoader 0:  11%|██████▌                                                    | 1/9 [00:00<00:00, 60.07it/s]\u001b[A\n",
      "Validation DataLoader 0:  22%|█████████████                                              | 2/9 [00:00<00:00, 78.85it/s]\u001b[A\n",
      "Validation DataLoader 0:  33%|███████████████████▋                                       | 3/9 [00:00<00:00, 71.49it/s]\u001b[A\n",
      "Validation DataLoader 0:  44%|██████████████████████████▏                                | 4/9 [00:00<00:00, 80.06it/s]\u001b[A\n",
      "Validation DataLoader 0:  56%|████████████████████████████████▊                          | 5/9 [00:00<00:00, 74.89it/s]\u001b[A\n",
      "Validation DataLoader 0:  67%|███████████████████████████████████████▎                   | 6/9 [00:00<00:00, 79.88it/s]\u001b[A\n",
      "Validation DataLoader 0:  78%|█████████████████████████████████████████████▉             | 7/9 [00:00<00:00, 75.99it/s]\u001b[A\n",
      "Validation DataLoader 0:  89%|████████████████████████████████████████████████████▍      | 8/9 [00:00<00:00, 79.91it/s]\u001b[A\n",
      "Validation DataLoader 0: 100%|███████████████████████████████████████████████████████████| 9/9 [00:00<00:00, 82.81it/s]\u001b[A\n",
      "Epoch 28: 100%|██████████████████████████████| 25/25 [00:00<00:00, 49.99it/s, v_num=17, train_acc=0.693, val_acc=0.852]\u001b[A"
     ]
    },
    {
     "name": "stderr",
     "output_type": "stream",
     "text": [
      "Metric val_loss improved by 0.010 >= min_delta = 0.0. New best score: 0.465\n"
     ]
    },
    {
     "name": "stdout",
     "output_type": "stream",
     "text": [
      "Epoch 29: 100%|██████████████████████████████| 25/25 [00:00<00:00, 67.12it/s, v_num=17, train_acc=0.724, val_acc=0.852]\n",
      "Validation: |                                                                                    | 0/? [00:00<?, ?it/s]\u001b[A\n",
      "Validation:   0%|                                                                                | 0/9 [00:00<?, ?it/s]\u001b[A\n",
      "Validation DataLoader 0:   0%|                                                                   | 0/9 [00:00<?, ?it/s]\u001b[A\n",
      "Validation DataLoader 0:  11%|██████▌                                                    | 1/9 [00:00<00:00, 59.52it/s]\u001b[A\n",
      "Validation DataLoader 0:  22%|█████████████                                              | 2/9 [00:00<00:00, 72.96it/s]\u001b[A\n",
      "Validation DataLoader 0:  33%|███████████████████▋                                       | 3/9 [00:00<00:00, 71.05it/s]\u001b[A\n",
      "Validation DataLoader 0:  44%|██████████████████████████▏                                | 4/9 [00:00<00:00, 68.13it/s]\u001b[A\n",
      "Validation DataLoader 0:  56%|████████████████████████████████▊                          | 5/9 [00:00<00:00, 74.95it/s]\u001b[A\n",
      "Validation DataLoader 0:  67%|███████████████████████████████████████▎                   | 6/9 [00:00<00:00, 79.57it/s]\u001b[A\n",
      "Validation DataLoader 0:  78%|█████████████████████████████████████████████▉             | 7/9 [00:00<00:00, 76.03it/s]\u001b[A\n",
      "Validation DataLoader 0:  89%|████████████████████████████████████████████████████▍      | 8/9 [00:00<00:00, 73.59it/s]\u001b[A\n",
      "Validation DataLoader 0: 100%|███████████████████████████████████████████████████████████| 9/9 [00:00<00:00, 77.11it/s]\u001b[A\n",
      "Epoch 29: 100%|██████████████████████████████| 25/25 [00:00<00:00, 46.79it/s, v_num=17, train_acc=0.724, val_acc=0.864]\u001b[A"
     ]
    },
    {
     "name": "stderr",
     "output_type": "stream",
     "text": [
      "Metric val_loss improved by 0.002 >= min_delta = 0.0. New best score: 0.463\n"
     ]
    },
    {
     "name": "stdout",
     "output_type": "stream",
     "text": [
      "Epoch 30: 100%|██████████████████████████████| 25/25 [00:00<00:00, 68.29it/s, v_num=17, train_acc=0.717, val_acc=0.864]\n",
      "Validation: |                                                                                    | 0/? [00:00<?, ?it/s]\u001b[A\n",
      "Validation:   0%|                                                                                | 0/9 [00:00<?, ?it/s]\u001b[A\n",
      "Validation DataLoader 0:   0%|                                                                   | 0/9 [00:00<?, ?it/s]\u001b[A\n",
      "Validation DataLoader 0:  11%|██████▌                                                    | 1/9 [00:00<00:00, 62.54it/s]\u001b[A\n",
      "Validation DataLoader 0:  22%|█████████████                                              | 2/9 [00:00<00:00, 83.38it/s]\u001b[A\n",
      "Validation DataLoader 0:  33%|███████████████████▋                                       | 3/9 [00:00<00:00, 75.05it/s]\u001b[A\n",
      "Validation DataLoader 0:  44%|██████████████████████████▏                                | 4/9 [00:00<00:00, 83.38it/s]\u001b[A\n",
      "Validation DataLoader 0:  56%|████████████████████████████████▊                          | 5/9 [00:00<00:00, 75.04it/s]\u001b[A\n",
      "Validation DataLoader 0:  67%|███████████████████████████████████████▎                   | 6/9 [00:00<00:00, 80.40it/s]\u001b[A\n",
      "Validation DataLoader 0:  78%|█████████████████████████████████████████████▉             | 7/9 [00:00<00:00, 83.88it/s]\u001b[A\n",
      "Validation DataLoader 0:  89%|████████████████████████████████████████████████████▍      | 8/9 [00:00<00:00, 79.61it/s]\u001b[A\n",
      "Validation DataLoader 0: 100%|███████████████████████████████████████████████████████████| 9/9 [00:00<00:00, 77.27it/s]\u001b[A\n",
      "Epoch 30: 100%|██████████████████████████████| 25/25 [00:00<00:00, 48.42it/s, v_num=17, train_acc=0.717, val_acc=0.856]\u001b[A"
     ]
    },
    {
     "name": "stderr",
     "output_type": "stream",
     "text": [
      "Metric val_loss improved by 0.009 >= min_delta = 0.0. New best score: 0.453\n"
     ]
    },
    {
     "name": "stdout",
     "output_type": "stream",
     "text": [
      "Epoch 31: 100%|██████████████████████████████| 25/25 [00:00<00:00, 66.78it/s, v_num=17, train_acc=0.803, val_acc=0.856]\n",
      "Validation: |                                                                                    | 0/? [00:00<?, ?it/s]\u001b[A\n",
      "Validation:   0%|                                                                                | 0/9 [00:00<?, ?it/s]\u001b[A\n",
      "Validation DataLoader 0:   0%|                                                                   | 0/9 [00:00<?, ?it/s]\u001b[A\n",
      "Validation DataLoader 0:  11%|██████▌                                                    | 1/9 [00:00<00:00, 59.80it/s]\u001b[A\n",
      "Validation DataLoader 0:  22%|█████████████                                              | 2/9 [00:00<00:00, 78.84it/s]\u001b[A\n",
      "Validation DataLoader 0:  33%|███████████████████▋                                       | 3/9 [00:00<00:00, 89.91it/s]\u001b[A\n",
      "Validation DataLoader 0:  44%|██████████████████████████▏                                | 4/9 [00:00<00:00, 79.98it/s]\u001b[A\n",
      "Validation DataLoader 0:  56%|████████████████████████████████▊                          | 5/9 [00:00<00:00, 74.95it/s]\u001b[A\n",
      "Validation DataLoader 0:  67%|███████████████████████████████████████▎                   | 6/9 [00:00<00:00, 79.54it/s]\u001b[A\n",
      "Validation DataLoader 0:  78%|█████████████████████████████████████████████▉             | 7/9 [00:00<00:00, 75.78it/s]\u001b[A\n",
      "Validation DataLoader 0:  89%|████████████████████████████████████████████████████▍      | 8/9 [00:00<00:00, 79.70it/s]\u001b[A\n",
      "Validation DataLoader 0: 100%|███████████████████████████████████████████████████████████| 9/9 [00:00<00:00, 77.35it/s]\u001b[A\n",
      "Epoch 31: 100%|██████████████████████████████| 25/25 [00:00<00:00, 47.68it/s, v_num=17, train_acc=0.803, val_acc=0.864]\u001b[A"
     ]
    },
    {
     "name": "stderr",
     "output_type": "stream",
     "text": [
      "Metric val_loss improved by 0.005 >= min_delta = 0.0. New best score: 0.448\n"
     ]
    },
    {
     "name": "stdout",
     "output_type": "stream",
     "text": [
      "Epoch 32: 100%|██████████████████████████████| 25/25 [00:00<00:00, 69.85it/s, v_num=17, train_acc=0.803, val_acc=0.864]\n",
      "Validation: |                                                                                    | 0/? [00:00<?, ?it/s]\u001b[A\n",
      "Validation:   0%|                                                                                | 0/9 [00:00<?, ?it/s]\u001b[A\n",
      "Validation DataLoader 0:   0%|                                                                   | 0/9 [00:00<?, ?it/s]\u001b[A\n",
      "Validation DataLoader 0:  11%|██████▌                                                    | 1/9 [00:00<00:00, 60.24it/s]\u001b[A\n",
      "Validation DataLoader 0:  22%|█████████████                                              | 2/9 [00:00<00:00, 79.24it/s]\u001b[A\n",
      "Validation DataLoader 0:  33%|███████████████████▋                                       | 3/9 [00:00<00:00, 71.41it/s]\u001b[A\n",
      "Validation DataLoader 0:  44%|██████████████████████████▏                                | 4/9 [00:00<00:00, 68.26it/s]\u001b[A\n",
      "Validation DataLoader 0:  56%|████████████████████████████████▊                          | 5/9 [00:00<00:00, 75.08it/s]\u001b[A\n",
      "Validation DataLoader 0:  67%|███████████████████████████████████████▎                   | 6/9 [00:00<00:00, 71.97it/s]\u001b[A\n",
      "Validation DataLoader 0:  78%|█████████████████████████████████████████████▉             | 7/9 [00:00<00:00, 76.07it/s]\u001b[A\n",
      "Validation DataLoader 0:  89%|████████████████████████████████████████████████████▍      | 8/9 [00:00<00:00, 73.61it/s]\u001b[A\n",
      "Validation DataLoader 0: 100%|███████████████████████████████████████████████████████████| 9/9 [00:00<00:00, 77.14it/s]\u001b[A\n",
      "Epoch 32: 100%|██████████████████████████████| 25/25 [00:00<00:00, 49.16it/s, v_num=17, train_acc=0.803, val_acc=0.868]\u001b[A"
     ]
    },
    {
     "name": "stderr",
     "output_type": "stream",
     "text": [
      "Metric val_loss improved by 0.007 >= min_delta = 0.0. New best score: 0.442\n"
     ]
    },
    {
     "name": "stdout",
     "output_type": "stream",
     "text": [
      "Epoch 33: 100%|██████████████████████████████| 25/25 [00:00<00:00, 63.66it/s, v_num=17, train_acc=0.732, val_acc=0.868]\n",
      "Validation: |                                                                                    | 0/? [00:00<?, ?it/s]\u001b[A\n",
      "Validation:   0%|                                                                                | 0/9 [00:00<?, ?it/s]\u001b[A\n",
      "Validation DataLoader 0:   0%|                                                                   | 0/9 [00:00<?, ?it/s]\u001b[A\n",
      "Validation DataLoader 0:  11%|██████▌                                                    | 1/9 [00:00<00:00, 40.30it/s]\u001b[A\n",
      "Validation DataLoader 0:  22%|█████████████                                              | 2/9 [00:00<00:00, 48.72it/s]\u001b[A\n",
      "Validation DataLoader 0:  33%|███████████████████▋                                       | 3/9 [00:00<00:00, 52.30it/s]\u001b[A\n",
      "Validation DataLoader 0:  44%|██████████████████████████▏                                | 4/9 [00:00<00:00, 60.55it/s]\u001b[A\n",
      "Validation DataLoader 0:  56%|████████████████████████████████▊                          | 5/9 [00:00<00:00, 60.41it/s]\u001b[A\n",
      "Validation DataLoader 0:  67%|███████████████████████████████████████▎                   | 6/9 [00:00<00:00, 60.23it/s]\u001b[A\n",
      "Validation DataLoader 0:  78%|█████████████████████████████████████████████▉             | 7/9 [00:00<00:00, 64.91it/s]\u001b[A\n",
      "Validation DataLoader 0:  89%|████████████████████████████████████████████████████▍      | 8/9 [00:00<00:00, 64.04it/s]\u001b[A\n",
      "Validation DataLoader 0: 100%|███████████████████████████████████████████████████████████| 9/9 [00:00<00:00, 67.71it/s]\u001b[A\n",
      "Epoch 33: 100%|██████████████████████████████| 25/25 [00:00<00:00, 43.40it/s, v_num=17, train_acc=0.732, val_acc=0.877]\u001b[A"
     ]
    },
    {
     "name": "stderr",
     "output_type": "stream",
     "text": [
      "Metric val_loss improved by 0.004 >= min_delta = 0.0. New best score: 0.438\n"
     ]
    },
    {
     "name": "stdout",
     "output_type": "stream",
     "text": [
      "Epoch 34: 100%|██████████████████████████████| 25/25 [00:00<00:00, 48.44it/s, v_num=17, train_acc=0.685, val_acc=0.877]\n",
      "Validation: |                                                                                    | 0/? [00:00<?, ?it/s]\u001b[A\n",
      "Validation:   0%|                                                                                | 0/9 [00:00<?, ?it/s]\u001b[A\n",
      "Validation DataLoader 0:   0%|                                                                   | 0/9 [00:00<?, ?it/s]\u001b[A\n",
      "Validation DataLoader 0:  11%|██████▌                                                    | 1/9 [00:00<00:00, 56.38it/s]\u001b[A\n",
      "Validation DataLoader 0:  22%|█████████████                                              | 2/9 [00:00<00:00, 77.71it/s]\u001b[A\n",
      "Validation DataLoader 0:  33%|███████████████████▋                                       | 3/9 [00:00<00:00, 70.69it/s]\u001b[A\n",
      "Validation DataLoader 0:  44%|██████████████████████████▏                                | 4/9 [00:00<00:00, 78.26it/s]\u001b[A\n",
      "Validation DataLoader 0:  56%|████████████████████████████████▊                          | 5/9 [00:00<00:00, 73.28it/s]\u001b[A\n",
      "Validation DataLoader 0:  67%|███████████████████████████████████████▎                   | 6/9 [00:00<00:00, 87.74it/s]\u001b[A\n",
      "Validation DataLoader 0:  78%|█████████████████████████████████████████████▉             | 7/9 [00:00<00:00, 82.30it/s]\u001b[A\n",
      "Validation DataLoader 0:  89%|████████████████████████████████████████████████████▍      | 8/9 [00:00<00:00, 76.98it/s]\u001b[A\n",
      "Validation DataLoader 0: 100%|███████████████████████████████████████████████████████████| 9/9 [00:00<00:00, 80.30it/s]\u001b[A\n",
      "Epoch 34: 100%|██████████████████████████████| 25/25 [00:00<00:00, 37.49it/s, v_num=17, train_acc=0.685, val_acc=0.881]\u001b[A"
     ]
    },
    {
     "name": "stderr",
     "output_type": "stream",
     "text": [
      "Metric val_loss improved by 0.011 >= min_delta = 0.0. New best score: 0.427\n"
     ]
    },
    {
     "name": "stdout",
     "output_type": "stream",
     "text": [
      "Epoch 35: 100%|██████████████████████████████| 25/25 [00:00<00:00, 57.76it/s, v_num=17, train_acc=0.740, val_acc=0.881]\n",
      "Validation: |                                                                                    | 0/? [00:00<?, ?it/s]\u001b[A\n",
      "Validation:   0%|                                                                                | 0/9 [00:00<?, ?it/s]\u001b[A\n",
      "Validation DataLoader 0:   0%|                                                                   | 0/9 [00:00<?, ?it/s]\u001b[A\n",
      "Validation DataLoader 0:  11%|██████▌                                                    | 1/9 [00:00<00:00, 62.54it/s]\u001b[A\n",
      "Validation DataLoader 0:  22%|█████████████                                              | 2/9 [00:00<00:00, 83.38it/s]\u001b[A\n",
      "Validation DataLoader 0:  33%|███████████████████▋                                       | 3/9 [00:00<00:00, 72.76it/s]\u001b[A\n",
      "Validation DataLoader 0:  44%|██████████████████████████▏                                | 4/9 [00:00<00:00, 80.11it/s]\u001b[A\n",
      "Validation DataLoader 0:  56%|████████████████████████████████▊                          | 5/9 [00:00<00:00, 75.12it/s]\u001b[A\n",
      "Validation DataLoader 0:  67%|███████████████████████████████████████▎                   | 6/9 [00:00<00:00, 80.47it/s]\u001b[A\n",
      "Validation DataLoader 0:  78%|█████████████████████████████████████████████▉             | 7/9 [00:00<00:00, 76.65it/s]\u001b[A\n",
      "Validation DataLoader 0:  89%|████████████████████████████████████████████████████▍      | 8/9 [00:00<00:00, 80.55it/s]\u001b[A\n",
      "Validation DataLoader 0: 100%|███████████████████████████████████████████████████████████| 9/9 [00:00<00:00, 78.05it/s]\u001b[A\n",
      "Epoch 35: 100%|██████████████████████████████| 25/25 [00:00<00:00, 42.40it/s, v_num=17, train_acc=0.740, val_acc=0.881]\u001b[A"
     ]
    },
    {
     "name": "stderr",
     "output_type": "stream",
     "text": [
      "Metric val_loss improved by 0.001 >= min_delta = 0.0. New best score: 0.426\n"
     ]
    },
    {
     "name": "stdout",
     "output_type": "stream",
     "text": [
      "Epoch 36: 100%|██████████████████████████████| 25/25 [00:00<00:00, 66.49it/s, v_num=17, train_acc=0.701, val_acc=0.881]\n",
      "Validation: |                                                                                    | 0/? [00:00<?, ?it/s]\u001b[A\n",
      "Validation:   0%|                                                                                | 0/9 [00:00<?, ?it/s]\u001b[A\n",
      "Validation DataLoader 0:   0%|                                                                   | 0/9 [00:00<?, ?it/s]\u001b[A\n",
      "Validation DataLoader 0:  11%|██████▌                                                    | 1/9 [00:00<00:00, 40.06it/s]\u001b[A\n",
      "Validation DataLoader 0:  22%|█████████████                                              | 2/9 [00:00<00:00, 48.01it/s]\u001b[A\n",
      "Validation DataLoader 0:  33%|███████████████████▋                                       | 3/9 [00:00<00:00, 51.79it/s]\u001b[A\n",
      "Validation DataLoader 0:  44%|██████████████████████████▏                                | 4/9 [00:00<00:00, 53.82it/s]\u001b[A\n",
      "Validation DataLoader 0:  56%|████████████████████████████████▊                          | 5/9 [00:00<00:00, 55.18it/s]\u001b[A\n",
      "Validation DataLoader 0:  67%|███████████████████████████████████████▎                   | 6/9 [00:00<00:00, 55.38it/s]\u001b[A\n",
      "Validation DataLoader 0:  78%|█████████████████████████████████████████████▉             | 7/9 [00:00<00:00, 55.98it/s]\u001b[A\n",
      "Validation DataLoader 0:  89%|████████████████████████████████████████████████████▍      | 8/9 [00:00<00:00, 56.46it/s]\u001b[A\n",
      "Validation DataLoader 0: 100%|███████████████████████████████████████████████████████████| 9/9 [00:00<00:00, 59.85it/s]\u001b[A\n",
      "Epoch 36: 100%|██████████████████████████████| 25/25 [00:00<00:00, 44.16it/s, v_num=17, train_acc=0.701, val_acc=0.880]\u001b[A"
     ]
    },
    {
     "name": "stderr",
     "output_type": "stream",
     "text": [
      "Metric val_loss improved by 0.007 >= min_delta = 0.0. New best score: 0.420\n"
     ]
    },
    {
     "name": "stdout",
     "output_type": "stream",
     "text": [
      "Epoch 37: 100%|██████████████████████████████| 25/25 [00:00<00:00, 69.77it/s, v_num=17, train_acc=0.701, val_acc=0.880]\n",
      "Validation: |                                                                                    | 0/? [00:00<?, ?it/s]\u001b[A\n",
      "Validation:   0%|                                                                                | 0/9 [00:00<?, ?it/s]\u001b[A\n",
      "Validation DataLoader 0:   0%|                                                                   | 0/9 [00:00<?, ?it/s]\u001b[A\n",
      "Validation DataLoader 0:  11%|██████▌                                                    | 1/9 [00:00<00:00, 62.54it/s]\u001b[A\n",
      "Validation DataLoader 0:  22%|█████████████                                              | 2/9 [00:00<00:00, 83.39it/s]\u001b[A\n",
      "Validation DataLoader 0:  33%|███████████████████▋                                       | 3/9 [00:00<00:00, 75.04it/s]\u001b[A\n",
      "Validation DataLoader 0:  44%|██████████████████████████▏                                | 4/9 [00:00<00:00, 83.39it/s]\u001b[A\n",
      "Validation DataLoader 0:  56%|████████████████████████████████▊                          | 5/9 [00:00<00:00, 85.17it/s]\u001b[A\n",
      "Validation DataLoader 0:  67%|███████████████████████████████████████▎                   | 6/9 [00:00<00:00, 79.58it/s]\u001b[A\n",
      "Validation DataLoader 0:  78%|█████████████████████████████████████████████▉             | 7/9 [00:00<00:00, 75.92it/s]\u001b[A\n",
      "Validation DataLoader 0:  89%|████████████████████████████████████████████████████▍      | 8/9 [00:00<00:00, 79.84it/s]\u001b[A\n",
      "Validation DataLoader 0: 100%|███████████████████████████████████████████████████████████| 9/9 [00:00<00:00, 76.95it/s]\u001b[A\n",
      "Epoch 37: 100%|██████████████████████████████| 25/25 [00:00<00:00, 49.22it/s, v_num=17, train_acc=0.701, val_acc=0.886]\u001b[A"
     ]
    },
    {
     "name": "stderr",
     "output_type": "stream",
     "text": [
      "Metric val_loss improved by 0.006 >= min_delta = 0.0. New best score: 0.414\n"
     ]
    },
    {
     "name": "stdout",
     "output_type": "stream",
     "text": [
      "Epoch 38: 100%|██████████████████████████████| 25/25 [00:00<00:00, 66.36it/s, v_num=17, train_acc=0.780, val_acc=0.886]\n",
      "Validation: |                                                                                    | 0/? [00:00<?, ?it/s]\u001b[A\n",
      "Validation:   0%|                                                                                | 0/9 [00:00<?, ?it/s]\u001b[A\n",
      "Validation DataLoader 0:   0%|                                                                   | 0/9 [00:00<?, ?it/s]\u001b[A\n",
      "Validation DataLoader 0:  11%|██████▌                                                    | 1/9 [00:00<00:00, 59.98it/s]\u001b[A\n",
      "Validation DataLoader 0:  22%|█████████████                                              | 2/9 [00:00<00:00, 60.04it/s]\u001b[A\n",
      "Validation DataLoader 0:  33%|███████████████████▋                                       | 3/9 [00:00<00:00, 71.50it/s]\u001b[A\n",
      "Validation DataLoader 0:  44%|██████████████████████████▏                                | 4/9 [00:00<00:00, 68.19it/s]\u001b[A\n",
      "Validation DataLoader 0:  56%|████████████████████████████████▊                          | 5/9 [00:00<00:00, 66.30it/s]\u001b[A\n",
      "Validation DataLoader 0:  67%|███████████████████████████████████████▎                   | 6/9 [00:00<00:00, 71.93it/s]\u001b[A\n",
      "Validation DataLoader 0:  78%|█████████████████████████████████████████████▉             | 7/9 [00:00<00:00, 70.03it/s]\u001b[A\n",
      "Validation DataLoader 0:  89%|████████████████████████████████████████████████████▍      | 8/9 [00:00<00:00, 74.11it/s]\u001b[A\n",
      "Validation DataLoader 0: 100%|███████████████████████████████████████████████████████████| 9/9 [00:00<00:00, 71.85it/s]\u001b[A\n",
      "Epoch 38: 100%|██████████████████████████████| 25/25 [00:00<00:00, 46.70it/s, v_num=17, train_acc=0.780, val_acc=0.892]\u001b[A"
     ]
    },
    {
     "name": "stderr",
     "output_type": "stream",
     "text": [
      "Metric val_loss improved by 0.001 >= min_delta = 0.0. New best score: 0.412\n"
     ]
    },
    {
     "name": "stdout",
     "output_type": "stream",
     "text": [
      "Epoch 39: 100%|██████████████████████████████| 25/25 [00:00<00:00, 71.27it/s, v_num=17, train_acc=0.780, val_acc=0.892]\n",
      "Validation: |                                                                                    | 0/? [00:00<?, ?it/s]\u001b[A\n",
      "Validation:   0%|                                                                                | 0/9 [00:00<?, ?it/s]\u001b[A\n",
      "Validation DataLoader 0:   0%|                                                                   | 0/9 [00:00<?, ?it/s]\u001b[A\n",
      "Validation DataLoader 0:  11%|██████▌                                                    | 1/9 [00:00<00:00, 60.04it/s]\u001b[A\n",
      "Validation DataLoader 0:  22%|█████████████                                              | 2/9 [00:00<00:00, 58.98it/s]\u001b[A\n",
      "Validation DataLoader 0:  33%|███████████████████▋                                       | 3/9 [00:00<00:00, 71.59it/s]\u001b[A\n",
      "Validation DataLoader 0:  44%|██████████████████████████▏                                | 4/9 [00:00<00:00, 68.92it/s]\u001b[A\n",
      "Validation DataLoader 0:  56%|████████████████████████████████▊                          | 5/9 [00:00<00:00, 75.03it/s]\u001b[A\n",
      "Validation DataLoader 0:  67%|███████████████████████████████████████▎                   | 6/9 [00:00<00:00, 72.61it/s]\u001b[A\n",
      "Validation DataLoader 0:  78%|█████████████████████████████████████████████▉             | 7/9 [00:00<00:00, 70.98it/s]\u001b[A\n",
      "Validation DataLoader 0:  89%|████████████████████████████████████████████████████▍      | 8/9 [00:00<00:00, 74.07it/s]\u001b[A\n",
      "Validation DataLoader 0: 100%|███████████████████████████████████████████████████████████| 9/9 [00:00<00:00, 77.21it/s]\u001b[A\n",
      "Epoch 39: 100%|██████████████████████████████| 25/25 [00:00<00:00, 49.13it/s, v_num=17, train_acc=0.780, val_acc=0.889]\u001b[A"
     ]
    },
    {
     "name": "stderr",
     "output_type": "stream",
     "text": [
      "Metric val_loss improved by 0.010 >= min_delta = 0.0. New best score: 0.402\n"
     ]
    },
    {
     "name": "stdout",
     "output_type": "stream",
     "text": [
      "Epoch 40: 100%|██████████████████████████████| 25/25 [00:00<00:00, 69.55it/s, v_num=17, train_acc=0.701, val_acc=0.889]\n",
      "Validation: |                                                                                    | 0/? [00:00<?, ?it/s]\u001b[A\n",
      "Validation:   0%|                                                                                | 0/9 [00:00<?, ?it/s]\u001b[A\n",
      "Validation DataLoader 0:   0%|                                                                   | 0/9 [00:00<?, ?it/s]\u001b[A\n",
      "Validation DataLoader 0:  11%|██████▌                                                    | 1/9 [00:00<00:00, 59.35it/s]\u001b[A\n",
      "Validation DataLoader 0:  22%|█████████████                                              | 2/9 [00:00<00:00, 78.94it/s]\u001b[A\n",
      "Validation DataLoader 0:  33%|███████████████████▋                                       | 3/9 [00:00<00:00, 90.00it/s]\u001b[A\n",
      "Validation DataLoader 0:  44%|██████████████████████████▏                                | 4/9 [00:00<00:00, 79.95it/s]\u001b[A\n",
      "Validation DataLoader 0:  56%|████████████████████████████████▊                          | 5/9 [00:00<00:00, 85.12it/s]\u001b[A\n",
      "Validation DataLoader 0:  67%|███████████████████████████████████████▎                   | 6/9 [00:00<00:00, 79.81it/s]\u001b[A\n",
      "Validation DataLoader 0:  78%|█████████████████████████████████████████████▉             | 7/9 [00:00<00:00, 84.16it/s]\u001b[A\n",
      "Validation DataLoader 0:  89%|████████████████████████████████████████████████████▍      | 8/9 [00:00<00:00, 87.06it/s]\u001b[A\n",
      "Validation DataLoader 0: 100%|███████████████████████████████████████████████████████████| 9/9 [00:00<00:00, 82.92it/s]\u001b[A\n",
      "Epoch 40: 100%|██████████████████████████████| 25/25 [00:00<00:00, 49.93it/s, v_num=17, train_acc=0.701, val_acc=0.897]\u001b[A"
     ]
    },
    {
     "name": "stderr",
     "output_type": "stream",
     "text": [
      "Metric val_loss improved by 0.003 >= min_delta = 0.0. New best score: 0.399\n"
     ]
    },
    {
     "name": "stdout",
     "output_type": "stream",
     "text": [
      "Epoch 41: 100%|██████████████████████████████| 25/25 [00:00<00:00, 67.64it/s, v_num=17, train_acc=0.677, val_acc=0.897]\n",
      "Validation: |                                                                                    | 0/? [00:00<?, ?it/s]\u001b[A\n",
      "Validation:   0%|                                                                                | 0/9 [00:00<?, ?it/s]\u001b[A\n",
      "Validation DataLoader 0:   0%|                                                                   | 0/9 [00:00<?, ?it/s]\u001b[A\n",
      "Validation DataLoader 0:  11%|██████▌                                                    | 1/9 [00:00<00:00, 60.56it/s]\u001b[A\n",
      "Validation DataLoader 0:  22%|█████████████                                              | 2/9 [00:00<00:00, 60.28it/s]\u001b[A\n",
      "Validation DataLoader 0:  33%|███████████████████▋                                       | 3/9 [00:00<00:00, 72.86it/s]\u001b[A\n",
      "Validation DataLoader 0:  44%|██████████████████████████▏                                | 4/9 [00:00<00:00, 69.19it/s]\u001b[A\n",
      "Validation DataLoader 0:  56%|████████████████████████████████▊                          | 5/9 [00:00<00:00, 75.24it/s]\u001b[A\n",
      "Validation DataLoader 0:  67%|███████████████████████████████████████▎                   | 6/9 [00:00<00:00, 72.22it/s]\u001b[A\n",
      "Validation DataLoader 0:  78%|█████████████████████████████████████████████▉             | 7/9 [00:00<00:00, 76.86it/s]\u001b[A\n",
      "Validation DataLoader 0:  89%|████████████████████████████████████████████████████▍      | 8/9 [00:00<00:00, 73.29it/s]\u001b[A\n",
      "Validation DataLoader 0: 100%|███████████████████████████████████████████████████████████| 9/9 [00:00<00:00, 77.29it/s]\u001b[A\n",
      "Epoch 41: 100%|██████████████████████████████| 25/25 [00:00<00:00, 47.89it/s, v_num=17, train_acc=0.677, val_acc=0.900]\u001b[A"
     ]
    },
    {
     "name": "stderr",
     "output_type": "stream",
     "text": [
      "Metric val_loss improved by 0.004 >= min_delta = 0.0. New best score: 0.395\n"
     ]
    },
    {
     "name": "stdout",
     "output_type": "stream",
     "text": [
      "Epoch 42: 100%|██████████████████████████████| 25/25 [00:00<00:00, 65.30it/s, v_num=17, train_acc=0.787, val_acc=0.900]\n",
      "Validation: |                                                                                    | 0/? [00:00<?, ?it/s]\u001b[A\n",
      "Validation:   0%|                                                                                | 0/9 [00:00<?, ?it/s]\u001b[A\n",
      "Validation DataLoader 0:   0%|                                                                   | 0/9 [00:00<?, ?it/s]\u001b[A\n",
      "Validation DataLoader 0:  11%|██████▌                                                    | 1/9 [00:00<00:00, 58.66it/s]\u001b[A\n",
      "Validation DataLoader 0:  22%|█████████████                                              | 2/9 [00:00<00:00, 58.59it/s]\u001b[A\n",
      "Validation DataLoader 0:  33%|███████████████████▋                                       | 3/9 [00:00<00:00, 71.35it/s]\u001b[A\n",
      "Validation DataLoader 0:  44%|██████████████████████████▏                                | 4/9 [00:00<00:00, 68.23it/s]\u001b[A\n",
      "Validation DataLoader 0:  56%|████████████████████████████████▊                          | 5/9 [00:00<00:00, 75.05it/s]\u001b[A\n",
      "Validation DataLoader 0:  67%|███████████████████████████████████████▎                   | 6/9 [00:00<00:00, 79.56it/s]\u001b[A\n",
      "Validation DataLoader 0:  78%|█████████████████████████████████████████████▉             | 7/9 [00:00<00:00, 76.21it/s]\u001b[A\n",
      "Validation DataLoader 0:  89%|████████████████████████████████████████████████████▍      | 8/9 [00:00<00:00, 73.70it/s]\u001b[A\n",
      "Validation DataLoader 0: 100%|███████████████████████████████████████████████████████████| 9/9 [00:00<00:00, 77.23it/s]\u001b[A\n",
      "Epoch 42: 100%|██████████████████████████████| 25/25 [00:00<00:00, 46.90it/s, v_num=17, train_acc=0.787, val_acc=0.900]\u001b[A"
     ]
    },
    {
     "name": "stderr",
     "output_type": "stream",
     "text": [
      "Metric val_loss improved by 0.005 >= min_delta = 0.0. New best score: 0.390\n"
     ]
    },
    {
     "name": "stdout",
     "output_type": "stream",
     "text": [
      "Epoch 43: 100%|██████████████████████████████| 25/25 [00:00<00:00, 68.02it/s, v_num=17, train_acc=0.732, val_acc=0.900]\n",
      "Validation: |                                                                                    | 0/? [00:00<?, ?it/s]\u001b[A\n",
      "Validation:   0%|                                                                                | 0/9 [00:00<?, ?it/s]\u001b[A\n",
      "Validation DataLoader 0:   0%|                                                                   | 0/9 [00:00<?, ?it/s]\u001b[A\n",
      "Validation DataLoader 0:  11%|██████▌                                                    | 1/9 [00:00<00:00, 60.26it/s]\u001b[A\n",
      "Validation DataLoader 0:  22%|█████████████                                              | 2/9 [00:00<00:00, 81.33it/s]\u001b[A\n",
      "Validation DataLoader 0:  33%|███████████████████▋                                       | 3/9 [00:00<00:00, 92.07it/s]\u001b[A\n",
      "Validation DataLoader 0:  44%|██████████████████████████▏                                | 4/9 [00:00<00:00, 82.35it/s]\u001b[A\n",
      "Validation DataLoader 0:  56%|████████████████████████████████▊                          | 5/9 [00:00<00:00, 88.38it/s]\u001b[A\n",
      "Validation DataLoader 0:  67%|███████████████████████████████████████▎                   | 6/9 [00:00<00:00, 82.69it/s]\u001b[A\n",
      "Validation DataLoader 0:  78%|█████████████████████████████████████████████▉             | 7/9 [00:00<00:00, 86.90it/s]\u001b[A\n",
      "Validation DataLoader 0:  89%|████████████████████████████████████████████████████▍      | 8/9 [00:00<00:00, 82.86it/s]\u001b[A\n",
      "Validation DataLoader 0: 100%|███████████████████████████████████████████████████████████| 9/9 [00:00<00:00, 86.09it/s]\u001b[A\n",
      "Epoch 43: 100%|██████████████████████████████| 25/25 [00:00<00:00, 48.83it/s, v_num=17, train_acc=0.732, val_acc=0.901]\u001b[A"
     ]
    },
    {
     "name": "stderr",
     "output_type": "stream",
     "text": [
      "Metric val_loss improved by 0.005 >= min_delta = 0.0. New best score: 0.385\n"
     ]
    },
    {
     "name": "stdout",
     "output_type": "stream",
     "text": [
      "Epoch 44: 100%|██████████████████████████████| 25/25 [00:00<00:00, 66.99it/s, v_num=17, train_acc=0.748, val_acc=0.901]\n",
      "Validation: |                                                                                    | 0/? [00:00<?, ?it/s]\u001b[A\n",
      "Validation:   0%|                                                                                | 0/9 [00:00<?, ?it/s]\u001b[A\n",
      "Validation DataLoader 0:   0%|                                                                   | 0/9 [00:00<?, ?it/s]\u001b[A\n",
      "Validation DataLoader 0:  11%|██████▌                                                    | 1/9 [00:00<00:00, 60.93it/s]\u001b[A\n",
      "Validation DataLoader 0:  22%|█████████████                                              | 2/9 [00:00<00:00, 60.51it/s]\u001b[A\n",
      "Validation DataLoader 0:  33%|███████████████████▋                                       | 3/9 [00:00<00:00, 71.89it/s]\u001b[A\n",
      "Validation DataLoader 0:  44%|██████████████████████████▏                                | 4/9 [00:00<00:00, 68.55it/s]\u001b[A\n",
      "Validation DataLoader 0:  56%|████████████████████████████████▊                          | 5/9 [00:00<00:00, 75.35it/s]\u001b[A\n",
      "Validation DataLoader 0:  67%|███████████████████████████████████████▎                   | 6/9 [00:00<00:00, 72.21it/s]\u001b[A\n",
      "Validation DataLoader 0:  78%|█████████████████████████████████████████████▉             | 7/9 [00:00<00:00, 76.30it/s]\u001b[A\n",
      "Validation DataLoader 0:  89%|████████████████████████████████████████████████████▍      | 8/9 [00:00<00:00, 74.26it/s]\u001b[A\n",
      "Validation DataLoader 0: 100%|███████████████████████████████████████████████████████████| 9/9 [00:00<00:00, 77.77it/s]\u001b[A\n",
      "Epoch 44: 100%|██████████████████████████████| 25/25 [00:00<00:00, 48.74it/s, v_num=17, train_acc=0.748, val_acc=0.903]\u001b[A"
     ]
    },
    {
     "name": "stderr",
     "output_type": "stream",
     "text": [
      "Metric val_loss improved by 0.005 >= min_delta = 0.0. New best score: 0.380\n"
     ]
    },
    {
     "name": "stdout",
     "output_type": "stream",
     "text": [
      "Epoch 45: 100%|██████████████████████████████| 25/25 [00:00<00:00, 69.57it/s, v_num=17, train_acc=0.748, val_acc=0.903]\n",
      "Validation: |                                                                                    | 0/? [00:00<?, ?it/s]\u001b[A\n",
      "Validation:   0%|                                                                                | 0/9 [00:00<?, ?it/s]\u001b[A\n",
      "Validation DataLoader 0:   0%|                                                                   | 0/9 [00:00<?, ?it/s]\u001b[A\n",
      "Validation DataLoader 0:  11%|██████▌                                                    | 1/9 [00:00<00:00, 62.54it/s]\u001b[A\n",
      "Validation DataLoader 0:  22%|█████████████                                              | 2/9 [00:00<00:00, 60.76it/s]\u001b[A\n",
      "Validation DataLoader 0:  33%|███████████████████▋                                       | 3/9 [00:00<00:00, 57.31it/s]\u001b[A\n",
      "Validation DataLoader 0:  44%|██████████████████████████▏                                | 4/9 [00:00<00:00, 59.22it/s]\u001b[A\n",
      "Validation DataLoader 0:  56%|████████████████████████████████▊                          | 5/9 [00:00<00:00, 59.46it/s]\u001b[A\n",
      "Validation DataLoader 0:  67%|███████████████████████████████████████▎                   | 6/9 [00:00<00:00, 55.69it/s]\u001b[A\n",
      "Validation DataLoader 0:  78%|█████████████████████████████████████████████▉             | 7/9 [00:00<00:00, 55.95it/s]\u001b[A\n",
      "Validation DataLoader 0:  89%|████████████████████████████████████████████████████▍      | 8/9 [00:00<00:00, 59.98it/s]\u001b[A\n",
      "Validation DataLoader 0: 100%|███████████████████████████████████████████████████████████| 9/9 [00:00<00:00, 59.97it/s]\u001b[A\n",
      "Epoch 45: 100%|██████████████████████████████| 25/25 [00:00<00:00, 44.78it/s, v_num=17, train_acc=0.748, val_acc=0.901]\u001b[A"
     ]
    },
    {
     "name": "stderr",
     "output_type": "stream",
     "text": [
      "Metric val_loss improved by 0.003 >= min_delta = 0.0. New best score: 0.377\n"
     ]
    },
    {
     "name": "stdout",
     "output_type": "stream",
     "text": [
      "Epoch 46: 100%|██████████████████████████████| 25/25 [00:00<00:00, 61.09it/s, v_num=17, train_acc=0.772, val_acc=0.901]\n",
      "Validation: |                                                                                    | 0/? [00:00<?, ?it/s]\u001b[A\n",
      "Validation:   0%|                                                                                | 0/9 [00:00<?, ?it/s]\u001b[A\n",
      "Validation DataLoader 0:   0%|                                                                   | 0/9 [00:00<?, ?it/s]\u001b[A\n",
      "Validation DataLoader 0:  11%|██████▌                                                    | 1/9 [00:00<00:00, 79.72it/s]\u001b[A\n",
      "Validation DataLoader 0:  22%|█████████████                                              | 2/9 [00:00<00:00, 68.63it/s]\u001b[A\n",
      "Validation DataLoader 0:  33%|███████████████████▋                                       | 3/9 [00:00<00:00, 79.38it/s]\u001b[A\n",
      "Validation DataLoader 0:  44%|██████████████████████████▏                                | 4/9 [00:00<00:00, 72.05it/s]\u001b[A\n",
      "Validation DataLoader 0:  56%|████████████████████████████████▊                          | 5/9 [00:00<00:00, 70.32it/s]\u001b[A\n",
      "Validation DataLoader 0:  67%|███████████████████████████████████████▎                   | 6/9 [00:00<00:00, 68.44it/s]\u001b[A\n",
      "Validation DataLoader 0:  78%|█████████████████████████████████████████████▉             | 7/9 [00:00<00:00, 67.21it/s]\u001b[A\n",
      "Validation DataLoader 0:  89%|████████████████████████████████████████████████████▍      | 8/9 [00:00<00:00, 66.06it/s]\u001b[A\n",
      "Validation DataLoader 0: 100%|███████████████████████████████████████████████████████████| 9/9 [00:00<00:00, 69.35it/s]\u001b[A\n",
      "Epoch 46: 100%|██████████████████████████████| 25/25 [00:00<00:00, 43.48it/s, v_num=17, train_acc=0.772, val_acc=0.900]\u001b[A"
     ]
    },
    {
     "name": "stderr",
     "output_type": "stream",
     "text": [
      "Metric val_loss improved by 0.005 >= min_delta = 0.0. New best score: 0.372\n"
     ]
    },
    {
     "name": "stdout",
     "output_type": "stream",
     "text": [
      "Epoch 47: 100%|██████████████████████████████| 25/25 [00:00<00:00, 65.09it/s, v_num=17, train_acc=0.669, val_acc=0.900]\n",
      "Validation: |                                                                                    | 0/? [00:00<?, ?it/s]\u001b[A\n",
      "Validation:   0%|                                                                                | 0/9 [00:00<?, ?it/s]\u001b[A\n",
      "Validation DataLoader 0:   0%|                                                                   | 0/9 [00:00<?, ?it/s]\u001b[A\n",
      "Validation DataLoader 0:  11%|██████▌                                                    | 1/9 [00:00<00:00, 62.54it/s]\u001b[A\n",
      "Validation DataLoader 0:  22%|█████████████                                              | 2/9 [00:00<00:00, 60.80it/s]\u001b[A\n",
      "Validation DataLoader 0:  33%|███████████████████▋                                       | 3/9 [00:00<00:00, 72.32it/s]\u001b[A\n",
      "Validation DataLoader 0:  44%|██████████████████████████▏                                | 4/9 [00:00<00:00, 80.84it/s]\u001b[A\n",
      "Validation DataLoader 0:  56%|████████████████████████████████▊                          | 5/9 [00:00<00:00, 74.46it/s]\u001b[A\n",
      "Validation DataLoader 0:  67%|███████████████████████████████████████▎                   | 6/9 [00:00<00:00, 72.90it/s]\u001b[A\n",
      "Validation DataLoader 0:  78%|█████████████████████████████████████████████▉             | 7/9 [00:00<00:00, 69.89it/s]\u001b[A\n",
      "Validation DataLoader 0:  89%|████████████████████████████████████████████████████▍      | 8/9 [00:00<00:00, 69.02it/s]\u001b[A\n",
      "Validation DataLoader 0: 100%|███████████████████████████████████████████████████████████| 9/9 [00:00<00:00, 67.03it/s]\u001b[A\n",
      "Epoch 47: 100%|██████████████████████████████| 25/25 [00:00<00:00, 45.26it/s, v_num=17, train_acc=0.669, val_acc=0.903]\u001b[A"
     ]
    },
    {
     "name": "stderr",
     "output_type": "stream",
     "text": [
      "Metric val_loss improved by 0.006 >= min_delta = 0.0. New best score: 0.366\n"
     ]
    },
    {
     "name": "stdout",
     "output_type": "stream",
     "text": [
      "Epoch 48: 100%|██████████████████████████████| 25/25 [00:00<00:00, 52.44it/s, v_num=17, train_acc=0.803, val_acc=0.903]\n",
      "Validation: |                                                                                    | 0/? [00:00<?, ?it/s]\u001b[A\n",
      "Validation:   0%|                                                                                | 0/9 [00:00<?, ?it/s]\u001b[A\n",
      "Validation DataLoader 0:   0%|                                                                   | 0/9 [00:00<?, ?it/s]\u001b[A\n",
      "Validation DataLoader 0:  11%|██████▌                                                    | 1/9 [00:00<00:00, 40.16it/s]\u001b[A\n",
      "Validation DataLoader 0:  22%|█████████████                                              | 2/9 [00:00<00:00, 48.59it/s]\u001b[A\n",
      "Validation DataLoader 0:  33%|███████████████████▋                                       | 3/9 [00:00<00:00, 61.03it/s]\u001b[A\n",
      "Validation DataLoader 0:  44%|██████████████████████████▏                                | 4/9 [00:00<00:00, 60.16it/s]\u001b[A\n",
      "Validation DataLoader 0:  56%|████████████████████████████████▊                          | 5/9 [00:00<00:00, 60.95it/s]\u001b[A\n",
      "Validation DataLoader 0:  67%|███████████████████████████████████████▎                   | 6/9 [00:00<00:00, 55.87it/s]\u001b[A\n",
      "Validation DataLoader 0:  78%|█████████████████████████████████████████████▉             | 7/9 [00:00<00:00, 56.45it/s]\u001b[A\n",
      "Validation DataLoader 0:  89%|████████████████████████████████████████████████████▍      | 8/9 [00:00<00:00, 56.86it/s]\u001b[A\n",
      "Validation DataLoader 0: 100%|███████████████████████████████████████████████████████████| 9/9 [00:00<00:00, 57.13it/s]\u001b[A\n",
      "Epoch 48: 100%|██████████████████████████████| 25/25 [00:00<00:00, 37.05it/s, v_num=17, train_acc=0.803, val_acc=0.901]\u001b[A"
     ]
    },
    {
     "name": "stderr",
     "output_type": "stream",
     "text": [
      "Metric val_loss improved by 0.008 >= min_delta = 0.0. New best score: 0.358\n"
     ]
    },
    {
     "name": "stdout",
     "output_type": "stream",
     "text": [
      "Epoch 49: 100%|██████████████████████████████| 25/25 [00:00<00:00, 68.42it/s, v_num=17, train_acc=0.756, val_acc=0.901]\n",
      "Validation: |                                                                                    | 0/? [00:00<?, ?it/s]\u001b[A\n",
      "Validation:   0%|                                                                                | 0/9 [00:00<?, ?it/s]\u001b[A\n",
      "Validation DataLoader 0:   0%|                                                                   | 0/9 [00:00<?, ?it/s]\u001b[A\n",
      "Validation DataLoader 0:  11%|██████▌                                                    | 1/9 [00:00<00:00, 62.54it/s]\u001b[A\n",
      "Validation DataLoader 0:  22%|█████████████                                              | 2/9 [00:00<00:00, 83.38it/s]\u001b[A\n",
      "Validation DataLoader 0:  33%|███████████████████▋                                       | 3/9 [00:00<00:00, 75.05it/s]\u001b[A\n",
      "Validation DataLoader 0:  44%|██████████████████████████▏                                | 4/9 [00:00<00:00, 83.39it/s]\u001b[A\n",
      "Validation DataLoader 0:  56%|████████████████████████████████▊                          | 5/9 [00:00<00:00, 78.17it/s]\u001b[A\n",
      "Validation DataLoader 0:  67%|███████████████████████████████████████▎                   | 6/9 [00:00<00:00, 80.25it/s]\u001b[A\n",
      "Validation DataLoader 0:  78%|█████████████████████████████████████████████▉             | 7/9 [00:00<00:00, 83.92it/s]\u001b[A\n",
      "Validation DataLoader 0:  89%|████████████████████████████████████████████████████▍      | 8/9 [00:00<00:00, 79.66it/s]\u001b[A\n",
      "Validation DataLoader 0: 100%|███████████████████████████████████████████████████████████| 9/9 [00:00<00:00, 83.01it/s]\u001b[A\n",
      "Epoch 50: 100%|██████████████████████████████| 25/25 [00:00<00:00, 68.18it/s, v_num=17, train_acc=0.819, val_acc=0.909]\u001b[A\n",
      "Validation: |                                                                                    | 0/? [00:00<?, ?it/s]\u001b[A\n",
      "Validation:   0%|                                                                                | 0/9 [00:00<?, ?it/s]\u001b[A\n",
      "Validation DataLoader 0:   0%|                                                                   | 0/9 [00:00<?, ?it/s]\u001b[A\n",
      "Validation DataLoader 0:  11%|██████▌                                                    | 1/9 [00:00<00:00, 62.54it/s]\u001b[A\n",
      "Validation DataLoader 0:  22%|█████████████                                              | 2/9 [00:00<00:00, 62.54it/s]\u001b[A\n",
      "Validation DataLoader 0:  33%|███████████████████▋                                       | 3/9 [00:00<00:00, 75.05it/s]\u001b[A\n",
      "Validation DataLoader 0:  44%|██████████████████████████▏                                | 4/9 [00:00<00:00, 71.47it/s]\u001b[A\n",
      "Validation DataLoader 0:  56%|████████████████████████████████▊                          | 5/9 [00:00<00:00, 74.95it/s]\u001b[A\n",
      "Validation DataLoader 0:  67%|███████████████████████████████████████▎                   | 6/9 [00:00<00:00, 79.44it/s]\u001b[A\n",
      "Validation DataLoader 0:  78%|█████████████████████████████████████████████▉             | 7/9 [00:00<00:00, 83.81it/s]\u001b[A\n",
      "Validation DataLoader 0:  89%|████████████████████████████████████████████████████▍      | 8/9 [00:00<00:00, 79.95it/s]\u001b[A\n",
      "Validation DataLoader 0: 100%|███████████████████████████████████████████████████████████| 9/9 [00:00<00:00, 83.11it/s]\u001b[A\n",
      "Epoch 50: 100%|██████████████████████████████| 25/25 [00:00<00:00, 50.11it/s, v_num=17, train_acc=0.819, val_acc=0.913]\u001b[A"
     ]
    },
    {
     "name": "stderr",
     "output_type": "stream",
     "text": [
      "Metric val_loss improved by 0.009 >= min_delta = 0.0. New best score: 0.350\n"
     ]
    },
    {
     "name": "stdout",
     "output_type": "stream",
     "text": [
      "Epoch 51: 100%|██████████████████████████████| 25/25 [00:00<00:00, 56.30it/s, v_num=17, train_acc=0.764, val_acc=0.913]\n",
      "Validation: |                                                                                    | 0/? [00:00<?, ?it/s]\u001b[A\n",
      "Validation:   0%|                                                                                | 0/9 [00:00<?, ?it/s]\u001b[A\n",
      "Validation DataLoader 0:   0%|                                                                   | 0/9 [00:00<?, ?it/s]\u001b[A\n",
      "Validation DataLoader 0:  11%|██████▌                                                    | 1/9 [00:00<00:00, 62.26it/s]\u001b[A\n",
      "Validation DataLoader 0:  22%|█████████████                                              | 2/9 [00:00<00:00, 61.29it/s]\u001b[A\n",
      "Validation DataLoader 0:  33%|███████████████████▋                                       | 3/9 [00:00<00:00, 72.07it/s]\u001b[A\n",
      "Validation DataLoader 0:  44%|██████████████████████████▏                                | 4/9 [00:00<00:00, 68.67it/s]\u001b[A\n",
      "Validation DataLoader 0:  56%|████████████████████████████████▊                          | 5/9 [00:00<00:00, 75.48it/s]\u001b[A\n",
      "Validation DataLoader 0:  67%|███████████████████████████████████████▎                   | 6/9 [00:00<00:00, 79.96it/s]\u001b[A\n",
      "Validation DataLoader 0:  78%|█████████████████████████████████████████████▉             | 7/9 [00:00<00:00, 76.42it/s]\u001b[A\n",
      "Validation DataLoader 0:  89%|████████████████████████████████████████████████████▍      | 8/9 [00:00<00:00, 80.32it/s]\u001b[A\n",
      "Validation DataLoader 0: 100%|███████████████████████████████████████████████████████████| 9/9 [00:00<00:00, 77.37it/s]\u001b[A\n",
      "Epoch 51: 100%|██████████████████████████████| 25/25 [00:00<00:00, 41.52it/s, v_num=17, train_acc=0.764, val_acc=0.918]\u001b[A"
     ]
    },
    {
     "name": "stderr",
     "output_type": "stream",
     "text": [
      "Metric val_loss improved by 0.004 >= min_delta = 0.0. New best score: 0.346\n"
     ]
    },
    {
     "name": "stdout",
     "output_type": "stream",
     "text": [
      "Epoch 52: 100%|██████████████████████████████| 25/25 [00:00<00:00, 42.88it/s, v_num=17, train_acc=0.724, val_acc=0.918]\n",
      "Validation: |                                                                                    | 0/? [00:00<?, ?it/s]\u001b[A\n",
      "Validation:   0%|                                                                                | 0/9 [00:00<?, ?it/s]\u001b[A\n",
      "Validation DataLoader 0:   0%|                                                                   | 0/9 [00:00<?, ?it/s]\u001b[A\n",
      "Validation DataLoader 0:  11%|██████▌                                                    | 1/9 [00:00<00:00, 40.49it/s]\u001b[A\n",
      "Validation DataLoader 0:  22%|█████████████                                              | 2/9 [00:00<00:00, 49.55it/s]\u001b[A\n",
      "Validation DataLoader 0:  33%|███████████████████▋                                       | 3/9 [00:00<00:00, 51.99it/s]\u001b[A\n",
      "Validation DataLoader 0:  44%|██████████████████████████▏                                | 4/9 [00:00<00:00, 49.41it/s]\u001b[A\n",
      "Validation DataLoader 0:  56%|████████████████████████████████▊                          | 5/9 [00:00<00:00, 51.22it/s]\u001b[A\n",
      "Validation DataLoader 0:  67%|███████████████████████████████████████▎                   | 6/9 [00:00<00:00, 54.88it/s]\u001b[A\n",
      "Validation DataLoader 0:  78%|█████████████████████████████████████████████▉             | 7/9 [00:00<00:00, 56.42it/s]\u001b[A\n",
      "Validation DataLoader 0:  89%|████████████████████████████████████████████████████▍      | 8/9 [00:00<00:00, 53.69it/s]\u001b[A\n",
      "Validation DataLoader 0: 100%|███████████████████████████████████████████████████████████| 9/9 [00:00<00:00, 54.77it/s]\u001b[A\n",
      "Epoch 53: 100%|██████████████████████████████| 25/25 [00:00<00:00, 53.82it/s, v_num=17, train_acc=0.654, val_acc=0.915]\u001b[A\n",
      "Validation: |                                                                                    | 0/? [00:00<?, ?it/s]\u001b[A\n",
      "Validation:   0%|                                                                                | 0/9 [00:00<?, ?it/s]\u001b[A\n",
      "Validation DataLoader 0:   0%|                                                                   | 0/9 [00:00<?, ?it/s]\u001b[A\n",
      "Validation DataLoader 0:  11%|██████▌                                                    | 1/9 [00:00<00:00, 60.03it/s]\u001b[A\n",
      "Validation DataLoader 0:  22%|█████████████                                              | 2/9 [00:00<00:00, 78.95it/s]\u001b[A\n",
      "Validation DataLoader 0:  33%|███████████████████▋                                       | 3/9 [00:00<00:00, 69.45it/s]\u001b[A\n",
      "Validation DataLoader 0:  44%|██████████████████████████▏                                | 4/9 [00:00<00:00, 68.21it/s]\u001b[A\n",
      "Validation DataLoader 0:  56%|████████████████████████████████▊                          | 5/9 [00:00<00:00, 75.03it/s]\u001b[A\n",
      "Validation DataLoader 0:  67%|███████████████████████████████████████▎                   | 6/9 [00:00<00:00, 72.61it/s]\u001b[A\n",
      "Validation DataLoader 0:  78%|█████████████████████████████████████████████▉             | 7/9 [00:00<00:00, 76.14it/s]\u001b[A\n",
      "Validation DataLoader 0:  89%|████████████████████████████████████████████████████▍      | 8/9 [00:00<00:00, 80.06it/s]\u001b[A\n",
      "Validation DataLoader 0: 100%|███████████████████████████████████████████████████████████| 9/9 [00:00<00:00, 77.14it/s]\u001b[A\n",
      "Epoch 53: 100%|██████████████████████████████| 25/25 [00:00<00:00, 40.69it/s, v_num=17, train_acc=0.654, val_acc=0.919]\u001b[A"
     ]
    },
    {
     "name": "stderr",
     "output_type": "stream",
     "text": [
      "Metric val_loss improved by 0.001 >= min_delta = 0.0. New best score: 0.345\n"
     ]
    },
    {
     "name": "stdout",
     "output_type": "stream",
     "text": [
      "Epoch 54: 100%|██████████████████████████████| 25/25 [00:00<00:00, 52.43it/s, v_num=17, train_acc=0.756, val_acc=0.919]\n",
      "Validation: |                                                                                    | 0/? [00:00<?, ?it/s]\u001b[A\n",
      "Validation:   0%|                                                                                | 0/9 [00:00<?, ?it/s]\u001b[A\n",
      "Validation DataLoader 0:   0%|                                                                   | 0/9 [00:00<?, ?it/s]\u001b[A\n",
      "Validation DataLoader 0:  11%|██████▌                                                    | 1/9 [00:00<00:00, 62.60it/s]\u001b[A\n",
      "Validation DataLoader 0:  22%|█████████████                                              | 2/9 [00:00<00:00, 61.49it/s]\u001b[A\n",
      "Validation DataLoader 0:  33%|███████████████████▋                                       | 3/9 [00:00<00:00, 72.38it/s]\u001b[A\n",
      "Validation DataLoader 0:  44%|██████████████████████████▏                                | 4/9 [00:00<00:00, 68.46it/s]\u001b[A\n",
      "Validation DataLoader 0:  56%|████████████████████████████████▊                          | 5/9 [00:00<00:00, 75.27it/s]\u001b[A\n",
      "Validation DataLoader 0:  67%|███████████████████████████████████████▎                   | 6/9 [00:00<00:00, 72.27it/s]\u001b[A\n",
      "Validation DataLoader 0:  78%|█████████████████████████████████████████████▉             | 7/9 [00:00<00:00, 76.31it/s]\u001b[A\n",
      "Validation DataLoader 0:  89%|████████████████████████████████████████████████████▍      | 8/9 [00:00<00:00, 80.21it/s]\u001b[A\n",
      "Validation DataLoader 0: 100%|███████████████████████████████████████████████████████████| 9/9 [00:00<00:00, 81.48it/s]\u001b[A\n",
      "Epoch 54: 100%|██████████████████████████████| 25/25 [00:00<00:00, 39.88it/s, v_num=17, train_acc=0.756, val_acc=0.915]\u001b[A"
     ]
    },
    {
     "name": "stderr",
     "output_type": "stream",
     "text": [
      "Metric val_loss improved by 0.004 >= min_delta = 0.0. New best score: 0.340\n"
     ]
    },
    {
     "name": "stdout",
     "output_type": "stream",
     "text": [
      "Epoch 55: 100%|██████████████████████████████| 25/25 [00:00<00:00, 47.03it/s, v_num=17, train_acc=0.819, val_acc=0.915]\n",
      "Validation: |                                                                                    | 0/? [00:00<?, ?it/s]\u001b[A\n",
      "Validation:   0%|                                                                                | 0/9 [00:00<?, ?it/s]\u001b[A\n",
      "Validation DataLoader 0:   0%|                                                                   | 0/9 [00:00<?, ?it/s]\u001b[A\n",
      "Validation DataLoader 0:  11%|██████▌                                                    | 1/9 [00:00<00:00, 59.96it/s]\u001b[A\n",
      "Validation DataLoader 0:  22%|█████████████                                              | 2/9 [00:00<00:00, 79.09it/s]\u001b[A\n",
      "Validation DataLoader 0:  33%|███████████████████▋                                       | 3/9 [00:00<00:00, 72.67it/s]\u001b[A\n",
      "Validation DataLoader 0:  44%|██████████████████████████▏                                | 4/9 [00:00<00:00, 81.17it/s]\u001b[A\n",
      "Validation DataLoader 0:  56%|████████████████████████████████▊                          | 5/9 [00:00<00:00, 76.61it/s]\u001b[A\n",
      "Validation DataLoader 0:  67%|███████████████████████████████████████▎                   | 6/9 [00:00<00:00, 81.90it/s]\u001b[A\n",
      "Validation DataLoader 0:  78%|█████████████████████████████████████████████▉             | 7/9 [00:00<00:00, 76.09it/s]\u001b[A\n",
      "Validation DataLoader 0:  89%|████████████████████████████████████████████████████▍      | 8/9 [00:00<00:00, 80.01it/s]\u001b[A\n",
      "Validation DataLoader 0: 100%|███████████████████████████████████████████████████████████| 9/9 [00:00<00:00, 82.85it/s]\u001b[A\n",
      "Epoch 55: 100%|██████████████████████████████| 25/25 [00:00<00:00, 36.57it/s, v_num=17, train_acc=0.819, val_acc=0.915]\u001b[A"
     ]
    },
    {
     "name": "stderr",
     "output_type": "stream",
     "text": [
      "Metric val_loss improved by 0.002 >= min_delta = 0.0. New best score: 0.339\n"
     ]
    },
    {
     "name": "stdout",
     "output_type": "stream",
     "text": [
      "Epoch 56: 100%|██████████████████████████████| 25/25 [00:00<00:00, 55.49it/s, v_num=17, train_acc=0.827, val_acc=0.915]\n",
      "Validation: |                                                                                    | 0/? [00:00<?, ?it/s]\u001b[A\n",
      "Validation:   0%|                                                                                | 0/9 [00:00<?, ?it/s]\u001b[A\n",
      "Validation DataLoader 0:   0%|                                                                   | 0/9 [00:00<?, ?it/s]\u001b[A\n",
      "Validation DataLoader 0:  11%|██████▌                                                    | 1/9 [00:00<00:00, 59.92it/s]\u001b[A\n",
      "Validation DataLoader 0:  22%|█████████████                                              | 2/9 [00:00<00:00, 60.07it/s]\u001b[A\n",
      "Validation DataLoader 0:  33%|███████████████████▋                                       | 3/9 [00:00<00:00, 59.97it/s]\u001b[A\n",
      "Validation DataLoader 0:  44%|██████████████████████████▏                                | 4/9 [00:00<00:00, 68.93it/s]\u001b[A\n",
      "Validation DataLoader 0:  56%|████████████████████████████████▊                          | 5/9 [00:00<00:00, 66.98it/s]\u001b[A\n",
      "Validation DataLoader 0:  67%|███████████████████████████████████████▎                   | 6/9 [00:00<00:00, 71.50it/s]\u001b[A\n",
      "Validation DataLoader 0:  78%|█████████████████████████████████████████████▉             | 7/9 [00:00<00:00, 69.59it/s]\u001b[A\n",
      "Validation DataLoader 0:  89%|████████████████████████████████████████████████████▍      | 8/9 [00:00<00:00, 73.67it/s]\u001b[A\n",
      "Validation DataLoader 0: 100%|███████████████████████████████████████████████████████████| 9/9 [00:00<00:00, 76.81it/s]\u001b[A\n",
      "Epoch 56: 100%|██████████████████████████████| 25/25 [00:00<00:00, 41.58it/s, v_num=17, train_acc=0.827, val_acc=0.921]\u001b[A"
     ]
    },
    {
     "name": "stderr",
     "output_type": "stream",
     "text": [
      "Metric val_loss improved by 0.009 >= min_delta = 0.0. New best score: 0.330\n"
     ]
    },
    {
     "name": "stdout",
     "output_type": "stream",
     "text": [
      "Epoch 57: 100%|██████████████████████████████| 25/25 [00:00<00:00, 65.22it/s, v_num=17, train_acc=0.677, val_acc=0.921]\n",
      "Validation: |                                                                                    | 0/? [00:00<?, ?it/s]\u001b[A\n",
      "Validation:   0%|                                                                                | 0/9 [00:00<?, ?it/s]\u001b[A\n",
      "Validation DataLoader 0:   0%|                                                                   | 0/9 [00:00<?, ?it/s]\u001b[A\n",
      "Validation DataLoader 0:  11%|██████▌                                                    | 1/9 [00:00<00:00, 58.29it/s]\u001b[A\n",
      "Validation DataLoader 0:  22%|█████████████                                              | 2/9 [00:00<00:00, 60.34it/s]\u001b[A\n",
      "Validation DataLoader 0:  33%|███████████████████▋                                       | 3/9 [00:00<00:00, 72.92it/s]\u001b[A\n",
      "Validation DataLoader 0:  44%|██████████████████████████▏                                | 4/9 [00:00<00:00, 68.95it/s]\u001b[A\n",
      "Validation DataLoader 0:  56%|████████████████████████████████▊                          | 5/9 [00:00<00:00, 71.53it/s]\u001b[A\n",
      "Validation DataLoader 0:  67%|███████████████████████████████████████▎                   | 6/9 [00:00<00:00, 77.02it/s]\u001b[A\n",
      "Validation DataLoader 0:  78%|█████████████████████████████████████████████▉             | 7/9 [00:00<00:00, 74.61it/s]\u001b[A\n",
      "Validation DataLoader 0:  89%|████████████████████████████████████████████████████▍      | 8/9 [00:00<00:00, 77.58it/s]\u001b[A\n",
      "Validation DataLoader 0: 100%|███████████████████████████████████████████████████████████| 9/9 [00:00<00:00, 77.18it/s]\u001b[A\n",
      "Epoch 57: 100%|██████████████████████████████| 25/25 [00:00<00:00, 46.27it/s, v_num=17, train_acc=0.677, val_acc=0.918]\u001b[A"
     ]
    },
    {
     "name": "stderr",
     "output_type": "stream",
     "text": [
      "Metric val_loss improved by 0.003 >= min_delta = 0.0. New best score: 0.327\n"
     ]
    },
    {
     "name": "stdout",
     "output_type": "stream",
     "text": [
      "Epoch 58: 100%|██████████████████████████████| 25/25 [00:00<00:00, 69.82it/s, v_num=17, train_acc=0.787, val_acc=0.918]\n",
      "Validation: |                                                                                    | 0/? [00:00<?, ?it/s]\u001b[A\n",
      "Validation:   0%|                                                                                | 0/9 [00:00<?, ?it/s]\u001b[A\n",
      "Validation DataLoader 0:   0%|                                                                   | 0/9 [00:00<?, ?it/s]\u001b[A\n",
      "Validation DataLoader 0:  11%|██████▌                                                    | 1/9 [00:00<00:00, 59.84it/s]\u001b[A\n",
      "Validation DataLoader 0:  22%|█████████████                                              | 2/9 [00:00<00:00, 69.70it/s]\u001b[A\n",
      "Validation DataLoader 0:  33%|███████████████████▋                                       | 3/9 [00:00<00:00, 70.69it/s]\u001b[A\n",
      "Validation DataLoader 0:  44%|██████████████████████████▏                                | 4/9 [00:00<00:00, 68.28it/s]\u001b[A\n",
      "Validation DataLoader 0:  56%|████████████████████████████████▊                          | 5/9 [00:00<00:00, 75.82it/s]\u001b[A\n",
      "Validation DataLoader 0:  67%|███████████████████████████████████████▎                   | 6/9 [00:00<00:00, 71.12it/s]\u001b[A\n",
      "Validation DataLoader 0:  78%|█████████████████████████████████████████████▉             | 7/9 [00:00<00:00, 76.00it/s]\u001b[A\n",
      "Validation DataLoader 0:  89%|████████████████████████████████████████████████████▍      | 8/9 [00:00<00:00, 73.76it/s]\u001b[A\n",
      "Validation DataLoader 0: 100%|███████████████████████████████████████████████████████████| 9/9 [00:00<00:00, 77.11it/s]\u001b[A\n",
      "Epoch 58: 100%|██████████████████████████████| 25/25 [00:00<00:00, 48.45it/s, v_num=17, train_acc=0.787, val_acc=0.921]\u001b[A"
     ]
    },
    {
     "name": "stderr",
     "output_type": "stream",
     "text": [
      "Metric val_loss improved by 0.003 >= min_delta = 0.0. New best score: 0.323\n"
     ]
    },
    {
     "name": "stdout",
     "output_type": "stream",
     "text": [
      "Epoch 59: 100%|██████████████████████████████| 25/25 [00:00<00:00, 61.26it/s, v_num=17, train_acc=0.780, val_acc=0.921]\n",
      "Validation: |                                                                                    | 0/? [00:00<?, ?it/s]\u001b[A\n",
      "Validation:   0%|                                                                                | 0/9 [00:00<?, ?it/s]\u001b[A\n",
      "Validation DataLoader 0:   0%|                                                                   | 0/9 [00:00<?, ?it/s]\u001b[A\n",
      "Validation DataLoader 0:  11%|██████▌                                                    | 1/9 [00:00<00:00, 61.85it/s]\u001b[A\n",
      "Validation DataLoader 0:  22%|█████████████                                              | 2/9 [00:00<00:00, 60.96it/s]\u001b[A\n",
      "Validation DataLoader 0:  33%|███████████████████▋                                       | 3/9 [00:00<00:00, 73.52it/s]\u001b[A\n",
      "Validation DataLoader 0:  44%|██████████████████████████▏                                | 4/9 [00:00<00:00, 70.43it/s]\u001b[A\n",
      "Validation DataLoader 0:  56%|████████████████████████████████▊                          | 5/9 [00:00<00:00, 77.17it/s]\u001b[A\n",
      "Validation DataLoader 0:  67%|███████████████████████████████████████▎                   | 6/9 [00:00<00:00, 74.28it/s]\u001b[A\n",
      "Validation DataLoader 0:  78%|█████████████████████████████████████████████▉             | 7/9 [00:00<00:00, 78.85it/s]\u001b[A\n",
      "Validation DataLoader 0:  89%|████████████████████████████████████████████████████▍      | 8/9 [00:00<00:00, 74.25it/s]\u001b[A\n",
      "Validation DataLoader 0: 100%|███████████████████████████████████████████████████████████| 9/9 [00:00<00:00, 77.26it/s]\u001b[A\n",
      "Epoch 59: 100%|██████████████████████████████| 25/25 [00:00<00:00, 44.11it/s, v_num=17, train_acc=0.780, val_acc=0.926]\u001b[A"
     ]
    },
    {
     "name": "stderr",
     "output_type": "stream",
     "text": [
      "Metric val_loss improved by 0.005 >= min_delta = 0.0. New best score: 0.318\n"
     ]
    },
    {
     "name": "stdout",
     "output_type": "stream",
     "text": [
      "Epoch 60: 100%|██████████████████████████████| 25/25 [00:00<00:00, 64.98it/s, v_num=17, train_acc=0.764, val_acc=0.926]\n",
      "Validation: |                                                                                    | 0/? [00:00<?, ?it/s]\u001b[A\n",
      "Validation:   0%|                                                                                | 0/9 [00:00<?, ?it/s]\u001b[A\n",
      "Validation DataLoader 0:   0%|                                                                   | 0/9 [00:00<?, ?it/s]\u001b[A\n",
      "Validation DataLoader 0:  11%|██████▌                                                    | 1/9 [00:00<00:00, 57.20it/s]\u001b[A\n",
      "Validation DataLoader 0:  22%|█████████████                                              | 2/9 [00:00<00:00, 58.77it/s]\u001b[A\n",
      "Validation DataLoader 0:  33%|███████████████████▋                                       | 3/9 [00:00<00:00, 59.11it/s]\u001b[A\n",
      "Validation DataLoader 0:  44%|██████████████████████████▏                                | 4/9 [00:00<00:00, 68.09it/s]\u001b[A\n",
      "Validation DataLoader 0:  56%|████████████████████████████████▊                          | 5/9 [00:00<00:00, 73.34it/s]\u001b[A\n",
      "Validation DataLoader 0:  67%|███████████████████████████████████████▎                   | 6/9 [00:00<00:00, 71.29it/s]\u001b[A\n",
      "Validation DataLoader 0:  78%|█████████████████████████████████████████████▉             | 7/9 [00:00<00:00, 75.96it/s]\u001b[A\n",
      "Validation DataLoader 0:  89%|████████████████████████████████████████████████████▍      | 8/9 [00:00<00:00, 73.97it/s]\u001b[A\n",
      "Validation DataLoader 0: 100%|███████████████████████████████████████████████████████████| 9/9 [00:00<00:00, 76.66it/s]\u001b[A\n",
      "Epoch 60: 100%|██████████████████████████████| 25/25 [00:00<00:00, 47.46it/s, v_num=17, train_acc=0.764, val_acc=0.917]\u001b[A"
     ]
    },
    {
     "name": "stderr",
     "output_type": "stream",
     "text": [
      "Metric val_loss improved by 0.002 >= min_delta = 0.0. New best score: 0.316\n"
     ]
    },
    {
     "name": "stdout",
     "output_type": "stream",
     "text": [
      "Epoch 61: 100%|██████████████████████████████| 25/25 [00:00<00:00, 65.77it/s, v_num=17, train_acc=0.803, val_acc=0.917]\n",
      "Validation: |                                                                                    | 0/? [00:00<?, ?it/s]\u001b[A\n",
      "Validation:   0%|                                                                                | 0/9 [00:00<?, ?it/s]\u001b[A\n",
      "Validation DataLoader 0:   0%|                                                                   | 0/9 [00:00<?, ?it/s]\u001b[A\n",
      "Validation DataLoader 0:  11%|██████▌                                                    | 1/9 [00:00<00:00, 90.51it/s]\u001b[A\n",
      "Validation DataLoader 0:  22%|█████████████                                              | 2/9 [00:00<00:00, 73.96it/s]\u001b[A\n",
      "Validation DataLoader 0:  33%|███████████████████▋                                       | 3/9 [00:00<00:00, 85.63it/s]\u001b[A\n",
      "Validation DataLoader 0:  44%|██████████████████████████▏                                | 4/9 [00:00<00:00, 79.36it/s]\u001b[A\n",
      "Validation DataLoader 0:  56%|████████████████████████████████▊                          | 5/9 [00:00<00:00, 84.73it/s]\u001b[A\n",
      "Validation DataLoader 0:  67%|███████████████████████████████████████▎                   | 6/9 [00:00<00:00, 89.54it/s]\u001b[A\n",
      "Validation DataLoader 0:  78%|█████████████████████████████████████████████▉             | 7/9 [00:00<00:00, 83.67it/s]\u001b[A\n",
      "Validation DataLoader 0:  89%|████████████████████████████████████████████████████▍      | 8/9 [00:00<00:00, 86.64it/s]\u001b[A\n",
      "Validation DataLoader 0: 100%|███████████████████████████████████████████████████████████| 9/9 [00:00<00:00, 89.70it/s]\u001b[A\n",
      "Epoch 61: 100%|██████████████████████████████| 25/25 [00:00<00:00, 46.14it/s, v_num=17, train_acc=0.803, val_acc=0.918]\u001b[A"
     ]
    },
    {
     "name": "stderr",
     "output_type": "stream",
     "text": [
      "Metric val_loss improved by 0.003 >= min_delta = 0.0. New best score: 0.313\n"
     ]
    },
    {
     "name": "stdout",
     "output_type": "stream",
     "text": [
      "Epoch 62: 100%|██████████████████████████████| 25/25 [00:00<00:00, 64.53it/s, v_num=17, train_acc=0.787, val_acc=0.918]\n",
      "Validation: |                                                                                    | 0/? [00:00<?, ?it/s]\u001b[A\n",
      "Validation:   0%|                                                                                | 0/9 [00:00<?, ?it/s]\u001b[A\n",
      "Validation DataLoader 0:   0%|                                                                   | 0/9 [00:00<?, ?it/s]\u001b[A\n",
      "Validation DataLoader 0:  11%|██████▌                                                    | 1/9 [00:00<00:00, 62.53it/s]\u001b[A\n",
      "Validation DataLoader 0:  22%|█████████████                                              | 2/9 [00:00<00:00, 62.54it/s]\u001b[A\n",
      "Validation DataLoader 0:  33%|███████████████████▋                                       | 3/9 [00:00<00:00, 75.05it/s]\u001b[A\n",
      "Validation DataLoader 0:  44%|██████████████████████████▏                                | 4/9 [00:00<00:00, 73.11it/s]\u001b[A\n",
      "Validation DataLoader 0:  56%|████████████████████████████████▊                          | 5/9 [00:00<00:00, 78.79it/s]\u001b[A\n",
      "Validation DataLoader 0:  67%|███████████████████████████████████████▎                   | 6/9 [00:00<00:00, 74.96it/s]\u001b[A\n",
      "Validation DataLoader 0:  78%|█████████████████████████████████████████████▉             | 7/9 [00:00<00:00, 79.51it/s]\u001b[A\n",
      "Validation DataLoader 0:  89%|████████████████████████████████████████████████████▍      | 8/9 [00:00<00:00, 76.90it/s]\u001b[A\n",
      "Validation DataLoader 0: 100%|███████████████████████████████████████████████████████████| 9/9 [00:00<00:00, 80.34it/s]\u001b[A\n",
      "Epoch 63: 100%|██████████████████████████████| 25/25 [00:00<00:00, 67.78it/s, v_num=17, train_acc=0.740, val_acc=0.923]\u001b[A\n",
      "Validation: |                                                                                    | 0/? [00:00<?, ?it/s]\u001b[A\n",
      "Validation:   0%|                                                                                | 0/9 [00:00<?, ?it/s]\u001b[A\n",
      "Validation DataLoader 0:   0%|                                                                   | 0/9 [00:00<?, ?it/s]\u001b[A\n",
      "Validation DataLoader 0:  11%|██████▌                                                    | 1/9 [00:00<00:00, 61.86it/s]\u001b[A\n",
      "Validation DataLoader 0:  22%|█████████████                                              | 2/9 [00:00<00:00, 81.04it/s]\u001b[A\n",
      "Validation DataLoader 0:  33%|███████████████████▋                                       | 3/9 [00:00<00:00, 72.62it/s]\u001b[A\n",
      "Validation DataLoader 0:  44%|██████████████████████████▏                                | 4/9 [00:00<00:00, 79.97it/s]\u001b[A\n",
      "Validation DataLoader 0:  56%|████████████████████████████████▊                          | 5/9 [00:00<00:00, 86.19it/s]\u001b[A\n",
      "Validation DataLoader 0:  67%|███████████████████████████████████████▎                   | 6/9 [00:00<00:00, 80.34it/s]\u001b[A\n",
      "Validation DataLoader 0:  78%|█████████████████████████████████████████████▉             | 7/9 [00:00<00:00, 84.04it/s]\u001b[A\n",
      "Validation DataLoader 0:  89%|████████████████████████████████████████████████████▍      | 8/9 [00:00<00:00, 78.93it/s]\u001b[A\n",
      "Validation DataLoader 0: 100%|███████████████████████████████████████████████████████████| 9/9 [00:00<00:00, 82.52it/s]\u001b[A\n",
      "Epoch 63: 100%|██████████████████████████████| 25/25 [00:00<00:00, 47.89it/s, v_num=17, train_acc=0.740, val_acc=0.923]\u001b[A"
     ]
    },
    {
     "name": "stderr",
     "output_type": "stream",
     "text": [
      "Metric val_loss improved by 0.005 >= min_delta = 0.0. New best score: 0.308\n"
     ]
    },
    {
     "name": "stdout",
     "output_type": "stream",
     "text": [
      "Epoch 64: 100%|██████████████████████████████| 25/25 [00:00<00:00, 53.66it/s, v_num=17, train_acc=0.724, val_acc=0.923]\n",
      "Validation: |                                                                                    | 0/? [00:00<?, ?it/s]\u001b[A\n",
      "Validation:   0%|                                                                                | 0/9 [00:00<?, ?it/s]\u001b[A\n",
      "Validation DataLoader 0:   0%|                                                                   | 0/9 [00:00<?, ?it/s]\u001b[A\n",
      "Validation DataLoader 0:  11%|██████▌                                                    | 1/9 [00:00<00:00, 56.94it/s]\u001b[A\n",
      "Validation DataLoader 0:  22%|█████████████                                              | 2/9 [00:00<00:00, 78.26it/s]\u001b[A\n",
      "Validation DataLoader 0:  33%|███████████████████▋                                       | 3/9 [00:00<00:00, 72.25it/s]\u001b[A\n",
      "Validation DataLoader 0:  44%|██████████████████████████▏                                | 4/9 [00:00<00:00, 79.57it/s]\u001b[A\n",
      "Validation DataLoader 0:  56%|████████████████████████████████▊                          | 5/9 [00:00<00:00, 73.89it/s]\u001b[A\n",
      "Validation DataLoader 0:  67%|███████████████████████████████████████▎                   | 6/9 [00:00<00:00, 74.69it/s]\u001b[A\n",
      "Validation DataLoader 0:  78%|█████████████████████████████████████████████▉             | 7/9 [00:00<00:00, 75.57it/s]\u001b[A\n",
      "Validation DataLoader 0:  89%|████████████████████████████████████████████████████▍      | 8/9 [00:00<00:00, 78.87it/s]\u001b[A\n",
      "Validation DataLoader 0: 100%|███████████████████████████████████████████████████████████| 9/9 [00:00<00:00, 74.88it/s]\u001b[A\n",
      "Epoch 64: 100%|██████████████████████████████| 25/25 [00:00<00:00, 40.59it/s, v_num=17, train_acc=0.724, val_acc=0.924]\u001b[A"
     ]
    },
    {
     "name": "stderr",
     "output_type": "stream",
     "text": [
      "Metric val_loss improved by 0.002 >= min_delta = 0.0. New best score: 0.307\n"
     ]
    },
    {
     "name": "stdout",
     "output_type": "stream",
     "text": [
      "Epoch 65: 100%|██████████████████████████████| 25/25 [00:00<00:00, 68.25it/s, v_num=17, train_acc=0.780, val_acc=0.924]\n",
      "Validation: |                                                                                    | 0/? [00:00<?, ?it/s]\u001b[A\n",
      "Validation:   0%|                                                                                | 0/9 [00:00<?, ?it/s]\u001b[A\n",
      "Validation DataLoader 0:   0%|                                                                   | 0/9 [00:00<?, ?it/s]\u001b[A\n",
      "Validation DataLoader 0:  11%|██████▌                                                    | 1/9 [00:00<00:00, 43.29it/s]\u001b[A\n",
      "Validation DataLoader 0:  22%|█████████████                                              | 2/9 [00:00<00:00, 51.65it/s]\u001b[A\n",
      "Validation DataLoader 0:  33%|███████████████████▋                                       | 3/9 [00:00<00:00, 59.42it/s]\u001b[A\n",
      "Validation DataLoader 0:  44%|██████████████████████████▏                                | 4/9 [00:00<00:00, 65.19it/s]\u001b[A\n",
      "Validation DataLoader 0:  56%|████████████████████████████████▊                          | 5/9 [00:00<00:00, 63.56it/s]\u001b[A\n",
      "Validation DataLoader 0:  67%|███████████████████████████████████████▎                   | 6/9 [00:00<00:00, 64.16it/s]\u001b[A\n",
      "Validation DataLoader 0:  78%|█████████████████████████████████████████████▉             | 7/9 [00:00<00:00, 64.43it/s]\u001b[A\n",
      "Validation DataLoader 0:  89%|████████████████████████████████████████████████████▍      | 8/9 [00:00<00:00, 63.84it/s]\u001b[A\n",
      "Validation DataLoader 0: 100%|███████████████████████████████████████████████████████████| 9/9 [00:00<00:00, 67.52it/s]\u001b[A\n",
      "Epoch 65: 100%|██████████████████████████████| 25/25 [00:00<00:00, 46.25it/s, v_num=17, train_acc=0.780, val_acc=0.923]\u001b[A"
     ]
    },
    {
     "name": "stderr",
     "output_type": "stream",
     "text": [
      "Metric val_loss improved by 0.003 >= min_delta = 0.0. New best score: 0.303\n"
     ]
    },
    {
     "name": "stdout",
     "output_type": "stream",
     "text": [
      "Epoch 66: 100%|██████████████████████████████| 25/25 [00:00<00:00, 65.26it/s, v_num=17, train_acc=0.701, val_acc=0.923]\n",
      "Validation: |                                                                                    | 0/? [00:00<?, ?it/s]\u001b[A\n",
      "Validation:   0%|                                                                                | 0/9 [00:00<?, ?it/s]\u001b[A\n",
      "Validation DataLoader 0:   0%|                                                                   | 0/9 [00:00<?, ?it/s]\u001b[A\n",
      "Validation DataLoader 0:  11%|██████▌                                                    | 1/9 [00:00<00:00, 60.95it/s]\u001b[A\n",
      "Validation DataLoader 0:  22%|█████████████                                              | 2/9 [00:00<00:00, 81.96it/s]\u001b[A\n",
      "Validation DataLoader 0:  33%|███████████████████▋                                       | 3/9 [00:00<00:00, 70.68it/s]\u001b[A\n",
      "Validation DataLoader 0:  44%|██████████████████████████▏                                | 4/9 [00:00<00:00, 68.55it/s]\u001b[A\n",
      "Validation DataLoader 0:  56%|████████████████████████████████▊                          | 5/9 [00:00<00:00, 75.36it/s]\u001b[A\n",
      "Validation DataLoader 0:  67%|███████████████████████████████████████▎                   | 6/9 [00:00<00:00, 72.18it/s]\u001b[A\n",
      "Validation DataLoader 0:  78%|█████████████████████████████████████████████▉             | 7/9 [00:00<00:00, 76.35it/s]\u001b[A\n",
      "Validation DataLoader 0:  89%|████████████████████████████████████████████████████▍      | 8/9 [00:00<00:00, 73.86it/s]\u001b[A\n",
      "Validation DataLoader 0: 100%|███████████████████████████████████████████████████████████| 9/9 [00:00<00:00, 77.38it/s]\u001b[A\n",
      "Epoch 67: 100%|██████████████████████████████| 25/25 [00:00<00:00, 68.12it/s, v_num=17, train_acc=0.717, val_acc=0.918]\u001b[A\n",
      "Validation: |                                                                                    | 0/? [00:00<?, ?it/s]\u001b[A\n",
      "Validation:   0%|                                                                                | 0/9 [00:00<?, ?it/s]\u001b[A\n",
      "Validation DataLoader 0:   0%|                                                                   | 0/9 [00:00<?, ?it/s]\u001b[A\n",
      "Validation DataLoader 0:  11%|██████▌                                                    | 1/9 [00:00<00:00, 62.55it/s]\u001b[A\n",
      "Validation DataLoader 0:  22%|█████████████                                              | 2/9 [00:00<00:00, 79.21it/s]\u001b[A\n",
      "Validation DataLoader 0:  33%|███████████████████▋                                       | 3/9 [00:00<00:00, 71.61it/s]\u001b[A\n",
      "Validation DataLoader 0:  44%|██████████████████████████▏                                | 4/9 [00:00<00:00, 80.18it/s]\u001b[A\n",
      "Validation DataLoader 0:  56%|████████████████████████████████▊                          | 5/9 [00:00<00:00, 75.06it/s]\u001b[A\n",
      "Validation DataLoader 0:  67%|███████████████████████████████████████▎                   | 6/9 [00:00<00:00, 79.80it/s]\u001b[A\n",
      "Validation DataLoader 0:  78%|█████████████████████████████████████████████▉             | 7/9 [00:00<00:00, 84.15it/s]\u001b[A\n",
      "Validation DataLoader 0:  89%|████████████████████████████████████████████████████▍      | 8/9 [00:00<00:00, 80.08it/s]\u001b[A\n",
      "Validation DataLoader 0: 100%|███████████████████████████████████████████████████████████| 9/9 [00:00<00:00, 83.21it/s]\u001b[A\n",
      "Epoch 68: 100%|██████████████████████████████| 25/25 [00:00<00:00, 69.75it/s, v_num=17, train_acc=0.772, val_acc=0.929]\u001b[A\n",
      "Validation: |                                                                                    | 0/? [00:00<?, ?it/s]\u001b[A\n",
      "Validation:   0%|                                                                                | 0/9 [00:00<?, ?it/s]\u001b[A\n",
      "Validation DataLoader 0:   0%|                                                                   | 0/9 [00:00<?, ?it/s]\u001b[A\n",
      "Validation DataLoader 0:  11%|██████▌                                                    | 1/9 [00:00<00:00, 53.17it/s]\u001b[A\n",
      "Validation DataLoader 0:  22%|█████████████                                              | 2/9 [00:00<00:00, 59.88it/s]\u001b[A\n",
      "Validation DataLoader 0:  33%|███████████████████▋                                       | 3/9 [00:00<00:00, 72.48it/s]\u001b[A\n",
      "Validation DataLoader 0:  44%|██████████████████████████▏                                | 4/9 [00:00<00:00, 68.18it/s]\u001b[A\n",
      "Validation DataLoader 0:  56%|████████████████████████████████▊                          | 5/9 [00:00<00:00, 75.00it/s]\u001b[A\n",
      "Validation DataLoader 0:  67%|███████████████████████████████████████▎                   | 6/9 [00:00<00:00, 71.56it/s]\u001b[A\n",
      "Validation DataLoader 0:  78%|█████████████████████████████████████████████▉             | 7/9 [00:00<00:00, 76.05it/s]\u001b[A\n",
      "Validation DataLoader 0:  89%|████████████████████████████████████████████████████▍      | 8/9 [00:00<00:00, 79.97it/s]\u001b[A\n",
      "Validation DataLoader 0: 100%|███████████████████████████████████████████████████████████| 9/9 [00:00<00:00, 77.30it/s]\u001b[A\n",
      "Epoch 69: 100%|██████████████████████████████| 25/25 [00:00<00:00, 69.49it/s, v_num=17, train_acc=0.764, val_acc=0.925]\u001b[A\n",
      "Validation: |                                                                                    | 0/? [00:00<?, ?it/s]\u001b[A\n",
      "Validation:   0%|                                                                                | 0/9 [00:00<?, ?it/s]\u001b[A\n",
      "Validation DataLoader 0:   0%|                                                                   | 0/9 [00:00<?, ?it/s]\u001b[A\n",
      "Validation DataLoader 0:  11%|██████▌                                                    | 1/9 [00:00<00:00, 59.80it/s]\u001b[A\n",
      "Validation DataLoader 0:  22%|█████████████                                              | 2/9 [00:00<00:00, 79.55it/s]\u001b[A\n",
      "Validation DataLoader 0:  33%|███████████████████▋                                       | 3/9 [00:00<00:00, 71.36it/s]\u001b[A\n",
      "Validation DataLoader 0:  44%|██████████████████████████▏                                | 4/9 [00:00<00:00, 79.94it/s]\u001b[A\n",
      "Validation DataLoader 0:  56%|████████████████████████████████▊                          | 5/9 [00:00<00:00, 74.98it/s]\u001b[A\n",
      "Validation DataLoader 0:  67%|███████████████████████████████████████▎                   | 6/9 [00:00<00:00, 79.62it/s]\u001b[A\n",
      "Validation DataLoader 0:  78%|█████████████████████████████████████████████▉             | 7/9 [00:00<00:00, 76.00it/s]\u001b[A\n",
      "Validation DataLoader 0:  89%|████████████████████████████████████████████████████▍      | 8/9 [00:00<00:00, 79.91it/s]\u001b[A\n",
      "Validation DataLoader 0: 100%|███████████████████████████████████████████████████████████| 9/9 [00:00<00:00, 82.78it/s]\u001b[A\n",
      "Epoch 69: 100%|██████████████████████████████| 25/25 [00:00<00:00, 49.83it/s, v_num=17, train_acc=0.764, val_acc=0.924]\u001b[A"
     ]
    },
    {
     "name": "stderr",
     "output_type": "stream",
     "text": [
      "Metric val_loss improved by 0.003 >= min_delta = 0.0. New best score: 0.300\n"
     ]
    },
    {
     "name": "stdout",
     "output_type": "stream",
     "text": [
      "Epoch 70: 100%|██████████████████████████████| 25/25 [00:00<00:00, 69.90it/s, v_num=17, train_acc=0.748, val_acc=0.924]\n",
      "Validation: |                                                                                    | 0/? [00:00<?, ?it/s]\u001b[A\n",
      "Validation:   0%|                                                                                | 0/9 [00:00<?, ?it/s]\u001b[A\n",
      "Validation DataLoader 0:   0%|                                                                   | 0/9 [00:00<?, ?it/s]\u001b[A\n",
      "Validation DataLoader 0:  11%|██████▌                                                    | 1/9 [00:00<00:00, 60.08it/s]\u001b[A\n",
      "Validation DataLoader 0:  22%|█████████████                                              | 2/9 [00:00<00:00, 81.17it/s]\u001b[A\n",
      "Validation DataLoader 0:  33%|███████████████████▋                                       | 3/9 [00:00<00:00, 91.93it/s]\u001b[A\n",
      "Validation DataLoader 0:  44%|██████████████████████████▏                                | 4/9 [00:00<00:00, 82.26it/s]\u001b[A\n",
      "Validation DataLoader 0:  56%|████████████████████████████████▊                          | 5/9 [00:00<00:00, 85.17it/s]\u001b[A\n",
      "Validation DataLoader 0:  67%|███████████████████████████████████████▎                   | 6/9 [00:00<00:00, 79.65it/s]\u001b[A\n",
      "Validation DataLoader 0:  78%|█████████████████████████████████████████████▉             | 7/9 [00:00<00:00, 84.01it/s]\u001b[A\n",
      "Validation DataLoader 0:  89%|████████████████████████████████████████████████████▍      | 8/9 [00:00<00:00, 80.02it/s]\u001b[A\n",
      "Validation DataLoader 0: 100%|███████████████████████████████████████████████████████████| 9/9 [00:00<00:00, 83.15it/s]\u001b[A\n",
      "Epoch 71: 100%|██████████████████████████████| 25/25 [00:00<00:00, 71.41it/s, v_num=17, train_acc=0.780, val_acc=0.926]\u001b[A\n",
      "Validation: |                                                                                    | 0/? [00:00<?, ?it/s]\u001b[A\n",
      "Validation:   0%|                                                                                | 0/9 [00:00<?, ?it/s]\u001b[A\n",
      "Validation DataLoader 0:   0%|                                                                   | 0/9 [00:00<?, ?it/s]\u001b[A\n",
      "Validation DataLoader 0:  11%|██████▌                                                    | 1/9 [00:00<00:00, 59.69it/s]\u001b[A\n",
      "Validation DataLoader 0:  22%|█████████████                                              | 2/9 [00:00<00:00, 66.91it/s]\u001b[A\n",
      "Validation DataLoader 0:  33%|███████████████████▋                                       | 3/9 [00:00<00:00, 71.04it/s]\u001b[A\n",
      "Validation DataLoader 0:  44%|██████████████████████████▏                                | 4/9 [00:00<00:00, 68.70it/s]\u001b[A\n",
      "Validation DataLoader 0:  56%|████████████████████████████████▊                          | 5/9 [00:00<00:00, 67.37it/s]\u001b[A\n",
      "Validation DataLoader 0:  67%|███████████████████████████████████████▎                   | 6/9 [00:00<00:00, 75.29it/s]\u001b[A\n",
      "Validation DataLoader 0:  78%|█████████████████████████████████████████████▉             | 7/9 [00:00<00:00, 75.88it/s]\u001b[A\n",
      "Validation DataLoader 0:  89%|████████████████████████████████████████████████████▍      | 8/9 [00:00<00:00, 73.44it/s]\u001b[A\n",
      "Validation DataLoader 0: 100%|███████████████████████████████████████████████████████████| 9/9 [00:00<00:00, 77.91it/s]\u001b[A\n",
      "Epoch 71: 100%|██████████████████████████████| 25/25 [00:00<00:00, 49.39it/s, v_num=17, train_acc=0.780, val_acc=0.922]\u001b[A"
     ]
    },
    {
     "name": "stderr",
     "output_type": "stream",
     "text": [
      "Metric val_loss improved by 0.004 >= min_delta = 0.0. New best score: 0.296\n"
     ]
    },
    {
     "name": "stdout",
     "output_type": "stream",
     "text": [
      "Epoch 72: 100%|██████████████████████████████| 25/25 [00:00<00:00, 66.10it/s, v_num=17, train_acc=0.795, val_acc=0.922]\n",
      "Validation: |                                                                                    | 0/? [00:00<?, ?it/s]\u001b[A\n",
      "Validation:   0%|                                                                                | 0/9 [00:00<?, ?it/s]\u001b[A\n",
      "Validation DataLoader 0:   0%|                                                                   | 0/9 [00:00<?, ?it/s]\u001b[A\n",
      "Validation DataLoader 0:  11%|██████▌                                                    | 1/9 [00:00<00:00, 59.64it/s]\u001b[A\n",
      "Validation DataLoader 0:  22%|█████████████                                              | 2/9 [00:00<00:00, 94.28it/s]\u001b[A\n",
      "Validation DataLoader 0:  33%|███████████████████▋                                       | 3/9 [00:00<00:00, 74.01it/s]\u001b[A\n",
      "Validation DataLoader 0:  44%|██████████████████████████▏                                | 4/9 [00:00<00:00, 72.85it/s]\u001b[A\n",
      "Validation DataLoader 0:  56%|████████████████████████████████▊                          | 5/9 [00:00<00:00, 74.53it/s]\u001b[A\n",
      "Validation DataLoader 0:  67%|███████████████████████████████████████▎                   | 6/9 [00:00<00:00, 79.91it/s]\u001b[A\n",
      "Validation DataLoader 0:  78%|█████████████████████████████████████████████▉             | 7/9 [00:00<00:00, 79.28it/s]\u001b[A\n",
      "Validation DataLoader 0:  89%|████████████████████████████████████████████████████▍      | 8/9 [00:00<00:00, 80.64it/s]\u001b[A\n",
      "Validation DataLoader 0: 100%|███████████████████████████████████████████████████████████| 9/9 [00:00<00:00, 77.47it/s]\u001b[A\n",
      "Epoch 72: 100%|██████████████████████████████| 25/25 [00:00<00:00, 47.23it/s, v_num=17, train_acc=0.795, val_acc=0.923]\u001b[A"
     ]
    },
    {
     "name": "stderr",
     "output_type": "stream",
     "text": [
      "Metric val_loss improved by 0.002 >= min_delta = 0.0. New best score: 0.294\n"
     ]
    },
    {
     "name": "stdout",
     "output_type": "stream",
     "text": [
      "Epoch 73: 100%|██████████████████████████████| 25/25 [00:00<00:00, 64.43it/s, v_num=17, train_acc=0.795, val_acc=0.923]\n",
      "Validation: |                                                                                    | 0/? [00:00<?, ?it/s]\u001b[A\n",
      "Validation:   0%|                                                                                | 0/9 [00:00<?, ?it/s]\u001b[A\n",
      "Validation DataLoader 0:   0%|                                                                   | 0/9 [00:00<?, ?it/s]\u001b[A\n",
      "Validation DataLoader 0:  11%|██████▌                                                    | 1/9 [00:00<00:00, 61.43it/s]\u001b[A\n",
      "Validation DataLoader 0:  22%|█████████████                                              | 2/9 [00:00<00:00, 61.16it/s]\u001b[A\n",
      "Validation DataLoader 0:  33%|███████████████████▋                                       | 3/9 [00:00<00:00, 57.41it/s]\u001b[A\n",
      "Validation DataLoader 0:  44%|██████████████████████████▏                                | 4/9 [00:00<00:00, 59.26it/s]\u001b[A\n",
      "Validation DataLoader 0:  56%|████████████████████████████████▊                          | 5/9 [00:00<00:00, 59.89it/s]\u001b[A\n",
      "Validation DataLoader 0:  67%|███████████████████████████████████████▎                   | 6/9 [00:00<00:00, 59.02it/s]\u001b[A\n",
      "Validation DataLoader 0:  78%|█████████████████████████████████████████████▉             | 7/9 [00:00<00:00, 63.84it/s]\u001b[A\n",
      "Validation DataLoader 0:  89%|████████████████████████████████████████████████████▍      | 8/9 [00:00<00:00, 63.66it/s]\u001b[A\n",
      "Validation DataLoader 0: 100%|███████████████████████████████████████████████████████████| 9/9 [00:00<00:00, 66.37it/s]\u001b[A\n",
      "Epoch 73: 100%|██████████████████████████████| 25/25 [00:00<00:00, 44.17it/s, v_num=17, train_acc=0.795, val_acc=0.923]\u001b[A"
     ]
    },
    {
     "name": "stderr",
     "output_type": "stream",
     "text": [
      "Metric val_loss improved by 0.007 >= min_delta = 0.0. New best score: 0.288\n"
     ]
    },
    {
     "name": "stdout",
     "output_type": "stream",
     "text": [
      "Epoch 74: 100%|██████████████████████████████| 25/25 [00:00<00:00, 68.65it/s, v_num=17, train_acc=0.795, val_acc=0.923]\n",
      "Validation: |                                                                                    | 0/? [00:00<?, ?it/s]\u001b[A\n",
      "Validation:   0%|                                                                                | 0/9 [00:00<?, ?it/s]\u001b[A\n",
      "Validation DataLoader 0:   0%|                                                                   | 0/9 [00:00<?, ?it/s]\u001b[A\n",
      "Validation DataLoader 0:  11%|██████▌                                                    | 1/9 [00:00<00:00, 59.95it/s]\u001b[A\n",
      "Validation DataLoader 0:  22%|█████████████                                              | 2/9 [00:00<00:00, 61.21it/s]\u001b[A\n",
      "Validation DataLoader 0:  33%|███████████████████▋                                       | 3/9 [00:00<00:00, 73.77it/s]\u001b[A\n",
      "Validation DataLoader 0:  44%|██████████████████████████▏                                | 4/9 [00:00<00:00, 70.60it/s]\u001b[A\n",
      "Validation DataLoader 0:  56%|████████████████████████████████▊                          | 5/9 [00:00<00:00, 77.34it/s]\u001b[A\n",
      "Validation DataLoader 0:  67%|███████████████████████████████████████▎                   | 6/9 [00:00<00:00, 71.93it/s]\u001b[A\n",
      "Validation DataLoader 0:  78%|█████████████████████████████████████████████▉             | 7/9 [00:00<00:00, 76.58it/s]\u001b[A\n",
      "Validation DataLoader 0:  89%|████████████████████████████████████████████████████▍      | 8/9 [00:00<00:00, 73.98it/s]\u001b[A\n",
      "Validation DataLoader 0: 100%|███████████████████████████████████████████████████████████| 9/9 [00:00<00:00, 77.13it/s]\u001b[A\n",
      "Epoch 74: 100%|██████████████████████████████| 25/25 [00:00<00:00, 48.62it/s, v_num=17, train_acc=0.795, val_acc=0.927]\u001b[A"
     ]
    },
    {
     "name": "stderr",
     "output_type": "stream",
     "text": [
      "Metric val_loss improved by 0.005 >= min_delta = 0.0. New best score: 0.283\n"
     ]
    },
    {
     "name": "stdout",
     "output_type": "stream",
     "text": [
      "Epoch 75: 100%|██████████████████████████████| 25/25 [00:00<00:00, 69.83it/s, v_num=17, train_acc=0.787, val_acc=0.927]\n",
      "Validation: |                                                                                    | 0/? [00:00<?, ?it/s]\u001b[A\n",
      "Validation:   0%|                                                                                | 0/9 [00:00<?, ?it/s]\u001b[A\n",
      "Validation DataLoader 0:   0%|                                                                   | 0/9 [00:00<?, ?it/s]\u001b[A\n",
      "Validation DataLoader 0:  11%|██████▌                                                    | 1/9 [00:00<00:00, 62.54it/s]\u001b[A\n",
      "Validation DataLoader 0:  22%|█████████████                                              | 2/9 [00:00<00:00, 83.39it/s]\u001b[A\n",
      "Validation DataLoader 0:  33%|███████████████████▋                                       | 3/9 [00:00<00:00, 86.02it/s]\u001b[A\n",
      "Validation DataLoader 0:  44%|██████████████████████████▏                                | 4/9 [00:00<00:00, 77.78it/s]\u001b[A\n",
      "Validation DataLoader 0:  56%|████████████████████████████████▊                          | 5/9 [00:00<00:00, 84.14it/s]\u001b[A\n",
      "Validation DataLoader 0:  67%|███████████████████████████████████████▎                   | 6/9 [00:00<00:00, 78.71it/s]\u001b[A\n",
      "Validation DataLoader 0:  78%|█████████████████████████████████████████████▉             | 7/9 [00:00<00:00, 82.54it/s]\u001b[A\n",
      "Validation DataLoader 0:  89%|████████████████████████████████████████████████████▍      | 8/9 [00:00<00:00, 86.20it/s]\u001b[A\n",
      "Validation DataLoader 0: 100%|███████████████████████████████████████████████████████████| 9/9 [00:00<00:00, 82.21it/s]\u001b[A\n",
      "Epoch 76: 100%|██████████████████████████████| 25/25 [00:00<00:00, 69.73it/s, v_num=17, train_acc=0.787, val_acc=0.923]\u001b[A\n",
      "Validation: |                                                                                    | 0/? [00:00<?, ?it/s]\u001b[A\n",
      "Validation:   0%|                                                                                | 0/9 [00:00<?, ?it/s]\u001b[A\n",
      "Validation DataLoader 0:   0%|                                                                   | 0/9 [00:00<?, ?it/s]\u001b[A\n",
      "Validation DataLoader 0:  11%|██████▌                                                    | 1/9 [00:00<00:00, 66.86it/s]\u001b[A\n",
      "Validation DataLoader 0:  22%|█████████████                                              | 2/9 [00:00<00:00, 84.87it/s]\u001b[A\n",
      "Validation DataLoader 0:  33%|███████████████████▋                                       | 3/9 [00:00<00:00, 75.44it/s]\u001b[A\n",
      "Validation DataLoader 0:  44%|██████████████████████████▏                                | 4/9 [00:00<00:00, 83.75it/s]\u001b[A\n",
      "Validation DataLoader 0:  56%|████████████████████████████████▊                          | 5/9 [00:00<00:00, 77.02it/s]\u001b[A\n",
      "Validation DataLoader 0:  67%|███████████████████████████████████████▎                   | 6/9 [00:00<00:00, 81.53it/s]\u001b[A\n",
      "Validation DataLoader 0:  78%|█████████████████████████████████████████████▉             | 7/9 [00:00<00:00, 77.58it/s]\u001b[A\n",
      "Validation DataLoader 0:  89%|████████████████████████████████████████████████████▍      | 8/9 [00:00<00:00, 74.75it/s]\u001b[A\n",
      "Validation DataLoader 0: 100%|███████████████████████████████████████████████████████████| 9/9 [00:00<00:00, 80.03it/s]\u001b[A\n",
      "Epoch 77: 100%|██████████████████████████████| 25/25 [00:00<00:00, 70.64it/s, v_num=17, train_acc=0.827, val_acc=0.926]\u001b[A\n",
      "Validation: |                                                                                    | 0/? [00:00<?, ?it/s]\u001b[A\n",
      "Validation:   0%|                                                                                | 0/9 [00:00<?, ?it/s]\u001b[A\n",
      "Validation DataLoader 0:   0%|                                                                   | 0/9 [00:00<?, ?it/s]\u001b[A\n",
      "Validation DataLoader 0:  11%|██████▌                                                    | 1/9 [00:00<00:00, 59.53it/s]\u001b[A\n",
      "Validation DataLoader 0:  22%|█████████████                                              | 2/9 [00:00<00:00, 78.97it/s]\u001b[A\n",
      "Validation DataLoader 0:  33%|███████████████████▋                                       | 3/9 [00:00<00:00, 72.61it/s]\u001b[A\n",
      "Validation DataLoader 0:  44%|██████████████████████████▏                                | 4/9 [00:00<00:00, 81.12it/s]\u001b[A\n",
      "Validation DataLoader 0:  56%|████████████████████████████████▊                          | 5/9 [00:00<00:00, 85.21it/s]\u001b[A\n",
      "Validation DataLoader 0:  67%|███████████████████████████████████████▎                   | 6/9 [00:00<00:00, 79.84it/s]\u001b[A\n",
      "Validation DataLoader 0:  78%|█████████████████████████████████████████████▉             | 7/9 [00:00<00:00, 83.92it/s]\u001b[A\n",
      "Validation DataLoader 0:  89%|████████████████████████████████████████████████████▍      | 8/9 [00:00<00:00, 86.48it/s]\u001b[A\n",
      "Validation DataLoader 0: 100%|███████████████████████████████████████████████████████████| 9/9 [00:00<00:00, 82.13it/s]\u001b[A\n",
      "Epoch 78: 100%|██████████████████████████████| 25/25 [00:00<00:00, 71.17it/s, v_num=17, train_acc=0.756, val_acc=0.922]\u001b[A\n",
      "Validation: |                                                                                    | 0/? [00:00<?, ?it/s]\u001b[A\n",
      "Validation:   0%|                                                                                | 0/9 [00:00<?, ?it/s]\u001b[A\n",
      "Validation DataLoader 0:   0%|                                                                   | 0/9 [00:00<?, ?it/s]\u001b[A\n",
      "Validation DataLoader 0:  11%|██████▌                                                    | 1/9 [00:00<00:00, 59.87it/s]\u001b[A\n",
      "Validation DataLoader 0:  22%|█████████████                                              | 2/9 [00:00<00:00, 80.97it/s]\u001b[A\n",
      "Validation DataLoader 0:  33%|███████████████████▋                                       | 3/9 [00:00<00:00, 72.45it/s]\u001b[A\n",
      "Validation DataLoader 0:  44%|██████████████████████████▏                                | 4/9 [00:00<00:00, 80.03it/s]\u001b[A\n",
      "Validation DataLoader 0:  56%|████████████████████████████████▊                          | 5/9 [00:00<00:00, 75.03it/s]\u001b[A\n",
      "Validation DataLoader 0:  67%|███████████████████████████████████████▎                   | 6/9 [00:00<00:00, 80.40it/s]\u001b[A\n",
      "Validation DataLoader 0:  78%|█████████████████████████████████████████████▉             | 7/9 [00:00<00:00, 83.98it/s]\u001b[A\n",
      "Validation DataLoader 0:  89%|████████████████████████████████████████████████████▍      | 8/9 [00:00<00:00, 80.00it/s]\u001b[A\n",
      "Validation DataLoader 0: 100%|███████████████████████████████████████████████████████████| 9/9 [00:00<00:00, 83.33it/s]\u001b[A\n",
      "Epoch 78: 100%|██████████████████████████████| 25/25 [00:00<00:00, 50.89it/s, v_num=17, train_acc=0.756, val_acc=0.923]\u001b[A"
     ]
    },
    {
     "name": "stderr",
     "output_type": "stream",
     "text": [
      "Metric val_loss improved by 0.001 >= min_delta = 0.0. New best score: 0.282\n"
     ]
    },
    {
     "name": "stdout",
     "output_type": "stream",
     "text": [
      "Epoch 79: 100%|██████████████████████████████| 25/25 [00:00<00:00, 71.68it/s, v_num=17, train_acc=0.756, val_acc=0.923]\n",
      "Validation: |                                                                                    | 0/? [00:00<?, ?it/s]\u001b[A\n",
      "Validation:   0%|                                                                                | 0/9 [00:00<?, ?it/s]\u001b[A\n",
      "Validation DataLoader 0:   0%|                                                                   | 0/9 [00:00<?, ?it/s]\u001b[A\n",
      "Validation DataLoader 0:  11%|██████▌                                                    | 1/9 [00:00<00:00, 53.54it/s]\u001b[A\n",
      "Validation DataLoader 0:  22%|█████████████                                              | 2/9 [00:00<00:00, 73.16it/s]\u001b[A\n",
      "Validation DataLoader 0:  33%|███████████████████▋                                       | 3/9 [00:00<00:00, 68.24it/s]\u001b[A\n",
      "Validation DataLoader 0:  44%|██████████████████████████▏                                | 4/9 [00:00<00:00, 76.98it/s]\u001b[A\n",
      "Validation DataLoader 0:  56%|████████████████████████████████▊                          | 5/9 [00:00<00:00, 72.85it/s]\u001b[A\n",
      "Validation DataLoader 0:  67%|███████████████████████████████████████▎                   | 6/9 [00:00<00:00, 70.08it/s]\u001b[A\n",
      "Validation DataLoader 0:  78%|█████████████████████████████████████████████▉             | 7/9 [00:00<00:00, 74.44it/s]\u001b[A\n",
      "Validation DataLoader 0:  89%|████████████████████████████████████████████████████▍      | 8/9 [00:00<00:00, 72.31it/s]\u001b[A\n",
      "Validation DataLoader 0: 100%|███████████████████████████████████████████████████████████| 9/9 [00:00<00:00, 75.87it/s]\u001b[A\n",
      "Epoch 79: 100%|██████████████████████████████| 25/25 [00:00<00:00, 47.64it/s, v_num=17, train_acc=0.756, val_acc=0.922]\u001b[A"
     ]
    },
    {
     "name": "stderr",
     "output_type": "stream",
     "text": [
      "Metric val_loss improved by 0.003 >= min_delta = 0.0. New best score: 0.279\n"
     ]
    },
    {
     "name": "stdout",
     "output_type": "stream",
     "text": [
      "Epoch 80: 100%|██████████████████████████████| 25/25 [00:00<00:00, 66.46it/s, v_num=17, train_acc=0.732, val_acc=0.922]\n",
      "Validation: |                                                                                    | 0/? [00:00<?, ?it/s]\u001b[A\n",
      "Validation:   0%|                                                                                | 0/9 [00:00<?, ?it/s]\u001b[A\n",
      "Validation DataLoader 0:   0%|                                                                   | 0/9 [00:00<?, ?it/s]\u001b[A\n",
      "Validation DataLoader 0:  11%|██████▌                                                    | 1/9 [00:00<00:00, 60.02it/s]\u001b[A\n",
      "Validation DataLoader 0:  22%|█████████████                                              | 2/9 [00:00<00:00, 60.04it/s]\u001b[A\n",
      "Validation DataLoader 0:  33%|███████████████████▋                                       | 3/9 [00:00<00:00, 71.49it/s]\u001b[A\n",
      "Validation DataLoader 0:  44%|██████████████████████████▏                                | 4/9 [00:00<00:00, 68.49it/s]\u001b[A\n",
      "Validation DataLoader 0:  56%|████████████████████████████████▊                          | 5/9 [00:00<00:00, 74.99it/s]\u001b[A\n",
      "Validation DataLoader 0:  67%|███████████████████████████████████████▎                   | 6/9 [00:00<00:00, 72.01it/s]\u001b[A\n",
      "Validation DataLoader 0:  78%|█████████████████████████████████████████████▉             | 7/9 [00:00<00:00, 76.13it/s]\u001b[A\n",
      "Validation DataLoader 0:  89%|████████████████████████████████████████████████████▍      | 8/9 [00:00<00:00, 80.05it/s]\u001b[A\n",
      "Validation DataLoader 0: 100%|███████████████████████████████████████████████████████████| 9/9 [00:00<00:00, 77.15it/s]\u001b[A\n",
      "Epoch 80: 100%|██████████████████████████████| 25/25 [00:00<00:00, 48.26it/s, v_num=17, train_acc=0.732, val_acc=0.923]\u001b[A"
     ]
    },
    {
     "name": "stderr",
     "output_type": "stream",
     "text": [
      "Metric val_loss improved by 0.004 >= min_delta = 0.0. New best score: 0.275\n"
     ]
    },
    {
     "name": "stdout",
     "output_type": "stream",
     "text": [
      "Epoch 81: 100%|██████████████████████████████| 25/25 [00:00<00:00, 69.96it/s, v_num=17, train_acc=0.850, val_acc=0.923]\n",
      "Validation: |                                                                                    | 0/? [00:00<?, ?it/s]\u001b[A\n",
      "Validation:   0%|                                                                                | 0/9 [00:00<?, ?it/s]\u001b[A\n",
      "Validation DataLoader 0:   0%|                                                                   | 0/9 [00:00<?, ?it/s]\u001b[A\n",
      "Validation DataLoader 0:  11%|██████▌                                                    | 1/9 [00:00<00:00, 62.54it/s]\u001b[A\n",
      "Validation DataLoader 0:  22%|█████████████                                              | 2/9 [00:00<00:00, 83.38it/s]\u001b[A\n",
      "Validation DataLoader 0:  33%|███████████████████▋                                       | 3/9 [00:00<00:00, 75.05it/s]\u001b[A\n",
      "Validation DataLoader 0:  44%|██████████████████████████▏                                | 4/9 [00:00<00:00, 83.38it/s]\u001b[A\n",
      "Validation DataLoader 0:  56%|████████████████████████████████▊                          | 5/9 [00:00<00:00, 84.95it/s]\u001b[A\n",
      "Validation DataLoader 0:  67%|███████████████████████████████████████▎                   | 6/9 [00:00<00:00, 77.74it/s]\u001b[A\n",
      "Validation DataLoader 0:  78%|█████████████████████████████████████████████▉             | 7/9 [00:00<00:00, 75.80it/s]\u001b[A\n",
      "Validation DataLoader 0:  89%|████████████████████████████████████████████████████▍      | 8/9 [00:00<00:00, 79.72it/s]\u001b[A\n",
      "Validation DataLoader 0: 100%|███████████████████████████████████████████████████████████| 9/9 [00:00<00:00, 83.07it/s]\u001b[A\n",
      "Epoch 82: 100%|██████████████████████████████| 25/25 [00:00<00:00, 71.15it/s, v_num=17, train_acc=0.787, val_acc=0.926]\u001b[A\n",
      "Validation: |                                                                                    | 0/? [00:00<?, ?it/s]\u001b[A\n",
      "Validation:   0%|                                                                                | 0/9 [00:00<?, ?it/s]\u001b[A\n",
      "Validation DataLoader 0:   0%|                                                                   | 0/9 [00:00<?, ?it/s]\u001b[A\n",
      "Validation DataLoader 0:  11%|██████▌                                                    | 1/9 [00:00<00:00, 60.08it/s]\u001b[A\n",
      "Validation DataLoader 0:  22%|█████████████                                              | 2/9 [00:00<00:00, 60.02it/s]\u001b[A\n",
      "Validation DataLoader 0:  33%|███████████████████▋                                       | 3/9 [00:00<00:00, 72.60it/s]\u001b[A\n",
      "Validation DataLoader 0:  44%|██████████████████████████▏                                | 4/9 [00:00<00:00, 80.09it/s]\u001b[A\n",
      "Validation DataLoader 0:  56%|████████████████████████████████▊                          | 5/9 [00:00<00:00, 75.04it/s]\u001b[A\n",
      "Validation DataLoader 0:  67%|███████████████████████████████████████▎                   | 6/9 [00:00<00:00, 80.39it/s]\u001b[A\n",
      "Validation DataLoader 0:  78%|█████████████████████████████████████████████▉             | 7/9 [00:00<00:00, 83.93it/s]\u001b[A\n",
      "Validation DataLoader 0:  89%|████████████████████████████████████████████████████▍      | 8/9 [00:00<00:00, 79.87it/s]\u001b[A\n",
      "Validation DataLoader 0: 100%|███████████████████████████████████████████████████████████| 9/9 [00:00<00:00, 83.21it/s]\u001b[A\n",
      "Epoch 83: 100%|██████████████████████████████| 25/25 [00:00<00:00, 62.47it/s, v_num=17, train_acc=0.827, val_acc=0.924]\u001b[A\n",
      "Validation: |                                                                                    | 0/? [00:00<?, ?it/s]\u001b[A\n",
      "Validation:   0%|                                                                                | 0/9 [00:00<?, ?it/s]\u001b[A\n",
      "Validation DataLoader 0:   0%|                                                                   | 0/9 [00:00<?, ?it/s]\u001b[A\n",
      "Validation DataLoader 0:  11%|██████▌                                                    | 1/9 [00:00<00:00, 59.82it/s]\u001b[A\n",
      "Validation DataLoader 0:  22%|█████████████                                              | 2/9 [00:00<00:00, 80.16it/s]\u001b[A\n",
      "Validation DataLoader 0:  33%|███████████████████▋                                       | 3/9 [00:00<00:00, 91.05it/s]\u001b[A\n",
      "Validation DataLoader 0:  44%|██████████████████████████▏                                | 4/9 [00:00<00:00, 79.87it/s]\u001b[A\n",
      "Validation DataLoader 0:  56%|████████████████████████████████▊                          | 5/9 [00:00<00:00, 85.12it/s]\u001b[A\n",
      "Validation DataLoader 0:  67%|███████████████████████████████████████▎                   | 6/9 [00:00<00:00, 79.55it/s]\u001b[A\n",
      "Validation DataLoader 0:  78%|█████████████████████████████████████████████▉             | 7/9 [00:00<00:00, 83.91it/s]\u001b[A\n",
      "Validation DataLoader 0:  89%|████████████████████████████████████████████████████▍      | 8/9 [00:00<00:00, 79.92it/s]\u001b[A\n",
      "Validation DataLoader 0: 100%|███████████████████████████████████████████████████████████| 9/9 [00:00<00:00, 82.76it/s]\u001b[A\n",
      "Epoch 84: 100%|██████████████████████████████| 25/25 [00:00<00:00, 69.82it/s, v_num=17, train_acc=0.732, val_acc=0.926]\u001b[A\n",
      "Validation: |                                                                                    | 0/? [00:00<?, ?it/s]\u001b[A\n",
      "Validation:   0%|                                                                                | 0/9 [00:00<?, ?it/s]\u001b[A\n",
      "Validation DataLoader 0:   0%|                                                                   | 0/9 [00:00<?, ?it/s]\u001b[A\n",
      "Validation DataLoader 0:  11%|██████▌                                                    | 1/9 [00:00<00:00, 59.78it/s]\u001b[A\n",
      "Validation DataLoader 0:  22%|█████████████                                              | 2/9 [00:00<00:00, 80.89it/s]\u001b[A\n",
      "Validation DataLoader 0:  33%|███████████████████▋                                       | 3/9 [00:00<00:00, 72.62it/s]\u001b[A\n",
      "Validation DataLoader 0:  44%|██████████████████████████▏                                | 4/9 [00:00<00:00, 80.07it/s]\u001b[A\n",
      "Validation DataLoader 0:  56%|████████████████████████████████▊                          | 5/9 [00:00<00:00, 75.27it/s]\u001b[A\n",
      "Validation DataLoader 0:  67%|███████████████████████████████████████▎                   | 6/9 [00:00<00:00, 80.62it/s]\u001b[A\n",
      "Validation DataLoader 0:  78%|█████████████████████████████████████████████▉             | 7/9 [00:00<00:00, 84.11it/s]\u001b[A\n",
      "Validation DataLoader 0:  89%|████████████████████████████████████████████████████▍      | 8/9 [00:00<00:00, 80.08it/s]\u001b[A\n",
      "Validation DataLoader 0: 100%|███████████████████████████████████████████████████████████| 9/9 [00:00<00:00, 83.41it/s]\u001b[A\n",
      "Epoch 85: 100%|██████████████████████████████| 25/25 [00:00<00:00, 69.81it/s, v_num=17, train_acc=0.795, val_acc=0.933]\u001b[A\n",
      "Validation: |                                                                                    | 0/? [00:00<?, ?it/s]\u001b[A\n",
      "Validation:   0%|                                                                                | 0/9 [00:00<?, ?it/s]\u001b[A\n",
      "Validation DataLoader 0:   0%|                                                                   | 0/9 [00:00<?, ?it/s]\u001b[A\n",
      "Validation DataLoader 0:  11%|██████▍                                                   | 1/9 [00:00<00:00, 115.52it/s]\u001b[A\n",
      "Validation DataLoader 0:  22%|█████████████                                              | 2/9 [00:00<00:00, 78.86it/s]\u001b[A\n",
      "Validation DataLoader 0:  33%|███████████████████▋                                       | 3/9 [00:00<00:00, 89.93it/s]\u001b[A\n",
      "Validation DataLoader 0:  44%|██████████████████████████▏                                | 4/9 [00:00<00:00, 92.28it/s]\u001b[A\n",
      "Validation DataLoader 0:  56%|████████████████████████████████▊                          | 5/9 [00:00<00:00, 85.10it/s]\u001b[A\n",
      "Validation DataLoader 0:  67%|███████████████████████████████████████▎                   | 6/9 [00:00<00:00, 89.89it/s]\u001b[A\n",
      "Validation DataLoader 0:  78%|█████████████████████████████████████████████▉             | 7/9 [00:00<00:00, 92.90it/s]\u001b[A\n",
      "Validation DataLoader 0:  89%|████████████████████████████████████████████████████▍      | 8/9 [00:00<00:00, 86.94it/s]\u001b[A\n",
      "Validation DataLoader 0: 100%|███████████████████████████████████████████████████████████| 9/9 [00:00<00:00, 89.99it/s]\u001b[A\n",
      "Epoch 85: 100%|██████████████████████████████| 25/25 [00:00<00:00, 50.87it/s, v_num=17, train_acc=0.795, val_acc=0.927]\u001b[A"
     ]
    },
    {
     "name": "stderr",
     "output_type": "stream",
     "text": [
      "Metric val_loss improved by 0.002 >= min_delta = 0.0. New best score: 0.273\n"
     ]
    },
    {
     "name": "stdout",
     "output_type": "stream",
     "text": [
      "Epoch 86: 100%|██████████████████████████████| 25/25 [00:00<00:00, 70.19it/s, v_num=17, train_acc=0.787, val_acc=0.927]\n",
      "Validation: |                                                                                    | 0/? [00:00<?, ?it/s]\u001b[A\n",
      "Validation:   0%|                                                                                | 0/9 [00:00<?, ?it/s]\u001b[A\n",
      "Validation DataLoader 0:   0%|                                                                   | 0/9 [00:00<?, ?it/s]\u001b[A\n",
      "Validation DataLoader 0:  11%|██████▌                                                    | 1/9 [00:00<00:00, 89.12it/s]\u001b[A\n",
      "Validation DataLoader 0:  22%|█████████████                                              | 2/9 [00:00<00:00, 71.62it/s]\u001b[A\n",
      "Validation DataLoader 0:  33%|███████████████████▋                                       | 3/9 [00:00<00:00, 68.08it/s]\u001b[A\n",
      "Validation DataLoader 0:  44%|██████████████████████████▏                                | 4/9 [00:00<00:00, 76.08it/s]\u001b[A\n",
      "Validation DataLoader 0:  56%|████████████████████████████████▊                          | 5/9 [00:00<00:00, 81.69it/s]\u001b[A\n",
      "Validation DataLoader 0:  67%|███████████████████████████████████████▎                   | 6/9 [00:00<00:00, 77.04it/s]\u001b[A\n",
      "Validation DataLoader 0:  78%|█████████████████████████████████████████████▉             | 7/9 [00:00<00:00, 81.51it/s]\u001b[A\n",
      "Validation DataLoader 0:  89%|████████████████████████████████████████████████████▍      | 8/9 [00:00<00:00, 77.91it/s]\u001b[A\n",
      "Validation DataLoader 0: 100%|███████████████████████████████████████████████████████████| 9/9 [00:00<00:00, 81.10it/s]\u001b[A\n",
      "Epoch 87: 100%|██████████████████████████████| 25/25 [00:00<00:00, 71.42it/s, v_num=17, train_acc=0.795, val_acc=0.924]\u001b[A\n",
      "Validation: |                                                                                    | 0/? [00:00<?, ?it/s]\u001b[A\n",
      "Validation:   0%|                                                                                | 0/9 [00:00<?, ?it/s]\u001b[A\n",
      "Validation DataLoader 0:   0%|                                                                   | 0/9 [00:00<?, ?it/s]\u001b[A\n",
      "Validation DataLoader 0:  11%|██████▌                                                    | 1/9 [00:00<00:00, 62.54it/s]\u001b[A\n",
      "Validation DataLoader 0:  22%|█████████████                                              | 2/9 [00:00<00:00, 77.53it/s]\u001b[A\n",
      "Validation DataLoader 0:  33%|███████████████████▋                                       | 3/9 [00:00<00:00, 70.53it/s]\u001b[A\n",
      "Validation DataLoader 0:  44%|██████████████████████████▏                                | 4/9 [00:00<00:00, 79.15it/s]\u001b[A\n",
      "Validation DataLoader 0:  56%|████████████████████████████████▊                          | 5/9 [00:00<00:00, 84.49it/s]\u001b[A\n",
      "Validation DataLoader 0:  67%|███████████████████████████████████████▎                   | 6/9 [00:00<00:00, 79.45it/s]\u001b[A\n",
      "Validation DataLoader 0:  78%|█████████████████████████████████████████████▉             | 7/9 [00:00<00:00, 83.82it/s]\u001b[A\n",
      "Validation DataLoader 0:  89%|████████████████████████████████████████████████████▍      | 8/9 [00:00<00:00, 80.40it/s]\u001b[A\n",
      "Validation DataLoader 0: 100%|███████████████████████████████████████████████████████████| 9/9 [00:00<00:00, 83.72it/s]\u001b[A\n",
      "Epoch 87: 100%|██████████████████████████████| 25/25 [00:00<00:00, 51.04it/s, v_num=17, train_acc=0.795, val_acc=0.927]\u001b[A"
     ]
    },
    {
     "name": "stderr",
     "output_type": "stream",
     "text": [
      "Metric val_loss improved by 0.004 >= min_delta = 0.0. New best score: 0.269\n"
     ]
    },
    {
     "name": "stdout",
     "output_type": "stream",
     "text": [
      "Epoch 88: 100%|██████████████████████████████| 25/25 [00:00<00:00, 67.47it/s, v_num=17, train_acc=0.795, val_acc=0.927]\n",
      "Validation: |                                                                                    | 0/? [00:00<?, ?it/s]\u001b[A\n",
      "Validation:   0%|                                                                                | 0/9 [00:00<?, ?it/s]\u001b[A\n",
      "Validation DataLoader 0:   0%|                                                                   | 0/9 [00:00<?, ?it/s]\u001b[A\n",
      "Validation DataLoader 0:  11%|██████▌                                                    | 1/9 [00:00<00:00, 60.03it/s]\u001b[A\n",
      "Validation DataLoader 0:  22%|█████████████                                              | 2/9 [00:00<00:00, 78.75it/s]\u001b[A\n",
      "Validation DataLoader 0:  33%|███████████████████▋                                       | 3/9 [00:00<00:00, 71.46it/s]\u001b[A\n",
      "Validation DataLoader 0:  44%|██████████████████████████▏                                | 4/9 [00:00<00:00, 68.30it/s]\u001b[A\n",
      "Validation DataLoader 0:  56%|████████████████████████████████▊                          | 5/9 [00:00<00:00, 75.06it/s]\u001b[A\n",
      "Validation DataLoader 0:  67%|███████████████████████████████████████▎                   | 6/9 [00:00<00:00, 79.69it/s]\u001b[A\n",
      "Validation DataLoader 0:  78%|█████████████████████████████████████████████▉             | 7/9 [00:00<00:00, 76.12it/s]\u001b[A\n",
      "Validation DataLoader 0:  89%|████████████████████████████████████████████████████▍      | 8/9 [00:00<00:00, 74.11it/s]\u001b[A\n",
      "Validation DataLoader 0: 100%|███████████████████████████████████████████████████████████| 9/9 [00:00<00:00, 77.15it/s]\u001b[A\n",
      "Epoch 88: 100%|██████████████████████████████| 25/25 [00:00<00:00, 48.56it/s, v_num=17, train_acc=0.795, val_acc=0.930]\u001b[A"
     ]
    },
    {
     "name": "stderr",
     "output_type": "stream",
     "text": [
      "Metric val_loss improved by 0.001 >= min_delta = 0.0. New best score: 0.269\n"
     ]
    },
    {
     "name": "stdout",
     "output_type": "stream",
     "text": [
      "Epoch 89: 100%|██████████████████████████████| 25/25 [00:00<00:00, 68.22it/s, v_num=17, train_acc=0.850, val_acc=0.930]\n",
      "Validation: |                                                                                    | 0/? [00:00<?, ?it/s]\u001b[A\n",
      "Validation:   0%|                                                                                | 0/9 [00:00<?, ?it/s]\u001b[A\n",
      "Validation DataLoader 0:   0%|                                                                   | 0/9 [00:00<?, ?it/s]\u001b[A\n",
      "Validation DataLoader 0:  11%|██████▌                                                    | 1/9 [00:00<00:00, 51.35it/s]\u001b[A\n",
      "Validation DataLoader 0:  22%|█████████████                                              | 2/9 [00:00<00:00, 71.80it/s]\u001b[A\n",
      "Validation DataLoader 0:  33%|███████████████████▋                                       | 3/9 [00:00<00:00, 67.37it/s]\u001b[A\n",
      "Validation DataLoader 0:  44%|██████████████████████████▏                                | 4/9 [00:00<00:00, 70.57it/s]\u001b[A\n",
      "Validation DataLoader 0:  56%|████████████████████████████████▊                          | 5/9 [00:00<00:00, 68.80it/s]\u001b[A\n",
      "Validation DataLoader 0:  67%|███████████████████████████████████████▎                   | 6/9 [00:00<00:00, 74.38it/s]\u001b[A\n",
      "Validation DataLoader 0:  78%|█████████████████████████████████████████████▉             | 7/9 [00:00<00:00, 72.42it/s]\u001b[A\n",
      "Validation DataLoader 0:  89%|████████████████████████████████████████████████████▍      | 8/9 [00:00<00:00, 71.02it/s]\u001b[A\n",
      "Validation DataLoader 0: 100%|███████████████████████████████████████████████████████████| 9/9 [00:00<00:00, 74.60it/s]\u001b[A\n",
      "Epoch 90: 100%|██████████████████████████████| 25/25 [00:00<00:00, 66.70it/s, v_num=17, train_acc=0.795, val_acc=0.931]\u001b[A\n",
      "Validation: |                                                                                    | 0/? [00:00<?, ?it/s]\u001b[A\n",
      "Validation:   0%|                                                                                | 0/9 [00:00<?, ?it/s]\u001b[A\n",
      "Validation DataLoader 0:   0%|                                                                   | 0/9 [00:00<?, ?it/s]\u001b[A\n",
      "Validation DataLoader 0:  11%|██████▌                                                    | 1/9 [00:00<00:00, 84.45it/s]\u001b[A\n",
      "Validation DataLoader 0:  22%|█████████████                                              | 2/9 [00:00<00:00, 70.99it/s]\u001b[A\n",
      "Validation DataLoader 0:  33%|███████████████████▋                                       | 3/9 [00:00<00:00, 82.94it/s]\u001b[A\n",
      "Validation DataLoader 0:  44%|██████████████████████████▏                                | 4/9 [00:00<00:00, 75.70it/s]\u001b[A\n",
      "Validation DataLoader 0:  56%|████████████████████████████████▊                          | 5/9 [00:00<00:00, 71.49it/s]\u001b[A\n",
      "Validation DataLoader 0:  67%|███████████████████████████████████████▎                   | 6/9 [00:00<00:00, 76.66it/s]\u001b[A\n",
      "Validation DataLoader 0:  78%|█████████████████████████████████████████████▉             | 7/9 [00:00<00:00, 73.59it/s]\u001b[A\n",
      "Validation DataLoader 0:  89%|████████████████████████████████████████████████████▍      | 8/9 [00:00<00:00, 77.58it/s]\u001b[A\n",
      "Validation DataLoader 0: 100%|███████████████████████████████████████████████████████████| 9/9 [00:00<00:00, 80.66it/s]\u001b[A\n",
      "Epoch 90: 100%|██████████████████████████████| 25/25 [00:00<00:00, 46.94it/s, v_num=17, train_acc=0.795, val_acc=0.925]\u001b[A"
     ]
    },
    {
     "name": "stderr",
     "output_type": "stream",
     "text": [
      "Metric val_loss improved by 0.004 >= min_delta = 0.0. New best score: 0.265\n"
     ]
    },
    {
     "name": "stdout",
     "output_type": "stream",
     "text": [
      "Epoch 91: 100%|██████████████████████████████| 25/25 [00:00<00:00, 48.44it/s, v_num=17, train_acc=0.772, val_acc=0.925]\n",
      "Validation: |                                                                                    | 0/? [00:00<?, ?it/s]\u001b[A\n",
      "Validation:   0%|                                                                                | 0/9 [00:00<?, ?it/s]\u001b[A\n",
      "Validation DataLoader 0:   0%|                                                                   | 0/9 [00:00<?, ?it/s]\u001b[A\n",
      "Validation DataLoader 0:  11%|██████▌                                                    | 1/9 [00:00<00:00, 17.50it/s]\u001b[A\n",
      "Validation DataLoader 0:  22%|█████████████                                              | 2/9 [00:00<00:00, 24.62it/s]\u001b[A\n",
      "Validation DataLoader 0:  33%|███████████████████▋                                       | 3/9 [00:00<00:00, 24.29it/s]\u001b[A\n",
      "Validation DataLoader 0:  44%|██████████████████████████▏                                | 4/9 [00:00<00:00, 26.36it/s]\u001b[A\n",
      "Validation DataLoader 0:  56%|████████████████████████████████▊                          | 5/9 [00:00<00:00, 29.76it/s]\u001b[A\n",
      "Validation DataLoader 0:  67%|███████████████████████████████████████▎                   | 6/9 [00:00<00:00, 32.77it/s]\u001b[A\n",
      "Validation DataLoader 0:  78%|█████████████████████████████████████████████▉             | 7/9 [00:00<00:00, 31.29it/s]\u001b[A\n",
      "Validation DataLoader 0:  89%|████████████████████████████████████████████████████▍      | 8/9 [00:00<00:00, 32.24it/s]\u001b[A\n",
      "Validation DataLoader 0: 100%|███████████████████████████████████████████████████████████| 9/9 [00:00<00:00, 31.98it/s]\u001b[A\n",
      "Epoch 92: 100%|██████████████████████████████| 25/25 [00:00<00:00, 50.55it/s, v_num=17, train_acc=0.772, val_acc=0.926]\u001b[A\n",
      "Validation: |                                                                                    | 0/? [00:00<?, ?it/s]\u001b[A\n",
      "Validation:   0%|                                                                                | 0/9 [00:00<?, ?it/s]\u001b[A\n",
      "Validation DataLoader 0:   0%|                                                                   | 0/9 [00:00<?, ?it/s]\u001b[A\n",
      "Validation DataLoader 0:  11%|██████▌                                                    | 1/9 [00:00<00:00, 32.01it/s]\u001b[A\n",
      "Validation DataLoader 0:  22%|█████████████                                              | 2/9 [00:00<00:00, 64.02it/s]\u001b[A\n",
      "Validation DataLoader 0:  33%|███████████████████▋                                       | 3/9 [00:00<00:00, 64.01it/s]\u001b[A\n",
      "Validation DataLoader 0:  44%|██████████████████████████▏                                | 4/9 [00:00<00:00, 64.02it/s]\u001b[A\n",
      "Validation DataLoader 0:  56%|████████████████████████████████▊                          | 5/9 [00:00<00:00, 60.72it/s]\u001b[A\n",
      "Validation DataLoader 0:  67%|███████████████████████████████████████▎                   | 6/9 [00:00<00:00, 62.97it/s]\u001b[A\n",
      "Validation DataLoader 0:  78%|█████████████████████████████████████████████▉             | 7/9 [00:00<00:00, 63.81it/s]\u001b[A\n",
      "Validation DataLoader 0:  89%|████████████████████████████████████████████████████▍      | 8/9 [00:00<00:00, 67.95it/s]\u001b[A\n",
      "Validation DataLoader 0: 100%|███████████████████████████████████████████████████████████| 9/9 [00:00<00:00, 69.89it/s]\u001b[A\n",
      "Epoch 93: 100%|██████████████████████████████| 25/25 [00:00<00:00, 59.68it/s, v_num=17, train_acc=0.772, val_acc=0.927]\u001b[A\n",
      "Validation: |                                                                                    | 0/? [00:00<?, ?it/s]\u001b[A\n",
      "Validation:   0%|                                                                                | 0/9 [00:00<?, ?it/s]\u001b[A\n",
      "Validation DataLoader 0:   0%|                                                                   | 0/9 [00:00<?, ?it/s]\u001b[A\n",
      "Validation DataLoader 0:  11%|██████▍                                                   | 1/9 [00:00<00:00, 128.07it/s]\u001b[A\n",
      "Validation DataLoader 0:  22%|█████████████                                              | 2/9 [00:00<00:00, 81.82it/s]\u001b[A\n",
      "Validation DataLoader 0:  33%|███████████████████▋                                       | 3/9 [00:00<00:00, 73.19it/s]\u001b[A\n",
      "Validation DataLoader 0:  44%|██████████████████████████▏                                | 4/9 [00:00<00:00, 68.40it/s]\u001b[A\n",
      "Validation DataLoader 0:  56%|████████████████████████████████▊                          | 5/9 [00:00<00:00, 75.22it/s]\u001b[A\n",
      "Validation DataLoader 0:  67%|███████████████████████████████████████▎                   | 6/9 [00:00<00:00, 72.75it/s]\u001b[A\n",
      "Validation DataLoader 0:  78%|█████████████████████████████████████████████▉             | 7/9 [00:00<00:00, 70.34it/s]\u001b[A\n",
      "Validation DataLoader 0:  89%|████████████████████████████████████████████████████▍      | 8/9 [00:00<00:00, 74.41it/s]\u001b[A\n",
      "Validation DataLoader 0: 100%|███████████████████████████████████████████████████████████| 9/9 [00:00<00:00, 73.11it/s]\u001b[A\n",
      "Epoch 93: 100%|██████████████████████████████| 25/25 [00:00<00:00, 42.87it/s, v_num=17, train_acc=0.772, val_acc=0.933]\u001b[A"
     ]
    },
    {
     "name": "stderr",
     "output_type": "stream",
     "text": [
      "Metric val_loss improved by 0.000 >= min_delta = 0.0. New best score: 0.265\n"
     ]
    },
    {
     "name": "stdout",
     "output_type": "stream",
     "text": [
      "Epoch 94: 100%|██████████████████████████████| 25/25 [00:00<00:00, 64.14it/s, v_num=17, train_acc=0.811, val_acc=0.933]\n",
      "Validation: |                                                                                    | 0/? [00:00<?, ?it/s]\u001b[A\n",
      "Validation:   0%|                                                                                | 0/9 [00:00<?, ?it/s]\u001b[A\n",
      "Validation DataLoader 0:   0%|                                                                   | 0/9 [00:00<?, ?it/s]\u001b[A\n",
      "Validation DataLoader 0:  11%|██████▌                                                    | 1/9 [00:00<00:00, 56.17it/s]\u001b[A\n",
      "Validation DataLoader 0:  22%|█████████████                                              | 2/9 [00:00<00:00, 59.18it/s]\u001b[A\n",
      "Validation DataLoader 0:  33%|███████████████████▋                                       | 3/9 [00:00<00:00, 60.27it/s]\u001b[A\n",
      "Validation DataLoader 0:  44%|██████████████████████████▏                                | 4/9 [00:00<00:00, 69.23it/s]\u001b[A\n",
      "Validation DataLoader 0:  56%|████████████████████████████████▊                          | 5/9 [00:00<00:00, 76.02it/s]\u001b[A\n",
      "Validation DataLoader 0:  67%|███████████████████████████████████████▎                   | 6/9 [00:00<00:00, 77.18it/s]\u001b[A\n",
      "Validation DataLoader 0:  78%|█████████████████████████████████████████████▉             | 7/9 [00:00<00:00, 71.74it/s]\u001b[A\n",
      "Validation DataLoader 0:  89%|████████████████████████████████████████████████████▍      | 8/9 [00:00<00:00, 72.67it/s]\u001b[A\n",
      "Validation DataLoader 0: 100%|███████████████████████████████████████████████████████████| 9/9 [00:00<00:00, 76.21it/s]\u001b[A\n",
      "Epoch 95: 100%|██████████████████████████████| 25/25 [00:00<00:00, 35.62it/s, v_num=17, train_acc=0.835, val_acc=0.934]\u001b[A\n",
      "Validation: |                                                                                    | 0/? [00:00<?, ?it/s]\u001b[A\n",
      "Validation:   0%|                                                                                | 0/9 [00:00<?, ?it/s]\u001b[A\n",
      "Validation DataLoader 0:   0%|                                                                   | 0/9 [00:00<?, ?it/s]\u001b[A\n",
      "Validation DataLoader 0:  11%|██████▌                                                    | 1/9 [00:00<00:00, 31.11it/s]\u001b[A\n",
      "Validation DataLoader 0:  22%|█████████████                                              | 2/9 [00:00<00:00, 41.55it/s]\u001b[A\n",
      "Validation DataLoader 0:  33%|███████████████████▋                                       | 3/9 [00:00<00:00, 46.79it/s]\u001b[A\n",
      "Validation DataLoader 0:  44%|██████████████████████████▏                                | 4/9 [00:00<00:00, 49.93it/s]\u001b[A\n",
      "Validation DataLoader 0:  56%|████████████████████████████████▊                          | 5/9 [00:00<00:00, 49.32it/s]\u001b[A\n",
      "Validation DataLoader 0:  67%|███████████████████████████████████████▎                   | 6/9 [00:00<00:00, 46.08it/s]\u001b[A\n",
      "Validation DataLoader 0:  78%|█████████████████████████████████████████████▉             | 7/9 [00:00<00:00, 45.21it/s]\u001b[A\n",
      "Validation DataLoader 0:  89%|████████████████████████████████████████████████████▍      | 8/9 [00:00<00:00, 28.94it/s]\u001b[A\n",
      "Validation DataLoader 0: 100%|███████████████████████████████████████████████████████████| 9/9 [00:00<00:00, 29.26it/s]\u001b[A\n",
      "Epoch 95: 100%|██████████████████████████████| 25/25 [00:01<00:00, 23.46it/s, v_num=17, train_acc=0.835, val_acc=0.937]\u001b[A"
     ]
    },
    {
     "name": "stderr",
     "output_type": "stream",
     "text": [
      "Metric val_loss improved by 0.004 >= min_delta = 0.0. New best score: 0.261\n"
     ]
    },
    {
     "name": "stdout",
     "output_type": "stream",
     "text": [
      "Epoch 96: 100%|██████████████████████████████| 25/25 [00:00<00:00, 62.63it/s, v_num=17, train_acc=0.724, val_acc=0.937]\n",
      "Validation: |                                                                                    | 0/? [00:00<?, ?it/s]\u001b[A\n",
      "Validation:   0%|                                                                                | 0/9 [00:00<?, ?it/s]\u001b[A\n",
      "Validation DataLoader 0:   0%|                                                                   | 0/9 [00:00<?, ?it/s]\u001b[A\n",
      "Validation DataLoader 0:  11%|██████▌                                                    | 1/9 [00:00<00:00, 65.17it/s]\u001b[A\n",
      "Validation DataLoader 0:  22%|█████████████                                              | 2/9 [00:00<00:00, 63.74it/s]\u001b[A\n",
      "Validation DataLoader 0:  33%|███████████████████▋                                       | 3/9 [00:00<00:00, 63.12it/s]\u001b[A\n",
      "Validation DataLoader 0:  44%|██████████████████████████▏                                | 4/9 [00:00<00:00, 62.18it/s]\u001b[A\n",
      "Validation DataLoader 0:  56%|████████████████████████████████▊                          | 5/9 [00:00<00:00, 62.25it/s]\u001b[A\n",
      "Validation DataLoader 0:  67%|███████████████████████████████████████▎                   | 6/9 [00:00<00:00, 67.90it/s]\u001b[A\n",
      "Validation DataLoader 0:  78%|█████████████████████████████████████████████▉             | 7/9 [00:00<00:00, 65.95it/s]\u001b[A\n",
      "Validation DataLoader 0:  89%|████████████████████████████████████████████████████▍      | 8/9 [00:00<00:00, 66.19it/s]\u001b[A\n",
      "Validation DataLoader 0: 100%|███████████████████████████████████████████████████████████| 9/9 [00:00<00:00, 68.83it/s]\u001b[A\n",
      "Epoch 96: 100%|██████████████████████████████| 25/25 [00:00<00:00, 43.77it/s, v_num=17, train_acc=0.724, val_acc=0.936]\u001b[A"
     ]
    },
    {
     "name": "stderr",
     "output_type": "stream",
     "text": [
      "Metric val_loss improved by 0.005 >= min_delta = 0.0. New best score: 0.256\n"
     ]
    },
    {
     "name": "stdout",
     "output_type": "stream",
     "text": [
      "Epoch 97: 100%|██████████████████████████████| 25/25 [00:00<00:00, 59.51it/s, v_num=17, train_acc=0.795, val_acc=0.936]\n",
      "Validation: |                                                                                    | 0/? [00:00<?, ?it/s]\u001b[A\n",
      "Validation:   0%|                                                                                | 0/9 [00:00<?, ?it/s]\u001b[A\n",
      "Validation DataLoader 0:   0%|                                                                   | 0/9 [00:00<?, ?it/s]\u001b[A\n",
      "Validation DataLoader 0:  11%|██████▌                                                    | 1/9 [00:00<00:00, 41.69it/s]\u001b[A\n",
      "Validation DataLoader 0:  22%|█████████████                                              | 2/9 [00:00<00:00, 54.12it/s]\u001b[A\n",
      "Validation DataLoader 0:  33%|███████████████████▋                                       | 3/9 [00:00<00:00, 58.01it/s]\u001b[A\n",
      "Validation DataLoader 0:  44%|██████████████████████████▏                                | 4/9 [00:00<00:00, 58.95it/s]\u001b[A\n",
      "Validation DataLoader 0:  56%|████████████████████████████████▊                          | 5/9 [00:00<00:00, 65.92it/s]\u001b[A\n",
      "Validation DataLoader 0:  67%|███████████████████████████████████████▎                   | 6/9 [00:00<00:00, 64.53it/s]\u001b[A\n",
      "Validation DataLoader 0:  78%|█████████████████████████████████████████████▉             | 7/9 [00:00<00:00, 54.93it/s]\u001b[A\n",
      "Validation DataLoader 0:  89%|████████████████████████████████████████████████████▍      | 8/9 [00:00<00:00, 52.92it/s]\u001b[A\n",
      "Validation DataLoader 0: 100%|███████████████████████████████████████████████████████████| 9/9 [00:00<00:00, 53.83it/s]\u001b[A\n",
      "Epoch 98: 100%|██████████████████████████████| 25/25 [00:00<00:00, 71.37it/s, v_num=17, train_acc=0.795, val_acc=0.934]\u001b[A\n",
      "Validation: |                                                                                    | 0/? [00:00<?, ?it/s]\u001b[A\n",
      "Validation:   0%|                                                                                | 0/9 [00:00<?, ?it/s]\u001b[A\n",
      "Validation DataLoader 0:   0%|                                                                   | 0/9 [00:00<?, ?it/s]\u001b[A\n",
      "Validation DataLoader 0:  11%|██████▌                                                    | 1/9 [00:00<00:00, 36.09it/s]\u001b[A\n",
      "Validation DataLoader 0:  22%|█████████████                                              | 2/9 [00:00<00:00, 45.02it/s]\u001b[A\n",
      "Validation DataLoader 0:  33%|███████████████████▋                                       | 3/9 [00:00<00:00, 57.23it/s]\u001b[A\n",
      "Validation DataLoader 0:  44%|██████████████████████████▏                                | 4/9 [00:00<00:00, 57.62it/s]\u001b[A\n",
      "Validation DataLoader 0:  56%|████████████████████████████████▊                          | 5/9 [00:00<00:00, 57.96it/s]\u001b[A\n",
      "Validation DataLoader 0:  67%|███████████████████████████████████████▎                   | 6/9 [00:00<00:00, 60.75it/s]\u001b[A\n",
      "Validation DataLoader 0:  78%|█████████████████████████████████████████████▉             | 7/9 [00:00<00:00, 63.01it/s]\u001b[A\n",
      "Validation DataLoader 0:  89%|████████████████████████████████████████████████████▍      | 8/9 [00:00<00:00, 62.55it/s]\u001b[A\n",
      "Validation DataLoader 0: 100%|███████████████████████████████████████████████████████████| 9/9 [00:00<00:00, 66.23it/s]\u001b[A\n",
      "Epoch 98: 100%|██████████████████████████████| 25/25 [00:00<00:00, 47.86it/s, v_num=17, train_acc=0.795, val_acc=0.936]\u001b[A"
     ]
    },
    {
     "name": "stderr",
     "output_type": "stream",
     "text": [
      "Metric val_loss improved by 0.002 >= min_delta = 0.0. New best score: 0.254\n"
     ]
    },
    {
     "name": "stdout",
     "output_type": "stream",
     "text": [
      "Epoch 99: 100%|██████████████████████████████| 25/25 [00:00<00:00, 51.76it/s, v_num=17, train_acc=0.811, val_acc=0.936]\n",
      "Validation: |                                                                                    | 0/? [00:00<?, ?it/s]\u001b[A\n",
      "Validation:   0%|                                                                                | 0/9 [00:00<?, ?it/s]\u001b[A\n",
      "Validation DataLoader 0:   0%|                                                                   | 0/9 [00:00<?, ?it/s]\u001b[A\n",
      "Validation DataLoader 0:  11%|██████▌                                                    | 1/9 [00:00<00:00, 62.53it/s]\u001b[A\n",
      "Validation DataLoader 0:  22%|█████████████                                              | 2/9 [00:00<00:00, 61.91it/s]\u001b[A\n",
      "Validation DataLoader 0:  33%|███████████████████▋                                       | 3/9 [00:00<00:00, 62.12it/s]\u001b[A\n",
      "Validation DataLoader 0:  44%|██████████████████████████▏                                | 4/9 [00:00<00:00, 62.22it/s]\u001b[A\n",
      "Validation DataLoader 0:  56%|████████████████████████████████▊                          | 5/9 [00:00<00:00, 59.80it/s]\u001b[A\n",
      "Validation DataLoader 0:  67%|███████████████████████████████████████▎                   | 6/9 [00:00<00:00, 65.50it/s]\u001b[A\n",
      "Validation DataLoader 0:  78%|█████████████████████████████████████████████▉             | 7/9 [00:00<00:00, 65.56it/s]\u001b[A\n",
      "Validation DataLoader 0:  89%|████████████████████████████████████████████████████▍      | 8/9 [00:00<00:00, 59.17it/s]\u001b[A\n",
      "Validation DataLoader 0: 100%|███████████████████████████████████████████████████████████| 9/9 [00:00<00:00, 66.57it/s]\u001b[A\n",
      "Epoch 99: 100%|██████████████████████████████| 25/25 [00:00<00:00, 37.48it/s, v_num=17, train_acc=0.811, val_acc=0.936]\u001b[A"
     ]
    },
    {
     "name": "stderr",
     "output_type": "stream",
     "text": [
      "Metric val_loss improved by 0.004 >= min_delta = 0.0. New best score: 0.251\n"
     ]
    },
    {
     "name": "stdout",
     "output_type": "stream",
     "text": [
      "Epoch 100: 100%|█████████████████████████████| 25/25 [00:00<00:00, 66.70it/s, v_num=17, train_acc=0.756, val_acc=0.936]\n",
      "Validation: |                                                                                    | 0/? [00:00<?, ?it/s]\u001b[A\n",
      "Validation:   0%|                                                                                | 0/9 [00:00<?, ?it/s]\u001b[A\n",
      "Validation DataLoader 0:   0%|                                                                   | 0/9 [00:00<?, ?it/s]\u001b[A\n",
      "Validation DataLoader 0:  11%|██████▌                                                    | 1/9 [00:00<00:00, 64.01it/s]\u001b[A\n",
      "Validation DataLoader 0:  22%|█████████████                                              | 2/9 [00:00<00:00, 64.01it/s]\u001b[A\n",
      "Validation DataLoader 0:  33%|███████████████████▋                                       | 3/9 [00:00<00:00, 64.01it/s]\u001b[A\n",
      "Validation DataLoader 0:  44%|██████████████████████████▏                                | 4/9 [00:00<00:00, 64.01it/s]\u001b[A\n",
      "Validation DataLoader 0:  56%|████████████████████████████████▊                          | 5/9 [00:00<00:00, 80.01it/s]\u001b[A\n",
      "Validation DataLoader 0:  67%|███████████████████████████████████████▎                   | 6/9 [00:00<00:00, 76.82it/s]\u001b[A\n",
      "Validation DataLoader 0:  78%|█████████████████████████████████████████████▉             | 7/9 [00:00<00:00, 74.68it/s]\u001b[A\n",
      "Validation DataLoader 0:  89%|████████████████████████████████████████████████████▍      | 8/9 [00:00<00:00, 73.16it/s]\u001b[A\n",
      "Validation DataLoader 0: 100%|███████████████████████████████████████████████████████████| 9/9 [00:00<00:00, 82.30it/s]\u001b[A\n",
      "Epoch 100: 100%|█████████████████████████████| 25/25 [00:00<00:00, 48.46it/s, v_num=17, train_acc=0.756, val_acc=0.939]\u001b[A"
     ]
    },
    {
     "name": "stderr",
     "output_type": "stream",
     "text": [
      "Metric val_loss improved by 0.002 >= min_delta = 0.0. New best score: 0.249\n"
     ]
    },
    {
     "name": "stdout",
     "output_type": "stream",
     "text": [
      "Epoch 101: 100%|█████████████████████████████| 25/25 [00:00<00:00, 66.27it/s, v_num=17, train_acc=0.732, val_acc=0.939]\n",
      "Validation: |                                                                                    | 0/? [00:00<?, ?it/s]\u001b[A\n",
      "Validation:   0%|                                                                                | 0/9 [00:00<?, ?it/s]\u001b[A\n",
      "Validation DataLoader 0:   0%|                                                                   | 0/9 [00:00<?, ?it/s]\u001b[A\n",
      "Validation DataLoader 0:  11%|██████▌                                                    | 1/9 [00:00<00:00, 63.98it/s]\u001b[A\n",
      "Validation DataLoader 0:  22%|█████████████                                              | 2/9 [00:00<00:00, 64.01it/s]\u001b[A\n",
      "Validation DataLoader 0:  33%|███████████████████▋                                       | 3/9 [00:00<00:00, 64.01it/s]\u001b[A\n",
      "Validation DataLoader 0:  44%|██████████████████████████▏                                | 4/9 [00:00<00:00, 64.01it/s]\u001b[A\n",
      "Validation DataLoader 0:  56%|████████████████████████████████▊                          | 5/9 [00:00<00:00, 80.02it/s]\u001b[A\n",
      "Validation DataLoader 0:  67%|███████████████████████████████████████▎                   | 6/9 [00:00<00:00, 76.82it/s]\u001b[A\n",
      "Validation DataLoader 0:  78%|█████████████████████████████████████████████▉             | 7/9 [00:00<00:00, 74.68it/s]\u001b[A\n",
      "Validation DataLoader 0:  89%|████████████████████████████████████████████████████▍      | 8/9 [00:00<00:00, 85.35it/s]\u001b[A\n",
      "Validation DataLoader 0: 100%|███████████████████████████████████████████████████████████| 9/9 [00:00<00:00, 82.30it/s]\u001b[A\n",
      "Epoch 102: 100%|█████████████████████████████| 25/25 [00:00<00:00, 60.52it/s, v_num=17, train_acc=0.717, val_acc=0.933]\u001b[A\n",
      "Validation: |                                                                                    | 0/? [00:00<?, ?it/s]\u001b[A\n",
      "Validation:   0%|                                                                                | 0/9 [00:00<?, ?it/s]\u001b[A\n",
      "Validation DataLoader 0:   0%|                                                                   | 0/9 [00:00<?, ?it/s]\u001b[A\n",
      "Validation DataLoader 0:  11%|██████▌                                                    | 1/9 [00:00<00:00, 61.11it/s]\u001b[A\n",
      "Validation DataLoader 0:  22%|█████████████                                              | 2/9 [00:00<00:00, 59.06it/s]\u001b[A\n",
      "Validation DataLoader 0:  33%|███████████████████▋                                       | 3/9 [00:00<00:00, 51.54it/s]\u001b[A\n",
      "Validation DataLoader 0:  44%|██████████████████████████▏                                | 4/9 [00:00<00:00, 55.62it/s]\u001b[A\n",
      "Validation DataLoader 0:  56%|████████████████████████████████▊                          | 5/9 [00:00<00:00, 59.70it/s]\u001b[A\n",
      "Validation DataLoader 0:  67%|███████████████████████████████████████▎                   | 6/9 [00:00<00:00, 57.34it/s]\u001b[A\n",
      "Validation DataLoader 0:  78%|█████████████████████████████████████████████▉             | 7/9 [00:00<00:00, 61.37it/s]\u001b[A\n",
      "Validation DataLoader 0:  89%|████████████████████████████████████████████████████▍      | 8/9 [00:00<00:00, 60.46it/s]\u001b[A\n",
      "Validation DataLoader 0: 100%|███████████████████████████████████████████████████████████| 9/9 [00:00<00:00, 64.14it/s]\u001b[A\n",
      "Epoch 103: 100%|█████████████████████████████| 25/25 [00:00<00:00, 64.34it/s, v_num=17, train_acc=0.740, val_acc=0.940]\u001b[A\n",
      "Validation: |                                                                                    | 0/? [00:00<?, ?it/s]\u001b[A\n",
      "Validation:   0%|                                                                                | 0/9 [00:00<?, ?it/s]\u001b[A\n",
      "Validation DataLoader 0:   0%|                                                                   | 0/9 [00:00<?, ?it/s]\u001b[A\n",
      "Validation DataLoader 0:  11%|██████▌                                                    | 1/9 [00:00<00:00, 62.38it/s]\u001b[A\n",
      "Validation DataLoader 0:  22%|████████████▉                                             | 2/9 [00:00<00:00, 124.77it/s]\u001b[A\n",
      "Validation DataLoader 0:  33%|███████████████████▋                                       | 3/9 [00:00<00:00, 94.77it/s]\u001b[A\n",
      "Validation DataLoader 0:  44%|██████████████████████████▏                                | 4/9 [00:00<00:00, 84.61it/s]\u001b[A\n",
      "Validation DataLoader 0:  56%|████████████████████████████████▊                          | 5/9 [00:00<00:00, 79.04it/s]\u001b[A\n",
      "Validation DataLoader 0:  67%|███████████████████████████████████████▎                   | 6/9 [00:00<00:00, 84.21it/s]\u001b[A\n",
      "Validation DataLoader 0:  78%|█████████████████████████████████████████████▉             | 7/9 [00:00<00:00, 88.19it/s]\u001b[A\n",
      "Validation DataLoader 0:  89%|████████████████████████████████████████████████████▍      | 8/9 [00:00<00:00, 84.21it/s]\u001b[A\n",
      "Validation DataLoader 0: 100%|███████████████████████████████████████████████████████████| 9/9 [00:00<00:00, 94.74it/s]\u001b[A\n",
      "Epoch 104: 100%|█████████████████████████████| 25/25 [00:00<00:00, 60.22it/s, v_num=17, train_acc=0.764, val_acc=0.940]\u001b[A\n",
      "Validation: |                                                                                    | 0/? [00:00<?, ?it/s]\u001b[A\n",
      "Validation:   0%|                                                                                | 0/9 [00:00<?, ?it/s]\u001b[A\n",
      "Validation DataLoader 0:   0%|                                                                   | 0/9 [00:00<?, ?it/s]\u001b[A\n",
      "Validation DataLoader 0:  11%|██████▌                                                    | 1/9 [00:00<00:00, 56.43it/s]\u001b[A\n",
      "Validation DataLoader 0:  22%|█████████████                                              | 2/9 [00:00<00:00, 59.48it/s]\u001b[A\n",
      "Validation DataLoader 0:  33%|███████████████████▋                                       | 3/9 [00:00<00:00, 64.10it/s]\u001b[A\n",
      "Validation DataLoader 0:  44%|██████████████████████████▏                                | 4/9 [00:00<00:00, 67.88it/s]\u001b[A\n",
      "Validation DataLoader 0:  56%|████████████████████████████████▊                          | 5/9 [00:00<00:00, 66.74it/s]\u001b[A\n",
      "Validation DataLoader 0:  67%|███████████████████████████████████████▎                   | 6/9 [00:00<00:00, 66.00it/s]\u001b[A\n",
      "Validation DataLoader 0:  78%|█████████████████████████████████████████████▉             | 7/9 [00:00<00:00, 67.33it/s]\u001b[A\n",
      "Validation DataLoader 0:  89%|████████████████████████████████████████████████████▍      | 8/9 [00:00<00:00, 68.43it/s]\u001b[A\n",
      "Validation DataLoader 0: 100%|███████████████████████████████████████████████████████████| 9/9 [00:00<00:00, 70.90it/s]\u001b[A\n",
      "Epoch 105: 100%|█████████████████████████████| 25/25 [00:00<00:00, 66.46it/s, v_num=17, train_acc=0.850, val_acc=0.934]\u001b[A\n",
      "Validation: |                                                                                    | 0/? [00:00<?, ?it/s]\u001b[A\n",
      "Validation:   0%|                                                                                | 0/9 [00:00<?, ?it/s]\u001b[A\n",
      "Validation DataLoader 0:   0%|                                                                   | 0/9 [00:00<?, ?it/s]\u001b[A\n",
      "Validation DataLoader 0:  11%|██████▌                                                    | 1/9 [00:00<00:00, 64.02it/s]\u001b[A\n",
      "Validation DataLoader 0:  22%|█████████████                                              | 2/9 [00:00<00:00, 64.02it/s]\u001b[A\n",
      "Validation DataLoader 0:  33%|███████████████████▋                                       | 3/9 [00:00<00:00, 64.02it/s]\u001b[A\n",
      "Validation DataLoader 0:  44%|██████████████████████████▏                                | 4/9 [00:00<00:00, 63.46it/s]\u001b[A\n",
      "Validation DataLoader 0:  56%|████████████████████████████████▊                          | 5/9 [00:00<00:00, 70.35it/s]\u001b[A\n",
      "Validation DataLoader 0:  67%|███████████████████████████████████████▎                   | 6/9 [00:00<00:00, 84.42it/s]\u001b[A\n",
      "Validation DataLoader 0:  78%|█████████████████████████████████████████████▉             | 7/9 [00:00<00:00, 80.74it/s]\u001b[A\n",
      "Validation DataLoader 0:  89%|████████████████████████████████████████████████████▍      | 8/9 [00:00<00:00, 78.19it/s]\u001b[A\n",
      "Validation DataLoader 0: 100%|███████████████████████████████████████████████████████████| 9/9 [00:00<00:00, 76.31it/s]\u001b[A\n",
      "Epoch 105: 100%|█████████████████████████████| 25/25 [00:00<00:00, 47.74it/s, v_num=17, train_acc=0.850, val_acc=0.933]\u001b[A"
     ]
    },
    {
     "name": "stderr",
     "output_type": "stream",
     "text": [
      "Metric val_loss improved by 0.001 >= min_delta = 0.0. New best score: 0.248\n"
     ]
    },
    {
     "name": "stdout",
     "output_type": "stream",
     "text": [
      "Epoch 106: 100%|█████████████████████████████| 25/25 [00:00<00:00, 49.95it/s, v_num=17, train_acc=0.740, val_acc=0.933]\n",
      "Validation: |                                                                                    | 0/? [00:00<?, ?it/s]\u001b[A\n",
      "Validation:   0%|                                                                                | 0/9 [00:00<?, ?it/s]\u001b[A\n",
      "Validation DataLoader 0:   0%|                                                                   | 0/9 [00:00<?, ?it/s]\u001b[A\n",
      "Validation DataLoader 0:  11%|██████▌                                                    | 1/9 [00:00<00:00, 18.60it/s]\u001b[A\n",
      "Validation DataLoader 0:  22%|█████████████                                              | 2/9 [00:00<00:00, 20.85it/s]\u001b[A\n",
      "Validation DataLoader 0:  33%|███████████████████▋                                       | 3/9 [00:00<00:00, 28.71it/s]\u001b[A\n",
      "Validation DataLoader 0:  44%|██████████████████████████▏                                | 4/9 [00:00<00:00, 33.30it/s]\u001b[A\n",
      "Validation DataLoader 0:  56%|████████████████████████████████▊                          | 5/9 [00:00<00:00, 29.18it/s]\u001b[A\n",
      "Validation DataLoader 0:  67%|███████████████████████████████████████▎                   | 6/9 [00:00<00:00, 29.40it/s]\u001b[A\n",
      "Validation DataLoader 0:  78%|█████████████████████████████████████████████▉             | 7/9 [00:00<00:00, 31.93it/s]\u001b[A\n",
      "Validation DataLoader 0:  89%|████████████████████████████████████████████████████▍      | 8/9 [00:00<00:00, 34.01it/s]\u001b[A\n",
      "Validation DataLoader 0: 100%|███████████████████████████████████████████████████████████| 9/9 [00:00<00:00, 25.93it/s]\u001b[A\n",
      "Epoch 107: 100%|█████████████████████████████| 25/25 [00:00<00:00, 52.00it/s, v_num=17, train_acc=0.764, val_acc=0.932]\u001b[A\n",
      "Validation: |                                                                                    | 0/? [00:00<?, ?it/s]\u001b[A\n",
      "Validation:   0%|                                                                                | 0/9 [00:00<?, ?it/s]\u001b[A\n",
      "Validation DataLoader 0:   0%|                                                                   | 0/9 [00:00<?, ?it/s]\u001b[A\n",
      "Validation DataLoader 0:  11%|██████▌                                                    | 1/9 [00:00<00:00, 58.82it/s]\u001b[A\n",
      "Validation DataLoader 0:  22%|█████████████                                              | 2/9 [00:00<00:00, 20.11it/s]\u001b[A\n",
      "Validation DataLoader 0:  33%|███████████████████▋                                       | 3/9 [00:00<00:00, 24.31it/s]\u001b[A\n",
      "Validation DataLoader 0:  44%|██████████████████████████▏                                | 4/9 [00:00<00:00, 28.69it/s]\u001b[A\n",
      "Validation DataLoader 0:  56%|████████████████████████████████▊                          | 5/9 [00:00<00:00, 32.18it/s]\u001b[A\n",
      "Validation DataLoader 0:  67%|███████████████████████████████████████▎                   | 6/9 [00:00<00:00, 35.12it/s]\u001b[A\n",
      "Validation DataLoader 0:  78%|█████████████████████████████████████████████▉             | 7/9 [00:00<00:00, 38.05it/s]\u001b[A\n",
      "Validation DataLoader 0:  89%|████████████████████████████████████████████████████▍      | 8/9 [00:00<00:00, 40.21it/s]\u001b[A\n",
      "Validation DataLoader 0: 100%|███████████████████████████████████████████████████████████| 9/9 [00:00<00:00, 41.73it/s]\u001b[A\n",
      "Epoch 107: 100%|█████████████████████████████| 25/25 [00:00<00:00, 33.19it/s, v_num=17, train_acc=0.764, val_acc=0.942]\u001b[A"
     ]
    },
    {
     "name": "stderr",
     "output_type": "stream",
     "text": [
      "Metric val_loss improved by 0.001 >= min_delta = 0.0. New best score: 0.246\n"
     ]
    },
    {
     "name": "stdout",
     "output_type": "stream",
     "text": [
      "Epoch 108: 100%|█████████████████████████████| 25/25 [00:00<00:00, 66.73it/s, v_num=17, train_acc=0.717, val_acc=0.942]\n",
      "Validation: |                                                                                    | 0/? [00:00<?, ?it/s]\u001b[A\n",
      "Validation:   0%|                                                                                | 0/9 [00:00<?, ?it/s]\u001b[A\n",
      "Validation DataLoader 0:   0%|                                                                   | 0/9 [00:00<?, ?it/s]\u001b[A\n",
      "Validation DataLoader 0:  11%|██████▌                                                    | 1/9 [00:00<00:00, 39.81it/s]\u001b[A\n",
      "Validation DataLoader 0:  22%|█████████████                                              | 2/9 [00:00<00:00, 48.65it/s]\u001b[A\n",
      "Validation DataLoader 0:  33%|███████████████████▋                                       | 3/9 [00:00<00:00, 61.09it/s]\u001b[A\n",
      "Validation DataLoader 0:  44%|██████████████████████████▏                                | 4/9 [00:00<00:00, 61.45it/s]\u001b[A\n",
      "Validation DataLoader 0:  56%|████████████████████████████████▊                          | 5/9 [00:00<00:00, 68.41it/s]\u001b[A\n",
      "Validation DataLoader 0:  67%|███████████████████████████████████████▎                   | 6/9 [00:00<00:00, 67.35it/s]\u001b[A\n",
      "Validation DataLoader 0:  78%|█████████████████████████████████████████████▉             | 7/9 [00:00<00:00, 66.62it/s]\u001b[A\n",
      "Validation DataLoader 0:  89%|████████████████████████████████████████████████████▍      | 8/9 [00:00<00:00, 70.76it/s]\u001b[A\n",
      "Validation DataLoader 0: 100%|███████████████████████████████████████████████████████████| 9/9 [00:00<00:00, 74.34it/s]\u001b[A\n",
      "Epoch 108: 100%|█████████████████████████████| 25/25 [00:00<00:00, 46.73it/s, v_num=17, train_acc=0.717, val_acc=0.934]\u001b[A"
     ]
    },
    {
     "name": "stderr",
     "output_type": "stream",
     "text": [
      "Metric val_loss improved by 0.001 >= min_delta = 0.0. New best score: 0.245\n"
     ]
    },
    {
     "name": "stdout",
     "output_type": "stream",
     "text": [
      "Epoch 109: 100%|█████████████████████████████| 25/25 [00:00<00:00, 68.15it/s, v_num=17, train_acc=0.787, val_acc=0.934]\n",
      "Validation: |                                                                                    | 0/? [00:00<?, ?it/s]\u001b[A\n",
      "Validation:   0%|                                                                                | 0/9 [00:00<?, ?it/s]\u001b[A\n",
      "Validation DataLoader 0:   0%|                                                                   | 0/9 [00:00<?, ?it/s]\u001b[A\n",
      "Validation DataLoader 0:  11%|██████▌                                                    | 1/9 [00:00<00:00, 40.38it/s]\u001b[A\n",
      "Validation DataLoader 0:  22%|█████████████                                              | 2/9 [00:00<00:00, 61.05it/s]\u001b[A\n",
      "Validation DataLoader 0:  33%|███████████████████▋                                       | 3/9 [00:00<00:00, 60.23it/s]\u001b[A\n",
      "Validation DataLoader 0:  44%|██████████████████████████▏                                | 4/9 [00:00<00:00, 69.19it/s]\u001b[A\n",
      "Validation DataLoader 0:  56%|████████████████████████████████▊                          | 5/9 [00:00<00:00, 67.75it/s]\u001b[A\n",
      "Validation DataLoader 0:  67%|███████████████████████████████████████▎                   | 6/9 [00:00<00:00, 72.16it/s]\u001b[A\n",
      "Validation DataLoader 0:  78%|█████████████████████████████████████████████▉             | 7/9 [00:00<00:00, 69.99it/s]\u001b[A\n",
      "Validation DataLoader 0:  89%|████████████████████████████████████████████████████▍      | 8/9 [00:00<00:00, 68.55it/s]\u001b[A\n",
      "Validation DataLoader 0: 100%|███████████████████████████████████████████████████████████| 9/9 [00:00<00:00, 74.29it/s]\u001b[A\n",
      "Epoch 110: 100%|█████████████████████████████| 25/25 [00:00<00:00, 50.39it/s, v_num=17, train_acc=0.787, val_acc=0.934]\u001b[A\n",
      "Validation: |                                                                                    | 0/? [00:00<?, ?it/s]\u001b[A\n",
      "Validation:   0%|                                                                                | 0/9 [00:00<?, ?it/s]\u001b[A\n",
      "Validation DataLoader 0:   0%|                                                                   | 0/9 [00:00<?, ?it/s]\u001b[A\n",
      "Validation DataLoader 0:  11%|██████▌                                                    | 1/9 [00:00<00:00, 56.74it/s]\u001b[A\n",
      "Validation DataLoader 0:  22%|█████████████                                              | 2/9 [00:00<00:00, 76.89it/s]\u001b[A\n",
      "Validation DataLoader 0:  33%|███████████████████▋                                       | 3/9 [00:00<00:00, 70.18it/s]\u001b[A\n",
      "Validation DataLoader 0:  44%|██████████████████████████▏                                | 4/9 [00:00<00:00, 78.83it/s]\u001b[A\n",
      "Validation DataLoader 0:  56%|████████████████████████████████▊                          | 5/9 [00:00<00:00, 74.25it/s]\u001b[A\n",
      "Validation DataLoader 0:  67%|███████████████████████████████████████▎                   | 6/9 [00:00<00:00, 78.81it/s]\u001b[A\n",
      "Validation DataLoader 0:  78%|█████████████████████████████████████████████▉             | 7/9 [00:00<00:00, 75.27it/s]\u001b[A\n",
      "Validation DataLoader 0:  89%|████████████████████████████████████████████████████▍      | 8/9 [00:00<00:00, 79.21it/s]\u001b[A\n",
      "Validation DataLoader 0: 100%|███████████████████████████████████████████████████████████| 9/9 [00:00<00:00, 76.70it/s]\u001b[A\n",
      "Epoch 111: 100%|█████████████████████████████| 25/25 [00:00<00:00, 68.17it/s, v_num=17, train_acc=0.772, val_acc=0.938]\u001b[A\n",
      "Validation: |                                                                                    | 0/? [00:00<?, ?it/s]\u001b[A\n",
      "Validation:   0%|                                                                                | 0/9 [00:00<?, ?it/s]\u001b[A\n",
      "Validation DataLoader 0:   0%|                                                                   | 0/9 [00:00<?, ?it/s]\u001b[A\n",
      "Validation DataLoader 0:  11%|██████▌                                                    | 1/9 [00:00<00:00, 62.54it/s]\u001b[A\n",
      "Validation DataLoader 0:  22%|█████████████                                              | 2/9 [00:00<00:00, 62.18it/s]\u001b[A\n",
      "Validation DataLoader 0:  33%|███████████████████▋                                       | 3/9 [00:00<00:00, 62.30it/s]\u001b[A\n",
      "Validation DataLoader 0:  44%|██████████████████████████▏                                | 4/9 [00:00<00:00, 71.24it/s]\u001b[A\n",
      "Validation DataLoader 0:  56%|████████████████████████████████▊                          | 5/9 [00:00<00:00, 70.81it/s]\u001b[A\n",
      "Validation DataLoader 0:  67%|███████████████████████████████████████▎                   | 6/9 [00:00<00:00, 71.72it/s]\u001b[A\n",
      "Validation DataLoader 0:  78%|█████████████████████████████████████████████▉             | 7/9 [00:00<00:00, 69.93it/s]\u001b[A\n",
      "Validation DataLoader 0:  89%|████████████████████████████████████████████████████▍      | 8/9 [00:00<00:00, 73.82it/s]\u001b[A\n",
      "Validation DataLoader 0: 100%|███████████████████████████████████████████████████████████| 9/9 [00:00<00:00, 76.89it/s]\u001b[A\n",
      "Epoch 111: 100%|█████████████████████████████| 25/25 [00:00<00:00, 46.92it/s, v_num=17, train_acc=0.772, val_acc=0.941]\u001b[A"
     ]
    },
    {
     "name": "stderr",
     "output_type": "stream",
     "text": [
      "Metric val_loss improved by 0.000 >= min_delta = 0.0. New best score: 0.245\n"
     ]
    },
    {
     "name": "stdout",
     "output_type": "stream",
     "text": [
      "Epoch 112: 100%|█████████████████████████████| 25/25 [00:00<00:00, 63.99it/s, v_num=17, train_acc=0.780, val_acc=0.941]\n",
      "Validation: |                                                                                    | 0/? [00:00<?, ?it/s]\u001b[A\n",
      "Validation:   0%|                                                                                | 0/9 [00:00<?, ?it/s]\u001b[A\n",
      "Validation DataLoader 0:   0%|                                                                   | 0/9 [00:00<?, ?it/s]\u001b[A\n",
      "Validation DataLoader 0:  11%|██████▌                                                    | 1/9 [00:00<00:00, 62.54it/s]\u001b[A\n",
      "Validation DataLoader 0:  22%|█████████████                                              | 2/9 [00:00<00:00, 74.92it/s]\u001b[A\n",
      "Validation DataLoader 0:  33%|███████████████████▋                                       | 3/9 [00:00<00:00, 86.48it/s]\u001b[A\n",
      "Validation DataLoader 0:  44%|██████████████████████████▏                                | 4/9 [00:00<00:00, 77.70it/s]\u001b[A\n",
      "Validation DataLoader 0:  56%|████████████████████████████████▊                          | 5/9 [00:00<00:00, 83.24it/s]\u001b[A\n",
      "Validation DataLoader 0:  67%|███████████████████████████████████████▎                   | 6/9 [00:00<00:00, 88.16it/s]\u001b[A\n",
      "Validation DataLoader 0:  78%|█████████████████████████████████████████████▉             | 7/9 [00:00<00:00, 82.50it/s]\u001b[A\n",
      "Validation DataLoader 0:  89%|████████████████████████████████████████████████████▍      | 8/9 [00:00<00:00, 86.17it/s]\u001b[A\n",
      "Validation DataLoader 0: 100%|███████████████████████████████████████████████████████████| 9/9 [00:00<00:00, 89.25it/s]\u001b[A\n",
      "Epoch 113: 100%|█████████████████████████████| 25/25 [00:00<00:00, 64.87it/s, v_num=17, train_acc=0.677, val_acc=0.941]\u001b[A\n",
      "Validation: |                                                                                    | 0/? [00:00<?, ?it/s]\u001b[A\n",
      "Validation:   0%|                                                                                | 0/9 [00:00<?, ?it/s]\u001b[A\n",
      "Validation DataLoader 0:   0%|                                                                   | 0/9 [00:00<?, ?it/s]\u001b[A\n",
      "Validation DataLoader 0:  11%|██████▍                                                   | 1/9 [00:00<00:00, 114.78it/s]\u001b[A\n",
      "Validation DataLoader 0:  22%|█████████████                                              | 2/9 [00:00<00:00, 78.44it/s]\u001b[A\n",
      "Validation DataLoader 0:  33%|███████████████████▋                                       | 3/9 [00:00<00:00, 88.01it/s]\u001b[A\n",
      "Validation DataLoader 0:  44%|██████████████████████████▏                                | 4/9 [00:00<00:00, 78.99it/s]\u001b[A\n",
      "Validation DataLoader 0:  56%|████████████████████████████████▊                          | 5/9 [00:00<00:00, 85.27it/s]\u001b[A\n",
      "Validation DataLoader 0:  67%|███████████████████████████████████████▎                   | 6/9 [00:00<00:00, 89.06it/s]\u001b[A\n",
      "Validation DataLoader 0:  78%|█████████████████████████████████████████████▉             | 7/9 [00:00<00:00, 83.34it/s]\u001b[A\n",
      "Validation DataLoader 0:  89%|████████████████████████████████████████████████████▍      | 8/9 [00:00<00:00, 79.43it/s]\u001b[A\n",
      "Validation DataLoader 0: 100%|███████████████████████████████████████████████████████████| 9/9 [00:00<00:00, 82.79it/s]\u001b[A\n",
      "Epoch 113: 100%|█████████████████████████████| 25/25 [00:00<00:00, 47.47it/s, v_num=17, train_acc=0.677, val_acc=0.938]\u001b[A"
     ]
    },
    {
     "name": "stderr",
     "output_type": "stream",
     "text": [
      "Metric val_loss improved by 0.004 >= min_delta = 0.0. New best score: 0.241\n"
     ]
    },
    {
     "name": "stdout",
     "output_type": "stream",
     "text": [
      "Epoch 114: 100%|█████████████████████████████| 25/25 [00:00<00:00, 62.50it/s, v_num=17, train_acc=0.740, val_acc=0.938]\n",
      "Validation: |                                                                                    | 0/? [00:00<?, ?it/s]\u001b[A\n",
      "Validation:   0%|                                                                                | 0/9 [00:00<?, ?it/s]\u001b[A\n",
      "Validation DataLoader 0:   0%|                                                                   | 0/9 [00:00<?, ?it/s]\u001b[A\n",
      "Validation DataLoader 0:  11%|██████▌                                                    | 1/9 [00:00<00:00, 60.01it/s]\u001b[A\n",
      "Validation DataLoader 0:  22%|█████████████                                              | 2/9 [00:00<00:00, 56.52it/s]\u001b[A\n",
      "Validation DataLoader 0:  33%|███████████████████▋                                       | 3/9 [00:00<00:00, 69.15it/s]\u001b[A\n",
      "Validation DataLoader 0:  44%|██████████████████████████▏                                | 4/9 [00:00<00:00, 69.61it/s]\u001b[A\n",
      "Validation DataLoader 0:  56%|████████████████████████████████▊                          | 5/9 [00:00<00:00, 70.37it/s]\u001b[A\n",
      "Validation DataLoader 0:  67%|███████████████████████████████████████▎                   | 6/9 [00:00<00:00, 66.17it/s]\u001b[A\n",
      "Validation DataLoader 0:  78%|█████████████████████████████████████████████▉             | 7/9 [00:00<00:00, 69.82it/s]\u001b[A\n",
      "Validation DataLoader 0:  89%|████████████████████████████████████████████████████▍      | 8/9 [00:00<00:00, 68.51it/s]\u001b[A\n",
      "Validation DataLoader 0: 100%|███████████████████████████████████████████████████████████| 9/9 [00:00<00:00, 68.52it/s]\u001b[A\n",
      "Epoch 115: 100%|█████████████████████████████| 25/25 [00:00<00:00, 68.13it/s, v_num=17, train_acc=0.795, val_acc=0.942]\u001b[A\n",
      "Validation: |                                                                                    | 0/? [00:00<?, ?it/s]\u001b[A\n",
      "Validation:   0%|                                                                                | 0/9 [00:00<?, ?it/s]\u001b[A\n",
      "Validation DataLoader 0:   0%|                                                                   | 0/9 [00:00<?, ?it/s]\u001b[A\n",
      "Validation DataLoader 0:  11%|██████▌                                                    | 1/9 [00:00<00:00, 59.83it/s]\u001b[A\n",
      "Validation DataLoader 0:  22%|█████████████                                              | 2/9 [00:00<00:00, 80.95it/s]\u001b[A\n",
      "Validation DataLoader 0:  33%|███████████████████▋                                       | 3/9 [00:00<00:00, 73.71it/s]\u001b[A\n",
      "Validation DataLoader 0:  44%|██████████████████████████▏                                | 4/9 [00:00<00:00, 82.15it/s]\u001b[A\n",
      "Validation DataLoader 0:  56%|████████████████████████████████▊                          | 5/9 [00:00<00:00, 77.30it/s]\u001b[A\n",
      "Validation DataLoader 0:  67%|███████████████████████████████████████▎                   | 6/9 [00:00<00:00, 79.65it/s]\u001b[A\n",
      "Validation DataLoader 0:  78%|█████████████████████████████████████████████▉             | 7/9 [00:00<00:00, 84.00it/s]\u001b[A\n",
      "Validation DataLoader 0:  89%|████████████████████████████████████████████████████▍      | 8/9 [00:00<00:00, 79.99it/s]\u001b[A\n",
      "Validation DataLoader 0: 100%|███████████████████████████████████████████████████████████| 9/9 [00:00<00:00, 82.81it/s]\u001b[A\n",
      "Epoch 115: 100%|█████████████████████████████| 25/25 [00:00<00:00, 49.12it/s, v_num=17, train_acc=0.795, val_acc=0.938]\u001b[A"
     ]
    },
    {
     "name": "stderr",
     "output_type": "stream",
     "text": [
      "Metric val_loss improved by 0.002 >= min_delta = 0.0. New best score: 0.239\n"
     ]
    },
    {
     "name": "stdout",
     "output_type": "stream",
     "text": [
      "Epoch 116: 100%|█████████████████████████████| 25/25 [00:00<00:00, 65.31it/s, v_num=17, train_acc=0.764, val_acc=0.938]\n",
      "Validation: |                                                                                    | 0/? [00:00<?, ?it/s]\u001b[A\n",
      "Validation:   0%|                                                                                | 0/9 [00:00<?, ?it/s]\u001b[A\n",
      "Validation DataLoader 0:   0%|                                                                   | 0/9 [00:00<?, ?it/s]\u001b[A\n",
      "Validation DataLoader 0:  11%|██████▌                                                    | 1/9 [00:00<00:00, 59.92it/s]\u001b[A\n",
      "Validation DataLoader 0:  22%|█████████████                                              | 2/9 [00:00<00:00, 61.20it/s]\u001b[A\n",
      "Validation DataLoader 0:  33%|███████████████████▋                                       | 3/9 [00:00<00:00, 70.43it/s]\u001b[A\n",
      "Validation DataLoader 0:  44%|██████████████████████████▏                                | 4/9 [00:00<00:00, 67.53it/s]\u001b[A\n",
      "Validation DataLoader 0:  56%|████████████████████████████████▊                          | 5/9 [00:00<00:00, 74.37it/s]\u001b[A\n",
      "Validation DataLoader 0:  67%|███████████████████████████████████████▎                   | 6/9 [00:00<00:00, 74.71it/s]\u001b[A\n",
      "Validation DataLoader 0:  78%|█████████████████████████████████████████████▉             | 7/9 [00:00<00:00, 75.59it/s]\u001b[A\n",
      "Validation DataLoader 0:  89%|████████████████████████████████████████████████████▍      | 8/9 [00:00<00:00, 73.67it/s]\u001b[A\n",
      "Validation DataLoader 0: 100%|███████████████████████████████████████████████████████████| 9/9 [00:00<00:00, 77.19it/s]\u001b[A\n",
      "Epoch 117: 100%|█████████████████████████████| 25/25 [00:00<00:00, 70.99it/s, v_num=17, train_acc=0.795, val_acc=0.940]\u001b[A\n",
      "Validation: |                                                                                    | 0/? [00:00<?, ?it/s]\u001b[A\n",
      "Validation:   0%|                                                                                | 0/9 [00:00<?, ?it/s]\u001b[A\n",
      "Validation DataLoader 0:   0%|                                                                   | 0/9 [00:00<?, ?it/s]\u001b[A\n",
      "Validation DataLoader 0:  11%|██████▌                                                    | 1/9 [00:00<00:00, 62.12it/s]\u001b[A\n",
      "Validation DataLoader 0:  22%|█████████████                                              | 2/9 [00:00<00:00, 61.99it/s]\u001b[A\n",
      "Validation DataLoader 0:  33%|███████████████████▋                                       | 3/9 [00:00<00:00, 74.51it/s]\u001b[A\n",
      "Validation DataLoader 0:  44%|██████████████████████████▏                                | 4/9 [00:00<00:00, 69.69it/s]\u001b[A\n",
      "Validation DataLoader 0:  56%|████████████████████████████████▊                          | 5/9 [00:00<00:00, 75.64it/s]\u001b[A\n",
      "Validation DataLoader 0:  67%|███████████████████████████████████████▎                   | 6/9 [00:00<00:00, 80.97it/s]\u001b[A\n",
      "Validation DataLoader 0:  78%|█████████████████████████████████████████████▉             | 7/9 [00:00<00:00, 77.07it/s]\u001b[A\n",
      "Validation DataLoader 0:  89%|████████████████████████████████████████████████████▍      | 8/9 [00:00<00:00, 80.43it/s]\u001b[A\n",
      "Validation DataLoader 0: 100%|███████████████████████████████████████████████████████████| 9/9 [00:00<00:00, 77.45it/s]\u001b[A\n",
      "Epoch 118: 100%|█████████████████████████████| 25/25 [00:00<00:00, 68.13it/s, v_num=17, train_acc=0.835, val_acc=0.935]\u001b[A\n",
      "Validation: |                                                                                    | 0/? [00:00<?, ?it/s]\u001b[A\n",
      "Validation:   0%|                                                                                | 0/9 [00:00<?, ?it/s]\u001b[A\n",
      "Validation DataLoader 0:   0%|                                                                   | 0/9 [00:00<?, ?it/s]\u001b[A\n",
      "Validation DataLoader 0:  11%|██████▌                                                    | 1/9 [00:00<00:00, 59.93it/s]\u001b[A\n",
      "Validation DataLoader 0:  22%|█████████████                                              | 2/9 [00:00<00:00, 80.57it/s]\u001b[A\n",
      "Validation DataLoader 0:  33%|███████████████████▋                                       | 3/9 [00:00<00:00, 73.51it/s]\u001b[A\n",
      "Validation DataLoader 0:  44%|██████████████████████████▏                                | 4/9 [00:00<00:00, 81.95it/s]\u001b[A\n",
      "Validation DataLoader 0:  56%|████████████████████████████████▊                          | 5/9 [00:00<00:00, 77.16it/s]\u001b[A\n",
      "Validation DataLoader 0:  67%|███████████████████████████████████████▎                   | 6/9 [00:00<00:00, 82.42it/s]\u001b[A\n",
      "Validation DataLoader 0:  78%|█████████████████████████████████████████████▉             | 7/9 [00:00<00:00, 78.84it/s]\u001b[A\n",
      "Validation DataLoader 0:  89%|████████████████████████████████████████████████████▍      | 8/9 [00:00<00:00, 80.01it/s]\u001b[A\n",
      "Validation DataLoader 0: 100%|███████████████████████████████████████████████████████████| 9/9 [00:00<00:00, 82.80it/s]\u001b[A\n",
      "Epoch 119: 100%|█████████████████████████████| 25/25 [00:00<00:00, 69.71it/s, v_num=17, train_acc=0.866, val_acc=0.944]\u001b[A\n",
      "Validation: |                                                                                    | 0/? [00:00<?, ?it/s]\u001b[A\n",
      "Validation:   0%|                                                                                | 0/9 [00:00<?, ?it/s]\u001b[A\n",
      "Validation DataLoader 0:   0%|                                                                   | 0/9 [00:00<?, ?it/s]\u001b[A\n",
      "Validation DataLoader 0:  11%|██████▌                                                    | 1/9 [00:00<00:00, 60.01it/s]\u001b[A\n",
      "Validation DataLoader 0:  22%|█████████████                                              | 2/9 [00:00<00:00, 78.67it/s]\u001b[A\n",
      "Validation DataLoader 0:  33%|███████████████████▋                                       | 3/9 [00:00<00:00, 71.30it/s]\u001b[A\n",
      "Validation DataLoader 0:  44%|██████████████████████████▏                                | 4/9 [00:00<00:00, 79.88it/s]\u001b[A\n",
      "Validation DataLoader 0:  56%|████████████████████████████████▊                          | 5/9 [00:00<00:00, 85.17it/s]\u001b[A\n",
      "Validation DataLoader 0:  67%|███████████████████████████████████████▎                   | 6/9 [00:00<00:00, 89.95it/s]\u001b[A\n",
      "Validation DataLoader 0:  78%|█████████████████████████████████████████████▉             | 7/9 [00:00<00:00, 84.65it/s]\u001b[A\n",
      "Validation DataLoader 0:  89%|████████████████████████████████████████████████████▍      | 8/9 [00:00<00:00, 86.93it/s]\u001b[A\n",
      "Validation DataLoader 0: 100%|███████████████████████████████████████████████████████████| 9/9 [00:00<00:00, 82.78it/s]\u001b[A\n",
      "Epoch 119: 100%|█████████████████████████████| 25/25 [00:00<00:00, 49.13it/s, v_num=17, train_acc=0.866, val_acc=0.948]\u001b[A"
     ]
    },
    {
     "name": "stderr",
     "output_type": "stream",
     "text": [
      "Metric val_loss improved by 0.002 >= min_delta = 0.0. New best score: 0.237\n"
     ]
    },
    {
     "name": "stdout",
     "output_type": "stream",
     "text": [
      "Epoch 120: 100%|█████████████████████████████| 25/25 [00:00<00:00, 65.15it/s, v_num=17, train_acc=0.709, val_acc=0.948]\n",
      "Validation: |                                                                                    | 0/? [00:00<?, ?it/s]\u001b[A\n",
      "Validation:   0%|                                                                                | 0/9 [00:00<?, ?it/s]\u001b[A\n",
      "Validation DataLoader 0:   0%|                                                                   | 0/9 [00:00<?, ?it/s]\u001b[A\n",
      "Validation DataLoader 0:  11%|██████▌                                                    | 1/9 [00:00<00:00, 62.55it/s]\u001b[A\n",
      "Validation DataLoader 0:  22%|█████████████                                              | 2/9 [00:00<00:00, 62.54it/s]\u001b[A\n",
      "Validation DataLoader 0:  33%|███████████████████▋                                       | 3/9 [00:00<00:00, 70.01it/s]\u001b[A\n",
      "Validation DataLoader 0:  44%|██████████████████████████▏                                | 4/9 [00:00<00:00, 78.67it/s]\u001b[A\n",
      "Validation DataLoader 0:  56%|████████████████████████████████▊                          | 5/9 [00:00<00:00, 83.72it/s]\u001b[A\n",
      "Validation DataLoader 0:  67%|███████████████████████████████████████▎                   | 6/9 [00:00<00:00, 78.65it/s]\u001b[A\n",
      "Validation DataLoader 0:  78%|█████████████████████████████████████████████▉             | 7/9 [00:00<00:00, 75.77it/s]\u001b[A\n",
      "Validation DataLoader 0:  89%|████████████████████████████████████████████████████▍      | 8/9 [00:00<00:00, 79.69it/s]\u001b[A\n",
      "Validation DataLoader 0: 100%|███████████████████████████████████████████████████████████| 9/9 [00:00<00:00, 77.07it/s]\u001b[A\n",
      "Epoch 120: 100%|█████████████████████████████| 25/25 [00:00<00:00, 47.59it/s, v_num=17, train_acc=0.709, val_acc=0.951]\u001b[A"
     ]
    },
    {
     "name": "stderr",
     "output_type": "stream",
     "text": [
      "Metric val_loss improved by 0.006 >= min_delta = 0.0. New best score: 0.231\n"
     ]
    },
    {
     "name": "stdout",
     "output_type": "stream",
     "text": [
      "Epoch 121: 100%|█████████████████████████████| 25/25 [00:00<00:00, 66.72it/s, v_num=17, train_acc=0.764, val_acc=0.951]\n",
      "Validation: |                                                                                    | 0/? [00:00<?, ?it/s]\u001b[A\n",
      "Validation:   0%|                                                                                | 0/9 [00:00<?, ?it/s]\u001b[A\n",
      "Validation DataLoader 0:   0%|                                                                   | 0/9 [00:00<?, ?it/s]\u001b[A\n",
      "Validation DataLoader 0:  11%|██████▌                                                    | 1/9 [00:00<00:00, 53.80it/s]\u001b[A\n",
      "Validation DataLoader 0:  22%|█████████████                                              | 2/9 [00:00<00:00, 74.89it/s]\u001b[A\n",
      "Validation DataLoader 0:  33%|███████████████████▋                                       | 3/9 [00:00<00:00, 70.01it/s]\u001b[A\n",
      "Validation DataLoader 0:  44%|██████████████████████████▏                                | 4/9 [00:00<00:00, 77.88it/s]\u001b[A\n",
      "Validation DataLoader 0:  56%|████████████████████████████████▊                          | 5/9 [00:00<00:00, 73.44it/s]\u001b[A\n",
      "Validation DataLoader 0:  67%|███████████████████████████████████████▎                   | 6/9 [00:00<00:00, 78.17it/s]\u001b[A\n",
      "Validation DataLoader 0:  78%|█████████████████████████████████████████████▉             | 7/9 [00:00<00:00, 74.80it/s]\u001b[A\n",
      "Validation DataLoader 0:  89%|████████████████████████████████████████████████████▍      | 8/9 [00:00<00:00, 78.76it/s]\u001b[A\n",
      "Validation DataLoader 0: 100%|███████████████████████████████████████████████████████████| 9/9 [00:00<00:00, 75.29it/s]\u001b[A\n",
      "Epoch 122: 100%|█████████████████████████████| 25/25 [00:00<00:00, 65.00it/s, v_num=17, train_acc=0.724, val_acc=0.938]\u001b[A\n",
      "Validation: |                                                                                    | 0/? [00:00<?, ?it/s]\u001b[A\n",
      "Validation:   0%|                                                                                | 0/9 [00:00<?, ?it/s]\u001b[A\n",
      "Validation DataLoader 0:   0%|                                                                   | 0/9 [00:00<?, ?it/s]\u001b[A\n",
      "Validation DataLoader 0:  11%|██████▌                                                    | 1/9 [00:00<00:00, 42.17it/s]\u001b[A\n",
      "Validation DataLoader 0:  22%|█████████████                                              | 2/9 [00:00<00:00, 26.96it/s]\u001b[A\n",
      "Validation DataLoader 0:  33%|███████████████████▋                                       | 3/9 [00:00<00:00, 30.28it/s]\u001b[A\n",
      "Validation DataLoader 0:  44%|██████████████████████████▏                                | 4/9 [00:00<00:00, 34.40it/s]\u001b[A\n",
      "Validation DataLoader 0:  56%|████████████████████████████████▊                          | 5/9 [00:00<00:00, 37.61it/s]\u001b[A\n",
      "Validation DataLoader 0:  67%|███████████████████████████████████████▎                   | 6/9 [00:00<00:00, 41.30it/s]\u001b[A\n",
      "Validation DataLoader 0:  78%|█████████████████████████████████████████████▉             | 7/9 [00:00<00:00, 44.27it/s]\u001b[A\n",
      "Validation DataLoader 0:  89%|████████████████████████████████████████████████████▍      | 8/9 [00:00<00:00, 48.12it/s]\u001b[A\n",
      "Validation DataLoader 0: 100%|███████████████████████████████████████████████████████████| 9/9 [00:00<00:00, 51.65it/s]\u001b[A\n",
      "Epoch 123: 100%|█████████████████████████████| 25/25 [00:00<00:00, 63.76it/s, v_num=17, train_acc=0.835, val_acc=0.945]\u001b[A\n",
      "Validation: |                                                                                    | 0/? [00:00<?, ?it/s]\u001b[A\n",
      "Validation:   0%|                                                                                | 0/9 [00:00<?, ?it/s]\u001b[A\n",
      "Validation DataLoader 0:   0%|                                                                   | 0/9 [00:00<?, ?it/s]\u001b[A\n",
      "Validation DataLoader 0:  11%|██████▌                                                    | 1/9 [00:00<00:00, 60.01it/s]\u001b[A\n",
      "Validation DataLoader 0:  22%|█████████████                                              | 2/9 [00:00<00:00, 59.97it/s]\u001b[A\n",
      "Validation DataLoader 0:  33%|███████████████████▋                                       | 3/9 [00:00<00:00, 72.56it/s]\u001b[A\n",
      "Validation DataLoader 0:  44%|██████████████████████████▏                                | 4/9 [00:00<00:00, 67.94it/s]\u001b[A\n",
      "Validation DataLoader 0:  56%|████████████████████████████████▊                          | 5/9 [00:00<00:00, 75.59it/s]\u001b[A\n",
      "Validation DataLoader 0:  67%|███████████████████████████████████████▎                   | 6/9 [00:00<00:00, 72.47it/s]\u001b[A\n",
      "Validation DataLoader 0:  78%|█████████████████████████████████████████████▉             | 7/9 [00:00<00:00, 69.77it/s]\u001b[A\n",
      "Validation DataLoader 0:  89%|████████████████████████████████████████████████████▍      | 8/9 [00:00<00:00, 73.86it/s]\u001b[A\n",
      "Validation DataLoader 0: 100%|███████████████████████████████████████████████████████████| 9/9 [00:00<00:00, 72.40it/s]\u001b[A\n",
      "Epoch 124: 100%|█████████████████████████████| 25/25 [00:00<00:00, 65.16it/s, v_num=17, train_acc=0.803, val_acc=0.932]\u001b[A\n",
      "Validation: |                                                                                    | 0/? [00:00<?, ?it/s]\u001b[A\n",
      "Validation:   0%|                                                                                | 0/9 [00:00<?, ?it/s]\u001b[A\n",
      "Validation DataLoader 0:   0%|                                                                   | 0/9 [00:00<?, ?it/s]\u001b[A\n",
      "Validation DataLoader 0:  11%|██████▌                                                    | 1/9 [00:00<00:00, 59.96it/s]\u001b[A\n",
      "Validation DataLoader 0:  22%|█████████████                                              | 2/9 [00:00<00:00, 81.06it/s]\u001b[A\n",
      "Validation DataLoader 0:  33%|███████████████████▋                                       | 3/9 [00:00<00:00, 71.53it/s]\u001b[A\n",
      "Validation DataLoader 0:  44%|██████████████████████████▏                                | 4/9 [00:00<00:00, 80.10it/s]\u001b[A\n",
      "Validation DataLoader 0:  56%|████████████████████████████████▊                          | 5/9 [00:00<00:00, 75.03it/s]\u001b[A\n",
      "Validation DataLoader 0:  67%|███████████████████████████████████████▎                   | 6/9 [00:00<00:00, 79.60it/s]\u001b[A\n",
      "Validation DataLoader 0:  78%|█████████████████████████████████████████████▉             | 7/9 [00:00<00:00, 83.96it/s]\u001b[A\n",
      "Validation DataLoader 0:  89%|████████████████████████████████████████████████████▍      | 8/9 [00:00<00:00, 80.00it/s]\u001b[A\n",
      "Validation DataLoader 0: 100%|███████████████████████████████████████████████████████████| 9/9 [00:00<00:00, 82.85it/s]\u001b[A\n",
      "Epoch 125: 100%|█████████████████████████████| 25/25 [00:00<00:00, 71.45it/s, v_num=17, train_acc=0.850, val_acc=0.940]\u001b[A\n",
      "Validation: |                                                                                    | 0/? [00:00<?, ?it/s]\u001b[A\n",
      "Validation:   0%|                                                                                | 0/9 [00:00<?, ?it/s]\u001b[A\n",
      "Validation DataLoader 0:   0%|                                                                   | 0/9 [00:00<?, ?it/s]\u001b[A\n",
      "Validation DataLoader 0:  11%|██████▌                                                    | 1/9 [00:00<00:00, 60.57it/s]\u001b[A\n",
      "Validation DataLoader 0:  22%|█████████████                                              | 2/9 [00:00<00:00, 60.34it/s]\u001b[A\n",
      "Validation DataLoader 0:  33%|███████████████████▋                                       | 3/9 [00:00<00:00, 72.91it/s]\u001b[A\n",
      "Validation DataLoader 0:  44%|██████████████████████████▏                                | 4/9 [00:00<00:00, 80.23it/s]\u001b[A\n",
      "Validation DataLoader 0:  56%|████████████████████████████████▊                          | 5/9 [00:00<00:00, 75.94it/s]\u001b[A\n",
      "Validation DataLoader 0:  67%|███████████████████████████████████████▎                   | 6/9 [00:00<00:00, 81.26it/s]\u001b[A\n",
      "Validation DataLoader 0:  78%|█████████████████████████████████████████████▉             | 7/9 [00:00<00:00, 84.15it/s]\u001b[A\n",
      "Validation DataLoader 0:  89%|████████████████████████████████████████████████████▍      | 8/9 [00:00<00:00, 80.19it/s]\u001b[A\n",
      "Validation DataLoader 0: 100%|███████████████████████████████████████████████████████████| 9/9 [00:00<00:00, 83.52it/s]\u001b[A\n",
      "Epoch 126: 100%|█████████████████████████████| 25/25 [00:00<00:00, 66.76it/s, v_num=17, train_acc=0.717, val_acc=0.930]\u001b[A\n",
      "Validation: |                                                                                    | 0/? [00:00<?, ?it/s]\u001b[A\n",
      "Validation:   0%|                                                                                | 0/9 [00:00<?, ?it/s]\u001b[A\n",
      "Validation DataLoader 0:   0%|                                                                   | 0/9 [00:00<?, ?it/s]\u001b[A\n",
      "Validation DataLoader 0:  11%|██████▌                                                    | 1/9 [00:00<00:00, 60.36it/s]\u001b[A\n",
      "Validation DataLoader 0:  22%|█████████████                                              | 2/9 [00:00<00:00, 60.11it/s]\u001b[A\n",
      "Validation DataLoader 0:  33%|███████████████████▋                                       | 3/9 [00:00<00:00, 63.00it/s]\u001b[A\n",
      "Validation DataLoader 0:  44%|██████████████████████████▏                                | 4/9 [00:00<00:00, 67.09it/s]\u001b[A\n",
      "Validation DataLoader 0:  56%|████████████████████████████████▊                          | 5/9 [00:00<00:00, 73.81it/s]\u001b[A\n",
      "Validation DataLoader 0:  67%|███████████████████████████████████████▎                   | 6/9 [00:00<00:00, 67.84it/s]\u001b[A\n",
      "Validation DataLoader 0:  78%|█████████████████████████████████████████████▉             | 7/9 [00:00<00:00, 69.19it/s]\u001b[A\n",
      "Validation DataLoader 0:  89%|████████████████████████████████████████████████████▍      | 8/9 [00:00<00:00, 71.51it/s]\u001b[A\n",
      "Validation DataLoader 0: 100%|███████████████████████████████████████████████████████████| 9/9 [00:00<00:00, 72.05it/s]\u001b[A\n",
      "Epoch 127: 100%|█████████████████████████████| 25/25 [00:00<00:00, 61.13it/s, v_num=17, train_acc=0.717, val_acc=0.939]\u001b[A\n",
      "Validation: |                                                                                    | 0/? [00:00<?, ?it/s]\u001b[A\n",
      "Validation:   0%|                                                                                | 0/9 [00:00<?, ?it/s]\u001b[A\n",
      "Validation DataLoader 0:   0%|                                                                   | 0/9 [00:00<?, ?it/s]\u001b[A\n",
      "Validation DataLoader 0:  11%|██████▌                                                    | 1/9 [00:00<00:00, 39.03it/s]\u001b[A\n",
      "Validation DataLoader 0:  22%|█████████████                                              | 2/9 [00:00<00:00, 46.14it/s]\u001b[A\n",
      "Validation DataLoader 0:  33%|███████████████████▋                                       | 3/9 [00:00<00:00, 49.59it/s]\u001b[A\n",
      "Validation DataLoader 0:  44%|██████████████████████████▏                                | 4/9 [00:00<00:00, 55.79it/s]\u001b[A\n",
      "Validation DataLoader 0:  56%|████████████████████████████████▊                          | 5/9 [00:00<00:00, 54.31it/s]\u001b[A\n",
      "Validation DataLoader 0:  67%|███████████████████████████████████████▎                   | 6/9 [00:00<00:00, 55.18it/s]\u001b[A\n",
      "Validation DataLoader 0:  78%|█████████████████████████████████████████████▉             | 7/9 [00:00<00:00, 51.42it/s]\u001b[A\n",
      "Validation DataLoader 0:  89%|████████████████████████████████████████████████████▍      | 8/9 [00:00<00:00, 52.58it/s]\u001b[A\n",
      "Validation DataLoader 0: 100%|███████████████████████████████████████████████████████████| 9/9 [00:00<00:00, 56.20it/s]\u001b[A\n",
      "Epoch 128: 100%|█████████████████████████████| 25/25 [00:00<00:00, 47.60it/s, v_num=17, train_acc=0.685, val_acc=0.936]\u001b[A\n",
      "Validation: |                                                                                    | 0/? [00:00<?, ?it/s]\u001b[A\n",
      "Validation:   0%|                                                                                | 0/9 [00:00<?, ?it/s]\u001b[A\n",
      "Validation DataLoader 0:   0%|                                                                   | 0/9 [00:00<?, ?it/s]\u001b[A\n",
      "Validation DataLoader 0:  11%|██████▌                                                    | 1/9 [00:00<00:00, 57.91it/s]\u001b[A\n",
      "Validation DataLoader 0:  22%|█████████████                                              | 2/9 [00:00<00:00, 79.16it/s]\u001b[A\n",
      "Validation DataLoader 0:  33%|███████████████████▋                                       | 3/9 [00:00<00:00, 71.39it/s]\u001b[A\n",
      "Validation DataLoader 0:  44%|██████████████████████████▏                                | 4/9 [00:00<00:00, 73.22it/s]\u001b[A\n",
      "Validation DataLoader 0:  56%|████████████████████████████████▊                          | 5/9 [00:00<00:00, 72.13it/s]\u001b[A\n",
      "Validation DataLoader 0:  67%|███████████████████████████████████████▎                   | 6/9 [00:00<00:00, 71.89it/s]\u001b[A\n",
      "Validation DataLoader 0:  78%|█████████████████████████████████████████████▉             | 7/9 [00:00<00:00, 77.42it/s]\u001b[A\n",
      "Validation DataLoader 0:  89%|████████████████████████████████████████████████████▍      | 8/9 [00:00<00:00, 77.89it/s]\u001b[A\n",
      "Validation DataLoader 0: 100%|███████████████████████████████████████████████████████████| 9/9 [00:00<00:00, 76.31it/s]\u001b[A\n",
      "Epoch 129: 100%|█████████████████████████████| 25/25 [00:00<00:00, 65.95it/s, v_num=17, train_acc=0.787, val_acc=0.946]\u001b[A\n",
      "Validation: |                                                                                    | 0/? [00:00<?, ?it/s]\u001b[A\n",
      "Validation:   0%|                                                                                | 0/9 [00:00<?, ?it/s]\u001b[A\n",
      "Validation DataLoader 0:   0%|                                                                   | 0/9 [00:00<?, ?it/s]\u001b[A\n",
      "Validation DataLoader 0:  11%|██████▌                                                    | 1/9 [00:00<00:00, 60.08it/s]\u001b[A\n",
      "Validation DataLoader 0:  22%|█████████████                                              | 2/9 [00:00<00:00, 81.17it/s]\u001b[A\n",
      "Validation DataLoader 0:  33%|███████████████████▋                                       | 3/9 [00:00<00:00, 70.15it/s]\u001b[A\n",
      "Validation DataLoader 0:  44%|██████████████████████████▏                                | 4/9 [00:00<00:00, 79.86it/s]\u001b[A\n",
      "Validation DataLoader 0:  56%|████████████████████████████████▊                          | 5/9 [00:00<00:00, 75.67it/s]\u001b[A\n",
      "Validation DataLoader 0:  67%|███████████████████████████████████████▎                   | 6/9 [00:00<00:00, 72.56it/s]\u001b[A\n",
      "Validation DataLoader 0:  78%|█████████████████████████████████████████████▉             | 7/9 [00:00<00:00, 76.61it/s]\u001b[A\n",
      "Validation DataLoader 0:  89%|████████████████████████████████████████████████████▍      | 8/9 [00:00<00:00, 79.95it/s]\u001b[A\n",
      "Validation DataLoader 0: 100%|███████████████████████████████████████████████████████████| 9/9 [00:00<00:00, 77.47it/s]\u001b[A\n",
      "Epoch 130: 100%|█████████████████████████████| 25/25 [00:00<00:00, 51.74it/s, v_num=17, train_acc=0.835, val_acc=0.937]\u001b[A\n",
      "Validation: |                                                                                    | 0/? [00:00<?, ?it/s]\u001b[A\n",
      "Validation:   0%|                                                                                | 0/9 [00:00<?, ?it/s]\u001b[A\n",
      "Validation DataLoader 0:   0%|                                                                   | 0/9 [00:00<?, ?it/s]\u001b[A\n",
      "Validation DataLoader 0:  11%|██████▌                                                    | 1/9 [00:00<00:00, 57.68it/s]\u001b[A\n",
      "Validation DataLoader 0:  22%|█████████████                                              | 2/9 [00:00<00:00, 60.05it/s]\u001b[A\n",
      "Validation DataLoader 0:  33%|███████████████████▋                                       | 3/9 [00:00<00:00, 72.64it/s]\u001b[A\n",
      "Validation DataLoader 0:  44%|██████████████████████████▏                                | 4/9 [00:00<00:00, 68.59it/s]\u001b[A\n",
      "Validation DataLoader 0:  56%|████████████████████████████████▊                          | 5/9 [00:00<00:00, 74.24it/s]\u001b[A\n",
      "Validation DataLoader 0:  67%|███████████████████████████████████████▎                   | 6/9 [00:00<00:00, 71.51it/s]\u001b[A\n",
      "Validation DataLoader 0:  78%|█████████████████████████████████████████████▉             | 7/9 [00:00<00:00, 76.16it/s]\u001b[A\n",
      "Validation DataLoader 0:  89%|████████████████████████████████████████████████████▍      | 8/9 [00:00<00:00, 73.65it/s]\u001b[A\n",
      "Validation DataLoader 0: 100%|███████████████████████████████████████████████████████████| 9/9 [00:00<00:00, 75.63it/s]\u001b[A\n",
      "Epoch 131: 100%|█████████████████████████████| 25/25 [00:00<00:00, 67.08it/s, v_num=17, train_acc=0.811, val_acc=0.952]\u001b[A\n",
      "Validation: |                                                                                    | 0/? [00:00<?, ?it/s]\u001b[A\n",
      "Validation:   0%|                                                                                | 0/9 [00:00<?, ?it/s]\u001b[A\n",
      "Validation DataLoader 0:   0%|                                                                   | 0/9 [00:00<?, ?it/s]\u001b[A\n",
      "Validation DataLoader 0:  11%|██████▍                                                   | 1/9 [00:00<00:00, 125.03it/s]\u001b[A\n",
      "Validation DataLoader 0:  22%|█████████████                                              | 2/9 [00:00<00:00, 80.97it/s]\u001b[A\n",
      "Validation DataLoader 0:  33%|███████████████████▋                                       | 3/9 [00:00<00:00, 89.89it/s]\u001b[A\n",
      "Validation DataLoader 0:  44%|██████████████████████████▏                                | 4/9 [00:00<00:00, 79.94it/s]\u001b[A\n",
      "Validation DataLoader 0:  56%|████████████████████████████████▊                          | 5/9 [00:00<00:00, 75.26it/s]\u001b[A\n",
      "Validation DataLoader 0:  67%|███████████████████████████████████████▎                   | 6/9 [00:00<00:00, 80.29it/s]\u001b[A\n",
      "Validation DataLoader 0:  78%|█████████████████████████████████████████████▉             | 7/9 [00:00<00:00, 84.04it/s]\u001b[A\n",
      "Validation DataLoader 0:  89%|████████████████████████████████████████████████████▍      | 8/9 [00:00<00:00, 79.96it/s]\u001b[A\n",
      "Validation DataLoader 0: 100%|███████████████████████████████████████████████████████████| 9/9 [00:00<00:00, 83.30it/s]\u001b[A\n",
      "Epoch 132: 100%|█████████████████████████████| 25/25 [00:00<00:00, 68.23it/s, v_num=17, train_acc=0.756, val_acc=0.946]\u001b[A\n",
      "Validation: |                                                                                    | 0/? [00:00<?, ?it/s]\u001b[A\n",
      "Validation:   0%|                                                                                | 0/9 [00:00<?, ?it/s]\u001b[A\n",
      "Validation DataLoader 0:   0%|                                                                   | 0/9 [00:00<?, ?it/s]\u001b[A\n",
      "Validation DataLoader 0:  11%|██████▌                                                    | 1/9 [00:00<00:00, 59.71it/s]\u001b[A\n",
      "Validation DataLoader 0:  22%|█████████████                                              | 2/9 [00:00<00:00, 59.84it/s]\u001b[A\n",
      "Validation DataLoader 0:  33%|███████████████████▋                                       | 3/9 [00:00<00:00, 71.48it/s]\u001b[A\n",
      "Validation DataLoader 0:  44%|██████████████████████████▏                                | 4/9 [00:00<00:00, 68.82it/s]\u001b[A\n",
      "Validation DataLoader 0:  56%|████████████████████████████████▊                          | 5/9 [00:00<00:00, 75.06it/s]\u001b[A\n",
      "Validation DataLoader 0:  67%|███████████████████████████████████████▎                   | 6/9 [00:00<00:00, 79.51it/s]\u001b[A\n",
      "Validation DataLoader 0:  78%|█████████████████████████████████████████████▉             | 7/9 [00:00<00:00, 76.14it/s]\u001b[A\n",
      "Validation DataLoader 0:  89%|████████████████████████████████████████████████████▍      | 8/9 [00:00<00:00, 80.05it/s]\u001b[A\n",
      "Validation DataLoader 0: 100%|███████████████████████████████████████████████████████████| 9/9 [00:00<00:00, 77.12it/s]\u001b[A\n",
      "Epoch 132: 100%|█████████████████████████████| 25/25 [00:00<00:00, 49.35it/s, v_num=17, train_acc=0.756, val_acc=0.950]\u001b[A"
     ]
    },
    {
     "name": "stderr",
     "output_type": "stream",
     "text": [
      "Metric val_loss improved by 0.001 >= min_delta = 0.0. New best score: 0.230\n"
     ]
    },
    {
     "name": "stdout",
     "output_type": "stream",
     "text": [
      "Epoch 133: 100%|█████████████████████████████| 25/25 [00:00<00:00, 54.74it/s, v_num=17, train_acc=0.709, val_acc=0.950]\n",
      "Validation: |                                                                                    | 0/? [00:00<?, ?it/s]\u001b[A\n",
      "Validation:   0%|                                                                                | 0/9 [00:00<?, ?it/s]\u001b[A\n",
      "Validation DataLoader 0:   0%|                                                                   | 0/9 [00:00<?, ?it/s]\u001b[A\n",
      "Validation DataLoader 0:  11%|██████▌                                                    | 1/9 [00:00<00:00, 72.26it/s]\u001b[A\n",
      "Validation DataLoader 0:  22%|█████████████                                              | 2/9 [00:00<00:00, 66.34it/s]\u001b[A\n",
      "Validation DataLoader 0:  33%|███████████████████▋                                       | 3/9 [00:00<00:00, 67.53it/s]\u001b[A\n",
      "Validation DataLoader 0:  44%|██████████████████████████▏                                | 4/9 [00:00<00:00, 58.12it/s]\u001b[A\n",
      "Validation DataLoader 0:  56%|████████████████████████████████▊                          | 5/9 [00:00<00:00, 58.47it/s]\u001b[A\n",
      "Validation DataLoader 0:  67%|███████████████████████████████████████▎                   | 6/9 [00:00<00:00, 63.66it/s]\u001b[A\n",
      "Validation DataLoader 0:  78%|█████████████████████████████████████████████▉             | 7/9 [00:00<00:00, 63.20it/s]\u001b[A\n",
      "Validation DataLoader 0:  89%|████████████████████████████████████████████████████▍      | 8/9 [00:00<00:00, 65.07it/s]\u001b[A\n",
      "Validation DataLoader 0: 100%|███████████████████████████████████████████████████████████| 9/9 [00:00<00:00, 60.83it/s]\u001b[A\n",
      "Epoch 133: 100%|█████████████████████████████| 25/25 [00:00<00:00, 37.59it/s, v_num=17, train_acc=0.709, val_acc=0.941]\u001b[A"
     ]
    },
    {
     "name": "stderr",
     "output_type": "stream",
     "text": [
      "Metric val_loss improved by 0.001 >= min_delta = 0.0. New best score: 0.229\n"
     ]
    },
    {
     "name": "stdout",
     "output_type": "stream",
     "text": [
      "Epoch 134: 100%|█████████████████████████████| 25/25 [00:00<00:00, 64.14it/s, v_num=17, train_acc=0.772, val_acc=0.941]\n",
      "Validation: |                                                                                    | 0/? [00:00<?, ?it/s]\u001b[A\n",
      "Validation:   0%|                                                                                | 0/9 [00:00<?, ?it/s]\u001b[A\n",
      "Validation DataLoader 0:   0%|                                                                   | 0/9 [00:00<?, ?it/s]\u001b[A\n",
      "Validation DataLoader 0:  11%|██████▌                                                    | 1/9 [00:00<00:00, 71.43it/s]\u001b[A\n",
      "Validation DataLoader 0:  22%|█████████████                                              | 2/9 [00:00<00:00, 68.99it/s]\u001b[A\n",
      "Validation DataLoader 0:  33%|███████████████████▋                                       | 3/9 [00:00<00:00, 81.99it/s]\u001b[A\n",
      "Validation DataLoader 0:  44%|██████████████████████████▏                                | 4/9 [00:00<00:00, 75.90it/s]\u001b[A\n",
      "Validation DataLoader 0:  56%|████████████████████████████████▊                          | 5/9 [00:00<00:00, 82.38it/s]\u001b[A\n",
      "Validation DataLoader 0:  67%|███████████████████████████████████████▎                   | 6/9 [00:00<00:00, 78.24it/s]\u001b[A\n",
      "Validation DataLoader 0:  78%|█████████████████████████████████████████████▉             | 7/9 [00:00<00:00, 82.66it/s]\u001b[A\n",
      "Validation DataLoader 0:  89%|████████████████████████████████████████████████████▍      | 8/9 [00:00<00:00, 79.47it/s]\u001b[A\n",
      "Validation DataLoader 0: 100%|███████████████████████████████████████████████████████████| 9/9 [00:00<00:00, 82.82it/s]\u001b[A\n",
      "Epoch 134: 100%|█████████████████████████████| 25/25 [00:00<00:00, 46.89it/s, v_num=17, train_acc=0.772, val_acc=0.947]\u001b[A"
     ]
    },
    {
     "name": "stderr",
     "output_type": "stream",
     "text": [
      "Metric val_loss improved by 0.001 >= min_delta = 0.0. New best score: 0.228\n"
     ]
    },
    {
     "name": "stdout",
     "output_type": "stream",
     "text": [
      "Epoch 135: 100%|█████████████████████████████| 25/25 [00:00<00:00, 69.66it/s, v_num=17, train_acc=0.827, val_acc=0.947]\n",
      "Validation: |                                                                                    | 0/? [00:00<?, ?it/s]\u001b[A\n",
      "Validation:   0%|                                                                                | 0/9 [00:00<?, ?it/s]\u001b[A\n",
      "Validation DataLoader 0:   0%|                                                                   | 0/9 [00:00<?, ?it/s]\u001b[A\n",
      "Validation DataLoader 0:  11%|██████▌                                                    | 1/9 [00:00<00:00, 60.11it/s]\u001b[A\n",
      "Validation DataLoader 0:  22%|█████████████                                              | 2/9 [00:00<00:00, 60.17it/s]\u001b[A\n",
      "Validation DataLoader 0:  33%|███████████████████▋                                       | 3/9 [00:00<00:00, 72.76it/s]\u001b[A\n",
      "Validation DataLoader 0:  44%|██████████████████████████▏                                | 4/9 [00:00<00:00, 69.08it/s]\u001b[A\n",
      "Validation DataLoader 0:  56%|████████████████████████████████▊                          | 5/9 [00:00<00:00, 75.09it/s]\u001b[A\n",
      "Validation DataLoader 0:  67%|███████████████████████████████████████▎                   | 6/9 [00:00<00:00, 72.00it/s]\u001b[A\n",
      "Validation DataLoader 0:  78%|█████████████████████████████████████████████▉             | 7/9 [00:00<00:00, 76.65it/s]\u001b[A\n",
      "Validation DataLoader 0:  89%|████████████████████████████████████████████████████▍      | 8/9 [00:00<00:00, 79.65it/s]\u001b[A\n",
      "Validation DataLoader 0: 100%|███████████████████████████████████████████████████████████| 9/9 [00:00<00:00, 77.24it/s]\u001b[A\n",
      "Epoch 135: 100%|█████████████████████████████| 25/25 [00:00<00:00, 49.13it/s, v_num=17, train_acc=0.827, val_acc=0.944]\u001b[A"
     ]
    },
    {
     "name": "stderr",
     "output_type": "stream",
     "text": [
      "Metric val_loss improved by 0.001 >= min_delta = 0.0. New best score: 0.227\n"
     ]
    },
    {
     "name": "stdout",
     "output_type": "stream",
     "text": [
      "Epoch 136: 100%|█████████████████████████████| 25/25 [00:00<00:00, 65.19it/s, v_num=17, train_acc=0.819, val_acc=0.944]\n",
      "Validation: |                                                                                    | 0/? [00:00<?, ?it/s]\u001b[A\n",
      "Validation:   0%|                                                                                | 0/9 [00:00<?, ?it/s]\u001b[A\n",
      "Validation DataLoader 0:   0%|                                                                   | 0/9 [00:00<?, ?it/s]\u001b[A\n",
      "Validation DataLoader 0:  11%|██████▌                                                    | 1/9 [00:00<00:00, 54.88it/s]\u001b[A\n",
      "Validation DataLoader 0:  22%|█████████████                                              | 2/9 [00:00<00:00, 78.96it/s]\u001b[A\n",
      "Validation DataLoader 0:  33%|███████████████████▋                                       | 3/9 [00:00<00:00, 71.22it/s]\u001b[A\n",
      "Validation DataLoader 0:  44%|██████████████████████████▏                                | 4/9 [00:00<00:00, 79.81it/s]\u001b[A\n",
      "Validation DataLoader 0:  56%|████████████████████████████████▊                          | 5/9 [00:00<00:00, 75.63it/s]\u001b[A\n",
      "Validation DataLoader 0:  67%|███████████████████████████████████████▎                   | 6/9 [00:00<00:00, 79.61it/s]\u001b[A\n",
      "Validation DataLoader 0:  78%|█████████████████████████████████████████████▉             | 7/9 [00:00<00:00, 83.97it/s]\u001b[A\n",
      "Validation DataLoader 0:  89%|████████████████████████████████████████████████████▍      | 8/9 [00:00<00:00, 79.97it/s]\u001b[A\n",
      "Validation DataLoader 0: 100%|███████████████████████████████████████████████████████████| 9/9 [00:00<00:00, 82.76it/s]\u001b[A\n",
      "Epoch 137: 100%|█████████████████████████████| 25/25 [00:00<00:00, 69.68it/s, v_num=17, train_acc=0.787, val_acc=0.949]\u001b[A\n",
      "Validation: |                                                                                    | 0/? [00:00<?, ?it/s]\u001b[A\n",
      "Validation:   0%|                                                                                | 0/9 [00:00<?, ?it/s]\u001b[A\n",
      "Validation DataLoader 0:   0%|                                                                   | 0/9 [00:00<?, ?it/s]\u001b[A\n",
      "Validation DataLoader 0:  11%|██████▌                                                    | 1/9 [00:00<00:00, 57.95it/s]\u001b[A\n",
      "Validation DataLoader 0:  22%|█████████████                                              | 2/9 [00:00<00:00, 59.11it/s]\u001b[A\n",
      "Validation DataLoader 0:  33%|███████████████████▋                                       | 3/9 [00:00<00:00, 71.71it/s]\u001b[A\n",
      "Validation DataLoader 0:  44%|██████████████████████████▏                                | 4/9 [00:00<00:00, 68.33it/s]\u001b[A\n",
      "Validation DataLoader 0:  56%|████████████████████████████████▊                          | 5/9 [00:00<00:00, 74.39it/s]\u001b[A\n",
      "Validation DataLoader 0:  67%|███████████████████████████████████████▎                   | 6/9 [00:00<00:00, 79.78it/s]\u001b[A\n",
      "Validation DataLoader 0:  78%|█████████████████████████████████████████████▉             | 7/9 [00:00<00:00, 76.21it/s]\u001b[A\n",
      "Validation DataLoader 0:  89%|████████████████████████████████████████████████████▍      | 8/9 [00:00<00:00, 79.60it/s]\u001b[A\n",
      "Validation DataLoader 0: 100%|███████████████████████████████████████████████████████████| 9/9 [00:00<00:00, 82.95it/s]\u001b[A\n",
      "Epoch 138: 100%|█████████████████████████████| 25/25 [00:00<00:00, 70.03it/s, v_num=17, train_acc=0.780, val_acc=0.949]\u001b[A\n",
      "Validation: |                                                                                    | 0/? [00:00<?, ?it/s]\u001b[A\n",
      "Validation:   0%|                                                                                | 0/9 [00:00<?, ?it/s]\u001b[A\n",
      "Validation DataLoader 0:   0%|                                                                   | 0/9 [00:00<?, ?it/s]\u001b[A\n",
      "Validation DataLoader 0:  11%|██████▌                                                    | 1/9 [00:00<00:00, 62.54it/s]\u001b[A\n",
      "Validation DataLoader 0:  22%|█████████████                                              | 2/9 [00:00<00:00, 73.80it/s]\u001b[A\n",
      "Validation DataLoader 0:  33%|███████████████████▋                                       | 3/9 [00:00<00:00, 84.17it/s]\u001b[A\n",
      "Validation DataLoader 0:  44%|██████████████████████████▏                                | 4/9 [00:00<00:00, 76.35it/s]\u001b[A\n",
      "Validation DataLoader 0:  56%|████████████████████████████████▊                          | 5/9 [00:00<00:00, 82.80it/s]\u001b[A\n",
      "Validation DataLoader 0:  67%|███████████████████████████████████████▎                   | 6/9 [00:00<00:00, 77.92it/s]\u001b[A\n",
      "Validation DataLoader 0:  78%|█████████████████████████████████████████████▉             | 7/9 [00:00<00:00, 81.68it/s]\u001b[A\n",
      "Validation DataLoader 0:  89%|████████████████████████████████████████████████████▍      | 8/9 [00:00<00:00, 78.11it/s]\u001b[A\n",
      "Validation DataLoader 0: 100%|███████████████████████████████████████████████████████████| 9/9 [00:00<00:00, 81.51it/s]\u001b[A\n",
      "Epoch 139: 100%|█████████████████████████████| 25/25 [00:00<00:00, 62.60it/s, v_num=17, train_acc=0.780, val_acc=0.943]\u001b[A\n",
      "Validation: |                                                                                    | 0/? [00:00<?, ?it/s]\u001b[A\n",
      "Validation:   0%|                                                                                | 0/9 [00:00<?, ?it/s]\u001b[A\n",
      "Validation DataLoader 0:   0%|                                                                   | 0/9 [00:00<?, ?it/s]\u001b[A\n",
      "Validation DataLoader 0:  11%|██████▌                                                    | 1/9 [00:00<00:00, 60.11it/s]\u001b[A\n",
      "Validation DataLoader 0:  22%|█████████████                                              | 2/9 [00:00<00:00, 81.18it/s]\u001b[A\n",
      "Validation DataLoader 0:  33%|███████████████████▋                                       | 3/9 [00:00<00:00, 89.95it/s]\u001b[A\n",
      "Validation DataLoader 0:  44%|██████████████████████████▏                                | 4/9 [00:00<00:00, 80.03it/s]\u001b[A\n",
      "Validation DataLoader 0:  56%|████████████████████████████████▊                          | 5/9 [00:00<00:00, 86.24it/s]\u001b[A\n",
      "Validation DataLoader 0:  67%|███████████████████████████████████████▎                   | 6/9 [00:00<00:00, 80.34it/s]\u001b[A\n",
      "Validation DataLoader 0:  78%|█████████████████████████████████████████████▉             | 7/9 [00:00<00:00, 84.67it/s]\u001b[A\n",
      "Validation DataLoader 0:  89%|████████████████████████████████████████████████████▍      | 8/9 [00:00<00:00, 80.05it/s]\u001b[A\n",
      "Validation DataLoader 0: 100%|███████████████████████████████████████████████████████████| 9/9 [00:00<00:00, 83.39it/s]\u001b[A\n",
      "Epoch 140: 100%|█████████████████████████████| 25/25 [00:00<00:00, 68.27it/s, v_num=17, train_acc=0.795, val_acc=0.955]\u001b[A\n",
      "Validation: |                                                                                    | 0/? [00:00<?, ?it/s]\u001b[A\n",
      "Validation:   0%|                                                                                | 0/9 [00:00<?, ?it/s]\u001b[A\n",
      "Validation DataLoader 0:   0%|                                                                   | 0/9 [00:00<?, ?it/s]\u001b[A\n",
      "Validation DataLoader 0:  11%|██████▍                                                   | 1/9 [00:00<00:00, 120.09it/s]\u001b[A\n",
      "Validation DataLoader 0:  22%|█████████████                                              | 2/9 [00:00<00:00, 80.07it/s]\u001b[A\n",
      "Validation DataLoader 0:  33%|███████████████████▋                                       | 3/9 [00:00<00:00, 90.57it/s]\u001b[A\n",
      "Validation DataLoader 0:  44%|██████████████████████████▏                                | 4/9 [00:00<00:00, 97.27it/s]\u001b[A\n",
      "Validation DataLoader 0:  56%|████████████████████████████████▊                          | 5/9 [00:00<00:00, 99.42it/s]\u001b[A\n",
      "Validation DataLoader 0:  67%|███████████████████████████████████████▎                   | 6/9 [00:00<00:00, 89.60it/s]\u001b[A\n",
      "Validation DataLoader 0:  78%|█████████████████████████████████████████████▉             | 7/9 [00:00<00:00, 93.38it/s]\u001b[A\n",
      "Validation DataLoader 0:  89%|████████████████████████████████████████████████████▍      | 8/9 [00:00<00:00, 95.56it/s]\u001b[A\n",
      "Validation DataLoader 0: 100%|███████████████████████████████████████████████████████████| 9/9 [00:00<00:00, 98.13it/s]\u001b[A\n",
      "Epoch 140: 100%|█████████████████████████████| 25/25 [00:00<00:00, 49.99it/s, v_num=17, train_acc=0.795, val_acc=0.947]\u001b[A"
     ]
    },
    {
     "name": "stderr",
     "output_type": "stream",
     "text": [
      "Metric val_loss improved by 0.001 >= min_delta = 0.0. New best score: 0.225\n"
     ]
    },
    {
     "name": "stdout",
     "output_type": "stream",
     "text": [
      "Epoch 141: 100%|█████████████████████████████| 25/25 [00:00<00:00, 69.81it/s, v_num=17, train_acc=0.787, val_acc=0.947]\n",
      "Validation: |                                                                                    | 0/? [00:00<?, ?it/s]\u001b[A\n",
      "Validation:   0%|                                                                                | 0/9 [00:00<?, ?it/s]\u001b[A\n",
      "Validation DataLoader 0:   0%|                                                                   | 0/9 [00:00<?, ?it/s]\u001b[A\n",
      "Validation DataLoader 0:  11%|██████▌                                                    | 1/9 [00:00<00:00, 62.53it/s]\u001b[A\n",
      "Validation DataLoader 0:  22%|█████████████                                              | 2/9 [00:00<00:00, 57.76it/s]\u001b[A\n",
      "Validation DataLoader 0:  33%|███████████████████▋                                       | 3/9 [00:00<00:00, 70.39it/s]\u001b[A\n",
      "Validation DataLoader 0:  44%|██████████████████████████▏                                | 4/9 [00:00<00:00, 77.90it/s]\u001b[A\n",
      "Validation DataLoader 0:  56%|████████████████████████████████▊                          | 5/9 [00:00<00:00, 73.58it/s]\u001b[A\n",
      "Validation DataLoader 0:  67%|███████████████████████████████████████▎                   | 6/9 [00:00<00:00, 78.99it/s]\u001b[A\n",
      "Validation DataLoader 0:  78%|█████████████████████████████████████████████▉             | 7/9 [00:00<00:00, 83.27it/s]\u001b[A\n",
      "Validation DataLoader 0:  89%|████████████████████████████████████████████████████▍      | 8/9 [00:00<00:00, 79.07it/s]\u001b[A\n",
      "Validation DataLoader 0: 100%|███████████████████████████████████████████████████████████| 9/9 [00:00<00:00, 82.43it/s]\u001b[A\n",
      "Epoch 141: 100%|█████████████████████████████| 25/25 [00:00<00:00, 49.85it/s, v_num=17, train_acc=0.787, val_acc=0.955]\u001b[A"
     ]
    },
    {
     "name": "stderr",
     "output_type": "stream",
     "text": [
      "Metric val_loss improved by 0.002 >= min_delta = 0.0. New best score: 0.223\n"
     ]
    },
    {
     "name": "stdout",
     "output_type": "stream",
     "text": [
      "Epoch 142: 100%|█████████████████████████████| 25/25 [00:00<00:00, 61.26it/s, v_num=17, train_acc=0.835, val_acc=0.955]\n",
      "Validation: |                                                                                    | 0/? [00:00<?, ?it/s]\u001b[A\n",
      "Validation:   0%|                                                                                | 0/9 [00:00<?, ?it/s]\u001b[A\n",
      "Validation DataLoader 0:   0%|                                                                   | 0/9 [00:00<?, ?it/s]\u001b[A\n",
      "Validation DataLoader 0:  11%|██████▌                                                    | 1/9 [00:00<00:00, 59.33it/s]\u001b[A\n",
      "Validation DataLoader 0:  22%|█████████████                                              | 2/9 [00:00<00:00, 60.90it/s]\u001b[A\n",
      "Validation DataLoader 0:  33%|███████████████████▋                                       | 3/9 [00:00<00:00, 73.46it/s]\u001b[A\n",
      "Validation DataLoader 0:  44%|██████████████████████████▏                                | 4/9 [00:00<00:00, 70.39it/s]\u001b[A\n",
      "Validation DataLoader 0:  56%|████████████████████████████████▊                          | 5/9 [00:00<00:00, 74.37it/s]\u001b[A\n",
      "Validation DataLoader 0:  67%|███████████████████████████████████████▎                   | 6/9 [00:00<00:00, 71.45it/s]\u001b[A\n",
      "Validation DataLoader 0:  78%|█████████████████████████████████████████████▉             | 7/9 [00:00<00:00, 69.65it/s]\u001b[A\n",
      "Validation DataLoader 0:  89%|████████████████████████████████████████████████████▍      | 8/9 [00:00<00:00, 73.52it/s]\u001b[A\n",
      "Validation DataLoader 0: 100%|███████████████████████████████████████████████████████████| 9/9 [00:00<00:00, 76.55it/s]\u001b[A\n",
      "Epoch 143: 100%|█████████████████████████████| 25/25 [00:00<00:00, 72.88it/s, v_num=17, train_acc=0.803, val_acc=0.949]\u001b[A\n",
      "Validation: |                                                                                    | 0/? [00:00<?, ?it/s]\u001b[A\n",
      "Validation:   0%|                                                                                | 0/9 [00:00<?, ?it/s]\u001b[A\n",
      "Validation DataLoader 0:   0%|                                                                   | 0/9 [00:00<?, ?it/s]\u001b[A\n",
      "Validation DataLoader 0:  11%|██████▌                                                    | 1/9 [00:00<00:00, 60.20it/s]\u001b[A\n",
      "Validation DataLoader 0:  22%|█████████████                                              | 2/9 [00:00<00:00, 60.55it/s]\u001b[A\n",
      "Validation DataLoader 0:  33%|███████████████████▋                                       | 3/9 [00:00<00:00, 61.49it/s]\u001b[A\n",
      "Validation DataLoader 0:  44%|██████████████████████████▏                                | 4/9 [00:00<00:00, 60.93it/s]\u001b[A\n",
      "Validation DataLoader 0:  56%|████████████████████████████████▊                          | 5/9 [00:00<00:00, 67.85it/s]\u001b[A\n",
      "Validation DataLoader 0:  67%|███████████████████████████████████████▎                   | 6/9 [00:00<00:00, 60.75it/s]\u001b[A\n",
      "Validation DataLoader 0:  78%|█████████████████████████████████████████████▉             | 7/9 [00:00<00:00, 65.05it/s]\u001b[A\n",
      "Validation DataLoader 0:  89%|████████████████████████████████████████████████████▍      | 8/9 [00:00<00:00, 63.87it/s]\u001b[A\n",
      "Validation DataLoader 0: 100%|███████████████████████████████████████████████████████████| 9/9 [00:00<00:00, 63.90it/s]\u001b[A\n",
      "Epoch 143: 100%|█████████████████████████████| 25/25 [00:00<00:00, 47.60it/s, v_num=17, train_acc=0.803, val_acc=0.958]\u001b[A"
     ]
    },
    {
     "name": "stderr",
     "output_type": "stream",
     "text": [
      "Metric val_loss improved by 0.001 >= min_delta = 0.0. New best score: 0.222\n"
     ]
    },
    {
     "name": "stdout",
     "output_type": "stream",
     "text": [
      "Epoch 144: 100%|█████████████████████████████| 25/25 [00:00<00:00, 66.96it/s, v_num=17, train_acc=0.772, val_acc=0.958]\n",
      "Validation: |                                                                                    | 0/? [00:00<?, ?it/s]\u001b[A\n",
      "Validation:   0%|                                                                                | 0/9 [00:00<?, ?it/s]\u001b[A\n",
      "Validation DataLoader 0:   0%|                                                                   | 0/9 [00:00<?, ?it/s]\u001b[A\n",
      "Validation DataLoader 0:  11%|██████▌                                                    | 1/9 [00:00<00:00, 62.54it/s]\u001b[A\n",
      "Validation DataLoader 0:  22%|█████████████                                              | 2/9 [00:00<00:00, 83.38it/s]\u001b[A\n",
      "Validation DataLoader 0:  33%|███████████████████▋                                       | 3/9 [00:00<00:00, 85.44it/s]\u001b[A\n",
      "Validation DataLoader 0:  44%|██████████████████████████▏                                | 4/9 [00:00<00:00, 77.36it/s]\u001b[A\n",
      "Validation DataLoader 0:  56%|████████████████████████████████▊                          | 5/9 [00:00<00:00, 83.75it/s]\u001b[A\n",
      "Validation DataLoader 0:  67%|███████████████████████████████████████▎                   | 6/9 [00:00<00:00, 82.01it/s]\u001b[A\n",
      "Validation DataLoader 0:  78%|█████████████████████████████████████████████▉             | 7/9 [00:00<00:00, 78.51it/s]\u001b[A\n",
      "Validation DataLoader 0:  89%|████████████████████████████████████████████████████▍      | 8/9 [00:00<00:00, 78.52it/s]\u001b[A\n",
      "Validation DataLoader 0: 100%|███████████████████████████████████████████████████████████| 9/9 [00:00<00:00, 88.34it/s]\u001b[A\n",
      "Epoch 145: 100%|█████████████████████████████| 25/25 [00:00<00:00, 52.90it/s, v_num=17, train_acc=0.858, val_acc=0.953]\u001b[A\n",
      "Validation: |                                                                                    | 0/? [00:00<?, ?it/s]\u001b[A\n",
      "Validation:   0%|                                                                                | 0/9 [00:00<?, ?it/s]\u001b[A\n",
      "Validation DataLoader 0:   0%|                                                                   | 0/9 [00:00<?, ?it/s]\u001b[A\n",
      "Validation DataLoader 0:  11%|██████▌                                                    | 1/9 [00:00<00:00, 62.55it/s]\u001b[A\n",
      "Validation DataLoader 0:  22%|█████████████                                              | 2/9 [00:00<00:00, 83.39it/s]\u001b[A\n",
      "Validation DataLoader 0:  33%|███████████████████▋                                       | 3/9 [00:00<00:00, 75.05it/s]\u001b[A\n",
      "Validation DataLoader 0:  44%|██████████████████████████▏                                | 4/9 [00:00<00:00, 78.57it/s]\u001b[A\n",
      "Validation DataLoader 0:  56%|████████████████████████████████▊                          | 5/9 [00:00<00:00, 73.76it/s]\u001b[A\n",
      "Validation DataLoader 0:  67%|███████████████████████████████████████▎                   | 6/9 [00:00<00:00, 78.04it/s]\u001b[A\n",
      "Validation DataLoader 0:  78%|█████████████████████████████████████████████▉             | 7/9 [00:00<00:00, 75.37it/s]\u001b[A\n",
      "Validation DataLoader 0:  89%|████████████████████████████████████████████████████▍      | 8/9 [00:00<00:00, 79.31it/s]\u001b[A\n",
      "Validation DataLoader 0: 100%|███████████████████████████████████████████████████████████| 9/9 [00:00<00:00, 77.01it/s]\u001b[A\n",
      "Epoch 146: 100%|█████████████████████████████| 25/25 [00:00<00:00, 67.90it/s, v_num=17, train_acc=0.811, val_acc=0.950]\u001b[A\n",
      "Validation: |                                                                                    | 0/? [00:00<?, ?it/s]\u001b[A\n",
      "Validation:   0%|                                                                                | 0/9 [00:00<?, ?it/s]\u001b[A\n",
      "Validation DataLoader 0:   0%|                                                                   | 0/9 [00:00<?, ?it/s]\u001b[A\n",
      "Validation DataLoader 0:  11%|██████▌                                                    | 1/9 [00:00<00:00, 59.85it/s]\u001b[A\n",
      "Validation DataLoader 0:  22%|█████████████                                              | 2/9 [00:00<00:00, 80.96it/s]\u001b[A\n",
      "Validation DataLoader 0:  33%|███████████████████▋                                       | 3/9 [00:00<00:00, 73.72it/s]\u001b[A\n",
      "Validation DataLoader 0:  44%|██████████████████████████▏                                | 4/9 [00:00<00:00, 79.98it/s]\u001b[A\n",
      "Validation DataLoader 0:  56%|████████████████████████████████▊                          | 5/9 [00:00<00:00, 85.21it/s]\u001b[A\n",
      "Validation DataLoader 0:  67%|███████████████████████████████████████▎                   | 6/9 [00:00<00:00, 79.67it/s]\u001b[A\n",
      "Validation DataLoader 0:  78%|█████████████████████████████████████████████▉             | 7/9 [00:00<00:00, 84.02it/s]\u001b[A\n",
      "Validation DataLoader 0:  89%|████████████████████████████████████████████████████▍      | 8/9 [00:00<00:00, 86.88it/s]\u001b[A\n",
      "Validation DataLoader 0: 100%|███████████████████████████████████████████████████████████| 9/9 [00:00<00:00, 89.93it/s]\u001b[A\n",
      "Epoch 147: 100%|█████████████████████████████| 25/25 [00:00<00:00, 68.62it/s, v_num=17, train_acc=0.764, val_acc=0.943]\u001b[A\n",
      "Validation: |                                                                                    | 0/? [00:00<?, ?it/s]\u001b[A\n",
      "Validation:   0%|                                                                                | 0/9 [00:00<?, ?it/s]\u001b[A\n",
      "Validation DataLoader 0:   0%|                                                                   | 0/9 [00:00<?, ?it/s]\u001b[A\n",
      "Validation DataLoader 0:  11%|██████▌                                                    | 1/9 [00:00<00:00, 60.20it/s]\u001b[A\n",
      "Validation DataLoader 0:  22%|█████████████                                              | 2/9 [00:00<00:00, 81.27it/s]\u001b[A\n",
      "Validation DataLoader 0:  33%|███████████████████▋                                       | 3/9 [00:00<00:00, 72.73it/s]\u001b[A\n",
      "Validation DataLoader 0:  44%|██████████████████████████▏                                | 4/9 [00:00<00:00, 69.12it/s]\u001b[A\n",
      "Validation DataLoader 0:  56%|████████████████████████████████▊                          | 5/9 [00:00<00:00, 73.77it/s]\u001b[A\n",
      "Validation DataLoader 0:  67%|███████████████████████████████████████▎                   | 6/9 [00:00<00:00, 72.54it/s]\u001b[A\n",
      "Validation DataLoader 0:  78%|█████████████████████████████████████████████▉             | 7/9 [00:00<00:00, 76.72it/s]\u001b[A\n",
      "Validation DataLoader 0:  89%|████████████████████████████████████████████████████▍      | 8/9 [00:00<00:00, 74.15it/s]\u001b[A\n",
      "Validation DataLoader 0: 100%|███████████████████████████████████████████████████████████| 9/9 [00:00<00:00, 77.19it/s]\u001b[A\n",
      "Epoch 148: 100%|█████████████████████████████| 25/25 [00:00<00:00, 68.14it/s, v_num=17, train_acc=0.772, val_acc=0.947]\u001b[A\n",
      "Validation: |                                                                                    | 0/? [00:00<?, ?it/s]\u001b[A\n",
      "Validation:   0%|                                                                                | 0/9 [00:00<?, ?it/s]\u001b[A\n",
      "Validation DataLoader 0:   0%|                                                                   | 0/9 [00:00<?, ?it/s]\u001b[A\n",
      "Validation DataLoader 0:  11%|██████▌                                                    | 1/9 [00:00<00:00, 45.58it/s]\u001b[A\n",
      "Validation DataLoader 0:  22%|█████████████                                              | 2/9 [00:00<00:00, 55.91it/s]\u001b[A\n",
      "Validation DataLoader 0:  33%|███████████████████▋                                       | 3/9 [00:00<00:00, 62.79it/s]\u001b[A\n",
      "Validation DataLoader 0:  44%|██████████████████████████▏                                | 4/9 [00:00<00:00, 71.72it/s]\u001b[A\n",
      "Validation DataLoader 0:  56%|████████████████████████████████▊                          | 5/9 [00:00<00:00, 69.84it/s]\u001b[A\n",
      "Validation DataLoader 0:  67%|███████████████████████████████████████▎                   | 6/9 [00:00<00:00, 70.89it/s]\u001b[A\n",
      "Validation DataLoader 0:  78%|█████████████████████████████████████████████▉             | 7/9 [00:00<00:00, 71.16it/s]\u001b[A\n",
      "Validation DataLoader 0:  89%|████████████████████████████████████████████████████▍      | 8/9 [00:00<00:00, 70.83it/s]\u001b[A\n",
      "Validation DataLoader 0: 100%|███████████████████████████████████████████████████████████| 9/9 [00:00<00:00, 74.24it/s]\u001b[A\n",
      "Epoch 149: 100%|█████████████████████████████| 25/25 [00:00<00:00, 69.58it/s, v_num=17, train_acc=0.835, val_acc=0.953]\u001b[A\n",
      "Validation: |                                                                                    | 0/? [00:00<?, ?it/s]\u001b[A\n",
      "Validation:   0%|                                                                                | 0/9 [00:00<?, ?it/s]\u001b[A\n",
      "Validation DataLoader 0:   0%|                                                                   | 0/9 [00:00<?, ?it/s]\u001b[A\n",
      "Validation DataLoader 0:  11%|██████▌                                                    | 1/9 [00:00<00:00, 59.59it/s]\u001b[A\n",
      "Validation DataLoader 0:  22%|█████████████                                              | 2/9 [00:00<00:00, 60.08it/s]\u001b[A\n",
      "Validation DataLoader 0:  33%|███████████████████▋                                       | 3/9 [00:00<00:00, 60.70it/s]\u001b[A\n",
      "Validation DataLoader 0:  44%|██████████████████████████▏                                | 4/9 [00:00<00:00, 60.86it/s]\u001b[A\n",
      "Validation DataLoader 0:  56%|████████████████████████████████▊                          | 5/9 [00:00<00:00, 60.64it/s]\u001b[A\n",
      "Validation DataLoader 0:  67%|███████████████████████████████████████▎                   | 6/9 [00:00<00:00, 60.09it/s]\u001b[A\n",
      "Validation DataLoader 0:  78%|█████████████████████████████████████████████▉             | 7/9 [00:00<00:00, 60.48it/s]\u001b[A\n",
      "Validation DataLoader 0:  89%|████████████████████████████████████████████████████▍      | 8/9 [00:00<00:00, 60.39it/s]\u001b[A\n",
      "Validation DataLoader 0: 100%|███████████████████████████████████████████████████████████| 9/9 [00:00<00:00, 63.73it/s]\u001b[A\n",
      "Epoch 150: 100%|█████████████████████████████| 25/25 [00:00<00:00, 55.46it/s, v_num=17, train_acc=0.827, val_acc=0.944]\u001b[A\n",
      "Validation: |                                                                                    | 0/? [00:00<?, ?it/s]\u001b[A\n",
      "Validation:   0%|                                                                                | 0/9 [00:00<?, ?it/s]\u001b[A\n",
      "Validation DataLoader 0:   0%|                                                                   | 0/9 [00:00<?, ?it/s]\u001b[A\n",
      "Validation DataLoader 0:  11%|██████▌                                                    | 1/9 [00:00<00:00, 60.15it/s]\u001b[A\n",
      "Validation DataLoader 0:  22%|█████████████                                              | 2/9 [00:00<00:00, 79.09it/s]\u001b[A\n",
      "Validation DataLoader 0:  33%|███████████████████▋                                       | 3/9 [00:00<00:00, 71.91it/s]\u001b[A\n",
      "Validation DataLoader 0:  44%|██████████████████████████▏                                | 4/9 [00:00<00:00, 80.45it/s]\u001b[A\n",
      "Validation DataLoader 0:  56%|████████████████████████████████▊                          | 5/9 [00:00<00:00, 76.10it/s]\u001b[A\n",
      "Validation DataLoader 0:  67%|███████████████████████████████████████▎                   | 6/9 [00:00<00:00, 79.81it/s]\u001b[A\n",
      "Validation DataLoader 0:  78%|█████████████████████████████████████████████▉             | 7/9 [00:00<00:00, 84.15it/s]\u001b[A\n",
      "Validation DataLoader 0:  89%|████████████████████████████████████████████████████▍      | 8/9 [00:00<00:00, 79.97it/s]\u001b[A\n",
      "Validation DataLoader 0: 100%|███████████████████████████████████████████████████████████| 9/9 [00:00<00:00, 82.85it/s]\u001b[A\n",
      "Epoch 151: 100%|█████████████████████████████| 25/25 [00:00<00:00, 68.04it/s, v_num=17, train_acc=0.764, val_acc=0.948]\u001b[A\n",
      "Validation: |                                                                                    | 0/? [00:00<?, ?it/s]\u001b[A\n",
      "Validation:   0%|                                                                                | 0/9 [00:00<?, ?it/s]\u001b[A\n",
      "Validation DataLoader 0:   0%|                                                                   | 0/9 [00:00<?, ?it/s]\u001b[A\n",
      "Validation DataLoader 0:  11%|██████▍                                                   | 1/9 [00:00<00:00, 107.49it/s]\u001b[A\n",
      "Validation DataLoader 0:  22%|█████████████                                              | 2/9 [00:00<00:00, 76.42it/s]\u001b[A\n",
      "Validation DataLoader 0:  33%|███████████████████▋                                       | 3/9 [00:00<00:00, 87.81it/s]\u001b[A\n",
      "Validation DataLoader 0:  44%|██████████████████████████▏                                | 4/9 [00:00<00:00, 79.10it/s]\u001b[A\n",
      "Validation DataLoader 0:  56%|████████████████████████████████▊                          | 5/9 [00:00<00:00, 84.51it/s]\u001b[A\n",
      "Validation DataLoader 0:  67%|███████████████████████████████████████▎                   | 6/9 [00:00<00:00, 79.03it/s]\u001b[A\n",
      "Validation DataLoader 0:  78%|█████████████████████████████████████████████▉             | 7/9 [00:00<00:00, 83.41it/s]\u001b[A\n",
      "Validation DataLoader 0:  89%|████████████████████████████████████████████████████▍      | 8/9 [00:00<00:00, 79.58it/s]\u001b[A\n",
      "Validation DataLoader 0: 100%|███████████████████████████████████████████████████████████| 9/9 [00:00<00:00, 82.16it/s]\u001b[A\n",
      "Epoch 151: 100%|█████████████████████████████| 25/25 [00:00<00:00, 49.07it/s, v_num=17, train_acc=0.764, val_acc=0.953]\u001b[A"
     ]
    },
    {
     "name": "stderr",
     "output_type": "stream",
     "text": [
      "Metric val_loss improved by 0.006 >= min_delta = 0.0. New best score: 0.216\n"
     ]
    },
    {
     "name": "stdout",
     "output_type": "stream",
     "text": [
      "Epoch 152: 100%|█████████████████████████████| 25/25 [00:00<00:00, 68.04it/s, v_num=17, train_acc=0.795, val_acc=0.953]\n",
      "Validation: |                                                                                    | 0/? [00:00<?, ?it/s]\u001b[A\n",
      "Validation:   0%|                                                                                | 0/9 [00:00<?, ?it/s]\u001b[A\n",
      "Validation DataLoader 0:   0%|                                                                   | 0/9 [00:00<?, ?it/s]\u001b[A\n",
      "Validation DataLoader 0:  11%|██████▌                                                    | 1/9 [00:00<00:00, 59.92it/s]\u001b[A\n",
      "Validation DataLoader 0:  22%|█████████████                                              | 2/9 [00:00<00:00, 59.92it/s]\u001b[A\n",
      "Validation DataLoader 0:  33%|███████████████████▋                                       | 3/9 [00:00<00:00, 69.24it/s]\u001b[A\n",
      "Validation DataLoader 0:  44%|██████████████████████████▏                                | 4/9 [00:00<00:00, 68.14it/s]\u001b[A\n",
      "Validation DataLoader 0:  56%|████████████████████████████████▊                          | 5/9 [00:00<00:00, 74.97it/s]\u001b[A\n",
      "Validation DataLoader 0:  67%|███████████████████████████████████████▎                   | 6/9 [00:00<00:00, 71.97it/s]\u001b[A\n",
      "Validation DataLoader 0:  78%|█████████████████████████████████████████████▉             | 7/9 [00:00<00:00, 76.09it/s]\u001b[A\n",
      "Validation DataLoader 0:  89%|████████████████████████████████████████████████████▍      | 8/9 [00:00<00:00, 80.01it/s]\u001b[A\n",
      "Validation DataLoader 0: 100%|███████████████████████████████████████████████████████████| 9/9 [00:00<00:00, 77.10it/s]\u001b[A\n",
      "Epoch 152: 100%|█████████████████████████████| 25/25 [00:00<00:00, 49.12it/s, v_num=17, train_acc=0.795, val_acc=0.947]\u001b[A"
     ]
    },
    {
     "name": "stderr",
     "output_type": "stream",
     "text": [
      "Metric val_loss improved by 0.002 >= min_delta = 0.0. New best score: 0.215\n"
     ]
    },
    {
     "name": "stdout",
     "output_type": "stream",
     "text": [
      "Epoch 153: 100%|█████████████████████████████| 25/25 [00:00<00:00, 69.69it/s, v_num=17, train_acc=0.780, val_acc=0.947]\n",
      "Validation: |                                                                                    | 0/? [00:00<?, ?it/s]\u001b[A\n",
      "Validation:   0%|                                                                                | 0/9 [00:00<?, ?it/s]\u001b[A\n",
      "Validation DataLoader 0:   0%|                                                                   | 0/9 [00:00<?, ?it/s]\u001b[A\n",
      "Validation DataLoader 0:  11%|██████▍                                                   | 1/9 [00:00<00:00, 113.48it/s]\u001b[A\n",
      "Validation DataLoader 0:  22%|█████████████                                              | 2/9 [00:00<00:00, 80.64it/s]\u001b[A\n",
      "Validation DataLoader 0:  33%|███████████████████▋                                       | 3/9 [00:00<00:00, 91.47it/s]\u001b[A\n",
      "Validation DataLoader 0:  44%|██████████████████████████▏                                | 4/9 [00:00<00:00, 79.93it/s]\u001b[A\n",
      "Validation DataLoader 0:  56%|████████████████████████████████▊                          | 5/9 [00:00<00:00, 85.14it/s]\u001b[A\n",
      "Validation DataLoader 0:  67%|███████████████████████████████████████▎                   | 6/9 [00:00<00:00, 89.92it/s]\u001b[A\n",
      "Validation DataLoader 0:  78%|█████████████████████████████████████████████▉             | 7/9 [00:00<00:00, 83.90it/s]\u001b[A\n",
      "Validation DataLoader 0:  89%|████████████████████████████████████████████████████▍      | 8/9 [00:00<00:00, 86.86it/s]\u001b[A\n",
      "Validation DataLoader 0: 100%|███████████████████████████████████████████████████████████| 9/9 [00:00<00:00, 83.26it/s]\u001b[A\n",
      "Epoch 154: 100%|█████████████████████████████| 25/25 [00:00<00:00, 67.66it/s, v_num=17, train_acc=0.772, val_acc=0.956]\u001b[A\n",
      "Validation: |                                                                                    | 0/? [00:00<?, ?it/s]\u001b[A\n",
      "Validation:   0%|                                                                                | 0/9 [00:00<?, ?it/s]\u001b[A\n",
      "Validation DataLoader 0:   0%|                                                                   | 0/9 [00:00<?, ?it/s]\u001b[A\n",
      "Validation DataLoader 0:  11%|██████▌                                                    | 1/9 [00:00<00:00, 60.04it/s]\u001b[A\n",
      "Validation DataLoader 0:  22%|█████████████                                              | 2/9 [00:00<00:00, 81.12it/s]\u001b[A\n",
      "Validation DataLoader 0:  33%|███████████████████▋                                       | 3/9 [00:00<00:00, 72.64it/s]\u001b[A\n",
      "Validation DataLoader 0:  44%|██████████████████████████▏                                | 4/9 [00:00<00:00, 80.13it/s]\u001b[A\n",
      "Validation DataLoader 0:  56%|████████████████████████████████▊                          | 5/9 [00:00<00:00, 86.32it/s]\u001b[A\n",
      "Validation DataLoader 0:  67%|███████████████████████████████████████▎                   | 6/9 [00:00<00:00, 80.26it/s]\u001b[A\n",
      "Validation DataLoader 0:  78%|█████████████████████████████████████████████▉             | 7/9 [00:00<00:00, 83.94it/s]\u001b[A\n",
      "Validation DataLoader 0:  89%|████████████████████████████████████████████████████▍      | 8/9 [00:00<00:00, 80.04it/s]\u001b[A\n",
      "Validation DataLoader 0: 100%|███████████████████████████████████████████████████████████| 9/9 [00:00<00:00, 83.37it/s]\u001b[A\n",
      "Epoch 155: 100%|█████████████████████████████| 25/25 [00:00<00:00, 69.98it/s, v_num=17, train_acc=0.724, val_acc=0.959]\u001b[A\n",
      "Validation: |                                                                                    | 0/? [00:00<?, ?it/s]\u001b[A\n",
      "Validation:   0%|                                                                                | 0/9 [00:00<?, ?it/s]\u001b[A\n",
      "Validation DataLoader 0:   0%|                                                                   | 0/9 [00:00<?, ?it/s]\u001b[A\n",
      "Validation DataLoader 0:  11%|██████▌                                                    | 1/9 [00:00<00:00, 58.90it/s]\u001b[A\n",
      "Validation DataLoader 0:  22%|█████████████                                              | 2/9 [00:00<00:00, 78.20it/s]\u001b[A\n",
      "Validation DataLoader 0:  33%|███████████████████▋                                       | 3/9 [00:00<00:00, 70.98it/s]\u001b[A\n",
      "Validation DataLoader 0:  44%|██████████████████████████▏                                | 4/9 [00:00<00:00, 79.58it/s]\u001b[A\n",
      "Validation DataLoader 0:  56%|████████████████████████████████▊                          | 5/9 [00:00<00:00, 75.47it/s]\u001b[A\n",
      "Validation DataLoader 0:  67%|███████████████████████████████████████▎                   | 6/9 [00:00<00:00, 80.81it/s]\u001b[A\n",
      "Validation DataLoader 0:  78%|█████████████████████████████████████████████▉             | 7/9 [00:00<00:00, 85.11it/s]\u001b[A\n",
      "Validation DataLoader 0:  89%|████████████████████████████████████████████████████▍      | 8/9 [00:00<00:00, 81.44it/s]\u001b[A\n",
      "Validation DataLoader 0: 100%|███████████████████████████████████████████████████████████| 9/9 [00:00<00:00, 82.65it/s]\u001b[A\n",
      "Epoch 156: 100%|█████████████████████████████| 25/25 [00:00<00:00, 66.62it/s, v_num=17, train_acc=0.724, val_acc=0.956]\u001b[A\n",
      "Validation: |                                                                                    | 0/? [00:00<?, ?it/s]\u001b[A\n",
      "Validation:   0%|                                                                                | 0/9 [00:00<?, ?it/s]\u001b[A\n",
      "Validation DataLoader 0:   0%|                                                                   | 0/9 [00:00<?, ?it/s]\u001b[A\n",
      "Validation DataLoader 0:  11%|██████▌                                                    | 1/9 [00:00<00:00, 60.00it/s]\u001b[A\n",
      "Validation DataLoader 0:  22%|█████████████                                              | 2/9 [00:00<00:00, 79.23it/s]\u001b[A\n",
      "Validation DataLoader 0:  33%|███████████████████▋                                       | 3/9 [00:00<00:00, 71.55it/s]\u001b[A\n",
      "Validation DataLoader 0:  44%|██████████████████████████▏                                | 4/9 [00:00<00:00, 80.12it/s]\u001b[A\n",
      "Validation DataLoader 0:  56%|████████████████████████████████▊                          | 5/9 [00:00<00:00, 75.04it/s]\u001b[A\n",
      "Validation DataLoader 0:  67%|███████████████████████████████████████▎                   | 6/9 [00:00<00:00, 79.68it/s]\u001b[A\n",
      "Validation DataLoader 0:  78%|█████████████████████████████████████████████▉             | 7/9 [00:00<00:00, 76.68it/s]\u001b[A\n",
      "Validation DataLoader 0:  89%|████████████████████████████████████████████████████▍      | 8/9 [00:00<00:00, 80.57it/s]\u001b[A\n",
      "Validation DataLoader 0: 100%|███████████████████████████████████████████████████████████| 9/9 [00:00<00:00, 83.89it/s]\u001b[A\n",
      "Epoch 157: 100%|█████████████████████████████| 25/25 [00:00<00:00, 70.99it/s, v_num=17, train_acc=0.843, val_acc=0.957]\u001b[A\n",
      "Validation: |                                                                                    | 0/? [00:00<?, ?it/s]\u001b[A\n",
      "Validation:   0%|                                                                                | 0/9 [00:00<?, ?it/s]\u001b[A\n",
      "Validation DataLoader 0:   0%|                                                                   | 0/9 [00:00<?, ?it/s]\u001b[A\n",
      "Validation DataLoader 0:  11%|██████▍                                                   | 1/9 [00:00<00:00, 125.04it/s]\u001b[A\n",
      "Validation DataLoader 0:  22%|█████████████                                              | 2/9 [00:00<00:00, 80.89it/s]\u001b[A\n",
      "Validation DataLoader 0:  33%|███████████████████▋                                       | 3/9 [00:00<00:00, 89.52it/s]\u001b[A\n",
      "Validation DataLoader 0:  44%|██████████████████████████▏                                | 4/9 [00:00<00:00, 96.37it/s]\u001b[A\n",
      "Validation DataLoader 0:  56%|████████████████████████████████▊                          | 5/9 [00:00<00:00, 86.15it/s]\u001b[A\n",
      "Validation DataLoader 0:  67%|███████████████████████████████████████▎                   | 6/9 [00:00<00:00, 89.87it/s]\u001b[A\n",
      "Validation DataLoader 0:  78%|█████████████████████████████████████████████▉             | 7/9 [00:00<00:00, 93.63it/s]\u001b[A\n",
      "Validation DataLoader 0:  89%|████████████████████████████████████████████████████▍      | 8/9 [00:00<00:00, 87.56it/s]\u001b[A\n",
      "Validation DataLoader 0: 100%|███████████████████████████████████████████████████████████| 9/9 [00:00<00:00, 90.58it/s]\u001b[A\n",
      "Epoch 158: 100%|█████████████████████████████| 25/25 [00:00<00:00, 68.16it/s, v_num=17, train_acc=0.803, val_acc=0.956]\u001b[A\n",
      "Validation: |                                                                                    | 0/? [00:00<?, ?it/s]\u001b[A\n",
      "Validation:   0%|                                                                                | 0/9 [00:00<?, ?it/s]\u001b[A\n",
      "Validation DataLoader 0:   0%|                                                                   | 0/9 [00:00<?, ?it/s]\u001b[A\n",
      "Validation DataLoader 0:  11%|██████▌                                                    | 1/9 [00:00<00:00, 62.53it/s]\u001b[A\n",
      "Validation DataLoader 0:  22%|█████████████                                              | 2/9 [00:00<00:00, 83.39it/s]\u001b[A\n",
      "Validation DataLoader 0:  33%|███████████████████▋                                       | 3/9 [00:00<00:00, 70.24it/s]\u001b[A\n",
      "Validation DataLoader 0:  44%|██████████████████████████▏                                | 4/9 [00:00<00:00, 78.88it/s]\u001b[A\n",
      "Validation DataLoader 0:  56%|████████████████████████████████▊                          | 5/9 [00:00<00:00, 84.23it/s]\u001b[A\n",
      "Validation DataLoader 0:  67%|███████████████████████████████████████▎                   | 6/9 [00:00<00:00, 78.88it/s]\u001b[A\n",
      "Validation DataLoader 0:  78%|█████████████████████████████████████████████▉             | 7/9 [00:00<00:00, 83.27it/s]\u001b[A\n",
      "Validation DataLoader 0:  89%|████████████████████████████████████████████████████▍      | 8/9 [00:00<00:00, 79.40it/s]\u001b[A\n",
      "Validation DataLoader 0: 100%|███████████████████████████████████████████████████████████| 9/9 [00:00<00:00, 82.27it/s]\u001b[A\n",
      "Epoch 158: 100%|█████████████████████████████| 25/25 [00:00<00:00, 49.14it/s, v_num=17, train_acc=0.803, val_acc=0.955]\u001b[A"
     ]
    },
    {
     "name": "stderr",
     "output_type": "stream",
     "text": [
      "Metric val_loss improved by 0.001 >= min_delta = 0.0. New best score: 0.213\n"
     ]
    },
    {
     "name": "stdout",
     "output_type": "stream",
     "text": [
      "Epoch 159: 100%|█████████████████████████████| 25/25 [00:00<00:00, 68.18it/s, v_num=17, train_acc=0.811, val_acc=0.955]\n",
      "Validation: |                                                                                    | 0/? [00:00<?, ?it/s]\u001b[A\n",
      "Validation:   0%|                                                                                | 0/9 [00:00<?, ?it/s]\u001b[A\n",
      "Validation DataLoader 0:   0%|                                                                   | 0/9 [00:00<?, ?it/s]\u001b[A\n",
      "Validation DataLoader 0:  11%|██████▌                                                    | 1/9 [00:00<00:00, 60.15it/s]\u001b[A\n",
      "Validation DataLoader 0:  22%|█████████████                                              | 2/9 [00:00<00:00, 78.82it/s]\u001b[A\n",
      "Validation DataLoader 0:  33%|███████████████████▋                                       | 3/9 [00:00<00:00, 71.54it/s]\u001b[A\n",
      "Validation DataLoader 0:  44%|██████████████████████████▏                                | 4/9 [00:00<00:00, 80.11it/s]\u001b[A\n",
      "Validation DataLoader 0:  56%|████████████████████████████████▊                          | 5/9 [00:00<00:00, 75.06it/s]\u001b[A\n",
      "Validation DataLoader 0:  67%|███████████████████████████████████████▎                   | 6/9 [00:00<00:00, 79.78it/s]\u001b[A\n",
      "Validation DataLoader 0:  78%|█████████████████████████████████████████████▉             | 7/9 [00:00<00:00, 76.35it/s]\u001b[A\n",
      "Validation DataLoader 0:  89%|████████████████████████████████████████████████████▍      | 8/9 [00:00<00:00, 80.05it/s]\u001b[A\n",
      "Validation DataLoader 0: 100%|███████████████████████████████████████████████████████████| 9/9 [00:00<00:00, 82.89it/s]\u001b[A\n",
      "Epoch 160: 100%|█████████████████████████████| 25/25 [00:00<00:00, 66.71it/s, v_num=17, train_acc=0.803, val_acc=0.950]\u001b[A\n",
      "Validation: |                                                                                    | 0/? [00:00<?, ?it/s]\u001b[A\n",
      "Validation:   0%|                                                                                | 0/9 [00:00<?, ?it/s]\u001b[A\n",
      "Validation DataLoader 0:   0%|                                                                   | 0/9 [00:00<?, ?it/s]\u001b[A\n",
      "Validation DataLoader 0:  11%|██████▌                                                    | 1/9 [00:00<00:00, 58.05it/s]\u001b[A\n",
      "Validation DataLoader 0:  22%|█████████████                                              | 2/9 [00:00<00:00, 79.29it/s]\u001b[A\n",
      "Validation DataLoader 0:  33%|███████████████████▋                                       | 3/9 [00:00<00:00, 72.55it/s]\u001b[A\n",
      "Validation DataLoader 0:  44%|██████████████████████████▏                                | 4/9 [00:00<00:00, 79.82it/s]\u001b[A\n",
      "Validation DataLoader 0:  56%|████████████████████████████████▊                          | 5/9 [00:00<00:00, 75.03it/s]\u001b[A\n",
      "Validation DataLoader 0:  67%|███████████████████████████████████████▎                   | 6/9 [00:00<00:00, 80.39it/s]\u001b[A\n",
      "Validation DataLoader 0:  78%|█████████████████████████████████████████████▉             | 7/9 [00:00<00:00, 76.61it/s]\u001b[A\n",
      "Validation DataLoader 0:  89%|████████████████████████████████████████████████████▍      | 8/9 [00:00<00:00, 79.94it/s]\u001b[A\n",
      "Validation DataLoader 0: 100%|███████████████████████████████████████████████████████████| 9/9 [00:00<00:00, 83.28it/s]\u001b[A\n",
      "Epoch 161: 100%|█████████████████████████████| 25/25 [00:00<00:00, 66.83it/s, v_num=17, train_acc=0.772, val_acc=0.957]\u001b[A\n",
      "Validation: |                                                                                    | 0/? [00:00<?, ?it/s]\u001b[A\n",
      "Validation:   0%|                                                                                | 0/9 [00:00<?, ?it/s]\u001b[A\n",
      "Validation DataLoader 0:   0%|                                                                   | 0/9 [00:00<?, ?it/s]\u001b[A\n",
      "Validation DataLoader 0:  11%|██████▌                                                    | 1/9 [00:00<00:00, 59.98it/s]\u001b[A\n",
      "Validation DataLoader 0:  22%|█████████████                                              | 2/9 [00:00<00:00, 78.71it/s]\u001b[A\n",
      "Validation DataLoader 0:  33%|███████████████████▋                                       | 3/9 [00:00<00:00, 71.41it/s]\u001b[A\n",
      "Validation DataLoader 0:  44%|██████████████████████████▏                                | 4/9 [00:00<00:00, 79.99it/s]\u001b[A\n",
      "Validation DataLoader 0:  56%|████████████████████████████████▊                          | 5/9 [00:00<00:00, 75.76it/s]\u001b[A\n",
      "Validation DataLoader 0:  67%|███████████████████████████████████████▎                   | 6/9 [00:00<00:00, 81.09it/s]\u001b[A\n",
      "Validation DataLoader 0:  78%|█████████████████████████████████████████████▉             | 7/9 [00:00<00:00, 77.79it/s]\u001b[A\n",
      "Validation DataLoader 0:  89%|████████████████████████████████████████████████████▍      | 8/9 [00:00<00:00, 81.65it/s]\u001b[A\n",
      "Validation DataLoader 0: 100%|███████████████████████████████████████████████████████████| 9/9 [00:00<00:00, 82.77it/s]\u001b[A\n",
      "Epoch 161: 100%|█████████████████████████████| 25/25 [00:00<00:00, 48.38it/s, v_num=17, train_acc=0.772, val_acc=0.958]\u001b[A"
     ]
    },
    {
     "name": "stderr",
     "output_type": "stream",
     "text": [
      "Metric val_loss improved by 0.003 >= min_delta = 0.0. New best score: 0.210\n"
     ]
    },
    {
     "name": "stdout",
     "output_type": "stream",
     "text": [
      "Epoch 162: 100%|█████████████████████████████| 25/25 [00:00<00:00, 51.78it/s, v_num=17, train_acc=0.835, val_acc=0.958]\n",
      "Validation: |                                                                                    | 0/? [00:00<?, ?it/s]\u001b[A\n",
      "Validation:   0%|                                                                                | 0/9 [00:00<?, ?it/s]\u001b[A\n",
      "Validation DataLoader 0:   0%|                                                                   | 0/9 [00:00<?, ?it/s]\u001b[A\n",
      "Validation DataLoader 0:  11%|██████▌                                                    | 1/9 [00:00<00:00, 60.03it/s]\u001b[A\n",
      "Validation DataLoader 0:  22%|█████████████                                              | 2/9 [00:00<00:00, 81.12it/s]\u001b[A\n",
      "Validation DataLoader 0:  33%|███████████████████▋                                       | 3/9 [00:00<00:00, 71.47it/s]\u001b[A\n",
      "Validation DataLoader 0:  44%|██████████████████████████▏                                | 4/9 [00:00<00:00, 68.16it/s]\u001b[A\n",
      "Validation DataLoader 0:  56%|████████████████████████████████▊                          | 5/9 [00:00<00:00, 74.98it/s]\u001b[A\n",
      "Validation DataLoader 0:  67%|███████████████████████████████████████▎                   | 6/9 [00:00<00:00, 71.46it/s]\u001b[A\n",
      "Validation DataLoader 0:  78%|█████████████████████████████████████████████▉             | 7/9 [00:00<00:00, 75.58it/s]\u001b[A\n",
      "Validation DataLoader 0:  89%|████████████████████████████████████████████████████▍      | 8/9 [00:00<00:00, 79.52it/s]\u001b[A\n",
      "Validation DataLoader 0: 100%|███████████████████████████████████████████████████████████| 9/9 [00:00<00:00, 76.71it/s]\u001b[A\n",
      "Epoch 163: 100%|█████████████████████████████| 25/25 [00:00<00:00, 71.40it/s, v_num=17, train_acc=0.803, val_acc=0.959]\u001b[A\n",
      "Validation: |                                                                                    | 0/? [00:00<?, ?it/s]\u001b[A\n",
      "Validation:   0%|                                                                                | 0/9 [00:00<?, ?it/s]\u001b[A\n",
      "Validation DataLoader 0:   0%|                                                                   | 0/9 [00:00<?, ?it/s]\u001b[A\n",
      "Validation DataLoader 0:  11%|██████▌                                                    | 1/9 [00:00<00:00, 39.51it/s]\u001b[A\n",
      "Validation DataLoader 0:  22%|█████████████                                              | 2/9 [00:00<00:00, 60.04it/s]\u001b[A\n",
      "Validation DataLoader 0:  33%|███████████████████▋                                       | 3/9 [00:00<00:00, 60.85it/s]\u001b[A\n",
      "Validation DataLoader 0:  44%|██████████████████████████▏                                | 4/9 [00:00<00:00, 69.82it/s]\u001b[A\n",
      "Validation DataLoader 0:  56%|████████████████████████████████▊                          | 5/9 [00:00<00:00, 68.23it/s]\u001b[A\n",
      "Validation DataLoader 0:  67%|███████████████████████████████████████▎                   | 6/9 [00:00<00:00, 73.82it/s]\u001b[A\n",
      "Validation DataLoader 0:  78%|█████████████████████████████████████████████▉             | 7/9 [00:00<00:00, 69.95it/s]\u001b[A\n",
      "Validation DataLoader 0:  89%|████████████████████████████████████████████████████▍      | 8/9 [00:00<00:00, 73.58it/s]\u001b[A\n",
      "Validation DataLoader 0: 100%|███████████████████████████████████████████████████████████| 9/9 [00:00<00:00, 72.12it/s]\u001b[A\n",
      "Epoch 164: 100%|█████████████████████████████| 25/25 [00:00<00:00, 68.27it/s, v_num=17, train_acc=0.756, val_acc=0.962]\u001b[A\n",
      "Validation: |                                                                                    | 0/? [00:00<?, ?it/s]\u001b[A\n",
      "Validation:   0%|                                                                                | 0/9 [00:00<?, ?it/s]\u001b[A\n",
      "Validation DataLoader 0:   0%|                                                                   | 0/9 [00:00<?, ?it/s]\u001b[A\n",
      "Validation DataLoader 0:  11%|██████▌                                                    | 1/9 [00:00<00:00, 60.09it/s]\u001b[A\n",
      "Validation DataLoader 0:  22%|█████████████                                              | 2/9 [00:00<00:00, 60.10it/s]\u001b[A\n",
      "Validation DataLoader 0:  33%|███████████████████▋                                       | 3/9 [00:00<00:00, 64.76it/s]\u001b[A\n",
      "Validation DataLoader 0:  44%|██████████████████████████▏                                | 4/9 [00:00<00:00, 67.60it/s]\u001b[A\n",
      "Validation DataLoader 0:  56%|████████████████████████████████▊                          | 5/9 [00:00<00:00, 74.68it/s]\u001b[A\n",
      "Validation DataLoader 0:  67%|███████████████████████████████████████▎                   | 6/9 [00:00<00:00, 72.33it/s]\u001b[A\n",
      "Validation DataLoader 0:  78%|█████████████████████████████████████████████▉             | 7/9 [00:00<00:00, 83.53it/s]\u001b[A\n",
      "Validation DataLoader 0:  89%|████████████████████████████████████████████████████▍      | 8/9 [00:00<00:00, 79.78it/s]\u001b[A\n",
      "Validation DataLoader 0: 100%|███████████████████████████████████████████████████████████| 9/9 [00:00<00:00, 77.36it/s]\u001b[A\n",
      "Epoch 165: 100%|█████████████████████████████| 25/25 [00:00<00:00, 40.42it/s, v_num=17, train_acc=0.780, val_acc=0.963]\u001b[A\n",
      "Validation: |                                                                                    | 0/? [00:00<?, ?it/s]\u001b[A\n",
      "Validation:   0%|                                                                                | 0/9 [00:00<?, ?it/s]\u001b[A\n",
      "Validation DataLoader 0:   0%|                                                                   | 0/9 [00:00<?, ?it/s]\u001b[A\n",
      "Validation DataLoader 0:  11%|██████▌                                                    | 1/9 [00:00<00:00, 40.54it/s]\u001b[A\n",
      "Validation DataLoader 0:  22%|█████████████                                              | 2/9 [00:00<00:00, 49.19it/s]\u001b[A\n",
      "Validation DataLoader 0:  33%|███████████████████▋                                       | 3/9 [00:00<00:00, 61.66it/s]\u001b[A\n",
      "Validation DataLoader 0:  44%|██████████████████████████▏                                | 4/9 [00:00<00:00, 61.88it/s]\u001b[A\n",
      "Validation DataLoader 0:  56%|████████████████████████████████▊                          | 5/9 [00:00<00:00, 59.61it/s]\u001b[A\n",
      "Validation DataLoader 0:  67%|███████████████████████████████████████▎                   | 6/9 [00:00<00:00, 65.30it/s]\u001b[A\n",
      "Validation DataLoader 0:  78%|█████████████████████████████████████████████▉             | 7/9 [00:00<00:00, 64.48it/s]\u001b[A\n",
      "Validation DataLoader 0:  89%|████████████████████████████████████████████████████▍      | 8/9 [00:00<00:00, 68.25it/s]\u001b[A\n",
      "Validation DataLoader 0: 100%|███████████████████████████████████████████████████████████| 9/9 [00:00<00:00, 67.23it/s]\u001b[A\n",
      "Epoch 165: 100%|█████████████████████████████| 25/25 [00:00<00:00, 31.82it/s, v_num=17, train_acc=0.780, val_acc=0.959]\u001b[A"
     ]
    },
    {
     "name": "stderr",
     "output_type": "stream",
     "text": [
      "Metric val_loss improved by 0.001 >= min_delta = 0.0. New best score: 0.209\n"
     ]
    },
    {
     "name": "stdout",
     "output_type": "stream",
     "text": [
      "Epoch 166: 100%|█████████████████████████████| 25/25 [00:00<00:00, 62.71it/s, v_num=17, train_acc=0.843, val_acc=0.959]\n",
      "Validation: |                                                                                    | 0/? [00:00<?, ?it/s]\u001b[A\n",
      "Validation:   0%|                                                                                | 0/9 [00:00<?, ?it/s]\u001b[A\n",
      "Validation DataLoader 0:   0%|                                                                   | 0/9 [00:00<?, ?it/s]\u001b[A\n",
      "Validation DataLoader 0:  11%|██████▍                                                   | 1/9 [00:00<00:00, 116.78it/s]\u001b[A\n",
      "Validation DataLoader 0:  22%|█████████████                                              | 2/9 [00:00<00:00, 79.36it/s]\u001b[A\n",
      "Validation DataLoader 0:  33%|███████████████████▋                                       | 3/9 [00:00<00:00, 85.33it/s]\u001b[A\n",
      "Validation DataLoader 0:  44%|██████████████████████████▏                                | 4/9 [00:00<00:00, 77.20it/s]\u001b[A\n",
      "Validation DataLoader 0:  56%|████████████████████████████████▊                          | 5/9 [00:00<00:00, 73.74it/s]\u001b[A\n",
      "Validation DataLoader 0:  67%|███████████████████████████████████████▎                   | 6/9 [00:00<00:00, 75.98it/s]\u001b[A\n",
      "Validation DataLoader 0:  78%|█████████████████████████████████████████████▉             | 7/9 [00:00<00:00, 73.79it/s]\u001b[A\n",
      "Validation DataLoader 0:  89%|████████████████████████████████████████████████████▍      | 8/9 [00:00<00:00, 74.94it/s]\u001b[A\n",
      "Validation DataLoader 0: 100%|███████████████████████████████████████████████████████████| 9/9 [00:00<00:00, 75.77it/s]\u001b[A\n",
      "Epoch 166: 100%|█████████████████████████████| 25/25 [00:00<00:00, 45.49it/s, v_num=17, train_acc=0.843, val_acc=0.958]\u001b[A"
     ]
    },
    {
     "name": "stderr",
     "output_type": "stream",
     "text": [
      "Metric val_loss improved by 0.001 >= min_delta = 0.0. New best score: 0.209\n"
     ]
    },
    {
     "name": "stdout",
     "output_type": "stream",
     "text": [
      "Epoch 167: 100%|█████████████████████████████| 25/25 [00:00<00:00, 65.11it/s, v_num=17, train_acc=0.787, val_acc=0.958]\n",
      "Validation: |                                                                                    | 0/? [00:00<?, ?it/s]\u001b[A\n",
      "Validation:   0%|                                                                                | 0/9 [00:00<?, ?it/s]\u001b[A\n",
      "Validation DataLoader 0:   0%|                                                                   | 0/9 [00:00<?, ?it/s]\u001b[A\n",
      "Validation DataLoader 0:  11%|██████▌                                                    | 1/9 [00:00<00:00, 62.53it/s]\u001b[A\n",
      "Validation DataLoader 0:  22%|█████████████                                              | 2/9 [00:00<00:00, 77.28it/s]\u001b[A\n",
      "Validation DataLoader 0:  33%|███████████████████▋                                       | 3/9 [00:00<00:00, 70.37it/s]\u001b[A\n",
      "Validation DataLoader 0:  44%|██████████████████████████▏                                | 4/9 [00:00<00:00, 66.87it/s]\u001b[A\n",
      "Validation DataLoader 0:  56%|████████████████████████████████▊                          | 5/9 [00:00<00:00, 65.48it/s]\u001b[A\n",
      "Validation DataLoader 0:  67%|███████████████████████████████████████▎                   | 6/9 [00:00<00:00, 78.57it/s]\u001b[A\n",
      "Validation DataLoader 0:  78%|█████████████████████████████████████████████▉             | 7/9 [00:00<00:00, 75.23it/s]\u001b[A\n",
      "Validation DataLoader 0:  89%|████████████████████████████████████████████████████▍      | 8/9 [00:00<00:00, 72.23it/s]\u001b[A\n",
      "Validation DataLoader 0: 100%|███████████████████████████████████████████████████████████| 9/9 [00:00<00:00, 71.59it/s]\u001b[A\n",
      "Epoch 168: 100%|█████████████████████████████| 25/25 [00:00<00:00, 48.73it/s, v_num=17, train_acc=0.780, val_acc=0.959]\u001b[A\n",
      "Validation: |                                                                                    | 0/? [00:00<?, ?it/s]\u001b[A\n",
      "Validation:   0%|                                                                                | 0/9 [00:00<?, ?it/s]\u001b[A\n",
      "Validation DataLoader 0:   0%|                                                                   | 0/9 [00:00<?, ?it/s]\u001b[A\n",
      "Validation DataLoader 0:  11%|██████▌                                                    | 1/9 [00:00<00:00, 39.14it/s]\u001b[A\n",
      "Validation DataLoader 0:  22%|█████████████                                              | 2/9 [00:00<00:00, 46.49it/s]\u001b[A\n",
      "Validation DataLoader 0:  33%|███████████████████▋                                       | 3/9 [00:00<00:00, 45.01it/s]\u001b[A\n",
      "Validation DataLoader 0:  44%|██████████████████████████▏                                | 4/9 [00:00<00:00, 48.00it/s]\u001b[A\n",
      "Validation DataLoader 0:  56%|████████████████████████████████▊                          | 5/9 [00:00<00:00, 54.52it/s]\u001b[A\n",
      "Validation DataLoader 0:  67%|███████████████████████████████████████▎                   | 6/9 [00:00<00:00, 55.55it/s]\u001b[A\n",
      "Validation DataLoader 0:  78%|█████████████████████████████████████████████▉             | 7/9 [00:00<00:00, 59.70it/s]\u001b[A\n",
      "Validation DataLoader 0:  89%|████████████████████████████████████████████████████▍      | 8/9 [00:00<00:00, 63.87it/s]\u001b[A\n",
      "Validation DataLoader 0: 100%|███████████████████████████████████████████████████████████| 9/9 [00:00<00:00, 63.39it/s]\u001b[A\n",
      "Epoch 169: 100%|█████████████████████████████| 25/25 [00:00<00:00, 66.28it/s, v_num=17, train_acc=0.772, val_acc=0.964]\u001b[A\n",
      "Validation: |                                                                                    | 0/? [00:00<?, ?it/s]\u001b[A\n",
      "Validation:   0%|                                                                                | 0/9 [00:00<?, ?it/s]\u001b[A\n",
      "Validation DataLoader 0:   0%|                                                                   | 0/9 [00:00<?, ?it/s]\u001b[A\n",
      "Validation DataLoader 0:  11%|██████▌                                                    | 1/9 [00:00<00:00, 48.63it/s]\u001b[A\n",
      "Validation DataLoader 0:  22%|█████████████                                              | 2/9 [00:00<00:00, 60.75it/s]\u001b[A\n",
      "Validation DataLoader 0:  33%|███████████████████▋                                       | 3/9 [00:00<00:00, 73.32it/s]\u001b[A\n",
      "Validation DataLoader 0:  44%|██████████████████████████▏                                | 4/9 [00:00<00:00, 69.58it/s]\u001b[A\n",
      "Validation DataLoader 0:  56%|████████████████████████████████▊                          | 5/9 [00:00<00:00, 72.04it/s]\u001b[A\n",
      "Validation DataLoader 0:  67%|███████████████████████████████████████▎                   | 6/9 [00:00<00:00, 72.46it/s]\u001b[A\n",
      "Validation DataLoader 0:  78%|█████████████████████████████████████████████▉             | 7/9 [00:00<00:00, 77.09it/s]\u001b[A\n",
      "Validation DataLoader 0:  89%|████████████████████████████████████████████████████▍      | 8/9 [00:00<00:00, 74.76it/s]\u001b[A\n",
      "Validation DataLoader 0: 100%|███████████████████████████████████████████████████████████| 9/9 [00:00<00:00, 77.96it/s]\u001b[A\n",
      "Epoch 170: 100%|█████████████████████████████| 25/25 [00:00<00:00, 66.98it/s, v_num=17, train_acc=0.835, val_acc=0.959]\u001b[A\n",
      "Validation: |                                                                                    | 0/? [00:00<?, ?it/s]\u001b[A\n",
      "Validation:   0%|                                                                                | 0/9 [00:00<?, ?it/s]\u001b[A\n",
      "Validation DataLoader 0:   0%|                                                                   | 0/9 [00:00<?, ?it/s]\u001b[A\n",
      "Validation DataLoader 0:  11%|██████▌                                                    | 1/9 [00:00<00:00, 39.56it/s]\u001b[A\n",
      "Validation DataLoader 0:  22%|█████████████                                              | 2/9 [00:00<00:00, 60.11it/s]\u001b[A\n",
      "Validation DataLoader 0:  33%|███████████████████▋                                       | 3/9 [00:00<00:00, 57.46it/s]\u001b[A\n",
      "Validation DataLoader 0:  44%|██████████████████████████▏                                | 4/9 [00:00<00:00, 56.95it/s]\u001b[A\n",
      "Validation DataLoader 0:  56%|████████████████████████████████▊                          | 5/9 [00:00<00:00, 58.45it/s]\u001b[A\n",
      "Validation DataLoader 0:  67%|███████████████████████████████████████▎                   | 6/9 [00:00<00:00, 58.67it/s]\u001b[A\n",
      "Validation DataLoader 0:  78%|█████████████████████████████████████████████▉             | 7/9 [00:00<00:00, 57.87it/s]\u001b[A\n",
      "Validation DataLoader 0:  89%|████████████████████████████████████████████████████▍      | 8/9 [00:00<00:00, 58.34it/s]\u001b[A\n",
      "Validation DataLoader 0: 100%|███████████████████████████████████████████████████████████| 9/9 [00:00<00:00, 61.86it/s]\u001b[A\n",
      "Epoch 170: 100%|█████████████████████████████| 25/25 [00:00<00:00, 44.80it/s, v_num=17, train_acc=0.835, val_acc=0.959]\u001b[A"
     ]
    },
    {
     "name": "stderr",
     "output_type": "stream",
     "text": [
      "Metric val_loss improved by 0.000 >= min_delta = 0.0. New best score: 0.208\n"
     ]
    },
    {
     "name": "stdout",
     "output_type": "stream",
     "text": [
      "Epoch 171: 100%|█████████████████████████████| 25/25 [00:00<00:00, 57.60it/s, v_num=17, train_acc=0.756, val_acc=0.959]\n",
      "Validation: |                                                                                    | 0/? [00:00<?, ?it/s]\u001b[A\n",
      "Validation:   0%|                                                                                | 0/9 [00:00<?, ?it/s]\u001b[A\n",
      "Validation DataLoader 0:   0%|                                                                   | 0/9 [00:00<?, ?it/s]\u001b[A\n",
      "Validation DataLoader 0:  11%|██████▌                                                    | 1/9 [00:00<00:00, 59.83it/s]\u001b[A\n",
      "Validation DataLoader 0:  22%|█████████████                                              | 2/9 [00:00<00:00, 60.88it/s]\u001b[A\n",
      "Validation DataLoader 0:  33%|███████████████████▋                                       | 3/9 [00:00<00:00, 73.44it/s]\u001b[A\n",
      "Validation DataLoader 0:  44%|██████████████████████████▏                                | 4/9 [00:00<00:00, 80.05it/s]\u001b[A\n",
      "Validation DataLoader 0:  56%|████████████████████████████████▊                          | 5/9 [00:00<00:00, 74.85it/s]\u001b[A\n",
      "Validation DataLoader 0:  67%|███████████████████████████████████████▎                   | 6/9 [00:00<00:00, 80.21it/s]\u001b[A\n",
      "Validation DataLoader 0:  78%|█████████████████████████████████████████████▉             | 7/9 [00:00<00:00, 83.05it/s]\u001b[A\n",
      "Validation DataLoader 0:  89%|████████████████████████████████████████████████████▍      | 8/9 [00:00<00:00, 79.70it/s]\u001b[A\n",
      "Validation DataLoader 0: 100%|███████████████████████████████████████████████████████████| 9/9 [00:00<00:00, 77.34it/s]\u001b[A\n",
      "Epoch 172: 100%|█████████████████████████████| 25/25 [00:00<00:00, 66.60it/s, v_num=17, train_acc=0.780, val_acc=0.961]\u001b[A\n",
      "Validation: |                                                                                    | 0/? [00:00<?, ?it/s]\u001b[A\n",
      "Validation:   0%|                                                                                | 0/9 [00:00<?, ?it/s]\u001b[A\n",
      "Validation DataLoader 0:   0%|                                                                   | 0/9 [00:00<?, ?it/s]\u001b[A\n",
      "Validation DataLoader 0:  11%|██████▌                                                    | 1/9 [00:00<00:00, 59.96it/s]\u001b[A\n",
      "Validation DataLoader 0:  22%|█████████████                                              | 2/9 [00:00<00:00, 79.01it/s]\u001b[A\n",
      "Validation DataLoader 0:  33%|███████████████████▋                                       | 3/9 [00:00<00:00, 68.96it/s]\u001b[A\n",
      "Validation DataLoader 0:  44%|██████████████████████████▏                                | 4/9 [00:00<00:00, 77.67it/s]\u001b[A\n",
      "Validation DataLoader 0:  56%|████████████████████████████████▊                          | 5/9 [00:00<00:00, 75.00it/s]\u001b[A\n",
      "Validation DataLoader 0:  67%|███████████████████████████████████████▎                   | 6/9 [00:00<00:00, 80.36it/s]\u001b[A\n",
      "Validation DataLoader 0:  78%|█████████████████████████████████████████████▉             | 7/9 [00:00<00:00, 77.22it/s]\u001b[A\n",
      "Validation DataLoader 0:  89%|████████████████████████████████████████████████████▍      | 8/9 [00:00<00:00, 81.06it/s]\u001b[A\n",
      "Validation DataLoader 0: 100%|███████████████████████████████████████████████████████████| 9/9 [00:00<00:00, 77.07it/s]\u001b[A\n",
      "Epoch 172: 100%|█████████████████████████████| 25/25 [00:00<00:00, 48.44it/s, v_num=17, train_acc=0.780, val_acc=0.963]\u001b[A"
     ]
    },
    {
     "name": "stderr",
     "output_type": "stream",
     "text": [
      "Metric val_loss improved by 0.006 >= min_delta = 0.0. New best score: 0.203\n"
     ]
    },
    {
     "name": "stdout",
     "output_type": "stream",
     "text": [
      "Epoch 173: 100%|█████████████████████████████| 25/25 [00:00<00:00, 69.33it/s, v_num=17, train_acc=0.803, val_acc=0.963]\n",
      "Validation: |                                                                                    | 0/? [00:00<?, ?it/s]\u001b[A\n",
      "Validation:   0%|                                                                                | 0/9 [00:00<?, ?it/s]\u001b[A\n",
      "Validation DataLoader 0:   0%|                                                                   | 0/9 [00:00<?, ?it/s]\u001b[A\n",
      "Validation DataLoader 0:  11%|██████▌                                                    | 1/9 [00:00<00:00, 60.27it/s]\u001b[A\n",
      "Validation DataLoader 0:  22%|█████████████                                              | 2/9 [00:00<00:00, 60.07it/s]\u001b[A\n",
      "Validation DataLoader 0:  33%|███████████████████▋                                       | 3/9 [00:00<00:00, 72.65it/s]\u001b[A\n",
      "Validation DataLoader 0:  44%|██████████████████████████▏                                | 4/9 [00:00<00:00, 80.09it/s]\u001b[A\n",
      "Validation DataLoader 0:  56%|████████████████████████████████▊                          | 5/9 [00:00<00:00, 74.91it/s]\u001b[A\n",
      "Validation DataLoader 0:  67%|███████████████████████████████████████▎                   | 6/9 [00:00<00:00, 71.72it/s]\u001b[A\n",
      "Validation DataLoader 0:  78%|█████████████████████████████████████████████▉             | 7/9 [00:00<00:00, 83.67it/s]\u001b[A\n",
      "Validation DataLoader 0:  89%|████████████████████████████████████████████████████▍      | 8/9 [00:00<00:00, 74.47it/s]\u001b[A\n",
      "Validation DataLoader 0: 100%|███████████████████████████████████████████████████████████| 9/9 [00:00<00:00, 77.98it/s]\u001b[A\n",
      "Epoch 174: 100%|█████████████████████████████| 25/25 [00:00<00:00, 69.45it/s, v_num=17, train_acc=0.827, val_acc=0.959]\u001b[A\n",
      "Validation: |                                                                                    | 0/? [00:00<?, ?it/s]\u001b[A\n",
      "Validation:   0%|                                                                                | 0/9 [00:00<?, ?it/s]\u001b[A\n",
      "Validation DataLoader 0:   0%|                                                                   | 0/9 [00:00<?, ?it/s]\u001b[A\n",
      "Validation DataLoader 0:  11%|██████▌                                                    | 1/9 [00:00<00:00, 61.46it/s]\u001b[A\n",
      "Validation DataLoader 0:  22%|█████████████                                              | 2/9 [00:00<00:00, 82.41it/s]\u001b[A\n",
      "Validation DataLoader 0:  33%|███████████████████▋                                       | 3/9 [00:00<00:00, 92.99it/s]\u001b[A\n",
      "Validation DataLoader 0:  44%|██████████████████████████▏                                | 4/9 [00:00<00:00, 82.90it/s]\u001b[A\n",
      "Validation DataLoader 0:  56%|████████████████████████████████▊                          | 5/9 [00:00<00:00, 88.89it/s]\u001b[A\n",
      "Validation DataLoader 0:  67%|███████████████████████████████████████▎                   | 6/9 [00:00<00:00, 89.48it/s]\u001b[A\n",
      "Validation DataLoader 0:  78%|█████████████████████████████████████████████▉             | 7/9 [00:00<00:00, 83.70it/s]\u001b[A\n",
      "Validation DataLoader 0:  89%|████████████████████████████████████████████████████▍      | 8/9 [00:00<00:00, 87.31it/s]\u001b[A\n",
      "Validation DataLoader 0: 100%|███████████████████████████████████████████████████████████| 9/9 [00:00<00:00, 89.53it/s]\u001b[A\n",
      "Epoch 175: 100%|█████████████████████████████| 25/25 [00:00<00:00, 61.18it/s, v_num=17, train_acc=0.787, val_acc=0.959]\u001b[A\n",
      "Validation: |                                                                                    | 0/? [00:00<?, ?it/s]\u001b[A\n",
      "Validation:   0%|                                                                                | 0/9 [00:00<?, ?it/s]\u001b[A\n",
      "Validation DataLoader 0:   0%|                                                                   | 0/9 [00:00<?, ?it/s]\u001b[A\n",
      "Validation DataLoader 0:  11%|██████▌                                                    | 1/9 [00:00<00:00, 41.26it/s]\u001b[A\n",
      "Validation DataLoader 0:  22%|█████████████                                              | 2/9 [00:00<00:00, 47.62it/s]\u001b[A\n",
      "Validation DataLoader 0:  33%|███████████████████▋                                       | 3/9 [00:00<00:00, 59.17it/s]\u001b[A\n",
      "Validation DataLoader 0:  44%|██████████████████████████▏                                | 4/9 [00:00<00:00, 53.00it/s]\u001b[A\n",
      "Validation DataLoader 0:  56%|████████████████████████████████▊                          | 5/9 [00:00<00:00, 55.00it/s]\u001b[A\n",
      "Validation DataLoader 0:  67%|███████████████████████████████████████▎                   | 6/9 [00:00<00:00, 55.76it/s]\u001b[A\n",
      "Validation DataLoader 0:  78%|█████████████████████████████████████████████▉             | 7/9 [00:00<00:00, 57.61it/s]\u001b[A\n",
      "Validation DataLoader 0:  89%|████████████████████████████████████████████████████▍      | 8/9 [00:00<00:00, 56.69it/s]\u001b[A\n",
      "Validation DataLoader 0: 100%|███████████████████████████████████████████████████████████| 9/9 [00:00<00:00, 60.36it/s]\u001b[A\n",
      "Epoch 176: 100%|█████████████████████████████| 25/25 [00:00<00:00, 69.85it/s, v_num=17, train_acc=0.787, val_acc=0.956]\u001b[A\n",
      "Validation: |                                                                                    | 0/? [00:00<?, ?it/s]\u001b[A\n",
      "Validation:   0%|                                                                                | 0/9 [00:00<?, ?it/s]\u001b[A\n",
      "Validation DataLoader 0:   0%|                                                                   | 0/9 [00:00<?, ?it/s]\u001b[A\n",
      "Validation DataLoader 0:  11%|██████▌                                                    | 1/9 [00:00<00:00, 60.33it/s]\u001b[A\n",
      "Validation DataLoader 0:  22%|█████████████                                              | 2/9 [00:00<00:00, 59.57it/s]\u001b[A\n",
      "Validation DataLoader 0:  33%|███████████████████▋                                       | 3/9 [00:00<00:00, 89.36it/s]\u001b[A\n",
      "Validation DataLoader 0:  44%|██████████████████████████▏                                | 4/9 [00:00<00:00, 68.73it/s]\u001b[A\n",
      "Validation DataLoader 0:  56%|████████████████████████████████▊                          | 5/9 [00:00<00:00, 75.54it/s]\u001b[A\n",
      "Validation DataLoader 0:  67%|███████████████████████████████████████▎                   | 6/9 [00:00<00:00, 80.87it/s]\u001b[A\n",
      "Validation DataLoader 0:  78%|█████████████████████████████████████████████▉             | 7/9 [00:00<00:00, 76.47it/s]\u001b[A\n",
      "Validation DataLoader 0:  89%|████████████████████████████████████████████████████▍      | 8/9 [00:00<00:00, 80.37it/s]\u001b[A\n",
      "Validation DataLoader 0: 100%|███████████████████████████████████████████████████████████| 9/9 [00:00<00:00, 83.70it/s]\u001b[A\n",
      "Epoch 177: 100%|█████████████████████████████| 25/25 [00:00<00:00, 71.31it/s, v_num=17, train_acc=0.858, val_acc=0.961]\u001b[A\n",
      "Validation: |                                                                                    | 0/? [00:00<?, ?it/s]\u001b[A\n",
      "Validation:   0%|                                                                                | 0/9 [00:00<?, ?it/s]\u001b[A\n",
      "Validation DataLoader 0:   0%|                                                                   | 0/9 [00:00<?, ?it/s]\u001b[A\n",
      "Validation DataLoader 0:  11%|██████▌                                                    | 1/9 [00:00<00:00, 57.63it/s]\u001b[A\n",
      "Validation DataLoader 0:  22%|█████████████                                              | 2/9 [00:00<00:00, 58.74it/s]\u001b[A\n",
      "Validation DataLoader 0:  33%|███████████████████▋                                       | 3/9 [00:00<00:00, 70.30it/s]\u001b[A\n",
      "Validation DataLoader 0:  44%|██████████████████████████▏                                | 4/9 [00:00<00:00, 67.14it/s]\u001b[A\n",
      "Validation DataLoader 0:  56%|████████████████████████████████▊                          | 5/9 [00:00<00:00, 66.32it/s]\u001b[A\n",
      "Validation DataLoader 0:  67%|███████████████████████████████████████▎                   | 6/9 [00:00<00:00, 71.95it/s]\u001b[A\n",
      "Validation DataLoader 0:  78%|█████████████████████████████████████████████▉             | 7/9 [00:00<00:00, 70.44it/s]\u001b[A\n",
      "Validation DataLoader 0:  89%|████████████████████████████████████████████████████▍      | 8/9 [00:00<00:00, 73.14it/s]\u001b[A\n",
      "Validation DataLoader 0: 100%|███████████████████████████████████████████████████████████| 9/9 [00:00<00:00, 76.68it/s]\u001b[A\n",
      "Epoch 178: 100%|█████████████████████████████| 25/25 [00:00<00:00, 68.16it/s, v_num=17, train_acc=0.858, val_acc=0.961]\u001b[A\n",
      "Validation: |                                                                                    | 0/? [00:00<?, ?it/s]\u001b[A\n",
      "Validation:   0%|                                                                                | 0/9 [00:00<?, ?it/s]\u001b[A\n",
      "Validation DataLoader 0:   0%|                                                                   | 0/9 [00:00<?, ?it/s]\u001b[A\n",
      "Validation DataLoader 0:  11%|██████▌                                                    | 1/9 [00:00<00:00, 62.55it/s]\u001b[A\n",
      "Validation DataLoader 0:  22%|█████████████                                              | 2/9 [00:00<00:00, 60.11it/s]\u001b[A\n",
      "Validation DataLoader 0:  33%|███████████████████▋                                       | 3/9 [00:00<00:00, 71.54it/s]\u001b[A\n",
      "Validation DataLoader 0:  44%|██████████████████████████▏                                | 4/9 [00:00<00:00, 80.11it/s]\u001b[A\n",
      "Validation DataLoader 0:  56%|████████████████████████████████▊                          | 5/9 [00:00<00:00, 75.03it/s]\u001b[A\n",
      "Validation DataLoader 0:  67%|███████████████████████████████████████▎                   | 6/9 [00:00<00:00, 79.42it/s]\u001b[A\n",
      "Validation DataLoader 0:  78%|█████████████████████████████████████████████▉             | 7/9 [00:00<00:00, 75.98it/s]\u001b[A\n",
      "Validation DataLoader 0:  89%|████████████████████████████████████████████████████▍      | 8/9 [00:00<00:00, 79.90it/s]\u001b[A\n",
      "Validation DataLoader 0: 100%|███████████████████████████████████████████████████████████| 9/9 [00:00<00:00, 77.51it/s]\u001b[A\n",
      "Epoch 179: 100%|█████████████████████████████| 25/25 [00:00<00:00, 66.63it/s, v_num=17, train_acc=0.811, val_acc=0.964]\u001b[A\n",
      "Validation: |                                                                                    | 0/? [00:00<?, ?it/s]\u001b[A\n",
      "Validation:   0%|                                                                                | 0/9 [00:00<?, ?it/s]\u001b[A\n",
      "Validation DataLoader 0:   0%|                                                                   | 0/9 [00:00<?, ?it/s]\u001b[A\n",
      "Validation DataLoader 0:  11%|██████▌                                                    | 1/9 [00:00<00:00, 41.70it/s]\u001b[A\n",
      "Validation DataLoader 0:  22%|█████████████                                              | 2/9 [00:00<00:00, 60.01it/s]\u001b[A\n",
      "Validation DataLoader 0:  33%|███████████████████▋                                       | 3/9 [00:00<00:00, 58.11it/s]\u001b[A\n",
      "Validation DataLoader 0:  44%|██████████████████████████▏                                | 4/9 [00:00<00:00, 68.09it/s]\u001b[A\n",
      "Validation DataLoader 0:  56%|████████████████████████████████▊                          | 5/9 [00:00<00:00, 66.41it/s]\u001b[A\n",
      "Validation DataLoader 0:  67%|███████████████████████████████████████▎                   | 6/9 [00:00<00:00, 65.73it/s]\u001b[A\n",
      "Validation DataLoader 0:  78%|█████████████████████████████████████████████▉             | 7/9 [00:00<00:00, 75.48it/s]\u001b[A\n",
      "Validation DataLoader 0:  89%|████████████████████████████████████████████████████▍      | 8/9 [00:00<00:00, 68.96it/s]\u001b[A\n",
      "Validation DataLoader 0: 100%|███████████████████████████████████████████████████████████| 9/9 [00:00<00:00, 72.58it/s]\u001b[A\n",
      "Epoch 180: 100%|█████████████████████████████| 25/25 [00:00<00:00, 65.30it/s, v_num=17, train_acc=0.850, val_acc=0.960]\u001b[A\n",
      "Validation: |                                                                                    | 0/? [00:00<?, ?it/s]\u001b[A\n",
      "Validation:   0%|                                                                                | 0/9 [00:00<?, ?it/s]\u001b[A\n",
      "Validation DataLoader 0:   0%|                                                                   | 0/9 [00:00<?, ?it/s]\u001b[A\n",
      "Validation DataLoader 0:  11%|██████▌                                                    | 1/9 [00:00<00:00, 59.85it/s]\u001b[A\n",
      "Validation DataLoader 0:  22%|█████████████                                              | 2/9 [00:00<00:00, 59.98it/s]\u001b[A\n",
      "Validation DataLoader 0:  33%|███████████████████▋                                       | 3/9 [00:00<00:00, 72.57it/s]\u001b[A\n",
      "Validation DataLoader 0:  44%|██████████████████████████▏                                | 4/9 [00:00<00:00, 79.92it/s]\u001b[A\n",
      "Validation DataLoader 0:  56%|████████████████████████████████▊                          | 5/9 [00:00<00:00, 75.01it/s]\u001b[A\n",
      "Validation DataLoader 0:  67%|███████████████████████████████████████▎                   | 6/9 [00:00<00:00, 80.37it/s]\u001b[A\n",
      "Validation DataLoader 0:  78%|█████████████████████████████████████████████▉             | 7/9 [00:00<00:00, 83.69it/s]\u001b[A\n",
      "Validation DataLoader 0:  89%|████████████████████████████████████████████████████▍      | 8/9 [00:00<00:00, 80.44it/s]\u001b[A\n",
      "Validation DataLoader 0: 100%|███████████████████████████████████████████████████████████| 9/9 [00:00<00:00, 83.76it/s]\u001b[A\n",
      "Epoch 181: 100%|█████████████████████████████| 25/25 [00:00<00:00, 69.83it/s, v_num=17, train_acc=0.858, val_acc=0.957]\u001b[A\n",
      "Validation: |                                                                                    | 0/? [00:00<?, ?it/s]\u001b[A\n",
      "Validation:   0%|                                                                                | 0/9 [00:00<?, ?it/s]\u001b[A\n",
      "Validation DataLoader 0:   0%|                                                                   | 0/9 [00:00<?, ?it/s]\u001b[A\n",
      "Validation DataLoader 0:  11%|██████▌                                                    | 1/9 [00:00<00:00, 62.54it/s]\u001b[A\n",
      "Validation DataLoader 0:  22%|█████████████                                              | 2/9 [00:00<00:00, 62.52it/s]\u001b[A\n",
      "Validation DataLoader 0:  33%|███████████████████▋                                       | 3/9 [00:00<00:00, 66.98it/s]\u001b[A\n",
      "Validation DataLoader 0:  44%|██████████████████████████▏                                | 4/9 [00:00<00:00, 68.73it/s]\u001b[A\n",
      "Validation DataLoader 0:  56%|████████████████████████████████▊                          | 5/9 [00:00<00:00, 72.48it/s]\u001b[A\n",
      "Validation DataLoader 0:  67%|███████████████████████████████████████▎                   | 6/9 [00:00<00:00, 74.46it/s]\u001b[A\n",
      "Validation DataLoader 0:  78%|█████████████████████████████████████████████▉             | 7/9 [00:00<00:00, 76.08it/s]\u001b[A\n",
      "Validation DataLoader 0:  89%|████████████████████████████████████████████████████▍      | 8/9 [00:00<00:00, 75.03it/s]\u001b[A\n",
      "Validation DataLoader 0: 100%|███████████████████████████████████████████████████████████| 9/9 [00:00<00:00, 78.52it/s]\u001b[A\n",
      "Epoch 182: 100%|█████████████████████████████| 25/25 [00:00<00:00, 67.22it/s, v_num=17, train_acc=0.811, val_acc=0.958]\u001b[A\n",
      "Validation: |                                                                                    | 0/? [00:00<?, ?it/s]\u001b[A\n",
      "Validation:   0%|                                                                                | 0/9 [00:00<?, ?it/s]\u001b[A\n",
      "Validation DataLoader 0:   0%|                                                                   | 0/9 [00:00<?, ?it/s]\u001b[A\n",
      "Validation DataLoader 0:  11%|██████▍                                                   | 1/9 [00:00<00:00, 115.29it/s]\u001b[A\n",
      "Validation DataLoader 0:  22%|█████████████                                              | 2/9 [00:00<00:00, 79.12it/s]\u001b[A\n",
      "Validation DataLoader 0:  33%|███████████████████▋                                       | 3/9 [00:00<00:00, 90.16it/s]\u001b[A\n",
      "Validation DataLoader 0:  44%|██████████████████████████▏                                | 4/9 [00:00<00:00, 79.82it/s]\u001b[A\n",
      "Validation DataLoader 0:  56%|████████████████████████████████▊                          | 5/9 [00:00<00:00, 85.26it/s]\u001b[A\n",
      "Validation DataLoader 0:  67%|███████████████████████████████████████▎                   | 6/9 [00:00<00:00, 79.69it/s]\u001b[A\n",
      "Validation DataLoader 0:  78%|█████████████████████████████████████████████▉             | 7/9 [00:00<00:00, 84.00it/s]\u001b[A\n",
      "Validation DataLoader 0:  89%|████████████████████████████████████████████████████▍      | 8/9 [00:00<00:00, 80.54it/s]\u001b[A\n",
      "Validation DataLoader 0: 100%|███████████████████████████████████████████████████████████| 9/9 [00:00<00:00, 83.86it/s]\u001b[A\n",
      "Epoch 183: 100%|█████████████████████████████| 25/25 [00:00<00:00, 52.50it/s, v_num=17, train_acc=0.764, val_acc=0.959]\u001b[A\n",
      "Validation: |                                                                                    | 0/? [00:00<?, ?it/s]\u001b[A\n",
      "Validation:   0%|                                                                                | 0/9 [00:00<?, ?it/s]\u001b[A\n",
      "Validation DataLoader 0:   0%|                                                                   | 0/9 [00:00<?, ?it/s]\u001b[A\n",
      "Validation DataLoader 0:  11%|██████▌                                                    | 1/9 [00:00<00:00, 55.58it/s]\u001b[A\n",
      "Validation DataLoader 0:  22%|█████████████                                              | 2/9 [00:00<00:00, 76.97it/s]\u001b[A\n",
      "Validation DataLoader 0:  33%|███████████████████▋                                       | 3/9 [00:00<00:00, 71.47it/s]\u001b[A\n",
      "Validation DataLoader 0:  44%|██████████████████████████▏                                | 4/9 [00:00<00:00, 76.92it/s]\u001b[A\n",
      "Validation DataLoader 0:  56%|████████████████████████████████▊                          | 5/9 [00:00<00:00, 83.33it/s]\u001b[A\n",
      "Validation DataLoader 0:  67%|███████████████████████████████████████▎                   | 6/9 [00:00<00:00, 78.26it/s]\u001b[A\n",
      "Validation DataLoader 0:  78%|█████████████████████████████████████████████▉             | 7/9 [00:00<00:00, 82.01it/s]\u001b[A\n",
      "Validation DataLoader 0:  89%|████████████████████████████████████████████████████▍      | 8/9 [00:00<00:00, 85.70it/s]\u001b[A\n",
      "Validation DataLoader 0: 100%|███████████████████████████████████████████████████████████| 9/9 [00:00<00:00, 81.76it/s]\u001b[A\n",
      "Epoch 184: 100%|█████████████████████████████| 25/25 [00:00<00:00, 71.71it/s, v_num=17, train_acc=0.811, val_acc=0.967]\u001b[A\n",
      "Validation: |                                                                                    | 0/? [00:00<?, ?it/s]\u001b[A\n",
      "Validation:   0%|                                                                                | 0/9 [00:00<?, ?it/s]\u001b[A\n",
      "Validation DataLoader 0:   0%|                                                                   | 0/9 [00:00<?, ?it/s]\u001b[A\n",
      "Validation DataLoader 0:  11%|██████▌                                                    | 1/9 [00:00<00:00, 60.21it/s]\u001b[A\n",
      "Validation DataLoader 0:  22%|█████████████                                              | 2/9 [00:00<00:00, 78.13it/s]\u001b[A\n",
      "Validation DataLoader 0:  33%|███████████████████▋                                       | 3/9 [00:00<00:00, 71.58it/s]\u001b[A\n",
      "Validation DataLoader 0:  44%|██████████████████████████▏                                | 4/9 [00:00<00:00, 80.14it/s]\u001b[A\n",
      "Validation DataLoader 0:  56%|████████████████████████████████▊                          | 5/9 [00:00<00:00, 65.54it/s]\u001b[A\n",
      "Validation DataLoader 0:  67%|███████████████████████████████████████▎                   | 6/9 [00:00<00:00, 64.84it/s]\u001b[A\n",
      "Validation DataLoader 0:  78%|█████████████████████████████████████████████▉             | 7/9 [00:00<00:00, 69.62it/s]\u001b[A\n",
      "Validation DataLoader 0:  89%|████████████████████████████████████████████████████▍      | 8/9 [00:00<00:00, 68.53it/s]\u001b[A\n",
      "Validation DataLoader 0: 100%|███████████████████████████████████████████████████████████| 9/9 [00:00<00:00, 63.96it/s]\u001b[A\n",
      "Epoch 184: 100%|█████████████████████████████| 25/25 [00:00<00:00, 47.89it/s, v_num=17, train_acc=0.811, val_acc=0.956]\u001b[A"
     ]
    },
    {
     "name": "stderr",
     "output_type": "stream",
     "text": [
      "Metric val_loss improved by 0.000 >= min_delta = 0.0. New best score: 0.202\n"
     ]
    },
    {
     "name": "stdout",
     "output_type": "stream",
     "text": [
      "Epoch 185: 100%|█████████████████████████████| 25/25 [00:00<00:00, 54.68it/s, v_num=17, train_acc=0.787, val_acc=0.956]\n",
      "Validation: |                                                                                    | 0/? [00:00<?, ?it/s]\u001b[A\n",
      "Validation:   0%|                                                                                | 0/9 [00:00<?, ?it/s]\u001b[A\n",
      "Validation DataLoader 0:   0%|                                                                   | 0/9 [00:00<?, ?it/s]\u001b[A\n",
      "Validation DataLoader 0:  11%|██████▌                                                    | 1/9 [00:00<00:00, 59.57it/s]\u001b[A\n",
      "Validation DataLoader 0:  22%|█████████████                                              | 2/9 [00:00<00:00, 60.56it/s]\u001b[A\n",
      "Validation DataLoader 0:  33%|███████████████████▋                                       | 3/9 [00:00<00:00, 61.20it/s]\u001b[A\n",
      "Validation DataLoader 0:  44%|██████████████████████████▏                                | 4/9 [00:00<00:00, 68.93it/s]\u001b[A\n",
      "Validation DataLoader 0:  56%|████████████████████████████████▊                          | 5/9 [00:00<00:00, 74.93it/s]\u001b[A\n",
      "Validation DataLoader 0:  67%|███████████████████████████████████████▎                   | 6/9 [00:00<00:00, 80.29it/s]\u001b[A\n",
      "Validation DataLoader 0:  78%|█████████████████████████████████████████████▉             | 7/9 [00:00<00:00, 76.58it/s]\u001b[A\n",
      "Validation DataLoader 0:  89%|████████████████████████████████████████████████████▍      | 8/9 [00:00<00:00, 80.48it/s]\u001b[A\n",
      "Validation DataLoader 0: 100%|███████████████████████████████████████████████████████████| 9/9 [00:00<00:00, 77.14it/s]\u001b[A\n",
      "Epoch 186: 100%|█████████████████████████████| 25/25 [00:00<00:00, 68.25it/s, v_num=17, train_acc=0.858, val_acc=0.962]\u001b[A\n",
      "Validation: |                                                                                    | 0/? [00:00<?, ?it/s]\u001b[A\n",
      "Validation:   0%|                                                                                | 0/9 [00:00<?, ?it/s]\u001b[A\n",
      "Validation DataLoader 0:   0%|                                                                   | 0/9 [00:00<?, ?it/s]\u001b[A\n",
      "Validation DataLoader 0:  11%|██████▌                                                    | 1/9 [00:00<00:00, 60.03it/s]\u001b[A\n",
      "Validation DataLoader 0:  22%|█████████████                                              | 2/9 [00:00<00:00, 78.86it/s]\u001b[A\n",
      "Validation DataLoader 0:  33%|███████████████████▋                                       | 3/9 [00:00<00:00, 71.31it/s]\u001b[A\n",
      "Validation DataLoader 0:  44%|██████████████████████████▏                                | 4/9 [00:00<00:00, 79.90it/s]\u001b[A\n",
      "Validation DataLoader 0:  56%|████████████████████████████████▊                          | 5/9 [00:00<00:00, 75.70it/s]\u001b[A\n",
      "Validation DataLoader 0:  67%|███████████████████████████████████████▎                   | 6/9 [00:00<00:00, 81.03it/s]\u001b[A\n",
      "Validation DataLoader 0:  78%|█████████████████████████████████████████████▉             | 7/9 [00:00<00:00, 76.10it/s]\u001b[A\n",
      "Validation DataLoader 0:  89%|████████████████████████████████████████████████████▍      | 8/9 [00:00<00:00, 73.56it/s]\u001b[A\n",
      "Validation DataLoader 0: 100%|███████████████████████████████████████████████████████████| 9/9 [00:00<00:00, 77.09it/s]\u001b[A\n",
      "Epoch 186: 100%|█████████████████████████████| 25/25 [00:00<00:00, 49.19it/s, v_num=17, train_acc=0.858, val_acc=0.966]\u001b[A"
     ]
    },
    {
     "name": "stderr",
     "output_type": "stream",
     "text": [
      "Metric val_loss improved by 0.000 >= min_delta = 0.0. New best score: 0.202\n"
     ]
    },
    {
     "name": "stdout",
     "output_type": "stream",
     "text": [
      "Epoch 187: 100%|█████████████████████████████| 25/25 [00:00<00:00, 67.97it/s, v_num=17, train_acc=0.827, val_acc=0.966]\n",
      "Validation: |                                                                                    | 0/? [00:00<?, ?it/s]\u001b[A\n",
      "Validation:   0%|                                                                                | 0/9 [00:00<?, ?it/s]\u001b[A\n",
      "Validation DataLoader 0:   0%|                                                                   | 0/9 [00:00<?, ?it/s]\u001b[A\n",
      "Validation DataLoader 0:  11%|██████▌                                                    | 1/9 [00:00<00:00, 41.29it/s]\u001b[A\n",
      "Validation DataLoader 0:  22%|█████████████                                              | 2/9 [00:00<00:00, 45.57it/s]\u001b[A\n",
      "Validation DataLoader 0:  33%|███████████████████▋                                       | 3/9 [00:00<00:00, 45.26it/s]\u001b[A\n",
      "Validation DataLoader 0:  44%|██████████████████████████▏                                | 4/9 [00:00<00:00, 48.21it/s]\u001b[A\n",
      "Validation DataLoader 0:  56%|████████████████████████████████▊                          | 5/9 [00:00<00:00, 54.71it/s]\u001b[A\n",
      "Validation DataLoader 0:  67%|███████████████████████████████████████▎                   | 6/9 [00:00<00:00, 55.35it/s]\u001b[A\n",
      "Validation DataLoader 0:  78%|█████████████████████████████████████████████▉             | 7/9 [00:00<00:00, 53.52it/s]\u001b[A\n",
      "Validation DataLoader 0:  89%|████████████████████████████████████████████████████▍      | 8/9 [00:00<00:00, 56.43it/s]\u001b[A\n",
      "Validation DataLoader 0: 100%|███████████████████████████████████████████████████████████| 9/9 [00:00<00:00, 39.99it/s]\u001b[A\n",
      "Epoch 188: 100%|█████████████████████████████| 25/25 [00:00<00:00, 60.04it/s, v_num=17, train_acc=0.756, val_acc=0.957]\u001b[A\n",
      "Validation: |                                                                                    | 0/? [00:00<?, ?it/s]\u001b[A\n",
      "Validation:   0%|                                                                                | 0/9 [00:00<?, ?it/s]\u001b[A\n",
      "Validation DataLoader 0:   0%|                                                                   | 0/9 [00:00<?, ?it/s]\u001b[A\n",
      "Validation DataLoader 0:  11%|██████▌                                                    | 1/9 [00:00<00:00, 58.60it/s]\u001b[A\n",
      "Validation DataLoader 0:  22%|█████████████                                              | 2/9 [00:00<00:00, 60.71it/s]\u001b[A\n",
      "Validation DataLoader 0:  33%|███████████████████▋                                       | 3/9 [00:00<00:00, 73.29it/s]\u001b[A\n",
      "Validation DataLoader 0:  44%|██████████████████████████▏                                | 4/9 [00:00<00:00, 67.93it/s]\u001b[A\n",
      "Validation DataLoader 0:  56%|████████████████████████████████▊                          | 5/9 [00:00<00:00, 74.76it/s]\u001b[A\n",
      "Validation DataLoader 0:  67%|███████████████████████████████████████▎                   | 6/9 [00:00<00:00, 79.34it/s]\u001b[A\n",
      "Validation DataLoader 0:  78%|█████████████████████████████████████████████▉             | 7/9 [00:00<00:00, 75.87it/s]\u001b[A\n",
      "Validation DataLoader 0:  89%|████████████████████████████████████████████████████▍      | 8/9 [00:00<00:00, 79.79it/s]\u001b[A\n",
      "Validation DataLoader 0: 100%|███████████████████████████████████████████████████████████| 9/9 [00:00<00:00, 76.95it/s]\u001b[A\n",
      "Epoch 189: 100%|█████████████████████████████| 25/25 [00:00<00:00, 69.69it/s, v_num=17, train_acc=0.811, val_acc=0.966]\u001b[A\n",
      "Validation: |                                                                                    | 0/? [00:00<?, ?it/s]\u001b[A\n",
      "Validation:   0%|                                                                                | 0/9 [00:00<?, ?it/s]\u001b[A\n",
      "Validation DataLoader 0:   0%|                                                                   | 0/9 [00:00<?, ?it/s]\u001b[A\n",
      "Validation DataLoader 0:  11%|██████▌                                                    | 1/9 [00:00<00:00, 62.53it/s]\u001b[A\n",
      "Validation DataLoader 0:  22%|█████████████                                              | 2/9 [00:00<00:00, 59.07it/s]\u001b[A\n",
      "Validation DataLoader 0:  33%|███████████████████▋                                       | 3/9 [00:00<00:00, 71.67it/s]\u001b[A\n",
      "Validation DataLoader 0:  44%|██████████████████████████▏                                | 4/9 [00:00<00:00, 79.03it/s]\u001b[A\n",
      "Validation DataLoader 0:  56%|████████████████████████████████▊                          | 5/9 [00:00<00:00, 74.33it/s]\u001b[A\n",
      "Validation DataLoader 0:  67%|███████████████████████████████████████▎                   | 6/9 [00:00<00:00, 79.71it/s]\u001b[A\n",
      "Validation DataLoader 0:  78%|█████████████████████████████████████████████▉             | 7/9 [00:00<00:00, 76.17it/s]\u001b[A\n",
      "Validation DataLoader 0:  89%|████████████████████████████████████████████████████▍      | 8/9 [00:00<00:00, 79.51it/s]\u001b[A\n",
      "Validation DataLoader 0: 100%|███████████████████████████████████████████████████████████| 9/9 [00:00<00:00, 77.13it/s]\u001b[A\n",
      "Epoch 190: 100%|█████████████████████████████| 25/25 [00:00<00:00, 66.74it/s, v_num=17, train_acc=0.787, val_acc=0.963]\u001b[A\n",
      "Validation: |                                                                                    | 0/? [00:00<?, ?it/s]\u001b[A\n",
      "Validation:   0%|                                                                                | 0/9 [00:00<?, ?it/s]\u001b[A\n",
      "Validation DataLoader 0:   0%|                                                                   | 0/9 [00:00<?, ?it/s]\u001b[A\n",
      "Validation DataLoader 0:  11%|██████▌                                                    | 1/9 [00:00<00:00, 55.33it/s]\u001b[A\n",
      "Validation DataLoader 0:  22%|█████████████                                              | 2/9 [00:00<00:00, 66.72it/s]\u001b[A\n",
      "Validation DataLoader 0:  33%|███████████████████▋                                       | 3/9 [00:00<00:00, 70.03it/s]\u001b[A\n",
      "Validation DataLoader 0:  44%|██████████████████████████▏                                | 4/9 [00:00<00:00, 67.96it/s]\u001b[A\n",
      "Validation DataLoader 0:  56%|████████████████████████████████▊                          | 5/9 [00:00<00:00, 75.53it/s]\u001b[A\n",
      "Validation DataLoader 0:  67%|███████████████████████████████████████▎                   | 6/9 [00:00<00:00, 69.88it/s]\u001b[A\n",
      "Validation DataLoader 0:  78%|█████████████████████████████████████████████▉             | 7/9 [00:00<00:00, 76.35it/s]\u001b[A\n",
      "Validation DataLoader 0:  89%|████████████████████████████████████████████████████▍      | 8/9 [00:00<00:00, 73.58it/s]\u001b[A\n",
      "Validation DataLoader 0: 100%|███████████████████████████████████████████████████████████| 9/9 [00:00<00:00, 74.59it/s]\u001b[A\n",
      "Epoch 191: 100%|█████████████████████████████| 25/25 [00:00<00:00, 68.69it/s, v_num=17, train_acc=0.803, val_acc=0.962]\u001b[A\n",
      "Validation: |                                                                                    | 0/? [00:00<?, ?it/s]\u001b[A\n",
      "Validation:   0%|                                                                                | 0/9 [00:00<?, ?it/s]\u001b[A\n",
      "Validation DataLoader 0:   0%|                                                                   | 0/9 [00:00<?, ?it/s]\u001b[A\n",
      "Validation DataLoader 0:  11%|██████▌                                                    | 1/9 [00:00<00:00, 62.54it/s]\u001b[A\n",
      "Validation DataLoader 0:  22%|█████████████                                              | 2/9 [00:00<00:00, 62.54it/s]\u001b[A\n",
      "Validation DataLoader 0:  33%|███████████████████▋                                       | 3/9 [00:00<00:00, 75.05it/s]\u001b[A\n",
      "Validation DataLoader 0:  44%|██████████████████████████▏                                | 4/9 [00:00<00:00, 78.12it/s]\u001b[A\n",
      "Validation DataLoader 0:  56%|████████████████████████████████▊                          | 5/9 [00:00<00:00, 73.60it/s]\u001b[A\n",
      "Validation DataLoader 0:  67%|███████████████████████████████████████▎                   | 6/9 [00:00<00:00, 79.02it/s]\u001b[A\n",
      "Validation DataLoader 0:  78%|█████████████████████████████████████████████▉             | 7/9 [00:00<00:00, 75.92it/s]\u001b[A\n",
      "Validation DataLoader 0:  89%|████████████████████████████████████████████████████▍      | 8/9 [00:00<00:00, 79.84it/s]\u001b[A\n",
      "Validation DataLoader 0: 100%|███████████████████████████████████████████████████████████| 9/9 [00:00<00:00, 77.21it/s]\u001b[A\n",
      "Epoch 191: 100%|█████████████████████████████| 25/25 [00:00<00:00, 48.78it/s, v_num=17, train_acc=0.803, val_acc=0.963]\u001b[A"
     ]
    },
    {
     "name": "stderr",
     "output_type": "stream",
     "text": [
      "Metric val_loss improved by 0.002 >= min_delta = 0.0. New best score: 0.200\n"
     ]
    },
    {
     "name": "stdout",
     "output_type": "stream",
     "text": [
      "Epoch 192: 100%|█████████████████████████████| 25/25 [00:00<00:00, 49.93it/s, v_num=17, train_acc=0.811, val_acc=0.963]\n",
      "Validation: |                                                                                    | 0/? [00:00<?, ?it/s]\u001b[A\n",
      "Validation:   0%|                                                                                | 0/9 [00:00<?, ?it/s]\u001b[A\n",
      "Validation DataLoader 0:   0%|                                                                   | 0/9 [00:00<?, ?it/s]\u001b[A\n",
      "Validation DataLoader 0:  11%|██████▌                                                    | 1/9 [00:00<00:00, 41.70it/s]\u001b[A\n",
      "Validation DataLoader 0:  22%|█████████████                                              | 2/9 [00:00<00:00, 49.18it/s]\u001b[A\n",
      "Validation DataLoader 0:  33%|███████████████████▋                                       | 3/9 [00:00<00:00, 51.34it/s]\u001b[A\n",
      "Validation DataLoader 0:  44%|██████████████████████████▏                                | 4/9 [00:00<00:00, 54.05it/s]\u001b[A\n",
      "Validation DataLoader 0:  56%|████████████████████████████████▊                          | 5/9 [00:00<00:00, 60.69it/s]\u001b[A\n",
      "Validation DataLoader 0:  67%|███████████████████████████████████████▎                   | 6/9 [00:00<00:00, 60.59it/s]\u001b[A\n",
      "Validation DataLoader 0:  78%|█████████████████████████████████████████████▉             | 7/9 [00:00<00:00, 65.17it/s]\u001b[A\n",
      "Validation DataLoader 0:  89%|████████████████████████████████████████████████████▍      | 8/9 [00:00<00:00, 64.05it/s]\u001b[A\n",
      "Validation DataLoader 0: 100%|███████████████████████████████████████████████████████████| 9/9 [00:00<00:00, 67.69it/s]\u001b[A\n",
      "Epoch 192: 100%|█████████████████████████████| 25/25 [00:00<00:00, 37.11it/s, v_num=17, train_acc=0.811, val_acc=0.967]\u001b[A"
     ]
    },
    {
     "name": "stderr",
     "output_type": "stream",
     "text": [
      "Metric val_loss improved by 0.001 >= min_delta = 0.0. New best score: 0.199\n"
     ]
    },
    {
     "name": "stdout",
     "output_type": "stream",
     "text": [
      "Epoch 193: 100%|█████████████████████████████| 25/25 [00:00<00:00, 65.15it/s, v_num=17, train_acc=0.835, val_acc=0.967]\n",
      "Validation: |                                                                                    | 0/? [00:00<?, ?it/s]\u001b[A\n",
      "Validation:   0%|                                                                                | 0/9 [00:00<?, ?it/s]\u001b[A\n",
      "Validation DataLoader 0:   0%|                                                                   | 0/9 [00:00<?, ?it/s]\u001b[A\n",
      "Validation DataLoader 0:  11%|██████▌                                                    | 1/9 [00:00<00:00, 38.68it/s]\u001b[A\n",
      "Validation DataLoader 0:  22%|█████████████                                              | 2/9 [00:00<00:00, 45.75it/s]\u001b[A\n",
      "Validation DataLoader 0:  33%|███████████████████▋                                       | 3/9 [00:00<00:00, 50.54it/s]\u001b[A\n",
      "Validation DataLoader 0:  44%|██████████████████████████▏                                | 4/9 [00:00<00:00, 51.60it/s]\u001b[A\n",
      "Validation DataLoader 0:  56%|████████████████████████████████▊                          | 5/9 [00:00<00:00, 47.80it/s]\u001b[A\n",
      "Validation DataLoader 0:  67%|███████████████████████████████████████▎                   | 6/9 [00:00<00:00, 47.10it/s]\u001b[A\n",
      "Validation DataLoader 0:  78%|█████████████████████████████████████████████▉             | 7/9 [00:00<00:00, 48.28it/s]\u001b[A\n",
      "Validation DataLoader 0:  89%|████████████████████████████████████████████████████▍      | 8/9 [00:00<00:00, 49.43it/s]\u001b[A\n",
      "Validation DataLoader 0: 100%|███████████████████████████████████████████████████████████| 9/9 [00:00<00:00, 52.99it/s]\u001b[A\n",
      "Epoch 194: 100%|█████████████████████████████| 25/25 [00:00<00:00, 61.43it/s, v_num=17, train_acc=0.827, val_acc=0.955]\u001b[A\n",
      "Validation: |                                                                                    | 0/? [00:00<?, ?it/s]\u001b[A\n",
      "Validation:   0%|                                                                                | 0/9 [00:00<?, ?it/s]\u001b[A\n",
      "Validation DataLoader 0:   0%|                                                                   | 0/9 [00:00<?, ?it/s]\u001b[A\n",
      "Validation DataLoader 0:  11%|██████▌                                                    | 1/9 [00:00<00:00, 52.44it/s]\u001b[A\n",
      "Validation DataLoader 0:  22%|█████████████                                              | 2/9 [00:00<00:00, 74.81it/s]\u001b[A\n",
      "Validation DataLoader 0:  33%|███████████████████▋                                       | 3/9 [00:00<00:00, 69.56it/s]\u001b[A\n",
      "Validation DataLoader 0:  44%|██████████████████████████▏                                | 4/9 [00:00<00:00, 73.72it/s]\u001b[A\n",
      "Validation DataLoader 0:  56%|████████████████████████████████▊                          | 5/9 [00:00<00:00, 73.79it/s]\u001b[A\n",
      "Validation DataLoader 0:  67%|███████████████████████████████████████▎                   | 6/9 [00:00<00:00, 78.47it/s]\u001b[A\n",
      "Validation DataLoader 0:  78%|█████████████████████████████████████████████▉             | 7/9 [00:00<00:00, 75.18it/s]\u001b[A\n",
      "Validation DataLoader 0:  89%|████████████████████████████████████████████████████▍      | 8/9 [00:00<00:00, 79.12it/s]\u001b[A\n",
      "Validation DataLoader 0: 100%|███████████████████████████████████████████████████████████| 9/9 [00:00<00:00, 82.49it/s]\u001b[A\n",
      "Epoch 195: 100%|█████████████████████████████| 25/25 [00:00<00:00, 67.74it/s, v_num=17, train_acc=0.811, val_acc=0.963]\u001b[A\n",
      "Validation: |                                                                                    | 0/? [00:00<?, ?it/s]\u001b[A\n",
      "Validation:   0%|                                                                                | 0/9 [00:00<?, ?it/s]\u001b[A\n",
      "Validation DataLoader 0:   0%|                                                                   | 0/9 [00:00<?, ?it/s]\u001b[A\n",
      "Validation DataLoader 0:  11%|██████▌                                                    | 1/9 [00:00<00:00, 10.00it/s]\u001b[A\n",
      "Validation DataLoader 0:  22%|█████████████                                              | 2/9 [00:00<00:00, 15.38it/s]\u001b[A\n",
      "Validation DataLoader 0:  33%|███████████████████▋                                       | 3/9 [00:00<00:00, 21.74it/s]\u001b[A\n",
      "Validation DataLoader 0:  44%|██████████████████████████▏                                | 4/9 [00:00<00:00, 25.45it/s]\u001b[A\n",
      "Validation DataLoader 0:  56%|████████████████████████████████▊                          | 5/9 [00:00<00:00, 28.56it/s]\u001b[A\n",
      "Validation DataLoader 0:  67%|███████████████████████████████████████▎                   | 6/9 [00:00<00:00, 31.22it/s]\u001b[A\n",
      "Validation DataLoader 0:  78%|█████████████████████████████████████████████▉             | 7/9 [00:00<00:00, 33.65it/s]\u001b[A\n",
      "Validation DataLoader 0:  89%|████████████████████████████████████████████████████▍      | 8/9 [00:00<00:00, 35.49it/s]\u001b[A\n",
      "Validation DataLoader 0: 100%|███████████████████████████████████████████████████████████| 9/9 [00:00<00:00, 37.18it/s]\u001b[A\n",
      "Epoch 196: 100%|█████████████████████████████| 25/25 [00:00<00:00, 66.80it/s, v_num=17, train_acc=0.835, val_acc=0.961]\u001b[A\n",
      "Validation: |                                                                                    | 0/? [00:00<?, ?it/s]\u001b[A\n",
      "Validation:   0%|                                                                                | 0/9 [00:00<?, ?it/s]\u001b[A\n",
      "Validation DataLoader 0:   0%|                                                                   | 0/9 [00:00<?, ?it/s]\u001b[A\n",
      "Validation DataLoader 0:  11%|██████▍                                                   | 1/9 [00:00<00:00, 121.26it/s]\u001b[A\n",
      "Validation DataLoader 0:  22%|█████████████                                              | 2/9 [00:00<00:00, 80.61it/s]\u001b[A\n",
      "Validation DataLoader 0:  33%|███████████████████▋                                       | 3/9 [00:00<00:00, 91.43it/s]\u001b[A\n",
      "Validation DataLoader 0:  44%|██████████████████████████▏                                | 4/9 [00:00<00:00, 80.83it/s]\u001b[A\n",
      "Validation DataLoader 0:  56%|████████████████████████████████▊                          | 5/9 [00:00<00:00, 86.72it/s]\u001b[A\n",
      "Validation DataLoader 0:  67%|███████████████████████████████████████▎                   | 6/9 [00:00<00:00, 80.46it/s]\u001b[A\n",
      "Validation DataLoader 0:  78%|█████████████████████████████████████████████▉             | 7/9 [00:00<00:00, 84.51it/s]\u001b[A\n",
      "Validation DataLoader 0:  89%|████████████████████████████████████████████████████▍      | 8/9 [00:00<00:00, 84.87it/s]\u001b[A\n",
      "Validation DataLoader 0: 100%|███████████████████████████████████████████████████████████| 9/9 [00:00<00:00, 82.90it/s]\u001b[A\n",
      "Epoch 197: 100%|█████████████████████████████| 25/25 [00:00<00:00, 53.60it/s, v_num=17, train_acc=0.787, val_acc=0.956]\u001b[A\n",
      "Validation: |                                                                                    | 0/? [00:00<?, ?it/s]\u001b[A\n",
      "Validation:   0%|                                                                                | 0/9 [00:00<?, ?it/s]\u001b[A\n",
      "Validation DataLoader 0:   0%|                                                                   | 0/9 [00:00<?, ?it/s]\u001b[A\n",
      "Validation DataLoader 0:  11%|██████▌                                                    | 1/9 [00:00<00:00, 62.52it/s]\u001b[A\n",
      "Validation DataLoader 0:  22%|█████████████                                              | 2/9 [00:00<00:00, 62.53it/s]\u001b[A\n",
      "Validation DataLoader 0:  33%|███████████████████▋                                       | 3/9 [00:00<00:00, 75.05it/s]\u001b[A\n",
      "Validation DataLoader 0:  44%|██████████████████████████▏                                | 4/9 [00:00<00:00, 79.84it/s]\u001b[A\n",
      "Validation DataLoader 0:  56%|████████████████████████████████▊                          | 5/9 [00:00<00:00, 74.97it/s]\u001b[A\n",
      "Validation DataLoader 0:  67%|███████████████████████████████████████▎                   | 6/9 [00:00<00:00, 80.33it/s]\u001b[A\n",
      "Validation DataLoader 0:  78%|█████████████████████████████████████████████▉             | 7/9 [00:00<00:00, 83.97it/s]\u001b[A\n",
      "Validation DataLoader 0:  89%|████████████████████████████████████████████████████▍      | 8/9 [00:00<00:00, 80.52it/s]\u001b[A\n",
      "Validation DataLoader 0: 100%|███████████████████████████████████████████████████████████| 9/9 [00:00<00:00, 83.84it/s]\u001b[A\n",
      "Epoch 198: 100%|█████████████████████████████| 25/25 [00:00<00:00, 69.82it/s, v_num=17, train_acc=0.803, val_acc=0.961]\u001b[A\n",
      "Validation: |                                                                                    | 0/? [00:00<?, ?it/s]\u001b[A\n",
      "Validation:   0%|                                                                                | 0/9 [00:00<?, ?it/s]\u001b[A\n",
      "Validation DataLoader 0:   0%|                                                                   | 0/9 [00:00<?, ?it/s]\u001b[A\n",
      "Validation DataLoader 0:  11%|██████▌                                                    | 1/9 [00:00<00:00, 59.66it/s]\u001b[A\n",
      "Validation DataLoader 0:  22%|█████████████                                              | 2/9 [00:00<00:00, 80.78it/s]\u001b[A\n",
      "Validation DataLoader 0:  33%|███████████████████▋                                       | 3/9 [00:00<00:00, 73.62it/s]\u001b[A\n",
      "Validation DataLoader 0:  44%|██████████████████████████▏                                | 4/9 [00:00<00:00, 79.81it/s]\u001b[A\n",
      "Validation DataLoader 0:  56%|████████████████████████████████▊                          | 5/9 [00:00<00:00, 74.93it/s]\u001b[A\n",
      "Validation DataLoader 0:  67%|███████████████████████████████████████▎                   | 6/9 [00:00<00:00, 80.29it/s]\u001b[A\n",
      "Validation DataLoader 0:  78%|█████████████████████████████████████████████▉             | 7/9 [00:00<00:00, 76.16it/s]\u001b[A\n",
      "Validation DataLoader 0:  89%|████████████████████████████████████████████████████▍      | 8/9 [00:00<00:00, 79.98it/s]\u001b[A\n",
      "Validation DataLoader 0: 100%|███████████████████████████████████████████████████████████| 9/9 [00:00<00:00, 77.08it/s]\u001b[A\n",
      "Epoch 199: 100%|█████████████████████████████| 25/25 [00:00<00:00, 68.05it/s, v_num=17, train_acc=0.827, val_acc=0.963]\u001b[A\n",
      "Validation: |                                                                                    | 0/? [00:00<?, ?it/s]\u001b[A\n",
      "Validation:   0%|                                                                                | 0/9 [00:00<?, ?it/s]\u001b[A\n",
      "Validation DataLoader 0:   0%|                                                                   | 0/9 [00:00<?, ?it/s]\u001b[A\n",
      "Validation DataLoader 0:  11%|██████▌                                                    | 1/9 [00:00<00:00, 60.08it/s]\u001b[A\n",
      "Validation DataLoader 0:  22%|█████████████                                              | 2/9 [00:00<00:00, 81.16it/s]\u001b[A\n",
      "Validation DataLoader 0:  33%|███████████████████▋                                       | 3/9 [00:00<00:00, 72.56it/s]\u001b[A\n",
      "Validation DataLoader 0:  44%|██████████████████████████▏                                | 4/9 [00:00<00:00, 79.90it/s]\u001b[A\n",
      "Validation DataLoader 0:  56%|████████████████████████████████▊                          | 5/9 [00:00<00:00, 74.89it/s]\u001b[A\n",
      "Validation DataLoader 0:  67%|███████████████████████████████████████▎                   | 6/9 [00:00<00:00, 80.26it/s]\u001b[A\n",
      "Validation DataLoader 0:  78%|█████████████████████████████████████████████▉             | 7/9 [00:00<00:00, 76.67it/s]\u001b[A\n",
      "Validation DataLoader 0:  89%|████████████████████████████████████████████████████▍      | 8/9 [00:00<00:00, 80.05it/s]\u001b[A\n",
      "Validation DataLoader 0: 100%|███████████████████████████████████████████████████████████| 9/9 [00:00<00:00, 83.38it/s]\u001b[A\n",
      "Epoch 200: 100%|█████████████████████████████| 25/25 [00:00<00:00, 58.84it/s, v_num=17, train_acc=0.827, val_acc=0.967]\u001b[A\n",
      "Validation: |                                                                                    | 0/? [00:00<?, ?it/s]\u001b[A\n",
      "Validation:   0%|                                                                                | 0/9 [00:00<?, ?it/s]\u001b[A\n",
      "Validation DataLoader 0:   0%|                                                                   | 0/9 [00:00<?, ?it/s]\u001b[A\n",
      "Validation DataLoader 0:  11%|██████▌                                                    | 1/9 [00:00<00:00, 41.40it/s]\u001b[A\n",
      "Validation DataLoader 0:  22%|█████████████                                              | 2/9 [00:00<00:00, 60.80it/s]\u001b[A\n",
      "Validation DataLoader 0:  33%|███████████████████▋                                       | 3/9 [00:00<00:00, 61.04it/s]\u001b[A\n",
      "Validation DataLoader 0:  44%|██████████████████████████▏                                | 4/9 [00:00<00:00, 60.74it/s]\u001b[A\n",
      "Validation DataLoader 0:  56%|████████████████████████████████▊                          | 5/9 [00:00<00:00, 67.41it/s]\u001b[A\n",
      "Validation DataLoader 0:  67%|███████████████████████████████████████▎                   | 6/9 [00:00<00:00, 65.67it/s]\u001b[A\n",
      "Validation DataLoader 0:  78%|█████████████████████████████████████████████▉             | 7/9 [00:00<00:00, 70.41it/s]\u001b[A\n",
      "Validation DataLoader 0:  89%|████████████████████████████████████████████████████▍      | 8/9 [00:00<00:00, 74.01it/s]\u001b[A\n",
      "Validation DataLoader 0: 100%|███████████████████████████████████████████████████████████| 9/9 [00:00<00:00, 77.52it/s]\u001b[A\n",
      "Epoch 201: 100%|█████████████████████████████| 25/25 [00:00<00:00, 69.69it/s, v_num=17, train_acc=0.748, val_acc=0.953]\u001b[A\n",
      "Validation: |                                                                                    | 0/? [00:00<?, ?it/s]\u001b[A\n",
      "Validation:   0%|                                                                                | 0/9 [00:00<?, ?it/s]\u001b[A\n",
      "Validation DataLoader 0:   0%|                                                                   | 0/9 [00:00<?, ?it/s]\u001b[A\n",
      "Validation DataLoader 0:  11%|██████▌                                                    | 1/9 [00:00<00:00, 58.97it/s]\u001b[A\n",
      "Validation DataLoader 0:  22%|█████████████                                              | 2/9 [00:00<00:00, 78.31it/s]\u001b[A\n",
      "Validation DataLoader 0:  33%|███████████████████▋                                       | 3/9 [00:00<00:00, 89.45it/s]\u001b[A\n",
      "Validation DataLoader 0:  44%|██████████████████████████▏                                | 4/9 [00:00<00:00, 79.57it/s]\u001b[A\n",
      "Validation DataLoader 0:  56%|████████████████████████████████▊                          | 5/9 [00:00<00:00, 84.86it/s]\u001b[A\n",
      "Validation DataLoader 0:  67%|███████████████████████████████████████▎                   | 6/9 [00:00<00:00, 80.09it/s]\u001b[A\n",
      "Validation DataLoader 0:  78%|█████████████████████████████████████████████▉             | 7/9 [00:00<00:00, 84.43it/s]\u001b[A\n",
      "Validation DataLoader 0:  89%|████████████████████████████████████████████████████▍      | 8/9 [00:00<00:00, 88.00it/s]\u001b[A\n",
      "Validation DataLoader 0: 100%|███████████████████████████████████████████████████████████| 9/9 [00:00<00:00, 84.19it/s]\u001b[A\n",
      "Epoch 202: 100%|█████████████████████████████| 25/25 [00:00<00:00, 65.31it/s, v_num=17, train_acc=0.819, val_acc=0.963]\u001b[A\n",
      "Validation: |                                                                                    | 0/? [00:00<?, ?it/s]\u001b[A\n",
      "Validation:   0%|                                                                                | 0/9 [00:00<?, ?it/s]\u001b[A\n",
      "Validation DataLoader 0:   0%|                                                                   | 0/9 [00:00<?, ?it/s]\u001b[A\n",
      "Validation DataLoader 0:  11%|██████▌                                                    | 1/9 [00:00<00:00, 59.72it/s]\u001b[A\n",
      "Validation DataLoader 0:  22%|█████████████                                              | 2/9 [00:00<00:00, 78.90it/s]\u001b[A\n",
      "Validation DataLoader 0:  33%|███████████████████▋                                       | 3/9 [00:00<00:00, 71.37it/s]\u001b[A\n",
      "Validation DataLoader 0:  44%|██████████████████████████▏                                | 4/9 [00:00<00:00, 79.95it/s]\u001b[A\n",
      "Validation DataLoader 0:  56%|████████████████████████████████▊                          | 5/9 [00:00<00:00, 75.08it/s]\u001b[A\n",
      "Validation DataLoader 0:  67%|███████████████████████████████████████▎                   | 6/9 [00:00<00:00, 79.64it/s]\u001b[A\n",
      "Validation DataLoader 0:  78%|█████████████████████████████████████████████▉             | 7/9 [00:00<00:00, 76.17it/s]\u001b[A\n",
      "Validation DataLoader 0:  89%|████████████████████████████████████████████████████▍      | 8/9 [00:00<00:00, 80.08it/s]\u001b[A\n",
      "Validation DataLoader 0: 100%|███████████████████████████████████████████████████████████| 9/9 [00:00<00:00, 77.17it/s]\u001b[A\n",
      "Epoch 203: 100%|█████████████████████████████| 25/25 [00:00<00:00, 59.04it/s, v_num=17, train_acc=0.866, val_acc=0.963]\u001b[A\n",
      "Validation: |                                                                                    | 0/? [00:00<?, ?it/s]\u001b[A\n",
      "Validation:   0%|                                                                                | 0/9 [00:00<?, ?it/s]\u001b[A\n",
      "Validation DataLoader 0:   0%|                                                                   | 0/9 [00:00<?, ?it/s]\u001b[A\n",
      "Validation DataLoader 0:  11%|██████▍                                                   | 1/9 [00:00<00:00, 125.04it/s]\u001b[A\n",
      "Validation DataLoader 0:  22%|█████████████                                              | 2/9 [00:00<00:00, 80.98it/s]\u001b[A\n",
      "Validation DataLoader 0:  33%|███████████████████▋                                       | 3/9 [00:00<00:00, 89.75it/s]\u001b[A\n",
      "Validation DataLoader 0:  44%|██████████████████████████▏                                | 4/9 [00:00<00:00, 80.39it/s]\u001b[A\n",
      "Validation DataLoader 0:  56%|████████████████████████████████▊                          | 5/9 [00:00<00:00, 86.57it/s]\u001b[A\n",
      "Validation DataLoader 0:  67%|███████████████████████████████████████▎                   | 6/9 [00:00<00:00, 80.91it/s]\u001b[A\n",
      "Validation DataLoader 0:  78%|█████████████████████████████████████████████▉             | 7/9 [00:00<00:00, 85.21it/s]\u001b[A\n",
      "Validation DataLoader 0:  89%|████████████████████████████████████████████████████▍      | 8/9 [00:00<00:00, 81.52it/s]\u001b[A\n",
      "Validation DataLoader 0: 100%|███████████████████████████████████████████████████████████| 9/9 [00:00<00:00, 84.80it/s]\u001b[A\n",
      "Epoch 204: 100%|█████████████████████████████| 25/25 [00:00<00:00, 66.76it/s, v_num=17, train_acc=0.835, val_acc=0.963]\u001b[A\n",
      "Validation: |                                                                                    | 0/? [00:00<?, ?it/s]\u001b[A\n",
      "Validation:   0%|                                                                                | 0/9 [00:00<?, ?it/s]\u001b[A\n",
      "Validation DataLoader 0:   0%|                                                                   | 0/9 [00:00<?, ?it/s]\u001b[A\n",
      "Validation DataLoader 0:  11%|██████▌                                                    | 1/9 [00:00<00:00, 59.95it/s]\u001b[A\n",
      "Validation DataLoader 0:  22%|█████████████                                              | 2/9 [00:00<00:00, 60.04it/s]\u001b[A\n",
      "Validation DataLoader 0:  33%|███████████████████▋                                       | 3/9 [00:00<00:00, 72.30it/s]\u001b[A\n",
      "Validation DataLoader 0:  44%|██████████████████████████▏                                | 4/9 [00:00<00:00, 80.82it/s]\u001b[A\n",
      "Validation DataLoader 0:  56%|████████████████████████████████▊                          | 5/9 [00:00<00:00, 76.36it/s]\u001b[A\n",
      "Validation DataLoader 0:  67%|███████████████████████████████████████▎                   | 6/9 [00:00<00:00, 81.66it/s]\u001b[A\n",
      "Validation DataLoader 0:  78%|█████████████████████████████████████████████▉             | 7/9 [00:00<00:00, 78.24it/s]\u001b[A\n",
      "Validation DataLoader 0:  89%|████████████████████████████████████████████████████▍      | 8/9 [00:00<00:00, 82.09it/s]\u001b[A\n",
      "Validation DataLoader 0: 100%|███████████████████████████████████████████████████████████| 9/9 [00:00<00:00, 82.81it/s]\u001b[A\n",
      "Epoch 205: 100%|█████████████████████████████| 25/25 [00:00<00:00, 67.84it/s, v_num=17, train_acc=0.740, val_acc=0.964]\u001b[A\n",
      "Validation: |                                                                                    | 0/? [00:00<?, ?it/s]\u001b[A\n",
      "Validation:   0%|                                                                                | 0/9 [00:00<?, ?it/s]\u001b[A\n",
      "Validation DataLoader 0:   0%|                                                                   | 0/9 [00:00<?, ?it/s]\u001b[A\n",
      "Validation DataLoader 0:  11%|██████▌                                                    | 1/9 [00:00<00:00, 51.89it/s]\u001b[A\n",
      "Validation DataLoader 0:  22%|█████████████                                              | 2/9 [00:00<00:00, 55.28it/s]\u001b[A\n",
      "Validation DataLoader 0:  33%|███████████████████▋                                       | 3/9 [00:00<00:00, 57.22it/s]\u001b[A\n",
      "Validation DataLoader 0:  44%|██████████████████████████▏                                | 4/9 [00:00<00:00, 57.39it/s]\u001b[A\n",
      "Validation DataLoader 0:  56%|████████████████████████████████▊                          | 5/9 [00:00<00:00, 58.16it/s]\u001b[A\n",
      "Validation DataLoader 0:  67%|███████████████████████████████████████▎                   | 6/9 [00:00<00:00, 58.59it/s]\u001b[A\n",
      "Validation DataLoader 0:  78%|█████████████████████████████████████████████▉             | 7/9 [00:00<00:00, 55.83it/s]\u001b[A\n",
      "Validation DataLoader 0:  89%|████████████████████████████████████████████████████▍      | 8/9 [00:00<00:00, 56.32it/s]\u001b[A\n",
      "Validation DataLoader 0: 100%|███████████████████████████████████████████████████████████| 9/9 [00:00<00:00, 59.00it/s]\u001b[A\n",
      "Epoch 206: 100%|█████████████████████████████| 25/25 [00:00<00:00, 51.81it/s, v_num=17, train_acc=0.858, val_acc=0.960]\u001b[A\n",
      "Validation: |                                                                                    | 0/? [00:00<?, ?it/s]\u001b[A\n",
      "Validation:   0%|                                                                                | 0/9 [00:00<?, ?it/s]\u001b[A\n",
      "Validation DataLoader 0:   0%|                                                                   | 0/9 [00:00<?, ?it/s]\u001b[A\n",
      "Validation DataLoader 0:  11%|██████▌                                                    | 1/9 [00:00<00:00, 60.30it/s]\u001b[A\n",
      "Validation DataLoader 0:  22%|█████████████                                              | 2/9 [00:00<00:00, 81.37it/s]\u001b[A\n",
      "Validation DataLoader 0:  33%|███████████████████▋                                       | 3/9 [00:00<00:00, 73.94it/s]\u001b[A\n",
      "Validation DataLoader 0:  44%|██████████████████████████▏                                | 4/9 [00:00<00:00, 82.37it/s]\u001b[A\n",
      "Validation DataLoader 0:  56%|████████████████████████████████▊                          | 5/9 [00:00<00:00, 77.46it/s]\u001b[A\n",
      "Validation DataLoader 0:  67%|███████████████████████████████████████▎                   | 6/9 [00:00<00:00, 82.71it/s]\u001b[A\n",
      "Validation DataLoader 0:  78%|█████████████████████████████████████████████▉             | 7/9 [00:00<00:00, 79.06it/s]\u001b[A\n",
      "Validation DataLoader 0:  89%|████████████████████████████████████████████████████▍      | 8/9 [00:00<00:00, 76.54it/s]\u001b[A\n",
      "Validation DataLoader 0: 100%|███████████████████████████████████████████████████████████| 9/9 [00:00<00:00, 74.68it/s]\u001b[A\n",
      "Epoch 206: 100%|█████████████████████████████| 25/25 [00:00<00:00, 39.33it/s, v_num=17, train_acc=0.858, val_acc=0.965]\u001b[A"
     ]
    },
    {
     "name": "stderr",
     "output_type": "stream",
     "text": [
      "Metric val_loss improved by 0.001 >= min_delta = 0.0. New best score: 0.198\n"
     ]
    },
    {
     "name": "stdout",
     "output_type": "stream",
     "text": [
      "Epoch 207: 100%|█████████████████████████████| 25/25 [00:00<00:00, 56.75it/s, v_num=17, train_acc=0.787, val_acc=0.965]\n",
      "Validation: |                                                                                    | 0/? [00:00<?, ?it/s]\u001b[A\n",
      "Validation:   0%|                                                                                | 0/9 [00:00<?, ?it/s]\u001b[A\n",
      "Validation DataLoader 0:   0%|                                                                   | 0/9 [00:00<?, ?it/s]\u001b[A\n",
      "Validation DataLoader 0:  11%|██████▌                                                    | 1/9 [00:00<00:00, 62.54it/s]\u001b[A\n",
      "Validation DataLoader 0:  22%|█████████████                                              | 2/9 [00:00<00:00, 62.54it/s]\u001b[A\n",
      "Validation DataLoader 0:  33%|███████████████████▋                                       | 3/9 [00:00<00:00, 62.54it/s]\u001b[A\n",
      "Validation DataLoader 0:  44%|██████████████████████████▏                                | 4/9 [00:00<00:00, 62.54it/s]\u001b[A\n",
      "Validation DataLoader 0:  56%|████████████████████████████████▊                          | 5/9 [00:00<00:00, 69.49it/s]\u001b[A\n",
      "Validation DataLoader 0:  67%|███████████████████████████████████████▎                   | 6/9 [00:00<00:00, 71.36it/s]\u001b[A\n",
      "Validation DataLoader 0:  78%|█████████████████████████████████████████████▉             | 7/9 [00:00<00:00, 69.53it/s]\u001b[A\n",
      "Validation DataLoader 0:  89%|████████████████████████████████████████████████████▍      | 8/9 [00:00<00:00, 68.16it/s]\u001b[A\n",
      "Validation DataLoader 0: 100%|███████████████████████████████████████████████████████████| 9/9 [00:00<00:00, 71.79it/s]\u001b[A\n",
      "Epoch 208: 100%|█████████████████████████████| 25/25 [00:00<00:00, 49.93it/s, v_num=17, train_acc=0.843, val_acc=0.964]\u001b[A\n",
      "Validation: |                                                                                    | 0/? [00:00<?, ?it/s]\u001b[A\n",
      "Validation:   0%|                                                                                | 0/9 [00:00<?, ?it/s]\u001b[A\n",
      "Validation DataLoader 0:   0%|                                                                   | 0/9 [00:00<?, ?it/s]\u001b[A\n",
      "Validation DataLoader 0:  11%|██████▌                                                    | 1/9 [00:00<00:00, 59.80it/s]\u001b[A\n",
      "Validation DataLoader 0:  22%|█████████████                                              | 2/9 [00:00<00:00, 80.91it/s]\u001b[A\n",
      "Validation DataLoader 0:  33%|███████████████████▋                                       | 3/9 [00:00<00:00, 91.71it/s]\u001b[A\n",
      "Validation DataLoader 0:  44%|██████████████████████████▏                                | 4/9 [00:00<00:00, 79.64it/s]\u001b[A\n",
      "Validation DataLoader 0:  56%|████████████████████████████████▊                          | 5/9 [00:00<00:00, 85.87it/s]\u001b[A\n",
      "Validation DataLoader 0:  67%|███████████████████████████████████████▎                   | 6/9 [00:00<00:00, 80.43it/s]\u001b[A\n",
      "Validation DataLoader 0:  78%|█████████████████████████████████████████████▉             | 7/9 [00:00<00:00, 84.10it/s]\u001b[A\n",
      "Validation DataLoader 0:  89%|████████████████████████████████████████████████████▍      | 8/9 [00:00<00:00, 87.69it/s]\u001b[A\n",
      "Validation DataLoader 0: 100%|███████████████████████████████████████████████████████████| 9/9 [00:00<00:00, 83.35it/s]\u001b[A\n",
      "Epoch 208: 100%|█████████████████████████████| 25/25 [00:00<00:00, 39.01it/s, v_num=17, train_acc=0.843, val_acc=0.963]\u001b[A"
     ]
    },
    {
     "name": "stderr",
     "output_type": "stream",
     "text": [
      "Metric val_loss improved by 0.005 >= min_delta = 0.0. New best score: 0.194\n"
     ]
    },
    {
     "name": "stdout",
     "output_type": "stream",
     "text": [
      "Epoch 209: 100%|█████████████████████████████| 25/25 [00:00<00:00, 64.94it/s, v_num=17, train_acc=0.835, val_acc=0.963]\n",
      "Validation: |                                                                                    | 0/? [00:00<?, ?it/s]\u001b[A\n",
      "Validation:   0%|                                                                                | 0/9 [00:00<?, ?it/s]\u001b[A\n",
      "Validation DataLoader 0:   0%|                                                                   | 0/9 [00:00<?, ?it/s]\u001b[A\n",
      "Validation DataLoader 0:  11%|██████▌                                                    | 1/9 [00:00<00:00, 41.69it/s]\u001b[A\n",
      "Validation DataLoader 0:  22%|█████████████                                              | 2/9 [00:00<00:00, 58.91it/s]\u001b[A\n",
      "Validation DataLoader 0:  33%|███████████████████▋                                       | 3/9 [00:00<00:00, 59.22it/s]\u001b[A\n",
      "Validation DataLoader 0:  44%|██████████████████████████▏                                | 4/9 [00:00<00:00, 67.35it/s]\u001b[A\n",
      "Validation DataLoader 0:  56%|████████████████████████████████▊                          | 5/9 [00:00<00:00, 65.88it/s]\u001b[A\n",
      "Validation DataLoader 0:  67%|███████████████████████████████████████▎                   | 6/9 [00:00<00:00, 64.99it/s]\u001b[A\n",
      "Validation DataLoader 0:  78%|█████████████████████████████████████████████▉             | 7/9 [00:00<00:00, 69.59it/s]\u001b[A\n",
      "Validation DataLoader 0:  89%|████████████████████████████████████████████████████▍      | 8/9 [00:00<00:00, 67.45it/s]\u001b[A\n",
      "Validation DataLoader 0: 100%|███████████████████████████████████████████████████████████| 9/9 [00:00<00:00, 71.49it/s]\u001b[A\n",
      "Epoch 209: 100%|█████████████████████████████| 25/25 [00:00<00:00, 45.94it/s, v_num=17, train_acc=0.835, val_acc=0.964]\u001b[A"
     ]
    },
    {
     "name": "stderr",
     "output_type": "stream",
     "text": [
      "Metric val_loss improved by 0.002 >= min_delta = 0.0. New best score: 0.192\n"
     ]
    },
    {
     "name": "stdout",
     "output_type": "stream",
     "text": [
      "Epoch 210: 100%|█████████████████████████████| 25/25 [00:00<00:00, 59.97it/s, v_num=17, train_acc=0.843, val_acc=0.964]\n",
      "Validation: |                                                                                    | 0/? [00:00<?, ?it/s]\u001b[A\n",
      "Validation:   0%|                                                                                | 0/9 [00:00<?, ?it/s]\u001b[A\n",
      "Validation DataLoader 0:   0%|                                                                   | 0/9 [00:00<?, ?it/s]\u001b[A\n",
      "Validation DataLoader 0:  11%|██████▍                                                   | 1/9 [00:00<00:00, 112.54it/s]\u001b[A\n",
      "Validation DataLoader 0:  22%|█████████████                                              | 2/9 [00:00<00:00, 80.40it/s]\u001b[A\n",
      "Validation DataLoader 0:  33%|███████████████████▋                                       | 3/9 [00:00<00:00, 91.26it/s]\u001b[A\n",
      "Validation DataLoader 0:  44%|██████████████████████████▏                                | 4/9 [00:00<00:00, 81.86it/s]\u001b[A\n",
      "Validation DataLoader 0:  56%|████████████████████████████████▊                          | 5/9 [00:00<00:00, 87.94it/s]\u001b[A\n",
      "Validation DataLoader 0:  67%|███████████████████████████████████████▎                   | 6/9 [00:00<00:00, 79.75it/s]\u001b[A\n",
      "Validation DataLoader 0:  78%|█████████████████████████████████████████████▉             | 7/9 [00:00<00:00, 84.10it/s]\u001b[A\n",
      "Validation DataLoader 0:  89%|████████████████████████████████████████████████████▍      | 8/9 [00:00<00:00, 80.02it/s]\u001b[A\n",
      "Validation DataLoader 0: 100%|███████████████████████████████████████████████████████████| 9/9 [00:00<00:00, 82.82it/s]\u001b[A\n",
      "Epoch 211: 100%|█████████████████████████████| 25/25 [00:00<00:00, 69.33it/s, v_num=17, train_acc=0.787, val_acc=0.957]\u001b[A\n",
      "Validation: |                                                                                    | 0/? [00:00<?, ?it/s]\u001b[A\n",
      "Validation:   0%|                                                                                | 0/9 [00:00<?, ?it/s]\u001b[A\n",
      "Validation DataLoader 0:   0%|                                                                   | 0/9 [00:00<?, ?it/s]\u001b[A\n",
      "Validation DataLoader 0:  11%|██████▌                                                    | 1/9 [00:00<00:00, 60.11it/s]\u001b[A\n",
      "Validation DataLoader 0:  22%|█████████████                                              | 2/9 [00:00<00:00, 76.22it/s]\u001b[A\n",
      "Validation DataLoader 0:  33%|███████████████████▋                                       | 3/9 [00:00<00:00, 70.19it/s]\u001b[A\n",
      "Validation DataLoader 0:  44%|██████████████████████████▏                                | 4/9 [00:00<00:00, 67.92it/s]\u001b[A\n",
      "Validation DataLoader 0:  56%|████████████████████████████████▊                          | 5/9 [00:00<00:00, 66.08it/s]\u001b[A\n",
      "Validation DataLoader 0:  67%|███████████████████████████████████████▎                   | 6/9 [00:00<00:00, 79.30it/s]\u001b[A\n",
      "Validation DataLoader 0:  78%|█████████████████████████████████████████████▉             | 7/9 [00:00<00:00, 67.10it/s]\u001b[A\n",
      "Validation DataLoader 0:  89%|████████████████████████████████████████████████████▍      | 8/9 [00:00<00:00, 64.50it/s]\u001b[A\n",
      "Validation DataLoader 0: 100%|███████████████████████████████████████████████████████████| 9/9 [00:00<00:00, 64.29it/s]\u001b[A\n",
      "Epoch 212: 100%|█████████████████████████████| 25/25 [00:00<00:00, 50.63it/s, v_num=17, train_acc=0.827, val_acc=0.965]\u001b[A\n",
      "Validation: |                                                                                    | 0/? [00:00<?, ?it/s]\u001b[A\n",
      "Validation:   0%|                                                                                | 0/9 [00:00<?, ?it/s]\u001b[A\n",
      "Validation DataLoader 0:   0%|                                                                   | 0/9 [00:00<?, ?it/s]\u001b[A\n",
      "Validation DataLoader 0:  11%|██████▌                                                    | 1/9 [00:00<00:00, 41.70it/s]\u001b[A\n",
      "Validation DataLoader 0:  22%|█████████████                                              | 2/9 [00:00<00:00, 61.20it/s]\u001b[A\n",
      "Validation DataLoader 0:  33%|███████████████████▋                                       | 3/9 [00:00<00:00, 59.66it/s]\u001b[A\n",
      "Validation DataLoader 0:  44%|██████████████████████████▏                                | 4/9 [00:00<00:00, 53.20it/s]\u001b[A\n",
      "Validation DataLoader 0:  56%|████████████████████████████████▊                          | 5/9 [00:00<00:00, 59.58it/s]\u001b[A\n",
      "Validation DataLoader 0:  67%|███████████████████████████████████████▎                   | 6/9 [00:00<00:00, 59.88it/s]\u001b[A\n",
      "Validation DataLoader 0:  78%|█████████████████████████████████████████████▉             | 7/9 [00:00<00:00, 59.58it/s]\u001b[A\n",
      "Validation DataLoader 0:  89%|████████████████████████████████████████████████████▍      | 8/9 [00:00<00:00, 63.92it/s]\u001b[A\n",
      "Validation DataLoader 0: 100%|███████████████████████████████████████████████████████████| 9/9 [00:00<00:00, 63.34it/s]\u001b[A\n",
      "Epoch 213: 100%|█████████████████████████████| 25/25 [00:00<00:00, 62.40it/s, v_num=17, train_acc=0.811, val_acc=0.965]\u001b[A\n",
      "Validation: |                                                                                    | 0/? [00:00<?, ?it/s]\u001b[A\n",
      "Validation:   0%|                                                                                | 0/9 [00:00<?, ?it/s]\u001b[A\n",
      "Validation DataLoader 0:   0%|                                                                   | 0/9 [00:00<?, ?it/s]\u001b[A\n",
      "Validation DataLoader 0:  11%|██████▌                                                    | 1/9 [00:00<00:00, 59.66it/s]\u001b[A\n",
      "Validation DataLoader 0:  22%|█████████████                                              | 2/9 [00:00<00:00, 80.77it/s]\u001b[A\n",
      "Validation DataLoader 0:  33%|███████████████████▋                                       | 3/9 [00:00<00:00, 91.59it/s]\u001b[A\n",
      "Validation DataLoader 0:  44%|██████████████████████████▏                                | 4/9 [00:00<00:00, 80.10it/s]\u001b[A\n",
      "Validation DataLoader 0:  56%|████████████████████████████████▊                          | 5/9 [00:00<00:00, 86.31it/s]\u001b[A\n",
      "Validation DataLoader 0:  67%|███████████████████████████████████████▎                   | 6/9 [00:00<00:00, 80.41it/s]\u001b[A\n",
      "Validation DataLoader 0:  78%|█████████████████████████████████████████████▉             | 7/9 [00:00<00:00, 83.73it/s]\u001b[A\n",
      "Validation DataLoader 0:  89%|████████████████████████████████████████████████████▍      | 8/9 [00:00<00:00, 79.78it/s]\u001b[A\n",
      "Validation DataLoader 0: 100%|███████████████████████████████████████████████████████████| 9/9 [00:00<00:00, 89.74it/s]\u001b[A\n",
      "Epoch 214: 100%|█████████████████████████████| 25/25 [00:00<00:00, 71.31it/s, v_num=17, train_acc=0.787, val_acc=0.969]\u001b[A\n",
      "Validation: |                                                                                    | 0/? [00:00<?, ?it/s]\u001b[A\n",
      "Validation:   0%|                                                                                | 0/9 [00:00<?, ?it/s]\u001b[A\n",
      "Validation DataLoader 0:   0%|                                                                   | 0/9 [00:00<?, ?it/s]\u001b[A\n",
      "Validation DataLoader 0:  11%|██████▌                                                    | 1/9 [00:00<00:00, 59.77it/s]\u001b[A\n",
      "Validation DataLoader 0:  22%|█████████████                                              | 2/9 [00:00<00:00, 59.97it/s]\u001b[A\n",
      "Validation DataLoader 0:  33%|███████████████████▋                                       | 3/9 [00:00<00:00, 71.74it/s]\u001b[A\n",
      "Validation DataLoader 0:  44%|██████████████████████████▏                                | 4/9 [00:00<00:00, 68.76it/s]\u001b[A\n",
      "Validation DataLoader 0:  56%|████████████████████████████████▊                          | 5/9 [00:00<00:00, 75.56it/s]\u001b[A\n",
      "Validation DataLoader 0:  67%|███████████████████████████████████████▎                   | 6/9 [00:00<00:00, 71.93it/s]\u001b[A\n",
      "Validation DataLoader 0:  78%|█████████████████████████████████████████████▉             | 7/9 [00:00<00:00, 76.58it/s]\u001b[A\n",
      "Validation DataLoader 0:  89%|████████████████████████████████████████████████████▍      | 8/9 [00:00<00:00, 73.77it/s]\u001b[A\n",
      "Validation DataLoader 0: 100%|███████████████████████████████████████████████████████████| 9/9 [00:00<00:00, 77.09it/s]\u001b[A\n",
      "Epoch 215: 100%|█████████████████████████████| 25/25 [00:00<00:00, 47.62it/s, v_num=17, train_acc=0.835, val_acc=0.967]\u001b[A\n",
      "Validation: |                                                                                    | 0/? [00:00<?, ?it/s]\u001b[A\n",
      "Validation:   0%|                                                                                | 0/9 [00:00<?, ?it/s]\u001b[A\n",
      "Validation DataLoader 0:   0%|                                                                   | 0/9 [00:00<?, ?it/s]\u001b[A\n",
      "Validation DataLoader 0:  11%|██████▌                                                    | 1/9 [00:00<00:00, 60.00it/s]\u001b[A\n",
      "Validation DataLoader 0:  22%|█████████████                                              | 2/9 [00:00<00:00, 59.33it/s]\u001b[A\n",
      "Validation DataLoader 0:  33%|███████████████████▋                                       | 3/9 [00:00<00:00, 72.18it/s]\u001b[A\n",
      "Validation DataLoader 0:  44%|██████████████████████████▏                                | 4/9 [00:00<00:00, 80.69it/s]\u001b[A\n",
      "Validation DataLoader 0:  56%|████████████████████████████████▊                          | 5/9 [00:00<00:00, 76.28it/s]\u001b[A\n",
      "Validation DataLoader 0:  67%|███████████████████████████████████████▎                   | 6/9 [00:00<00:00, 79.75it/s]\u001b[A\n",
      "Validation DataLoader 0:  78%|█████████████████████████████████████████████▉             | 7/9 [00:00<00:00, 84.10it/s]\u001b[A\n",
      "Validation DataLoader 0:  89%|████████████████████████████████████████████████████▍      | 8/9 [00:00<00:00, 79.98it/s]\u001b[A\n",
      "Validation DataLoader 0: 100%|███████████████████████████████████████████████████████████| 9/9 [00:00<00:00, 82.88it/s]\u001b[A\n",
      "Epoch 216: 100%|█████████████████████████████| 25/25 [00:00<00:00, 68.17it/s, v_num=17, train_acc=0.756, val_acc=0.961]\u001b[A\n",
      "Validation: |                                                                                    | 0/? [00:00<?, ?it/s]\u001b[A\n",
      "Validation:   0%|                                                                                | 0/9 [00:00<?, ?it/s]\u001b[A\n",
      "Validation DataLoader 0:   0%|                                                                   | 0/9 [00:00<?, ?it/s]\u001b[A\n",
      "Validation DataLoader 0:  11%|██████▌                                                    | 1/9 [00:00<00:00, 60.98it/s]\u001b[A\n",
      "Validation DataLoader 0:  22%|█████████████                                              | 2/9 [00:00<00:00, 61.74it/s]\u001b[A\n",
      "Validation DataLoader 0:  33%|███████████████████▋                                       | 3/9 [00:00<00:00, 74.28it/s]\u001b[A\n",
      "Validation DataLoader 0:  44%|██████████████████████████▏                                | 4/9 [00:00<00:00, 78.47it/s]\u001b[A\n",
      "Validation DataLoader 0:  56%|████████████████████████████████▊                          | 5/9 [00:00<00:00, 74.67it/s]\u001b[A\n",
      "Validation DataLoader 0:  67%|███████████████████████████████████████▎                   | 6/9 [00:00<00:00, 80.04it/s]\u001b[A\n",
      "Validation DataLoader 0:  78%|█████████████████████████████████████████████▉             | 7/9 [00:00<00:00, 76.98it/s]\u001b[A\n",
      "Validation DataLoader 0:  89%|████████████████████████████████████████████████████▍      | 8/9 [00:00<00:00, 80.32it/s]\u001b[A\n",
      "Validation DataLoader 0: 100%|███████████████████████████████████████████████████████████| 9/9 [00:00<00:00, 77.87it/s]\u001b[A\n",
      "Epoch 217: 100%|█████████████████████████████| 25/25 [00:00<00:00, 65.20it/s, v_num=17, train_acc=0.843, val_acc=0.964]\u001b[A\n",
      "Validation: |                                                                                    | 0/? [00:00<?, ?it/s]\u001b[A\n",
      "Validation:   0%|                                                                                | 0/9 [00:00<?, ?it/s]\u001b[A\n",
      "Validation DataLoader 0:   0%|                                                                   | 0/9 [00:00<?, ?it/s]\u001b[A\n",
      "Validation DataLoader 0:  11%|██████▌                                                    | 1/9 [00:00<00:00, 59.96it/s]\u001b[A\n",
      "Validation DataLoader 0:  22%|█████████████                                              | 2/9 [00:00<00:00, 60.09it/s]\u001b[A\n",
      "Validation DataLoader 0:  33%|███████████████████▋                                       | 3/9 [00:00<00:00, 72.68it/s]\u001b[A\n",
      "Validation DataLoader 0:  44%|██████████████████████████▏                                | 4/9 [00:00<00:00, 68.64it/s]\u001b[A\n",
      "Validation DataLoader 0:  56%|████████████████████████████████▊                          | 5/9 [00:00<00:00, 75.26it/s]\u001b[A\n",
      "Validation DataLoader 0:  67%|███████████████████████████████████████▎                   | 6/9 [00:00<00:00, 80.61it/s]\u001b[A\n",
      "Validation DataLoader 0:  78%|█████████████████████████████████████████████▉             | 7/9 [00:00<00:00, 76.74it/s]\u001b[A\n",
      "Validation DataLoader 0:  89%|████████████████████████████████████████████████████▍      | 8/9 [00:00<00:00, 80.21it/s]\u001b[A\n",
      "Validation DataLoader 0: 100%|███████████████████████████████████████████████████████████| 9/9 [00:00<00:00, 77.63it/s]\u001b[A\n",
      "Epoch 218: 100%|█████████████████████████████| 25/25 [00:00<00:00, 68.38it/s, v_num=17, train_acc=0.787, val_acc=0.960]\u001b[A\n",
      "Validation: |                                                                                    | 0/? [00:00<?, ?it/s]\u001b[A\n",
      "Validation:   0%|                                                                                | 0/9 [00:00<?, ?it/s]\u001b[A\n",
      "Validation DataLoader 0:   0%|                                                                   | 0/9 [00:00<?, ?it/s]\u001b[A\n",
      "Validation DataLoader 0:  11%|██████▌                                                    | 1/9 [00:00<00:00, 60.03it/s]\u001b[A\n",
      "Validation DataLoader 0:  22%|████████████▉                                             | 2/9 [00:00<00:00, 120.07it/s]\u001b[A\n",
      "Validation DataLoader 0:  33%|███████████████████▋                                       | 3/9 [00:00<00:00, 72.49it/s]\u001b[A\n",
      "Validation DataLoader 0:  44%|██████████████████████████▏                                | 4/9 [00:00<00:00, 81.01it/s]\u001b[A\n",
      "Validation DataLoader 0:  56%|████████████████████████████████▊                          | 5/9 [00:00<00:00, 76.49it/s]\u001b[A\n",
      "Validation DataLoader 0:  67%|███████████████████████████████████████▎                   | 6/9 [00:00<00:00, 81.79it/s]\u001b[A\n",
      "Validation DataLoader 0:  78%|█████████████████████████████████████████████▉             | 7/9 [00:00<00:00, 78.34it/s]\u001b[A\n",
      "Validation DataLoader 0:  89%|████████████████████████████████████████████████████▍      | 8/9 [00:00<00:00, 82.18it/s]\u001b[A\n",
      "Validation DataLoader 0: 100%|███████████████████████████████████████████████████████████| 9/9 [00:00<00:00, 79.41it/s]\u001b[A\n",
      "Epoch 219: 100%|█████████████████████████████| 25/25 [00:00<00:00, 69.92it/s, v_num=17, train_acc=0.772, val_acc=0.961]\u001b[A\n",
      "Validation: |                                                                                    | 0/? [00:00<?, ?it/s]\u001b[A\n",
      "Validation:   0%|                                                                                | 0/9 [00:00<?, ?it/s]\u001b[A\n",
      "Validation DataLoader 0:   0%|                                                                   | 0/9 [00:00<?, ?it/s]\u001b[A\n",
      "Validation DataLoader 0:  11%|██████▌                                                    | 1/9 [00:00<00:00, 60.71it/s]\u001b[A\n",
      "Validation DataLoader 0:  22%|█████████████                                              | 2/9 [00:00<00:00, 80.73it/s]\u001b[A\n",
      "Validation DataLoader 0:  33%|███████████████████▋                                       | 3/9 [00:00<00:00, 89.12it/s]\u001b[A\n",
      "Validation DataLoader 0:  44%|██████████████████████████▏                                | 4/9 [00:00<00:00, 80.89it/s]\u001b[A\n",
      "Validation DataLoader 0:  56%|████████████████████████████████▊                          | 5/9 [00:00<00:00, 87.04it/s]\u001b[A\n",
      "Validation DataLoader 0:  67%|███████████████████████████████████████▎                   | 6/9 [00:00<00:00, 81.70it/s]\u001b[A\n",
      "Validation DataLoader 0:  78%|█████████████████████████████████████████████▉             | 7/9 [00:00<00:00, 83.91it/s]\u001b[A\n",
      "Validation DataLoader 0:  89%|████████████████████████████████████████████████████▍      | 8/9 [00:00<00:00, 80.47it/s]\u001b[A\n",
      "Validation DataLoader 0: 100%|███████████████████████████████████████████████████████████| 9/9 [00:00<00:00, 83.79it/s]\u001b[A\n",
      "Epoch 220: 100%|█████████████████████████████| 25/25 [00:00<00:00, 61.17it/s, v_num=17, train_acc=0.858, val_acc=0.961]\u001b[A\n",
      "Validation: |                                                                                    | 0/? [00:00<?, ?it/s]\u001b[A\n",
      "Validation:   0%|                                                                                | 0/9 [00:00<?, ?it/s]\u001b[A\n",
      "Validation DataLoader 0:   0%|                                                                   | 0/9 [00:00<?, ?it/s]\u001b[A\n",
      "Validation DataLoader 0:  11%|██████▌                                                    | 1/9 [00:00<00:00, 58.89it/s]\u001b[A\n",
      "Validation DataLoader 0:  22%|█████████████                                              | 2/9 [00:00<00:00, 59.58it/s]\u001b[A\n",
      "Validation DataLoader 0:  33%|███████████████████▋                                       | 3/9 [00:00<00:00, 71.95it/s]\u001b[A\n",
      "Validation DataLoader 0:  44%|██████████████████████████▏                                | 4/9 [00:00<00:00, 68.17it/s]\u001b[A\n",
      "Validation DataLoader 0:  56%|████████████████████████████████▊                          | 5/9 [00:00<00:00, 74.99it/s]\u001b[A\n",
      "Validation DataLoader 0:  67%|███████████████████████████████████████▎                   | 6/9 [00:00<00:00, 71.95it/s]\u001b[A\n",
      "Validation DataLoader 0:  78%|█████████████████████████████████████████████▉             | 7/9 [00:00<00:00, 76.06it/s]\u001b[A\n",
      "Validation DataLoader 0:  89%|████████████████████████████████████████████████████▍      | 8/9 [00:00<00:00, 74.06it/s]\u001b[A\n",
      "Validation DataLoader 0: 100%|███████████████████████████████████████████████████████████| 9/9 [00:00<00:00, 77.57it/s]\u001b[A\n",
      "Epoch 221: 100%|█████████████████████████████| 25/25 [00:00<00:00, 72.92it/s, v_num=17, train_acc=0.850, val_acc=0.969]\u001b[A\n",
      "Validation: |                                                                                    | 0/? [00:00<?, ?it/s]\u001b[A\n",
      "Validation:   0%|                                                                                | 0/9 [00:00<?, ?it/s]\u001b[A\n",
      "Validation DataLoader 0:   0%|                                                                   | 0/9 [00:00<?, ?it/s]\u001b[A\n",
      "Validation DataLoader 0:  11%|██████▌                                                    | 1/9 [00:00<00:00, 62.53it/s]\u001b[A\n",
      "Validation DataLoader 0:  22%|█████████████                                              | 2/9 [00:00<00:00, 62.54it/s]\u001b[A\n",
      "Validation DataLoader 0:  33%|███████████████████▋                                       | 3/9 [00:00<00:00, 70.04it/s]\u001b[A\n",
      "Validation DataLoader 0:  44%|██████████████████████████▏                                | 4/9 [00:00<00:00, 93.38it/s]\u001b[A\n",
      "Validation DataLoader 0:  56%|████████████████████████████████▊                          | 5/9 [00:00<00:00, 73.66it/s]\u001b[A\n",
      "Validation DataLoader 0:  67%|███████████████████████████████████████▎                   | 6/9 [00:00<00:00, 79.08it/s]\u001b[A\n",
      "Validation DataLoader 0:  78%|█████████████████████████████████████████████▉             | 7/9 [00:00<00:00, 76.02it/s]\u001b[A\n",
      "Validation DataLoader 0:  89%|████████████████████████████████████████████████████▍      | 8/9 [00:00<00:00, 79.94it/s]\u001b[A\n",
      "Validation DataLoader 0: 100%|███████████████████████████████████████████████████████████| 9/9 [00:00<00:00, 77.54it/s]\u001b[A\n",
      "Epoch 222: 100%|█████████████████████████████| 25/25 [00:00<00:00, 67.82it/s, v_num=17, train_acc=0.787, val_acc=0.966]\u001b[A\n",
      "Validation: |                                                                                    | 0/? [00:00<?, ?it/s]\u001b[A\n",
      "Validation:   0%|                                                                                | 0/9 [00:00<?, ?it/s]\u001b[A\n",
      "Validation DataLoader 0:   0%|                                                                   | 0/9 [00:00<?, ?it/s]\u001b[A\n",
      "Validation DataLoader 0:  11%|██████▌                                                    | 1/9 [00:00<00:00, 60.38it/s]\u001b[A\n",
      "Validation DataLoader 0:  22%|█████████████                                              | 2/9 [00:00<00:00, 81.44it/s]\u001b[A\n",
      "Validation DataLoader 0:  33%|███████████████████▋                                       | 3/9 [00:00<00:00, 72.50it/s]\u001b[A\n",
      "Validation DataLoader 0:  44%|██████████████████████████▏                                | 4/9 [00:00<00:00, 80.00it/s]\u001b[A\n",
      "Validation DataLoader 0:  56%|████████████████████████████████▊                          | 5/9 [00:00<00:00, 74.68it/s]\u001b[A\n",
      "Validation DataLoader 0:  67%|███████████████████████████████████████▎                   | 6/9 [00:00<00:00, 89.61it/s]\u001b[A\n",
      "Validation DataLoader 0:  78%|█████████████████████████████████████████████▉             | 7/9 [00:00<00:00, 77.19it/s]\u001b[A\n",
      "Validation DataLoader 0:  89%|████████████████████████████████████████████████████▍      | 8/9 [00:00<00:00, 81.07it/s]\u001b[A\n",
      "Validation DataLoader 0: 100%|███████████████████████████████████████████████████████████| 9/9 [00:00<00:00, 78.49it/s]\u001b[A\n",
      "Epoch 222: 100%|█████████████████████████████| 25/25 [00:00<00:00, 49.21it/s, v_num=17, train_acc=0.787, val_acc=0.963]\u001b[A"
     ]
    },
    {
     "name": "stderr",
     "output_type": "stream",
     "text": [
      "Metric val_loss improved by 0.000 >= min_delta = 0.0. New best score: 0.192\n"
     ]
    },
    {
     "name": "stdout",
     "output_type": "stream",
     "text": [
      "Epoch 223: 100%|█████████████████████████████| 25/25 [00:00<00:00, 71.41it/s, v_num=17, train_acc=0.835, val_acc=0.963]\n",
      "Validation: |                                                                                    | 0/? [00:00<?, ?it/s]\u001b[A\n",
      "Validation:   0%|                                                                                | 0/9 [00:00<?, ?it/s]\u001b[A\n",
      "Validation DataLoader 0:   0%|                                                                   | 0/9 [00:00<?, ?it/s]\u001b[A\n",
      "Validation DataLoader 0:  11%|██████▌                                                    | 1/9 [00:00<00:00, 59.91it/s]\u001b[A\n",
      "Validation DataLoader 0:  22%|█████████████                                              | 2/9 [00:00<00:00, 81.02it/s]\u001b[A\n",
      "Validation DataLoader 0:  33%|███████████████████▋                                       | 3/9 [00:00<00:00, 73.76it/s]\u001b[A\n",
      "Validation DataLoader 0:  44%|██████████████████████████▏                                | 4/9 [00:00<00:00, 70.59it/s]\u001b[A\n",
      "Validation DataLoader 0:  56%|████████████████████████████████▊                          | 5/9 [00:00<00:00, 77.33it/s]\u001b[A\n",
      "Validation DataLoader 0:  67%|███████████████████████████████████████▎                   | 6/9 [00:00<00:00, 79.30it/s]\u001b[A\n",
      "Validation DataLoader 0:  78%|█████████████████████████████████████████████▉             | 7/9 [00:00<00:00, 75.90it/s]\u001b[A\n",
      "Validation DataLoader 0:  89%|████████████████████████████████████████████████████▍      | 8/9 [00:00<00:00, 79.82it/s]\u001b[A\n",
      "Validation DataLoader 0: 100%|███████████████████████████████████████████████████████████| 9/9 [00:00<00:00, 83.17it/s]\u001b[A\n",
      "Epoch 224: 100%|█████████████████████████████| 25/25 [00:00<00:00, 69.60it/s, v_num=17, train_acc=0.780, val_acc=0.963]\u001b[A\n",
      "Validation: |                                                                                    | 0/? [00:00<?, ?it/s]\u001b[A\n",
      "Validation:   0%|                                                                                | 0/9 [00:00<?, ?it/s]\u001b[A\n",
      "Validation DataLoader 0:   0%|                                                                   | 0/9 [00:00<?, ?it/s]\u001b[A\n",
      "Validation DataLoader 0:  11%|██████▌                                                    | 1/9 [00:00<00:00, 60.38it/s]\u001b[A\n",
      "Validation DataLoader 0:  22%|█████████████                                              | 2/9 [00:00<00:00, 79.39it/s]\u001b[A\n",
      "Validation DataLoader 0:  33%|███████████████████▋                                       | 3/9 [00:00<00:00, 88.53it/s]\u001b[A\n",
      "Validation DataLoader 0:  44%|██████████████████████████▏                                | 4/9 [00:00<00:00, 78.28it/s]\u001b[A\n",
      "Validation DataLoader 0:  56%|████████████████████████████████▊                          | 5/9 [00:00<00:00, 84.61it/s]\u001b[A\n",
      "Validation DataLoader 0:  67%|███████████████████████████████████████▎                   | 6/9 [00:00<00:00, 89.43it/s]\u001b[A\n",
      "Validation DataLoader 0:  78%|█████████████████████████████████████████████▉             | 7/9 [00:00<00:00, 84.24it/s]\u001b[A\n",
      "Validation DataLoader 0:  89%|████████████████████████████████████████████████████▍      | 8/9 [00:00<00:00, 87.84it/s]\u001b[A\n",
      "Validation DataLoader 0: 100%|███████████████████████████████████████████████████████████| 9/9 [00:00<00:00, 84.06it/s]\u001b[A\n",
      "Epoch 224: 100%|█████████████████████████████| 25/25 [00:00<00:00, 50.15it/s, v_num=17, train_acc=0.780, val_acc=0.965]\u001b[A"
     ]
    },
    {
     "name": "stderr",
     "output_type": "stream",
     "text": [
      "Metric val_loss improved by 0.003 >= min_delta = 0.0. New best score: 0.188\n"
     ]
    },
    {
     "name": "stdout",
     "output_type": "stream",
     "text": [
      "Epoch 225: 100%|█████████████████████████████| 25/25 [00:00<00:00, 69.82it/s, v_num=17, train_acc=0.795, val_acc=0.965]\n",
      "Validation: |                                                                                    | 0/? [00:00<?, ?it/s]\u001b[A\n",
      "Validation:   0%|                                                                                | 0/9 [00:00<?, ?it/s]\u001b[A\n",
      "Validation DataLoader 0:   0%|                                                                   | 0/9 [00:00<?, ?it/s]\u001b[A\n",
      "Validation DataLoader 0:  11%|██████▌                                                    | 1/9 [00:00<00:00, 59.72it/s]\u001b[A\n",
      "Validation DataLoader 0:  22%|█████████████                                              | 2/9 [00:00<00:00, 80.84it/s]\u001b[A\n",
      "Validation DataLoader 0:  33%|███████████████████▋                                       | 3/9 [00:00<00:00, 72.42it/s]\u001b[A\n",
      "Validation DataLoader 0:  44%|██████████████████████████▏                                | 4/9 [00:00<00:00, 79.92it/s]\u001b[A\n",
      "Validation DataLoader 0:  56%|████████████████████████████████▊                          | 5/9 [00:00<00:00, 86.13it/s]\u001b[A\n",
      "Validation DataLoader 0:  67%|███████████████████████████████████████▎                   | 6/9 [00:00<00:00, 80.25it/s]\u001b[A\n",
      "Validation DataLoader 0:  78%|█████████████████████████████████████████████▉             | 7/9 [00:00<00:00, 84.44it/s]\u001b[A\n",
      "Validation DataLoader 0:  89%|████████████████████████████████████████████████████▍      | 8/9 [00:00<00:00, 79.84it/s]\u001b[A\n",
      "Validation DataLoader 0: 100%|███████████████████████████████████████████████████████████| 9/9 [00:00<00:00, 83.18it/s]\u001b[A\n",
      "Epoch 226: 100%|█████████████████████████████| 25/25 [00:00<00:00, 69.95it/s, v_num=17, train_acc=0.803, val_acc=0.970]\u001b[A\n",
      "Validation: |                                                                                    | 0/? [00:00<?, ?it/s]\u001b[A\n",
      "Validation:   0%|                                                                                | 0/9 [00:00<?, ?it/s]\u001b[A\n",
      "Validation DataLoader 0:   0%|                                                                   | 0/9 [00:00<?, ?it/s]\u001b[A\n",
      "Validation DataLoader 0:  11%|██████▌                                                    | 1/9 [00:00<00:00, 62.54it/s]\u001b[A\n",
      "Validation DataLoader 0:  22%|█████████████                                              | 2/9 [00:00<00:00, 83.38it/s]\u001b[A\n",
      "Validation DataLoader 0:  33%|███████████████████▋                                       | 3/9 [00:00<00:00, 75.05it/s]\u001b[A\n",
      "Validation DataLoader 0:  44%|██████████████████████████▏                                | 4/9 [00:00<00:00, 83.38it/s]\u001b[A\n",
      "Validation DataLoader 0:  56%|████████████████████████████████▊                          | 5/9 [00:00<00:00, 78.18it/s]\u001b[A\n",
      "Validation DataLoader 0:  67%|███████████████████████████████████████▎                   | 6/9 [00:00<00:00, 83.39it/s]\u001b[A\n",
      "Validation DataLoader 0:  78%|█████████████████████████████████████████████▉             | 7/9 [00:00<00:00, 79.60it/s]\u001b[A\n",
      "Validation DataLoader 0:  89%|████████████████████████████████████████████████████▍      | 8/9 [00:00<00:00, 83.39it/s]\u001b[A\n",
      "Validation DataLoader 0: 100%|███████████████████████████████████████████████████████████| 9/9 [00:00<00:00, 80.41it/s]\u001b[A\n",
      "Epoch 227: 100%|█████████████████████████████| 25/25 [00:00<00:00, 68.40it/s, v_num=17, train_acc=0.819, val_acc=0.972]\u001b[A\n",
      "Validation: |                                                                                    | 0/? [00:00<?, ?it/s]\u001b[A\n",
      "Validation:   0%|                                                                                | 0/9 [00:00<?, ?it/s]\u001b[A\n",
      "Validation DataLoader 0:   0%|                                                                   | 0/9 [00:00<?, ?it/s]\u001b[A\n",
      "Validation DataLoader 0:  11%|██████▍                                                   | 1/9 [00:00<00:00, 125.05it/s]\u001b[A\n",
      "Validation DataLoader 0:  22%|█████████████                                              | 2/9 [00:00<00:00, 81.14it/s]\u001b[A\n",
      "Validation DataLoader 0:  33%|███████████████████▋                                       | 3/9 [00:00<00:00, 90.35it/s]\u001b[A\n",
      "Validation DataLoader 0:  44%|██████████████████████████▏                                | 4/9 [00:00<00:00, 97.09it/s]\u001b[A\n",
      "Validation DataLoader 0:  56%|████████████████████████████████▊                          | 5/9 [00:00<00:00, 86.28it/s]\u001b[A\n",
      "Validation DataLoader 0:  67%|███████████████████████████████████████▎                   | 6/9 [00:00<00:00, 88.20it/s]\u001b[A\n",
      "Validation DataLoader 0:  78%|█████████████████████████████████████████████▉             | 7/9 [00:00<00:00, 84.09it/s]\u001b[A\n",
      "Validation DataLoader 0:  89%|████████████████████████████████████████████████████▍      | 8/9 [00:00<00:00, 87.68it/s]\u001b[A\n",
      "Validation DataLoader 0: 100%|███████████████████████████████████████████████████████████| 9/9 [00:00<00:00, 90.06it/s]\u001b[A\n",
      "Epoch 228: 100%|█████████████████████████████| 25/25 [00:00<00:00, 71.42it/s, v_num=17, train_acc=0.819, val_acc=0.964]\u001b[A\n",
      "Validation: |                                                                                    | 0/? [00:00<?, ?it/s]\u001b[A\n",
      "Validation:   0%|                                                                                | 0/9 [00:00<?, ?it/s]\u001b[A\n",
      "Validation DataLoader 0:   0%|                                                                   | 0/9 [00:00<?, ?it/s]\u001b[A\n",
      "Validation DataLoader 0:  11%|██████▌                                                    | 1/9 [00:00<00:00, 60.13it/s]\u001b[A\n",
      "Validation DataLoader 0:  22%|█████████████                                              | 2/9 [00:00<00:00, 60.06it/s]\u001b[A\n",
      "Validation DataLoader 0:  33%|███████████████████▋                                       | 3/9 [00:00<00:00, 72.65it/s]\u001b[A\n",
      "Validation DataLoader 0:  44%|██████████████████████████▏                                | 4/9 [00:00<00:00, 80.07it/s]\u001b[A\n",
      "Validation DataLoader 0:  56%|████████████████████████████████▊                          | 5/9 [00:00<00:00, 74.96it/s]\u001b[A\n",
      "Validation DataLoader 0:  67%|███████████████████████████████████████▎                   | 6/9 [00:00<00:00, 80.32it/s]\u001b[A\n",
      "Validation DataLoader 0:  78%|█████████████████████████████████████████████▉             | 7/9 [00:00<00:00, 77.18it/s]\u001b[A\n",
      "Validation DataLoader 0:  89%|████████████████████████████████████████████████████▍      | 8/9 [00:00<00:00, 80.04it/s]\u001b[A\n",
      "Validation DataLoader 0: 100%|███████████████████████████████████████████████████████████| 9/9 [00:00<00:00, 83.37it/s]\u001b[A\n",
      "Epoch 229: 100%|█████████████████████████████| 25/25 [00:00<00:00, 68.17it/s, v_num=17, train_acc=0.819, val_acc=0.964]\u001b[A\n",
      "Validation: |                                                                                    | 0/? [00:00<?, ?it/s]\u001b[A\n",
      "Validation:   0%|                                                                                | 0/9 [00:00<?, ?it/s]\u001b[A\n",
      "Validation DataLoader 0:   0%|                                                                   | 0/9 [00:00<?, ?it/s]\u001b[A\n",
      "Validation DataLoader 0:  11%|██████▌                                                    | 1/9 [00:00<00:00, 59.70it/s]\u001b[A\n",
      "Validation DataLoader 0:  22%|█████████████                                              | 2/9 [00:00<00:00, 78.81it/s]\u001b[A\n",
      "Validation DataLoader 0:  33%|███████████████████▋                                       | 3/9 [00:00<00:00, 89.88it/s]\u001b[A\n",
      "Validation DataLoader 0:  44%|██████████████████████████▏                                | 4/9 [00:00<00:00, 79.93it/s]\u001b[A\n",
      "Validation DataLoader 0:  56%|████████████████████████████████▊                          | 5/9 [00:00<00:00, 83.21it/s]\u001b[A\n",
      "Validation DataLoader 0:  67%|███████████████████████████████████████▎                   | 6/9 [00:00<00:00, 88.12it/s]\u001b[A\n",
      "Validation DataLoader 0:  78%|█████████████████████████████████████████████▉             | 7/9 [00:00<00:00, 84.00it/s]\u001b[A\n",
      "Validation DataLoader 0:  89%|████████████████████████████████████████████████████▍      | 8/9 [00:00<00:00, 86.89it/s]\u001b[A\n",
      "Validation DataLoader 0: 100%|███████████████████████████████████████████████████████████| 9/9 [00:00<00:00, 82.80it/s]\u001b[A\n",
      "Epoch 230: 100%|█████████████████████████████| 25/25 [00:00<00:00, 69.92it/s, v_num=17, train_acc=0.843, val_acc=0.963]\u001b[A\n",
      "Validation: |                                                                                    | 0/? [00:00<?, ?it/s]\u001b[A\n",
      "Validation:   0%|                                                                                | 0/9 [00:00<?, ?it/s]\u001b[A\n",
      "Validation DataLoader 0:   0%|                                                                   | 0/9 [00:00<?, ?it/s]\u001b[A\n",
      "Validation DataLoader 0:  11%|██████▌                                                    | 1/9 [00:00<00:00, 62.54it/s]\u001b[A\n",
      "Validation DataLoader 0:  22%|█████████████                                              | 2/9 [00:00<00:00, 83.39it/s]\u001b[A\n",
      "Validation DataLoader 0:  33%|███████████████████▋                                       | 3/9 [00:00<00:00, 75.05it/s]\u001b[A\n",
      "Validation DataLoader 0:  44%|██████████████████████████▏                                | 4/9 [00:00<00:00, 77.04it/s]\u001b[A\n",
      "Validation DataLoader 0:  56%|████████████████████████████████▊                          | 5/9 [00:00<00:00, 72.88it/s]\u001b[A\n",
      "Validation DataLoader 0:  67%|███████████████████████████████████████▎                   | 6/9 [00:00<00:00, 78.33it/s]\u001b[A\n",
      "Validation DataLoader 0:  78%|█████████████████████████████████████████████▉             | 7/9 [00:00<00:00, 82.12it/s]\u001b[A\n",
      "Validation DataLoader 0:  89%|████████████████████████████████████████████████████▍      | 8/9 [00:00<00:00, 78.49it/s]\u001b[A\n",
      "Validation DataLoader 0: 100%|███████████████████████████████████████████████████████████| 9/9 [00:00<00:00, 81.87it/s]\u001b[A\n",
      "Epoch 231: 100%|█████████████████████████████| 25/25 [00:00<00:00, 69.67it/s, v_num=17, train_acc=0.827, val_acc=0.968]\u001b[A\n",
      "Validation: |                                                                                    | 0/? [00:00<?, ?it/s]\u001b[A\n",
      "Validation:   0%|                                                                                | 0/9 [00:00<?, ?it/s]\u001b[A\n",
      "Validation DataLoader 0:   0%|                                                                   | 0/9 [00:00<?, ?it/s]\u001b[A\n",
      "Validation DataLoader 0:  11%|██████▌                                                    | 1/9 [00:00<00:00, 59.88it/s]\u001b[A\n",
      "Validation DataLoader 0:  22%|█████████████                                              | 2/9 [00:00<00:00, 61.18it/s]\u001b[A\n",
      "Validation DataLoader 0:  33%|███████████████████▋                                       | 3/9 [00:00<00:00, 73.74it/s]\u001b[A\n",
      "Validation DataLoader 0:  44%|██████████████████████████▏                                | 4/9 [00:00<00:00, 68.99it/s]\u001b[A\n",
      "Validation DataLoader 0:  56%|████████████████████████████████▊                          | 5/9 [00:00<00:00, 75.00it/s]\u001b[A\n",
      "Validation DataLoader 0:  67%|███████████████████████████████████████▎                   | 6/9 [00:00<00:00, 80.36it/s]\u001b[A\n",
      "Validation DataLoader 0:  78%|█████████████████████████████████████████████▉             | 7/9 [00:00<00:00, 76.53it/s]\u001b[A\n",
      "Validation DataLoader 0:  89%|████████████████████████████████████████████████████▍      | 8/9 [00:00<00:00, 80.13it/s]\u001b[A\n",
      "Validation DataLoader 0: 100%|███████████████████████████████████████████████████████████| 9/9 [00:00<00:00, 83.46it/s]\u001b[A\n",
      "Epoch 232: 100%|█████████████████████████████| 25/25 [00:00<00:00, 67.97it/s, v_num=17, train_acc=0.843, val_acc=0.972]\u001b[A\n",
      "Validation: |                                                                                    | 0/? [00:00<?, ?it/s]\u001b[A\n",
      "Validation:   0%|                                                                                | 0/9 [00:00<?, ?it/s]\u001b[A\n",
      "Validation DataLoader 0:   0%|                                                                   | 0/9 [00:00<?, ?it/s]\u001b[A\n",
      "Validation DataLoader 0:  11%|██████▌                                                    | 1/9 [00:00<00:00, 60.09it/s]\u001b[A\n",
      "Validation DataLoader 0:  22%|█████████████                                              | 2/9 [00:00<00:00, 80.67it/s]\u001b[A\n",
      "Validation DataLoader 0:  33%|███████████████████▋                                       | 3/9 [00:00<00:00, 71.45it/s]\u001b[A\n",
      "Validation DataLoader 0:  44%|██████████████████████████▏                                | 4/9 [00:00<00:00, 80.02it/s]\u001b[A\n",
      "Validation DataLoader 0:  56%|████████████████████████████████▊                          | 5/9 [00:00<00:00, 85.10it/s]\u001b[A\n",
      "Validation DataLoader 0:  67%|███████████████████████████████████████▎                   | 6/9 [00:00<00:00, 79.61it/s]\u001b[A\n",
      "Validation DataLoader 0:  78%|█████████████████████████████████████████████▉             | 7/9 [00:00<00:00, 83.97it/s]\u001b[A\n",
      "Validation DataLoader 0:  89%|████████████████████████████████████████████████████▍      | 8/9 [00:00<00:00, 79.96it/s]\u001b[A\n",
      "Validation DataLoader 0: 100%|███████████████████████████████████████████████████████████| 9/9 [00:00<00:00, 82.85it/s]\u001b[A\n",
      "Epoch 233: 100%|█████████████████████████████| 25/25 [00:00<00:00, 73.24it/s, v_num=17, train_acc=0.827, val_acc=0.965]\u001b[A\n",
      "Validation: |                                                                                    | 0/? [00:00<?, ?it/s]\u001b[A\n",
      "Validation:   0%|                                                                                | 0/9 [00:00<?, ?it/s]\u001b[A\n",
      "Validation DataLoader 0:   0%|                                                                   | 0/9 [00:00<?, ?it/s]\u001b[A\n",
      "Validation DataLoader 0:  11%|██████▌                                                    | 1/9 [00:00<00:00, 59.76it/s]\u001b[A\n",
      "Validation DataLoader 0:  22%|█████████████                                              | 2/9 [00:00<00:00, 78.78it/s]\u001b[A\n",
      "Validation DataLoader 0:  33%|███████████████████▋                                       | 3/9 [00:00<00:00, 71.37it/s]\u001b[A\n",
      "Validation DataLoader 0:  44%|██████████████████████████▏                                | 4/9 [00:00<00:00, 79.95it/s]\u001b[A\n",
      "Validation DataLoader 0:  56%|████████████████████████████████▊                          | 5/9 [00:00<00:00, 75.73it/s]\u001b[A\n",
      "Validation DataLoader 0:  67%|███████████████████████████████████████▎                   | 6/9 [00:00<00:00, 79.55it/s]\u001b[A\n",
      "Validation DataLoader 0:  78%|█████████████████████████████████████████████▉             | 7/9 [00:00<00:00, 76.09it/s]\u001b[A\n",
      "Validation DataLoader 0:  89%|████████████████████████████████████████████████████▍      | 8/9 [00:00<00:00, 80.01it/s]\u001b[A\n",
      "Validation DataLoader 0: 100%|███████████████████████████████████████████████████████████| 9/9 [00:00<00:00, 77.60it/s]\u001b[A\n",
      "Epoch 234: 100%|█████████████████████████████| 25/25 [00:00<00:00, 69.79it/s, v_num=17, train_acc=0.811, val_acc=0.967]\u001b[A\n",
      "Validation: |                                                                                    | 0/? [00:00<?, ?it/s]\u001b[A\n",
      "Validation:   0%|                                                                                | 0/9 [00:00<?, ?it/s]\u001b[A\n",
      "Validation DataLoader 0:   0%|                                                                   | 0/9 [00:00<?, ?it/s]\u001b[A\n",
      "Validation DataLoader 0:  11%|██████▌                                                    | 1/9 [00:00<00:00, 62.54it/s]\u001b[A\n",
      "Validation DataLoader 0:  22%|█████████████                                              | 2/9 [00:00<00:00, 78.80it/s]\u001b[A\n",
      "Validation DataLoader 0:  33%|███████████████████▋                                       | 3/9 [00:00<00:00, 71.31it/s]\u001b[A\n",
      "Validation DataLoader 0:  44%|██████████████████████████▏                                | 4/9 [00:00<00:00, 79.89it/s]\u001b[A\n",
      "Validation DataLoader 0:  56%|████████████████████████████████▊                          | 5/9 [00:00<00:00, 75.69it/s]\u001b[A\n",
      "Validation DataLoader 0:  67%|███████████████████████████████████████▎                   | 6/9 [00:00<00:00, 81.03it/s]\u001b[A\n",
      "Validation DataLoader 0:  78%|█████████████████████████████████████████████▉             | 7/9 [00:00<00:00, 77.74it/s]\u001b[A\n",
      "Validation DataLoader 0:  89%|████████████████████████████████████████████████████▍      | 8/9 [00:00<00:00, 81.60it/s]\u001b[A\n",
      "Validation DataLoader 0: 100%|███████████████████████████████████████████████████████████| 9/9 [00:00<00:00, 84.88it/s]\u001b[A\n",
      "Epoch 235: 100%|█████████████████████████████| 25/25 [00:00<00:00, 73.23it/s, v_num=17, train_acc=0.843, val_acc=0.969]\u001b[A\n",
      "Validation: |                                                                                    | 0/? [00:00<?, ?it/s]\u001b[A\n",
      "Validation:   0%|                                                                                | 0/9 [00:00<?, ?it/s]\u001b[A\n",
      "Validation DataLoader 0:   0%|                                                                   | 0/9 [00:00<?, ?it/s]\u001b[A\n",
      "Validation DataLoader 0:  11%|██████▍                                                   | 1/9 [00:00<00:00, 120.73it/s]\u001b[A\n",
      "Validation DataLoader 0:  22%|████████████▉                                             | 2/9 [00:00<00:00, 117.75it/s]\u001b[A\n",
      "Validation DataLoader 0:  33%|███████████████████▋                                       | 3/9 [00:00<00:00, 89.38it/s]\u001b[A\n",
      "Validation DataLoader 0:  44%|██████████████████████████▏                                | 4/9 [00:00<00:00, 96.25it/s]\u001b[A\n",
      "Validation DataLoader 0:  56%|████████████████████████████████▊                          | 5/9 [00:00<00:00, 99.36it/s]\u001b[A\n",
      "Validation DataLoader 0:  67%|███████████████████████████████████████▎                   | 6/9 [00:00<00:00, 87.81it/s]\u001b[A\n",
      "Validation DataLoader 0:  78%|█████████████████████████████████████████████▉             | 7/9 [00:00<00:00, 83.67it/s]\u001b[A\n",
      "Validation DataLoader 0:  89%|████████████████████████████████████████████████████▍      | 8/9 [00:00<00:00, 87.28it/s]\u001b[A\n",
      "Validation DataLoader 0: 100%|███████████████████████████████████████████████████████████| 9/9 [00:00<00:00, 89.72it/s]\u001b[A\n",
      "Epoch 236: 100%|█████████████████████████████| 25/25 [00:00<00:00, 68.17it/s, v_num=17, train_acc=0.748, val_acc=0.967]\u001b[A\n",
      "Validation: |                                                                                    | 0/? [00:00<?, ?it/s]\u001b[A\n",
      "Validation:   0%|                                                                                | 0/9 [00:00<?, ?it/s]\u001b[A\n",
      "Validation DataLoader 0:   0%|                                                                   | 0/9 [00:00<?, ?it/s]\u001b[A\n",
      "Validation DataLoader 0:  11%|██████▌                                                    | 1/9 [00:00<00:00, 59.90it/s]\u001b[A\n",
      "Validation DataLoader 0:  22%|█████████████                                              | 2/9 [00:00<00:00, 81.00it/s]\u001b[A\n",
      "Validation DataLoader 0:  33%|███████████████████▋                                       | 3/9 [00:00<00:00, 71.70it/s]\u001b[A\n",
      "Validation DataLoader 0:  44%|██████████████████████████▏                                | 4/9 [00:00<00:00, 80.27it/s]\u001b[A\n",
      "Validation DataLoader 0:  56%|████████████████████████████████▊                          | 5/9 [00:00<00:00, 86.46it/s]\u001b[A\n",
      "Validation DataLoader 0:  67%|███████████████████████████████████████▎                   | 6/9 [00:00<00:00, 81.27it/s]\u001b[A\n",
      "Validation DataLoader 0:  78%|█████████████████████████████████████████████▉             | 7/9 [00:00<00:00, 85.56it/s]\u001b[A\n",
      "Validation DataLoader 0:  89%|████████████████████████████████████████████████████▍      | 8/9 [00:00<00:00, 89.08it/s]\u001b[A\n",
      "Validation DataLoader 0: 100%|███████████████████████████████████████████████████████████| 9/9 [00:00<00:00, 83.33it/s]\u001b[A\n",
      "Epoch 237: 100%|█████████████████████████████| 25/25 [00:00<00:00, 66.72it/s, v_num=17, train_acc=0.827, val_acc=0.967]\u001b[A\n",
      "Validation: |                                                                                    | 0/? [00:00<?, ?it/s]\u001b[A\n",
      "Validation:   0%|                                                                                | 0/9 [00:00<?, ?it/s]\u001b[A\n",
      "Validation DataLoader 0:   0%|                                                                   | 0/9 [00:00<?, ?it/s]\u001b[A\n",
      "Validation DataLoader 0:  11%|██████▌                                                    | 1/9 [00:00<00:00, 60.22it/s]\u001b[A\n",
      "Validation DataLoader 0:  22%|█████████████                                              | 2/9 [00:00<00:00, 79.06it/s]\u001b[A\n",
      "Validation DataLoader 0:  33%|███████████████████▋                                       | 3/9 [00:00<00:00, 72.66it/s]\u001b[A\n",
      "Validation DataLoader 0:  44%|██████████████████████████▏                                | 4/9 [00:00<00:00, 81.16it/s]\u001b[A\n",
      "Validation DataLoader 0:  56%|████████████████████████████████▊                          | 5/9 [00:00<00:00, 87.29it/s]\u001b[A\n",
      "Validation DataLoader 0:  67%|███████████████████████████████████████▎                   | 6/9 [00:00<00:00, 81.89it/s]\u001b[A\n",
      "Validation DataLoader 0:  78%|█████████████████████████████████████████████▉             | 7/9 [00:00<00:00, 86.14it/s]\u001b[A\n",
      "Validation DataLoader 0:  89%|████████████████████████████████████████████████████▍      | 8/9 [00:00<00:00, 80.03it/s]\u001b[A\n",
      "Validation DataLoader 0: 100%|███████████████████████████████████████████████████████████| 9/9 [00:00<00:00, 82.46it/s]\u001b[A\n",
      "Epoch 238: 100%|█████████████████████████████| 25/25 [00:00<00:00, 68.15it/s, v_num=17, train_acc=0.850, val_acc=0.972]\u001b[A\n",
      "Validation: |                                                                                    | 0/? [00:00<?, ?it/s]\u001b[A\n",
      "Validation:   0%|                                                                                | 0/9 [00:00<?, ?it/s]\u001b[A\n",
      "Validation DataLoader 0:   0%|                                                                   | 0/9 [00:00<?, ?it/s]\u001b[A\n",
      "Validation DataLoader 0:  11%|██████▌                                                    | 1/9 [00:00<00:00, 60.05it/s]\u001b[A\n",
      "Validation DataLoader 0:  22%|█████████████                                              | 2/9 [00:00<00:00, 81.12it/s]\u001b[A\n",
      "Validation DataLoader 0:  33%|███████████████████▋                                       | 3/9 [00:00<00:00, 72.56it/s]\u001b[A\n",
      "Validation DataLoader 0:  44%|██████████████████████████▏                                | 4/9 [00:00<00:00, 79.89it/s]\u001b[A\n",
      "Validation DataLoader 0:  56%|████████████████████████████████▊                          | 5/9 [00:00<00:00, 86.11it/s]\u001b[A\n",
      "Validation DataLoader 0:  67%|███████████████████████████████████████▎                   | 6/9 [00:00<00:00, 90.00it/s]\u001b[A\n",
      "Validation DataLoader 0:  78%|█████████████████████████████████████████████▉             | 7/9 [00:00<00:00, 83.96it/s]\u001b[A\n",
      "Validation DataLoader 0:  89%|████████████████████████████████████████████████████▍      | 8/9 [00:00<00:00, 80.46it/s]\u001b[A\n",
      "Validation DataLoader 0: 100%|███████████████████████████████████████████████████████████| 9/9 [00:00<00:00, 83.39it/s]\u001b[A\n",
      "Epoch 239: 100%|█████████████████████████████| 25/25 [00:00<00:00, 69.89it/s, v_num=17, train_acc=0.803, val_acc=0.963]\u001b[A\n",
      "Validation: |                                                                                    | 0/? [00:00<?, ?it/s]\u001b[A\n",
      "Validation:   0%|                                                                                | 0/9 [00:00<?, ?it/s]\u001b[A\n",
      "Validation DataLoader 0:   0%|                                                                   | 0/9 [00:00<?, ?it/s]\u001b[A\n",
      "Validation DataLoader 0:  11%|██████▍                                                   | 1/9 [00:00<00:00, 125.06it/s]\u001b[A\n",
      "Validation DataLoader 0:  22%|█████████████                                              | 2/9 [00:00<00:00, 80.56it/s]\u001b[A\n",
      "Validation DataLoader 0:  33%|███████████████████▋                                       | 3/9 [00:00<00:00, 89.86it/s]\u001b[A\n",
      "Validation DataLoader 0:  44%|██████████████████████████▏                                | 4/9 [00:00<00:00, 80.78it/s]\u001b[A\n",
      "Validation DataLoader 0:  56%|████████████████████████████████▊                          | 5/9 [00:00<00:00, 86.93it/s]\u001b[A\n",
      "Validation DataLoader 0:  67%|███████████████████████████████████████▎                   | 6/9 [00:00<00:00, 81.62it/s]\u001b[A\n",
      "Validation DataLoader 0:  78%|█████████████████████████████████████████████▉             | 7/9 [00:00<00:00, 83.85it/s]\u001b[A\n",
      "Validation DataLoader 0:  89%|████████████████████████████████████████████████████▍      | 8/9 [00:00<00:00, 79.92it/s]\u001b[A\n",
      "Validation DataLoader 0: 100%|███████████████████████████████████████████████████████████| 9/9 [00:00<00:00, 83.26it/s]\u001b[A\n",
      "Epoch 240: 100%|█████████████████████████████| 25/25 [00:00<00:00, 68.15it/s, v_num=17, train_acc=0.787, val_acc=0.969]\u001b[A\n",
      "Validation: |                                                                                    | 0/? [00:00<?, ?it/s]\u001b[A\n",
      "Validation:   0%|                                                                                | 0/9 [00:00<?, ?it/s]\u001b[A\n",
      "Validation DataLoader 0:   0%|                                                                   | 0/9 [00:00<?, ?it/s]\u001b[A\n",
      "Validation DataLoader 0:  11%|██████▌                                                    | 1/9 [00:00<00:00, 62.55it/s]\u001b[A\n",
      "Validation DataLoader 0:  22%|█████████████                                              | 2/9 [00:00<00:00, 83.40it/s]\u001b[A\n",
      "Validation DataLoader 0:  33%|███████████████████▋                                       | 3/9 [00:00<00:00, 75.06it/s]\u001b[A\n",
      "Validation DataLoader 0:  44%|██████████████████████████▏                                | 4/9 [00:00<00:00, 79.05it/s]\u001b[A\n",
      "Validation DataLoader 0:  56%|████████████████████████████████▊                          | 5/9 [00:00<00:00, 85.33it/s]\u001b[A\n",
      "Validation DataLoader 0:  67%|███████████████████████████████████████▎                   | 6/9 [00:00<00:00, 79.62it/s]\u001b[A\n",
      "Validation DataLoader 0:  78%|█████████████████████████████████████████████▉             | 7/9 [00:00<00:00, 83.33it/s]\u001b[A\n",
      "Validation DataLoader 0:  89%|████████████████████████████████████████████████████▍      | 8/9 [00:00<00:00, 79.73it/s]\u001b[A\n",
      "Validation DataLoader 0: 100%|███████████████████████████████████████████████████████████| 9/9 [00:00<00:00, 83.07it/s]\u001b[A\n",
      "Epoch 241: 100%|█████████████████████████████| 25/25 [00:00<00:00, 66.71it/s, v_num=17, train_acc=0.819, val_acc=0.964]\u001b[A\n",
      "Validation: |                                                                                    | 0/? [00:00<?, ?it/s]\u001b[A\n",
      "Validation:   0%|                                                                                | 0/9 [00:00<?, ?it/s]\u001b[A\n",
      "Validation DataLoader 0:   0%|                                                                   | 0/9 [00:00<?, ?it/s]\u001b[A\n",
      "Validation DataLoader 0:  11%|██████▌                                                    | 1/9 [00:00<00:00, 62.54it/s]\u001b[A\n",
      "Validation DataLoader 0:  22%|█████████████                                              | 2/9 [00:00<00:00, 78.97it/s]\u001b[A\n",
      "Validation DataLoader 0:  33%|███████████████████▋                                       | 3/9 [00:00<00:00, 90.03it/s]\u001b[A\n",
      "Validation DataLoader 0:  44%|██████████████████████████▏                                | 4/9 [00:00<00:00, 79.00it/s]\u001b[A\n",
      "Validation DataLoader 0:  56%|████████████████████████████████▊                          | 5/9 [00:00<00:00, 85.28it/s]\u001b[A\n",
      "Validation DataLoader 0:  67%|███████████████████████████████████████▎                   | 6/9 [00:00<00:00, 79.71it/s]\u001b[A\n",
      "Validation DataLoader 0:  78%|█████████████████████████████████████████████▉             | 7/9 [00:00<00:00, 83.42it/s]\u001b[A\n",
      "Validation DataLoader 0:  89%|████████████████████████████████████████████████████▍      | 8/9 [00:00<00:00, 79.92it/s]\u001b[A\n",
      "Validation DataLoader 0: 100%|███████████████████████████████████████████████████████████| 9/9 [00:00<00:00, 82.79it/s]\u001b[A\n",
      "Epoch 242: 100%|█████████████████████████████| 25/25 [00:00<00:00, 71.16it/s, v_num=17, train_acc=0.835, val_acc=0.967]\u001b[A\n",
      "Validation: |                                                                                    | 0/? [00:00<?, ?it/s]\u001b[A\n",
      "Validation:   0%|                                                                                | 0/9 [00:00<?, ?it/s]\u001b[A\n",
      "Validation DataLoader 0:   0%|                                                                   | 0/9 [00:00<?, ?it/s]\u001b[A\n",
      "Validation DataLoader 0:  11%|██████▌                                                    | 1/9 [00:00<00:00, 41.69it/s]\u001b[A\n",
      "Validation DataLoader 0:  22%|█████████████                                              | 2/9 [00:00<00:00, 62.54it/s]\u001b[A\n",
      "Validation DataLoader 0:  33%|███████████████████▋                                       | 3/9 [00:00<00:00, 62.54it/s]\u001b[A\n",
      "Validation DataLoader 0:  44%|██████████████████████████▏                                | 4/9 [00:00<00:00, 68.10it/s]\u001b[A\n",
      "Validation DataLoader 0:  56%|████████████████████████████████▊                          | 5/9 [00:00<00:00, 74.93it/s]\u001b[A\n",
      "Validation DataLoader 0:  67%|███████████████████████████████████████▎                   | 6/9 [00:00<00:00, 79.57it/s]\u001b[A\n",
      "Validation DataLoader 0:  78%|█████████████████████████████████████████████▉             | 7/9 [00:00<00:00, 76.05it/s]\u001b[A\n",
      "Validation DataLoader 0:  89%|████████████████████████████████████████████████████▍      | 8/9 [00:00<00:00, 79.97it/s]\u001b[A\n",
      "Validation DataLoader 0: 100%|███████████████████████████████████████████████████████████| 9/9 [00:00<00:00, 76.94it/s]\u001b[A\n",
      "Epoch 243: 100%|█████████████████████████████| 25/25 [00:00<00:00, 73.36it/s, v_num=17, train_acc=0.827, val_acc=0.965]\u001b[A\n",
      "Validation: |                                                                                    | 0/? [00:00<?, ?it/s]\u001b[A\n",
      "Validation:   0%|                                                                                | 0/9 [00:00<?, ?it/s]\u001b[A\n",
      "Validation DataLoader 0:   0%|                                                                   | 0/9 [00:00<?, ?it/s]\u001b[A\n",
      "Validation DataLoader 0:  11%|██████▌                                                    | 1/9 [00:00<00:00, 93.70it/s]\u001b[A\n",
      "Validation DataLoader 0:  22%|█████████████                                              | 2/9 [00:00<00:00, 72.92it/s]\u001b[A\n",
      "Validation DataLoader 0:  33%|███████████████████▋                                       | 3/9 [00:00<00:00, 84.68it/s]\u001b[A\n",
      "Validation DataLoader 0:  44%|██████████████████████████▏                                | 4/9 [00:00<00:00, 90.21it/s]\u001b[A\n",
      "Validation DataLoader 0:  56%|████████████████████████████████▊                          | 5/9 [00:00<00:00, 83.25it/s]\u001b[A\n",
      "Validation DataLoader 0:  67%|███████████████████████████████████████▎                   | 6/9 [00:00<00:00, 78.90it/s]\u001b[A\n",
      "Validation DataLoader 0:  78%|█████████████████████████████████████████████▉             | 7/9 [00:00<00:00, 83.29it/s]\u001b[A\n",
      "Validation DataLoader 0:  89%|████████████████████████████████████████████████████▍      | 8/9 [00:00<00:00, 85.02it/s]\u001b[A\n",
      "Validation DataLoader 0: 100%|███████████████████████████████████████████████████████████| 9/9 [00:00<00:00, 81.28it/s]\u001b[A\n",
      "Epoch 244: 100%|█████████████████████████████| 25/25 [00:00<00:00, 68.06it/s, v_num=17, train_acc=0.772, val_acc=0.971]\u001b[A\n",
      "Validation: |                                                                                    | 0/? [00:00<?, ?it/s]\u001b[A\n",
      "Validation:   0%|                                                                                | 0/9 [00:00<?, ?it/s]\u001b[A\n",
      "Validation DataLoader 0:   0%|                                                                   | 0/9 [00:00<?, ?it/s]\u001b[A\n",
      "Validation DataLoader 0:  11%|██████▌                                                    | 1/9 [00:00<00:00, 59.65it/s]\u001b[A\n",
      "Validation DataLoader 0:  22%|█████████████                                              | 2/9 [00:00<00:00, 80.77it/s]\u001b[A\n",
      "Validation DataLoader 0:  33%|███████████████████▋                                       | 3/9 [00:00<00:00, 89.71it/s]\u001b[A\n",
      "Validation DataLoader 0:  44%|██████████████████████████▏                                | 4/9 [00:00<00:00, 79.85it/s]\u001b[A\n",
      "Validation DataLoader 0:  56%|████████████████████████████████▊                          | 5/9 [00:00<00:00, 86.08it/s]\u001b[A\n",
      "Validation DataLoader 0:  67%|███████████████████████████████████████▎                   | 6/9 [00:00<00:00, 89.62it/s]\u001b[A\n",
      "Validation DataLoader 0:  78%|█████████████████████████████████████████████▉             | 7/9 [00:00<00:00, 84.59it/s]\u001b[A\n",
      "Validation DataLoader 0:  89%|████████████████████████████████████████████████████▍      | 8/9 [00:00<00:00, 81.02it/s]\u001b[A\n",
      "Validation DataLoader 0: 100%|███████████████████████████████████████████████████████████| 9/9 [00:00<00:00, 84.32it/s]\u001b[A\n",
      "Epoch 244: 100%|█████████████████████████████| 25/25 [00:00<00:00, 49.13it/s, v_num=17, train_acc=0.772, val_acc=0.963]\u001b[A"
     ]
    },
    {
     "name": "stderr",
     "output_type": "stream",
     "text": [
      "Monitored metric val_loss did not improve in the last 20 records. Best score: 0.188. Signaling Trainer to stop.\n"
     ]
    },
    {
     "name": "stdout",
     "output_type": "stream",
     "text": [
      "Epoch 244: 100%|█████████████████████████████| 25/25 [00:00<00:00, 48.31it/s, v_num=17, train_acc=0.772, val_acc=0.963]\n"
     ]
    }
   ],
   "source": [
    "# Train the model\n",
    "trainer.fit(model, train_loader, val_loader)"
   ]
  },
  {
   "cell_type": "code",
   "execution_count": 116,
   "id": "0618a69b-7c16-4f9c-9486-d90459207e5a",
   "metadata": {},
   "outputs": [],
   "source": [
    "# Load the best model\n",
    "best_model = KeypointClassifier.load_from_checkpoint(model_save_path)"
   ]
  },
  {
   "cell_type": "code",
   "execution_count": 117,
   "id": "547bc160-b743-4a6b-8383-304bbf64ae34",
   "metadata": {},
   "outputs": [
    {
     "name": "stdout",
     "output_type": "stream",
     "text": [
      "[1.4049451e-01 7.4015995e-03 8.5059530e-01 2.4867672e-06 1.5061222e-03]\n",
      "2\n"
     ]
    }
   ],
   "source": [
    "best_model.eval()\n",
    "with torch.no_grad():\n",
    "    test_sample = X_test_tensor[0].unsqueeze(0)\n",
    "    output = best_model(test_sample)\n",
    "    probs = torch.softmax(output, dim=1)\n",
    "    print(probs.squeeze().numpy())\n",
    "    print(torch.argmax(probs).item())"
   ]
  },
  {
   "cell_type": "code",
   "execution_count": 118,
   "id": "e9e5aa1c-4f6b-420e-b377-df805817bda4",
   "metadata": {},
   "outputs": [
    {
     "data": {
      "image/png": "[encoded data removed]",
      "text/plain": [
       "<Figure size 700x600 with 2 Axes>"
      ]
     },
     "metadata": {},
     "output_type": "display_data"
    },
    {
     "name": "stdout",
     "output_type": "stream",
     "text": [
      "Classification Report\n",
      "              precision    recall  f1-score   support\n",
      "\n",
      "           0       0.98      0.97      0.97       410\n",
      "           1       0.97      0.97      0.97       374\n",
      "           2       0.93      0.95      0.94        84\n",
      "           3       0.88      0.94      0.91        95\n",
      "           4       0.98      0.91      0.95       104\n",
      "\n",
      "    accuracy                           0.96      1067\n",
      "   macro avg       0.95      0.95      0.95      1067\n",
      "weighted avg       0.96      0.96      0.96      1067\n",
      "\n"
     ]
    }
   ],
   "source": [
    "import torch\n",
    "import pandas as pd\n",
    "import seaborn as sns\n",
    "import matplotlib.pyplot as plt\n",
    "from sklearn.metrics import confusion_matrix, classification_report\n",
    "from torch.utils.data import TensorDataset, DataLoader\n",
    "\n",
    "# Set model to eval mode\n",
    "model.eval()\n",
    "\n",
    "# Convert test data to tensors\n",
    "X_test_tensor = torch.tensor(X_test, dtype=torch.float32)\n",
    "y_test_tensor = torch.tensor(y_test, dtype=torch.long)\n",
    "\n",
    "# Create DataLoader for batch prediction\n",
    "test_dataset = TensorDataset(X_test_tensor, y_test_tensor)\n",
    "test_loader = DataLoader(test_dataset, batch_size=128, shuffle=False)\n",
    "\n",
    "# Collect predictions\n",
    "all_preds = []\n",
    "all_targets = []\n",
    "\n",
    "with torch.no_grad():\n",
    "    for batch in test_loader:\n",
    "        x, y = batch\n",
    "        logits = model(x)\n",
    "        preds = torch.argmax(logits, dim=1)\n",
    "\n",
    "        all_preds.extend(preds.cpu().numpy())\n",
    "        all_targets.extend(y.cpu().numpy())\n",
    "\n",
    "# Plot confusion matrix and classification report\n",
    "def print_confusion_matrix(y_true, y_pred, report=True):\n",
    "    labels = sorted(list(set(y_true)))\n",
    "    cmx_data = confusion_matrix(y_true, y_pred, labels=labels)\n",
    "    \n",
    "    df_cmx = pd.DataFrame(cmx_data, index=labels, columns=labels)\n",
    " \n",
    "    fig, ax = plt.subplots(figsize=(7, 6))\n",
    "    sns.heatmap(df_cmx, annot=True, fmt='g', square=False, cmap='Blues')\n",
    "    ax.set_ylim(len(labels), 0)\n",
    "    ax.set_xlabel('Predicted')\n",
    "    ax.set_ylabel('True')\n",
    "    plt.title(\"Confusion Matrix\")\n",
    "    plt.show()\n",
    "    \n",
    "    if report:\n",
    "        print('Classification Report')\n",
    "        print(classification_report(y_true, y_pred))\n",
    "\n",
    "# Show results\n",
    "print_confusion_matrix(all_targets, all_preds)\n"
   ]
  },
  {
   "cell_type": "code",
   "execution_count": 119,
   "id": "7257b297-7eb2-4567-9941-0c1ecbaef901",
   "metadata": {},
   "outputs": [],
   "source": [
    "# Save only the weights\n",
    "torch.save(model.state_dict(), \"model/keypoint_classifier/keypoint_classifier_weights.pth\")\n"
   ]
  },
  {
   "cell_type": "code",
   "execution_count": 120,
   "id": "375c6191-f06b-49b3-9381-cb6f3331310e",
   "metadata": {},
   "outputs": [
    {
     "name": "stdout",
     "output_type": "stream",
     "text": [
      "[1.3644946e-01 7.0029190e-03 8.5537010e-01 2.2372842e-06 1.1752991e-03]\n",
      "2\n"
     ]
    },
    {
     "name": "stderr",
     "output_type": "stream",
     "text": [
      "C:\\Users\\houci\\AppData\\Local\\Temp\\ipykernel_13940\\3493685169.py:10: FutureWarning: You are using `torch.load` with `weights_only=False` (the current default value), which uses the default pickle module implicitly. It is possible to construct malicious pickle data which will execute arbitrary code during unpickling (See https://github.com/pytorch/pytorch/blob/main/SECURITY.md#untrusted-models for more details). In a future release, the default value for `weights_only` will be flipped to `True`. This limits the functions that could be executed during unpickling. Arbitrary objects will no longer be allowed to be loaded via this mode unless they are explicitly allowlisted by the user via `torch.serialization.add_safe_globals`. We recommend you start setting `weights_only=True` for any use case where you don't have full control of the loaded file. Please open an issue on GitHub for any issues related to this experimental feature.\n",
      "  model.load_state_dict(torch.load(\"model/keypoint_classifier/keypoint_classifier_weights.pth\"))\n"
     ]
    }
   ],
   "source": [
    "from model.keypoint_classifier.keypoint_classifier_pyt import KeyPointClassifier\n",
    "\n",
    "  # your model definition\n",
    "import torch\n",
    "\n",
    "# Rebuild the model architecture\n",
    "model = KeypointClassifier()\n",
    "\n",
    "# Load the saved weights\n",
    "model.load_state_dict(torch.load(\"model/keypoint_classifier/keypoint_classifier_weights.pth\"))\n",
    "model.eval()\n",
    "\n",
    "\n",
    "# Prepare input tensor (e.g., one sample from X_test)\n",
    "input_tensor = torch.tensor([X_test[0]], dtype=torch.float32)\n",
    "\n",
    "# Inference\n",
    "with torch.no_grad():\n",
    "    output = model(input_tensor)\n",
    "    probs = torch.softmax(output, dim=1).squeeze()\n",
    "    predicted_class = torch.argmax(probs).item()\n",
    "\n",
    "# Output results\n",
    "print(probs.numpy())\n",
    "print(predicted_class)\n"
   ]
  },
  {
   "cell_type": "code",
   "execution_count": null,
   "id": "c4c93bb5-f06a-4dae-8566-71d9d1799973",
   "metadata": {},
   "outputs": [],
   "source": []
  },
  {
   "cell_type": "code",
   "execution_count": null,
   "id": "ce28877d-6972-4adc-87e1-3799f08e5463",
   "metadata": {},
   "outputs": [],
   "source": []
  }
 ],
 "metadata": {
  "kernelspec": {
   "display_name": "Python (Torch)",
   "language": "python",
   "name": "torch_env"
  },
  "language_info": {
   "codemirror_mode": {
    "name": "ipython",
    "version": 3
   },
   "file_extension": ".py",
   "mimetype": "text/x-python",
   "name": "python",
   "nbconvert_exporter": "python",
   "pygments_lexer": "ipython3",
   "version": "3.8.10"
  }
 },
 "nbformat": 4,
 "nbformat_minor": 5
}
